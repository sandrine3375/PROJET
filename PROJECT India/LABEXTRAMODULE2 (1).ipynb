{
 "cells": [
  {
   "cell_type": "markdown",
   "metadata": {
    "id": "bgx66llINAs1"
   },
   "source": [
    "# Interactive Visualization Lab\n",
    "\n",
    "Complete the following set of exercises to solidify your knowledge of interactive visualization using Plotly, Cufflinks, and IPyWidgets."
   ]
  },
  {
   "cell_type": "code",
   "execution_count": 1,
   "metadata": {
    "colab": {
     "base_uri": "https://localhost:8080/",
     "height": 17
    },
    "id": "Bd1NfGejNAs5",
    "outputId": "a3351317-4659-4319-d103-260ed437b54c"
   },
   "outputs": [
    {
     "data": {
      "text/html": [
       "        <script type=\"text/javascript\">\n",
       "        window.PlotlyConfig = {MathJaxConfig: 'local'};\n",
       "        if (window.MathJax) {MathJax.Hub.Config({SVG: {font: \"STIX-Web\"}});}\n",
       "        if (typeof require !== 'undefined') {\n",
       "        require.undef(\"plotly\");\n",
       "        requirejs.config({\n",
       "            paths: {\n",
       "                'plotly': ['https://cdn.plot.ly/plotly-2.8.3.min']\n",
       "            }\n",
       "        });\n",
       "        require(['plotly'], function(Plotly) {\n",
       "            window._Plotly = Plotly;\n",
       "        });\n",
       "        }\n",
       "        </script>\n",
       "        "
      ]
     },
     "metadata": {},
     "output_type": "display_data"
    }
   ],
   "source": [
    "import pandas as pd;\n",
    "import plotly.offline as py;\n",
    "from plotly import tools;\n",
    "import plotly.graph_objs as go;\n",
    "import warnings;\n",
    "from ipywidgets import interact;\n",
    "\n",
    "warnings.filterwarnings('ignore')\n",
    "py.init_notebook_mode(connected=True)"
   ]
  },
  {
   "cell_type": "code",
   "execution_count": 2,
   "metadata": {
    "colab": {
     "base_uri": "https://localhost:8080/",
     "height": 328
    },
    "id": "zzrhxOv-NAs8",
    "outputId": "903bbb1a-6984-443c-b466-2a5d02c8b65e"
   },
   "outputs": [
    {
     "data": {
      "text/html": [
       "<div>\n",
       "<style scoped>\n",
       "    .dataframe tbody tr th:only-of-type {\n",
       "        vertical-align: middle;\n",
       "    }\n",
       "\n",
       "    .dataframe tbody tr th {\n",
       "        vertical-align: top;\n",
       "    }\n",
       "\n",
       "    .dataframe thead th {\n",
       "        text-align: right;\n",
       "    }\n",
       "</style>\n",
       "<table border=\"1\" class=\"dataframe\">\n",
       "  <thead>\n",
       "    <tr style=\"text-align: right;\">\n",
       "      <th></th>\n",
       "      <th>InvoiceNo</th>\n",
       "      <th>InvoiceDate</th>\n",
       "      <th>StockCode</th>\n",
       "      <th>Description</th>\n",
       "      <th>Quantity</th>\n",
       "      <th>UnitPrice</th>\n",
       "      <th>Revenue</th>\n",
       "      <th>CustomerID</th>\n",
       "      <th>Country</th>\n",
       "    </tr>\n",
       "  </thead>\n",
       "  <tbody>\n",
       "    <tr>\n",
       "      <th>0</th>\n",
       "      <td>536365</td>\n",
       "      <td>2010-12-01 08:26:00</td>\n",
       "      <td>85123A</td>\n",
       "      <td>CREAM HANGING HEART T-LIGHT HOLDER</td>\n",
       "      <td>6</td>\n",
       "      <td>2.55</td>\n",
       "      <td>15.3</td>\n",
       "      <td>17850</td>\n",
       "      <td>United Kingdom</td>\n",
       "    </tr>\n",
       "    <tr>\n",
       "      <th>1</th>\n",
       "      <td>536373</td>\n",
       "      <td>2010-12-01 09:02:00</td>\n",
       "      <td>85123A</td>\n",
       "      <td>CREAM HANGING HEART T-LIGHT HOLDER</td>\n",
       "      <td>6</td>\n",
       "      <td>2.55</td>\n",
       "      <td>15.3</td>\n",
       "      <td>17850</td>\n",
       "      <td>United Kingdom</td>\n",
       "    </tr>\n",
       "    <tr>\n",
       "      <th>2</th>\n",
       "      <td>536375</td>\n",
       "      <td>2010-12-01 09:32:00</td>\n",
       "      <td>85123A</td>\n",
       "      <td>CREAM HANGING HEART T-LIGHT HOLDER</td>\n",
       "      <td>6</td>\n",
       "      <td>2.55</td>\n",
       "      <td>15.3</td>\n",
       "      <td>17850</td>\n",
       "      <td>United Kingdom</td>\n",
       "    </tr>\n",
       "    <tr>\n",
       "      <th>3</th>\n",
       "      <td>536390</td>\n",
       "      <td>2010-12-01 10:19:00</td>\n",
       "      <td>85123A</td>\n",
       "      <td>CREAM HANGING HEART T-LIGHT HOLDER</td>\n",
       "      <td>64</td>\n",
       "      <td>2.55</td>\n",
       "      <td>163.2</td>\n",
       "      <td>17511</td>\n",
       "      <td>United Kingdom</td>\n",
       "    </tr>\n",
       "    <tr>\n",
       "      <th>4</th>\n",
       "      <td>536394</td>\n",
       "      <td>2010-12-01 10:39:00</td>\n",
       "      <td>85123A</td>\n",
       "      <td>CREAM HANGING HEART T-LIGHT HOLDER</td>\n",
       "      <td>32</td>\n",
       "      <td>2.55</td>\n",
       "      <td>81.6</td>\n",
       "      <td>13408</td>\n",
       "      <td>United Kingdom</td>\n",
       "    </tr>\n",
       "  </tbody>\n",
       "</table>\n",
       "</div>"
      ],
      "text/plain": [
       "   InvoiceNo         InvoiceDate StockCode  \\\n",
       "0     536365 2010-12-01 08:26:00    85123A   \n",
       "1     536373 2010-12-01 09:02:00    85123A   \n",
       "2     536375 2010-12-01 09:32:00    85123A   \n",
       "3     536390 2010-12-01 10:19:00    85123A   \n",
       "4     536394 2010-12-01 10:39:00    85123A   \n",
       "\n",
       "                          Description  Quantity  UnitPrice  Revenue  \\\n",
       "0  CREAM HANGING HEART T-LIGHT HOLDER         6       2.55     15.3   \n",
       "1  CREAM HANGING HEART T-LIGHT HOLDER         6       2.55     15.3   \n",
       "2  CREAM HANGING HEART T-LIGHT HOLDER         6       2.55     15.3   \n",
       "3  CREAM HANGING HEART T-LIGHT HOLDER        64       2.55    163.2   \n",
       "4  CREAM HANGING HEART T-LIGHT HOLDER        32       2.55     81.6   \n",
       "\n",
       "   CustomerID         Country  \n",
       "0       17850  United Kingdom  \n",
       "1       17850  United Kingdom  \n",
       "2       17850  United Kingdom  \n",
       "3       17511  United Kingdom  \n",
       "4       13408  United Kingdom  "
      ]
     },
     "execution_count": 2,
     "metadata": {},
     "output_type": "execute_result"
    }
   ],
   "source": [
    "data=pd.read_excel(r'C:\\Users\\Lenovo\\Documents\\Ironhack\\DATA\\Online Retail.xlsx')\n",
    "data.head()"
   ]
  },
  {
   "cell_type": "markdown",
   "metadata": {
    "id": "yksInHB4NAs9"
   },
   "source": [
    "#### 1. Create an interactive bar chart showing total quantity and revenue by country (excluding United Kingdom) for the month of April 2011."
   ]
  },
  {
   "cell_type": "code",
   "execution_count": 5,
   "metadata": {
    "id": "cRvqI28DNAs9"
   },
   "outputs": [],
   "source": [
    "# selection of month, creation of a column month, one month refers by number\n",
    "data['month'] = pd.DatetimeIndex(data['InvoiceDate']).month\n",
    "data['month']\n"
   ]
  },
  {
   "cell_type": "code",
   "execution_count": 6,
   "metadata": {
    "id": "cRvqI28DNAs9"
   },
   "outputs": [
    {
     "data": {
      "text/html": [
       "<div>\n",
       "<style scoped>\n",
       "    .dataframe tbody tr th:only-of-type {\n",
       "        vertical-align: middle;\n",
       "    }\n",
       "\n",
       "    .dataframe tbody tr th {\n",
       "        vertical-align: top;\n",
       "    }\n",
       "\n",
       "    .dataframe thead th {\n",
       "        text-align: right;\n",
       "    }\n",
       "</style>\n",
       "<table border=\"1\" class=\"dataframe\">\n",
       "  <thead>\n",
       "    <tr style=\"text-align: right;\">\n",
       "      <th></th>\n",
       "      <th>InvoiceNo</th>\n",
       "      <th>InvoiceDate</th>\n",
       "      <th>StockCode</th>\n",
       "      <th>Description</th>\n",
       "      <th>Quantity</th>\n",
       "      <th>UnitPrice</th>\n",
       "      <th>Revenue</th>\n",
       "      <th>CustomerID</th>\n",
       "      <th>Country</th>\n",
       "      <th>month</th>\n",
       "    </tr>\n",
       "  </thead>\n",
       "  <tbody>\n",
       "    <tr>\n",
       "      <th>665</th>\n",
       "      <td>548550</td>\n",
       "      <td>2011-04-01 08:22:00</td>\n",
       "      <td>85123A</td>\n",
       "      <td>CREAM HANGING HEART T-LIGHT HOLDER</td>\n",
       "      <td>6</td>\n",
       "      <td>2.95</td>\n",
       "      <td>17.70</td>\n",
       "      <td>18161</td>\n",
       "      <td>United Kingdom</td>\n",
       "      <td>4</td>\n",
       "    </tr>\n",
       "    <tr>\n",
       "      <th>666</th>\n",
       "      <td>548552</td>\n",
       "      <td>2011-04-01 09:06:00</td>\n",
       "      <td>85123A</td>\n",
       "      <td>CREAM HANGING HEART T-LIGHT HOLDER</td>\n",
       "      <td>12</td>\n",
       "      <td>2.95</td>\n",
       "      <td>35.40</td>\n",
       "      <td>17613</td>\n",
       "      <td>United Kingdom</td>\n",
       "      <td>4</td>\n",
       "    </tr>\n",
       "    <tr>\n",
       "      <th>667</th>\n",
       "      <td>548560</td>\n",
       "      <td>2011-04-01 10:10:00</td>\n",
       "      <td>85123A</td>\n",
       "      <td>CREAM HANGING HEART T-LIGHT HOLDER</td>\n",
       "      <td>32</td>\n",
       "      <td>2.55</td>\n",
       "      <td>81.60</td>\n",
       "      <td>13468</td>\n",
       "      <td>United Kingdom</td>\n",
       "      <td>4</td>\n",
       "    </tr>\n",
       "    <tr>\n",
       "      <th>668</th>\n",
       "      <td>548561</td>\n",
       "      <td>2011-04-01 10:11:00</td>\n",
       "      <td>85123A</td>\n",
       "      <td>CREAM HANGING HEART T-LIGHT HOLDER</td>\n",
       "      <td>6</td>\n",
       "      <td>2.95</td>\n",
       "      <td>17.70</td>\n",
       "      <td>16609</td>\n",
       "      <td>United Kingdom</td>\n",
       "      <td>4</td>\n",
       "    </tr>\n",
       "    <tr>\n",
       "      <th>669</th>\n",
       "      <td>548610</td>\n",
       "      <td>2011-04-01 11:28:00</td>\n",
       "      <td>85123A</td>\n",
       "      <td>CREAM HANGING HEART T-LIGHT HOLDER</td>\n",
       "      <td>1</td>\n",
       "      <td>2.95</td>\n",
       "      <td>2.95</td>\n",
       "      <td>15860</td>\n",
       "      <td>United Kingdom</td>\n",
       "      <td>4</td>\n",
       "    </tr>\n",
       "    <tr>\n",
       "      <th>...</th>\n",
       "      <td>...</td>\n",
       "      <td>...</td>\n",
       "      <td>...</td>\n",
       "      <td>...</td>\n",
       "      <td>...</td>\n",
       "      <td>...</td>\n",
       "      <td>...</td>\n",
       "      <td>...</td>\n",
       "      <td>...</td>\n",
       "      <td>...</td>\n",
       "    </tr>\n",
       "    <tr>\n",
       "      <th>333694</th>\n",
       "      <td>551414</td>\n",
       "      <td>2011-04-28 13:35:00</td>\n",
       "      <td>23041</td>\n",
       "      <td>PAPER LANTERN 6 POINT SNOW STAR</td>\n",
       "      <td>8</td>\n",
       "      <td>4.15</td>\n",
       "      <td>33.20</td>\n",
       "      <td>15622</td>\n",
       "      <td>United Kingdom</td>\n",
       "      <td>4</td>\n",
       "    </tr>\n",
       "    <tr>\n",
       "      <th>333742</th>\n",
       "      <td>551414</td>\n",
       "      <td>2011-04-28 13:35:00</td>\n",
       "      <td>23040</td>\n",
       "      <td>PAPER LANTERN 9 POINT SNOW STAR</td>\n",
       "      <td>6</td>\n",
       "      <td>5.75</td>\n",
       "      <td>34.50</td>\n",
       "      <td>15622</td>\n",
       "      <td>United Kingdom</td>\n",
       "      <td>4</td>\n",
       "    </tr>\n",
       "    <tr>\n",
       "      <th>333780</th>\n",
       "      <td>551414</td>\n",
       "      <td>2011-04-28 13:35:00</td>\n",
       "      <td>23064</td>\n",
       "      <td>CINDERELLA CHANDELIER</td>\n",
       "      <td>1</td>\n",
       "      <td>49.95</td>\n",
       "      <td>49.95</td>\n",
       "      <td>15622</td>\n",
       "      <td>United Kingdom</td>\n",
       "      <td>4</td>\n",
       "    </tr>\n",
       "    <tr>\n",
       "      <th>333781</th>\n",
       "      <td>551462</td>\n",
       "      <td>2011-04-28 16:11:00</td>\n",
       "      <td>23064</td>\n",
       "      <td>CINDERELLA CHANDELIER</td>\n",
       "      <td>1</td>\n",
       "      <td>49.95</td>\n",
       "      <td>49.95</td>\n",
       "      <td>15210</td>\n",
       "      <td>United Kingdom</td>\n",
       "      <td>4</td>\n",
       "    </tr>\n",
       "    <tr>\n",
       "      <th>333802</th>\n",
       "      <td>551462</td>\n",
       "      <td>2011-04-28 16:11:00</td>\n",
       "      <td>85225</td>\n",
       "      <td>BLING KEY RING STAND</td>\n",
       "      <td>1</td>\n",
       "      <td>1.25</td>\n",
       "      <td>1.25</td>\n",
       "      <td>15210</td>\n",
       "      <td>United Kingdom</td>\n",
       "      <td>4</td>\n",
       "    </tr>\n",
       "  </tbody>\n",
       "</table>\n",
       "<p>22528 rows × 10 columns</p>\n",
       "</div>"
      ],
      "text/plain": [
       "        InvoiceNo         InvoiceDate StockCode  \\\n",
       "665        548550 2011-04-01 08:22:00    85123A   \n",
       "666        548552 2011-04-01 09:06:00    85123A   \n",
       "667        548560 2011-04-01 10:10:00    85123A   \n",
       "668        548561 2011-04-01 10:11:00    85123A   \n",
       "669        548610 2011-04-01 11:28:00    85123A   \n",
       "...           ...                 ...       ...   \n",
       "333694     551414 2011-04-28 13:35:00     23041   \n",
       "333742     551414 2011-04-28 13:35:00     23040   \n",
       "333780     551414 2011-04-28 13:35:00     23064   \n",
       "333781     551462 2011-04-28 16:11:00     23064   \n",
       "333802     551462 2011-04-28 16:11:00     85225   \n",
       "\n",
       "                               Description  Quantity  UnitPrice  Revenue  \\\n",
       "665     CREAM HANGING HEART T-LIGHT HOLDER         6       2.95    17.70   \n",
       "666     CREAM HANGING HEART T-LIGHT HOLDER        12       2.95    35.40   \n",
       "667     CREAM HANGING HEART T-LIGHT HOLDER        32       2.55    81.60   \n",
       "668     CREAM HANGING HEART T-LIGHT HOLDER         6       2.95    17.70   \n",
       "669     CREAM HANGING HEART T-LIGHT HOLDER         1       2.95     2.95   \n",
       "...                                    ...       ...        ...      ...   \n",
       "333694     PAPER LANTERN 6 POINT SNOW STAR         8       4.15    33.20   \n",
       "333742     PAPER LANTERN 9 POINT SNOW STAR         6       5.75    34.50   \n",
       "333780              CINDERELLA CHANDELIER          1      49.95    49.95   \n",
       "333781              CINDERELLA CHANDELIER          1      49.95    49.95   \n",
       "333802                BLING KEY RING STAND         1       1.25     1.25   \n",
       "\n",
       "        CustomerID         Country  month  \n",
       "665          18161  United Kingdom      4  \n",
       "666          17613  United Kingdom      4  \n",
       "667          13468  United Kingdom      4  \n",
       "668          16609  United Kingdom      4  \n",
       "669          15860  United Kingdom      4  \n",
       "...            ...             ...    ...  \n",
       "333694       15622  United Kingdom      4  \n",
       "333742       15622  United Kingdom      4  \n",
       "333780       15622  United Kingdom      4  \n",
       "333781       15210  United Kingdom      4  \n",
       "333802       15210  United Kingdom      4  \n",
       "\n",
       "[22528 rows x 10 columns]"
      ]
     },
     "execution_count": 6,
     "metadata": {},
     "output_type": "execute_result"
    }
   ],
   "source": [
    "april = data[data['month']==4]\n",
    "april = april.drop(['United Kingdom'])\n",
    "april\n"
   ]
  },
  {
   "cell_type": "code",
   "execution_count": 10,
   "metadata": {},
   "outputs": [
    {
     "data": {
      "text/html": [
       "<div>\n",
       "<style scoped>\n",
       "    .dataframe tbody tr th:only-of-type {\n",
       "        vertical-align: middle;\n",
       "    }\n",
       "\n",
       "    .dataframe tbody tr th {\n",
       "        vertical-align: top;\n",
       "    }\n",
       "\n",
       "    .dataframe thead th {\n",
       "        text-align: right;\n",
       "    }\n",
       "</style>\n",
       "<table border=\"1\" class=\"dataframe\">\n",
       "  <thead>\n",
       "    <tr style=\"text-align: right;\">\n",
       "      <th></th>\n",
       "      <th>Country</th>\n",
       "      <th>Revenue</th>\n",
       "      <th>Quantity</th>\n",
       "    </tr>\n",
       "  </thead>\n",
       "  <tbody>\n",
       "    <tr>\n",
       "      <th>0</th>\n",
       "      <td>Australia</td>\n",
       "      <td>421.60</td>\n",
       "      <td>224</td>\n",
       "    </tr>\n",
       "    <tr>\n",
       "      <th>1</th>\n",
       "      <td>Austria</td>\n",
       "      <td>584.78</td>\n",
       "      <td>308</td>\n",
       "    </tr>\n",
       "    <tr>\n",
       "      <th>2</th>\n",
       "      <td>Belgium</td>\n",
       "      <td>1788.48</td>\n",
       "      <td>1170</td>\n",
       "    </tr>\n",
       "    <tr>\n",
       "      <th>3</th>\n",
       "      <td>Brazil</td>\n",
       "      <td>1143.60</td>\n",
       "      <td>356</td>\n",
       "    </tr>\n",
       "    <tr>\n",
       "      <th>4</th>\n",
       "      <td>Channel Islands</td>\n",
       "      <td>243.00</td>\n",
       "      <td>96</td>\n",
       "    </tr>\n",
       "    <tr>\n",
       "      <th>5</th>\n",
       "      <td>EIRE</td>\n",
       "      <td>7270.50</td>\n",
       "      <td>4129</td>\n",
       "    </tr>\n",
       "    <tr>\n",
       "      <th>6</th>\n",
       "      <td>Finland</td>\n",
       "      <td>1368.92</td>\n",
       "      <td>810</td>\n",
       "    </tr>\n",
       "    <tr>\n",
       "      <th>7</th>\n",
       "      <td>France</td>\n",
       "      <td>3899.31</td>\n",
       "      <td>2265</td>\n",
       "    </tr>\n",
       "    <tr>\n",
       "      <th>8</th>\n",
       "      <td>Germany</td>\n",
       "      <td>10994.79</td>\n",
       "      <td>5702</td>\n",
       "    </tr>\n",
       "    <tr>\n",
       "      <th>9</th>\n",
       "      <td>Greece</td>\n",
       "      <td>509.74</td>\n",
       "      <td>260</td>\n",
       "    </tr>\n",
       "    <tr>\n",
       "      <th>10</th>\n",
       "      <td>Iceland</td>\n",
       "      <td>636.25</td>\n",
       "      <td>483</td>\n",
       "    </tr>\n",
       "    <tr>\n",
       "      <th>11</th>\n",
       "      <td>Italy</td>\n",
       "      <td>737.83</td>\n",
       "      <td>653</td>\n",
       "    </tr>\n",
       "    <tr>\n",
       "      <th>12</th>\n",
       "      <td>Japan</td>\n",
       "      <td>6548.50</td>\n",
       "      <td>8058</td>\n",
       "    </tr>\n",
       "    <tr>\n",
       "      <th>13</th>\n",
       "      <td>Netherlands</td>\n",
       "      <td>2886.56</td>\n",
       "      <td>1762</td>\n",
       "    </tr>\n",
       "    <tr>\n",
       "      <th>14</th>\n",
       "      <td>Poland</td>\n",
       "      <td>705.84</td>\n",
       "      <td>432</td>\n",
       "    </tr>\n",
       "    <tr>\n",
       "      <th>15</th>\n",
       "      <td>Portugal</td>\n",
       "      <td>1687.75</td>\n",
       "      <td>951</td>\n",
       "    </tr>\n",
       "    <tr>\n",
       "      <th>16</th>\n",
       "      <td>Singapore</td>\n",
       "      <td>2118.74</td>\n",
       "      <td>1384</td>\n",
       "    </tr>\n",
       "    <tr>\n",
       "      <th>17</th>\n",
       "      <td>Spain</td>\n",
       "      <td>1645.65</td>\n",
       "      <td>948</td>\n",
       "    </tr>\n",
       "    <tr>\n",
       "      <th>18</th>\n",
       "      <td>Sweden</td>\n",
       "      <td>649.10</td>\n",
       "      <td>306</td>\n",
       "    </tr>\n",
       "    <tr>\n",
       "      <th>19</th>\n",
       "      <td>Switzerland</td>\n",
       "      <td>1756.94</td>\n",
       "      <td>878</td>\n",
       "    </tr>\n",
       "    <tr>\n",
       "      <th>20</th>\n",
       "      <td>USA</td>\n",
       "      <td>383.95</td>\n",
       "      <td>137</td>\n",
       "    </tr>\n",
       "  </tbody>\n",
       "</table>\n",
       "</div>"
      ],
      "text/plain": [
       "            Country   Revenue  Quantity\n",
       "0         Australia    421.60       224\n",
       "1           Austria    584.78       308\n",
       "2           Belgium   1788.48      1170\n",
       "3            Brazil   1143.60       356\n",
       "4   Channel Islands    243.00        96\n",
       "5              EIRE   7270.50      4129\n",
       "6           Finland   1368.92       810\n",
       "7            France   3899.31      2265\n",
       "8           Germany  10994.79      5702\n",
       "9            Greece    509.74       260\n",
       "10          Iceland    636.25       483\n",
       "11            Italy    737.83       653\n",
       "12            Japan   6548.50      8058\n",
       "13      Netherlands   2886.56      1762\n",
       "14           Poland    705.84       432\n",
       "15         Portugal   1687.75       951\n",
       "16        Singapore   2118.74      1384\n",
       "17            Spain   1645.65       948\n",
       "18           Sweden    649.10       306\n",
       "19      Switzerland   1756.94       878\n",
       "20              USA    383.95       137"
      ]
     },
     "execution_count": 10,
     "metadata": {},
     "output_type": "execute_result"
    }
   ],
   "source": [
    "april=april.groupby('Country')['Revenue', 'Quantity'].agg('sum')\n",
    "april=april.reset_index() #we need to have country in column and not in indeil\n",
    "april"
   ]
  },
  {
   "cell_type": "code",
   "execution_count": 11,
   "metadata": {
    "id": "YAZlj3jQNAs-",
    "outputId": "7345db26-94ad-4c40-b3fa-74694431de77"
   },
   "outputs": [
    {
     "data": {
      "application/vnd.plotly.v1+json": {
       "config": {
        "plotlyServerURL": "https://plot.ly"
       },
       "data": [
        {
         "alignmentgroup": "True",
         "hovertemplate": "Country=%{y}<br>Revenue=%{x}<extra></extra>",
         "legendgroup": "Australia",
         "marker": {
          "color": "#636efa",
          "pattern": {
           "shape": ""
          }
         },
         "name": "Australia",
         "offsetgroup": "Australia",
         "orientation": "h",
         "showlegend": true,
         "textposition": "auto",
         "type": "bar",
         "x": [
          421.6
         ],
         "xaxis": "x",
         "y": [
          "Australia"
         ],
         "yaxis": "y"
        },
        {
         "alignmentgroup": "True",
         "hovertemplate": "Country=%{y}<br>Revenue=%{x}<extra></extra>",
         "legendgroup": "Austria",
         "marker": {
          "color": "#EF553B",
          "pattern": {
           "shape": ""
          }
         },
         "name": "Austria",
         "offsetgroup": "Austria",
         "orientation": "h",
         "showlegend": true,
         "textposition": "auto",
         "type": "bar",
         "x": [
          584.78
         ],
         "xaxis": "x",
         "y": [
          "Austria"
         ],
         "yaxis": "y"
        },
        {
         "alignmentgroup": "True",
         "hovertemplate": "Country=%{y}<br>Revenue=%{x}<extra></extra>",
         "legendgroup": "Belgium",
         "marker": {
          "color": "#00cc96",
          "pattern": {
           "shape": ""
          }
         },
         "name": "Belgium",
         "offsetgroup": "Belgium",
         "orientation": "h",
         "showlegend": true,
         "textposition": "auto",
         "type": "bar",
         "x": [
          1788.48
         ],
         "xaxis": "x",
         "y": [
          "Belgium"
         ],
         "yaxis": "y"
        },
        {
         "alignmentgroup": "True",
         "hovertemplate": "Country=%{y}<br>Revenue=%{x}<extra></extra>",
         "legendgroup": "Brazil",
         "marker": {
          "color": "#ab63fa",
          "pattern": {
           "shape": ""
          }
         },
         "name": "Brazil",
         "offsetgroup": "Brazil",
         "orientation": "h",
         "showlegend": true,
         "textposition": "auto",
         "type": "bar",
         "x": [
          1143.6
         ],
         "xaxis": "x",
         "y": [
          "Brazil"
         ],
         "yaxis": "y"
        },
        {
         "alignmentgroup": "True",
         "hovertemplate": "Country=%{y}<br>Revenue=%{x}<extra></extra>",
         "legendgroup": "Channel Islands",
         "marker": {
          "color": "#FFA15A",
          "pattern": {
           "shape": ""
          }
         },
         "name": "Channel Islands",
         "offsetgroup": "Channel Islands",
         "orientation": "h",
         "showlegend": true,
         "textposition": "auto",
         "type": "bar",
         "x": [
          243
         ],
         "xaxis": "x",
         "y": [
          "Channel Islands"
         ],
         "yaxis": "y"
        },
        {
         "alignmentgroup": "True",
         "hovertemplate": "Country=%{y}<br>Revenue=%{x}<extra></extra>",
         "legendgroup": "EIRE",
         "marker": {
          "color": "#19d3f3",
          "pattern": {
           "shape": ""
          }
         },
         "name": "EIRE",
         "offsetgroup": "EIRE",
         "orientation": "h",
         "showlegend": true,
         "textposition": "auto",
         "type": "bar",
         "x": [
          7270.5
         ],
         "xaxis": "x",
         "y": [
          "EIRE"
         ],
         "yaxis": "y"
        },
        {
         "alignmentgroup": "True",
         "hovertemplate": "Country=%{y}<br>Revenue=%{x}<extra></extra>",
         "legendgroup": "Finland",
         "marker": {
          "color": "#FF6692",
          "pattern": {
           "shape": ""
          }
         },
         "name": "Finland",
         "offsetgroup": "Finland",
         "orientation": "h",
         "showlegend": true,
         "textposition": "auto",
         "type": "bar",
         "x": [
          1368.92
         ],
         "xaxis": "x",
         "y": [
          "Finland"
         ],
         "yaxis": "y"
        },
        {
         "alignmentgroup": "True",
         "hovertemplate": "Country=%{y}<br>Revenue=%{x}<extra></extra>",
         "legendgroup": "France",
         "marker": {
          "color": "#B6E880",
          "pattern": {
           "shape": ""
          }
         },
         "name": "France",
         "offsetgroup": "France",
         "orientation": "h",
         "showlegend": true,
         "textposition": "auto",
         "type": "bar",
         "x": [
          3899.31
         ],
         "xaxis": "x",
         "y": [
          "France"
         ],
         "yaxis": "y"
        },
        {
         "alignmentgroup": "True",
         "hovertemplate": "Country=%{y}<br>Revenue=%{x}<extra></extra>",
         "legendgroup": "Germany",
         "marker": {
          "color": "#FF97FF",
          "pattern": {
           "shape": ""
          }
         },
         "name": "Germany",
         "offsetgroup": "Germany",
         "orientation": "h",
         "showlegend": true,
         "textposition": "auto",
         "type": "bar",
         "x": [
          10994.79
         ],
         "xaxis": "x",
         "y": [
          "Germany"
         ],
         "yaxis": "y"
        },
        {
         "alignmentgroup": "True",
         "hovertemplate": "Country=%{y}<br>Revenue=%{x}<extra></extra>",
         "legendgroup": "Greece",
         "marker": {
          "color": "#FECB52",
          "pattern": {
           "shape": ""
          }
         },
         "name": "Greece",
         "offsetgroup": "Greece",
         "orientation": "h",
         "showlegend": true,
         "textposition": "auto",
         "type": "bar",
         "x": [
          509.74
         ],
         "xaxis": "x",
         "y": [
          "Greece"
         ],
         "yaxis": "y"
        },
        {
         "alignmentgroup": "True",
         "hovertemplate": "Country=%{y}<br>Revenue=%{x}<extra></extra>",
         "legendgroup": "Iceland",
         "marker": {
          "color": "#636efa",
          "pattern": {
           "shape": ""
          }
         },
         "name": "Iceland",
         "offsetgroup": "Iceland",
         "orientation": "h",
         "showlegend": true,
         "textposition": "auto",
         "type": "bar",
         "x": [
          636.25
         ],
         "xaxis": "x",
         "y": [
          "Iceland"
         ],
         "yaxis": "y"
        },
        {
         "alignmentgroup": "True",
         "hovertemplate": "Country=%{y}<br>Revenue=%{x}<extra></extra>",
         "legendgroup": "Italy",
         "marker": {
          "color": "#EF553B",
          "pattern": {
           "shape": ""
          }
         },
         "name": "Italy",
         "offsetgroup": "Italy",
         "orientation": "h",
         "showlegend": true,
         "textposition": "auto",
         "type": "bar",
         "x": [
          737.83
         ],
         "xaxis": "x",
         "y": [
          "Italy"
         ],
         "yaxis": "y"
        },
        {
         "alignmentgroup": "True",
         "hovertemplate": "Country=%{y}<br>Revenue=%{x}<extra></extra>",
         "legendgroup": "Japan",
         "marker": {
          "color": "#00cc96",
          "pattern": {
           "shape": ""
          }
         },
         "name": "Japan",
         "offsetgroup": "Japan",
         "orientation": "h",
         "showlegend": true,
         "textposition": "auto",
         "type": "bar",
         "x": [
          6548.5
         ],
         "xaxis": "x",
         "y": [
          "Japan"
         ],
         "yaxis": "y"
        },
        {
         "alignmentgroup": "True",
         "hovertemplate": "Country=%{y}<br>Revenue=%{x}<extra></extra>",
         "legendgroup": "Netherlands",
         "marker": {
          "color": "#ab63fa",
          "pattern": {
           "shape": ""
          }
         },
         "name": "Netherlands",
         "offsetgroup": "Netherlands",
         "orientation": "h",
         "showlegend": true,
         "textposition": "auto",
         "type": "bar",
         "x": [
          2886.56
         ],
         "xaxis": "x",
         "y": [
          "Netherlands"
         ],
         "yaxis": "y"
        },
        {
         "alignmentgroup": "True",
         "hovertemplate": "Country=%{y}<br>Revenue=%{x}<extra></extra>",
         "legendgroup": "Poland",
         "marker": {
          "color": "#FFA15A",
          "pattern": {
           "shape": ""
          }
         },
         "name": "Poland",
         "offsetgroup": "Poland",
         "orientation": "h",
         "showlegend": true,
         "textposition": "auto",
         "type": "bar",
         "x": [
          705.8399999999999
         ],
         "xaxis": "x",
         "y": [
          "Poland"
         ],
         "yaxis": "y"
        },
        {
         "alignmentgroup": "True",
         "hovertemplate": "Country=%{y}<br>Revenue=%{x}<extra></extra>",
         "legendgroup": "Portugal",
         "marker": {
          "color": "#19d3f3",
          "pattern": {
           "shape": ""
          }
         },
         "name": "Portugal",
         "offsetgroup": "Portugal",
         "orientation": "h",
         "showlegend": true,
         "textposition": "auto",
         "type": "bar",
         "x": [
          1687.75
         ],
         "xaxis": "x",
         "y": [
          "Portugal"
         ],
         "yaxis": "y"
        },
        {
         "alignmentgroup": "True",
         "hovertemplate": "Country=%{y}<br>Revenue=%{x}<extra></extra>",
         "legendgroup": "Singapore",
         "marker": {
          "color": "#FF6692",
          "pattern": {
           "shape": ""
          }
         },
         "name": "Singapore",
         "offsetgroup": "Singapore",
         "orientation": "h",
         "showlegend": true,
         "textposition": "auto",
         "type": "bar",
         "x": [
          2118.74
         ],
         "xaxis": "x",
         "y": [
          "Singapore"
         ],
         "yaxis": "y"
        },
        {
         "alignmentgroup": "True",
         "hovertemplate": "Country=%{y}<br>Revenue=%{x}<extra></extra>",
         "legendgroup": "Spain",
         "marker": {
          "color": "#B6E880",
          "pattern": {
           "shape": ""
          }
         },
         "name": "Spain",
         "offsetgroup": "Spain",
         "orientation": "h",
         "showlegend": true,
         "textposition": "auto",
         "type": "bar",
         "x": [
          1645.65
         ],
         "xaxis": "x",
         "y": [
          "Spain"
         ],
         "yaxis": "y"
        },
        {
         "alignmentgroup": "True",
         "hovertemplate": "Country=%{y}<br>Revenue=%{x}<extra></extra>",
         "legendgroup": "Sweden",
         "marker": {
          "color": "#FF97FF",
          "pattern": {
           "shape": ""
          }
         },
         "name": "Sweden",
         "offsetgroup": "Sweden",
         "orientation": "h",
         "showlegend": true,
         "textposition": "auto",
         "type": "bar",
         "x": [
          649.1
         ],
         "xaxis": "x",
         "y": [
          "Sweden"
         ],
         "yaxis": "y"
        },
        {
         "alignmentgroup": "True",
         "hovertemplate": "Country=%{y}<br>Revenue=%{x}<extra></extra>",
         "legendgroup": "Switzerland",
         "marker": {
          "color": "#FECB52",
          "pattern": {
           "shape": ""
          }
         },
         "name": "Switzerland",
         "offsetgroup": "Switzerland",
         "orientation": "h",
         "showlegend": true,
         "textposition": "auto",
         "type": "bar",
         "x": [
          1756.94
         ],
         "xaxis": "x",
         "y": [
          "Switzerland"
         ],
         "yaxis": "y"
        },
        {
         "alignmentgroup": "True",
         "hovertemplate": "Country=%{y}<br>Revenue=%{x}<extra></extra>",
         "legendgroup": "USA",
         "marker": {
          "color": "#636efa",
          "pattern": {
           "shape": ""
          }
         },
         "name": "USA",
         "offsetgroup": "USA",
         "orientation": "h",
         "showlegend": true,
         "textposition": "auto",
         "type": "bar",
         "x": [
          383.95
         ],
         "xaxis": "x",
         "y": [
          "USA"
         ],
         "yaxis": "y"
        }
       ],
       "layout": {
        "barmode": "relative",
        "legend": {
         "title": {
          "text": "Country"
         },
         "tracegroupgap": 0
        },
        "margin": {
         "t": 60
        },
        "template": {
         "data": {
          "bar": [
           {
            "error_x": {
             "color": "#2a3f5f"
            },
            "error_y": {
             "color": "#2a3f5f"
            },
            "marker": {
             "line": {
              "color": "#E5ECF6",
              "width": 0.5
             },
             "pattern": {
              "fillmode": "overlay",
              "size": 10,
              "solidity": 0.2
             }
            },
            "type": "bar"
           }
          ],
          "barpolar": [
           {
            "marker": {
             "line": {
              "color": "#E5ECF6",
              "width": 0.5
             },
             "pattern": {
              "fillmode": "overlay",
              "size": 10,
              "solidity": 0.2
             }
            },
            "type": "barpolar"
           }
          ],
          "carpet": [
           {
            "aaxis": {
             "endlinecolor": "#2a3f5f",
             "gridcolor": "white",
             "linecolor": "white",
             "minorgridcolor": "white",
             "startlinecolor": "#2a3f5f"
            },
            "baxis": {
             "endlinecolor": "#2a3f5f",
             "gridcolor": "white",
             "linecolor": "white",
             "minorgridcolor": "white",
             "startlinecolor": "#2a3f5f"
            },
            "type": "carpet"
           }
          ],
          "choropleth": [
           {
            "colorbar": {
             "outlinewidth": 0,
             "ticks": ""
            },
            "type": "choropleth"
           }
          ],
          "contour": [
           {
            "colorbar": {
             "outlinewidth": 0,
             "ticks": ""
            },
            "colorscale": [
             [
              0,
              "#0d0887"
             ],
             [
              0.1111111111111111,
              "#46039f"
             ],
             [
              0.2222222222222222,
              "#7201a8"
             ],
             [
              0.3333333333333333,
              "#9c179e"
             ],
             [
              0.4444444444444444,
              "#bd3786"
             ],
             [
              0.5555555555555556,
              "#d8576b"
             ],
             [
              0.6666666666666666,
              "#ed7953"
             ],
             [
              0.7777777777777778,
              "#fb9f3a"
             ],
             [
              0.8888888888888888,
              "#fdca26"
             ],
             [
              1,
              "#f0f921"
             ]
            ],
            "type": "contour"
           }
          ],
          "contourcarpet": [
           {
            "colorbar": {
             "outlinewidth": 0,
             "ticks": ""
            },
            "type": "contourcarpet"
           }
          ],
          "heatmap": [
           {
            "colorbar": {
             "outlinewidth": 0,
             "ticks": ""
            },
            "colorscale": [
             [
              0,
              "#0d0887"
             ],
             [
              0.1111111111111111,
              "#46039f"
             ],
             [
              0.2222222222222222,
              "#7201a8"
             ],
             [
              0.3333333333333333,
              "#9c179e"
             ],
             [
              0.4444444444444444,
              "#bd3786"
             ],
             [
              0.5555555555555556,
              "#d8576b"
             ],
             [
              0.6666666666666666,
              "#ed7953"
             ],
             [
              0.7777777777777778,
              "#fb9f3a"
             ],
             [
              0.8888888888888888,
              "#fdca26"
             ],
             [
              1,
              "#f0f921"
             ]
            ],
            "type": "heatmap"
           }
          ],
          "heatmapgl": [
           {
            "colorbar": {
             "outlinewidth": 0,
             "ticks": ""
            },
            "colorscale": [
             [
              0,
              "#0d0887"
             ],
             [
              0.1111111111111111,
              "#46039f"
             ],
             [
              0.2222222222222222,
              "#7201a8"
             ],
             [
              0.3333333333333333,
              "#9c179e"
             ],
             [
              0.4444444444444444,
              "#bd3786"
             ],
             [
              0.5555555555555556,
              "#d8576b"
             ],
             [
              0.6666666666666666,
              "#ed7953"
             ],
             [
              0.7777777777777778,
              "#fb9f3a"
             ],
             [
              0.8888888888888888,
              "#fdca26"
             ],
             [
              1,
              "#f0f921"
             ]
            ],
            "type": "heatmapgl"
           }
          ],
          "histogram": [
           {
            "marker": {
             "pattern": {
              "fillmode": "overlay",
              "size": 10,
              "solidity": 0.2
             }
            },
            "type": "histogram"
           }
          ],
          "histogram2d": [
           {
            "colorbar": {
             "outlinewidth": 0,
             "ticks": ""
            },
            "colorscale": [
             [
              0,
              "#0d0887"
             ],
             [
              0.1111111111111111,
              "#46039f"
             ],
             [
              0.2222222222222222,
              "#7201a8"
             ],
             [
              0.3333333333333333,
              "#9c179e"
             ],
             [
              0.4444444444444444,
              "#bd3786"
             ],
             [
              0.5555555555555556,
              "#d8576b"
             ],
             [
              0.6666666666666666,
              "#ed7953"
             ],
             [
              0.7777777777777778,
              "#fb9f3a"
             ],
             [
              0.8888888888888888,
              "#fdca26"
             ],
             [
              1,
              "#f0f921"
             ]
            ],
            "type": "histogram2d"
           }
          ],
          "histogram2dcontour": [
           {
            "colorbar": {
             "outlinewidth": 0,
             "ticks": ""
            },
            "colorscale": [
             [
              0,
              "#0d0887"
             ],
             [
              0.1111111111111111,
              "#46039f"
             ],
             [
              0.2222222222222222,
              "#7201a8"
             ],
             [
              0.3333333333333333,
              "#9c179e"
             ],
             [
              0.4444444444444444,
              "#bd3786"
             ],
             [
              0.5555555555555556,
              "#d8576b"
             ],
             [
              0.6666666666666666,
              "#ed7953"
             ],
             [
              0.7777777777777778,
              "#fb9f3a"
             ],
             [
              0.8888888888888888,
              "#fdca26"
             ],
             [
              1,
              "#f0f921"
             ]
            ],
            "type": "histogram2dcontour"
           }
          ],
          "mesh3d": [
           {
            "colorbar": {
             "outlinewidth": 0,
             "ticks": ""
            },
            "type": "mesh3d"
           }
          ],
          "parcoords": [
           {
            "line": {
             "colorbar": {
              "outlinewidth": 0,
              "ticks": ""
             }
            },
            "type": "parcoords"
           }
          ],
          "pie": [
           {
            "automargin": true,
            "type": "pie"
           }
          ],
          "scatter": [
           {
            "marker": {
             "colorbar": {
              "outlinewidth": 0,
              "ticks": ""
             }
            },
            "type": "scatter"
           }
          ],
          "scatter3d": [
           {
            "line": {
             "colorbar": {
              "outlinewidth": 0,
              "ticks": ""
             }
            },
            "marker": {
             "colorbar": {
              "outlinewidth": 0,
              "ticks": ""
             }
            },
            "type": "scatter3d"
           }
          ],
          "scattercarpet": [
           {
            "marker": {
             "colorbar": {
              "outlinewidth": 0,
              "ticks": ""
             }
            },
            "type": "scattercarpet"
           }
          ],
          "scattergeo": [
           {
            "marker": {
             "colorbar": {
              "outlinewidth": 0,
              "ticks": ""
             }
            },
            "type": "scattergeo"
           }
          ],
          "scattergl": [
           {
            "marker": {
             "colorbar": {
              "outlinewidth": 0,
              "ticks": ""
             }
            },
            "type": "scattergl"
           }
          ],
          "scattermapbox": [
           {
            "marker": {
             "colorbar": {
              "outlinewidth": 0,
              "ticks": ""
             }
            },
            "type": "scattermapbox"
           }
          ],
          "scatterpolar": [
           {
            "marker": {
             "colorbar": {
              "outlinewidth": 0,
              "ticks": ""
             }
            },
            "type": "scatterpolar"
           }
          ],
          "scatterpolargl": [
           {
            "marker": {
             "colorbar": {
              "outlinewidth": 0,
              "ticks": ""
             }
            },
            "type": "scatterpolargl"
           }
          ],
          "scatterternary": [
           {
            "marker": {
             "colorbar": {
              "outlinewidth": 0,
              "ticks": ""
             }
            },
            "type": "scatterternary"
           }
          ],
          "surface": [
           {
            "colorbar": {
             "outlinewidth": 0,
             "ticks": ""
            },
            "colorscale": [
             [
              0,
              "#0d0887"
             ],
             [
              0.1111111111111111,
              "#46039f"
             ],
             [
              0.2222222222222222,
              "#7201a8"
             ],
             [
              0.3333333333333333,
              "#9c179e"
             ],
             [
              0.4444444444444444,
              "#bd3786"
             ],
             [
              0.5555555555555556,
              "#d8576b"
             ],
             [
              0.6666666666666666,
              "#ed7953"
             ],
             [
              0.7777777777777778,
              "#fb9f3a"
             ],
             [
              0.8888888888888888,
              "#fdca26"
             ],
             [
              1,
              "#f0f921"
             ]
            ],
            "type": "surface"
           }
          ],
          "table": [
           {
            "cells": {
             "fill": {
              "color": "#EBF0F8"
             },
             "line": {
              "color": "white"
             }
            },
            "header": {
             "fill": {
              "color": "#C8D4E3"
             },
             "line": {
              "color": "white"
             }
            },
            "type": "table"
           }
          ]
         },
         "layout": {
          "annotationdefaults": {
           "arrowcolor": "#2a3f5f",
           "arrowhead": 0,
           "arrowwidth": 1
          },
          "autotypenumbers": "strict",
          "coloraxis": {
           "colorbar": {
            "outlinewidth": 0,
            "ticks": ""
           }
          },
          "colorscale": {
           "diverging": [
            [
             0,
             "#8e0152"
            ],
            [
             0.1,
             "#c51b7d"
            ],
            [
             0.2,
             "#de77ae"
            ],
            [
             0.3,
             "#f1b6da"
            ],
            [
             0.4,
             "#fde0ef"
            ],
            [
             0.5,
             "#f7f7f7"
            ],
            [
             0.6,
             "#e6f5d0"
            ],
            [
             0.7,
             "#b8e186"
            ],
            [
             0.8,
             "#7fbc41"
            ],
            [
             0.9,
             "#4d9221"
            ],
            [
             1,
             "#276419"
            ]
           ],
           "sequential": [
            [
             0,
             "#0d0887"
            ],
            [
             0.1111111111111111,
             "#46039f"
            ],
            [
             0.2222222222222222,
             "#7201a8"
            ],
            [
             0.3333333333333333,
             "#9c179e"
            ],
            [
             0.4444444444444444,
             "#bd3786"
            ],
            [
             0.5555555555555556,
             "#d8576b"
            ],
            [
             0.6666666666666666,
             "#ed7953"
            ],
            [
             0.7777777777777778,
             "#fb9f3a"
            ],
            [
             0.8888888888888888,
             "#fdca26"
            ],
            [
             1,
             "#f0f921"
            ]
           ],
           "sequentialminus": [
            [
             0,
             "#0d0887"
            ],
            [
             0.1111111111111111,
             "#46039f"
            ],
            [
             0.2222222222222222,
             "#7201a8"
            ],
            [
             0.3333333333333333,
             "#9c179e"
            ],
            [
             0.4444444444444444,
             "#bd3786"
            ],
            [
             0.5555555555555556,
             "#d8576b"
            ],
            [
             0.6666666666666666,
             "#ed7953"
            ],
            [
             0.7777777777777778,
             "#fb9f3a"
            ],
            [
             0.8888888888888888,
             "#fdca26"
            ],
            [
             1,
             "#f0f921"
            ]
           ]
          },
          "colorway": [
           "#636efa",
           "#EF553B",
           "#00cc96",
           "#ab63fa",
           "#FFA15A",
           "#19d3f3",
           "#FF6692",
           "#B6E880",
           "#FF97FF",
           "#FECB52"
          ],
          "font": {
           "color": "#2a3f5f"
          },
          "geo": {
           "bgcolor": "white",
           "lakecolor": "white",
           "landcolor": "#E5ECF6",
           "showlakes": true,
           "showland": true,
           "subunitcolor": "white"
          },
          "hoverlabel": {
           "align": "left"
          },
          "hovermode": "closest",
          "mapbox": {
           "style": "light"
          },
          "paper_bgcolor": "white",
          "plot_bgcolor": "#E5ECF6",
          "polar": {
           "angularaxis": {
            "gridcolor": "white",
            "linecolor": "white",
            "ticks": ""
           },
           "bgcolor": "#E5ECF6",
           "radialaxis": {
            "gridcolor": "white",
            "linecolor": "white",
            "ticks": ""
           }
          },
          "scene": {
           "xaxis": {
            "backgroundcolor": "#E5ECF6",
            "gridcolor": "white",
            "gridwidth": 2,
            "linecolor": "white",
            "showbackground": true,
            "ticks": "",
            "zerolinecolor": "white"
           },
           "yaxis": {
            "backgroundcolor": "#E5ECF6",
            "gridcolor": "white",
            "gridwidth": 2,
            "linecolor": "white",
            "showbackground": true,
            "ticks": "",
            "zerolinecolor": "white"
           },
           "zaxis": {
            "backgroundcolor": "#E5ECF6",
            "gridcolor": "white",
            "gridwidth": 2,
            "linecolor": "white",
            "showbackground": true,
            "ticks": "",
            "zerolinecolor": "white"
           }
          },
          "shapedefaults": {
           "line": {
            "color": "#2a3f5f"
           }
          },
          "ternary": {
           "aaxis": {
            "gridcolor": "white",
            "linecolor": "white",
            "ticks": ""
           },
           "baxis": {
            "gridcolor": "white",
            "linecolor": "white",
            "ticks": ""
           },
           "bgcolor": "#E5ECF6",
           "caxis": {
            "gridcolor": "white",
            "linecolor": "white",
            "ticks": ""
           }
          },
          "title": {
           "x": 0.05
          },
          "xaxis": {
           "automargin": true,
           "gridcolor": "white",
           "linecolor": "white",
           "ticks": "",
           "title": {
            "standoff": 15
           },
           "zerolinecolor": "white",
           "zerolinewidth": 2
          },
          "yaxis": {
           "automargin": true,
           "gridcolor": "white",
           "linecolor": "white",
           "ticks": "",
           "title": {
            "standoff": 15
           },
           "zerolinecolor": "white",
           "zerolinewidth": 2
          }
         }
        },
        "xaxis": {
         "anchor": "y",
         "domain": [
          0,
          1
         ],
         "title": {
          "text": "Revenue"
         }
        },
        "yaxis": {
         "anchor": "x",
         "categoryarray": [
          "USA",
          "Switzerland",
          "Sweden",
          "Spain",
          "Singapore",
          "Portugal",
          "Poland",
          "Netherlands",
          "Japan",
          "Italy",
          "Iceland",
          "Greece",
          "Germany",
          "France",
          "Finland",
          "EIRE",
          "Channel Islands",
          "Brazil",
          "Belgium",
          "Austria",
          "Australia"
         ],
         "categoryorder": "array",
         "domain": [
          0,
          1
         ],
         "title": {
          "text": "Country"
         }
        }
       }
      },
      "text/html": [
       "<div>                            <div id=\"84685584-5fb3-486f-b6c8-ced1a92e3206\" class=\"plotly-graph-div\" style=\"height:525px; width:100%;\"></div>            <script type=\"text/javascript\">                require([\"plotly\"], function(Plotly) {                    window.PLOTLYENV=window.PLOTLYENV || {};                                    if (document.getElementById(\"84685584-5fb3-486f-b6c8-ced1a92e3206\")) {                    Plotly.newPlot(                        \"84685584-5fb3-486f-b6c8-ced1a92e3206\",                        [{\"alignmentgroup\":\"True\",\"hovertemplate\":\"Country=%{y}<br>Revenue=%{x}<extra></extra>\",\"legendgroup\":\"Australia\",\"marker\":{\"color\":\"#636efa\",\"pattern\":{\"shape\":\"\"}},\"name\":\"Australia\",\"offsetgroup\":\"Australia\",\"orientation\":\"h\",\"showlegend\":true,\"textposition\":\"auto\",\"x\":[421.6],\"xaxis\":\"x\",\"y\":[\"Australia\"],\"yaxis\":\"y\",\"type\":\"bar\"},{\"alignmentgroup\":\"True\",\"hovertemplate\":\"Country=%{y}<br>Revenue=%{x}<extra></extra>\",\"legendgroup\":\"Austria\",\"marker\":{\"color\":\"#EF553B\",\"pattern\":{\"shape\":\"\"}},\"name\":\"Austria\",\"offsetgroup\":\"Austria\",\"orientation\":\"h\",\"showlegend\":true,\"textposition\":\"auto\",\"x\":[584.78],\"xaxis\":\"x\",\"y\":[\"Austria\"],\"yaxis\":\"y\",\"type\":\"bar\"},{\"alignmentgroup\":\"True\",\"hovertemplate\":\"Country=%{y}<br>Revenue=%{x}<extra></extra>\",\"legendgroup\":\"Belgium\",\"marker\":{\"color\":\"#00cc96\",\"pattern\":{\"shape\":\"\"}},\"name\":\"Belgium\",\"offsetgroup\":\"Belgium\",\"orientation\":\"h\",\"showlegend\":true,\"textposition\":\"auto\",\"x\":[1788.48],\"xaxis\":\"x\",\"y\":[\"Belgium\"],\"yaxis\":\"y\",\"type\":\"bar\"},{\"alignmentgroup\":\"True\",\"hovertemplate\":\"Country=%{y}<br>Revenue=%{x}<extra></extra>\",\"legendgroup\":\"Brazil\",\"marker\":{\"color\":\"#ab63fa\",\"pattern\":{\"shape\":\"\"}},\"name\":\"Brazil\",\"offsetgroup\":\"Brazil\",\"orientation\":\"h\",\"showlegend\":true,\"textposition\":\"auto\",\"x\":[1143.6],\"xaxis\":\"x\",\"y\":[\"Brazil\"],\"yaxis\":\"y\",\"type\":\"bar\"},{\"alignmentgroup\":\"True\",\"hovertemplate\":\"Country=%{y}<br>Revenue=%{x}<extra></extra>\",\"legendgroup\":\"Channel Islands\",\"marker\":{\"color\":\"#FFA15A\",\"pattern\":{\"shape\":\"\"}},\"name\":\"Channel Islands\",\"offsetgroup\":\"Channel Islands\",\"orientation\":\"h\",\"showlegend\":true,\"textposition\":\"auto\",\"x\":[243.0],\"xaxis\":\"x\",\"y\":[\"Channel Islands\"],\"yaxis\":\"y\",\"type\":\"bar\"},{\"alignmentgroup\":\"True\",\"hovertemplate\":\"Country=%{y}<br>Revenue=%{x}<extra></extra>\",\"legendgroup\":\"EIRE\",\"marker\":{\"color\":\"#19d3f3\",\"pattern\":{\"shape\":\"\"}},\"name\":\"EIRE\",\"offsetgroup\":\"EIRE\",\"orientation\":\"h\",\"showlegend\":true,\"textposition\":\"auto\",\"x\":[7270.5],\"xaxis\":\"x\",\"y\":[\"EIRE\"],\"yaxis\":\"y\",\"type\":\"bar\"},{\"alignmentgroup\":\"True\",\"hovertemplate\":\"Country=%{y}<br>Revenue=%{x}<extra></extra>\",\"legendgroup\":\"Finland\",\"marker\":{\"color\":\"#FF6692\",\"pattern\":{\"shape\":\"\"}},\"name\":\"Finland\",\"offsetgroup\":\"Finland\",\"orientation\":\"h\",\"showlegend\":true,\"textposition\":\"auto\",\"x\":[1368.92],\"xaxis\":\"x\",\"y\":[\"Finland\"],\"yaxis\":\"y\",\"type\":\"bar\"},{\"alignmentgroup\":\"True\",\"hovertemplate\":\"Country=%{y}<br>Revenue=%{x}<extra></extra>\",\"legendgroup\":\"France\",\"marker\":{\"color\":\"#B6E880\",\"pattern\":{\"shape\":\"\"}},\"name\":\"France\",\"offsetgroup\":\"France\",\"orientation\":\"h\",\"showlegend\":true,\"textposition\":\"auto\",\"x\":[3899.31],\"xaxis\":\"x\",\"y\":[\"France\"],\"yaxis\":\"y\",\"type\":\"bar\"},{\"alignmentgroup\":\"True\",\"hovertemplate\":\"Country=%{y}<br>Revenue=%{x}<extra></extra>\",\"legendgroup\":\"Germany\",\"marker\":{\"color\":\"#FF97FF\",\"pattern\":{\"shape\":\"\"}},\"name\":\"Germany\",\"offsetgroup\":\"Germany\",\"orientation\":\"h\",\"showlegend\":true,\"textposition\":\"auto\",\"x\":[10994.79],\"xaxis\":\"x\",\"y\":[\"Germany\"],\"yaxis\":\"y\",\"type\":\"bar\"},{\"alignmentgroup\":\"True\",\"hovertemplate\":\"Country=%{y}<br>Revenue=%{x}<extra></extra>\",\"legendgroup\":\"Greece\",\"marker\":{\"color\":\"#FECB52\",\"pattern\":{\"shape\":\"\"}},\"name\":\"Greece\",\"offsetgroup\":\"Greece\",\"orientation\":\"h\",\"showlegend\":true,\"textposition\":\"auto\",\"x\":[509.74],\"xaxis\":\"x\",\"y\":[\"Greece\"],\"yaxis\":\"y\",\"type\":\"bar\"},{\"alignmentgroup\":\"True\",\"hovertemplate\":\"Country=%{y}<br>Revenue=%{x}<extra></extra>\",\"legendgroup\":\"Iceland\",\"marker\":{\"color\":\"#636efa\",\"pattern\":{\"shape\":\"\"}},\"name\":\"Iceland\",\"offsetgroup\":\"Iceland\",\"orientation\":\"h\",\"showlegend\":true,\"textposition\":\"auto\",\"x\":[636.25],\"xaxis\":\"x\",\"y\":[\"Iceland\"],\"yaxis\":\"y\",\"type\":\"bar\"},{\"alignmentgroup\":\"True\",\"hovertemplate\":\"Country=%{y}<br>Revenue=%{x}<extra></extra>\",\"legendgroup\":\"Italy\",\"marker\":{\"color\":\"#EF553B\",\"pattern\":{\"shape\":\"\"}},\"name\":\"Italy\",\"offsetgroup\":\"Italy\",\"orientation\":\"h\",\"showlegend\":true,\"textposition\":\"auto\",\"x\":[737.83],\"xaxis\":\"x\",\"y\":[\"Italy\"],\"yaxis\":\"y\",\"type\":\"bar\"},{\"alignmentgroup\":\"True\",\"hovertemplate\":\"Country=%{y}<br>Revenue=%{x}<extra></extra>\",\"legendgroup\":\"Japan\",\"marker\":{\"color\":\"#00cc96\",\"pattern\":{\"shape\":\"\"}},\"name\":\"Japan\",\"offsetgroup\":\"Japan\",\"orientation\":\"h\",\"showlegend\":true,\"textposition\":\"auto\",\"x\":[6548.5],\"xaxis\":\"x\",\"y\":[\"Japan\"],\"yaxis\":\"y\",\"type\":\"bar\"},{\"alignmentgroup\":\"True\",\"hovertemplate\":\"Country=%{y}<br>Revenue=%{x}<extra></extra>\",\"legendgroup\":\"Netherlands\",\"marker\":{\"color\":\"#ab63fa\",\"pattern\":{\"shape\":\"\"}},\"name\":\"Netherlands\",\"offsetgroup\":\"Netherlands\",\"orientation\":\"h\",\"showlegend\":true,\"textposition\":\"auto\",\"x\":[2886.56],\"xaxis\":\"x\",\"y\":[\"Netherlands\"],\"yaxis\":\"y\",\"type\":\"bar\"},{\"alignmentgroup\":\"True\",\"hovertemplate\":\"Country=%{y}<br>Revenue=%{x}<extra></extra>\",\"legendgroup\":\"Poland\",\"marker\":{\"color\":\"#FFA15A\",\"pattern\":{\"shape\":\"\"}},\"name\":\"Poland\",\"offsetgroup\":\"Poland\",\"orientation\":\"h\",\"showlegend\":true,\"textposition\":\"auto\",\"x\":[705.8399999999999],\"xaxis\":\"x\",\"y\":[\"Poland\"],\"yaxis\":\"y\",\"type\":\"bar\"},{\"alignmentgroup\":\"True\",\"hovertemplate\":\"Country=%{y}<br>Revenue=%{x}<extra></extra>\",\"legendgroup\":\"Portugal\",\"marker\":{\"color\":\"#19d3f3\",\"pattern\":{\"shape\":\"\"}},\"name\":\"Portugal\",\"offsetgroup\":\"Portugal\",\"orientation\":\"h\",\"showlegend\":true,\"textposition\":\"auto\",\"x\":[1687.75],\"xaxis\":\"x\",\"y\":[\"Portugal\"],\"yaxis\":\"y\",\"type\":\"bar\"},{\"alignmentgroup\":\"True\",\"hovertemplate\":\"Country=%{y}<br>Revenue=%{x}<extra></extra>\",\"legendgroup\":\"Singapore\",\"marker\":{\"color\":\"#FF6692\",\"pattern\":{\"shape\":\"\"}},\"name\":\"Singapore\",\"offsetgroup\":\"Singapore\",\"orientation\":\"h\",\"showlegend\":true,\"textposition\":\"auto\",\"x\":[2118.74],\"xaxis\":\"x\",\"y\":[\"Singapore\"],\"yaxis\":\"y\",\"type\":\"bar\"},{\"alignmentgroup\":\"True\",\"hovertemplate\":\"Country=%{y}<br>Revenue=%{x}<extra></extra>\",\"legendgroup\":\"Spain\",\"marker\":{\"color\":\"#B6E880\",\"pattern\":{\"shape\":\"\"}},\"name\":\"Spain\",\"offsetgroup\":\"Spain\",\"orientation\":\"h\",\"showlegend\":true,\"textposition\":\"auto\",\"x\":[1645.65],\"xaxis\":\"x\",\"y\":[\"Spain\"],\"yaxis\":\"y\",\"type\":\"bar\"},{\"alignmentgroup\":\"True\",\"hovertemplate\":\"Country=%{y}<br>Revenue=%{x}<extra></extra>\",\"legendgroup\":\"Sweden\",\"marker\":{\"color\":\"#FF97FF\",\"pattern\":{\"shape\":\"\"}},\"name\":\"Sweden\",\"offsetgroup\":\"Sweden\",\"orientation\":\"h\",\"showlegend\":true,\"textposition\":\"auto\",\"x\":[649.1],\"xaxis\":\"x\",\"y\":[\"Sweden\"],\"yaxis\":\"y\",\"type\":\"bar\"},{\"alignmentgroup\":\"True\",\"hovertemplate\":\"Country=%{y}<br>Revenue=%{x}<extra></extra>\",\"legendgroup\":\"Switzerland\",\"marker\":{\"color\":\"#FECB52\",\"pattern\":{\"shape\":\"\"}},\"name\":\"Switzerland\",\"offsetgroup\":\"Switzerland\",\"orientation\":\"h\",\"showlegend\":true,\"textposition\":\"auto\",\"x\":[1756.94],\"xaxis\":\"x\",\"y\":[\"Switzerland\"],\"yaxis\":\"y\",\"type\":\"bar\"},{\"alignmentgroup\":\"True\",\"hovertemplate\":\"Country=%{y}<br>Revenue=%{x}<extra></extra>\",\"legendgroup\":\"USA\",\"marker\":{\"color\":\"#636efa\",\"pattern\":{\"shape\":\"\"}},\"name\":\"USA\",\"offsetgroup\":\"USA\",\"orientation\":\"h\",\"showlegend\":true,\"textposition\":\"auto\",\"x\":[383.95],\"xaxis\":\"x\",\"y\":[\"USA\"],\"yaxis\":\"y\",\"type\":\"bar\"}],                        {\"template\":{\"data\":{\"bar\":[{\"error_x\":{\"color\":\"#2a3f5f\"},\"error_y\":{\"color\":\"#2a3f5f\"},\"marker\":{\"line\":{\"color\":\"#E5ECF6\",\"width\":0.5},\"pattern\":{\"fillmode\":\"overlay\",\"size\":10,\"solidity\":0.2}},\"type\":\"bar\"}],\"barpolar\":[{\"marker\":{\"line\":{\"color\":\"#E5ECF6\",\"width\":0.5},\"pattern\":{\"fillmode\":\"overlay\",\"size\":10,\"solidity\":0.2}},\"type\":\"barpolar\"}],\"carpet\":[{\"aaxis\":{\"endlinecolor\":\"#2a3f5f\",\"gridcolor\":\"white\",\"linecolor\":\"white\",\"minorgridcolor\":\"white\",\"startlinecolor\":\"#2a3f5f\"},\"baxis\":{\"endlinecolor\":\"#2a3f5f\",\"gridcolor\":\"white\",\"linecolor\":\"white\",\"minorgridcolor\":\"white\",\"startlinecolor\":\"#2a3f5f\"},\"type\":\"carpet\"}],\"choropleth\":[{\"colorbar\":{\"outlinewidth\":0,\"ticks\":\"\"},\"type\":\"choropleth\"}],\"contour\":[{\"colorbar\":{\"outlinewidth\":0,\"ticks\":\"\"},\"colorscale\":[[0.0,\"#0d0887\"],[0.1111111111111111,\"#46039f\"],[0.2222222222222222,\"#7201a8\"],[0.3333333333333333,\"#9c179e\"],[0.4444444444444444,\"#bd3786\"],[0.5555555555555556,\"#d8576b\"],[0.6666666666666666,\"#ed7953\"],[0.7777777777777778,\"#fb9f3a\"],[0.8888888888888888,\"#fdca26\"],[1.0,\"#f0f921\"]],\"type\":\"contour\"}],\"contourcarpet\":[{\"colorbar\":{\"outlinewidth\":0,\"ticks\":\"\"},\"type\":\"contourcarpet\"}],\"heatmap\":[{\"colorbar\":{\"outlinewidth\":0,\"ticks\":\"\"},\"colorscale\":[[0.0,\"#0d0887\"],[0.1111111111111111,\"#46039f\"],[0.2222222222222222,\"#7201a8\"],[0.3333333333333333,\"#9c179e\"],[0.4444444444444444,\"#bd3786\"],[0.5555555555555556,\"#d8576b\"],[0.6666666666666666,\"#ed7953\"],[0.7777777777777778,\"#fb9f3a\"],[0.8888888888888888,\"#fdca26\"],[1.0,\"#f0f921\"]],\"type\":\"heatmap\"}],\"heatmapgl\":[{\"colorbar\":{\"outlinewidth\":0,\"ticks\":\"\"},\"colorscale\":[[0.0,\"#0d0887\"],[0.1111111111111111,\"#46039f\"],[0.2222222222222222,\"#7201a8\"],[0.3333333333333333,\"#9c179e\"],[0.4444444444444444,\"#bd3786\"],[0.5555555555555556,\"#d8576b\"],[0.6666666666666666,\"#ed7953\"],[0.7777777777777778,\"#fb9f3a\"],[0.8888888888888888,\"#fdca26\"],[1.0,\"#f0f921\"]],\"type\":\"heatmapgl\"}],\"histogram\":[{\"marker\":{\"pattern\":{\"fillmode\":\"overlay\",\"size\":10,\"solidity\":0.2}},\"type\":\"histogram\"}],\"histogram2d\":[{\"colorbar\":{\"outlinewidth\":0,\"ticks\":\"\"},\"colorscale\":[[0.0,\"#0d0887\"],[0.1111111111111111,\"#46039f\"],[0.2222222222222222,\"#7201a8\"],[0.3333333333333333,\"#9c179e\"],[0.4444444444444444,\"#bd3786\"],[0.5555555555555556,\"#d8576b\"],[0.6666666666666666,\"#ed7953\"],[0.7777777777777778,\"#fb9f3a\"],[0.8888888888888888,\"#fdca26\"],[1.0,\"#f0f921\"]],\"type\":\"histogram2d\"}],\"histogram2dcontour\":[{\"colorbar\":{\"outlinewidth\":0,\"ticks\":\"\"},\"colorscale\":[[0.0,\"#0d0887\"],[0.1111111111111111,\"#46039f\"],[0.2222222222222222,\"#7201a8\"],[0.3333333333333333,\"#9c179e\"],[0.4444444444444444,\"#bd3786\"],[0.5555555555555556,\"#d8576b\"],[0.6666666666666666,\"#ed7953\"],[0.7777777777777778,\"#fb9f3a\"],[0.8888888888888888,\"#fdca26\"],[1.0,\"#f0f921\"]],\"type\":\"histogram2dcontour\"}],\"mesh3d\":[{\"colorbar\":{\"outlinewidth\":0,\"ticks\":\"\"},\"type\":\"mesh3d\"}],\"parcoords\":[{\"line\":{\"colorbar\":{\"outlinewidth\":0,\"ticks\":\"\"}},\"type\":\"parcoords\"}],\"pie\":[{\"automargin\":true,\"type\":\"pie\"}],\"scatter\":[{\"marker\":{\"colorbar\":{\"outlinewidth\":0,\"ticks\":\"\"}},\"type\":\"scatter\"}],\"scatter3d\":[{\"line\":{\"colorbar\":{\"outlinewidth\":0,\"ticks\":\"\"}},\"marker\":{\"colorbar\":{\"outlinewidth\":0,\"ticks\":\"\"}},\"type\":\"scatter3d\"}],\"scattercarpet\":[{\"marker\":{\"colorbar\":{\"outlinewidth\":0,\"ticks\":\"\"}},\"type\":\"scattercarpet\"}],\"scattergeo\":[{\"marker\":{\"colorbar\":{\"outlinewidth\":0,\"ticks\":\"\"}},\"type\":\"scattergeo\"}],\"scattergl\":[{\"marker\":{\"colorbar\":{\"outlinewidth\":0,\"ticks\":\"\"}},\"type\":\"scattergl\"}],\"scattermapbox\":[{\"marker\":{\"colorbar\":{\"outlinewidth\":0,\"ticks\":\"\"}},\"type\":\"scattermapbox\"}],\"scatterpolar\":[{\"marker\":{\"colorbar\":{\"outlinewidth\":0,\"ticks\":\"\"}},\"type\":\"scatterpolar\"}],\"scatterpolargl\":[{\"marker\":{\"colorbar\":{\"outlinewidth\":0,\"ticks\":\"\"}},\"type\":\"scatterpolargl\"}],\"scatterternary\":[{\"marker\":{\"colorbar\":{\"outlinewidth\":0,\"ticks\":\"\"}},\"type\":\"scatterternary\"}],\"surface\":[{\"colorbar\":{\"outlinewidth\":0,\"ticks\":\"\"},\"colorscale\":[[0.0,\"#0d0887\"],[0.1111111111111111,\"#46039f\"],[0.2222222222222222,\"#7201a8\"],[0.3333333333333333,\"#9c179e\"],[0.4444444444444444,\"#bd3786\"],[0.5555555555555556,\"#d8576b\"],[0.6666666666666666,\"#ed7953\"],[0.7777777777777778,\"#fb9f3a\"],[0.8888888888888888,\"#fdca26\"],[1.0,\"#f0f921\"]],\"type\":\"surface\"}],\"table\":[{\"cells\":{\"fill\":{\"color\":\"#EBF0F8\"},\"line\":{\"color\":\"white\"}},\"header\":{\"fill\":{\"color\":\"#C8D4E3\"},\"line\":{\"color\":\"white\"}},\"type\":\"table\"}]},\"layout\":{\"annotationdefaults\":{\"arrowcolor\":\"#2a3f5f\",\"arrowhead\":0,\"arrowwidth\":1},\"autotypenumbers\":\"strict\",\"coloraxis\":{\"colorbar\":{\"outlinewidth\":0,\"ticks\":\"\"}},\"colorscale\":{\"diverging\":[[0,\"#8e0152\"],[0.1,\"#c51b7d\"],[0.2,\"#de77ae\"],[0.3,\"#f1b6da\"],[0.4,\"#fde0ef\"],[0.5,\"#f7f7f7\"],[0.6,\"#e6f5d0\"],[0.7,\"#b8e186\"],[0.8,\"#7fbc41\"],[0.9,\"#4d9221\"],[1,\"#276419\"]],\"sequential\":[[0.0,\"#0d0887\"],[0.1111111111111111,\"#46039f\"],[0.2222222222222222,\"#7201a8\"],[0.3333333333333333,\"#9c179e\"],[0.4444444444444444,\"#bd3786\"],[0.5555555555555556,\"#d8576b\"],[0.6666666666666666,\"#ed7953\"],[0.7777777777777778,\"#fb9f3a\"],[0.8888888888888888,\"#fdca26\"],[1.0,\"#f0f921\"]],\"sequentialminus\":[[0.0,\"#0d0887\"],[0.1111111111111111,\"#46039f\"],[0.2222222222222222,\"#7201a8\"],[0.3333333333333333,\"#9c179e\"],[0.4444444444444444,\"#bd3786\"],[0.5555555555555556,\"#d8576b\"],[0.6666666666666666,\"#ed7953\"],[0.7777777777777778,\"#fb9f3a\"],[0.8888888888888888,\"#fdca26\"],[1.0,\"#f0f921\"]]},\"colorway\":[\"#636efa\",\"#EF553B\",\"#00cc96\",\"#ab63fa\",\"#FFA15A\",\"#19d3f3\",\"#FF6692\",\"#B6E880\",\"#FF97FF\",\"#FECB52\"],\"font\":{\"color\":\"#2a3f5f\"},\"geo\":{\"bgcolor\":\"white\",\"lakecolor\":\"white\",\"landcolor\":\"#E5ECF6\",\"showlakes\":true,\"showland\":true,\"subunitcolor\":\"white\"},\"hoverlabel\":{\"align\":\"left\"},\"hovermode\":\"closest\",\"mapbox\":{\"style\":\"light\"},\"paper_bgcolor\":\"white\",\"plot_bgcolor\":\"#E5ECF6\",\"polar\":{\"angularaxis\":{\"gridcolor\":\"white\",\"linecolor\":\"white\",\"ticks\":\"\"},\"bgcolor\":\"#E5ECF6\",\"radialaxis\":{\"gridcolor\":\"white\",\"linecolor\":\"white\",\"ticks\":\"\"}},\"scene\":{\"xaxis\":{\"backgroundcolor\":\"#E5ECF6\",\"gridcolor\":\"white\",\"gridwidth\":2,\"linecolor\":\"white\",\"showbackground\":true,\"ticks\":\"\",\"zerolinecolor\":\"white\"},\"yaxis\":{\"backgroundcolor\":\"#E5ECF6\",\"gridcolor\":\"white\",\"gridwidth\":2,\"linecolor\":\"white\",\"showbackground\":true,\"ticks\":\"\",\"zerolinecolor\":\"white\"},\"zaxis\":{\"backgroundcolor\":\"#E5ECF6\",\"gridcolor\":\"white\",\"gridwidth\":2,\"linecolor\":\"white\",\"showbackground\":true,\"ticks\":\"\",\"zerolinecolor\":\"white\"}},\"shapedefaults\":{\"line\":{\"color\":\"#2a3f5f\"}},\"ternary\":{\"aaxis\":{\"gridcolor\":\"white\",\"linecolor\":\"white\",\"ticks\":\"\"},\"baxis\":{\"gridcolor\":\"white\",\"linecolor\":\"white\",\"ticks\":\"\"},\"bgcolor\":\"#E5ECF6\",\"caxis\":{\"gridcolor\":\"white\",\"linecolor\":\"white\",\"ticks\":\"\"}},\"title\":{\"x\":0.05},\"xaxis\":{\"automargin\":true,\"gridcolor\":\"white\",\"linecolor\":\"white\",\"ticks\":\"\",\"title\":{\"standoff\":15},\"zerolinecolor\":\"white\",\"zerolinewidth\":2},\"yaxis\":{\"automargin\":true,\"gridcolor\":\"white\",\"linecolor\":\"white\",\"ticks\":\"\",\"title\":{\"standoff\":15},\"zerolinecolor\":\"white\",\"zerolinewidth\":2}}},\"xaxis\":{\"anchor\":\"y\",\"domain\":[0.0,1.0],\"title\":{\"text\":\"Revenue\"}},\"yaxis\":{\"anchor\":\"x\",\"domain\":[0.0,1.0],\"title\":{\"text\":\"Country\"},\"categoryorder\":\"array\",\"categoryarray\":[\"USA\",\"Switzerland\",\"Sweden\",\"Spain\",\"Singapore\",\"Portugal\",\"Poland\",\"Netherlands\",\"Japan\",\"Italy\",\"Iceland\",\"Greece\",\"Germany\",\"France\",\"Finland\",\"EIRE\",\"Channel Islands\",\"Brazil\",\"Belgium\",\"Austria\",\"Australia\"]},\"legend\":{\"title\":{\"text\":\"Country\"},\"tracegroupgap\":0},\"margin\":{\"t\":60},\"barmode\":\"relative\"},                        {\"responsive\": true}                    ).then(function(){\n",
       "                            \n",
       "var gd = document.getElementById('84685584-5fb3-486f-b6c8-ced1a92e3206');\n",
       "var x = new MutationObserver(function (mutations, observer) {{\n",
       "        var display = window.getComputedStyle(gd).display;\n",
       "        if (!display || display === 'none') {{\n",
       "            console.log([gd, 'removed!']);\n",
       "            Plotly.purge(gd);\n",
       "            observer.disconnect();\n",
       "        }}\n",
       "}});\n",
       "\n",
       "// Listen for the removal of the full notebook cells\n",
       "var notebookContainer = gd.closest('#notebook-container');\n",
       "if (notebookContainer) {{\n",
       "    x.observe(notebookContainer, {childList: true});\n",
       "}}\n",
       "\n",
       "// Listen for the clearing of the current output cell\n",
       "var outputEl = gd.closest('.output');\n",
       "if (outputEl) {{\n",
       "    x.observe(outputEl, {childList: true});\n",
       "}}\n",
       "\n",
       "                        })                };                });            </script>        </div>"
      ]
     },
     "metadata": {},
     "output_type": "display_data"
    }
   ],
   "source": [
    "import numpy as np\n",
    "import matplotlib.pyplot as plt\n",
    "\n",
    "import plotly_express as px\n",
    "px.bar(data_frame = april, x = 'Revenue', y = 'Country', color = 'Country', orientation= \"h\")"
   ]
  },
  {
   "cell_type": "code",
   "execution_count": 12,
   "metadata": {},
   "outputs": [
    {
     "data": {
      "application/vnd.plotly.v1+json": {
       "config": {
        "plotlyServerURL": "https://plot.ly"
       },
       "data": [
        {
         "alignmentgroup": "True",
         "hovertemplate": "Country=%{y}<br>Quantity=%{x}<extra></extra>",
         "legendgroup": "Australia",
         "marker": {
          "color": "#636efa",
          "pattern": {
           "shape": ""
          }
         },
         "name": "Australia",
         "offsetgroup": "Australia",
         "orientation": "h",
         "showlegend": true,
         "textposition": "auto",
         "type": "bar",
         "x": [
          224
         ],
         "xaxis": "x",
         "y": [
          "Australia"
         ],
         "yaxis": "y"
        },
        {
         "alignmentgroup": "True",
         "hovertemplate": "Country=%{y}<br>Quantity=%{x}<extra></extra>",
         "legendgroup": "Austria",
         "marker": {
          "color": "#EF553B",
          "pattern": {
           "shape": ""
          }
         },
         "name": "Austria",
         "offsetgroup": "Austria",
         "orientation": "h",
         "showlegend": true,
         "textposition": "auto",
         "type": "bar",
         "x": [
          308
         ],
         "xaxis": "x",
         "y": [
          "Austria"
         ],
         "yaxis": "y"
        },
        {
         "alignmentgroup": "True",
         "hovertemplate": "Country=%{y}<br>Quantity=%{x}<extra></extra>",
         "legendgroup": "Belgium",
         "marker": {
          "color": "#00cc96",
          "pattern": {
           "shape": ""
          }
         },
         "name": "Belgium",
         "offsetgroup": "Belgium",
         "orientation": "h",
         "showlegend": true,
         "textposition": "auto",
         "type": "bar",
         "x": [
          1170
         ],
         "xaxis": "x",
         "y": [
          "Belgium"
         ],
         "yaxis": "y"
        },
        {
         "alignmentgroup": "True",
         "hovertemplate": "Country=%{y}<br>Quantity=%{x}<extra></extra>",
         "legendgroup": "Brazil",
         "marker": {
          "color": "#ab63fa",
          "pattern": {
           "shape": ""
          }
         },
         "name": "Brazil",
         "offsetgroup": "Brazil",
         "orientation": "h",
         "showlegend": true,
         "textposition": "auto",
         "type": "bar",
         "x": [
          356
         ],
         "xaxis": "x",
         "y": [
          "Brazil"
         ],
         "yaxis": "y"
        },
        {
         "alignmentgroup": "True",
         "hovertemplate": "Country=%{y}<br>Quantity=%{x}<extra></extra>",
         "legendgroup": "Channel Islands",
         "marker": {
          "color": "#FFA15A",
          "pattern": {
           "shape": ""
          }
         },
         "name": "Channel Islands",
         "offsetgroup": "Channel Islands",
         "orientation": "h",
         "showlegend": true,
         "textposition": "auto",
         "type": "bar",
         "x": [
          96
         ],
         "xaxis": "x",
         "y": [
          "Channel Islands"
         ],
         "yaxis": "y"
        },
        {
         "alignmentgroup": "True",
         "hovertemplate": "Country=%{y}<br>Quantity=%{x}<extra></extra>",
         "legendgroup": "EIRE",
         "marker": {
          "color": "#19d3f3",
          "pattern": {
           "shape": ""
          }
         },
         "name": "EIRE",
         "offsetgroup": "EIRE",
         "orientation": "h",
         "showlegend": true,
         "textposition": "auto",
         "type": "bar",
         "x": [
          4129
         ],
         "xaxis": "x",
         "y": [
          "EIRE"
         ],
         "yaxis": "y"
        },
        {
         "alignmentgroup": "True",
         "hovertemplate": "Country=%{y}<br>Quantity=%{x}<extra></extra>",
         "legendgroup": "Finland",
         "marker": {
          "color": "#FF6692",
          "pattern": {
           "shape": ""
          }
         },
         "name": "Finland",
         "offsetgroup": "Finland",
         "orientation": "h",
         "showlegend": true,
         "textposition": "auto",
         "type": "bar",
         "x": [
          810
         ],
         "xaxis": "x",
         "y": [
          "Finland"
         ],
         "yaxis": "y"
        },
        {
         "alignmentgroup": "True",
         "hovertemplate": "Country=%{y}<br>Quantity=%{x}<extra></extra>",
         "legendgroup": "France",
         "marker": {
          "color": "#B6E880",
          "pattern": {
           "shape": ""
          }
         },
         "name": "France",
         "offsetgroup": "France",
         "orientation": "h",
         "showlegend": true,
         "textposition": "auto",
         "type": "bar",
         "x": [
          2265
         ],
         "xaxis": "x",
         "y": [
          "France"
         ],
         "yaxis": "y"
        },
        {
         "alignmentgroup": "True",
         "hovertemplate": "Country=%{y}<br>Quantity=%{x}<extra></extra>",
         "legendgroup": "Germany",
         "marker": {
          "color": "#FF97FF",
          "pattern": {
           "shape": ""
          }
         },
         "name": "Germany",
         "offsetgroup": "Germany",
         "orientation": "h",
         "showlegend": true,
         "textposition": "auto",
         "type": "bar",
         "x": [
          5702
         ],
         "xaxis": "x",
         "y": [
          "Germany"
         ],
         "yaxis": "y"
        },
        {
         "alignmentgroup": "True",
         "hovertemplate": "Country=%{y}<br>Quantity=%{x}<extra></extra>",
         "legendgroup": "Greece",
         "marker": {
          "color": "#FECB52",
          "pattern": {
           "shape": ""
          }
         },
         "name": "Greece",
         "offsetgroup": "Greece",
         "orientation": "h",
         "showlegend": true,
         "textposition": "auto",
         "type": "bar",
         "x": [
          260
         ],
         "xaxis": "x",
         "y": [
          "Greece"
         ],
         "yaxis": "y"
        },
        {
         "alignmentgroup": "True",
         "hovertemplate": "Country=%{y}<br>Quantity=%{x}<extra></extra>",
         "legendgroup": "Iceland",
         "marker": {
          "color": "#636efa",
          "pattern": {
           "shape": ""
          }
         },
         "name": "Iceland",
         "offsetgroup": "Iceland",
         "orientation": "h",
         "showlegend": true,
         "textposition": "auto",
         "type": "bar",
         "x": [
          483
         ],
         "xaxis": "x",
         "y": [
          "Iceland"
         ],
         "yaxis": "y"
        },
        {
         "alignmentgroup": "True",
         "hovertemplate": "Country=%{y}<br>Quantity=%{x}<extra></extra>",
         "legendgroup": "Italy",
         "marker": {
          "color": "#EF553B",
          "pattern": {
           "shape": ""
          }
         },
         "name": "Italy",
         "offsetgroup": "Italy",
         "orientation": "h",
         "showlegend": true,
         "textposition": "auto",
         "type": "bar",
         "x": [
          653
         ],
         "xaxis": "x",
         "y": [
          "Italy"
         ],
         "yaxis": "y"
        },
        {
         "alignmentgroup": "True",
         "hovertemplate": "Country=%{y}<br>Quantity=%{x}<extra></extra>",
         "legendgroup": "Japan",
         "marker": {
          "color": "#00cc96",
          "pattern": {
           "shape": ""
          }
         },
         "name": "Japan",
         "offsetgroup": "Japan",
         "orientation": "h",
         "showlegend": true,
         "textposition": "auto",
         "type": "bar",
         "x": [
          8058
         ],
         "xaxis": "x",
         "y": [
          "Japan"
         ],
         "yaxis": "y"
        },
        {
         "alignmentgroup": "True",
         "hovertemplate": "Country=%{y}<br>Quantity=%{x}<extra></extra>",
         "legendgroup": "Netherlands",
         "marker": {
          "color": "#ab63fa",
          "pattern": {
           "shape": ""
          }
         },
         "name": "Netherlands",
         "offsetgroup": "Netherlands",
         "orientation": "h",
         "showlegend": true,
         "textposition": "auto",
         "type": "bar",
         "x": [
          1762
         ],
         "xaxis": "x",
         "y": [
          "Netherlands"
         ],
         "yaxis": "y"
        },
        {
         "alignmentgroup": "True",
         "hovertemplate": "Country=%{y}<br>Quantity=%{x}<extra></extra>",
         "legendgroup": "Poland",
         "marker": {
          "color": "#FFA15A",
          "pattern": {
           "shape": ""
          }
         },
         "name": "Poland",
         "offsetgroup": "Poland",
         "orientation": "h",
         "showlegend": true,
         "textposition": "auto",
         "type": "bar",
         "x": [
          432
         ],
         "xaxis": "x",
         "y": [
          "Poland"
         ],
         "yaxis": "y"
        },
        {
         "alignmentgroup": "True",
         "hovertemplate": "Country=%{y}<br>Quantity=%{x}<extra></extra>",
         "legendgroup": "Portugal",
         "marker": {
          "color": "#19d3f3",
          "pattern": {
           "shape": ""
          }
         },
         "name": "Portugal",
         "offsetgroup": "Portugal",
         "orientation": "h",
         "showlegend": true,
         "textposition": "auto",
         "type": "bar",
         "x": [
          951
         ],
         "xaxis": "x",
         "y": [
          "Portugal"
         ],
         "yaxis": "y"
        },
        {
         "alignmentgroup": "True",
         "hovertemplate": "Country=%{y}<br>Quantity=%{x}<extra></extra>",
         "legendgroup": "Singapore",
         "marker": {
          "color": "#FF6692",
          "pattern": {
           "shape": ""
          }
         },
         "name": "Singapore",
         "offsetgroup": "Singapore",
         "orientation": "h",
         "showlegend": true,
         "textposition": "auto",
         "type": "bar",
         "x": [
          1384
         ],
         "xaxis": "x",
         "y": [
          "Singapore"
         ],
         "yaxis": "y"
        },
        {
         "alignmentgroup": "True",
         "hovertemplate": "Country=%{y}<br>Quantity=%{x}<extra></extra>",
         "legendgroup": "Spain",
         "marker": {
          "color": "#B6E880",
          "pattern": {
           "shape": ""
          }
         },
         "name": "Spain",
         "offsetgroup": "Spain",
         "orientation": "h",
         "showlegend": true,
         "textposition": "auto",
         "type": "bar",
         "x": [
          948
         ],
         "xaxis": "x",
         "y": [
          "Spain"
         ],
         "yaxis": "y"
        },
        {
         "alignmentgroup": "True",
         "hovertemplate": "Country=%{y}<br>Quantity=%{x}<extra></extra>",
         "legendgroup": "Sweden",
         "marker": {
          "color": "#FF97FF",
          "pattern": {
           "shape": ""
          }
         },
         "name": "Sweden",
         "offsetgroup": "Sweden",
         "orientation": "h",
         "showlegend": true,
         "textposition": "auto",
         "type": "bar",
         "x": [
          306
         ],
         "xaxis": "x",
         "y": [
          "Sweden"
         ],
         "yaxis": "y"
        },
        {
         "alignmentgroup": "True",
         "hovertemplate": "Country=%{y}<br>Quantity=%{x}<extra></extra>",
         "legendgroup": "Switzerland",
         "marker": {
          "color": "#FECB52",
          "pattern": {
           "shape": ""
          }
         },
         "name": "Switzerland",
         "offsetgroup": "Switzerland",
         "orientation": "h",
         "showlegend": true,
         "textposition": "auto",
         "type": "bar",
         "x": [
          878
         ],
         "xaxis": "x",
         "y": [
          "Switzerland"
         ],
         "yaxis": "y"
        },
        {
         "alignmentgroup": "True",
         "hovertemplate": "Country=%{y}<br>Quantity=%{x}<extra></extra>",
         "legendgroup": "USA",
         "marker": {
          "color": "#636efa",
          "pattern": {
           "shape": ""
          }
         },
         "name": "USA",
         "offsetgroup": "USA",
         "orientation": "h",
         "showlegend": true,
         "textposition": "auto",
         "type": "bar",
         "x": [
          137
         ],
         "xaxis": "x",
         "y": [
          "USA"
         ],
         "yaxis": "y"
        }
       ],
       "layout": {
        "barmode": "relative",
        "legend": {
         "title": {
          "text": "Country"
         },
         "tracegroupgap": 0
        },
        "margin": {
         "t": 60
        },
        "template": {
         "data": {
          "bar": [
           {
            "error_x": {
             "color": "#2a3f5f"
            },
            "error_y": {
             "color": "#2a3f5f"
            },
            "marker": {
             "line": {
              "color": "#E5ECF6",
              "width": 0.5
             },
             "pattern": {
              "fillmode": "overlay",
              "size": 10,
              "solidity": 0.2
             }
            },
            "type": "bar"
           }
          ],
          "barpolar": [
           {
            "marker": {
             "line": {
              "color": "#E5ECF6",
              "width": 0.5
             },
             "pattern": {
              "fillmode": "overlay",
              "size": 10,
              "solidity": 0.2
             }
            },
            "type": "barpolar"
           }
          ],
          "carpet": [
           {
            "aaxis": {
             "endlinecolor": "#2a3f5f",
             "gridcolor": "white",
             "linecolor": "white",
             "minorgridcolor": "white",
             "startlinecolor": "#2a3f5f"
            },
            "baxis": {
             "endlinecolor": "#2a3f5f",
             "gridcolor": "white",
             "linecolor": "white",
             "minorgridcolor": "white",
             "startlinecolor": "#2a3f5f"
            },
            "type": "carpet"
           }
          ],
          "choropleth": [
           {
            "colorbar": {
             "outlinewidth": 0,
             "ticks": ""
            },
            "type": "choropleth"
           }
          ],
          "contour": [
           {
            "colorbar": {
             "outlinewidth": 0,
             "ticks": ""
            },
            "colorscale": [
             [
              0,
              "#0d0887"
             ],
             [
              0.1111111111111111,
              "#46039f"
             ],
             [
              0.2222222222222222,
              "#7201a8"
             ],
             [
              0.3333333333333333,
              "#9c179e"
             ],
             [
              0.4444444444444444,
              "#bd3786"
             ],
             [
              0.5555555555555556,
              "#d8576b"
             ],
             [
              0.6666666666666666,
              "#ed7953"
             ],
             [
              0.7777777777777778,
              "#fb9f3a"
             ],
             [
              0.8888888888888888,
              "#fdca26"
             ],
             [
              1,
              "#f0f921"
             ]
            ],
            "type": "contour"
           }
          ],
          "contourcarpet": [
           {
            "colorbar": {
             "outlinewidth": 0,
             "ticks": ""
            },
            "type": "contourcarpet"
           }
          ],
          "heatmap": [
           {
            "colorbar": {
             "outlinewidth": 0,
             "ticks": ""
            },
            "colorscale": [
             [
              0,
              "#0d0887"
             ],
             [
              0.1111111111111111,
              "#46039f"
             ],
             [
              0.2222222222222222,
              "#7201a8"
             ],
             [
              0.3333333333333333,
              "#9c179e"
             ],
             [
              0.4444444444444444,
              "#bd3786"
             ],
             [
              0.5555555555555556,
              "#d8576b"
             ],
             [
              0.6666666666666666,
              "#ed7953"
             ],
             [
              0.7777777777777778,
              "#fb9f3a"
             ],
             [
              0.8888888888888888,
              "#fdca26"
             ],
             [
              1,
              "#f0f921"
             ]
            ],
            "type": "heatmap"
           }
          ],
          "heatmapgl": [
           {
            "colorbar": {
             "outlinewidth": 0,
             "ticks": ""
            },
            "colorscale": [
             [
              0,
              "#0d0887"
             ],
             [
              0.1111111111111111,
              "#46039f"
             ],
             [
              0.2222222222222222,
              "#7201a8"
             ],
             [
              0.3333333333333333,
              "#9c179e"
             ],
             [
              0.4444444444444444,
              "#bd3786"
             ],
             [
              0.5555555555555556,
              "#d8576b"
             ],
             [
              0.6666666666666666,
              "#ed7953"
             ],
             [
              0.7777777777777778,
              "#fb9f3a"
             ],
             [
              0.8888888888888888,
              "#fdca26"
             ],
             [
              1,
              "#f0f921"
             ]
            ],
            "type": "heatmapgl"
           }
          ],
          "histogram": [
           {
            "marker": {
             "pattern": {
              "fillmode": "overlay",
              "size": 10,
              "solidity": 0.2
             }
            },
            "type": "histogram"
           }
          ],
          "histogram2d": [
           {
            "colorbar": {
             "outlinewidth": 0,
             "ticks": ""
            },
            "colorscale": [
             [
              0,
              "#0d0887"
             ],
             [
              0.1111111111111111,
              "#46039f"
             ],
             [
              0.2222222222222222,
              "#7201a8"
             ],
             [
              0.3333333333333333,
              "#9c179e"
             ],
             [
              0.4444444444444444,
              "#bd3786"
             ],
             [
              0.5555555555555556,
              "#d8576b"
             ],
             [
              0.6666666666666666,
              "#ed7953"
             ],
             [
              0.7777777777777778,
              "#fb9f3a"
             ],
             [
              0.8888888888888888,
              "#fdca26"
             ],
             [
              1,
              "#f0f921"
             ]
            ],
            "type": "histogram2d"
           }
          ],
          "histogram2dcontour": [
           {
            "colorbar": {
             "outlinewidth": 0,
             "ticks": ""
            },
            "colorscale": [
             [
              0,
              "#0d0887"
             ],
             [
              0.1111111111111111,
              "#46039f"
             ],
             [
              0.2222222222222222,
              "#7201a8"
             ],
             [
              0.3333333333333333,
              "#9c179e"
             ],
             [
              0.4444444444444444,
              "#bd3786"
             ],
             [
              0.5555555555555556,
              "#d8576b"
             ],
             [
              0.6666666666666666,
              "#ed7953"
             ],
             [
              0.7777777777777778,
              "#fb9f3a"
             ],
             [
              0.8888888888888888,
              "#fdca26"
             ],
             [
              1,
              "#f0f921"
             ]
            ],
            "type": "histogram2dcontour"
           }
          ],
          "mesh3d": [
           {
            "colorbar": {
             "outlinewidth": 0,
             "ticks": ""
            },
            "type": "mesh3d"
           }
          ],
          "parcoords": [
           {
            "line": {
             "colorbar": {
              "outlinewidth": 0,
              "ticks": ""
             }
            },
            "type": "parcoords"
           }
          ],
          "pie": [
           {
            "automargin": true,
            "type": "pie"
           }
          ],
          "scatter": [
           {
            "marker": {
             "colorbar": {
              "outlinewidth": 0,
              "ticks": ""
             }
            },
            "type": "scatter"
           }
          ],
          "scatter3d": [
           {
            "line": {
             "colorbar": {
              "outlinewidth": 0,
              "ticks": ""
             }
            },
            "marker": {
             "colorbar": {
              "outlinewidth": 0,
              "ticks": ""
             }
            },
            "type": "scatter3d"
           }
          ],
          "scattercarpet": [
           {
            "marker": {
             "colorbar": {
              "outlinewidth": 0,
              "ticks": ""
             }
            },
            "type": "scattercarpet"
           }
          ],
          "scattergeo": [
           {
            "marker": {
             "colorbar": {
              "outlinewidth": 0,
              "ticks": ""
             }
            },
            "type": "scattergeo"
           }
          ],
          "scattergl": [
           {
            "marker": {
             "colorbar": {
              "outlinewidth": 0,
              "ticks": ""
             }
            },
            "type": "scattergl"
           }
          ],
          "scattermapbox": [
           {
            "marker": {
             "colorbar": {
              "outlinewidth": 0,
              "ticks": ""
             }
            },
            "type": "scattermapbox"
           }
          ],
          "scatterpolar": [
           {
            "marker": {
             "colorbar": {
              "outlinewidth": 0,
              "ticks": ""
             }
            },
            "type": "scatterpolar"
           }
          ],
          "scatterpolargl": [
           {
            "marker": {
             "colorbar": {
              "outlinewidth": 0,
              "ticks": ""
             }
            },
            "type": "scatterpolargl"
           }
          ],
          "scatterternary": [
           {
            "marker": {
             "colorbar": {
              "outlinewidth": 0,
              "ticks": ""
             }
            },
            "type": "scatterternary"
           }
          ],
          "surface": [
           {
            "colorbar": {
             "outlinewidth": 0,
             "ticks": ""
            },
            "colorscale": [
             [
              0,
              "#0d0887"
             ],
             [
              0.1111111111111111,
              "#46039f"
             ],
             [
              0.2222222222222222,
              "#7201a8"
             ],
             [
              0.3333333333333333,
              "#9c179e"
             ],
             [
              0.4444444444444444,
              "#bd3786"
             ],
             [
              0.5555555555555556,
              "#d8576b"
             ],
             [
              0.6666666666666666,
              "#ed7953"
             ],
             [
              0.7777777777777778,
              "#fb9f3a"
             ],
             [
              0.8888888888888888,
              "#fdca26"
             ],
             [
              1,
              "#f0f921"
             ]
            ],
            "type": "surface"
           }
          ],
          "table": [
           {
            "cells": {
             "fill": {
              "color": "#EBF0F8"
             },
             "line": {
              "color": "white"
             }
            },
            "header": {
             "fill": {
              "color": "#C8D4E3"
             },
             "line": {
              "color": "white"
             }
            },
            "type": "table"
           }
          ]
         },
         "layout": {
          "annotationdefaults": {
           "arrowcolor": "#2a3f5f",
           "arrowhead": 0,
           "arrowwidth": 1
          },
          "autotypenumbers": "strict",
          "coloraxis": {
           "colorbar": {
            "outlinewidth": 0,
            "ticks": ""
           }
          },
          "colorscale": {
           "diverging": [
            [
             0,
             "#8e0152"
            ],
            [
             0.1,
             "#c51b7d"
            ],
            [
             0.2,
             "#de77ae"
            ],
            [
             0.3,
             "#f1b6da"
            ],
            [
             0.4,
             "#fde0ef"
            ],
            [
             0.5,
             "#f7f7f7"
            ],
            [
             0.6,
             "#e6f5d0"
            ],
            [
             0.7,
             "#b8e186"
            ],
            [
             0.8,
             "#7fbc41"
            ],
            [
             0.9,
             "#4d9221"
            ],
            [
             1,
             "#276419"
            ]
           ],
           "sequential": [
            [
             0,
             "#0d0887"
            ],
            [
             0.1111111111111111,
             "#46039f"
            ],
            [
             0.2222222222222222,
             "#7201a8"
            ],
            [
             0.3333333333333333,
             "#9c179e"
            ],
            [
             0.4444444444444444,
             "#bd3786"
            ],
            [
             0.5555555555555556,
             "#d8576b"
            ],
            [
             0.6666666666666666,
             "#ed7953"
            ],
            [
             0.7777777777777778,
             "#fb9f3a"
            ],
            [
             0.8888888888888888,
             "#fdca26"
            ],
            [
             1,
             "#f0f921"
            ]
           ],
           "sequentialminus": [
            [
             0,
             "#0d0887"
            ],
            [
             0.1111111111111111,
             "#46039f"
            ],
            [
             0.2222222222222222,
             "#7201a8"
            ],
            [
             0.3333333333333333,
             "#9c179e"
            ],
            [
             0.4444444444444444,
             "#bd3786"
            ],
            [
             0.5555555555555556,
             "#d8576b"
            ],
            [
             0.6666666666666666,
             "#ed7953"
            ],
            [
             0.7777777777777778,
             "#fb9f3a"
            ],
            [
             0.8888888888888888,
             "#fdca26"
            ],
            [
             1,
             "#f0f921"
            ]
           ]
          },
          "colorway": [
           "#636efa",
           "#EF553B",
           "#00cc96",
           "#ab63fa",
           "#FFA15A",
           "#19d3f3",
           "#FF6692",
           "#B6E880",
           "#FF97FF",
           "#FECB52"
          ],
          "font": {
           "color": "#2a3f5f"
          },
          "geo": {
           "bgcolor": "white",
           "lakecolor": "white",
           "landcolor": "#E5ECF6",
           "showlakes": true,
           "showland": true,
           "subunitcolor": "white"
          },
          "hoverlabel": {
           "align": "left"
          },
          "hovermode": "closest",
          "mapbox": {
           "style": "light"
          },
          "paper_bgcolor": "white",
          "plot_bgcolor": "#E5ECF6",
          "polar": {
           "angularaxis": {
            "gridcolor": "white",
            "linecolor": "white",
            "ticks": ""
           },
           "bgcolor": "#E5ECF6",
           "radialaxis": {
            "gridcolor": "white",
            "linecolor": "white",
            "ticks": ""
           }
          },
          "scene": {
           "xaxis": {
            "backgroundcolor": "#E5ECF6",
            "gridcolor": "white",
            "gridwidth": 2,
            "linecolor": "white",
            "showbackground": true,
            "ticks": "",
            "zerolinecolor": "white"
           },
           "yaxis": {
            "backgroundcolor": "#E5ECF6",
            "gridcolor": "white",
            "gridwidth": 2,
            "linecolor": "white",
            "showbackground": true,
            "ticks": "",
            "zerolinecolor": "white"
           },
           "zaxis": {
            "backgroundcolor": "#E5ECF6",
            "gridcolor": "white",
            "gridwidth": 2,
            "linecolor": "white",
            "showbackground": true,
            "ticks": "",
            "zerolinecolor": "white"
           }
          },
          "shapedefaults": {
           "line": {
            "color": "#2a3f5f"
           }
          },
          "ternary": {
           "aaxis": {
            "gridcolor": "white",
            "linecolor": "white",
            "ticks": ""
           },
           "baxis": {
            "gridcolor": "white",
            "linecolor": "white",
            "ticks": ""
           },
           "bgcolor": "#E5ECF6",
           "caxis": {
            "gridcolor": "white",
            "linecolor": "white",
            "ticks": ""
           }
          },
          "title": {
           "x": 0.05
          },
          "xaxis": {
           "automargin": true,
           "gridcolor": "white",
           "linecolor": "white",
           "ticks": "",
           "title": {
            "standoff": 15
           },
           "zerolinecolor": "white",
           "zerolinewidth": 2
          },
          "yaxis": {
           "automargin": true,
           "gridcolor": "white",
           "linecolor": "white",
           "ticks": "",
           "title": {
            "standoff": 15
           },
           "zerolinecolor": "white",
           "zerolinewidth": 2
          }
         }
        },
        "xaxis": {
         "anchor": "y",
         "domain": [
          0,
          1
         ],
         "title": {
          "text": "Quantity"
         }
        },
        "yaxis": {
         "anchor": "x",
         "categoryarray": [
          "USA",
          "Switzerland",
          "Sweden",
          "Spain",
          "Singapore",
          "Portugal",
          "Poland",
          "Netherlands",
          "Japan",
          "Italy",
          "Iceland",
          "Greece",
          "Germany",
          "France",
          "Finland",
          "EIRE",
          "Channel Islands",
          "Brazil",
          "Belgium",
          "Austria",
          "Australia"
         ],
         "categoryorder": "array",
         "domain": [
          0,
          1
         ],
         "title": {
          "text": "Country"
         }
        }
       }
      },
      "text/html": [
       "<div>                            <div id=\"53e57eca-93a7-47fe-a7d2-7da2036454d1\" class=\"plotly-graph-div\" style=\"height:525px; width:100%;\"></div>            <script type=\"text/javascript\">                require([\"plotly\"], function(Plotly) {                    window.PLOTLYENV=window.PLOTLYENV || {};                                    if (document.getElementById(\"53e57eca-93a7-47fe-a7d2-7da2036454d1\")) {                    Plotly.newPlot(                        \"53e57eca-93a7-47fe-a7d2-7da2036454d1\",                        [{\"alignmentgroup\":\"True\",\"hovertemplate\":\"Country=%{y}<br>Quantity=%{x}<extra></extra>\",\"legendgroup\":\"Australia\",\"marker\":{\"color\":\"#636efa\",\"pattern\":{\"shape\":\"\"}},\"name\":\"Australia\",\"offsetgroup\":\"Australia\",\"orientation\":\"h\",\"showlegend\":true,\"textposition\":\"auto\",\"x\":[224],\"xaxis\":\"x\",\"y\":[\"Australia\"],\"yaxis\":\"y\",\"type\":\"bar\"},{\"alignmentgroup\":\"True\",\"hovertemplate\":\"Country=%{y}<br>Quantity=%{x}<extra></extra>\",\"legendgroup\":\"Austria\",\"marker\":{\"color\":\"#EF553B\",\"pattern\":{\"shape\":\"\"}},\"name\":\"Austria\",\"offsetgroup\":\"Austria\",\"orientation\":\"h\",\"showlegend\":true,\"textposition\":\"auto\",\"x\":[308],\"xaxis\":\"x\",\"y\":[\"Austria\"],\"yaxis\":\"y\",\"type\":\"bar\"},{\"alignmentgroup\":\"True\",\"hovertemplate\":\"Country=%{y}<br>Quantity=%{x}<extra></extra>\",\"legendgroup\":\"Belgium\",\"marker\":{\"color\":\"#00cc96\",\"pattern\":{\"shape\":\"\"}},\"name\":\"Belgium\",\"offsetgroup\":\"Belgium\",\"orientation\":\"h\",\"showlegend\":true,\"textposition\":\"auto\",\"x\":[1170],\"xaxis\":\"x\",\"y\":[\"Belgium\"],\"yaxis\":\"y\",\"type\":\"bar\"},{\"alignmentgroup\":\"True\",\"hovertemplate\":\"Country=%{y}<br>Quantity=%{x}<extra></extra>\",\"legendgroup\":\"Brazil\",\"marker\":{\"color\":\"#ab63fa\",\"pattern\":{\"shape\":\"\"}},\"name\":\"Brazil\",\"offsetgroup\":\"Brazil\",\"orientation\":\"h\",\"showlegend\":true,\"textposition\":\"auto\",\"x\":[356],\"xaxis\":\"x\",\"y\":[\"Brazil\"],\"yaxis\":\"y\",\"type\":\"bar\"},{\"alignmentgroup\":\"True\",\"hovertemplate\":\"Country=%{y}<br>Quantity=%{x}<extra></extra>\",\"legendgroup\":\"Channel Islands\",\"marker\":{\"color\":\"#FFA15A\",\"pattern\":{\"shape\":\"\"}},\"name\":\"Channel Islands\",\"offsetgroup\":\"Channel Islands\",\"orientation\":\"h\",\"showlegend\":true,\"textposition\":\"auto\",\"x\":[96],\"xaxis\":\"x\",\"y\":[\"Channel Islands\"],\"yaxis\":\"y\",\"type\":\"bar\"},{\"alignmentgroup\":\"True\",\"hovertemplate\":\"Country=%{y}<br>Quantity=%{x}<extra></extra>\",\"legendgroup\":\"EIRE\",\"marker\":{\"color\":\"#19d3f3\",\"pattern\":{\"shape\":\"\"}},\"name\":\"EIRE\",\"offsetgroup\":\"EIRE\",\"orientation\":\"h\",\"showlegend\":true,\"textposition\":\"auto\",\"x\":[4129],\"xaxis\":\"x\",\"y\":[\"EIRE\"],\"yaxis\":\"y\",\"type\":\"bar\"},{\"alignmentgroup\":\"True\",\"hovertemplate\":\"Country=%{y}<br>Quantity=%{x}<extra></extra>\",\"legendgroup\":\"Finland\",\"marker\":{\"color\":\"#FF6692\",\"pattern\":{\"shape\":\"\"}},\"name\":\"Finland\",\"offsetgroup\":\"Finland\",\"orientation\":\"h\",\"showlegend\":true,\"textposition\":\"auto\",\"x\":[810],\"xaxis\":\"x\",\"y\":[\"Finland\"],\"yaxis\":\"y\",\"type\":\"bar\"},{\"alignmentgroup\":\"True\",\"hovertemplate\":\"Country=%{y}<br>Quantity=%{x}<extra></extra>\",\"legendgroup\":\"France\",\"marker\":{\"color\":\"#B6E880\",\"pattern\":{\"shape\":\"\"}},\"name\":\"France\",\"offsetgroup\":\"France\",\"orientation\":\"h\",\"showlegend\":true,\"textposition\":\"auto\",\"x\":[2265],\"xaxis\":\"x\",\"y\":[\"France\"],\"yaxis\":\"y\",\"type\":\"bar\"},{\"alignmentgroup\":\"True\",\"hovertemplate\":\"Country=%{y}<br>Quantity=%{x}<extra></extra>\",\"legendgroup\":\"Germany\",\"marker\":{\"color\":\"#FF97FF\",\"pattern\":{\"shape\":\"\"}},\"name\":\"Germany\",\"offsetgroup\":\"Germany\",\"orientation\":\"h\",\"showlegend\":true,\"textposition\":\"auto\",\"x\":[5702],\"xaxis\":\"x\",\"y\":[\"Germany\"],\"yaxis\":\"y\",\"type\":\"bar\"},{\"alignmentgroup\":\"True\",\"hovertemplate\":\"Country=%{y}<br>Quantity=%{x}<extra></extra>\",\"legendgroup\":\"Greece\",\"marker\":{\"color\":\"#FECB52\",\"pattern\":{\"shape\":\"\"}},\"name\":\"Greece\",\"offsetgroup\":\"Greece\",\"orientation\":\"h\",\"showlegend\":true,\"textposition\":\"auto\",\"x\":[260],\"xaxis\":\"x\",\"y\":[\"Greece\"],\"yaxis\":\"y\",\"type\":\"bar\"},{\"alignmentgroup\":\"True\",\"hovertemplate\":\"Country=%{y}<br>Quantity=%{x}<extra></extra>\",\"legendgroup\":\"Iceland\",\"marker\":{\"color\":\"#636efa\",\"pattern\":{\"shape\":\"\"}},\"name\":\"Iceland\",\"offsetgroup\":\"Iceland\",\"orientation\":\"h\",\"showlegend\":true,\"textposition\":\"auto\",\"x\":[483],\"xaxis\":\"x\",\"y\":[\"Iceland\"],\"yaxis\":\"y\",\"type\":\"bar\"},{\"alignmentgroup\":\"True\",\"hovertemplate\":\"Country=%{y}<br>Quantity=%{x}<extra></extra>\",\"legendgroup\":\"Italy\",\"marker\":{\"color\":\"#EF553B\",\"pattern\":{\"shape\":\"\"}},\"name\":\"Italy\",\"offsetgroup\":\"Italy\",\"orientation\":\"h\",\"showlegend\":true,\"textposition\":\"auto\",\"x\":[653],\"xaxis\":\"x\",\"y\":[\"Italy\"],\"yaxis\":\"y\",\"type\":\"bar\"},{\"alignmentgroup\":\"True\",\"hovertemplate\":\"Country=%{y}<br>Quantity=%{x}<extra></extra>\",\"legendgroup\":\"Japan\",\"marker\":{\"color\":\"#00cc96\",\"pattern\":{\"shape\":\"\"}},\"name\":\"Japan\",\"offsetgroup\":\"Japan\",\"orientation\":\"h\",\"showlegend\":true,\"textposition\":\"auto\",\"x\":[8058],\"xaxis\":\"x\",\"y\":[\"Japan\"],\"yaxis\":\"y\",\"type\":\"bar\"},{\"alignmentgroup\":\"True\",\"hovertemplate\":\"Country=%{y}<br>Quantity=%{x}<extra></extra>\",\"legendgroup\":\"Netherlands\",\"marker\":{\"color\":\"#ab63fa\",\"pattern\":{\"shape\":\"\"}},\"name\":\"Netherlands\",\"offsetgroup\":\"Netherlands\",\"orientation\":\"h\",\"showlegend\":true,\"textposition\":\"auto\",\"x\":[1762],\"xaxis\":\"x\",\"y\":[\"Netherlands\"],\"yaxis\":\"y\",\"type\":\"bar\"},{\"alignmentgroup\":\"True\",\"hovertemplate\":\"Country=%{y}<br>Quantity=%{x}<extra></extra>\",\"legendgroup\":\"Poland\",\"marker\":{\"color\":\"#FFA15A\",\"pattern\":{\"shape\":\"\"}},\"name\":\"Poland\",\"offsetgroup\":\"Poland\",\"orientation\":\"h\",\"showlegend\":true,\"textposition\":\"auto\",\"x\":[432],\"xaxis\":\"x\",\"y\":[\"Poland\"],\"yaxis\":\"y\",\"type\":\"bar\"},{\"alignmentgroup\":\"True\",\"hovertemplate\":\"Country=%{y}<br>Quantity=%{x}<extra></extra>\",\"legendgroup\":\"Portugal\",\"marker\":{\"color\":\"#19d3f3\",\"pattern\":{\"shape\":\"\"}},\"name\":\"Portugal\",\"offsetgroup\":\"Portugal\",\"orientation\":\"h\",\"showlegend\":true,\"textposition\":\"auto\",\"x\":[951],\"xaxis\":\"x\",\"y\":[\"Portugal\"],\"yaxis\":\"y\",\"type\":\"bar\"},{\"alignmentgroup\":\"True\",\"hovertemplate\":\"Country=%{y}<br>Quantity=%{x}<extra></extra>\",\"legendgroup\":\"Singapore\",\"marker\":{\"color\":\"#FF6692\",\"pattern\":{\"shape\":\"\"}},\"name\":\"Singapore\",\"offsetgroup\":\"Singapore\",\"orientation\":\"h\",\"showlegend\":true,\"textposition\":\"auto\",\"x\":[1384],\"xaxis\":\"x\",\"y\":[\"Singapore\"],\"yaxis\":\"y\",\"type\":\"bar\"},{\"alignmentgroup\":\"True\",\"hovertemplate\":\"Country=%{y}<br>Quantity=%{x}<extra></extra>\",\"legendgroup\":\"Spain\",\"marker\":{\"color\":\"#B6E880\",\"pattern\":{\"shape\":\"\"}},\"name\":\"Spain\",\"offsetgroup\":\"Spain\",\"orientation\":\"h\",\"showlegend\":true,\"textposition\":\"auto\",\"x\":[948],\"xaxis\":\"x\",\"y\":[\"Spain\"],\"yaxis\":\"y\",\"type\":\"bar\"},{\"alignmentgroup\":\"True\",\"hovertemplate\":\"Country=%{y}<br>Quantity=%{x}<extra></extra>\",\"legendgroup\":\"Sweden\",\"marker\":{\"color\":\"#FF97FF\",\"pattern\":{\"shape\":\"\"}},\"name\":\"Sweden\",\"offsetgroup\":\"Sweden\",\"orientation\":\"h\",\"showlegend\":true,\"textposition\":\"auto\",\"x\":[306],\"xaxis\":\"x\",\"y\":[\"Sweden\"],\"yaxis\":\"y\",\"type\":\"bar\"},{\"alignmentgroup\":\"True\",\"hovertemplate\":\"Country=%{y}<br>Quantity=%{x}<extra></extra>\",\"legendgroup\":\"Switzerland\",\"marker\":{\"color\":\"#FECB52\",\"pattern\":{\"shape\":\"\"}},\"name\":\"Switzerland\",\"offsetgroup\":\"Switzerland\",\"orientation\":\"h\",\"showlegend\":true,\"textposition\":\"auto\",\"x\":[878],\"xaxis\":\"x\",\"y\":[\"Switzerland\"],\"yaxis\":\"y\",\"type\":\"bar\"},{\"alignmentgroup\":\"True\",\"hovertemplate\":\"Country=%{y}<br>Quantity=%{x}<extra></extra>\",\"legendgroup\":\"USA\",\"marker\":{\"color\":\"#636efa\",\"pattern\":{\"shape\":\"\"}},\"name\":\"USA\",\"offsetgroup\":\"USA\",\"orientation\":\"h\",\"showlegend\":true,\"textposition\":\"auto\",\"x\":[137],\"xaxis\":\"x\",\"y\":[\"USA\"],\"yaxis\":\"y\",\"type\":\"bar\"}],                        {\"template\":{\"data\":{\"bar\":[{\"error_x\":{\"color\":\"#2a3f5f\"},\"error_y\":{\"color\":\"#2a3f5f\"},\"marker\":{\"line\":{\"color\":\"#E5ECF6\",\"width\":0.5},\"pattern\":{\"fillmode\":\"overlay\",\"size\":10,\"solidity\":0.2}},\"type\":\"bar\"}],\"barpolar\":[{\"marker\":{\"line\":{\"color\":\"#E5ECF6\",\"width\":0.5},\"pattern\":{\"fillmode\":\"overlay\",\"size\":10,\"solidity\":0.2}},\"type\":\"barpolar\"}],\"carpet\":[{\"aaxis\":{\"endlinecolor\":\"#2a3f5f\",\"gridcolor\":\"white\",\"linecolor\":\"white\",\"minorgridcolor\":\"white\",\"startlinecolor\":\"#2a3f5f\"},\"baxis\":{\"endlinecolor\":\"#2a3f5f\",\"gridcolor\":\"white\",\"linecolor\":\"white\",\"minorgridcolor\":\"white\",\"startlinecolor\":\"#2a3f5f\"},\"type\":\"carpet\"}],\"choropleth\":[{\"colorbar\":{\"outlinewidth\":0,\"ticks\":\"\"},\"type\":\"choropleth\"}],\"contour\":[{\"colorbar\":{\"outlinewidth\":0,\"ticks\":\"\"},\"colorscale\":[[0.0,\"#0d0887\"],[0.1111111111111111,\"#46039f\"],[0.2222222222222222,\"#7201a8\"],[0.3333333333333333,\"#9c179e\"],[0.4444444444444444,\"#bd3786\"],[0.5555555555555556,\"#d8576b\"],[0.6666666666666666,\"#ed7953\"],[0.7777777777777778,\"#fb9f3a\"],[0.8888888888888888,\"#fdca26\"],[1.0,\"#f0f921\"]],\"type\":\"contour\"}],\"contourcarpet\":[{\"colorbar\":{\"outlinewidth\":0,\"ticks\":\"\"},\"type\":\"contourcarpet\"}],\"heatmap\":[{\"colorbar\":{\"outlinewidth\":0,\"ticks\":\"\"},\"colorscale\":[[0.0,\"#0d0887\"],[0.1111111111111111,\"#46039f\"],[0.2222222222222222,\"#7201a8\"],[0.3333333333333333,\"#9c179e\"],[0.4444444444444444,\"#bd3786\"],[0.5555555555555556,\"#d8576b\"],[0.6666666666666666,\"#ed7953\"],[0.7777777777777778,\"#fb9f3a\"],[0.8888888888888888,\"#fdca26\"],[1.0,\"#f0f921\"]],\"type\":\"heatmap\"}],\"heatmapgl\":[{\"colorbar\":{\"outlinewidth\":0,\"ticks\":\"\"},\"colorscale\":[[0.0,\"#0d0887\"],[0.1111111111111111,\"#46039f\"],[0.2222222222222222,\"#7201a8\"],[0.3333333333333333,\"#9c179e\"],[0.4444444444444444,\"#bd3786\"],[0.5555555555555556,\"#d8576b\"],[0.6666666666666666,\"#ed7953\"],[0.7777777777777778,\"#fb9f3a\"],[0.8888888888888888,\"#fdca26\"],[1.0,\"#f0f921\"]],\"type\":\"heatmapgl\"}],\"histogram\":[{\"marker\":{\"pattern\":{\"fillmode\":\"overlay\",\"size\":10,\"solidity\":0.2}},\"type\":\"histogram\"}],\"histogram2d\":[{\"colorbar\":{\"outlinewidth\":0,\"ticks\":\"\"},\"colorscale\":[[0.0,\"#0d0887\"],[0.1111111111111111,\"#46039f\"],[0.2222222222222222,\"#7201a8\"],[0.3333333333333333,\"#9c179e\"],[0.4444444444444444,\"#bd3786\"],[0.5555555555555556,\"#d8576b\"],[0.6666666666666666,\"#ed7953\"],[0.7777777777777778,\"#fb9f3a\"],[0.8888888888888888,\"#fdca26\"],[1.0,\"#f0f921\"]],\"type\":\"histogram2d\"}],\"histogram2dcontour\":[{\"colorbar\":{\"outlinewidth\":0,\"ticks\":\"\"},\"colorscale\":[[0.0,\"#0d0887\"],[0.1111111111111111,\"#46039f\"],[0.2222222222222222,\"#7201a8\"],[0.3333333333333333,\"#9c179e\"],[0.4444444444444444,\"#bd3786\"],[0.5555555555555556,\"#d8576b\"],[0.6666666666666666,\"#ed7953\"],[0.7777777777777778,\"#fb9f3a\"],[0.8888888888888888,\"#fdca26\"],[1.0,\"#f0f921\"]],\"type\":\"histogram2dcontour\"}],\"mesh3d\":[{\"colorbar\":{\"outlinewidth\":0,\"ticks\":\"\"},\"type\":\"mesh3d\"}],\"parcoords\":[{\"line\":{\"colorbar\":{\"outlinewidth\":0,\"ticks\":\"\"}},\"type\":\"parcoords\"}],\"pie\":[{\"automargin\":true,\"type\":\"pie\"}],\"scatter\":[{\"marker\":{\"colorbar\":{\"outlinewidth\":0,\"ticks\":\"\"}},\"type\":\"scatter\"}],\"scatter3d\":[{\"line\":{\"colorbar\":{\"outlinewidth\":0,\"ticks\":\"\"}},\"marker\":{\"colorbar\":{\"outlinewidth\":0,\"ticks\":\"\"}},\"type\":\"scatter3d\"}],\"scattercarpet\":[{\"marker\":{\"colorbar\":{\"outlinewidth\":0,\"ticks\":\"\"}},\"type\":\"scattercarpet\"}],\"scattergeo\":[{\"marker\":{\"colorbar\":{\"outlinewidth\":0,\"ticks\":\"\"}},\"type\":\"scattergeo\"}],\"scattergl\":[{\"marker\":{\"colorbar\":{\"outlinewidth\":0,\"ticks\":\"\"}},\"type\":\"scattergl\"}],\"scattermapbox\":[{\"marker\":{\"colorbar\":{\"outlinewidth\":0,\"ticks\":\"\"}},\"type\":\"scattermapbox\"}],\"scatterpolar\":[{\"marker\":{\"colorbar\":{\"outlinewidth\":0,\"ticks\":\"\"}},\"type\":\"scatterpolar\"}],\"scatterpolargl\":[{\"marker\":{\"colorbar\":{\"outlinewidth\":0,\"ticks\":\"\"}},\"type\":\"scatterpolargl\"}],\"scatterternary\":[{\"marker\":{\"colorbar\":{\"outlinewidth\":0,\"ticks\":\"\"}},\"type\":\"scatterternary\"}],\"surface\":[{\"colorbar\":{\"outlinewidth\":0,\"ticks\":\"\"},\"colorscale\":[[0.0,\"#0d0887\"],[0.1111111111111111,\"#46039f\"],[0.2222222222222222,\"#7201a8\"],[0.3333333333333333,\"#9c179e\"],[0.4444444444444444,\"#bd3786\"],[0.5555555555555556,\"#d8576b\"],[0.6666666666666666,\"#ed7953\"],[0.7777777777777778,\"#fb9f3a\"],[0.8888888888888888,\"#fdca26\"],[1.0,\"#f0f921\"]],\"type\":\"surface\"}],\"table\":[{\"cells\":{\"fill\":{\"color\":\"#EBF0F8\"},\"line\":{\"color\":\"white\"}},\"header\":{\"fill\":{\"color\":\"#C8D4E3\"},\"line\":{\"color\":\"white\"}},\"type\":\"table\"}]},\"layout\":{\"annotationdefaults\":{\"arrowcolor\":\"#2a3f5f\",\"arrowhead\":0,\"arrowwidth\":1},\"autotypenumbers\":\"strict\",\"coloraxis\":{\"colorbar\":{\"outlinewidth\":0,\"ticks\":\"\"}},\"colorscale\":{\"diverging\":[[0,\"#8e0152\"],[0.1,\"#c51b7d\"],[0.2,\"#de77ae\"],[0.3,\"#f1b6da\"],[0.4,\"#fde0ef\"],[0.5,\"#f7f7f7\"],[0.6,\"#e6f5d0\"],[0.7,\"#b8e186\"],[0.8,\"#7fbc41\"],[0.9,\"#4d9221\"],[1,\"#276419\"]],\"sequential\":[[0.0,\"#0d0887\"],[0.1111111111111111,\"#46039f\"],[0.2222222222222222,\"#7201a8\"],[0.3333333333333333,\"#9c179e\"],[0.4444444444444444,\"#bd3786\"],[0.5555555555555556,\"#d8576b\"],[0.6666666666666666,\"#ed7953\"],[0.7777777777777778,\"#fb9f3a\"],[0.8888888888888888,\"#fdca26\"],[1.0,\"#f0f921\"]],\"sequentialminus\":[[0.0,\"#0d0887\"],[0.1111111111111111,\"#46039f\"],[0.2222222222222222,\"#7201a8\"],[0.3333333333333333,\"#9c179e\"],[0.4444444444444444,\"#bd3786\"],[0.5555555555555556,\"#d8576b\"],[0.6666666666666666,\"#ed7953\"],[0.7777777777777778,\"#fb9f3a\"],[0.8888888888888888,\"#fdca26\"],[1.0,\"#f0f921\"]]},\"colorway\":[\"#636efa\",\"#EF553B\",\"#00cc96\",\"#ab63fa\",\"#FFA15A\",\"#19d3f3\",\"#FF6692\",\"#B6E880\",\"#FF97FF\",\"#FECB52\"],\"font\":{\"color\":\"#2a3f5f\"},\"geo\":{\"bgcolor\":\"white\",\"lakecolor\":\"white\",\"landcolor\":\"#E5ECF6\",\"showlakes\":true,\"showland\":true,\"subunitcolor\":\"white\"},\"hoverlabel\":{\"align\":\"left\"},\"hovermode\":\"closest\",\"mapbox\":{\"style\":\"light\"},\"paper_bgcolor\":\"white\",\"plot_bgcolor\":\"#E5ECF6\",\"polar\":{\"angularaxis\":{\"gridcolor\":\"white\",\"linecolor\":\"white\",\"ticks\":\"\"},\"bgcolor\":\"#E5ECF6\",\"radialaxis\":{\"gridcolor\":\"white\",\"linecolor\":\"white\",\"ticks\":\"\"}},\"scene\":{\"xaxis\":{\"backgroundcolor\":\"#E5ECF6\",\"gridcolor\":\"white\",\"gridwidth\":2,\"linecolor\":\"white\",\"showbackground\":true,\"ticks\":\"\",\"zerolinecolor\":\"white\"},\"yaxis\":{\"backgroundcolor\":\"#E5ECF6\",\"gridcolor\":\"white\",\"gridwidth\":2,\"linecolor\":\"white\",\"showbackground\":true,\"ticks\":\"\",\"zerolinecolor\":\"white\"},\"zaxis\":{\"backgroundcolor\":\"#E5ECF6\",\"gridcolor\":\"white\",\"gridwidth\":2,\"linecolor\":\"white\",\"showbackground\":true,\"ticks\":\"\",\"zerolinecolor\":\"white\"}},\"shapedefaults\":{\"line\":{\"color\":\"#2a3f5f\"}},\"ternary\":{\"aaxis\":{\"gridcolor\":\"white\",\"linecolor\":\"white\",\"ticks\":\"\"},\"baxis\":{\"gridcolor\":\"white\",\"linecolor\":\"white\",\"ticks\":\"\"},\"bgcolor\":\"#E5ECF6\",\"caxis\":{\"gridcolor\":\"white\",\"linecolor\":\"white\",\"ticks\":\"\"}},\"title\":{\"x\":0.05},\"xaxis\":{\"automargin\":true,\"gridcolor\":\"white\",\"linecolor\":\"white\",\"ticks\":\"\",\"title\":{\"standoff\":15},\"zerolinecolor\":\"white\",\"zerolinewidth\":2},\"yaxis\":{\"automargin\":true,\"gridcolor\":\"white\",\"linecolor\":\"white\",\"ticks\":\"\",\"title\":{\"standoff\":15},\"zerolinecolor\":\"white\",\"zerolinewidth\":2}}},\"xaxis\":{\"anchor\":\"y\",\"domain\":[0.0,1.0],\"title\":{\"text\":\"Quantity\"}},\"yaxis\":{\"anchor\":\"x\",\"domain\":[0.0,1.0],\"title\":{\"text\":\"Country\"},\"categoryorder\":\"array\",\"categoryarray\":[\"USA\",\"Switzerland\",\"Sweden\",\"Spain\",\"Singapore\",\"Portugal\",\"Poland\",\"Netherlands\",\"Japan\",\"Italy\",\"Iceland\",\"Greece\",\"Germany\",\"France\",\"Finland\",\"EIRE\",\"Channel Islands\",\"Brazil\",\"Belgium\",\"Austria\",\"Australia\"]},\"legend\":{\"title\":{\"text\":\"Country\"},\"tracegroupgap\":0},\"margin\":{\"t\":60},\"barmode\":\"relative\"},                        {\"responsive\": true}                    ).then(function(){\n",
       "                            \n",
       "var gd = document.getElementById('53e57eca-93a7-47fe-a7d2-7da2036454d1');\n",
       "var x = new MutationObserver(function (mutations, observer) {{\n",
       "        var display = window.getComputedStyle(gd).display;\n",
       "        if (!display || display === 'none') {{\n",
       "            console.log([gd, 'removed!']);\n",
       "            Plotly.purge(gd);\n",
       "            observer.disconnect();\n",
       "        }}\n",
       "}});\n",
       "\n",
       "// Listen for the removal of the full notebook cells\n",
       "var notebookContainer = gd.closest('#notebook-container');\n",
       "if (notebookContainer) {{\n",
       "    x.observe(notebookContainer, {childList: true});\n",
       "}}\n",
       "\n",
       "// Listen for the clearing of the current output cell\n",
       "var outputEl = gd.closest('.output');\n",
       "if (outputEl) {{\n",
       "    x.observe(outputEl, {childList: true});\n",
       "}}\n",
       "\n",
       "                        })                };                });            </script>        </div>"
      ]
     },
     "metadata": {},
     "output_type": "display_data"
    }
   ],
   "source": [
    "px.bar(data_frame = april, x = 'Quantity', y = 'Country', color = 'Country', orientation= \"h\")"
   ]
  },
  {
   "cell_type": "markdown",
   "metadata": {
    "id": "MQ3_rCBxNAs_"
   },
   "source": [
    "#### 2. Create an interactive line chart showing quantity and revenue sold to France between January 1st and May 31st 2011."
   ]
  },
  {
   "cell_type": "code",
   "execution_count": 15,
   "metadata": {
    "id": "fjuRC30JNAtA"
   },
   "outputs": [
    {
     "data": {
      "text/html": [
       "<div>\n",
       "<style scoped>\n",
       "    .dataframe tbody tr th:only-of-type {\n",
       "        vertical-align: middle;\n",
       "    }\n",
       "\n",
       "    .dataframe tbody tr th {\n",
       "        vertical-align: top;\n",
       "    }\n",
       "\n",
       "    .dataframe thead th {\n",
       "        text-align: right;\n",
       "    }\n",
       "</style>\n",
       "<table border=\"1\" class=\"dataframe\">\n",
       "  <thead>\n",
       "    <tr style=\"text-align: right;\">\n",
       "      <th></th>\n",
       "      <th>InvoiceNo</th>\n",
       "      <th>InvoiceDate</th>\n",
       "      <th>StockCode</th>\n",
       "      <th>Description</th>\n",
       "      <th>Quantity</th>\n",
       "      <th>UnitPrice</th>\n",
       "      <th>Revenue</th>\n",
       "      <th>CustomerID</th>\n",
       "      <th>Country</th>\n",
       "      <th>month</th>\n",
       "    </tr>\n",
       "  </thead>\n",
       "  <tbody>\n",
       "    <tr>\n",
       "      <th>807</th>\n",
       "      <td>551163</td>\n",
       "      <td>2011-04-26 15:52:00</td>\n",
       "      <td>85123A</td>\n",
       "      <td>CREAM HANGING HEART T-LIGHT HOLDER</td>\n",
       "      <td>9</td>\n",
       "      <td>2.95</td>\n",
       "      <td>26.55</td>\n",
       "      <td>12573</td>\n",
       "      <td>France</td>\n",
       "      <td>4</td>\n",
       "    </tr>\n",
       "    <tr>\n",
       "      <th>2645</th>\n",
       "      <td>540976</td>\n",
       "      <td>2011-01-12 15:00:00</td>\n",
       "      <td>84029G</td>\n",
       "      <td>KNITTED UNION FLAG HOT WATER BOTTLE</td>\n",
       "      <td>4</td>\n",
       "      <td>3.75</td>\n",
       "      <td>15.00</td>\n",
       "      <td>12652</td>\n",
       "      <td>France</td>\n",
       "      <td>1</td>\n",
       "    </tr>\n",
       "    <tr>\n",
       "      <th>3290</th>\n",
       "      <td>545181</td>\n",
       "      <td>2011-02-28 14:45:00</td>\n",
       "      <td>22752</td>\n",
       "      <td>SET 7 BABUSHKA NESTING BOXES</td>\n",
       "      <td>4</td>\n",
       "      <td>8.50</td>\n",
       "      <td>34.00</td>\n",
       "      <td>12509</td>\n",
       "      <td>France</td>\n",
       "      <td>2</td>\n",
       "    </tr>\n",
       "    <tr>\n",
       "      <th>4614</th>\n",
       "      <td>542629</td>\n",
       "      <td>2011-01-31 09:57:00</td>\n",
       "      <td>84879</td>\n",
       "      <td>ASSORTED COLOUR BIRD ORNAMENT</td>\n",
       "      <td>160</td>\n",
       "      <td>1.45</td>\n",
       "      <td>232.00</td>\n",
       "      <td>12731</td>\n",
       "      <td>France</td>\n",
       "      <td>1</td>\n",
       "    </tr>\n",
       "    <tr>\n",
       "      <th>4795</th>\n",
       "      <td>548409</td>\n",
       "      <td>2011-03-31 10:27:00</td>\n",
       "      <td>84879</td>\n",
       "      <td>ASSORTED COLOUR BIRD ORNAMENT</td>\n",
       "      <td>160</td>\n",
       "      <td>1.45</td>\n",
       "      <td>232.00</td>\n",
       "      <td>12731</td>\n",
       "      <td>France</td>\n",
       "      <td>3</td>\n",
       "    </tr>\n",
       "  </tbody>\n",
       "</table>\n",
       "</div>"
      ],
      "text/plain": [
       "      InvoiceNo         InvoiceDate StockCode  \\\n",
       "807      551163 2011-04-26 15:52:00    85123A   \n",
       "2645     540976 2011-01-12 15:00:00    84029G   \n",
       "3290     545181 2011-02-28 14:45:00     22752   \n",
       "4614     542629 2011-01-31 09:57:00     84879   \n",
       "4795     548409 2011-03-31 10:27:00     84879   \n",
       "\n",
       "                              Description  Quantity  UnitPrice  Revenue  \\\n",
       "807    CREAM HANGING HEART T-LIGHT HOLDER         9       2.95    26.55   \n",
       "2645  KNITTED UNION FLAG HOT WATER BOTTLE         4       3.75    15.00   \n",
       "3290         SET 7 BABUSHKA NESTING BOXES         4       8.50    34.00   \n",
       "4614        ASSORTED COLOUR BIRD ORNAMENT       160       1.45   232.00   \n",
       "4795        ASSORTED COLOUR BIRD ORNAMENT       160       1.45   232.00   \n",
       "\n",
       "      CustomerID Country  month  \n",
       "807        12573  France      4  \n",
       "2645       12652  France      1  \n",
       "3290       12509  France      2  \n",
       "4614       12731  France      1  \n",
       "4795       12731  France      3  "
      ]
     },
     "execution_count": 15,
     "metadata": {},
     "output_type": "execute_result"
    }
   ],
   "source": [
    "# select month to one to 5\n",
    "france_5m_2011 = data[((data['month'] ==1) |(data['month'] ==2) | (data['month'] ==3)| (data['month']==4)| (data['month'] ==5)) & (data.Country=='France') ]\n",
    "france_5m_2011.head()\n",
    "\n"
   ]
  },
  {
   "cell_type": "code",
   "execution_count": 20,
   "metadata": {
    "id": "fjuRC30JNAtA"
   },
   "outputs": [
    {
     "data": {
      "text/html": [
       "<div>\n",
       "<style scoped>\n",
       "    .dataframe tbody tr th:only-of-type {\n",
       "        vertical-align: middle;\n",
       "    }\n",
       "\n",
       "    .dataframe tbody tr th {\n",
       "        vertical-align: top;\n",
       "    }\n",
       "\n",
       "    .dataframe thead th {\n",
       "        text-align: right;\n",
       "    }\n",
       "</style>\n",
       "<table border=\"1\" class=\"dataframe\">\n",
       "  <thead>\n",
       "    <tr style=\"text-align: right;\">\n",
       "      <th></th>\n",
       "      <th>InvoiceDate</th>\n",
       "      <th>Revenue</th>\n",
       "      <th>Quantity</th>\n",
       "    </tr>\n",
       "  </thead>\n",
       "  <tbody>\n",
       "    <tr>\n",
       "      <th>116252</th>\n",
       "      <td>2011-01-05 12:42:00</td>\n",
       "      <td>19.80</td>\n",
       "      <td>4</td>\n",
       "    </tr>\n",
       "    <tr>\n",
       "      <th>260744</th>\n",
       "      <td>2011-01-05 12:42:00</td>\n",
       "      <td>12.50</td>\n",
       "      <td>10</td>\n",
       "    </tr>\n",
       "    <tr>\n",
       "      <th>29399</th>\n",
       "      <td>2011-01-05 12:42:00</td>\n",
       "      <td>13.20</td>\n",
       "      <td>24</td>\n",
       "    </tr>\n",
       "    <tr>\n",
       "      <th>158649</th>\n",
       "      <td>2011-01-05 12:42:00</td>\n",
       "      <td>15.60</td>\n",
       "      <td>24</td>\n",
       "    </tr>\n",
       "    <tr>\n",
       "      <th>62212</th>\n",
       "      <td>2011-01-05 12:42:00</td>\n",
       "      <td>7.80</td>\n",
       "      <td>12</td>\n",
       "    </tr>\n",
       "    <tr>\n",
       "      <th>...</th>\n",
       "      <td>...</td>\n",
       "      <td>...</td>\n",
       "      <td>...</td>\n",
       "    </tr>\n",
       "    <tr>\n",
       "      <th>340181</th>\n",
       "      <td>2011-05-31 13:32:00</td>\n",
       "      <td>16.60</td>\n",
       "      <td>4</td>\n",
       "    </tr>\n",
       "    <tr>\n",
       "      <th>278635</th>\n",
       "      <td>2011-05-31 13:32:00</td>\n",
       "      <td>15.00</td>\n",
       "      <td>12</td>\n",
       "    </tr>\n",
       "    <tr>\n",
       "      <th>311608</th>\n",
       "      <td>2011-05-31 13:32:00</td>\n",
       "      <td>19.50</td>\n",
       "      <td>6</td>\n",
       "    </tr>\n",
       "    <tr>\n",
       "      <th>337209</th>\n",
       "      <td>2011-05-31 13:32:00</td>\n",
       "      <td>20.80</td>\n",
       "      <td>10</td>\n",
       "    </tr>\n",
       "    <tr>\n",
       "      <th>323488</th>\n",
       "      <td>2011-05-31 13:32:00</td>\n",
       "      <td>9.96</td>\n",
       "      <td>12</td>\n",
       "    </tr>\n",
       "  </tbody>\n",
       "</table>\n",
       "<p>2471 rows × 3 columns</p>\n",
       "</div>"
      ],
      "text/plain": [
       "               InvoiceDate  Revenue  Quantity\n",
       "116252 2011-01-05 12:42:00    19.80         4\n",
       "260744 2011-01-05 12:42:00    12.50        10\n",
       "29399  2011-01-05 12:42:00    13.20        24\n",
       "158649 2011-01-05 12:42:00    15.60        24\n",
       "62212  2011-01-05 12:42:00     7.80        12\n",
       "...                    ...      ...       ...\n",
       "340181 2011-05-31 13:32:00    16.60         4\n",
       "278635 2011-05-31 13:32:00    15.00        12\n",
       "311608 2011-05-31 13:32:00    19.50         6\n",
       "337209 2011-05-31 13:32:00    20.80        10\n",
       "323488 2011-05-31 13:32:00     9.96        12\n",
       "\n",
       "[2471 rows x 3 columns]"
      ]
     },
     "execution_count": 20,
     "metadata": {},
     "output_type": "execute_result"
    }
   ],
   "source": [
    "# select month to one to 5\n",
    "\n",
    "france_5m_2011 = france_5m_2011 [['InvoiceDate','Revenue', 'Quantity']].sort_values(by=['InvoiceDate'])\n",
    "france_5m_2011\n"
   ]
  },
  {
   "cell_type": "code",
   "execution_count": 21,
   "metadata": {
    "id": "BcpCxOTpNAtB",
    "outputId": "aebd06d3-01e7-4a9c-8413-2843b3f863d3"
   },
   "outputs": [
    {
     "data": {
      "application/vnd.plotly.v1+json": {
       "config": {
        "plotlyServerURL": "https://plot.ly"
       },
       "data": [
        {
         "hovertemplate": "InvoiceDate=%{x}<br>Revenue=%{y}<extra></extra>",
         "legendgroup": "",
         "line": {
          "color": "#636efa",
          "dash": "solid"
         },
         "marker": {
          "symbol": "circle"
         },
         "mode": "lines",
         "name": "",
         "showlegend": false,
         "type": "scattergl",
         "x": [
          "2011-01-05T12:42:00",
          "2011-01-05T12:42:00",
          "2011-01-05T12:42:00",
          "2011-01-05T12:42:00",
          "2011-01-05T12:42:00",
          "2011-01-05T12:42:00",
          "2011-01-05T12:42:00",
          "2011-01-05T12:42:00",
          "2011-01-05T12:42:00",
          "2011-01-05T12:42:00",
          "2011-01-05T12:42:00",
          "2011-01-05T12:42:00",
          "2011-01-05T12:42:00",
          "2011-01-05T12:42:00",
          "2011-01-05T12:42:00",
          "2011-01-05T12:42:00",
          "2011-01-05T12:42:00",
          "2011-01-05T12:42:00",
          "2011-01-05T12:42:00",
          "2011-01-05T12:42:00",
          "2011-01-05T12:42:00",
          "2011-01-05T12:42:00",
          "2011-01-05T12:42:00",
          "2011-01-05T12:42:00",
          "2011-01-05T12:42:00",
          "2011-01-05T12:42:00",
          "2011-01-05T12:42:00",
          "2011-01-05T12:42:00",
          "2011-01-05T12:42:00",
          "2011-01-05T12:42:00",
          "2011-01-05T12:42:00",
          "2011-01-05T12:42:00",
          "2011-01-05T12:42:00",
          "2011-01-05T14:48:00",
          "2011-01-05T14:48:00",
          "2011-01-05T14:48:00",
          "2011-01-05T14:48:00",
          "2011-01-05T14:48:00",
          "2011-01-05T14:48:00",
          "2011-01-05T14:48:00",
          "2011-01-05T14:48:00",
          "2011-01-05T14:48:00",
          "2011-01-05T14:48:00",
          "2011-01-05T14:48:00",
          "2011-01-05T14:48:00",
          "2011-01-05T14:48:00",
          "2011-01-05T14:48:00",
          "2011-01-05T14:48:00",
          "2011-01-05T14:48:00",
          "2011-01-05T14:48:00",
          "2011-01-05T14:48:00",
          "2011-01-05T14:48:00",
          "2011-01-05T14:48:00",
          "2011-01-05T14:48:00",
          "2011-01-05T14:48:00",
          "2011-01-05T14:48:00",
          "2011-01-05T14:48:00",
          "2011-01-05T14:48:00",
          "2011-01-05T14:48:00",
          "2011-01-05T14:48:00",
          "2011-01-05T14:48:00",
          "2011-01-05T14:48:00",
          "2011-01-05T14:48:00",
          "2011-01-05T14:48:00",
          "2011-01-05T14:48:00",
          "2011-01-05T14:48:00",
          "2011-01-05T14:48:00",
          "2011-01-05T14:48:00",
          "2011-01-05T14:48:00",
          "2011-01-05T14:48:00",
          "2011-01-05T14:48:00",
          "2011-01-05T14:48:00",
          "2011-01-06T14:26:00",
          "2011-01-06T14:26:00",
          "2011-01-06T14:26:00",
          "2011-01-06T14:26:00",
          "2011-01-06T14:26:00",
          "2011-01-06T14:26:00",
          "2011-01-06T14:26:00",
          "2011-01-06T14:26:00",
          "2011-01-06T14:26:00",
          "2011-01-06T14:26:00",
          "2011-01-06T14:26:00",
          "2011-01-06T14:26:00",
          "2011-01-06T14:26:00",
          "2011-01-06T14:26:00",
          "2011-01-06T14:26:00",
          "2011-01-06T14:26:00",
          "2011-01-06T14:26:00",
          "2011-01-06T14:26:00",
          "2011-01-06T14:26:00",
          "2011-01-06T14:26:00",
          "2011-01-06T14:26:00",
          "2011-01-06T16:12:00",
          "2011-01-06T16:12:00",
          "2011-01-06T16:12:00",
          "2011-01-06T16:12:00",
          "2011-01-06T16:12:00",
          "2011-01-06T16:12:00",
          "2011-01-06T16:12:00",
          "2011-01-06T16:12:00",
          "2011-01-06T16:12:00",
          "2011-01-06T16:12:00",
          "2011-01-06T16:12:00",
          "2011-01-06T16:12:00",
          "2011-01-06T16:12:00",
          "2011-01-06T16:12:00",
          "2011-01-06T16:12:00",
          "2011-01-06T16:12:00",
          "2011-01-06T16:12:00",
          "2011-01-06T16:12:00",
          "2011-01-06T16:12:00",
          "2011-01-06T16:12:00",
          "2011-01-06T16:12:00",
          "2011-01-06T16:12:00",
          "2011-01-06T16:12:00",
          "2011-01-07T12:07:00",
          "2011-01-07T12:07:00",
          "2011-01-07T12:07:00",
          "2011-01-07T12:07:00",
          "2011-01-07T12:07:00",
          "2011-01-07T12:07:00",
          "2011-01-07T12:07:00",
          "2011-01-07T12:07:00",
          "2011-01-07T12:07:00",
          "2011-01-07T12:07:00",
          "2011-01-07T12:07:00",
          "2011-01-07T12:07:00",
          "2011-01-07T12:07:00",
          "2011-01-07T12:07:00",
          "2011-01-07T12:07:00",
          "2011-01-07T12:07:00",
          "2011-01-07T12:07:00",
          "2011-01-07T12:07:00",
          "2011-01-07T12:07:00",
          "2011-01-07T12:07:00",
          "2011-01-07T12:07:00",
          "2011-01-07T13:13:00",
          "2011-01-07T13:13:00",
          "2011-01-07T13:13:00",
          "2011-01-07T13:13:00",
          "2011-01-07T13:13:00",
          "2011-01-07T13:13:00",
          "2011-01-07T13:13:00",
          "2011-01-07T13:13:00",
          "2011-01-07T13:13:00",
          "2011-01-07T13:13:00",
          "2011-01-07T13:13:00",
          "2011-01-07T13:13:00",
          "2011-01-07T13:13:00",
          "2011-01-07T13:13:00",
          "2011-01-09T12:46:00",
          "2011-01-09T12:46:00",
          "2011-01-09T12:46:00",
          "2011-01-09T12:46:00",
          "2011-01-09T12:46:00",
          "2011-01-09T12:46:00",
          "2011-01-09T12:46:00",
          "2011-01-09T12:46:00",
          "2011-01-09T12:46:00",
          "2011-01-10T13:22:00",
          "2011-01-10T13:22:00",
          "2011-01-10T13:22:00",
          "2011-01-10T13:22:00",
          "2011-01-10T13:22:00",
          "2011-01-10T13:22:00",
          "2011-01-10T13:22:00",
          "2011-01-10T13:22:00",
          "2011-01-10T13:22:00",
          "2011-01-10T13:22:00",
          "2011-01-10T13:22:00",
          "2011-01-10T13:22:00",
          "2011-01-10T13:22:00",
          "2011-01-10T13:22:00",
          "2011-01-10T13:22:00",
          "2011-01-10T13:22:00",
          "2011-01-10T13:22:00",
          "2011-01-10T13:22:00",
          "2011-01-10T13:22:00",
          "2011-01-10T13:22:00",
          "2011-01-10T13:22:00",
          "2011-01-10T13:22:00",
          "2011-01-10T13:22:00",
          "2011-01-10T13:22:00",
          "2011-01-10T13:22:00",
          "2011-01-10T13:22:00",
          "2011-01-10T13:22:00",
          "2011-01-10T13:22:00",
          "2011-01-10T13:22:00",
          "2011-01-10T13:22:00",
          "2011-01-10T13:22:00",
          "2011-01-10T13:22:00",
          "2011-01-10T13:22:00",
          "2011-01-10T13:22:00",
          "2011-01-10T13:22:00",
          "2011-01-10T13:22:00",
          "2011-01-10T13:22:00",
          "2011-01-10T13:22:00",
          "2011-01-10T13:22:00",
          "2011-01-10T13:22:00",
          "2011-01-10T13:22:00",
          "2011-01-10T13:22:00",
          "2011-01-10T13:22:00",
          "2011-01-10T13:22:00",
          "2011-01-10T13:22:00",
          "2011-01-10T13:22:00",
          "2011-01-10T13:22:00",
          "2011-01-10T13:22:00",
          "2011-01-10T13:22:00",
          "2011-01-11T07:57:00",
          "2011-01-11T07:57:00",
          "2011-01-11T07:57:00",
          "2011-01-11T11:48:00",
          "2011-01-11T13:31:00",
          "2011-01-11T13:31:00",
          "2011-01-11T13:31:00",
          "2011-01-11T13:31:00",
          "2011-01-11T13:31:00",
          "2011-01-11T13:31:00",
          "2011-01-11T13:31:00",
          "2011-01-11T13:31:00",
          "2011-01-11T13:31:00",
          "2011-01-11T13:31:00",
          "2011-01-11T13:31:00",
          "2011-01-11T13:31:00",
          "2011-01-11T15:00:00",
          "2011-01-11T15:00:00",
          "2011-01-11T15:00:00",
          "2011-01-11T15:00:00",
          "2011-01-11T15:00:00",
          "2011-01-11T15:00:00",
          "2011-01-11T15:00:00",
          "2011-01-11T15:00:00",
          "2011-01-11T15:00:00",
          "2011-01-11T15:00:00",
          "2011-01-12T09:43:00",
          "2011-01-12T09:43:00",
          "2011-01-12T09:43:00",
          "2011-01-12T09:43:00",
          "2011-01-12T09:43:00",
          "2011-01-12T09:43:00",
          "2011-01-12T09:43:00",
          "2011-01-12T14:13:00",
          "2011-01-12T14:13:00",
          "2011-01-12T14:13:00",
          "2011-01-12T14:13:00",
          "2011-01-12T14:13:00",
          "2011-01-12T14:13:00",
          "2011-01-12T15:00:00",
          "2011-01-12T15:00:00",
          "2011-01-12T15:00:00",
          "2011-01-12T15:00:00",
          "2011-01-12T15:00:00",
          "2011-01-12T15:00:00",
          "2011-01-12T15:00:00",
          "2011-01-12T15:00:00",
          "2011-01-12T15:00:00",
          "2011-01-12T15:00:00",
          "2011-01-12T15:00:00",
          "2011-01-12T15:00:00",
          "2011-01-12T15:00:00",
          "2011-01-12T15:00:00",
          "2011-01-12T15:00:00",
          "2011-01-12T15:00:00",
          "2011-01-12T15:00:00",
          "2011-01-12T15:00:00",
          "2011-01-12T15:00:00",
          "2011-01-12T15:00:00",
          "2011-01-12T15:00:00",
          "2011-01-12T15:00:00",
          "2011-01-12T15:00:00",
          "2011-01-12T15:00:00",
          "2011-01-12T15:00:00",
          "2011-01-12T15:00:00",
          "2011-01-12T15:00:00",
          "2011-01-12T15:00:00",
          "2011-01-12T15:00:00",
          "2011-01-12T15:00:00",
          "2011-01-12T15:00:00",
          "2011-01-12T15:00:00",
          "2011-01-12T15:00:00",
          "2011-01-12T15:00:00",
          "2011-01-12T15:00:00",
          "2011-01-12T15:00:00",
          "2011-01-12T15:00:00",
          "2011-01-12T15:00:00",
          "2011-01-12T15:00:00",
          "2011-01-12T15:00:00",
          "2011-01-12T15:00:00",
          "2011-01-12T15:00:00",
          "2011-01-12T15:00:00",
          "2011-01-12T15:00:00",
          "2011-01-12T15:00:00",
          "2011-01-12T15:00:00",
          "2011-01-12T15:00:00",
          "2011-01-14T09:13:00",
          "2011-01-14T09:13:00",
          "2011-01-14T09:13:00",
          "2011-01-14T09:13:00",
          "2011-01-14T09:13:00",
          "2011-01-14T09:13:00",
          "2011-01-14T09:13:00",
          "2011-01-14T09:13:00",
          "2011-01-14T09:13:00",
          "2011-01-14T09:13:00",
          "2011-01-14T09:13:00",
          "2011-01-14T09:13:00",
          "2011-01-14T09:13:00",
          "2011-01-14T09:13:00",
          "2011-01-14T09:13:00",
          "2011-01-14T09:13:00",
          "2011-01-14T09:13:00",
          "2011-01-14T09:13:00",
          "2011-01-14T09:13:00",
          "2011-01-14T09:13:00",
          "2011-01-14T09:13:00",
          "2011-01-14T09:13:00",
          "2011-01-14T09:13:00",
          "2011-01-14T09:13:00",
          "2011-01-14T09:13:00",
          "2011-01-14T09:13:00",
          "2011-01-14T09:13:00",
          "2011-01-14T09:13:00",
          "2011-01-14T09:13:00",
          "2011-01-14T09:13:00",
          "2011-01-14T09:13:00",
          "2011-01-14T09:13:00",
          "2011-01-14T09:13:00",
          "2011-01-14T09:13:00",
          "2011-01-14T09:13:00",
          "2011-01-14T09:13:00",
          "2011-01-14T09:13:00",
          "2011-01-14T09:13:00",
          "2011-01-14T09:13:00",
          "2011-01-14T09:13:00",
          "2011-01-14T09:13:00",
          "2011-01-14T09:13:00",
          "2011-01-14T09:20:00",
          "2011-01-14T09:20:00",
          "2011-01-14T09:20:00",
          "2011-01-14T09:20:00",
          "2011-01-14T09:20:00",
          "2011-01-14T09:20:00",
          "2011-01-14T09:20:00",
          "2011-01-14T09:20:00",
          "2011-01-14T09:20:00",
          "2011-01-14T09:20:00",
          "2011-01-14T10:42:00",
          "2011-01-14T10:42:00",
          "2011-01-14T10:42:00",
          "2011-01-14T10:42:00",
          "2011-01-14T10:42:00",
          "2011-01-14T10:42:00",
          "2011-01-14T10:42:00",
          "2011-01-14T10:42:00",
          "2011-01-14T10:42:00",
          "2011-01-14T10:42:00",
          "2011-01-14T10:42:00",
          "2011-01-14T10:42:00",
          "2011-01-14T10:42:00",
          "2011-01-14T10:42:00",
          "2011-01-14T10:42:00",
          "2011-01-14T10:42:00",
          "2011-01-14T10:42:00",
          "2011-01-14T10:42:00",
          "2011-01-14T10:42:00",
          "2011-01-14T10:42:00",
          "2011-01-14T10:42:00",
          "2011-01-14T10:42:00",
          "2011-01-14T10:42:00",
          "2011-01-14T10:42:00",
          "2011-01-14T10:42:00",
          "2011-01-14T10:42:00",
          "2011-01-14T10:42:00",
          "2011-01-14T10:42:00",
          "2011-01-14T10:42:00",
          "2011-01-14T10:42:00",
          "2011-01-14T10:42:00",
          "2011-01-14T10:42:00",
          "2011-01-14T10:42:00",
          "2011-01-14T10:42:00",
          "2011-01-14T10:42:00",
          "2011-01-14T10:42:00",
          "2011-01-14T10:42:00",
          "2011-01-17T15:17:00",
          "2011-01-17T15:17:00",
          "2011-01-17T15:17:00",
          "2011-01-17T15:17:00",
          "2011-01-17T15:17:00",
          "2011-01-17T15:17:00",
          "2011-01-17T15:17:00",
          "2011-01-17T15:17:00",
          "2011-01-17T15:17:00",
          "2011-01-17T15:17:00",
          "2011-01-17T15:17:00",
          "2011-01-17T15:17:00",
          "2011-01-17T15:17:00",
          "2011-01-17T15:17:00",
          "2011-01-17T15:17:00",
          "2011-01-17T15:17:00",
          "2011-01-17T15:17:00",
          "2011-01-17T15:17:00",
          "2011-01-17T15:17:00",
          "2011-01-17T15:17:00",
          "2011-01-19T11:51:00",
          "2011-01-19T11:51:00",
          "2011-01-19T11:51:00",
          "2011-01-19T11:51:00",
          "2011-01-19T11:51:00",
          "2011-01-19T11:51:00",
          "2011-01-19T11:51:00",
          "2011-01-19T11:51:00",
          "2011-01-19T11:51:00",
          "2011-01-19T11:51:00",
          "2011-01-19T11:51:00",
          "2011-01-19T11:51:00",
          "2011-01-19T11:51:00",
          "2011-01-19T11:51:00",
          "2011-01-19T11:51:00",
          "2011-01-19T11:51:00",
          "2011-01-19T11:51:00",
          "2011-01-19T11:51:00",
          "2011-01-19T11:51:00",
          "2011-01-19T11:51:00",
          "2011-01-19T11:51:00",
          "2011-01-19T11:51:00",
          "2011-01-19T11:51:00",
          "2011-01-19T11:51:00",
          "2011-01-19T11:51:00",
          "2011-01-19T11:51:00",
          "2011-01-19T11:51:00",
          "2011-01-19T11:51:00",
          "2011-01-19T11:51:00",
          "2011-01-19T11:51:00",
          "2011-01-20T10:47:00",
          "2011-01-20T10:47:00",
          "2011-01-20T10:47:00",
          "2011-01-20T10:47:00",
          "2011-01-20T10:47:00",
          "2011-01-20T10:47:00",
          "2011-01-20T10:47:00",
          "2011-01-20T10:47:00",
          "2011-01-20T10:47:00",
          "2011-01-20T10:47:00",
          "2011-01-20T10:47:00",
          "2011-01-20T10:47:00",
          "2011-01-20T10:47:00",
          "2011-01-20T10:47:00",
          "2011-01-20T10:47:00",
          "2011-01-20T10:47:00",
          "2011-01-20T10:47:00",
          "2011-01-20T10:47:00",
          "2011-01-20T10:47:00",
          "2011-01-20T10:47:00",
          "2011-01-20T10:47:00",
          "2011-01-20T10:47:00",
          "2011-01-20T10:47:00",
          "2011-01-20T10:47:00",
          "2011-01-20T10:47:00",
          "2011-01-20T10:47:00",
          "2011-01-20T10:47:00",
          "2011-01-20T10:48:00",
          "2011-01-20T10:48:00",
          "2011-01-20T10:48:00",
          "2011-01-20T10:48:00",
          "2011-01-20T10:48:00",
          "2011-01-20T10:48:00",
          "2011-01-20T10:48:00",
          "2011-01-20T10:48:00",
          "2011-01-20T10:48:00",
          "2011-01-20T10:48:00",
          "2011-01-20T10:48:00",
          "2011-01-20T10:48:00",
          "2011-01-20T10:48:00",
          "2011-01-20T10:48:00",
          "2011-01-20T10:48:00",
          "2011-01-20T10:48:00",
          "2011-01-20T10:48:00",
          "2011-01-20T10:48:00",
          "2011-01-20T10:48:00",
          "2011-01-20T10:48:00",
          "2011-01-20T10:48:00",
          "2011-01-20T10:48:00",
          "2011-01-20T10:48:00",
          "2011-01-20T10:48:00",
          "2011-01-20T10:48:00",
          "2011-01-20T10:48:00",
          "2011-01-20T10:48:00",
          "2011-01-20T10:48:00",
          "2011-01-20T10:48:00",
          "2011-01-20T10:48:00",
          "2011-01-20T10:48:00",
          "2011-01-20T10:48:00",
          "2011-01-20T10:48:00",
          "2011-01-20T10:48:00",
          "2011-01-20T10:48:00",
          "2011-01-20T10:48:00",
          "2011-01-20T10:48:00",
          "2011-01-20T10:48:00",
          "2011-01-20T10:48:00",
          "2011-01-20T10:48:00",
          "2011-01-20T10:48:00",
          "2011-01-20T10:48:00",
          "2011-01-20T10:48:00",
          "2011-01-20T10:48:00",
          "2011-01-23T15:17:00",
          "2011-01-23T15:17:00",
          "2011-01-23T15:17:00",
          "2011-01-23T15:17:00",
          "2011-01-23T15:17:00",
          "2011-01-23T15:17:00",
          "2011-01-23T15:17:00",
          "2011-01-23T15:17:00",
          "2011-01-23T15:17:00",
          "2011-01-23T15:17:00",
          "2011-01-23T15:17:00",
          "2011-01-24T15:32:00",
          "2011-01-24T15:32:00",
          "2011-01-24T15:32:00",
          "2011-01-24T15:32:00",
          "2011-01-24T15:32:00",
          "2011-01-24T15:32:00",
          "2011-01-24T15:32:00",
          "2011-01-24T15:32:00",
          "2011-01-24T15:32:00",
          "2011-01-28T09:20:00",
          "2011-01-28T09:20:00",
          "2011-01-28T09:20:00",
          "2011-01-28T09:20:00",
          "2011-01-28T09:20:00",
          "2011-01-28T09:20:00",
          "2011-01-28T09:20:00",
          "2011-01-28T09:20:00",
          "2011-01-28T09:20:00",
          "2011-01-28T09:20:00",
          "2011-01-28T10:45:00",
          "2011-01-28T10:45:00",
          "2011-01-28T10:45:00",
          "2011-01-28T10:45:00",
          "2011-01-28T10:45:00",
          "2011-01-28T10:45:00",
          "2011-01-28T10:45:00",
          "2011-01-28T10:45:00",
          "2011-01-28T10:45:00",
          "2011-01-28T10:45:00",
          "2011-01-28T10:45:00",
          "2011-01-28T10:45:00",
          "2011-01-28T10:45:00",
          "2011-01-28T10:45:00",
          "2011-01-28T10:45:00",
          "2011-01-28T10:45:00",
          "2011-01-28T10:45:00",
          "2011-01-28T10:45:00",
          "2011-01-28T13:37:00",
          "2011-01-28T13:37:00",
          "2011-01-28T13:37:00",
          "2011-01-28T13:37:00",
          "2011-01-28T13:37:00",
          "2011-01-28T13:37:00",
          "2011-01-28T13:37:00",
          "2011-01-28T13:37:00",
          "2011-01-28T13:37:00",
          "2011-01-28T13:37:00",
          "2011-01-28T13:37:00",
          "2011-01-28T13:37:00",
          "2011-01-28T13:37:00",
          "2011-01-28T13:37:00",
          "2011-01-28T13:37:00",
          "2011-01-28T13:37:00",
          "2011-01-28T13:37:00",
          "2011-01-28T13:37:00",
          "2011-01-28T13:37:00",
          "2011-01-28T13:37:00",
          "2011-01-31T09:57:00",
          "2011-01-31T09:57:00",
          "2011-01-31T09:57:00",
          "2011-01-31T09:57:00",
          "2011-01-31T09:57:00",
          "2011-01-31T09:57:00",
          "2011-01-31T09:57:00",
          "2011-01-31T09:57:00",
          "2011-01-31T09:57:00",
          "2011-01-31T09:57:00",
          "2011-01-31T09:57:00",
          "2011-01-31T09:57:00",
          "2011-01-31T09:57:00",
          "2011-01-31T09:57:00",
          "2011-01-31T09:57:00",
          "2011-01-31T09:57:00",
          "2011-01-31T09:57:00",
          "2011-01-31T09:57:00",
          "2011-01-31T09:57:00",
          "2011-01-31T09:57:00",
          "2011-01-31T09:57:00",
          "2011-01-31T09:57:00",
          "2011-01-31T09:57:00",
          "2011-01-31T09:57:00",
          "2011-01-31T09:57:00",
          "2011-01-31T09:57:00",
          "2011-01-31T09:57:00",
          "2011-01-31T09:57:00",
          "2011-01-31T09:57:00",
          "2011-01-31T09:57:00",
          "2011-01-31T09:57:00",
          "2011-01-31T09:57:00",
          "2011-01-31T09:57:00",
          "2011-01-31T09:57:00",
          "2011-01-31T09:57:00",
          "2011-01-31T09:57:00",
          "2011-01-31T09:57:00",
          "2011-01-31T09:57:00",
          "2011-01-31T09:57:00",
          "2011-01-31T09:57:00",
          "2011-01-31T09:57:00",
          "2011-01-31T09:57:00",
          "2011-01-31T09:57:00",
          "2011-01-31T09:57:00",
          "2011-01-31T09:57:00",
          "2011-01-31T09:57:00",
          "2011-01-31T15:36:00",
          "2011-01-31T15:36:00",
          "2011-01-31T15:36:00",
          "2011-01-31T15:36:00",
          "2011-01-31T15:36:00",
          "2011-01-31T15:36:00",
          "2011-01-31T15:36:00",
          "2011-01-31T15:36:00",
          "2011-01-31T15:36:00",
          "2011-01-31T15:36:00",
          "2011-01-31T15:36:00",
          "2011-01-31T15:36:00",
          "2011-01-31T15:36:00",
          "2011-01-31T15:36:00",
          "2011-01-31T15:36:00",
          "2011-01-31T15:36:00",
          "2011-01-31T15:36:00",
          "2011-02-01T14:58:00",
          "2011-02-01T14:58:00",
          "2011-02-01T14:58:00",
          "2011-02-01T14:58:00",
          "2011-02-01T14:58:00",
          "2011-02-01T14:58:00",
          "2011-02-01T14:58:00",
          "2011-02-01T14:58:00",
          "2011-02-01T14:58:00",
          "2011-02-01T14:58:00",
          "2011-02-01T14:58:00",
          "2011-02-01T14:58:00",
          "2011-02-01T14:58:00",
          "2011-02-01T14:58:00",
          "2011-02-01T14:58:00",
          "2011-02-01T14:58:00",
          "2011-02-01T14:58:00",
          "2011-02-01T14:58:00",
          "2011-02-02T09:06:00",
          "2011-02-02T09:06:00",
          "2011-02-02T09:06:00",
          "2011-02-02T09:06:00",
          "2011-02-02T09:06:00",
          "2011-02-02T09:06:00",
          "2011-02-02T09:06:00",
          "2011-02-02T09:06:00",
          "2011-02-02T09:06:00",
          "2011-02-02T09:06:00",
          "2011-02-02T09:06:00",
          "2011-02-02T09:06:00",
          "2011-02-02T09:06:00",
          "2011-02-02T09:06:00",
          "2011-02-02T09:06:00",
          "2011-02-02T09:06:00",
          "2011-02-02T09:06:00",
          "2011-02-02T09:06:00",
          "2011-02-02T15:22:00",
          "2011-02-02T15:22:00",
          "2011-02-02T15:22:00",
          "2011-02-02T15:22:00",
          "2011-02-02T15:22:00",
          "2011-02-02T15:22:00",
          "2011-02-02T15:22:00",
          "2011-02-02T15:22:00",
          "2011-02-02T15:22:00",
          "2011-02-04T11:45:00",
          "2011-02-04T11:45:00",
          "2011-02-04T11:45:00",
          "2011-02-04T11:45:00",
          "2011-02-04T11:45:00",
          "2011-02-04T11:45:00",
          "2011-02-04T11:45:00",
          "2011-02-04T11:45:00",
          "2011-02-04T11:45:00",
          "2011-02-04T11:45:00",
          "2011-02-04T11:45:00",
          "2011-02-04T11:45:00",
          "2011-02-04T11:45:00",
          "2011-02-04T11:45:00",
          "2011-02-04T11:45:00",
          "2011-02-04T11:45:00",
          "2011-02-04T11:45:00",
          "2011-02-04T11:45:00",
          "2011-02-04T11:45:00",
          "2011-02-04T11:45:00",
          "2011-02-04T11:45:00",
          "2011-02-04T11:45:00",
          "2011-02-04T11:45:00",
          "2011-02-04T11:45:00",
          "2011-02-04T11:45:00",
          "2011-02-04T11:45:00",
          "2011-02-04T11:45:00",
          "2011-02-04T11:45:00",
          "2011-02-04T11:45:00",
          "2011-02-04T11:45:00",
          "2011-02-04T11:45:00",
          "2011-02-04T11:45:00",
          "2011-02-04T11:45:00",
          "2011-02-04T11:45:00",
          "2011-02-04T11:45:00",
          "2011-02-04T11:45:00",
          "2011-02-04T11:45:00",
          "2011-02-04T11:45:00",
          "2011-02-04T11:45:00",
          "2011-02-04T11:45:00",
          "2011-02-04T11:45:00",
          "2011-02-04T11:45:00",
          "2011-02-04T11:45:00",
          "2011-02-04T11:45:00",
          "2011-02-04T11:45:00",
          "2011-02-04T11:45:00",
          "2011-02-04T11:45:00",
          "2011-02-04T11:45:00",
          "2011-02-04T11:45:00",
          "2011-02-04T11:45:00",
          "2011-02-04T11:45:00",
          "2011-02-04T11:45:00",
          "2011-02-04T11:45:00",
          "2011-02-04T11:45:00",
          "2011-02-04T11:45:00",
          "2011-02-04T11:45:00",
          "2011-02-04T11:45:00",
          "2011-02-04T11:45:00",
          "2011-02-04T11:45:00",
          "2011-02-04T11:45:00",
          "2011-02-04T11:45:00",
          "2011-02-04T11:45:00",
          "2011-02-08T13:28:00",
          "2011-02-08T13:28:00",
          "2011-02-08T13:28:00",
          "2011-02-08T13:28:00",
          "2011-02-08T13:28:00",
          "2011-02-08T13:28:00",
          "2011-02-08T13:28:00",
          "2011-02-08T13:28:00",
          "2011-02-08T13:28:00",
          "2011-02-08T13:28:00",
          "2011-02-08T13:28:00",
          "2011-02-08T13:28:00",
          "2011-02-08T13:28:00",
          "2011-02-09T10:11:00",
          "2011-02-09T10:11:00",
          "2011-02-09T10:11:00",
          "2011-02-09T10:11:00",
          "2011-02-09T10:11:00",
          "2011-02-09T10:11:00",
          "2011-02-09T10:11:00",
          "2011-02-09T10:11:00",
          "2011-02-09T10:11:00",
          "2011-02-09T10:11:00",
          "2011-02-09T10:11:00",
          "2011-02-09T10:11:00",
          "2011-02-09T10:11:00",
          "2011-02-09T10:11:00",
          "2011-02-09T10:11:00",
          "2011-02-09T10:11:00",
          "2011-02-09T10:11:00",
          "2011-02-09T10:11:00",
          "2011-02-09T10:11:00",
          "2011-02-09T10:11:00",
          "2011-02-09T10:11:00",
          "2011-02-09T10:11:00",
          "2011-02-09T10:11:00",
          "2011-02-09T10:11:00",
          "2011-02-09T10:11:00",
          "2011-02-09T10:11:00",
          "2011-02-10T15:38:00",
          "2011-02-10T15:38:00",
          "2011-02-10T15:38:00",
          "2011-02-10T15:38:00",
          "2011-02-10T15:38:00",
          "2011-02-10T15:38:00",
          "2011-02-10T15:38:00",
          "2011-02-10T15:38:00",
          "2011-02-10T15:38:00",
          "2011-02-10T15:38:00",
          "2011-02-10T15:38:00",
          "2011-02-10T15:38:00",
          "2011-02-15T14:17:00",
          "2011-02-15T14:17:00",
          "2011-02-15T14:17:00",
          "2011-02-15T14:17:00",
          "2011-02-15T14:17:00",
          "2011-02-15T14:17:00",
          "2011-02-15T14:17:00",
          "2011-02-15T14:17:00",
          "2011-02-15T14:17:00",
          "2011-02-15T14:17:00",
          "2011-02-16T11:45:00",
          "2011-02-16T11:45:00",
          "2011-02-16T11:45:00",
          "2011-02-16T11:45:00",
          "2011-02-16T11:45:00",
          "2011-02-16T11:45:00",
          "2011-02-16T11:45:00",
          "2011-02-16T11:45:00",
          "2011-02-16T11:45:00",
          "2011-02-16T11:45:00",
          "2011-02-16T11:45:00",
          "2011-02-16T11:45:00",
          "2011-02-16T11:45:00",
          "2011-02-16T11:45:00",
          "2011-02-16T11:45:00",
          "2011-02-16T11:45:00",
          "2011-02-16T11:45:00",
          "2011-02-16T11:45:00",
          "2011-02-16T11:45:00",
          "2011-02-16T11:45:00",
          "2011-02-16T11:45:00",
          "2011-02-16T11:45:00",
          "2011-02-16T11:45:00",
          "2011-02-16T11:45:00",
          "2011-02-16T11:45:00",
          "2011-02-16T11:45:00",
          "2011-02-16T11:45:00",
          "2011-02-16T11:45:00",
          "2011-02-16T11:45:00",
          "2011-02-16T11:45:00",
          "2011-02-16T11:45:00",
          "2011-02-16T11:45:00",
          "2011-02-16T11:45:00",
          "2011-02-16T11:45:00",
          "2011-02-16T11:45:00",
          "2011-02-16T11:45:00",
          "2011-02-16T11:45:00",
          "2011-02-16T11:45:00",
          "2011-02-16T11:45:00",
          "2011-02-16T11:45:00",
          "2011-02-16T11:45:00",
          "2011-02-16T11:45:00",
          "2011-02-16T11:45:00",
          "2011-02-16T11:45:00",
          "2011-02-16T11:45:00",
          "2011-02-16T11:45:00",
          "2011-02-16T11:45:00",
          "2011-02-17T10:08:00",
          "2011-02-17T10:08:00",
          "2011-02-17T10:08:00",
          "2011-02-17T10:08:00",
          "2011-02-17T10:08:00",
          "2011-02-17T10:08:00",
          "2011-02-17T10:08:00",
          "2011-02-17T10:08:00",
          "2011-02-17T10:08:00",
          "2011-02-17T10:08:00",
          "2011-02-17T10:08:00",
          "2011-02-17T10:08:00",
          "2011-02-17T10:08:00",
          "2011-02-17T10:08:00",
          "2011-02-17T10:08:00",
          "2011-02-18T10:53:00",
          "2011-02-18T10:53:00",
          "2011-02-18T10:53:00",
          "2011-02-18T10:53:00",
          "2011-02-18T10:53:00",
          "2011-02-18T10:53:00",
          "2011-02-18T10:53:00",
          "2011-02-18T10:53:00",
          "2011-02-18T10:53:00",
          "2011-02-18T10:53:00",
          "2011-02-18T10:53:00",
          "2011-02-18T10:53:00",
          "2011-02-18T10:53:00",
          "2011-02-18T10:53:00",
          "2011-02-18T10:53:00",
          "2011-02-18T10:53:00",
          "2011-02-18T10:53:00",
          "2011-02-18T10:53:00",
          "2011-02-18T10:53:00",
          "2011-02-18T10:53:00",
          "2011-02-18T10:53:00",
          "2011-02-18T10:53:00",
          "2011-02-18T10:53:00",
          "2011-02-18T10:53:00",
          "2011-02-18T10:53:00",
          "2011-02-18T10:53:00",
          "2011-02-18T10:53:00",
          "2011-02-18T10:53:00",
          "2011-02-18T10:53:00",
          "2011-02-18T10:53:00",
          "2011-02-18T10:53:00",
          "2011-02-18T10:53:00",
          "2011-02-18T10:53:00",
          "2011-02-18T10:53:00",
          "2011-02-18T10:53:00",
          "2011-02-18T10:53:00",
          "2011-02-18T10:53:00",
          "2011-02-18T10:53:00",
          "2011-02-18T10:53:00",
          "2011-02-18T10:53:00",
          "2011-02-18T10:53:00",
          "2011-02-18T10:53:00",
          "2011-02-18T10:53:00",
          "2011-02-18T10:53:00",
          "2011-02-18T10:53:00",
          "2011-02-18T10:53:00",
          "2011-02-18T10:53:00",
          "2011-02-18T10:53:00",
          "2011-02-18T10:53:00",
          "2011-02-18T10:53:00",
          "2011-02-18T10:53:00",
          "2011-02-18T10:53:00",
          "2011-02-18T15:23:00",
          "2011-02-21T08:38:00",
          "2011-02-21T08:38:00",
          "2011-02-21T08:38:00",
          "2011-02-21T08:38:00",
          "2011-02-21T08:38:00",
          "2011-02-21T08:38:00",
          "2011-02-21T08:38:00",
          "2011-02-21T08:38:00",
          "2011-02-21T08:38:00",
          "2011-02-21T08:38:00",
          "2011-02-21T08:38:00",
          "2011-02-21T08:38:00",
          "2011-02-21T08:38:00",
          "2011-02-21T08:38:00",
          "2011-02-21T08:38:00",
          "2011-02-21T08:38:00",
          "2011-02-21T08:38:00",
          "2011-02-21T08:38:00",
          "2011-02-21T08:38:00",
          "2011-02-21T08:38:00",
          "2011-02-21T08:38:00",
          "2011-02-21T08:38:00",
          "2011-02-21T08:38:00",
          "2011-02-21T08:38:00",
          "2011-02-21T08:38:00",
          "2011-02-21T08:38:00",
          "2011-02-21T08:38:00",
          "2011-02-21T08:38:00",
          "2011-02-21T08:38:00",
          "2011-02-21T08:38:00",
          "2011-02-21T08:38:00",
          "2011-02-21T08:38:00",
          "2011-02-21T08:38:00",
          "2011-02-21T14:58:00",
          "2011-02-21T14:58:00",
          "2011-02-21T14:58:00",
          "2011-02-21T14:58:00",
          "2011-02-21T14:58:00",
          "2011-02-21T14:58:00",
          "2011-02-21T14:58:00",
          "2011-02-23T16:44:00",
          "2011-02-23T16:44:00",
          "2011-02-23T16:44:00",
          "2011-02-23T16:44:00",
          "2011-02-23T16:44:00",
          "2011-02-23T16:44:00",
          "2011-02-23T16:44:00",
          "2011-02-23T16:44:00",
          "2011-02-23T16:44:00",
          "2011-02-23T16:44:00",
          "2011-02-23T16:44:00",
          "2011-02-23T16:44:00",
          "2011-02-23T16:44:00",
          "2011-02-23T16:44:00",
          "2011-02-23T16:44:00",
          "2011-02-23T16:44:00",
          "2011-02-23T16:45:00",
          "2011-02-23T16:45:00",
          "2011-02-23T16:45:00",
          "2011-02-23T16:45:00",
          "2011-02-27T11:58:00",
          "2011-02-27T11:58:00",
          "2011-02-27T11:58:00",
          "2011-02-27T11:58:00",
          "2011-02-28T11:43:00",
          "2011-02-28T11:43:00",
          "2011-02-28T11:43:00",
          "2011-02-28T11:43:00",
          "2011-02-28T11:43:00",
          "2011-02-28T11:43:00",
          "2011-02-28T11:43:00",
          "2011-02-28T11:43:00",
          "2011-02-28T11:43:00",
          "2011-02-28T11:43:00",
          "2011-02-28T11:43:00",
          "2011-02-28T11:43:00",
          "2011-02-28T11:58:00",
          "2011-02-28T11:58:00",
          "2011-02-28T11:58:00",
          "2011-02-28T11:58:00",
          "2011-02-28T11:58:00",
          "2011-02-28T11:58:00",
          "2011-02-28T11:58:00",
          "2011-02-28T11:58:00",
          "2011-02-28T11:58:00",
          "2011-02-28T11:58:00",
          "2011-02-28T11:58:00",
          "2011-02-28T11:58:00",
          "2011-02-28T11:58:00",
          "2011-02-28T11:58:00",
          "2011-02-28T11:58:00",
          "2011-02-28T11:58:00",
          "2011-02-28T11:58:00",
          "2011-02-28T11:58:00",
          "2011-02-28T11:58:00",
          "2011-02-28T11:58:00",
          "2011-02-28T11:58:00",
          "2011-02-28T11:58:00",
          "2011-02-28T11:58:00",
          "2011-02-28T11:58:00",
          "2011-02-28T11:58:00",
          "2011-02-28T14:42:00",
          "2011-02-28T14:42:00",
          "2011-02-28T14:42:00",
          "2011-02-28T14:42:00",
          "2011-02-28T14:42:00",
          "2011-02-28T14:42:00",
          "2011-02-28T14:42:00",
          "2011-02-28T14:42:00",
          "2011-02-28T14:42:00",
          "2011-02-28T14:42:00",
          "2011-02-28T14:42:00",
          "2011-02-28T14:45:00",
          "2011-02-28T14:45:00",
          "2011-02-28T14:45:00",
          "2011-02-28T14:45:00",
          "2011-02-28T14:45:00",
          "2011-02-28T14:45:00",
          "2011-03-01T10:31:00",
          "2011-03-01T10:31:00",
          "2011-03-01T10:31:00",
          "2011-03-01T10:31:00",
          "2011-03-01T10:31:00",
          "2011-03-01T10:31:00",
          "2011-03-01T10:31:00",
          "2011-03-01T10:31:00",
          "2011-03-01T10:31:00",
          "2011-03-01T10:31:00",
          "2011-03-01T10:31:00",
          "2011-03-01T10:31:00",
          "2011-03-01T10:31:00",
          "2011-03-01T10:31:00",
          "2011-03-01T10:31:00",
          "2011-03-01T10:31:00",
          "2011-03-01T12:26:00",
          "2011-03-01T12:26:00",
          "2011-03-01T12:26:00",
          "2011-03-01T12:26:00",
          "2011-03-01T12:26:00",
          "2011-03-01T12:26:00",
          "2011-03-01T12:26:00",
          "2011-03-01T12:26:00",
          "2011-03-01T12:26:00",
          "2011-03-01T12:26:00",
          "2011-03-01T12:26:00",
          "2011-03-01T12:26:00",
          "2011-03-01T12:26:00",
          "2011-03-01T12:26:00",
          "2011-03-01T12:26:00",
          "2011-03-01T12:26:00",
          "2011-03-01T12:26:00",
          "2011-03-01T12:26:00",
          "2011-03-01T12:26:00",
          "2011-03-01T12:26:00",
          "2011-03-01T12:26:00",
          "2011-03-01T12:26:00",
          "2011-03-01T12:26:00",
          "2011-03-01T12:26:00",
          "2011-03-01T12:26:00",
          "2011-03-01T12:26:00",
          "2011-03-01T12:26:00",
          "2011-03-01T12:26:00",
          "2011-03-01T12:26:00",
          "2011-03-01T12:26:00",
          "2011-03-01T12:26:00",
          "2011-03-01T12:26:00",
          "2011-03-01T12:26:00",
          "2011-03-01T12:26:00",
          "2011-03-01T12:26:00",
          "2011-03-01T12:26:00",
          "2011-03-01T12:26:00",
          "2011-03-01T12:26:00",
          "2011-03-01T12:26:00",
          "2011-03-01T12:26:00",
          "2011-03-01T12:26:00",
          "2011-03-03T12:06:00",
          "2011-03-03T12:06:00",
          "2011-03-03T12:06:00",
          "2011-03-03T12:06:00",
          "2011-03-03T12:06:00",
          "2011-03-03T12:06:00",
          "2011-03-03T12:06:00",
          "2011-03-03T12:06:00",
          "2011-03-03T12:06:00",
          "2011-03-03T12:06:00",
          "2011-03-03T12:06:00",
          "2011-03-03T12:06:00",
          "2011-03-03T12:06:00",
          "2011-03-03T12:06:00",
          "2011-03-03T12:06:00",
          "2011-03-03T12:06:00",
          "2011-03-03T12:06:00",
          "2011-03-03T12:06:00",
          "2011-03-03T12:06:00",
          "2011-03-03T12:06:00",
          "2011-03-03T12:06:00",
          "2011-03-03T12:06:00",
          "2011-03-03T12:06:00",
          "2011-03-03T12:06:00",
          "2011-03-03T12:06:00",
          "2011-03-03T12:06:00",
          "2011-03-03T12:06:00",
          "2011-03-03T12:20:00",
          "2011-03-04T09:08:00",
          "2011-03-04T09:08:00",
          "2011-03-04T09:08:00",
          "2011-03-04T09:08:00",
          "2011-03-04T09:08:00",
          "2011-03-04T09:08:00",
          "2011-03-04T09:08:00",
          "2011-03-04T09:08:00",
          "2011-03-04T09:08:00",
          "2011-03-04T09:08:00",
          "2011-03-04T09:08:00",
          "2011-03-04T09:08:00",
          "2011-03-04T09:08:00",
          "2011-03-04T09:08:00",
          "2011-03-04T09:08:00",
          "2011-03-11T12:00:00",
          "2011-03-11T12:00:00",
          "2011-03-11T12:00:00",
          "2011-03-11T12:00:00",
          "2011-03-11T12:00:00",
          "2011-03-11T12:00:00",
          "2011-03-11T12:00:00",
          "2011-03-11T12:00:00",
          "2011-03-11T12:00:00",
          "2011-03-11T12:00:00",
          "2011-03-11T12:00:00",
          "2011-03-11T12:00:00",
          "2011-03-11T12:00:00",
          "2011-03-11T12:00:00",
          "2011-03-11T12:00:00",
          "2011-03-11T12:00:00",
          "2011-03-11T12:00:00",
          "2011-03-11T12:00:00",
          "2011-03-11T12:00:00",
          "2011-03-13T14:55:00",
          "2011-03-13T14:55:00",
          "2011-03-13T14:55:00",
          "2011-03-13T14:55:00",
          "2011-03-13T14:55:00",
          "2011-03-13T14:55:00",
          "2011-03-13T14:55:00",
          "2011-03-13T14:55:00",
          "2011-03-13T14:55:00",
          "2011-03-13T14:55:00",
          "2011-03-13T14:55:00",
          "2011-03-13T14:55:00",
          "2011-03-13T14:55:00",
          "2011-03-13T14:55:00",
          "2011-03-13T14:55:00",
          "2011-03-13T14:55:00",
          "2011-03-13T14:55:00",
          "2011-03-14T11:38:00",
          "2011-03-14T11:38:00",
          "2011-03-14T11:38:00",
          "2011-03-14T11:38:00",
          "2011-03-14T11:38:00",
          "2011-03-14T11:38:00",
          "2011-03-14T11:38:00",
          "2011-03-14T11:38:00",
          "2011-03-14T11:38:00",
          "2011-03-14T11:38:00",
          "2011-03-14T11:38:00",
          "2011-03-14T11:38:00",
          "2011-03-14T11:38:00",
          "2011-03-14T11:38:00",
          "2011-03-14T11:38:00",
          "2011-03-14T11:38:00",
          "2011-03-14T11:38:00",
          "2011-03-14T11:38:00",
          "2011-03-14T11:38:00",
          "2011-03-14T11:38:00",
          "2011-03-15T16:39:00",
          "2011-03-15T16:39:00",
          "2011-03-15T16:39:00",
          "2011-03-15T16:39:00",
          "2011-03-15T16:39:00",
          "2011-03-15T16:39:00",
          "2011-03-15T16:39:00",
          "2011-03-15T16:39:00",
          "2011-03-15T16:39:00",
          "2011-03-15T16:39:00",
          "2011-03-15T16:39:00",
          "2011-03-15T16:39:00",
          "2011-03-15T16:39:00",
          "2011-03-15T16:39:00",
          "2011-03-15T16:39:00",
          "2011-03-15T16:39:00",
          "2011-03-15T16:39:00",
          "2011-03-15T16:39:00",
          "2011-03-15T16:39:00",
          "2011-03-15T16:39:00",
          "2011-03-15T16:39:00",
          "2011-03-15T16:39:00",
          "2011-03-15T16:39:00",
          "2011-03-15T16:39:00",
          "2011-03-15T16:39:00",
          "2011-03-15T16:39:00",
          "2011-03-15T16:39:00",
          "2011-03-15T16:39:00",
          "2011-03-16T14:37:00",
          "2011-03-16T14:37:00",
          "2011-03-16T14:37:00",
          "2011-03-16T14:37:00",
          "2011-03-16T14:37:00",
          "2011-03-16T14:37:00",
          "2011-03-16T14:37:00",
          "2011-03-16T15:17:00",
          "2011-03-16T15:17:00",
          "2011-03-16T15:17:00",
          "2011-03-16T15:17:00",
          "2011-03-16T15:17:00",
          "2011-03-16T15:17:00",
          "2011-03-16T15:17:00",
          "2011-03-16T15:17:00",
          "2011-03-20T15:58:00",
          "2011-03-20T15:58:00",
          "2011-03-20T15:58:00",
          "2011-03-20T15:58:00",
          "2011-03-20T15:58:00",
          "2011-03-20T15:58:00",
          "2011-03-20T15:58:00",
          "2011-03-20T15:58:00",
          "2011-03-20T15:58:00",
          "2011-03-20T15:58:00",
          "2011-03-20T15:58:00",
          "2011-03-20T15:58:00",
          "2011-03-20T15:58:00",
          "2011-03-20T15:58:00",
          "2011-03-21T12:42:00",
          "2011-03-21T12:42:00",
          "2011-03-21T12:42:00",
          "2011-03-21T12:42:00",
          "2011-03-21T12:42:00",
          "2011-03-21T12:42:00",
          "2011-03-21T12:42:00",
          "2011-03-21T12:42:00",
          "2011-03-21T12:42:00",
          "2011-03-21T12:42:00",
          "2011-03-21T12:42:00",
          "2011-03-21T12:42:00",
          "2011-03-21T12:42:00",
          "2011-03-21T12:42:00",
          "2011-03-21T12:42:00",
          "2011-03-21T12:42:00",
          "2011-03-21T12:42:00",
          "2011-03-21T12:42:00",
          "2011-03-21T12:42:00",
          "2011-03-21T12:42:00",
          "2011-03-21T12:42:00",
          "2011-03-21T12:42:00",
          "2011-03-21T12:42:00",
          "2011-03-21T12:42:00",
          "2011-03-21T12:42:00",
          "2011-03-21T12:42:00",
          "2011-03-21T12:42:00",
          "2011-03-21T12:42:00",
          "2011-03-21T12:42:00",
          "2011-03-21T12:42:00",
          "2011-03-21T12:42:00",
          "2011-03-21T12:42:00",
          "2011-03-21T12:42:00",
          "2011-03-21T12:42:00",
          "2011-03-21T12:42:00",
          "2011-03-21T12:42:00",
          "2011-03-21T12:42:00",
          "2011-03-21T12:42:00",
          "2011-03-21T12:42:00",
          "2011-03-21T12:42:00",
          "2011-03-21T12:44:00",
          "2011-03-21T12:44:00",
          "2011-03-21T12:44:00",
          "2011-03-21T12:44:00",
          "2011-03-22T11:28:00",
          "2011-03-22T11:28:00",
          "2011-03-22T11:28:00",
          "2011-03-22T11:28:00",
          "2011-03-22T11:28:00",
          "2011-03-22T11:28:00",
          "2011-03-22T11:28:00",
          "2011-03-22T11:28:00",
          "2011-03-22T11:28:00",
          "2011-03-22T11:28:00",
          "2011-03-22T11:28:00",
          "2011-03-22T11:28:00",
          "2011-03-22T11:28:00",
          "2011-03-22T11:28:00",
          "2011-03-22T11:28:00",
          "2011-03-22T11:28:00",
          "2011-03-22T11:28:00",
          "2011-03-22T11:28:00",
          "2011-03-22T11:28:00",
          "2011-03-22T11:28:00",
          "2011-03-22T11:28:00",
          "2011-03-22T11:28:00",
          "2011-03-22T11:28:00",
          "2011-03-22T11:28:00",
          "2011-03-22T11:28:00",
          "2011-03-22T11:28:00",
          "2011-03-22T11:28:00",
          "2011-03-22T11:28:00",
          "2011-03-22T11:28:00",
          "2011-03-22T11:28:00",
          "2011-03-23T12:06:00",
          "2011-03-23T12:06:00",
          "2011-03-23T12:06:00",
          "2011-03-23T12:06:00",
          "2011-03-23T12:06:00",
          "2011-03-23T12:06:00",
          "2011-03-23T12:06:00",
          "2011-03-23T12:06:00",
          "2011-03-23T12:06:00",
          "2011-03-23T13:33:00",
          "2011-03-23T13:33:00",
          "2011-03-23T13:33:00",
          "2011-03-23T13:33:00",
          "2011-03-23T13:33:00",
          "2011-03-23T13:33:00",
          "2011-03-23T13:33:00",
          "2011-03-23T13:33:00",
          "2011-03-23T13:33:00",
          "2011-03-23T13:33:00",
          "2011-03-23T13:33:00",
          "2011-03-23T13:33:00",
          "2011-03-23T13:33:00",
          "2011-03-23T13:33:00",
          "2011-03-23T13:33:00",
          "2011-03-23T13:33:00",
          "2011-03-23T13:33:00",
          "2011-03-23T13:33:00",
          "2011-03-23T13:33:00",
          "2011-03-23T13:33:00",
          "2011-03-23T13:33:00",
          "2011-03-23T13:33:00",
          "2011-03-23T13:33:00",
          "2011-03-23T13:33:00",
          "2011-03-23T13:33:00",
          "2011-03-23T13:33:00",
          "2011-03-23T13:33:00",
          "2011-03-23T13:33:00",
          "2011-03-23T13:33:00",
          "2011-03-23T13:33:00",
          "2011-03-23T13:33:00",
          "2011-03-23T13:33:00",
          "2011-03-23T13:33:00",
          "2011-03-23T13:33:00",
          "2011-03-23T13:39:00",
          "2011-03-23T13:39:00",
          "2011-03-23T13:39:00",
          "2011-03-23T13:39:00",
          "2011-03-23T13:39:00",
          "2011-03-23T13:39:00",
          "2011-03-23T13:39:00",
          "2011-03-23T13:39:00",
          "2011-03-23T14:55:00",
          "2011-03-23T14:55:00",
          "2011-03-23T14:55:00",
          "2011-03-23T14:55:00",
          "2011-03-23T14:55:00",
          "2011-03-23T14:55:00",
          "2011-03-23T14:55:00",
          "2011-03-23T14:55:00",
          "2011-03-23T14:55:00",
          "2011-03-23T14:55:00",
          "2011-03-23T14:55:00",
          "2011-03-23T14:55:00",
          "2011-03-23T14:55:00",
          "2011-03-23T14:55:00",
          "2011-03-23T14:55:00",
          "2011-03-23T14:55:00",
          "2011-03-23T14:55:00",
          "2011-03-23T14:55:00",
          "2011-03-23T14:55:00",
          "2011-03-23T14:55:00",
          "2011-03-25T10:19:00",
          "2011-03-25T10:19:00",
          "2011-03-25T10:19:00",
          "2011-03-25T10:19:00",
          "2011-03-25T10:19:00",
          "2011-03-25T10:19:00",
          "2011-03-25T10:19:00",
          "2011-03-25T10:19:00",
          "2011-03-25T10:19:00",
          "2011-03-25T10:19:00",
          "2011-03-25T10:19:00",
          "2011-03-25T10:19:00",
          "2011-03-25T10:19:00",
          "2011-03-25T10:19:00",
          "2011-03-25T10:19:00",
          "2011-03-25T10:19:00",
          "2011-03-25T10:19:00",
          "2011-03-25T10:19:00",
          "2011-03-25T10:19:00",
          "2011-03-25T10:19:00",
          "2011-03-25T10:19:00",
          "2011-03-25T10:19:00",
          "2011-03-27T13:07:00",
          "2011-03-27T13:07:00",
          "2011-03-27T13:07:00",
          "2011-03-27T13:07:00",
          "2011-03-27T13:07:00",
          "2011-03-27T13:07:00",
          "2011-03-27T13:07:00",
          "2011-03-28T10:15:00",
          "2011-03-28T10:15:00",
          "2011-03-28T10:15:00",
          "2011-03-28T10:15:00",
          "2011-03-28T10:15:00",
          "2011-03-28T10:15:00",
          "2011-03-28T10:15:00",
          "2011-03-28T10:15:00",
          "2011-03-28T10:15:00",
          "2011-03-28T10:15:00",
          "2011-03-28T10:15:00",
          "2011-03-28T10:15:00",
          "2011-03-28T10:15:00",
          "2011-03-28T10:15:00",
          "2011-03-28T10:15:00",
          "2011-03-28T10:15:00",
          "2011-03-28T10:15:00",
          "2011-03-28T10:15:00",
          "2011-03-28T10:15:00",
          "2011-03-28T10:15:00",
          "2011-03-28T10:15:00",
          "2011-03-28T10:15:00",
          "2011-03-28T10:15:00",
          "2011-03-28T10:15:00",
          "2011-03-28T10:15:00",
          "2011-03-28T10:15:00",
          "2011-03-28T10:15:00",
          "2011-03-28T10:15:00",
          "2011-03-28T10:15:00",
          "2011-03-28T10:15:00",
          "2011-03-28T10:15:00",
          "2011-03-28T10:15:00",
          "2011-03-28T10:15:00",
          "2011-03-28T10:15:00",
          "2011-03-28T10:15:00",
          "2011-03-28T10:15:00",
          "2011-03-28T10:15:00",
          "2011-03-28T10:15:00",
          "2011-03-28T10:15:00",
          "2011-03-28T10:15:00",
          "2011-03-28T10:15:00",
          "2011-03-28T10:15:00",
          "2011-03-28T10:15:00",
          "2011-03-28T10:15:00",
          "2011-03-28T10:15:00",
          "2011-03-28T10:15:00",
          "2011-03-28T10:15:00",
          "2011-03-28T10:15:00",
          "2011-03-28T10:15:00",
          "2011-03-28T10:15:00",
          "2011-03-28T10:15:00",
          "2011-03-28T10:15:00",
          "2011-03-28T10:15:00",
          "2011-03-28T10:15:00",
          "2011-03-28T10:15:00",
          "2011-03-28T10:15:00",
          "2011-03-28T10:15:00",
          "2011-03-28T10:15:00",
          "2011-03-28T10:15:00",
          "2011-03-28T10:15:00",
          "2011-03-28T10:15:00",
          "2011-03-28T10:15:00",
          "2011-03-28T10:15:00",
          "2011-03-28T10:15:00",
          "2011-03-28T10:15:00",
          "2011-03-28T10:15:00",
          "2011-03-28T10:15:00",
          "2011-03-28T10:15:00",
          "2011-03-31T10:27:00",
          "2011-03-31T10:27:00",
          "2011-03-31T10:27:00",
          "2011-03-31T10:27:00",
          "2011-03-31T10:27:00",
          "2011-03-31T10:27:00",
          "2011-03-31T10:27:00",
          "2011-03-31T10:27:00",
          "2011-03-31T10:27:00",
          "2011-03-31T10:27:00",
          "2011-03-31T10:27:00",
          "2011-03-31T10:27:00",
          "2011-03-31T10:27:00",
          "2011-03-31T10:27:00",
          "2011-03-31T10:27:00",
          "2011-03-31T10:27:00",
          "2011-03-31T10:27:00",
          "2011-03-31T10:27:00",
          "2011-03-31T10:27:00",
          "2011-03-31T10:27:00",
          "2011-03-31T10:27:00",
          "2011-03-31T10:27:00",
          "2011-03-31T10:27:00",
          "2011-03-31T10:27:00",
          "2011-03-31T10:27:00",
          "2011-03-31T10:27:00",
          "2011-03-31T10:27:00",
          "2011-03-31T10:27:00",
          "2011-03-31T10:27:00",
          "2011-03-31T10:27:00",
          "2011-03-31T10:27:00",
          "2011-03-31T10:27:00",
          "2011-03-31T10:27:00",
          "2011-03-31T10:29:00",
          "2011-03-31T10:29:00",
          "2011-03-31T10:29:00",
          "2011-03-31T10:29:00",
          "2011-03-31T13:40:00",
          "2011-03-31T13:40:00",
          "2011-03-31T13:40:00",
          "2011-03-31T13:40:00",
          "2011-03-31T13:40:00",
          "2011-03-31T13:40:00",
          "2011-03-31T13:40:00",
          "2011-03-31T13:40:00",
          "2011-03-31T13:40:00",
          "2011-03-31T13:40:00",
          "2011-03-31T13:40:00",
          "2011-03-31T13:40:00",
          "2011-03-31T13:40:00",
          "2011-03-31T13:40:00",
          "2011-03-31T13:40:00",
          "2011-03-31T13:40:00",
          "2011-03-31T13:40:00",
          "2011-03-31T13:40:00",
          "2011-03-31T13:40:00",
          "2011-03-31T13:40:00",
          "2011-03-31T13:40:00",
          "2011-03-31T13:40:00",
          "2011-03-31T13:40:00",
          "2011-03-31T13:40:00",
          "2011-03-31T13:40:00",
          "2011-03-31T13:40:00",
          "2011-03-31T13:40:00",
          "2011-03-31T13:40:00",
          "2011-03-31T13:40:00",
          "2011-03-31T13:40:00",
          "2011-03-31T13:40:00",
          "2011-03-31T13:40:00",
          "2011-03-31T13:40:00",
          "2011-03-31T13:40:00",
          "2011-03-31T13:40:00",
          "2011-04-01T09:19:00",
          "2011-04-01T09:19:00",
          "2011-04-01T09:19:00",
          "2011-04-01T09:19:00",
          "2011-04-01T09:19:00",
          "2011-04-01T09:19:00",
          "2011-04-01T09:19:00",
          "2011-04-01T09:19:00",
          "2011-04-01T09:19:00",
          "2011-04-01T11:10:00",
          "2011-04-01T11:10:00",
          "2011-04-01T11:10:00",
          "2011-04-04T11:18:00",
          "2011-04-04T11:18:00",
          "2011-04-04T11:18:00",
          "2011-04-04T11:18:00",
          "2011-04-04T11:18:00",
          "2011-04-04T11:18:00",
          "2011-04-04T11:18:00",
          "2011-04-04T11:18:00",
          "2011-04-04T11:18:00",
          "2011-04-04T11:18:00",
          "2011-04-04T11:18:00",
          "2011-04-04T11:18:00",
          "2011-04-04T11:18:00",
          "2011-04-04T11:18:00",
          "2011-04-04T11:18:00",
          "2011-04-04T11:18:00",
          "2011-04-04T11:18:00",
          "2011-04-04T11:18:00",
          "2011-04-04T11:18:00",
          "2011-04-04T11:18:00",
          "2011-04-04T11:18:00",
          "2011-04-04T11:18:00",
          "2011-04-04T11:18:00",
          "2011-04-04T11:18:00",
          "2011-04-04T11:18:00",
          "2011-04-04T11:18:00",
          "2011-04-07T13:07:00",
          "2011-04-07T13:07:00",
          "2011-04-07T13:07:00",
          "2011-04-07T13:07:00",
          "2011-04-07T13:07:00",
          "2011-04-07T13:07:00",
          "2011-04-07T13:07:00",
          "2011-04-07T13:07:00",
          "2011-04-07T13:07:00",
          "2011-04-07T13:07:00",
          "2011-04-07T13:07:00",
          "2011-04-07T13:07:00",
          "2011-04-07T13:07:00",
          "2011-04-07T13:07:00",
          "2011-04-07T13:07:00",
          "2011-04-07T13:07:00",
          "2011-04-07T13:07:00",
          "2011-04-07T13:07:00",
          "2011-04-07T13:07:00",
          "2011-04-07T13:07:00",
          "2011-04-07T13:07:00",
          "2011-04-07T13:07:00",
          "2011-04-07T13:07:00",
          "2011-04-14T14:15:00",
          "2011-04-14T14:15:00",
          "2011-04-14T14:15:00",
          "2011-04-14T14:15:00",
          "2011-04-14T14:15:00",
          "2011-04-14T14:15:00",
          "2011-04-14T14:15:00",
          "2011-04-14T14:15:00",
          "2011-04-14T14:15:00",
          "2011-04-14T14:15:00",
          "2011-04-14T14:15:00",
          "2011-04-14T14:15:00",
          "2011-04-14T14:15:00",
          "2011-04-14T14:15:00",
          "2011-04-14T14:15:00",
          "2011-04-14T14:15:00",
          "2011-04-14T14:15:00",
          "2011-04-14T14:15:00",
          "2011-04-14T14:15:00",
          "2011-04-14T14:15:00",
          "2011-04-14T14:15:00",
          "2011-04-14T14:15:00",
          "2011-04-14T14:15:00",
          "2011-04-14T14:15:00",
          "2011-04-14T14:15:00",
          "2011-04-14T14:15:00",
          "2011-04-14T14:15:00",
          "2011-04-14T14:15:00",
          "2011-04-14T14:15:00",
          "2011-04-14T14:15:00",
          "2011-04-17T11:21:00",
          "2011-04-17T11:21:00",
          "2011-04-17T11:21:00",
          "2011-04-17T11:21:00",
          "2011-04-17T11:21:00",
          "2011-04-17T11:21:00",
          "2011-04-17T11:21:00",
          "2011-04-17T11:21:00",
          "2011-04-17T11:21:00",
          "2011-04-17T11:21:00",
          "2011-04-17T11:21:00",
          "2011-04-17T11:21:00",
          "2011-04-17T11:21:00",
          "2011-04-17T11:21:00",
          "2011-04-17T11:21:00",
          "2011-04-17T11:21:00",
          "2011-04-17T11:21:00",
          "2011-04-17T11:21:00",
          "2011-04-17T11:21:00",
          "2011-04-17T11:21:00",
          "2011-04-17T11:21:00",
          "2011-04-17T11:21:00",
          "2011-04-17T11:21:00",
          "2011-04-17T11:21:00",
          "2011-04-17T11:21:00",
          "2011-04-17T11:21:00",
          "2011-04-17T15:33:00",
          "2011-04-17T15:33:00",
          "2011-04-17T15:33:00",
          "2011-04-17T15:33:00",
          "2011-04-20T09:20:00",
          "2011-04-20T09:20:00",
          "2011-04-20T09:20:00",
          "2011-04-20T09:20:00",
          "2011-04-20T09:20:00",
          "2011-04-20T09:20:00",
          "2011-04-20T09:20:00",
          "2011-04-20T09:20:00",
          "2011-04-20T09:20:00",
          "2011-04-20T09:20:00",
          "2011-04-20T09:20:00",
          "2011-04-20T09:20:00",
          "2011-04-20T09:20:00",
          "2011-04-20T09:20:00",
          "2011-04-20T09:20:00",
          "2011-04-20T09:20:00",
          "2011-04-20T09:20:00",
          "2011-04-21T08:54:00",
          "2011-04-21T08:54:00",
          "2011-04-21T08:54:00",
          "2011-04-21T08:54:00",
          "2011-04-21T08:54:00",
          "2011-04-21T08:54:00",
          "2011-04-21T08:54:00",
          "2011-04-21T08:54:00",
          "2011-04-21T08:54:00",
          "2011-04-21T08:54:00",
          "2011-04-21T08:54:00",
          "2011-04-21T08:54:00",
          "2011-04-21T08:54:00",
          "2011-04-21T08:54:00",
          "2011-04-21T08:54:00",
          "2011-04-21T08:54:00",
          "2011-04-21T08:54:00",
          "2011-04-21T08:54:00",
          "2011-04-21T08:54:00",
          "2011-04-21T08:54:00",
          "2011-04-21T08:54:00",
          "2011-04-21T08:54:00",
          "2011-04-21T08:54:00",
          "2011-04-21T10:16:00",
          "2011-04-21T10:16:00",
          "2011-04-21T10:16:00",
          "2011-04-21T10:16:00",
          "2011-04-21T10:16:00",
          "2011-04-21T10:16:00",
          "2011-04-21T10:16:00",
          "2011-04-21T10:16:00",
          "2011-04-21T10:16:00",
          "2011-04-21T10:16:00",
          "2011-04-21T10:16:00",
          "2011-04-21T10:16:00",
          "2011-04-21T10:16:00",
          "2011-04-21T10:16:00",
          "2011-04-21T10:16:00",
          "2011-04-21T10:16:00",
          "2011-04-21T10:16:00",
          "2011-04-21T10:16:00",
          "2011-04-21T10:16:00",
          "2011-04-21T10:16:00",
          "2011-04-21T10:16:00",
          "2011-04-26T15:52:00",
          "2011-04-26T15:52:00",
          "2011-04-26T15:52:00",
          "2011-04-26T15:52:00",
          "2011-04-26T15:52:00",
          "2011-04-26T15:52:00",
          "2011-04-26T15:52:00",
          "2011-04-26T15:52:00",
          "2011-04-26T15:52:00",
          "2011-04-26T15:52:00",
          "2011-04-26T15:52:00",
          "2011-04-26T15:52:00",
          "2011-04-26T15:52:00",
          "2011-04-26T15:52:00",
          "2011-04-26T15:52:00",
          "2011-04-26T15:52:00",
          "2011-04-26T15:52:00",
          "2011-04-26T15:52:00",
          "2011-04-26T15:52:00",
          "2011-04-26T15:52:00",
          "2011-04-26T15:52:00",
          "2011-04-26T15:52:00",
          "2011-04-26T15:52:00",
          "2011-04-26T15:52:00",
          "2011-04-26T15:52:00",
          "2011-04-26T15:52:00",
          "2011-04-26T15:52:00",
          "2011-04-26T15:52:00",
          "2011-04-28T11:45:00",
          "2011-04-28T11:45:00",
          "2011-04-28T11:45:00",
          "2011-04-28T11:45:00",
          "2011-04-28T11:45:00",
          "2011-04-28T11:45:00",
          "2011-04-28T11:45:00",
          "2011-05-03T08:40:00",
          "2011-05-03T08:40:00",
          "2011-05-03T08:40:00",
          "2011-05-03T08:40:00",
          "2011-05-03T08:40:00",
          "2011-05-03T08:40:00",
          "2011-05-03T08:40:00",
          "2011-05-03T08:40:00",
          "2011-05-03T08:40:00",
          "2011-05-03T08:40:00",
          "2011-05-03T08:40:00",
          "2011-05-03T08:40:00",
          "2011-05-03T08:40:00",
          "2011-05-03T08:40:00",
          "2011-05-03T08:40:00",
          "2011-05-03T08:40:00",
          "2011-05-03T08:40:00",
          "2011-05-03T08:40:00",
          "2011-05-03T08:40:00",
          "2011-05-03T08:40:00",
          "2011-05-03T09:33:00",
          "2011-05-03T09:33:00",
          "2011-05-03T09:33:00",
          "2011-05-03T09:33:00",
          "2011-05-03T09:33:00",
          "2011-05-03T09:33:00",
          "2011-05-03T09:33:00",
          "2011-05-03T09:33:00",
          "2011-05-03T09:33:00",
          "2011-05-03T09:33:00",
          "2011-05-03T09:33:00",
          "2011-05-03T09:33:00",
          "2011-05-03T09:33:00",
          "2011-05-03T09:33:00",
          "2011-05-03T09:33:00",
          "2011-05-03T09:33:00",
          "2011-05-03T09:33:00",
          "2011-05-03T09:33:00",
          "2011-05-03T09:33:00",
          "2011-05-03T09:33:00",
          "2011-05-03T09:34:00",
          "2011-05-03T12:02:00",
          "2011-05-03T12:02:00",
          "2011-05-03T12:02:00",
          "2011-05-03T12:03:00",
          "2011-05-03T12:03:00",
          "2011-05-03T12:03:00",
          "2011-05-03T12:03:00",
          "2011-05-05T09:29:00",
          "2011-05-05T09:29:00",
          "2011-05-05T09:29:00",
          "2011-05-05T09:29:00",
          "2011-05-05T09:29:00",
          "2011-05-05T09:29:00",
          "2011-05-05T09:29:00",
          "2011-05-05T09:29:00",
          "2011-05-05T09:29:00",
          "2011-05-05T09:29:00",
          "2011-05-08T16:10:00",
          "2011-05-08T16:10:00",
          "2011-05-08T16:10:00",
          "2011-05-08T16:10:00",
          "2011-05-08T16:10:00",
          "2011-05-08T16:10:00",
          "2011-05-08T16:10:00",
          "2011-05-08T16:10:00",
          "2011-05-08T16:10:00",
          "2011-05-08T16:10:00",
          "2011-05-08T16:10:00",
          "2011-05-08T16:10:00",
          "2011-05-08T16:10:00",
          "2011-05-08T16:10:00",
          "2011-05-08T16:10:00",
          "2011-05-08T16:10:00",
          "2011-05-08T16:10:00",
          "2011-05-08T16:10:00",
          "2011-05-08T16:10:00",
          "2011-05-08T16:10:00",
          "2011-05-08T16:10:00",
          "2011-05-08T16:10:00",
          "2011-05-08T16:10:00",
          "2011-05-08T16:10:00",
          "2011-05-08T16:10:00",
          "2011-05-08T16:10:00",
          "2011-05-08T16:10:00",
          "2011-05-08T16:10:00",
          "2011-05-08T16:10:00",
          "2011-05-08T16:10:00",
          "2011-05-08T16:10:00",
          "2011-05-08T16:10:00",
          "2011-05-08T16:10:00",
          "2011-05-08T16:10:00",
          "2011-05-08T16:10:00",
          "2011-05-08T16:10:00",
          "2011-05-08T16:10:00",
          "2011-05-08T16:10:00",
          "2011-05-08T16:10:00",
          "2011-05-08T16:10:00",
          "2011-05-08T16:10:00",
          "2011-05-08T16:10:00",
          "2011-05-08T16:10:00",
          "2011-05-08T16:10:00",
          "2011-05-08T16:10:00",
          "2011-05-08T16:10:00",
          "2011-05-08T16:10:00",
          "2011-05-08T16:10:00",
          "2011-05-08T16:10:00",
          "2011-05-08T16:10:00",
          "2011-05-08T16:10:00",
          "2011-05-08T16:10:00",
          "2011-05-08T16:10:00",
          "2011-05-08T16:10:00",
          "2011-05-08T16:10:00",
          "2011-05-08T16:10:00",
          "2011-05-08T16:10:00",
          "2011-05-08T16:10:00",
          "2011-05-08T16:10:00",
          "2011-05-08T16:10:00",
          "2011-05-08T16:10:00",
          "2011-05-09T09:47:00",
          "2011-05-09T09:47:00",
          "2011-05-09T09:47:00",
          "2011-05-09T09:47:00",
          "2011-05-09T09:47:00",
          "2011-05-09T09:47:00",
          "2011-05-09T09:47:00",
          "2011-05-09T09:47:00",
          "2011-05-09T09:47:00",
          "2011-05-09T09:47:00",
          "2011-05-09T09:47:00",
          "2011-05-09T09:47:00",
          "2011-05-09T09:47:00",
          "2011-05-09T09:47:00",
          "2011-05-09T09:47:00",
          "2011-05-09T09:47:00",
          "2011-05-09T15:12:00",
          "2011-05-09T15:12:00",
          "2011-05-09T15:12:00",
          "2011-05-09T15:12:00",
          "2011-05-09T15:12:00",
          "2011-05-09T15:12:00",
          "2011-05-09T15:12:00",
          "2011-05-09T15:12:00",
          "2011-05-09T15:12:00",
          "2011-05-10T12:55:00",
          "2011-05-10T12:55:00",
          "2011-05-10T12:55:00",
          "2011-05-10T12:55:00",
          "2011-05-10T12:55:00",
          "2011-05-10T12:55:00",
          "2011-05-10T12:55:00",
          "2011-05-10T12:55:00",
          "2011-05-10T12:55:00",
          "2011-05-10T12:55:00",
          "2011-05-10T12:55:00",
          "2011-05-10T12:55:00",
          "2011-05-10T12:55:00",
          "2011-05-10T12:55:00",
          "2011-05-10T12:55:00",
          "2011-05-10T12:55:00",
          "2011-05-10T12:55:00",
          "2011-05-10T12:55:00",
          "2011-05-10T12:55:00",
          "2011-05-10T12:55:00",
          "2011-05-10T12:55:00",
          "2011-05-10T12:55:00",
          "2011-05-10T12:55:00",
          "2011-05-10T12:55:00",
          "2011-05-10T12:55:00",
          "2011-05-10T12:55:00",
          "2011-05-10T12:55:00",
          "2011-05-10T12:55:00",
          "2011-05-10T12:55:00",
          "2011-05-11T13:20:00",
          "2011-05-11T13:20:00",
          "2011-05-11T13:20:00",
          "2011-05-11T13:20:00",
          "2011-05-11T13:20:00",
          "2011-05-11T13:20:00",
          "2011-05-11T13:20:00",
          "2011-05-11T13:20:00",
          "2011-05-11T13:20:00",
          "2011-05-11T13:20:00",
          "2011-05-11T13:20:00",
          "2011-05-11T13:20:00",
          "2011-05-11T13:20:00",
          "2011-05-11T13:20:00",
          "2011-05-11T13:20:00",
          "2011-05-11T13:20:00",
          "2011-05-11T13:20:00",
          "2011-05-11T13:20:00",
          "2011-05-11T13:20:00",
          "2011-05-11T13:20:00",
          "2011-05-11T13:20:00",
          "2011-05-11T13:20:00",
          "2011-05-11T13:20:00",
          "2011-05-11T13:20:00",
          "2011-05-11T13:20:00",
          "2011-05-11T13:20:00",
          "2011-05-11T13:20:00",
          "2011-05-11T13:20:00",
          "2011-05-11T13:20:00",
          "2011-05-11T13:20:00",
          "2011-05-11T13:20:00",
          "2011-05-11T13:20:00",
          "2011-05-11T13:20:00",
          "2011-05-11T13:20:00",
          "2011-05-11T13:20:00",
          "2011-05-11T13:20:00",
          "2011-05-11T13:20:00",
          "2011-05-11T13:20:00",
          "2011-05-11T13:20:00",
          "2011-05-11T13:20:00",
          "2011-05-11T13:20:00",
          "2011-05-11T13:20:00",
          "2011-05-11T13:20:00",
          "2011-05-11T13:20:00",
          "2011-05-11T13:20:00",
          "2011-05-11T13:20:00",
          "2011-05-11T13:20:00",
          "2011-05-11T13:20:00",
          "2011-05-11T13:20:00",
          "2011-05-11T13:20:00",
          "2011-05-11T13:20:00",
          "2011-05-11T13:20:00",
          "2011-05-11T13:20:00",
          "2011-05-11T13:20:00",
          "2011-05-11T13:20:00",
          "2011-05-11T13:20:00",
          "2011-05-11T13:20:00",
          "2011-05-11T13:20:00",
          "2011-05-11T13:20:00",
          "2011-05-11T13:20:00",
          "2011-05-11T13:20:00",
          "2011-05-11T13:20:00",
          "2011-05-11T13:20:00",
          "2011-05-11T13:20:00",
          "2011-05-11T13:20:00",
          "2011-05-11T13:20:00",
          "2011-05-11T13:20:00",
          "2011-05-11T13:20:00",
          "2011-05-11T13:20:00",
          "2011-05-11T13:20:00",
          "2011-05-11T13:20:00",
          "2011-05-11T13:20:00",
          "2011-05-11T13:20:00",
          "2011-05-11T13:20:00",
          "2011-05-11T13:20:00",
          "2011-05-11T15:07:00",
          "2011-05-11T15:07:00",
          "2011-05-11T15:07:00",
          "2011-05-11T15:07:00",
          "2011-05-11T15:07:00",
          "2011-05-11T15:07:00",
          "2011-05-11T15:07:00",
          "2011-05-11T15:07:00",
          "2011-05-11T15:07:00",
          "2011-05-11T15:07:00",
          "2011-05-11T15:07:00",
          "2011-05-11T15:07:00",
          "2011-05-11T15:07:00",
          "2011-05-11T15:07:00",
          "2011-05-11T15:07:00",
          "2011-05-11T15:07:00",
          "2011-05-11T15:07:00",
          "2011-05-11T15:07:00",
          "2011-05-11T15:07:00",
          "2011-05-11T15:07:00",
          "2011-05-11T15:07:00",
          "2011-05-11T15:07:00",
          "2011-05-11T15:07:00",
          "2011-05-12T11:50:00",
          "2011-05-12T11:50:00",
          "2011-05-12T11:50:00",
          "2011-05-12T11:50:00",
          "2011-05-12T11:50:00",
          "2011-05-12T11:50:00",
          "2011-05-12T11:50:00",
          "2011-05-12T11:50:00",
          "2011-05-12T11:50:00",
          "2011-05-12T11:50:00",
          "2011-05-12T11:50:00",
          "2011-05-13T09:24:00",
          "2011-05-13T09:24:00",
          "2011-05-13T09:24:00",
          "2011-05-13T09:24:00",
          "2011-05-13T09:24:00",
          "2011-05-13T09:24:00",
          "2011-05-13T09:24:00",
          "2011-05-13T09:24:00",
          "2011-05-13T09:24:00",
          "2011-05-13T09:24:00",
          "2011-05-13T09:24:00",
          "2011-05-13T09:24:00",
          "2011-05-13T09:24:00",
          "2011-05-13T09:24:00",
          "2011-05-13T09:24:00",
          "2011-05-13T09:24:00",
          "2011-05-13T09:24:00",
          "2011-05-13T09:24:00",
          "2011-05-13T09:24:00",
          "2011-05-13T09:24:00",
          "2011-05-13T09:24:00",
          "2011-05-13T09:24:00",
          "2011-05-13T09:24:00",
          "2011-05-13T13:15:00",
          "2011-05-13T13:15:00",
          "2011-05-13T13:15:00",
          "2011-05-13T13:15:00",
          "2011-05-13T13:15:00",
          "2011-05-13T13:15:00",
          "2011-05-13T15:48:00",
          "2011-05-13T15:48:00",
          "2011-05-13T15:48:00",
          "2011-05-13T15:48:00",
          "2011-05-13T15:48:00",
          "2011-05-13T15:48:00",
          "2011-05-13T15:48:00",
          "2011-05-13T15:48:00",
          "2011-05-13T15:48:00",
          "2011-05-13T15:48:00",
          "2011-05-13T15:48:00",
          "2011-05-13T15:48:00",
          "2011-05-13T15:48:00",
          "2011-05-13T15:48:00",
          "2011-05-13T15:48:00",
          "2011-05-13T15:48:00",
          "2011-05-13T15:48:00",
          "2011-05-13T15:48:00",
          "2011-05-13T15:48:00",
          "2011-05-13T15:48:00",
          "2011-05-13T15:48:00",
          "2011-05-13T15:48:00",
          "2011-05-15T13:45:00",
          "2011-05-15T13:45:00",
          "2011-05-15T13:45:00",
          "2011-05-15T13:45:00",
          "2011-05-15T13:45:00",
          "2011-05-15T13:45:00",
          "2011-05-15T13:45:00",
          "2011-05-15T13:45:00",
          "2011-05-15T13:45:00",
          "2011-05-16T09:10:00",
          "2011-05-16T09:10:00",
          "2011-05-16T09:10:00",
          "2011-05-16T09:10:00",
          "2011-05-16T09:10:00",
          "2011-05-16T09:10:00",
          "2011-05-16T09:10:00",
          "2011-05-16T09:10:00",
          "2011-05-16T09:10:00",
          "2011-05-16T09:10:00",
          "2011-05-16T09:10:00",
          "2011-05-16T09:10:00",
          "2011-05-16T09:10:00",
          "2011-05-16T09:10:00",
          "2011-05-16T09:10:00",
          "2011-05-16T09:10:00",
          "2011-05-16T12:04:00",
          "2011-05-16T12:04:00",
          "2011-05-16T12:04:00",
          "2011-05-16T12:04:00",
          "2011-05-16T12:04:00",
          "2011-05-16T12:04:00",
          "2011-05-17T09:28:00",
          "2011-05-17T09:28:00",
          "2011-05-17T09:28:00",
          "2011-05-17T09:28:00",
          "2011-05-17T09:28:00",
          "2011-05-17T09:28:00",
          "2011-05-17T09:28:00",
          "2011-05-17T09:28:00",
          "2011-05-17T09:28:00",
          "2011-05-17T09:28:00",
          "2011-05-17T09:28:00",
          "2011-05-17T09:28:00",
          "2011-05-17T09:28:00",
          "2011-05-17T09:28:00",
          "2011-05-17T09:28:00",
          "2011-05-17T09:28:00",
          "2011-05-17T09:28:00",
          "2011-05-17T09:28:00",
          "2011-05-17T09:28:00",
          "2011-05-17T09:28:00",
          "2011-05-17T09:28:00",
          "2011-05-17T09:28:00",
          "2011-05-17T09:28:00",
          "2011-05-17T09:28:00",
          "2011-05-17T09:28:00",
          "2011-05-17T09:28:00",
          "2011-05-17T09:28:00",
          "2011-05-17T09:28:00",
          "2011-05-17T09:28:00",
          "2011-05-17T09:28:00",
          "2011-05-17T09:28:00",
          "2011-05-17T09:28:00",
          "2011-05-17T09:28:00",
          "2011-05-17T09:28:00",
          "2011-05-17T09:28:00",
          "2011-05-17T09:28:00",
          "2011-05-17T09:28:00",
          "2011-05-17T09:28:00",
          "2011-05-17T09:28:00",
          "2011-05-17T09:28:00",
          "2011-05-17T09:28:00",
          "2011-05-17T09:28:00",
          "2011-05-17T09:28:00",
          "2011-05-17T09:28:00",
          "2011-05-18T09:09:00",
          "2011-05-18T09:09:00",
          "2011-05-18T09:09:00",
          "2011-05-18T09:09:00",
          "2011-05-18T09:09:00",
          "2011-05-18T09:09:00",
          "2011-05-18T09:09:00",
          "2011-05-18T09:09:00",
          "2011-05-18T09:09:00",
          "2011-05-18T09:09:00",
          "2011-05-18T09:09:00",
          "2011-05-18T09:09:00",
          "2011-05-18T09:09:00",
          "2011-05-18T09:09:00",
          "2011-05-18T09:09:00",
          "2011-05-18T10:34:00",
          "2011-05-18T10:34:00",
          "2011-05-18T10:34:00",
          "2011-05-18T10:34:00",
          "2011-05-18T10:34:00",
          "2011-05-18T10:34:00",
          "2011-05-18T10:34:00",
          "2011-05-18T10:34:00",
          "2011-05-18T10:34:00",
          "2011-05-18T12:18:00",
          "2011-05-19T12:10:00",
          "2011-05-19T12:10:00",
          "2011-05-19T12:10:00",
          "2011-05-19T12:10:00",
          "2011-05-19T12:10:00",
          "2011-05-19T12:10:00",
          "2011-05-19T12:10:00",
          "2011-05-19T12:10:00",
          "2011-05-19T12:10:00",
          "2011-05-19T12:10:00",
          "2011-05-19T12:10:00",
          "2011-05-19T12:10:00",
          "2011-05-19T12:10:00",
          "2011-05-19T12:10:00",
          "2011-05-19T12:10:00",
          "2011-05-19T12:10:00",
          "2011-05-19T12:10:00",
          "2011-05-19T12:10:00",
          "2011-05-19T12:10:00",
          "2011-05-19T12:10:00",
          "2011-05-19T12:10:00",
          "2011-05-19T12:10:00",
          "2011-05-19T12:10:00",
          "2011-05-19T12:10:00",
          "2011-05-19T12:10:00",
          "2011-05-19T12:10:00",
          "2011-05-19T12:10:00",
          "2011-05-19T12:10:00",
          "2011-05-19T12:10:00",
          "2011-05-19T12:10:00",
          "2011-05-19T12:10:00",
          "2011-05-19T12:10:00",
          "2011-05-19T12:10:00",
          "2011-05-19T12:29:00",
          "2011-05-19T12:29:00",
          "2011-05-19T12:29:00",
          "2011-05-19T12:29:00",
          "2011-05-19T12:29:00",
          "2011-05-19T12:29:00",
          "2011-05-19T12:29:00",
          "2011-05-19T12:29:00",
          "2011-05-19T12:29:00",
          "2011-05-19T12:29:00",
          "2011-05-19T12:29:00",
          "2011-05-19T12:29:00",
          "2011-05-19T12:29:00",
          "2011-05-19T12:29:00",
          "2011-05-19T12:29:00",
          "2011-05-19T12:29:00",
          "2011-05-19T12:29:00",
          "2011-05-19T12:29:00",
          "2011-05-20T11:34:00",
          "2011-05-20T11:34:00",
          "2011-05-20T11:34:00",
          "2011-05-20T11:34:00",
          "2011-05-20T11:34:00",
          "2011-05-20T11:34:00",
          "2011-05-20T11:34:00",
          "2011-05-20T11:34:00",
          "2011-05-20T11:34:00",
          "2011-05-20T11:34:00",
          "2011-05-20T11:34:00",
          "2011-05-20T11:34:00",
          "2011-05-20T11:34:00",
          "2011-05-22T13:01:00",
          "2011-05-22T13:01:00",
          "2011-05-22T13:01:00",
          "2011-05-22T13:01:00",
          "2011-05-22T13:01:00",
          "2011-05-22T13:01:00",
          "2011-05-22T13:01:00",
          "2011-05-22T13:01:00",
          "2011-05-22T13:01:00",
          "2011-05-22T13:01:00",
          "2011-05-22T13:01:00",
          "2011-05-22T13:01:00",
          "2011-05-22T13:01:00",
          "2011-05-22T13:01:00",
          "2011-05-22T13:01:00",
          "2011-05-22T13:01:00",
          "2011-05-22T13:01:00",
          "2011-05-22T13:01:00",
          "2011-05-22T13:01:00",
          "2011-05-22T13:01:00",
          "2011-05-22T13:01:00",
          "2011-05-22T13:01:00",
          "2011-05-22T13:01:00",
          "2011-05-22T13:01:00",
          "2011-05-22T13:01:00",
          "2011-05-22T13:01:00",
          "2011-05-22T13:01:00",
          "2011-05-22T13:01:00",
          "2011-05-22T13:01:00",
          "2011-05-22T13:01:00",
          "2011-05-22T13:01:00",
          "2011-05-22T13:01:00",
          "2011-05-22T13:01:00",
          "2011-05-22T13:01:00",
          "2011-05-22T14:33:00",
          "2011-05-22T14:33:00",
          "2011-05-22T14:33:00",
          "2011-05-22T14:33:00",
          "2011-05-22T14:33:00",
          "2011-05-22T14:33:00",
          "2011-05-22T14:33:00",
          "2011-05-22T14:33:00",
          "2011-05-22T14:33:00",
          "2011-05-23T09:48:00",
          "2011-05-23T09:48:00",
          "2011-05-23T09:48:00",
          "2011-05-23T09:48:00",
          "2011-05-23T09:48:00",
          "2011-05-23T09:48:00",
          "2011-05-23T09:48:00",
          "2011-05-23T09:48:00",
          "2011-05-23T09:48:00",
          "2011-05-23T09:48:00",
          "2011-05-23T09:48:00",
          "2011-05-23T09:48:00",
          "2011-05-23T09:48:00",
          "2011-05-23T09:48:00",
          "2011-05-23T09:48:00",
          "2011-05-23T09:48:00",
          "2011-05-23T09:48:00",
          "2011-05-23T09:48:00",
          "2011-05-23T09:48:00",
          "2011-05-24T09:25:00",
          "2011-05-24T09:25:00",
          "2011-05-24T09:25:00",
          "2011-05-24T09:25:00",
          "2011-05-24T09:25:00",
          "2011-05-24T09:25:00",
          "2011-05-24T09:25:00",
          "2011-05-24T09:25:00",
          "2011-05-24T09:25:00",
          "2011-05-24T09:25:00",
          "2011-05-24T09:25:00",
          "2011-05-24T09:25:00",
          "2011-05-25T10:08:00",
          "2011-05-25T10:08:00",
          "2011-05-25T10:08:00",
          "2011-05-25T10:08:00",
          "2011-05-25T10:08:00",
          "2011-05-25T10:08:00",
          "2011-05-25T10:08:00",
          "2011-05-25T10:08:00",
          "2011-05-25T10:08:00",
          "2011-05-25T10:08:00",
          "2011-05-25T12:44:00",
          "2011-05-25T12:44:00",
          "2011-05-25T12:44:00",
          "2011-05-25T12:44:00",
          "2011-05-25T12:44:00",
          "2011-05-25T12:44:00",
          "2011-05-25T12:44:00",
          "2011-05-25T12:44:00",
          "2011-05-25T12:44:00",
          "2011-05-25T12:44:00",
          "2011-05-25T12:44:00",
          "2011-05-25T12:44:00",
          "2011-05-25T12:44:00",
          "2011-05-25T12:44:00",
          "2011-05-25T12:44:00",
          "2011-05-25T12:44:00",
          "2011-05-25T12:44:00",
          "2011-05-25T12:44:00",
          "2011-05-25T12:44:00",
          "2011-05-25T12:44:00",
          "2011-05-25T12:54:00",
          "2011-05-25T12:54:00",
          "2011-05-25T12:54:00",
          "2011-05-25T12:54:00",
          "2011-05-25T12:54:00",
          "2011-05-25T12:54:00",
          "2011-05-25T12:54:00",
          "2011-05-25T12:54:00",
          "2011-05-25T12:54:00",
          "2011-05-25T12:54:00",
          "2011-05-25T12:54:00",
          "2011-05-25T12:54:00",
          "2011-05-25T12:54:00",
          "2011-05-25T12:54:00",
          "2011-05-25T12:54:00",
          "2011-05-25T12:54:00",
          "2011-05-25T12:54:00",
          "2011-05-25T12:54:00",
          "2011-05-25T12:54:00",
          "2011-05-25T12:54:00",
          "2011-05-25T12:54:00",
          "2011-05-25T12:54:00",
          "2011-05-25T12:54:00",
          "2011-05-25T12:54:00",
          "2011-05-25T12:54:00",
          "2011-05-25T12:54:00",
          "2011-05-25T12:54:00",
          "2011-05-25T12:54:00",
          "2011-05-25T12:54:00",
          "2011-05-26T14:53:00",
          "2011-05-26T14:53:00",
          "2011-05-26T14:53:00",
          "2011-05-26T14:53:00",
          "2011-05-26T14:53:00",
          "2011-05-26T14:53:00",
          "2011-05-26T14:53:00",
          "2011-05-26T14:53:00",
          "2011-05-26T14:53:00",
          "2011-05-26T14:53:00",
          "2011-05-26T14:53:00",
          "2011-05-26T17:16:00",
          "2011-05-26T17:16:00",
          "2011-05-26T17:16:00",
          "2011-05-26T17:16:00",
          "2011-05-26T17:16:00",
          "2011-05-26T17:16:00",
          "2011-05-26T17:16:00",
          "2011-05-26T17:16:00",
          "2011-05-26T17:16:00",
          "2011-05-26T17:16:00",
          "2011-05-26T17:16:00",
          "2011-05-26T17:16:00",
          "2011-05-27T13:49:00",
          "2011-05-27T13:49:00",
          "2011-05-27T13:49:00",
          "2011-05-27T13:49:00",
          "2011-05-27T13:49:00",
          "2011-05-27T13:49:00",
          "2011-05-27T13:49:00",
          "2011-05-27T13:49:00",
          "2011-05-27T13:49:00",
          "2011-05-27T13:49:00",
          "2011-05-27T13:49:00",
          "2011-05-27T13:49:00",
          "2011-05-27T13:49:00",
          "2011-05-27T13:49:00",
          "2011-05-27T13:49:00",
          "2011-05-27T13:49:00",
          "2011-05-27T13:49:00",
          "2011-05-27T13:49:00",
          "2011-05-27T13:49:00",
          "2011-05-27T13:49:00",
          "2011-05-31T13:32:00",
          "2011-05-31T13:32:00",
          "2011-05-31T13:32:00",
          "2011-05-31T13:32:00",
          "2011-05-31T13:32:00",
          "2011-05-31T13:32:00",
          "2011-05-31T13:32:00",
          "2011-05-31T13:32:00",
          "2011-05-31T13:32:00",
          "2011-05-31T13:32:00",
          "2011-05-31T13:32:00",
          "2011-05-31T13:32:00",
          "2011-05-31T13:32:00",
          "2011-05-31T13:32:00",
          "2011-05-31T13:32:00",
          "2011-05-31T13:32:00",
          "2011-05-31T13:32:00"
         ],
         "xaxis": "x",
         "y": [
          19.8,
          12.5,
          13.2,
          15.6,
          7.800000000000001,
          19.8,
          15.3,
          5.04,
          15.6,
          17.4,
          17.7,
          38.25,
          4.56,
          10.08,
          17,
          11.9,
          17.7,
          5.04,
          19.5,
          15,
          10.2,
          20.4,
          15.9,
          15.3,
          17.7,
          15,
          19.5,
          19.8,
          6.8,
          10.2,
          15,
          19.8,
          17.7,
          17.7,
          17.4,
          47.7,
          10.2,
          19.8,
          53.55,
          15,
          17.88,
          15,
          17.85,
          17.7,
          13.2,
          13.2,
          15.3,
          17.7,
          15,
          5.04,
          15,
          20.1,
          15,
          31.8,
          19.8,
          5.04,
          15.3,
          15,
          10.2,
          15.3,
          53.55,
          17.7,
          13.2,
          17.7,
          19.8,
          19.8,
          17.85,
          38.25,
          15,
          25.5,
          19.8,
          13.2,
          8.95,
          14.95,
          17.4,
          10.08,
          17.4,
          17.4,
          13.2,
          13.2,
          8.95,
          13.2,
          19.8,
          10.08,
          8.4,
          10.2,
          16.5,
          19.8,
          8.95,
          15.95,
          12.6,
          6.959999999999999,
          19.8,
          8.5,
          17.7,
          29.95,
          12.6,
          17.85,
          26.85,
          17.7,
          14.75,
          19.8,
          10.2,
          29.7,
          7.800000000000001,
          17.85,
          15.3,
          15,
          29.7,
          20.4,
          8.5,
          10.2,
          19.9,
          7.800000000000001,
          47.7,
          19.5,
          30,
          19.8,
          60,
          17,
          26.4,
          45,
          39.59999999999999,
          45,
          45,
          39.59999999999999,
          39.59999999999999,
          27.36,
          35.7,
          10.2,
          53.1,
          31.8,
          7.800000000000001,
          15.6,
          26.4,
          51,
          10.2,
          15.9,
          17.7,
          19.8,
          13.5,
          30.6,
          29.7,
          25.2,
          20.1,
          14.85,
          10.08,
          26.85,
          9.899999999999999,
          32.84999999999999,
          31.9,
          12.6,
          7.800000000000001,
          17.85,
          10.2,
          7.800000000000001,
          17.7,
          10.2,
          15,
          14.85,
          5.88,
          15,
          30,
          30,
          17,
          39.59999999999999,
          45.90000000000001,
          19.5,
          5.88,
          19.8,
          19.5,
          14.85,
          11.7,
          15.9,
          39.59999999999999,
          12.75,
          39.59999999999999,
          15,
          14.85,
          19.8,
          23.4,
          30,
          6.3,
          14.75,
          19.8,
          30,
          30,
          23.25,
          19.8,
          30,
          30.6,
          30.6,
          10.2,
          14.85,
          13.2,
          8.5,
          30,
          15,
          15,
          23.4,
          46.8,
          39.59999999999999,
          30,
          15.3,
          30,
          15,
          39.59999999999999,
          15,
          30,
          46.8,
          46.8,
          50.4,
          835.1999999999999,
          10.2,
          15.9,
          25.2,
          5.04,
          17.7,
          12.75,
          39.59999999999999,
          15,
          19.8,
          19.8,
          12.6,
          22.95,
          16.5,
          8.5,
          16.5,
          16.5,
          8.5,
          8.5,
          16.5,
          20.4,
          16.5,
          8.5,
          15,
          10.95,
          15,
          17.4,
          14.85,
          17,
          12.75,
          23.4,
          131.4,
          30,
          87.6,
          25.5,
          40.8,
          15,
          15,
          17.7,
          15.3,
          29.9,
          10.08,
          25.2,
          13.2,
          17.7,
          10.2,
          16.5,
          10.08,
          17.7,
          15,
          19.8,
          14.85,
          5.04,
          25.2,
          17.7,
          19.8,
          17,
          8.5,
          17.7,
          46.8,
          17.7,
          19.8,
          10.2,
          23.4,
          15,
          15,
          15.3,
          15,
          10.08,
          15.9,
          15,
          25.2,
          8.5,
          15,
          15.9,
          14.85,
          19.8,
          19.8,
          17.7,
          17.7,
          15.3,
          17.7,
          13.2,
          30.6,
          19.5,
          13.2,
          17,
          4.56,
          34,
          31.2,
          15,
          15,
          19.8,
          19.5,
          19.8,
          10.2,
          12.6,
          19.8,
          15,
          10.5,
          15.3,
          15.6,
          16.5,
          6.8,
          15.6,
          8.5,
          15,
          35.40000000000001,
          4.56,
          15,
          17.7,
          23.4,
          15.3,
          15.3,
          23.4,
          19.5,
          15.6,
          61.2,
          15,
          31.8,
          23.4,
          15,
          10.2,
          8.5,
          23.4,
          15.3,
          17.4,
          15.9,
          22.5,
          15.3,
          17.85,
          10.2,
          47.7,
          19.5,
          44.25,
          17.4,
          6.3,
          15,
          14.85,
          19.5,
          17.7,
          19.8,
          15,
          13.92,
          17.7,
          16.5,
          12.6,
          19.8,
          7.800000000000001,
          12.6,
          17.7,
          15,
          19.5,
          10.2,
          19.5,
          19.5,
          20.4,
          22.5,
          19.8,
          22.5,
          17,
          15,
          19.5,
          12.6,
          15.6,
          10.2,
          23.4,
          10.2,
          5.04,
          19.8,
          13.2,
          17.7,
          61.2,
          17.7,
          175.2,
          35.40000000000001,
          10.2,
          23.4,
          30.6,
          10.5,
          5.04,
          10.2,
          25.2,
          12.5,
          12.5,
          10.5,
          87.6,
          30.6,
          14.5,
          35.40000000000001,
          23.4,
          10.5,
          6.959999999999999,
          15.3,
          31.8,
          17.85,
          10.2,
          6.8,
          70.80000000000001,
          13.5,
          25.2,
          20.4,
          20.4,
          17,
          17.7,
          17,
          19.8,
          15,
          53.1,
          53.1,
          8.5,
          5.04,
          34,
          17,
          35.40000000000001,
          39.59999999999999,
          15,
          39.59999999999999,
          23.4,
          8.5,
          30.6,
          10.2,
          59.7,
          30,
          15,
          30,
          15.9,
          19.8,
          19.8,
          17.7,
          19.8,
          25.2,
          23.4,
          19.8,
          12.6,
          30,
          15.9,
          15.9,
          17.7,
          15,
          15,
          15,
          30,
          30,
          30,
          15.3,
          12.6,
          12.6,
          17.85,
          17.7,
          17.7,
          7.56,
          23.4,
          16.5,
          17.7,
          35.40000000000001,
          5.04,
          8.5,
          17.85,
          16.5,
          15.6,
          17.4,
          19.8,
          19.8,
          7.800000000000001,
          30,
          19.8,
          5.04,
          10.2,
          10.2,
          15,
          15.3,
          15.3,
          5.04,
          10.2,
          10.2,
          39.8,
          35.40000000000001,
          30,
          10.2,
          34.8,
          35.40000000000001,
          17,
          19.5,
          19.5,
          40.5,
          15.3,
          16.5,
          23.4,
          19.8,
          34,
          7.800000000000001,
          17.7,
          183.6,
          19.8,
          10.2,
          25.2,
          17.4,
          19.35,
          59.7,
          15.3,
          17.7,
          20.4,
          17.85,
          13.5,
          26.4,
          10.2,
          13.2,
          15.3,
          7.800000000000001,
          9.899999999999999,
          76.19999999999999,
          17.7,
          23.6,
          19.8,
          15,
          19.9,
          14.85,
          17.7,
          23.6,
          15.3,
          15,
          17.7,
          8.4,
          7.56,
          10.2,
          15,
          12.6,
          20.4,
          15,
          7.800000000000001,
          30,
          40.32,
          12.6,
          10.2,
          53.1,
          46.8,
          20.4,
          25.2,
          15,
          15,
          29.9,
          15,
          8.5,
          19.9,
          14.85,
          19.9,
          19.9,
          8.5,
          8.5,
          8.5,
          17,
          15,
          23.8,
          11.9,
          15.9,
          15,
          19.5,
          44.75,
          44.75,
          44.75,
          67.5,
          30.6,
          10.08,
          46.8,
          50.40000000000001,
          23.4,
          60,
          14.85,
          30,
          14.85,
          102,
          45,
          30,
          5.04,
          35.40000000000001,
          59.40000000000001,
          139.2,
          49.5,
          45,
          46.8,
          78,
          60,
          35.40000000000001,
          79.19999999999999,
          79.19999999999999,
          60,
          50.88,
          25.2,
          16.5,
          30.6,
          25.2,
          25.2,
          14.85,
          83.4,
          67.5,
          67.5,
          23.4,
          67.5,
          25.2,
          475.2,
          475.2,
          232,
          70.2,
          25.2,
          50.88,
          25.2,
          17.7,
          75.60000000000001,
          30,
          39.59999999999999,
          16.5,
          10.2,
          5.04,
          15,
          17.7,
          23.4,
          15.3,
          12.5,
          11.9,
          19.5,
          15,
          6.8,
          31.8,
          19.5,
          9.899999999999999,
          14.75,
          16.5,
          17.85,
          15.3,
          16.5,
          52.2,
          12.75,
          23.4,
          17.85,
          19.8,
          39.59999999999999,
          17,
          15.3,
          19.8,
          89.25,
          39.59999999999999,
          30.6,
          15,
          53.55,
          16.5,
          5.04,
          15.3,
          19.8,
          89.25,
          19.8,
          38.25,
          15.3,
          17.85,
          17.85,
          17.7,
          15,
          31.8,
          16.5,
          19.8,
          15.6,
          13.92,
          10.2,
          30,
          10.2,
          5.04,
          5.04,
          25.5,
          17,
          19.5,
          29.7,
          35.7,
          17.7,
          10.2,
          17.7,
          9.899999999999999,
          13.2,
          19.5,
          19.8,
          10.2,
          23.4,
          15,
          15.3,
          15,
          35.7,
          15,
          10.2,
          29.7,
          20.4,
          15,
          15,
          17.88,
          16.5,
          17.4,
          15.3,
          30,
          17.7,
          30,
          16.5,
          16.5,
          23.4,
          30,
          10.2,
          10.2,
          20.4,
          14.85,
          19.8,
          19.8,
          15.6,
          17.7,
          12.6,
          25.5,
          15.6,
          15.3,
          13.2,
          10.2,
          9,
          22.5,
          7.800000000000001,
          30,
          30,
          15,
          12.6,
          15.3,
          30.6,
          10.2,
          16.5,
          9.899999999999999,
          9.899999999999999,
          29.5,
          15,
          15,
          10.08,
          10,
          10.08,
          10.2,
          7.800000000000001,
          10.2,
          15.6,
          13.2,
          15.6,
          17.7,
          20.4,
          10,
          19.8,
          23.4,
          12.6,
          29.7,
          7.800000000000001,
          10,
          10.5,
          15.9,
          19.5,
          10.2,
          9.95,
          14.75,
          10.2,
          23.4,
          15,
          10.2,
          10.2,
          10.5,
          9.899999999999999,
          17.85,
          19.5,
          10.2,
          13.52,
          13.2,
          38.25,
          15,
          19.8,
          6.959999999999999,
          35.40000000000001,
          12.8,
          39.59999999999999,
          30.24,
          10.08,
          6.959999999999999,
          70.2,
          6.959999999999999,
          39.59999999999999,
          6.959999999999999,
          10.2,
          63.6,
          17.7,
          19.8,
          23.4,
          17.7,
          19.8,
          17.4,
          19.8,
          10.2,
          19.8,
          15,
          10.08,
          17.7,
          25,
          10.2,
          20.4,
          15.6,
          31.2,
          10.2,
          25.2,
          5.04,
          19.8,
          19.8,
          39.59999999999999,
          19.8,
          10.2,
          10.2,
          15.6,
          17,
          20.4,
          15.3,
          17.4,
          10.08,
          20.4,
          12.6,
          5.04,
          10.2,
          7.800000000000001,
          17.4,
          20.4,
          10.08,
          7.800000000000001,
          10.2,
          5.04,
          20.4,
          23.4,
          30,
          13,
          50.40000000000001,
          10.2,
          39.59999999999999,
          15,
          39.59999999999999,
          15,
          15.3,
          10.2,
          16.6,
          16.5,
          16.6,
          15,
          12.6,
          14.75,
          14.75,
          8.5,
          15.3,
          8.5,
          19.5,
          16.5,
          21.9,
          8.5,
          8.5,
          7.800000000000001,
          20,
          6.959999999999999,
          30,
          6.959999999999999,
          10.2,
          10,
          6.959999999999999,
          10.2,
          31.8,
          15.9,
          15.6,
          19.5,
          17.7,
          10.2,
          23.4,
          81.6,
          29.7,
          10.2,
          15.6,
          17.7,
          5.04,
          10.2,
          20.4,
          6.959999999999999,
          19.5,
          10.2,
          10.2,
          6.959999999999999,
          6.959999999999999,
          6.959999999999999,
          15.9,
          35.7,
          15,
          15.3,
          19.5,
          12.6,
          19.8,
          19.8,
          40.8,
          25.5,
          10.08,
          7.800000000000001,
          19.5,
          20.4,
          10.2,
          19.8,
          12.5,
          6.959999999999999,
          15,
          19.8,
          15,
          6.3,
          14.85,
          68,
          12.6,
          10.2,
          10.2,
          15.9,
          12.6,
          12.6,
          12.5,
          5.04,
          15,
          12.6,
          51,
          15.3,
          5.04,
          12.6,
          23.4,
          5.04,
          17.7,
          12.6,
          12.5,
          15,
          29.7,
          10.2,
          10.2,
          15,
          15.3,
          17.7,
          10.2,
          41.7,
          17.4,
          51,
          12.75,
          10.5,
          18.75,
          19.8,
          12.75,
          25.5,
          20.4,
          17.7,
          19.8,
          19.8,
          19.8,
          19.8,
          45,
          10,
          23.4,
          10.08,
          10.2,
          30.6,
          34,
          30,
          5.04,
          10.2,
          10.2,
          10.08,
          30.6,
          15,
          30,
          20.16,
          30,
          12.6,
          30,
          20,
          44.55,
          13.2,
          45,
          25.2,
          16.5,
          16.5,
          45.9,
          13.2,
          10.08,
          13.2,
          75.60000000000001,
          16.5,
          47.7,
          46.8,
          15.3,
          15.3,
          8.5,
          19.8,
          23.4,
          25.2,
          20.4,
          19.8,
          10.2,
          30.6,
          10.08,
          15.6,
          25.2,
          16.5,
          47.7,
          35.40000000000001,
          19.8,
          63.6,
          15.3,
          46.8,
          8.5,
          15.3,
          10.08,
          15.3,
          15.3,
          12.6,
          17.4,
          15,
          12.6,
          15.3,
          15.9,
          24.9,
          13.52,
          24.9,
          8.5,
          34,
          8.5,
          49.5,
          8.5,
          49.5,
          39.59999999999999,
          13.2,
          20.4,
          25.2,
          12.6,
          15,
          15.3,
          15,
          19.9,
          17.4,
          39.59999999999999,
          17,
          10.5,
          20.4,
          17.4,
          17.7,
          15.6,
          17.7,
          20.75,
          10,
          23.4,
          6.8,
          29.85,
          16.25,
          6.8,
          10,
          20.75,
          14.85,
          20.75,
          15.6,
          17.7,
          10,
          17.7,
          17.7,
          25.5,
          26.85,
          15.6,
          15.3,
          19.8,
          30,
          19.8,
          20.75,
          15.6,
          19.5,
          15,
          13.52,
          6.8,
          15.3,
          15.6,
          23.4,
          13.52,
          17.7,
          13.52,
          27,
          20,
          19.8,
          20,
          13.2,
          17.4,
          5.04,
          21.3,
          10.2,
          19.8,
          29.7,
          35.40000000000001,
          10.2,
          10.08,
          15.6,
          10.2,
          35.40000000000001,
          7.800000000000001,
          9.899999999999999,
          51,
          7.800000000000001,
          19.9,
          35.40000000000001,
          19.8,
          10.2,
          9.899999999999999,
          17.7,
          15,
          17.4,
          5.04,
          20.4,
          20.4,
          15,
          14.85,
          15.9,
          15,
          15.3,
          15,
          19.5,
          19.8,
          15,
          17.7,
          14.85,
          15,
          14.85,
          58.5,
          15,
          39.59999999999999,
          20.4,
          15,
          15.6,
          23.4,
          53.1,
          39.59999999999999,
          13.2,
          20.4,
          30.6,
          39.59999999999999,
          50.84999999999999,
          39.59999999999999,
          89.69999999999999,
          6.8,
          30.6,
          35.7,
          89.69999999999999,
          23.4,
          30,
          12.6,
          10.2,
          17.7,
          12.6,
          10.2,
          15,
          17.7,
          30.6,
          17.7,
          10.2,
          19.8,
          5.04,
          25.5,
          17.85,
          39.59999999999999,
          15,
          30.6,
          15,
          18,
          15.3,
          15.9,
          15,
          10.2,
          15,
          71.4,
          15,
          16.5,
          16.5,
          11.7,
          16.5,
          16.5,
          17.7,
          15,
          59.40000000000001,
          17.7,
          16.5,
          17.7,
          10.2,
          15,
          10.2,
          10.2,
          13,
          19.8,
          10.2,
          6.8,
          8.5,
          8.5,
          17.7,
          39.8,
          16.5,
          10.2,
          39.59999999999999,
          19.8,
          17.7,
          17.7,
          30.6,
          5.04,
          17.7,
          10.2,
          7.800000000000001,
          10.2,
          75.60000000000001,
          15.3,
          30,
          10.2,
          32.84999999999999,
          12.5,
          13.52,
          27.04,
          23.4,
          10.2,
          17.7,
          15,
          10,
          10.5,
          12.75,
          14.85,
          16.95,
          17.34,
          13.2,
          15,
          13.2,
          45.9,
          20.16,
          20.4,
          20.4,
          30,
          23.4,
          10.08,
          15.6,
          10.2,
          30.24,
          30.24,
          3.3,
          3.9,
          0.42,
          3.9,
          1.95,
          7.5,
          2.5,
          0.42,
          9.9,
          1.65,
          1.65,
          4.949999999999999,
          8.850000000000001,
          17.7,
          1.65,
          2.98,
          14.85,
          1.95,
          14.85,
          3.3,
          1.65,
          1.95,
          5.85,
          5,
          9.9,
          3.3,
          3.3,
          1.65,
          3.25,
          1.95,
          3.3,
          0.85,
          3.3,
          3.9,
          0.42,
          2.95,
          2.95,
          3.3,
          11.8,
          22.5,
          0.84,
          0.42,
          0.42,
          2.95,
          23.8,
          15,
          15.3,
          15.9,
          16.5,
          5.04,
          11.7,
          16.6,
          16.6,
          15,
          19.8,
          15,
          15.3,
          16.5,
          15.9,
          14.85,
          16.5,
          15,
          15.3,
          17.7,
          16.5,
          35.40000000000001,
          19.8,
          12.6,
          9.9,
          12.6,
          5.04,
          15,
          14.85,
          15,
          13.2,
          12.6,
          15.6,
          13.2,
          30,
          13.2,
          29.7,
          17.4,
          15.6,
          13.52,
          24.9,
          6.8,
          10.2,
          10.5,
          17,
          20.4,
          13.2,
          20.4,
          7.800000000000001,
          75.60000000000001,
          13,
          13.6,
          15,
          51,
          10.5,
          13.2,
          15,
          10.2,
          10.5,
          15.6,
          25.5,
          10.2,
          13.52,
          5.04,
          10.2,
          106,
          15.6,
          75.60000000000001,
          13.2,
          15.6,
          24.9,
          17.4,
          13.2,
          105.6,
          30,
          17.4,
          12.6,
          30,
          30,
          46.8,
          105.6,
          17.7,
          17.85,
          19.8,
          16.95,
          19.8,
          33.9,
          16.5,
          23.4,
          19.8,
          19.8,
          16.5,
          19.8,
          17.7,
          17.7,
          23.4,
          19.8,
          19.8,
          23.4,
          15.9,
          23.4,
          19.5,
          8.5,
          17.7,
          5.04,
          12.5,
          15.3,
          17.9,
          16.6,
          7.800000000000001,
          13.92,
          10.2,
          16.6,
          15.6,
          7.800000000000001,
          17.85,
          13.2,
          10.2,
          20.4,
          10.2,
          16.5,
          13.2,
          17.4,
          13.2,
          17.7,
          19.8,
          14.95,
          25.5,
          15,
          21.9,
          16.5,
          17,
          15.3,
          10.08,
          25.5,
          16.5,
          13.2,
          8.5,
          15,
          10.08,
          6.959999999999999,
          19.8,
          19.8,
          16.5,
          15.3,
          10.08,
          13.2,
          19.8,
          15,
          15,
          13.2,
          8.5,
          6.959999999999999,
          19.8,
          10.2,
          15.3,
          15,
          17.7,
          10.2,
          17.4,
          15.3,
          13.2,
          13.2,
          19.5,
          23.4,
          15.3,
          23.4,
          17.4,
          19.8,
          19.8,
          15.3,
          17.7,
          19.8,
          10.2,
          15,
          6.959999999999999,
          17,
          15,
          23.4,
          8.5,
          15,
          10.08,
          17.4,
          17,
          19.8,
          6.959999999999999,
          15,
          17.34,
          23.4,
          10.2,
          6.959999999999999,
          23.4,
          5.04,
          17,
          15,
          17.7,
          13.2,
          15.3,
          232,
          50.40000000000001,
          50.40000000000001,
          25.2,
          35.40000000000001,
          35.40000000000001,
          30,
          50.40000000000001,
          31.2,
          60,
          23.4,
          78,
          65.69999999999999,
          45,
          33,
          45,
          16.5,
          16.5,
          23.4,
          61.2,
          67.5,
          29.7,
          175.2,
          67.5,
          59.40000000000001,
          81.36,
          30,
          52.2,
          34,
          91.8,
          93.60000000000001,
          67.5,
          79.19999999999999,
          89.69999999999999,
          117,
          89.69999999999999,
          117,
          69.12,
          67.5,
          69.12,
          8.5,
          69.6,
          20.4,
          30,
          358,
          46.8,
          30,
          61.44,
          234,
          75,
          358,
          139.2,
          20.4,
          275,
          2.08,
          61.2,
          140.4,
          61.2,
          139.2,
          1.95,
          91.8,
          59.8,
          139.2,
          1.95,
          1.95,
          34.8,
          20.4,
          139.2,
          75,
          70.2,
          201.6,
          69.12,
          15.3,
          22.5,
          14.85,
          10.2,
          10.2,
          17.7,
          19.8,
          10.5,
          17.7,
          75,
          102,
          75,
          15,
          9.899999999999999,
          15.3,
          16.5,
          14.75,
          17.85,
          10.2,
          16.5,
          15.3,
          16.5,
          30,
          15,
          15.3,
          15.3,
          19.8,
          31.8,
          13.2,
          33,
          17.7,
          5.04,
          23.4,
          30,
          60,
          16.5,
          24.96,
          14.75,
          19.9,
          10.5,
          11.7,
          23.4,
          12.6,
          5.04,
          12.6,
          5.04,
          12.5,
          11.7,
          16.5,
          10.5,
          12.6,
          16.95,
          12.6,
          20,
          20,
          12.6,
          16.95,
          12.6,
          10.08,
          20.8,
          5.04,
          30,
          23.4,
          19.8,
          19.8,
          30,
          7.800000000000001,
          17.7,
          23.4,
          23.4,
          9.899999999999999,
          12.75,
          23.4,
          45,
          39.59999999999999,
          16.5,
          33,
          16.5,
          15,
          17.85,
          16.5,
          16.5,
          15.9,
          20.8,
          10.2,
          33,
          15,
          20.8,
          10.2,
          15,
          16.5,
          15.9,
          39.59999999999999,
          24.96,
          17.85,
          6.8,
          17.7,
          16.5,
          19.92,
          10.2,
          5.04,
          35.40000000000001,
          49.92,
          13.92,
          6.8,
          13.5,
          17.4,
          60,
          23.4,
          8.5,
          31.8,
          19.8,
          5.04,
          15,
          10.08,
          5.04,
          19.5,
          17.85,
          16.5,
          29.5,
          20.8,
          88.5,
          33,
          16.5,
          19.5,
          23.4,
          17,
          15,
          35.40000000000001,
          17,
          33,
          16.5,
          33,
          33,
          17,
          23.4,
          15,
          33,
          2.95,
          2.95,
          1.95,
          2.55,
          7.95,
          4.25,
          7.95,
          0.85,
          1.45,
          1.45,
          2.95,
          0.85,
          3.25,
          3.95,
          5.95,
          2.1,
          2.95,
          0.85,
          3.95,
          5.95,
          3.75,
          1.45,
          1.25,
          19.8,
          30.6,
          15.3,
          16.5,
          33,
          19.5,
          14.75,
          15,
          16.5,
          23.4,
          35.7,
          40.8,
          23.4,
          20.4,
          39,
          39,
          63.6,
          30.6,
          23.4,
          39,
          19.8,
          2.55,
          2.1,
          0.42,
          2.1,
          2.55,
          8.4,
          0.65,
          9.9,
          35.40000000000001,
          1.25,
          26.55,
          2.95,
          10.2,
          2.5,
          1.95,
          2.5,
          11.8,
          3.3,
          0.85,
          1.7,
          1.25,
          9.95,
          0.42,
          6.76,
          2.95,
          1.25,
          3.3,
          5.04,
          10.2,
          25.5,
          13.2,
          70.80000000000001,
          30,
          31.2,
          10.2,
          25,
          8.5,
          60,
          19.8,
          15.3,
          30.6,
          24.96,
          19.92,
          20.4,
          8.5,
          33.2,
          33.2,
          19.8,
          33.2,
          8.5,
          60,
          17,
          40.8,
          33.2,
          17,
          16.5,
          15.6,
          15,
          20.4,
          102,
          30.6,
          17.4,
          20.4,
          25.5,
          20.4,
          16.5,
          15,
          49.92,
          49.92,
          35.40000000000001,
          30,
          63,
          17,
          37.8,
          22.5,
          24.9,
          50.88,
          61.2,
          50.40000000000001,
          204,
          10.08,
          20.16,
          102,
          16.5,
          16.5,
          39.5,
          10.5,
          23.4,
          16.5,
          10.5,
          23.4,
          23.4,
          19.8,
          19.8,
          16.6,
          13.2,
          20.8,
          12.5,
          16.5,
          6.3,
          13.2,
          5.04,
          20.4,
          25,
          15,
          16.6,
          30,
          8.5,
          5.04,
          19.8,
          15.3,
          10.2,
          18,
          35.40000000000001,
          18,
          10.08,
          20.8,
          23.4,
          30,
          19.8,
          10.2,
          19.8,
          15.3,
          5.04,
          15.3,
          16.5,
          27.04,
          15,
          5.04,
          5.04,
          5.04,
          33,
          12.75,
          17.4,
          15,
          10.2,
          5.04,
          5.04,
          16.5,
          15,
          30,
          5.04,
          13.2,
          13.2,
          23.4,
          50,
          8.5,
          15,
          15,
          15.3,
          16.5,
          13.2,
          16.6,
          15,
          8.5,
          19.5,
          20.8,
          20.8,
          21,
          17,
          15.3,
          17.7,
          15.3,
          16.5,
          41.6,
          16.5,
          30.6,
          6.8,
          6.8,
          20.8,
          17,
          7.800000000000001,
          30,
          30,
          15.12,
          40.32,
          20.16,
          10.2,
          34.8,
          20.4,
          16.6,
          10.08,
          15,
          17.4,
          7.800000000000001,
          10.08,
          23.4,
          15.3,
          20.4,
          23.4,
          10.2,
          15,
          17.7,
          10.2,
          19.8,
          23.4,
          30,
          15.6,
          10.08,
          10.2,
          10.08,
          19.8,
          10.2,
          19.8,
          10.2,
          15.6,
          10.08,
          15.3,
          5.8,
          37.5,
          15,
          15,
          6.76,
          9.9,
          6.300000000000001,
          1.69,
          30,
          33.9,
          9.9,
          34.8,
          86.39999999999999,
          31.25,
          8.850000000000001,
          15,
          15,
          37.5,
          9.9,
          13.5,
          2.1,
          29.7,
          41.5,
          33,
          15,
          25,
          2.08,
          6.24,
          5.8,
          15.3,
          15.3,
          29.9,
          8.4,
          15,
          15,
          15,
          5.9,
          15.9,
          86.39999999999999,
          86.39999999999999,
          9.3,
          17.4,
          17.7,
          15.3,
          20.4,
          10.2,
          25,
          6.300000000000001,
          26.32,
          61.2,
          20.8,
          6.300000000000001,
          15,
          29.7,
          12.6,
          19.8,
          8.4,
          29.7,
          2.34,
          9.9,
          35.8,
          8.4,
          24.9,
          30.6,
          31.9,
          29.7,
          33,
          8.5,
          19.9,
          5.9,
          69.36,
          34.8,
          20.8,
          2.34,
          25,
          33,
          23.4,
          59.40000000000001,
          89.69999999999999,
          25.2,
          30,
          59.4,
          69.6,
          33,
          85,
          54,
          202.8,
          29.7,
          102,
          31.2,
          214.8,
          23.4,
          30.6,
          61.2,
          5.04,
          65.69999999999999,
          20.16,
          33,
          15.6,
          17,
          12.6,
          14.85,
          15.6,
          99.5,
          16.5,
          61.2,
          5.04,
          5.04,
          15.6,
          15,
          15,
          16.5,
          19.5,
          19.8,
          19.8,
          19.8,
          19.8,
          15.9,
          7.800000000000001,
          17.4,
          59.40000000000001,
          35.7,
          15.3,
          24.96,
          11.7,
          17.7,
          20.8,
          13.52,
          20.8,
          15.3,
          20.8,
          17.7,
          15.9,
          15.9,
          15.9,
          10.2,
          16.35,
          15,
          15,
          15.6,
          25.5,
          19.9,
          8.5,
          8.5,
          15,
          50,
          15.9,
          10.2,
          16.5,
          10.5,
          6.959999999999999,
          30.6,
          17.7,
          35.40000000000001,
          6.959999999999999,
          15,
          9.959999999999999,
          39,
          11.4,
          13.2,
          10.2,
          17,
          15,
          10.2,
          15.6,
          30,
          10.2,
          10.2,
          15,
          23.4,
          12.48,
          17.7,
          64.67999999999999,
          24.96,
          30,
          89.69999999999999,
          5.04,
          23.4,
          5.04,
          89.69999999999999,
          30,
          19.5,
          89.69999999999999,
          20.4,
          5.04,
          10.2,
          19.8,
          19.8,
          12.48,
          39.8,
          19.8,
          16.5,
          5.04,
          16.5,
          19.8,
          13,
          17,
          22.5,
          15.3,
          19.8,
          5.04,
          5.04,
          5.04,
          16.5,
          14.85,
          40.56,
          17.7,
          12.75,
          5.04,
          54.08,
          10.2,
          19.8,
          16.5,
          20.8,
          19.8,
          16.5,
          16.5,
          16.5,
          19.8,
          19.8,
          29.7,
          5.04,
          15.6,
          16.5,
          16.5,
          19.92,
          16.5,
          17.4,
          16.5,
          17.4,
          2.28,
          10.08,
          24.96,
          16.5,
          16.5,
          11.5,
          13.5,
          16.5,
          15,
          50,
          16.5,
          24.96,
          15,
          19.8,
          35.40000000000001,
          19.9,
          14.75,
          24.9,
          19.8,
          37.5,
          34,
          43.8,
          30.6,
          13.2,
          30.6,
          59.40000000000001,
          30.6,
          60,
          30,
          76.32000000000001,
          16.5,
          16.6,
          16.6,
          16.6,
          19.8,
          40,
          14.85,
          15,
          10.2,
          13.5,
          13.5,
          16.5,
          11.4,
          19.8,
          19.8,
          19.8,
          14.85,
          20,
          9.899999999999999,
          20.4,
          18.72,
          20,
          20,
          19.9,
          16.5,
          9.36,
          19.9,
          15.6,
          30,
          5.88,
          9.959999999999999,
          20.28,
          9.959999999999999,
          16.6,
          12.6,
          12.5,
          16.6,
          17,
          16.6,
          20.8,
          20.8,
          15.3,
          17.7,
          16.5,
          16.6,
          33,
          20.8,
          12.6,
          20.8,
          14.75,
          15.3,
          105.6,
          33,
          82.5,
          15.9,
          127.5,
          16.95,
          49.5,
          105.6,
          49.5,
          15.9,
          16.95,
          255,
          82.5,
          13.52,
          16.5,
          13.52,
          10,
          51,
          16.5,
          11.7,
          12.6,
          13.52,
          6.8,
          31.8,
          19.8,
          12.6,
          11.7,
          16.5,
          17.7,
          8.5,
          14.75,
          59.7,
          12.6,
          17.7,
          29.7,
          51,
          16.5,
          6.8,
          12.6,
          19.8,
          16.5,
          16.5,
          12.6,
          10,
          6.8,
          10,
          17.4,
          5.04,
          15.3,
          11.7,
          16.5,
          25.5,
          16.5,
          42.96,
          16.5,
          19.5,
          13.52,
          30,
          19.92,
          23.4,
          15,
          15,
          19.92,
          13.2,
          12.5,
          39.59999999999999,
          15.3,
          15.6,
          8.5,
          10.2,
          10.2,
          6.8,
          102,
          6.8,
          8.5,
          29.5,
          37.44,
          16.5,
          33,
          39.59999999999999,
          15.3,
          15.3,
          39.59999999999999,
          35.40000000000001,
          39.59999999999999,
          15.3,
          40.8,
          17.4,
          34,
          5.04,
          19.8,
          23.4,
          51,
          10.08,
          19.9,
          19.9,
          30.6,
          16.5,
          16.5,
          20.8,
          19.8,
          10.2,
          17,
          17.7,
          14.85,
          20.8,
          20.8,
          16.5,
          14.75,
          23.4,
          17.7,
          42.96,
          20.8,
          15.9,
          19.8,
          23.4,
          20.8,
          15.3,
          33,
          17.7,
          20.8,
          42.96,
          5.88,
          16.6,
          19.8,
          9.959999999999999,
          9.959999999999999,
          15.3,
          19.8,
          15.9,
          16.5,
          30,
          30,
          30,
          15.6,
          15.9,
          11.7,
          11.7,
          20.8,
          5.88,
          15,
          6.3,
          15,
          15.9,
          16.5,
          15,
          14.75,
          16.5,
          16.5,
          23.4,
          16.5,
          29.7,
          16.5,
          16.95,
          12.7,
          16.5,
          16.5,
          30,
          15.6,
          51.84,
          46.8,
          70.80000000000001,
          20.4,
          39.59999999999999,
          17,
          10.08,
          19.8,
          30,
          10.08,
          25.2,
          16.5,
          16.5,
          16.6,
          25.2,
          16.6,
          12.5,
          9.9,
          12.48,
          10.95,
          30.6,
          25.2,
          24.96,
          17.7,
          17.7,
          25.2,
          16.5,
          17.7,
          16.5,
          12.6,
          29.7,
          15,
          15.3,
          16.5,
          20.8,
          20.8,
          19.8,
          16.5,
          16.5,
          128.88,
          10.2,
          13,
          16.6,
          15,
          19.5,
          20.8,
          9.959999999999999
         ],
         "yaxis": "y"
        }
       ],
       "layout": {
        "legend": {
         "tracegroupgap": 0
        },
        "margin": {
         "t": 60
        },
        "template": {
         "data": {
          "bar": [
           {
            "error_x": {
             "color": "#2a3f5f"
            },
            "error_y": {
             "color": "#2a3f5f"
            },
            "marker": {
             "line": {
              "color": "#E5ECF6",
              "width": 0.5
             },
             "pattern": {
              "fillmode": "overlay",
              "size": 10,
              "solidity": 0.2
             }
            },
            "type": "bar"
           }
          ],
          "barpolar": [
           {
            "marker": {
             "line": {
              "color": "#E5ECF6",
              "width": 0.5
             },
             "pattern": {
              "fillmode": "overlay",
              "size": 10,
              "solidity": 0.2
             }
            },
            "type": "barpolar"
           }
          ],
          "carpet": [
           {
            "aaxis": {
             "endlinecolor": "#2a3f5f",
             "gridcolor": "white",
             "linecolor": "white",
             "minorgridcolor": "white",
             "startlinecolor": "#2a3f5f"
            },
            "baxis": {
             "endlinecolor": "#2a3f5f",
             "gridcolor": "white",
             "linecolor": "white",
             "minorgridcolor": "white",
             "startlinecolor": "#2a3f5f"
            },
            "type": "carpet"
           }
          ],
          "choropleth": [
           {
            "colorbar": {
             "outlinewidth": 0,
             "ticks": ""
            },
            "type": "choropleth"
           }
          ],
          "contour": [
           {
            "colorbar": {
             "outlinewidth": 0,
             "ticks": ""
            },
            "colorscale": [
             [
              0,
              "#0d0887"
             ],
             [
              0.1111111111111111,
              "#46039f"
             ],
             [
              0.2222222222222222,
              "#7201a8"
             ],
             [
              0.3333333333333333,
              "#9c179e"
             ],
             [
              0.4444444444444444,
              "#bd3786"
             ],
             [
              0.5555555555555556,
              "#d8576b"
             ],
             [
              0.6666666666666666,
              "#ed7953"
             ],
             [
              0.7777777777777778,
              "#fb9f3a"
             ],
             [
              0.8888888888888888,
              "#fdca26"
             ],
             [
              1,
              "#f0f921"
             ]
            ],
            "type": "contour"
           }
          ],
          "contourcarpet": [
           {
            "colorbar": {
             "outlinewidth": 0,
             "ticks": ""
            },
            "type": "contourcarpet"
           }
          ],
          "heatmap": [
           {
            "colorbar": {
             "outlinewidth": 0,
             "ticks": ""
            },
            "colorscale": [
             [
              0,
              "#0d0887"
             ],
             [
              0.1111111111111111,
              "#46039f"
             ],
             [
              0.2222222222222222,
              "#7201a8"
             ],
             [
              0.3333333333333333,
              "#9c179e"
             ],
             [
              0.4444444444444444,
              "#bd3786"
             ],
             [
              0.5555555555555556,
              "#d8576b"
             ],
             [
              0.6666666666666666,
              "#ed7953"
             ],
             [
              0.7777777777777778,
              "#fb9f3a"
             ],
             [
              0.8888888888888888,
              "#fdca26"
             ],
             [
              1,
              "#f0f921"
             ]
            ],
            "type": "heatmap"
           }
          ],
          "heatmapgl": [
           {
            "colorbar": {
             "outlinewidth": 0,
             "ticks": ""
            },
            "colorscale": [
             [
              0,
              "#0d0887"
             ],
             [
              0.1111111111111111,
              "#46039f"
             ],
             [
              0.2222222222222222,
              "#7201a8"
             ],
             [
              0.3333333333333333,
              "#9c179e"
             ],
             [
              0.4444444444444444,
              "#bd3786"
             ],
             [
              0.5555555555555556,
              "#d8576b"
             ],
             [
              0.6666666666666666,
              "#ed7953"
             ],
             [
              0.7777777777777778,
              "#fb9f3a"
             ],
             [
              0.8888888888888888,
              "#fdca26"
             ],
             [
              1,
              "#f0f921"
             ]
            ],
            "type": "heatmapgl"
           }
          ],
          "histogram": [
           {
            "marker": {
             "pattern": {
              "fillmode": "overlay",
              "size": 10,
              "solidity": 0.2
             }
            },
            "type": "histogram"
           }
          ],
          "histogram2d": [
           {
            "colorbar": {
             "outlinewidth": 0,
             "ticks": ""
            },
            "colorscale": [
             [
              0,
              "#0d0887"
             ],
             [
              0.1111111111111111,
              "#46039f"
             ],
             [
              0.2222222222222222,
              "#7201a8"
             ],
             [
              0.3333333333333333,
              "#9c179e"
             ],
             [
              0.4444444444444444,
              "#bd3786"
             ],
             [
              0.5555555555555556,
              "#d8576b"
             ],
             [
              0.6666666666666666,
              "#ed7953"
             ],
             [
              0.7777777777777778,
              "#fb9f3a"
             ],
             [
              0.8888888888888888,
              "#fdca26"
             ],
             [
              1,
              "#f0f921"
             ]
            ],
            "type": "histogram2d"
           }
          ],
          "histogram2dcontour": [
           {
            "colorbar": {
             "outlinewidth": 0,
             "ticks": ""
            },
            "colorscale": [
             [
              0,
              "#0d0887"
             ],
             [
              0.1111111111111111,
              "#46039f"
             ],
             [
              0.2222222222222222,
              "#7201a8"
             ],
             [
              0.3333333333333333,
              "#9c179e"
             ],
             [
              0.4444444444444444,
              "#bd3786"
             ],
             [
              0.5555555555555556,
              "#d8576b"
             ],
             [
              0.6666666666666666,
              "#ed7953"
             ],
             [
              0.7777777777777778,
              "#fb9f3a"
             ],
             [
              0.8888888888888888,
              "#fdca26"
             ],
             [
              1,
              "#f0f921"
             ]
            ],
            "type": "histogram2dcontour"
           }
          ],
          "mesh3d": [
           {
            "colorbar": {
             "outlinewidth": 0,
             "ticks": ""
            },
            "type": "mesh3d"
           }
          ],
          "parcoords": [
           {
            "line": {
             "colorbar": {
              "outlinewidth": 0,
              "ticks": ""
             }
            },
            "type": "parcoords"
           }
          ],
          "pie": [
           {
            "automargin": true,
            "type": "pie"
           }
          ],
          "scatter": [
           {
            "marker": {
             "colorbar": {
              "outlinewidth": 0,
              "ticks": ""
             }
            },
            "type": "scatter"
           }
          ],
          "scatter3d": [
           {
            "line": {
             "colorbar": {
              "outlinewidth": 0,
              "ticks": ""
             }
            },
            "marker": {
             "colorbar": {
              "outlinewidth": 0,
              "ticks": ""
             }
            },
            "type": "scatter3d"
           }
          ],
          "scattercarpet": [
           {
            "marker": {
             "colorbar": {
              "outlinewidth": 0,
              "ticks": ""
             }
            },
            "type": "scattercarpet"
           }
          ],
          "scattergeo": [
           {
            "marker": {
             "colorbar": {
              "outlinewidth": 0,
              "ticks": ""
             }
            },
            "type": "scattergeo"
           }
          ],
          "scattergl": [
           {
            "marker": {
             "colorbar": {
              "outlinewidth": 0,
              "ticks": ""
             }
            },
            "type": "scattergl"
           }
          ],
          "scattermapbox": [
           {
            "marker": {
             "colorbar": {
              "outlinewidth": 0,
              "ticks": ""
             }
            },
            "type": "scattermapbox"
           }
          ],
          "scatterpolar": [
           {
            "marker": {
             "colorbar": {
              "outlinewidth": 0,
              "ticks": ""
             }
            },
            "type": "scatterpolar"
           }
          ],
          "scatterpolargl": [
           {
            "marker": {
             "colorbar": {
              "outlinewidth": 0,
              "ticks": ""
             }
            },
            "type": "scatterpolargl"
           }
          ],
          "scatterternary": [
           {
            "marker": {
             "colorbar": {
              "outlinewidth": 0,
              "ticks": ""
             }
            },
            "type": "scatterternary"
           }
          ],
          "surface": [
           {
            "colorbar": {
             "outlinewidth": 0,
             "ticks": ""
            },
            "colorscale": [
             [
              0,
              "#0d0887"
             ],
             [
              0.1111111111111111,
              "#46039f"
             ],
             [
              0.2222222222222222,
              "#7201a8"
             ],
             [
              0.3333333333333333,
              "#9c179e"
             ],
             [
              0.4444444444444444,
              "#bd3786"
             ],
             [
              0.5555555555555556,
              "#d8576b"
             ],
             [
              0.6666666666666666,
              "#ed7953"
             ],
             [
              0.7777777777777778,
              "#fb9f3a"
             ],
             [
              0.8888888888888888,
              "#fdca26"
             ],
             [
              1,
              "#f0f921"
             ]
            ],
            "type": "surface"
           }
          ],
          "table": [
           {
            "cells": {
             "fill": {
              "color": "#EBF0F8"
             },
             "line": {
              "color": "white"
             }
            },
            "header": {
             "fill": {
              "color": "#C8D4E3"
             },
             "line": {
              "color": "white"
             }
            },
            "type": "table"
           }
          ]
         },
         "layout": {
          "annotationdefaults": {
           "arrowcolor": "#2a3f5f",
           "arrowhead": 0,
           "arrowwidth": 1
          },
          "autotypenumbers": "strict",
          "coloraxis": {
           "colorbar": {
            "outlinewidth": 0,
            "ticks": ""
           }
          },
          "colorscale": {
           "diverging": [
            [
             0,
             "#8e0152"
            ],
            [
             0.1,
             "#c51b7d"
            ],
            [
             0.2,
             "#de77ae"
            ],
            [
             0.3,
             "#f1b6da"
            ],
            [
             0.4,
             "#fde0ef"
            ],
            [
             0.5,
             "#f7f7f7"
            ],
            [
             0.6,
             "#e6f5d0"
            ],
            [
             0.7,
             "#b8e186"
            ],
            [
             0.8,
             "#7fbc41"
            ],
            [
             0.9,
             "#4d9221"
            ],
            [
             1,
             "#276419"
            ]
           ],
           "sequential": [
            [
             0,
             "#0d0887"
            ],
            [
             0.1111111111111111,
             "#46039f"
            ],
            [
             0.2222222222222222,
             "#7201a8"
            ],
            [
             0.3333333333333333,
             "#9c179e"
            ],
            [
             0.4444444444444444,
             "#bd3786"
            ],
            [
             0.5555555555555556,
             "#d8576b"
            ],
            [
             0.6666666666666666,
             "#ed7953"
            ],
            [
             0.7777777777777778,
             "#fb9f3a"
            ],
            [
             0.8888888888888888,
             "#fdca26"
            ],
            [
             1,
             "#f0f921"
            ]
           ],
           "sequentialminus": [
            [
             0,
             "#0d0887"
            ],
            [
             0.1111111111111111,
             "#46039f"
            ],
            [
             0.2222222222222222,
             "#7201a8"
            ],
            [
             0.3333333333333333,
             "#9c179e"
            ],
            [
             0.4444444444444444,
             "#bd3786"
            ],
            [
             0.5555555555555556,
             "#d8576b"
            ],
            [
             0.6666666666666666,
             "#ed7953"
            ],
            [
             0.7777777777777778,
             "#fb9f3a"
            ],
            [
             0.8888888888888888,
             "#fdca26"
            ],
            [
             1,
             "#f0f921"
            ]
           ]
          },
          "colorway": [
           "#636efa",
           "#EF553B",
           "#00cc96",
           "#ab63fa",
           "#FFA15A",
           "#19d3f3",
           "#FF6692",
           "#B6E880",
           "#FF97FF",
           "#FECB52"
          ],
          "font": {
           "color": "#2a3f5f"
          },
          "geo": {
           "bgcolor": "white",
           "lakecolor": "white",
           "landcolor": "#E5ECF6",
           "showlakes": true,
           "showland": true,
           "subunitcolor": "white"
          },
          "hoverlabel": {
           "align": "left"
          },
          "hovermode": "closest",
          "mapbox": {
           "style": "light"
          },
          "paper_bgcolor": "white",
          "plot_bgcolor": "#E5ECF6",
          "polar": {
           "angularaxis": {
            "gridcolor": "white",
            "linecolor": "white",
            "ticks": ""
           },
           "bgcolor": "#E5ECF6",
           "radialaxis": {
            "gridcolor": "white",
            "linecolor": "white",
            "ticks": ""
           }
          },
          "scene": {
           "xaxis": {
            "backgroundcolor": "#E5ECF6",
            "gridcolor": "white",
            "gridwidth": 2,
            "linecolor": "white",
            "showbackground": true,
            "ticks": "",
            "zerolinecolor": "white"
           },
           "yaxis": {
            "backgroundcolor": "#E5ECF6",
            "gridcolor": "white",
            "gridwidth": 2,
            "linecolor": "white",
            "showbackground": true,
            "ticks": "",
            "zerolinecolor": "white"
           },
           "zaxis": {
            "backgroundcolor": "#E5ECF6",
            "gridcolor": "white",
            "gridwidth": 2,
            "linecolor": "white",
            "showbackground": true,
            "ticks": "",
            "zerolinecolor": "white"
           }
          },
          "shapedefaults": {
           "line": {
            "color": "#2a3f5f"
           }
          },
          "ternary": {
           "aaxis": {
            "gridcolor": "white",
            "linecolor": "white",
            "ticks": ""
           },
           "baxis": {
            "gridcolor": "white",
            "linecolor": "white",
            "ticks": ""
           },
           "bgcolor": "#E5ECF6",
           "caxis": {
            "gridcolor": "white",
            "linecolor": "white",
            "ticks": ""
           }
          },
          "title": {
           "x": 0.05
          },
          "xaxis": {
           "automargin": true,
           "gridcolor": "white",
           "linecolor": "white",
           "ticks": "",
           "title": {
            "standoff": 15
           },
           "zerolinecolor": "white",
           "zerolinewidth": 2
          },
          "yaxis": {
           "automargin": true,
           "gridcolor": "white",
           "linecolor": "white",
           "ticks": "",
           "title": {
            "standoff": 15
           },
           "zerolinecolor": "white",
           "zerolinewidth": 2
          }
         }
        },
        "xaxis": {
         "anchor": "y",
         "domain": [
          0,
          1
         ],
         "title": {
          "text": "InvoiceDate"
         }
        },
        "yaxis": {
         "anchor": "x",
         "domain": [
          0,
          1
         ],
         "title": {
          "text": "Revenue"
         }
        }
       }
      },
      "text/html": [
       "<div>                            <div id=\"2064a357-6dc7-4480-ae12-766a1d51e2f5\" class=\"plotly-graph-div\" style=\"height:525px; width:100%;\"></div>            <script type=\"text/javascript\">                require([\"plotly\"], function(Plotly) {                    window.PLOTLYENV=window.PLOTLYENV || {};                                    if (document.getElementById(\"2064a357-6dc7-4480-ae12-766a1d51e2f5\")) {                    Plotly.newPlot(                        \"2064a357-6dc7-4480-ae12-766a1d51e2f5\",                        [{\"hovertemplate\":\"InvoiceDate=%{x}<br>Revenue=%{y}<extra></extra>\",\"legendgroup\":\"\",\"line\":{\"color\":\"#636efa\",\"dash\":\"solid\"},\"marker\":{\"symbol\":\"circle\"},\"mode\":\"lines\",\"name\":\"\",\"showlegend\":false,\"x\":[\"2011-01-05T12:42:00\",\"2011-01-05T12:42:00\",\"2011-01-05T12:42:00\",\"2011-01-05T12:42:00\",\"2011-01-05T12:42:00\",\"2011-01-05T12:42:00\",\"2011-01-05T12:42:00\",\"2011-01-05T12:42:00\",\"2011-01-05T12:42:00\",\"2011-01-05T12:42:00\",\"2011-01-05T12:42:00\",\"2011-01-05T12:42:00\",\"2011-01-05T12:42:00\",\"2011-01-05T12:42:00\",\"2011-01-05T12:42:00\",\"2011-01-05T12:42:00\",\"2011-01-05T12:42:00\",\"2011-01-05T12:42:00\",\"2011-01-05T12:42:00\",\"2011-01-05T12:42:00\",\"2011-01-05T12:42:00\",\"2011-01-05T12:42:00\",\"2011-01-05T12:42:00\",\"2011-01-05T12:42:00\",\"2011-01-05T12:42:00\",\"2011-01-05T12:42:00\",\"2011-01-05T12:42:00\",\"2011-01-05T12:42:00\",\"2011-01-05T12:42:00\",\"2011-01-05T12:42:00\",\"2011-01-05T12:42:00\",\"2011-01-05T12:42:00\",\"2011-01-05T12:42:00\",\"2011-01-05T14:48:00\",\"2011-01-05T14:48:00\",\"2011-01-05T14:48:00\",\"2011-01-05T14:48:00\",\"2011-01-05T14:48:00\",\"2011-01-05T14:48:00\",\"2011-01-05T14:48:00\",\"2011-01-05T14:48:00\",\"2011-01-05T14:48:00\",\"2011-01-05T14:48:00\",\"2011-01-05T14:48:00\",\"2011-01-05T14:48:00\",\"2011-01-05T14:48:00\",\"2011-01-05T14:48:00\",\"2011-01-05T14:48:00\",\"2011-01-05T14:48:00\",\"2011-01-05T14:48:00\",\"2011-01-05T14:48:00\",\"2011-01-05T14:48:00\",\"2011-01-05T14:48:00\",\"2011-01-05T14:48:00\",\"2011-01-05T14:48:00\",\"2011-01-05T14:48:00\",\"2011-01-05T14:48:00\",\"2011-01-05T14:48:00\",\"2011-01-05T14:48:00\",\"2011-01-05T14:48:00\",\"2011-01-05T14:48:00\",\"2011-01-05T14:48:00\",\"2011-01-05T14:48:00\",\"2011-01-05T14:48:00\",\"2011-01-05T14:48:00\",\"2011-01-05T14:48:00\",\"2011-01-05T14:48:00\",\"2011-01-05T14:48:00\",\"2011-01-05T14:48:00\",\"2011-01-05T14:48:00\",\"2011-01-05T14:48:00\",\"2011-01-05T14:48:00\",\"2011-01-06T14:26:00\",\"2011-01-06T14:26:00\",\"2011-01-06T14:26:00\",\"2011-01-06T14:26:00\",\"2011-01-06T14:26:00\",\"2011-01-06T14:26:00\",\"2011-01-06T14:26:00\",\"2011-01-06T14:26:00\",\"2011-01-06T14:26:00\",\"2011-01-06T14:26:00\",\"2011-01-06T14:26:00\",\"2011-01-06T14:26:00\",\"2011-01-06T14:26:00\",\"2011-01-06T14:26:00\",\"2011-01-06T14:26:00\",\"2011-01-06T14:26:00\",\"2011-01-06T14:26:00\",\"2011-01-06T14:26:00\",\"2011-01-06T14:26:00\",\"2011-01-06T14:26:00\",\"2011-01-06T14:26:00\",\"2011-01-06T16:12:00\",\"2011-01-06T16:12:00\",\"2011-01-06T16:12:00\",\"2011-01-06T16:12:00\",\"2011-01-06T16:12:00\",\"2011-01-06T16:12:00\",\"2011-01-06T16:12:00\",\"2011-01-06T16:12:00\",\"2011-01-06T16:12:00\",\"2011-01-06T16:12:00\",\"2011-01-06T16:12:00\",\"2011-01-06T16:12:00\",\"2011-01-06T16:12:00\",\"2011-01-06T16:12:00\",\"2011-01-06T16:12:00\",\"2011-01-06T16:12:00\",\"2011-01-06T16:12:00\",\"2011-01-06T16:12:00\",\"2011-01-06T16:12:00\",\"2011-01-06T16:12:00\",\"2011-01-06T16:12:00\",\"2011-01-06T16:12:00\",\"2011-01-06T16:12:00\",\"2011-01-07T12:07:00\",\"2011-01-07T12:07:00\",\"2011-01-07T12:07:00\",\"2011-01-07T12:07:00\",\"2011-01-07T12:07:00\",\"2011-01-07T12:07:00\",\"2011-01-07T12:07:00\",\"2011-01-07T12:07:00\",\"2011-01-07T12:07:00\",\"2011-01-07T12:07:00\",\"2011-01-07T12:07:00\",\"2011-01-07T12:07:00\",\"2011-01-07T12:07:00\",\"2011-01-07T12:07:00\",\"2011-01-07T12:07:00\",\"2011-01-07T12:07:00\",\"2011-01-07T12:07:00\",\"2011-01-07T12:07:00\",\"2011-01-07T12:07:00\",\"2011-01-07T12:07:00\",\"2011-01-07T12:07:00\",\"2011-01-07T13:13:00\",\"2011-01-07T13:13:00\",\"2011-01-07T13:13:00\",\"2011-01-07T13:13:00\",\"2011-01-07T13:13:00\",\"2011-01-07T13:13:00\",\"2011-01-07T13:13:00\",\"2011-01-07T13:13:00\",\"2011-01-07T13:13:00\",\"2011-01-07T13:13:00\",\"2011-01-07T13:13:00\",\"2011-01-07T13:13:00\",\"2011-01-07T13:13:00\",\"2011-01-07T13:13:00\",\"2011-01-09T12:46:00\",\"2011-01-09T12:46:00\",\"2011-01-09T12:46:00\",\"2011-01-09T12:46:00\",\"2011-01-09T12:46:00\",\"2011-01-09T12:46:00\",\"2011-01-09T12:46:00\",\"2011-01-09T12:46:00\",\"2011-01-09T12:46:00\",\"2011-01-10T13:22:00\",\"2011-01-10T13:22:00\",\"2011-01-10T13:22:00\",\"2011-01-10T13:22:00\",\"2011-01-10T13:22:00\",\"2011-01-10T13:22:00\",\"2011-01-10T13:22:00\",\"2011-01-10T13:22:00\",\"2011-01-10T13:22:00\",\"2011-01-10T13:22:00\",\"2011-01-10T13:22:00\",\"2011-01-10T13:22:00\",\"2011-01-10T13:22:00\",\"2011-01-10T13:22:00\",\"2011-01-10T13:22:00\",\"2011-01-10T13:22:00\",\"2011-01-10T13:22:00\",\"2011-01-10T13:22:00\",\"2011-01-10T13:22:00\",\"2011-01-10T13:22:00\",\"2011-01-10T13:22:00\",\"2011-01-10T13:22:00\",\"2011-01-10T13:22:00\",\"2011-01-10T13:22:00\",\"2011-01-10T13:22:00\",\"2011-01-10T13:22:00\",\"2011-01-10T13:22:00\",\"2011-01-10T13:22:00\",\"2011-01-10T13:22:00\",\"2011-01-10T13:22:00\",\"2011-01-10T13:22:00\",\"2011-01-10T13:22:00\",\"2011-01-10T13:22:00\",\"2011-01-10T13:22:00\",\"2011-01-10T13:22:00\",\"2011-01-10T13:22:00\",\"2011-01-10T13:22:00\",\"2011-01-10T13:22:00\",\"2011-01-10T13:22:00\",\"2011-01-10T13:22:00\",\"2011-01-10T13:22:00\",\"2011-01-10T13:22:00\",\"2011-01-10T13:22:00\",\"2011-01-10T13:22:00\",\"2011-01-10T13:22:00\",\"2011-01-10T13:22:00\",\"2011-01-10T13:22:00\",\"2011-01-10T13:22:00\",\"2011-01-10T13:22:00\",\"2011-01-11T07:57:00\",\"2011-01-11T07:57:00\",\"2011-01-11T07:57:00\",\"2011-01-11T11:48:00\",\"2011-01-11T13:31:00\",\"2011-01-11T13:31:00\",\"2011-01-11T13:31:00\",\"2011-01-11T13:31:00\",\"2011-01-11T13:31:00\",\"2011-01-11T13:31:00\",\"2011-01-11T13:31:00\",\"2011-01-11T13:31:00\",\"2011-01-11T13:31:00\",\"2011-01-11T13:31:00\",\"2011-01-11T13:31:00\",\"2011-01-11T13:31:00\",\"2011-01-11T15:00:00\",\"2011-01-11T15:00:00\",\"2011-01-11T15:00:00\",\"2011-01-11T15:00:00\",\"2011-01-11T15:00:00\",\"2011-01-11T15:00:00\",\"2011-01-11T15:00:00\",\"2011-01-11T15:00:00\",\"2011-01-11T15:00:00\",\"2011-01-11T15:00:00\",\"2011-01-12T09:43:00\",\"2011-01-12T09:43:00\",\"2011-01-12T09:43:00\",\"2011-01-12T09:43:00\",\"2011-01-12T09:43:00\",\"2011-01-12T09:43:00\",\"2011-01-12T09:43:00\",\"2011-01-12T14:13:00\",\"2011-01-12T14:13:00\",\"2011-01-12T14:13:00\",\"2011-01-12T14:13:00\",\"2011-01-12T14:13:00\",\"2011-01-12T14:13:00\",\"2011-01-12T15:00:00\",\"2011-01-12T15:00:00\",\"2011-01-12T15:00:00\",\"2011-01-12T15:00:00\",\"2011-01-12T15:00:00\",\"2011-01-12T15:00:00\",\"2011-01-12T15:00:00\",\"2011-01-12T15:00:00\",\"2011-01-12T15:00:00\",\"2011-01-12T15:00:00\",\"2011-01-12T15:00:00\",\"2011-01-12T15:00:00\",\"2011-01-12T15:00:00\",\"2011-01-12T15:00:00\",\"2011-01-12T15:00:00\",\"2011-01-12T15:00:00\",\"2011-01-12T15:00:00\",\"2011-01-12T15:00:00\",\"2011-01-12T15:00:00\",\"2011-01-12T15:00:00\",\"2011-01-12T15:00:00\",\"2011-01-12T15:00:00\",\"2011-01-12T15:00:00\",\"2011-01-12T15:00:00\",\"2011-01-12T15:00:00\",\"2011-01-12T15:00:00\",\"2011-01-12T15:00:00\",\"2011-01-12T15:00:00\",\"2011-01-12T15:00:00\",\"2011-01-12T15:00:00\",\"2011-01-12T15:00:00\",\"2011-01-12T15:00:00\",\"2011-01-12T15:00:00\",\"2011-01-12T15:00:00\",\"2011-01-12T15:00:00\",\"2011-01-12T15:00:00\",\"2011-01-12T15:00:00\",\"2011-01-12T15:00:00\",\"2011-01-12T15:00:00\",\"2011-01-12T15:00:00\",\"2011-01-12T15:00:00\",\"2011-01-12T15:00:00\",\"2011-01-12T15:00:00\",\"2011-01-12T15:00:00\",\"2011-01-12T15:00:00\",\"2011-01-12T15:00:00\",\"2011-01-12T15:00:00\",\"2011-01-14T09:13:00\",\"2011-01-14T09:13:00\",\"2011-01-14T09:13:00\",\"2011-01-14T09:13:00\",\"2011-01-14T09:13:00\",\"2011-01-14T09:13:00\",\"2011-01-14T09:13:00\",\"2011-01-14T09:13:00\",\"2011-01-14T09:13:00\",\"2011-01-14T09:13:00\",\"2011-01-14T09:13:00\",\"2011-01-14T09:13:00\",\"2011-01-14T09:13:00\",\"2011-01-14T09:13:00\",\"2011-01-14T09:13:00\",\"2011-01-14T09:13:00\",\"2011-01-14T09:13:00\",\"2011-01-14T09:13:00\",\"2011-01-14T09:13:00\",\"2011-01-14T09:13:00\",\"2011-01-14T09:13:00\",\"2011-01-14T09:13:00\",\"2011-01-14T09:13:00\",\"2011-01-14T09:13:00\",\"2011-01-14T09:13:00\",\"2011-01-14T09:13:00\",\"2011-01-14T09:13:00\",\"2011-01-14T09:13:00\",\"2011-01-14T09:13:00\",\"2011-01-14T09:13:00\",\"2011-01-14T09:13:00\",\"2011-01-14T09:13:00\",\"2011-01-14T09:13:00\",\"2011-01-14T09:13:00\",\"2011-01-14T09:13:00\",\"2011-01-14T09:13:00\",\"2011-01-14T09:13:00\",\"2011-01-14T09:13:00\",\"2011-01-14T09:13:00\",\"2011-01-14T09:13:00\",\"2011-01-14T09:13:00\",\"2011-01-14T09:13:00\",\"2011-01-14T09:20:00\",\"2011-01-14T09:20:00\",\"2011-01-14T09:20:00\",\"2011-01-14T09:20:00\",\"2011-01-14T09:20:00\",\"2011-01-14T09:20:00\",\"2011-01-14T09:20:00\",\"2011-01-14T09:20:00\",\"2011-01-14T09:20:00\",\"2011-01-14T09:20:00\",\"2011-01-14T10:42:00\",\"2011-01-14T10:42:00\",\"2011-01-14T10:42:00\",\"2011-01-14T10:42:00\",\"2011-01-14T10:42:00\",\"2011-01-14T10:42:00\",\"2011-01-14T10:42:00\",\"2011-01-14T10:42:00\",\"2011-01-14T10:42:00\",\"2011-01-14T10:42:00\",\"2011-01-14T10:42:00\",\"2011-01-14T10:42:00\",\"2011-01-14T10:42:00\",\"2011-01-14T10:42:00\",\"2011-01-14T10:42:00\",\"2011-01-14T10:42:00\",\"2011-01-14T10:42:00\",\"2011-01-14T10:42:00\",\"2011-01-14T10:42:00\",\"2011-01-14T10:42:00\",\"2011-01-14T10:42:00\",\"2011-01-14T10:42:00\",\"2011-01-14T10:42:00\",\"2011-01-14T10:42:00\",\"2011-01-14T10:42:00\",\"2011-01-14T10:42:00\",\"2011-01-14T10:42:00\",\"2011-01-14T10:42:00\",\"2011-01-14T10:42:00\",\"2011-01-14T10:42:00\",\"2011-01-14T10:42:00\",\"2011-01-14T10:42:00\",\"2011-01-14T10:42:00\",\"2011-01-14T10:42:00\",\"2011-01-14T10:42:00\",\"2011-01-14T10:42:00\",\"2011-01-14T10:42:00\",\"2011-01-17T15:17:00\",\"2011-01-17T15:17:00\",\"2011-01-17T15:17:00\",\"2011-01-17T15:17:00\",\"2011-01-17T15:17:00\",\"2011-01-17T15:17:00\",\"2011-01-17T15:17:00\",\"2011-01-17T15:17:00\",\"2011-01-17T15:17:00\",\"2011-01-17T15:17:00\",\"2011-01-17T15:17:00\",\"2011-01-17T15:17:00\",\"2011-01-17T15:17:00\",\"2011-01-17T15:17:00\",\"2011-01-17T15:17:00\",\"2011-01-17T15:17:00\",\"2011-01-17T15:17:00\",\"2011-01-17T15:17:00\",\"2011-01-17T15:17:00\",\"2011-01-17T15:17:00\",\"2011-01-19T11:51:00\",\"2011-01-19T11:51:00\",\"2011-01-19T11:51:00\",\"2011-01-19T11:51:00\",\"2011-01-19T11:51:00\",\"2011-01-19T11:51:00\",\"2011-01-19T11:51:00\",\"2011-01-19T11:51:00\",\"2011-01-19T11:51:00\",\"2011-01-19T11:51:00\",\"2011-01-19T11:51:00\",\"2011-01-19T11:51:00\",\"2011-01-19T11:51:00\",\"2011-01-19T11:51:00\",\"2011-01-19T11:51:00\",\"2011-01-19T11:51:00\",\"2011-01-19T11:51:00\",\"2011-01-19T11:51:00\",\"2011-01-19T11:51:00\",\"2011-01-19T11:51:00\",\"2011-01-19T11:51:00\",\"2011-01-19T11:51:00\",\"2011-01-19T11:51:00\",\"2011-01-19T11:51:00\",\"2011-01-19T11:51:00\",\"2011-01-19T11:51:00\",\"2011-01-19T11:51:00\",\"2011-01-19T11:51:00\",\"2011-01-19T11:51:00\",\"2011-01-19T11:51:00\",\"2011-01-20T10:47:00\",\"2011-01-20T10:47:00\",\"2011-01-20T10:47:00\",\"2011-01-20T10:47:00\",\"2011-01-20T10:47:00\",\"2011-01-20T10:47:00\",\"2011-01-20T10:47:00\",\"2011-01-20T10:47:00\",\"2011-01-20T10:47:00\",\"2011-01-20T10:47:00\",\"2011-01-20T10:47:00\",\"2011-01-20T10:47:00\",\"2011-01-20T10:47:00\",\"2011-01-20T10:47:00\",\"2011-01-20T10:47:00\",\"2011-01-20T10:47:00\",\"2011-01-20T10:47:00\",\"2011-01-20T10:47:00\",\"2011-01-20T10:47:00\",\"2011-01-20T10:47:00\",\"2011-01-20T10:47:00\",\"2011-01-20T10:47:00\",\"2011-01-20T10:47:00\",\"2011-01-20T10:47:00\",\"2011-01-20T10:47:00\",\"2011-01-20T10:47:00\",\"2011-01-20T10:47:00\",\"2011-01-20T10:48:00\",\"2011-01-20T10:48:00\",\"2011-01-20T10:48:00\",\"2011-01-20T10:48:00\",\"2011-01-20T10:48:00\",\"2011-01-20T10:48:00\",\"2011-01-20T10:48:00\",\"2011-01-20T10:48:00\",\"2011-01-20T10:48:00\",\"2011-01-20T10:48:00\",\"2011-01-20T10:48:00\",\"2011-01-20T10:48:00\",\"2011-01-20T10:48:00\",\"2011-01-20T10:48:00\",\"2011-01-20T10:48:00\",\"2011-01-20T10:48:00\",\"2011-01-20T10:48:00\",\"2011-01-20T10:48:00\",\"2011-01-20T10:48:00\",\"2011-01-20T10:48:00\",\"2011-01-20T10:48:00\",\"2011-01-20T10:48:00\",\"2011-01-20T10:48:00\",\"2011-01-20T10:48:00\",\"2011-01-20T10:48:00\",\"2011-01-20T10:48:00\",\"2011-01-20T10:48:00\",\"2011-01-20T10:48:00\",\"2011-01-20T10:48:00\",\"2011-01-20T10:48:00\",\"2011-01-20T10:48:00\",\"2011-01-20T10:48:00\",\"2011-01-20T10:48:00\",\"2011-01-20T10:48:00\",\"2011-01-20T10:48:00\",\"2011-01-20T10:48:00\",\"2011-01-20T10:48:00\",\"2011-01-20T10:48:00\",\"2011-01-20T10:48:00\",\"2011-01-20T10:48:00\",\"2011-01-20T10:48:00\",\"2011-01-20T10:48:00\",\"2011-01-20T10:48:00\",\"2011-01-20T10:48:00\",\"2011-01-23T15:17:00\",\"2011-01-23T15:17:00\",\"2011-01-23T15:17:00\",\"2011-01-23T15:17:00\",\"2011-01-23T15:17:00\",\"2011-01-23T15:17:00\",\"2011-01-23T15:17:00\",\"2011-01-23T15:17:00\",\"2011-01-23T15:17:00\",\"2011-01-23T15:17:00\",\"2011-01-23T15:17:00\",\"2011-01-24T15:32:00\",\"2011-01-24T15:32:00\",\"2011-01-24T15:32:00\",\"2011-01-24T15:32:00\",\"2011-01-24T15:32:00\",\"2011-01-24T15:32:00\",\"2011-01-24T15:32:00\",\"2011-01-24T15:32:00\",\"2011-01-24T15:32:00\",\"2011-01-28T09:20:00\",\"2011-01-28T09:20:00\",\"2011-01-28T09:20:00\",\"2011-01-28T09:20:00\",\"2011-01-28T09:20:00\",\"2011-01-28T09:20:00\",\"2011-01-28T09:20:00\",\"2011-01-28T09:20:00\",\"2011-01-28T09:20:00\",\"2011-01-28T09:20:00\",\"2011-01-28T10:45:00\",\"2011-01-28T10:45:00\",\"2011-01-28T10:45:00\",\"2011-01-28T10:45:00\",\"2011-01-28T10:45:00\",\"2011-01-28T10:45:00\",\"2011-01-28T10:45:00\",\"2011-01-28T10:45:00\",\"2011-01-28T10:45:00\",\"2011-01-28T10:45:00\",\"2011-01-28T10:45:00\",\"2011-01-28T10:45:00\",\"2011-01-28T10:45:00\",\"2011-01-28T10:45:00\",\"2011-01-28T10:45:00\",\"2011-01-28T10:45:00\",\"2011-01-28T10:45:00\",\"2011-01-28T10:45:00\",\"2011-01-28T13:37:00\",\"2011-01-28T13:37:00\",\"2011-01-28T13:37:00\",\"2011-01-28T13:37:00\",\"2011-01-28T13:37:00\",\"2011-01-28T13:37:00\",\"2011-01-28T13:37:00\",\"2011-01-28T13:37:00\",\"2011-01-28T13:37:00\",\"2011-01-28T13:37:00\",\"2011-01-28T13:37:00\",\"2011-01-28T13:37:00\",\"2011-01-28T13:37:00\",\"2011-01-28T13:37:00\",\"2011-01-28T13:37:00\",\"2011-01-28T13:37:00\",\"2011-01-28T13:37:00\",\"2011-01-28T13:37:00\",\"2011-01-28T13:37:00\",\"2011-01-28T13:37:00\",\"2011-01-31T09:57:00\",\"2011-01-31T09:57:00\",\"2011-01-31T09:57:00\",\"2011-01-31T09:57:00\",\"2011-01-31T09:57:00\",\"2011-01-31T09:57:00\",\"2011-01-31T09:57:00\",\"2011-01-31T09:57:00\",\"2011-01-31T09:57:00\",\"2011-01-31T09:57:00\",\"2011-01-31T09:57:00\",\"2011-01-31T09:57:00\",\"2011-01-31T09:57:00\",\"2011-01-31T09:57:00\",\"2011-01-31T09:57:00\",\"2011-01-31T09:57:00\",\"2011-01-31T09:57:00\",\"2011-01-31T09:57:00\",\"2011-01-31T09:57:00\",\"2011-01-31T09:57:00\",\"2011-01-31T09:57:00\",\"2011-01-31T09:57:00\",\"2011-01-31T09:57:00\",\"2011-01-31T09:57:00\",\"2011-01-31T09:57:00\",\"2011-01-31T09:57:00\",\"2011-01-31T09:57:00\",\"2011-01-31T09:57:00\",\"2011-01-31T09:57:00\",\"2011-01-31T09:57:00\",\"2011-01-31T09:57:00\",\"2011-01-31T09:57:00\",\"2011-01-31T09:57:00\",\"2011-01-31T09:57:00\",\"2011-01-31T09:57:00\",\"2011-01-31T09:57:00\",\"2011-01-31T09:57:00\",\"2011-01-31T09:57:00\",\"2011-01-31T09:57:00\",\"2011-01-31T09:57:00\",\"2011-01-31T09:57:00\",\"2011-01-31T09:57:00\",\"2011-01-31T09:57:00\",\"2011-01-31T09:57:00\",\"2011-01-31T09:57:00\",\"2011-01-31T09:57:00\",\"2011-01-31T15:36:00\",\"2011-01-31T15:36:00\",\"2011-01-31T15:36:00\",\"2011-01-31T15:36:00\",\"2011-01-31T15:36:00\",\"2011-01-31T15:36:00\",\"2011-01-31T15:36:00\",\"2011-01-31T15:36:00\",\"2011-01-31T15:36:00\",\"2011-01-31T15:36:00\",\"2011-01-31T15:36:00\",\"2011-01-31T15:36:00\",\"2011-01-31T15:36:00\",\"2011-01-31T15:36:00\",\"2011-01-31T15:36:00\",\"2011-01-31T15:36:00\",\"2011-01-31T15:36:00\",\"2011-02-01T14:58:00\",\"2011-02-01T14:58:00\",\"2011-02-01T14:58:00\",\"2011-02-01T14:58:00\",\"2011-02-01T14:58:00\",\"2011-02-01T14:58:00\",\"2011-02-01T14:58:00\",\"2011-02-01T14:58:00\",\"2011-02-01T14:58:00\",\"2011-02-01T14:58:00\",\"2011-02-01T14:58:00\",\"2011-02-01T14:58:00\",\"2011-02-01T14:58:00\",\"2011-02-01T14:58:00\",\"2011-02-01T14:58:00\",\"2011-02-01T14:58:00\",\"2011-02-01T14:58:00\",\"2011-02-01T14:58:00\",\"2011-02-02T09:06:00\",\"2011-02-02T09:06:00\",\"2011-02-02T09:06:00\",\"2011-02-02T09:06:00\",\"2011-02-02T09:06:00\",\"2011-02-02T09:06:00\",\"2011-02-02T09:06:00\",\"2011-02-02T09:06:00\",\"2011-02-02T09:06:00\",\"2011-02-02T09:06:00\",\"2011-02-02T09:06:00\",\"2011-02-02T09:06:00\",\"2011-02-02T09:06:00\",\"2011-02-02T09:06:00\",\"2011-02-02T09:06:00\",\"2011-02-02T09:06:00\",\"2011-02-02T09:06:00\",\"2011-02-02T09:06:00\",\"2011-02-02T15:22:00\",\"2011-02-02T15:22:00\",\"2011-02-02T15:22:00\",\"2011-02-02T15:22:00\",\"2011-02-02T15:22:00\",\"2011-02-02T15:22:00\",\"2011-02-02T15:22:00\",\"2011-02-02T15:22:00\",\"2011-02-02T15:22:00\",\"2011-02-04T11:45:00\",\"2011-02-04T11:45:00\",\"2011-02-04T11:45:00\",\"2011-02-04T11:45:00\",\"2011-02-04T11:45:00\",\"2011-02-04T11:45:00\",\"2011-02-04T11:45:00\",\"2011-02-04T11:45:00\",\"2011-02-04T11:45:00\",\"2011-02-04T11:45:00\",\"2011-02-04T11:45:00\",\"2011-02-04T11:45:00\",\"2011-02-04T11:45:00\",\"2011-02-04T11:45:00\",\"2011-02-04T11:45:00\",\"2011-02-04T11:45:00\",\"2011-02-04T11:45:00\",\"2011-02-04T11:45:00\",\"2011-02-04T11:45:00\",\"2011-02-04T11:45:00\",\"2011-02-04T11:45:00\",\"2011-02-04T11:45:00\",\"2011-02-04T11:45:00\",\"2011-02-04T11:45:00\",\"2011-02-04T11:45:00\",\"2011-02-04T11:45:00\",\"2011-02-04T11:45:00\",\"2011-02-04T11:45:00\",\"2011-02-04T11:45:00\",\"2011-02-04T11:45:00\",\"2011-02-04T11:45:00\",\"2011-02-04T11:45:00\",\"2011-02-04T11:45:00\",\"2011-02-04T11:45:00\",\"2011-02-04T11:45:00\",\"2011-02-04T11:45:00\",\"2011-02-04T11:45:00\",\"2011-02-04T11:45:00\",\"2011-02-04T11:45:00\",\"2011-02-04T11:45:00\",\"2011-02-04T11:45:00\",\"2011-02-04T11:45:00\",\"2011-02-04T11:45:00\",\"2011-02-04T11:45:00\",\"2011-02-04T11:45:00\",\"2011-02-04T11:45:00\",\"2011-02-04T11:45:00\",\"2011-02-04T11:45:00\",\"2011-02-04T11:45:00\",\"2011-02-04T11:45:00\",\"2011-02-04T11:45:00\",\"2011-02-04T11:45:00\",\"2011-02-04T11:45:00\",\"2011-02-04T11:45:00\",\"2011-02-04T11:45:00\",\"2011-02-04T11:45:00\",\"2011-02-04T11:45:00\",\"2011-02-04T11:45:00\",\"2011-02-04T11:45:00\",\"2011-02-04T11:45:00\",\"2011-02-04T11:45:00\",\"2011-02-04T11:45:00\",\"2011-02-08T13:28:00\",\"2011-02-08T13:28:00\",\"2011-02-08T13:28:00\",\"2011-02-08T13:28:00\",\"2011-02-08T13:28:00\",\"2011-02-08T13:28:00\",\"2011-02-08T13:28:00\",\"2011-02-08T13:28:00\",\"2011-02-08T13:28:00\",\"2011-02-08T13:28:00\",\"2011-02-08T13:28:00\",\"2011-02-08T13:28:00\",\"2011-02-08T13:28:00\",\"2011-02-09T10:11:00\",\"2011-02-09T10:11:00\",\"2011-02-09T10:11:00\",\"2011-02-09T10:11:00\",\"2011-02-09T10:11:00\",\"2011-02-09T10:11:00\",\"2011-02-09T10:11:00\",\"2011-02-09T10:11:00\",\"2011-02-09T10:11:00\",\"2011-02-09T10:11:00\",\"2011-02-09T10:11:00\",\"2011-02-09T10:11:00\",\"2011-02-09T10:11:00\",\"2011-02-09T10:11:00\",\"2011-02-09T10:11:00\",\"2011-02-09T10:11:00\",\"2011-02-09T10:11:00\",\"2011-02-09T10:11:00\",\"2011-02-09T10:11:00\",\"2011-02-09T10:11:00\",\"2011-02-09T10:11:00\",\"2011-02-09T10:11:00\",\"2011-02-09T10:11:00\",\"2011-02-09T10:11:00\",\"2011-02-09T10:11:00\",\"2011-02-09T10:11:00\",\"2011-02-10T15:38:00\",\"2011-02-10T15:38:00\",\"2011-02-10T15:38:00\",\"2011-02-10T15:38:00\",\"2011-02-10T15:38:00\",\"2011-02-10T15:38:00\",\"2011-02-10T15:38:00\",\"2011-02-10T15:38:00\",\"2011-02-10T15:38:00\",\"2011-02-10T15:38:00\",\"2011-02-10T15:38:00\",\"2011-02-10T15:38:00\",\"2011-02-15T14:17:00\",\"2011-02-15T14:17:00\",\"2011-02-15T14:17:00\",\"2011-02-15T14:17:00\",\"2011-02-15T14:17:00\",\"2011-02-15T14:17:00\",\"2011-02-15T14:17:00\",\"2011-02-15T14:17:00\",\"2011-02-15T14:17:00\",\"2011-02-15T14:17:00\",\"2011-02-16T11:45:00\",\"2011-02-16T11:45:00\",\"2011-02-16T11:45:00\",\"2011-02-16T11:45:00\",\"2011-02-16T11:45:00\",\"2011-02-16T11:45:00\",\"2011-02-16T11:45:00\",\"2011-02-16T11:45:00\",\"2011-02-16T11:45:00\",\"2011-02-16T11:45:00\",\"2011-02-16T11:45:00\",\"2011-02-16T11:45:00\",\"2011-02-16T11:45:00\",\"2011-02-16T11:45:00\",\"2011-02-16T11:45:00\",\"2011-02-16T11:45:00\",\"2011-02-16T11:45:00\",\"2011-02-16T11:45:00\",\"2011-02-16T11:45:00\",\"2011-02-16T11:45:00\",\"2011-02-16T11:45:00\",\"2011-02-16T11:45:00\",\"2011-02-16T11:45:00\",\"2011-02-16T11:45:00\",\"2011-02-16T11:45:00\",\"2011-02-16T11:45:00\",\"2011-02-16T11:45:00\",\"2011-02-16T11:45:00\",\"2011-02-16T11:45:00\",\"2011-02-16T11:45:00\",\"2011-02-16T11:45:00\",\"2011-02-16T11:45:00\",\"2011-02-16T11:45:00\",\"2011-02-16T11:45:00\",\"2011-02-16T11:45:00\",\"2011-02-16T11:45:00\",\"2011-02-16T11:45:00\",\"2011-02-16T11:45:00\",\"2011-02-16T11:45:00\",\"2011-02-16T11:45:00\",\"2011-02-16T11:45:00\",\"2011-02-16T11:45:00\",\"2011-02-16T11:45:00\",\"2011-02-16T11:45:00\",\"2011-02-16T11:45:00\",\"2011-02-16T11:45:00\",\"2011-02-16T11:45:00\",\"2011-02-17T10:08:00\",\"2011-02-17T10:08:00\",\"2011-02-17T10:08:00\",\"2011-02-17T10:08:00\",\"2011-02-17T10:08:00\",\"2011-02-17T10:08:00\",\"2011-02-17T10:08:00\",\"2011-02-17T10:08:00\",\"2011-02-17T10:08:00\",\"2011-02-17T10:08:00\",\"2011-02-17T10:08:00\",\"2011-02-17T10:08:00\",\"2011-02-17T10:08:00\",\"2011-02-17T10:08:00\",\"2011-02-17T10:08:00\",\"2011-02-18T10:53:00\",\"2011-02-18T10:53:00\",\"2011-02-18T10:53:00\",\"2011-02-18T10:53:00\",\"2011-02-18T10:53:00\",\"2011-02-18T10:53:00\",\"2011-02-18T10:53:00\",\"2011-02-18T10:53:00\",\"2011-02-18T10:53:00\",\"2011-02-18T10:53:00\",\"2011-02-18T10:53:00\",\"2011-02-18T10:53:00\",\"2011-02-18T10:53:00\",\"2011-02-18T10:53:00\",\"2011-02-18T10:53:00\",\"2011-02-18T10:53:00\",\"2011-02-18T10:53:00\",\"2011-02-18T10:53:00\",\"2011-02-18T10:53:00\",\"2011-02-18T10:53:00\",\"2011-02-18T10:53:00\",\"2011-02-18T10:53:00\",\"2011-02-18T10:53:00\",\"2011-02-18T10:53:00\",\"2011-02-18T10:53:00\",\"2011-02-18T10:53:00\",\"2011-02-18T10:53:00\",\"2011-02-18T10:53:00\",\"2011-02-18T10:53:00\",\"2011-02-18T10:53:00\",\"2011-02-18T10:53:00\",\"2011-02-18T10:53:00\",\"2011-02-18T10:53:00\",\"2011-02-18T10:53:00\",\"2011-02-18T10:53:00\",\"2011-02-18T10:53:00\",\"2011-02-18T10:53:00\",\"2011-02-18T10:53:00\",\"2011-02-18T10:53:00\",\"2011-02-18T10:53:00\",\"2011-02-18T10:53:00\",\"2011-02-18T10:53:00\",\"2011-02-18T10:53:00\",\"2011-02-18T10:53:00\",\"2011-02-18T10:53:00\",\"2011-02-18T10:53:00\",\"2011-02-18T10:53:00\",\"2011-02-18T10:53:00\",\"2011-02-18T10:53:00\",\"2011-02-18T10:53:00\",\"2011-02-18T10:53:00\",\"2011-02-18T10:53:00\",\"2011-02-18T15:23:00\",\"2011-02-21T08:38:00\",\"2011-02-21T08:38:00\",\"2011-02-21T08:38:00\",\"2011-02-21T08:38:00\",\"2011-02-21T08:38:00\",\"2011-02-21T08:38:00\",\"2011-02-21T08:38:00\",\"2011-02-21T08:38:00\",\"2011-02-21T08:38:00\",\"2011-02-21T08:38:00\",\"2011-02-21T08:38:00\",\"2011-02-21T08:38:00\",\"2011-02-21T08:38:00\",\"2011-02-21T08:38:00\",\"2011-02-21T08:38:00\",\"2011-02-21T08:38:00\",\"2011-02-21T08:38:00\",\"2011-02-21T08:38:00\",\"2011-02-21T08:38:00\",\"2011-02-21T08:38:00\",\"2011-02-21T08:38:00\",\"2011-02-21T08:38:00\",\"2011-02-21T08:38:00\",\"2011-02-21T08:38:00\",\"2011-02-21T08:38:00\",\"2011-02-21T08:38:00\",\"2011-02-21T08:38:00\",\"2011-02-21T08:38:00\",\"2011-02-21T08:38:00\",\"2011-02-21T08:38:00\",\"2011-02-21T08:38:00\",\"2011-02-21T08:38:00\",\"2011-02-21T08:38:00\",\"2011-02-21T14:58:00\",\"2011-02-21T14:58:00\",\"2011-02-21T14:58:00\",\"2011-02-21T14:58:00\",\"2011-02-21T14:58:00\",\"2011-02-21T14:58:00\",\"2011-02-21T14:58:00\",\"2011-02-23T16:44:00\",\"2011-02-23T16:44:00\",\"2011-02-23T16:44:00\",\"2011-02-23T16:44:00\",\"2011-02-23T16:44:00\",\"2011-02-23T16:44:00\",\"2011-02-23T16:44:00\",\"2011-02-23T16:44:00\",\"2011-02-23T16:44:00\",\"2011-02-23T16:44:00\",\"2011-02-23T16:44:00\",\"2011-02-23T16:44:00\",\"2011-02-23T16:44:00\",\"2011-02-23T16:44:00\",\"2011-02-23T16:44:00\",\"2011-02-23T16:44:00\",\"2011-02-23T16:45:00\",\"2011-02-23T16:45:00\",\"2011-02-23T16:45:00\",\"2011-02-23T16:45:00\",\"2011-02-27T11:58:00\",\"2011-02-27T11:58:00\",\"2011-02-27T11:58:00\",\"2011-02-27T11:58:00\",\"2011-02-28T11:43:00\",\"2011-02-28T11:43:00\",\"2011-02-28T11:43:00\",\"2011-02-28T11:43:00\",\"2011-02-28T11:43:00\",\"2011-02-28T11:43:00\",\"2011-02-28T11:43:00\",\"2011-02-28T11:43:00\",\"2011-02-28T11:43:00\",\"2011-02-28T11:43:00\",\"2011-02-28T11:43:00\",\"2011-02-28T11:43:00\",\"2011-02-28T11:58:00\",\"2011-02-28T11:58:00\",\"2011-02-28T11:58:00\",\"2011-02-28T11:58:00\",\"2011-02-28T11:58:00\",\"2011-02-28T11:58:00\",\"2011-02-28T11:58:00\",\"2011-02-28T11:58:00\",\"2011-02-28T11:58:00\",\"2011-02-28T11:58:00\",\"2011-02-28T11:58:00\",\"2011-02-28T11:58:00\",\"2011-02-28T11:58:00\",\"2011-02-28T11:58:00\",\"2011-02-28T11:58:00\",\"2011-02-28T11:58:00\",\"2011-02-28T11:58:00\",\"2011-02-28T11:58:00\",\"2011-02-28T11:58:00\",\"2011-02-28T11:58:00\",\"2011-02-28T11:58:00\",\"2011-02-28T11:58:00\",\"2011-02-28T11:58:00\",\"2011-02-28T11:58:00\",\"2011-02-28T11:58:00\",\"2011-02-28T14:42:00\",\"2011-02-28T14:42:00\",\"2011-02-28T14:42:00\",\"2011-02-28T14:42:00\",\"2011-02-28T14:42:00\",\"2011-02-28T14:42:00\",\"2011-02-28T14:42:00\",\"2011-02-28T14:42:00\",\"2011-02-28T14:42:00\",\"2011-02-28T14:42:00\",\"2011-02-28T14:42:00\",\"2011-02-28T14:45:00\",\"2011-02-28T14:45:00\",\"2011-02-28T14:45:00\",\"2011-02-28T14:45:00\",\"2011-02-28T14:45:00\",\"2011-02-28T14:45:00\",\"2011-03-01T10:31:00\",\"2011-03-01T10:31:00\",\"2011-03-01T10:31:00\",\"2011-03-01T10:31:00\",\"2011-03-01T10:31:00\",\"2011-03-01T10:31:00\",\"2011-03-01T10:31:00\",\"2011-03-01T10:31:00\",\"2011-03-01T10:31:00\",\"2011-03-01T10:31:00\",\"2011-03-01T10:31:00\",\"2011-03-01T10:31:00\",\"2011-03-01T10:31:00\",\"2011-03-01T10:31:00\",\"2011-03-01T10:31:00\",\"2011-03-01T10:31:00\",\"2011-03-01T12:26:00\",\"2011-03-01T12:26:00\",\"2011-03-01T12:26:00\",\"2011-03-01T12:26:00\",\"2011-03-01T12:26:00\",\"2011-03-01T12:26:00\",\"2011-03-01T12:26:00\",\"2011-03-01T12:26:00\",\"2011-03-01T12:26:00\",\"2011-03-01T12:26:00\",\"2011-03-01T12:26:00\",\"2011-03-01T12:26:00\",\"2011-03-01T12:26:00\",\"2011-03-01T12:26:00\",\"2011-03-01T12:26:00\",\"2011-03-01T12:26:00\",\"2011-03-01T12:26:00\",\"2011-03-01T12:26:00\",\"2011-03-01T12:26:00\",\"2011-03-01T12:26:00\",\"2011-03-01T12:26:00\",\"2011-03-01T12:26:00\",\"2011-03-01T12:26:00\",\"2011-03-01T12:26:00\",\"2011-03-01T12:26:00\",\"2011-03-01T12:26:00\",\"2011-03-01T12:26:00\",\"2011-03-01T12:26:00\",\"2011-03-01T12:26:00\",\"2011-03-01T12:26:00\",\"2011-03-01T12:26:00\",\"2011-03-01T12:26:00\",\"2011-03-01T12:26:00\",\"2011-03-01T12:26:00\",\"2011-03-01T12:26:00\",\"2011-03-01T12:26:00\",\"2011-03-01T12:26:00\",\"2011-03-01T12:26:00\",\"2011-03-01T12:26:00\",\"2011-03-01T12:26:00\",\"2011-03-01T12:26:00\",\"2011-03-03T12:06:00\",\"2011-03-03T12:06:00\",\"2011-03-03T12:06:00\",\"2011-03-03T12:06:00\",\"2011-03-03T12:06:00\",\"2011-03-03T12:06:00\",\"2011-03-03T12:06:00\",\"2011-03-03T12:06:00\",\"2011-03-03T12:06:00\",\"2011-03-03T12:06:00\",\"2011-03-03T12:06:00\",\"2011-03-03T12:06:00\",\"2011-03-03T12:06:00\",\"2011-03-03T12:06:00\",\"2011-03-03T12:06:00\",\"2011-03-03T12:06:00\",\"2011-03-03T12:06:00\",\"2011-03-03T12:06:00\",\"2011-03-03T12:06:00\",\"2011-03-03T12:06:00\",\"2011-03-03T12:06:00\",\"2011-03-03T12:06:00\",\"2011-03-03T12:06:00\",\"2011-03-03T12:06:00\",\"2011-03-03T12:06:00\",\"2011-03-03T12:06:00\",\"2011-03-03T12:06:00\",\"2011-03-03T12:20:00\",\"2011-03-04T09:08:00\",\"2011-03-04T09:08:00\",\"2011-03-04T09:08:00\",\"2011-03-04T09:08:00\",\"2011-03-04T09:08:00\",\"2011-03-04T09:08:00\",\"2011-03-04T09:08:00\",\"2011-03-04T09:08:00\",\"2011-03-04T09:08:00\",\"2011-03-04T09:08:00\",\"2011-03-04T09:08:00\",\"2011-03-04T09:08:00\",\"2011-03-04T09:08:00\",\"2011-03-04T09:08:00\",\"2011-03-04T09:08:00\",\"2011-03-11T12:00:00\",\"2011-03-11T12:00:00\",\"2011-03-11T12:00:00\",\"2011-03-11T12:00:00\",\"2011-03-11T12:00:00\",\"2011-03-11T12:00:00\",\"2011-03-11T12:00:00\",\"2011-03-11T12:00:00\",\"2011-03-11T12:00:00\",\"2011-03-11T12:00:00\",\"2011-03-11T12:00:00\",\"2011-03-11T12:00:00\",\"2011-03-11T12:00:00\",\"2011-03-11T12:00:00\",\"2011-03-11T12:00:00\",\"2011-03-11T12:00:00\",\"2011-03-11T12:00:00\",\"2011-03-11T12:00:00\",\"2011-03-11T12:00:00\",\"2011-03-13T14:55:00\",\"2011-03-13T14:55:00\",\"2011-03-13T14:55:00\",\"2011-03-13T14:55:00\",\"2011-03-13T14:55:00\",\"2011-03-13T14:55:00\",\"2011-03-13T14:55:00\",\"2011-03-13T14:55:00\",\"2011-03-13T14:55:00\",\"2011-03-13T14:55:00\",\"2011-03-13T14:55:00\",\"2011-03-13T14:55:00\",\"2011-03-13T14:55:00\",\"2011-03-13T14:55:00\",\"2011-03-13T14:55:00\",\"2011-03-13T14:55:00\",\"2011-03-13T14:55:00\",\"2011-03-14T11:38:00\",\"2011-03-14T11:38:00\",\"2011-03-14T11:38:00\",\"2011-03-14T11:38:00\",\"2011-03-14T11:38:00\",\"2011-03-14T11:38:00\",\"2011-03-14T11:38:00\",\"2011-03-14T11:38:00\",\"2011-03-14T11:38:00\",\"2011-03-14T11:38:00\",\"2011-03-14T11:38:00\",\"2011-03-14T11:38:00\",\"2011-03-14T11:38:00\",\"2011-03-14T11:38:00\",\"2011-03-14T11:38:00\",\"2011-03-14T11:38:00\",\"2011-03-14T11:38:00\",\"2011-03-14T11:38:00\",\"2011-03-14T11:38:00\",\"2011-03-14T11:38:00\",\"2011-03-15T16:39:00\",\"2011-03-15T16:39:00\",\"2011-03-15T16:39:00\",\"2011-03-15T16:39:00\",\"2011-03-15T16:39:00\",\"2011-03-15T16:39:00\",\"2011-03-15T16:39:00\",\"2011-03-15T16:39:00\",\"2011-03-15T16:39:00\",\"2011-03-15T16:39:00\",\"2011-03-15T16:39:00\",\"2011-03-15T16:39:00\",\"2011-03-15T16:39:00\",\"2011-03-15T16:39:00\",\"2011-03-15T16:39:00\",\"2011-03-15T16:39:00\",\"2011-03-15T16:39:00\",\"2011-03-15T16:39:00\",\"2011-03-15T16:39:00\",\"2011-03-15T16:39:00\",\"2011-03-15T16:39:00\",\"2011-03-15T16:39:00\",\"2011-03-15T16:39:00\",\"2011-03-15T16:39:00\",\"2011-03-15T16:39:00\",\"2011-03-15T16:39:00\",\"2011-03-15T16:39:00\",\"2011-03-15T16:39:00\",\"2011-03-16T14:37:00\",\"2011-03-16T14:37:00\",\"2011-03-16T14:37:00\",\"2011-03-16T14:37:00\",\"2011-03-16T14:37:00\",\"2011-03-16T14:37:00\",\"2011-03-16T14:37:00\",\"2011-03-16T15:17:00\",\"2011-03-16T15:17:00\",\"2011-03-16T15:17:00\",\"2011-03-16T15:17:00\",\"2011-03-16T15:17:00\",\"2011-03-16T15:17:00\",\"2011-03-16T15:17:00\",\"2011-03-16T15:17:00\",\"2011-03-20T15:58:00\",\"2011-03-20T15:58:00\",\"2011-03-20T15:58:00\",\"2011-03-20T15:58:00\",\"2011-03-20T15:58:00\",\"2011-03-20T15:58:00\",\"2011-03-20T15:58:00\",\"2011-03-20T15:58:00\",\"2011-03-20T15:58:00\",\"2011-03-20T15:58:00\",\"2011-03-20T15:58:00\",\"2011-03-20T15:58:00\",\"2011-03-20T15:58:00\",\"2011-03-20T15:58:00\",\"2011-03-21T12:42:00\",\"2011-03-21T12:42:00\",\"2011-03-21T12:42:00\",\"2011-03-21T12:42:00\",\"2011-03-21T12:42:00\",\"2011-03-21T12:42:00\",\"2011-03-21T12:42:00\",\"2011-03-21T12:42:00\",\"2011-03-21T12:42:00\",\"2011-03-21T12:42:00\",\"2011-03-21T12:42:00\",\"2011-03-21T12:42:00\",\"2011-03-21T12:42:00\",\"2011-03-21T12:42:00\",\"2011-03-21T12:42:00\",\"2011-03-21T12:42:00\",\"2011-03-21T12:42:00\",\"2011-03-21T12:42:00\",\"2011-03-21T12:42:00\",\"2011-03-21T12:42:00\",\"2011-03-21T12:42:00\",\"2011-03-21T12:42:00\",\"2011-03-21T12:42:00\",\"2011-03-21T12:42:00\",\"2011-03-21T12:42:00\",\"2011-03-21T12:42:00\",\"2011-03-21T12:42:00\",\"2011-03-21T12:42:00\",\"2011-03-21T12:42:00\",\"2011-03-21T12:42:00\",\"2011-03-21T12:42:00\",\"2011-03-21T12:42:00\",\"2011-03-21T12:42:00\",\"2011-03-21T12:42:00\",\"2011-03-21T12:42:00\",\"2011-03-21T12:42:00\",\"2011-03-21T12:42:00\",\"2011-03-21T12:42:00\",\"2011-03-21T12:42:00\",\"2011-03-21T12:42:00\",\"2011-03-21T12:44:00\",\"2011-03-21T12:44:00\",\"2011-03-21T12:44:00\",\"2011-03-21T12:44:00\",\"2011-03-22T11:28:00\",\"2011-03-22T11:28:00\",\"2011-03-22T11:28:00\",\"2011-03-22T11:28:00\",\"2011-03-22T11:28:00\",\"2011-03-22T11:28:00\",\"2011-03-22T11:28:00\",\"2011-03-22T11:28:00\",\"2011-03-22T11:28:00\",\"2011-03-22T11:28:00\",\"2011-03-22T11:28:00\",\"2011-03-22T11:28:00\",\"2011-03-22T11:28:00\",\"2011-03-22T11:28:00\",\"2011-03-22T11:28:00\",\"2011-03-22T11:28:00\",\"2011-03-22T11:28:00\",\"2011-03-22T11:28:00\",\"2011-03-22T11:28:00\",\"2011-03-22T11:28:00\",\"2011-03-22T11:28:00\",\"2011-03-22T11:28:00\",\"2011-03-22T11:28:00\",\"2011-03-22T11:28:00\",\"2011-03-22T11:28:00\",\"2011-03-22T11:28:00\",\"2011-03-22T11:28:00\",\"2011-03-22T11:28:00\",\"2011-03-22T11:28:00\",\"2011-03-22T11:28:00\",\"2011-03-23T12:06:00\",\"2011-03-23T12:06:00\",\"2011-03-23T12:06:00\",\"2011-03-23T12:06:00\",\"2011-03-23T12:06:00\",\"2011-03-23T12:06:00\",\"2011-03-23T12:06:00\",\"2011-03-23T12:06:00\",\"2011-03-23T12:06:00\",\"2011-03-23T13:33:00\",\"2011-03-23T13:33:00\",\"2011-03-23T13:33:00\",\"2011-03-23T13:33:00\",\"2011-03-23T13:33:00\",\"2011-03-23T13:33:00\",\"2011-03-23T13:33:00\",\"2011-03-23T13:33:00\",\"2011-03-23T13:33:00\",\"2011-03-23T13:33:00\",\"2011-03-23T13:33:00\",\"2011-03-23T13:33:00\",\"2011-03-23T13:33:00\",\"2011-03-23T13:33:00\",\"2011-03-23T13:33:00\",\"2011-03-23T13:33:00\",\"2011-03-23T13:33:00\",\"2011-03-23T13:33:00\",\"2011-03-23T13:33:00\",\"2011-03-23T13:33:00\",\"2011-03-23T13:33:00\",\"2011-03-23T13:33:00\",\"2011-03-23T13:33:00\",\"2011-03-23T13:33:00\",\"2011-03-23T13:33:00\",\"2011-03-23T13:33:00\",\"2011-03-23T13:33:00\",\"2011-03-23T13:33:00\",\"2011-03-23T13:33:00\",\"2011-03-23T13:33:00\",\"2011-03-23T13:33:00\",\"2011-03-23T13:33:00\",\"2011-03-23T13:33:00\",\"2011-03-23T13:33:00\",\"2011-03-23T13:39:00\",\"2011-03-23T13:39:00\",\"2011-03-23T13:39:00\",\"2011-03-23T13:39:00\",\"2011-03-23T13:39:00\",\"2011-03-23T13:39:00\",\"2011-03-23T13:39:00\",\"2011-03-23T13:39:00\",\"2011-03-23T14:55:00\",\"2011-03-23T14:55:00\",\"2011-03-23T14:55:00\",\"2011-03-23T14:55:00\",\"2011-03-23T14:55:00\",\"2011-03-23T14:55:00\",\"2011-03-23T14:55:00\",\"2011-03-23T14:55:00\",\"2011-03-23T14:55:00\",\"2011-03-23T14:55:00\",\"2011-03-23T14:55:00\",\"2011-03-23T14:55:00\",\"2011-03-23T14:55:00\",\"2011-03-23T14:55:00\",\"2011-03-23T14:55:00\",\"2011-03-23T14:55:00\",\"2011-03-23T14:55:00\",\"2011-03-23T14:55:00\",\"2011-03-23T14:55:00\",\"2011-03-23T14:55:00\",\"2011-03-25T10:19:00\",\"2011-03-25T10:19:00\",\"2011-03-25T10:19:00\",\"2011-03-25T10:19:00\",\"2011-03-25T10:19:00\",\"2011-03-25T10:19:00\",\"2011-03-25T10:19:00\",\"2011-03-25T10:19:00\",\"2011-03-25T10:19:00\",\"2011-03-25T10:19:00\",\"2011-03-25T10:19:00\",\"2011-03-25T10:19:00\",\"2011-03-25T10:19:00\",\"2011-03-25T10:19:00\",\"2011-03-25T10:19:00\",\"2011-03-25T10:19:00\",\"2011-03-25T10:19:00\",\"2011-03-25T10:19:00\",\"2011-03-25T10:19:00\",\"2011-03-25T10:19:00\",\"2011-03-25T10:19:00\",\"2011-03-25T10:19:00\",\"2011-03-27T13:07:00\",\"2011-03-27T13:07:00\",\"2011-03-27T13:07:00\",\"2011-03-27T13:07:00\",\"2011-03-27T13:07:00\",\"2011-03-27T13:07:00\",\"2011-03-27T13:07:00\",\"2011-03-28T10:15:00\",\"2011-03-28T10:15:00\",\"2011-03-28T10:15:00\",\"2011-03-28T10:15:00\",\"2011-03-28T10:15:00\",\"2011-03-28T10:15:00\",\"2011-03-28T10:15:00\",\"2011-03-28T10:15:00\",\"2011-03-28T10:15:00\",\"2011-03-28T10:15:00\",\"2011-03-28T10:15:00\",\"2011-03-28T10:15:00\",\"2011-03-28T10:15:00\",\"2011-03-28T10:15:00\",\"2011-03-28T10:15:00\",\"2011-03-28T10:15:00\",\"2011-03-28T10:15:00\",\"2011-03-28T10:15:00\",\"2011-03-28T10:15:00\",\"2011-03-28T10:15:00\",\"2011-03-28T10:15:00\",\"2011-03-28T10:15:00\",\"2011-03-28T10:15:00\",\"2011-03-28T10:15:00\",\"2011-03-28T10:15:00\",\"2011-03-28T10:15:00\",\"2011-03-28T10:15:00\",\"2011-03-28T10:15:00\",\"2011-03-28T10:15:00\",\"2011-03-28T10:15:00\",\"2011-03-28T10:15:00\",\"2011-03-28T10:15:00\",\"2011-03-28T10:15:00\",\"2011-03-28T10:15:00\",\"2011-03-28T10:15:00\",\"2011-03-28T10:15:00\",\"2011-03-28T10:15:00\",\"2011-03-28T10:15:00\",\"2011-03-28T10:15:00\",\"2011-03-28T10:15:00\",\"2011-03-28T10:15:00\",\"2011-03-28T10:15:00\",\"2011-03-28T10:15:00\",\"2011-03-28T10:15:00\",\"2011-03-28T10:15:00\",\"2011-03-28T10:15:00\",\"2011-03-28T10:15:00\",\"2011-03-28T10:15:00\",\"2011-03-28T10:15:00\",\"2011-03-28T10:15:00\",\"2011-03-28T10:15:00\",\"2011-03-28T10:15:00\",\"2011-03-28T10:15:00\",\"2011-03-28T10:15:00\",\"2011-03-28T10:15:00\",\"2011-03-28T10:15:00\",\"2011-03-28T10:15:00\",\"2011-03-28T10:15:00\",\"2011-03-28T10:15:00\",\"2011-03-28T10:15:00\",\"2011-03-28T10:15:00\",\"2011-03-28T10:15:00\",\"2011-03-28T10:15:00\",\"2011-03-28T10:15:00\",\"2011-03-28T10:15:00\",\"2011-03-28T10:15:00\",\"2011-03-28T10:15:00\",\"2011-03-28T10:15:00\",\"2011-03-31T10:27:00\",\"2011-03-31T10:27:00\",\"2011-03-31T10:27:00\",\"2011-03-31T10:27:00\",\"2011-03-31T10:27:00\",\"2011-03-31T10:27:00\",\"2011-03-31T10:27:00\",\"2011-03-31T10:27:00\",\"2011-03-31T10:27:00\",\"2011-03-31T10:27:00\",\"2011-03-31T10:27:00\",\"2011-03-31T10:27:00\",\"2011-03-31T10:27:00\",\"2011-03-31T10:27:00\",\"2011-03-31T10:27:00\",\"2011-03-31T10:27:00\",\"2011-03-31T10:27:00\",\"2011-03-31T10:27:00\",\"2011-03-31T10:27:00\",\"2011-03-31T10:27:00\",\"2011-03-31T10:27:00\",\"2011-03-31T10:27:00\",\"2011-03-31T10:27:00\",\"2011-03-31T10:27:00\",\"2011-03-31T10:27:00\",\"2011-03-31T10:27:00\",\"2011-03-31T10:27:00\",\"2011-03-31T10:27:00\",\"2011-03-31T10:27:00\",\"2011-03-31T10:27:00\",\"2011-03-31T10:27:00\",\"2011-03-31T10:27:00\",\"2011-03-31T10:27:00\",\"2011-03-31T10:29:00\",\"2011-03-31T10:29:00\",\"2011-03-31T10:29:00\",\"2011-03-31T10:29:00\",\"2011-03-31T13:40:00\",\"2011-03-31T13:40:00\",\"2011-03-31T13:40:00\",\"2011-03-31T13:40:00\",\"2011-03-31T13:40:00\",\"2011-03-31T13:40:00\",\"2011-03-31T13:40:00\",\"2011-03-31T13:40:00\",\"2011-03-31T13:40:00\",\"2011-03-31T13:40:00\",\"2011-03-31T13:40:00\",\"2011-03-31T13:40:00\",\"2011-03-31T13:40:00\",\"2011-03-31T13:40:00\",\"2011-03-31T13:40:00\",\"2011-03-31T13:40:00\",\"2011-03-31T13:40:00\",\"2011-03-31T13:40:00\",\"2011-03-31T13:40:00\",\"2011-03-31T13:40:00\",\"2011-03-31T13:40:00\",\"2011-03-31T13:40:00\",\"2011-03-31T13:40:00\",\"2011-03-31T13:40:00\",\"2011-03-31T13:40:00\",\"2011-03-31T13:40:00\",\"2011-03-31T13:40:00\",\"2011-03-31T13:40:00\",\"2011-03-31T13:40:00\",\"2011-03-31T13:40:00\",\"2011-03-31T13:40:00\",\"2011-03-31T13:40:00\",\"2011-03-31T13:40:00\",\"2011-03-31T13:40:00\",\"2011-03-31T13:40:00\",\"2011-04-01T09:19:00\",\"2011-04-01T09:19:00\",\"2011-04-01T09:19:00\",\"2011-04-01T09:19:00\",\"2011-04-01T09:19:00\",\"2011-04-01T09:19:00\",\"2011-04-01T09:19:00\",\"2011-04-01T09:19:00\",\"2011-04-01T09:19:00\",\"2011-04-01T11:10:00\",\"2011-04-01T11:10:00\",\"2011-04-01T11:10:00\",\"2011-04-04T11:18:00\",\"2011-04-04T11:18:00\",\"2011-04-04T11:18:00\",\"2011-04-04T11:18:00\",\"2011-04-04T11:18:00\",\"2011-04-04T11:18:00\",\"2011-04-04T11:18:00\",\"2011-04-04T11:18:00\",\"2011-04-04T11:18:00\",\"2011-04-04T11:18:00\",\"2011-04-04T11:18:00\",\"2011-04-04T11:18:00\",\"2011-04-04T11:18:00\",\"2011-04-04T11:18:00\",\"2011-04-04T11:18:00\",\"2011-04-04T11:18:00\",\"2011-04-04T11:18:00\",\"2011-04-04T11:18:00\",\"2011-04-04T11:18:00\",\"2011-04-04T11:18:00\",\"2011-04-04T11:18:00\",\"2011-04-04T11:18:00\",\"2011-04-04T11:18:00\",\"2011-04-04T11:18:00\",\"2011-04-04T11:18:00\",\"2011-04-04T11:18:00\",\"2011-04-07T13:07:00\",\"2011-04-07T13:07:00\",\"2011-04-07T13:07:00\",\"2011-04-07T13:07:00\",\"2011-04-07T13:07:00\",\"2011-04-07T13:07:00\",\"2011-04-07T13:07:00\",\"2011-04-07T13:07:00\",\"2011-04-07T13:07:00\",\"2011-04-07T13:07:00\",\"2011-04-07T13:07:00\",\"2011-04-07T13:07:00\",\"2011-04-07T13:07:00\",\"2011-04-07T13:07:00\",\"2011-04-07T13:07:00\",\"2011-04-07T13:07:00\",\"2011-04-07T13:07:00\",\"2011-04-07T13:07:00\",\"2011-04-07T13:07:00\",\"2011-04-07T13:07:00\",\"2011-04-07T13:07:00\",\"2011-04-07T13:07:00\",\"2011-04-07T13:07:00\",\"2011-04-14T14:15:00\",\"2011-04-14T14:15:00\",\"2011-04-14T14:15:00\",\"2011-04-14T14:15:00\",\"2011-04-14T14:15:00\",\"2011-04-14T14:15:00\",\"2011-04-14T14:15:00\",\"2011-04-14T14:15:00\",\"2011-04-14T14:15:00\",\"2011-04-14T14:15:00\",\"2011-04-14T14:15:00\",\"2011-04-14T14:15:00\",\"2011-04-14T14:15:00\",\"2011-04-14T14:15:00\",\"2011-04-14T14:15:00\",\"2011-04-14T14:15:00\",\"2011-04-14T14:15:00\",\"2011-04-14T14:15:00\",\"2011-04-14T14:15:00\",\"2011-04-14T14:15:00\",\"2011-04-14T14:15:00\",\"2011-04-14T14:15:00\",\"2011-04-14T14:15:00\",\"2011-04-14T14:15:00\",\"2011-04-14T14:15:00\",\"2011-04-14T14:15:00\",\"2011-04-14T14:15:00\",\"2011-04-14T14:15:00\",\"2011-04-14T14:15:00\",\"2011-04-14T14:15:00\",\"2011-04-17T11:21:00\",\"2011-04-17T11:21:00\",\"2011-04-17T11:21:00\",\"2011-04-17T11:21:00\",\"2011-04-17T11:21:00\",\"2011-04-17T11:21:00\",\"2011-04-17T11:21:00\",\"2011-04-17T11:21:00\",\"2011-04-17T11:21:00\",\"2011-04-17T11:21:00\",\"2011-04-17T11:21:00\",\"2011-04-17T11:21:00\",\"2011-04-17T11:21:00\",\"2011-04-17T11:21:00\",\"2011-04-17T11:21:00\",\"2011-04-17T11:21:00\",\"2011-04-17T11:21:00\",\"2011-04-17T11:21:00\",\"2011-04-17T11:21:00\",\"2011-04-17T11:21:00\",\"2011-04-17T11:21:00\",\"2011-04-17T11:21:00\",\"2011-04-17T11:21:00\",\"2011-04-17T11:21:00\",\"2011-04-17T11:21:00\",\"2011-04-17T11:21:00\",\"2011-04-17T15:33:00\",\"2011-04-17T15:33:00\",\"2011-04-17T15:33:00\",\"2011-04-17T15:33:00\",\"2011-04-20T09:20:00\",\"2011-04-20T09:20:00\",\"2011-04-20T09:20:00\",\"2011-04-20T09:20:00\",\"2011-04-20T09:20:00\",\"2011-04-20T09:20:00\",\"2011-04-20T09:20:00\",\"2011-04-20T09:20:00\",\"2011-04-20T09:20:00\",\"2011-04-20T09:20:00\",\"2011-04-20T09:20:00\",\"2011-04-20T09:20:00\",\"2011-04-20T09:20:00\",\"2011-04-20T09:20:00\",\"2011-04-20T09:20:00\",\"2011-04-20T09:20:00\",\"2011-04-20T09:20:00\",\"2011-04-21T08:54:00\",\"2011-04-21T08:54:00\",\"2011-04-21T08:54:00\",\"2011-04-21T08:54:00\",\"2011-04-21T08:54:00\",\"2011-04-21T08:54:00\",\"2011-04-21T08:54:00\",\"2011-04-21T08:54:00\",\"2011-04-21T08:54:00\",\"2011-04-21T08:54:00\",\"2011-04-21T08:54:00\",\"2011-04-21T08:54:00\",\"2011-04-21T08:54:00\",\"2011-04-21T08:54:00\",\"2011-04-21T08:54:00\",\"2011-04-21T08:54:00\",\"2011-04-21T08:54:00\",\"2011-04-21T08:54:00\",\"2011-04-21T08:54:00\",\"2011-04-21T08:54:00\",\"2011-04-21T08:54:00\",\"2011-04-21T08:54:00\",\"2011-04-21T08:54:00\",\"2011-04-21T10:16:00\",\"2011-04-21T10:16:00\",\"2011-04-21T10:16:00\",\"2011-04-21T10:16:00\",\"2011-04-21T10:16:00\",\"2011-04-21T10:16:00\",\"2011-04-21T10:16:00\",\"2011-04-21T10:16:00\",\"2011-04-21T10:16:00\",\"2011-04-21T10:16:00\",\"2011-04-21T10:16:00\",\"2011-04-21T10:16:00\",\"2011-04-21T10:16:00\",\"2011-04-21T10:16:00\",\"2011-04-21T10:16:00\",\"2011-04-21T10:16:00\",\"2011-04-21T10:16:00\",\"2011-04-21T10:16:00\",\"2011-04-21T10:16:00\",\"2011-04-21T10:16:00\",\"2011-04-21T10:16:00\",\"2011-04-26T15:52:00\",\"2011-04-26T15:52:00\",\"2011-04-26T15:52:00\",\"2011-04-26T15:52:00\",\"2011-04-26T15:52:00\",\"2011-04-26T15:52:00\",\"2011-04-26T15:52:00\",\"2011-04-26T15:52:00\",\"2011-04-26T15:52:00\",\"2011-04-26T15:52:00\",\"2011-04-26T15:52:00\",\"2011-04-26T15:52:00\",\"2011-04-26T15:52:00\",\"2011-04-26T15:52:00\",\"2011-04-26T15:52:00\",\"2011-04-26T15:52:00\",\"2011-04-26T15:52:00\",\"2011-04-26T15:52:00\",\"2011-04-26T15:52:00\",\"2011-04-26T15:52:00\",\"2011-04-26T15:52:00\",\"2011-04-26T15:52:00\",\"2011-04-26T15:52:00\",\"2011-04-26T15:52:00\",\"2011-04-26T15:52:00\",\"2011-04-26T15:52:00\",\"2011-04-26T15:52:00\",\"2011-04-26T15:52:00\",\"2011-04-28T11:45:00\",\"2011-04-28T11:45:00\",\"2011-04-28T11:45:00\",\"2011-04-28T11:45:00\",\"2011-04-28T11:45:00\",\"2011-04-28T11:45:00\",\"2011-04-28T11:45:00\",\"2011-05-03T08:40:00\",\"2011-05-03T08:40:00\",\"2011-05-03T08:40:00\",\"2011-05-03T08:40:00\",\"2011-05-03T08:40:00\",\"2011-05-03T08:40:00\",\"2011-05-03T08:40:00\",\"2011-05-03T08:40:00\",\"2011-05-03T08:40:00\",\"2011-05-03T08:40:00\",\"2011-05-03T08:40:00\",\"2011-05-03T08:40:00\",\"2011-05-03T08:40:00\",\"2011-05-03T08:40:00\",\"2011-05-03T08:40:00\",\"2011-05-03T08:40:00\",\"2011-05-03T08:40:00\",\"2011-05-03T08:40:00\",\"2011-05-03T08:40:00\",\"2011-05-03T08:40:00\",\"2011-05-03T09:33:00\",\"2011-05-03T09:33:00\",\"2011-05-03T09:33:00\",\"2011-05-03T09:33:00\",\"2011-05-03T09:33:00\",\"2011-05-03T09:33:00\",\"2011-05-03T09:33:00\",\"2011-05-03T09:33:00\",\"2011-05-03T09:33:00\",\"2011-05-03T09:33:00\",\"2011-05-03T09:33:00\",\"2011-05-03T09:33:00\",\"2011-05-03T09:33:00\",\"2011-05-03T09:33:00\",\"2011-05-03T09:33:00\",\"2011-05-03T09:33:00\",\"2011-05-03T09:33:00\",\"2011-05-03T09:33:00\",\"2011-05-03T09:33:00\",\"2011-05-03T09:33:00\",\"2011-05-03T09:34:00\",\"2011-05-03T12:02:00\",\"2011-05-03T12:02:00\",\"2011-05-03T12:02:00\",\"2011-05-03T12:03:00\",\"2011-05-03T12:03:00\",\"2011-05-03T12:03:00\",\"2011-05-03T12:03:00\",\"2011-05-05T09:29:00\",\"2011-05-05T09:29:00\",\"2011-05-05T09:29:00\",\"2011-05-05T09:29:00\",\"2011-05-05T09:29:00\",\"2011-05-05T09:29:00\",\"2011-05-05T09:29:00\",\"2011-05-05T09:29:00\",\"2011-05-05T09:29:00\",\"2011-05-05T09:29:00\",\"2011-05-08T16:10:00\",\"2011-05-08T16:10:00\",\"2011-05-08T16:10:00\",\"2011-05-08T16:10:00\",\"2011-05-08T16:10:00\",\"2011-05-08T16:10:00\",\"2011-05-08T16:10:00\",\"2011-05-08T16:10:00\",\"2011-05-08T16:10:00\",\"2011-05-08T16:10:00\",\"2011-05-08T16:10:00\",\"2011-05-08T16:10:00\",\"2011-05-08T16:10:00\",\"2011-05-08T16:10:00\",\"2011-05-08T16:10:00\",\"2011-05-08T16:10:00\",\"2011-05-08T16:10:00\",\"2011-05-08T16:10:00\",\"2011-05-08T16:10:00\",\"2011-05-08T16:10:00\",\"2011-05-08T16:10:00\",\"2011-05-08T16:10:00\",\"2011-05-08T16:10:00\",\"2011-05-08T16:10:00\",\"2011-05-08T16:10:00\",\"2011-05-08T16:10:00\",\"2011-05-08T16:10:00\",\"2011-05-08T16:10:00\",\"2011-05-08T16:10:00\",\"2011-05-08T16:10:00\",\"2011-05-08T16:10:00\",\"2011-05-08T16:10:00\",\"2011-05-08T16:10:00\",\"2011-05-08T16:10:00\",\"2011-05-08T16:10:00\",\"2011-05-08T16:10:00\",\"2011-05-08T16:10:00\",\"2011-05-08T16:10:00\",\"2011-05-08T16:10:00\",\"2011-05-08T16:10:00\",\"2011-05-08T16:10:00\",\"2011-05-08T16:10:00\",\"2011-05-08T16:10:00\",\"2011-05-08T16:10:00\",\"2011-05-08T16:10:00\",\"2011-05-08T16:10:00\",\"2011-05-08T16:10:00\",\"2011-05-08T16:10:00\",\"2011-05-08T16:10:00\",\"2011-05-08T16:10:00\",\"2011-05-08T16:10:00\",\"2011-05-08T16:10:00\",\"2011-05-08T16:10:00\",\"2011-05-08T16:10:00\",\"2011-05-08T16:10:00\",\"2011-05-08T16:10:00\",\"2011-05-08T16:10:00\",\"2011-05-08T16:10:00\",\"2011-05-08T16:10:00\",\"2011-05-08T16:10:00\",\"2011-05-08T16:10:00\",\"2011-05-09T09:47:00\",\"2011-05-09T09:47:00\",\"2011-05-09T09:47:00\",\"2011-05-09T09:47:00\",\"2011-05-09T09:47:00\",\"2011-05-09T09:47:00\",\"2011-05-09T09:47:00\",\"2011-05-09T09:47:00\",\"2011-05-09T09:47:00\",\"2011-05-09T09:47:00\",\"2011-05-09T09:47:00\",\"2011-05-09T09:47:00\",\"2011-05-09T09:47:00\",\"2011-05-09T09:47:00\",\"2011-05-09T09:47:00\",\"2011-05-09T09:47:00\",\"2011-05-09T15:12:00\",\"2011-05-09T15:12:00\",\"2011-05-09T15:12:00\",\"2011-05-09T15:12:00\",\"2011-05-09T15:12:00\",\"2011-05-09T15:12:00\",\"2011-05-09T15:12:00\",\"2011-05-09T15:12:00\",\"2011-05-09T15:12:00\",\"2011-05-10T12:55:00\",\"2011-05-10T12:55:00\",\"2011-05-10T12:55:00\",\"2011-05-10T12:55:00\",\"2011-05-10T12:55:00\",\"2011-05-10T12:55:00\",\"2011-05-10T12:55:00\",\"2011-05-10T12:55:00\",\"2011-05-10T12:55:00\",\"2011-05-10T12:55:00\",\"2011-05-10T12:55:00\",\"2011-05-10T12:55:00\",\"2011-05-10T12:55:00\",\"2011-05-10T12:55:00\",\"2011-05-10T12:55:00\",\"2011-05-10T12:55:00\",\"2011-05-10T12:55:00\",\"2011-05-10T12:55:00\",\"2011-05-10T12:55:00\",\"2011-05-10T12:55:00\",\"2011-05-10T12:55:00\",\"2011-05-10T12:55:00\",\"2011-05-10T12:55:00\",\"2011-05-10T12:55:00\",\"2011-05-10T12:55:00\",\"2011-05-10T12:55:00\",\"2011-05-10T12:55:00\",\"2011-05-10T12:55:00\",\"2011-05-10T12:55:00\",\"2011-05-11T13:20:00\",\"2011-05-11T13:20:00\",\"2011-05-11T13:20:00\",\"2011-05-11T13:20:00\",\"2011-05-11T13:20:00\",\"2011-05-11T13:20:00\",\"2011-05-11T13:20:00\",\"2011-05-11T13:20:00\",\"2011-05-11T13:20:00\",\"2011-05-11T13:20:00\",\"2011-05-11T13:20:00\",\"2011-05-11T13:20:00\",\"2011-05-11T13:20:00\",\"2011-05-11T13:20:00\",\"2011-05-11T13:20:00\",\"2011-05-11T13:20:00\",\"2011-05-11T13:20:00\",\"2011-05-11T13:20:00\",\"2011-05-11T13:20:00\",\"2011-05-11T13:20:00\",\"2011-05-11T13:20:00\",\"2011-05-11T13:20:00\",\"2011-05-11T13:20:00\",\"2011-05-11T13:20:00\",\"2011-05-11T13:20:00\",\"2011-05-11T13:20:00\",\"2011-05-11T13:20:00\",\"2011-05-11T13:20:00\",\"2011-05-11T13:20:00\",\"2011-05-11T13:20:00\",\"2011-05-11T13:20:00\",\"2011-05-11T13:20:00\",\"2011-05-11T13:20:00\",\"2011-05-11T13:20:00\",\"2011-05-11T13:20:00\",\"2011-05-11T13:20:00\",\"2011-05-11T13:20:00\",\"2011-05-11T13:20:00\",\"2011-05-11T13:20:00\",\"2011-05-11T13:20:00\",\"2011-05-11T13:20:00\",\"2011-05-11T13:20:00\",\"2011-05-11T13:20:00\",\"2011-05-11T13:20:00\",\"2011-05-11T13:20:00\",\"2011-05-11T13:20:00\",\"2011-05-11T13:20:00\",\"2011-05-11T13:20:00\",\"2011-05-11T13:20:00\",\"2011-05-11T13:20:00\",\"2011-05-11T13:20:00\",\"2011-05-11T13:20:00\",\"2011-05-11T13:20:00\",\"2011-05-11T13:20:00\",\"2011-05-11T13:20:00\",\"2011-05-11T13:20:00\",\"2011-05-11T13:20:00\",\"2011-05-11T13:20:00\",\"2011-05-11T13:20:00\",\"2011-05-11T13:20:00\",\"2011-05-11T13:20:00\",\"2011-05-11T13:20:00\",\"2011-05-11T13:20:00\",\"2011-05-11T13:20:00\",\"2011-05-11T13:20:00\",\"2011-05-11T13:20:00\",\"2011-05-11T13:20:00\",\"2011-05-11T13:20:00\",\"2011-05-11T13:20:00\",\"2011-05-11T13:20:00\",\"2011-05-11T13:20:00\",\"2011-05-11T13:20:00\",\"2011-05-11T13:20:00\",\"2011-05-11T13:20:00\",\"2011-05-11T13:20:00\",\"2011-05-11T15:07:00\",\"2011-05-11T15:07:00\",\"2011-05-11T15:07:00\",\"2011-05-11T15:07:00\",\"2011-05-11T15:07:00\",\"2011-05-11T15:07:00\",\"2011-05-11T15:07:00\",\"2011-05-11T15:07:00\",\"2011-05-11T15:07:00\",\"2011-05-11T15:07:00\",\"2011-05-11T15:07:00\",\"2011-05-11T15:07:00\",\"2011-05-11T15:07:00\",\"2011-05-11T15:07:00\",\"2011-05-11T15:07:00\",\"2011-05-11T15:07:00\",\"2011-05-11T15:07:00\",\"2011-05-11T15:07:00\",\"2011-05-11T15:07:00\",\"2011-05-11T15:07:00\",\"2011-05-11T15:07:00\",\"2011-05-11T15:07:00\",\"2011-05-11T15:07:00\",\"2011-05-12T11:50:00\",\"2011-05-12T11:50:00\",\"2011-05-12T11:50:00\",\"2011-05-12T11:50:00\",\"2011-05-12T11:50:00\",\"2011-05-12T11:50:00\",\"2011-05-12T11:50:00\",\"2011-05-12T11:50:00\",\"2011-05-12T11:50:00\",\"2011-05-12T11:50:00\",\"2011-05-12T11:50:00\",\"2011-05-13T09:24:00\",\"2011-05-13T09:24:00\",\"2011-05-13T09:24:00\",\"2011-05-13T09:24:00\",\"2011-05-13T09:24:00\",\"2011-05-13T09:24:00\",\"2011-05-13T09:24:00\",\"2011-05-13T09:24:00\",\"2011-05-13T09:24:00\",\"2011-05-13T09:24:00\",\"2011-05-13T09:24:00\",\"2011-05-13T09:24:00\",\"2011-05-13T09:24:00\",\"2011-05-13T09:24:00\",\"2011-05-13T09:24:00\",\"2011-05-13T09:24:00\",\"2011-05-13T09:24:00\",\"2011-05-13T09:24:00\",\"2011-05-13T09:24:00\",\"2011-05-13T09:24:00\",\"2011-05-13T09:24:00\",\"2011-05-13T09:24:00\",\"2011-05-13T09:24:00\",\"2011-05-13T13:15:00\",\"2011-05-13T13:15:00\",\"2011-05-13T13:15:00\",\"2011-05-13T13:15:00\",\"2011-05-13T13:15:00\",\"2011-05-13T13:15:00\",\"2011-05-13T15:48:00\",\"2011-05-13T15:48:00\",\"2011-05-13T15:48:00\",\"2011-05-13T15:48:00\",\"2011-05-13T15:48:00\",\"2011-05-13T15:48:00\",\"2011-05-13T15:48:00\",\"2011-05-13T15:48:00\",\"2011-05-13T15:48:00\",\"2011-05-13T15:48:00\",\"2011-05-13T15:48:00\",\"2011-05-13T15:48:00\",\"2011-05-13T15:48:00\",\"2011-05-13T15:48:00\",\"2011-05-13T15:48:00\",\"2011-05-13T15:48:00\",\"2011-05-13T15:48:00\",\"2011-05-13T15:48:00\",\"2011-05-13T15:48:00\",\"2011-05-13T15:48:00\",\"2011-05-13T15:48:00\",\"2011-05-13T15:48:00\",\"2011-05-15T13:45:00\",\"2011-05-15T13:45:00\",\"2011-05-15T13:45:00\",\"2011-05-15T13:45:00\",\"2011-05-15T13:45:00\",\"2011-05-15T13:45:00\",\"2011-05-15T13:45:00\",\"2011-05-15T13:45:00\",\"2011-05-15T13:45:00\",\"2011-05-16T09:10:00\",\"2011-05-16T09:10:00\",\"2011-05-16T09:10:00\",\"2011-05-16T09:10:00\",\"2011-05-16T09:10:00\",\"2011-05-16T09:10:00\",\"2011-05-16T09:10:00\",\"2011-05-16T09:10:00\",\"2011-05-16T09:10:00\",\"2011-05-16T09:10:00\",\"2011-05-16T09:10:00\",\"2011-05-16T09:10:00\",\"2011-05-16T09:10:00\",\"2011-05-16T09:10:00\",\"2011-05-16T09:10:00\",\"2011-05-16T09:10:00\",\"2011-05-16T12:04:00\",\"2011-05-16T12:04:00\",\"2011-05-16T12:04:00\",\"2011-05-16T12:04:00\",\"2011-05-16T12:04:00\",\"2011-05-16T12:04:00\",\"2011-05-17T09:28:00\",\"2011-05-17T09:28:00\",\"2011-05-17T09:28:00\",\"2011-05-17T09:28:00\",\"2011-05-17T09:28:00\",\"2011-05-17T09:28:00\",\"2011-05-17T09:28:00\",\"2011-05-17T09:28:00\",\"2011-05-17T09:28:00\",\"2011-05-17T09:28:00\",\"2011-05-17T09:28:00\",\"2011-05-17T09:28:00\",\"2011-05-17T09:28:00\",\"2011-05-17T09:28:00\",\"2011-05-17T09:28:00\",\"2011-05-17T09:28:00\",\"2011-05-17T09:28:00\",\"2011-05-17T09:28:00\",\"2011-05-17T09:28:00\",\"2011-05-17T09:28:00\",\"2011-05-17T09:28:00\",\"2011-05-17T09:28:00\",\"2011-05-17T09:28:00\",\"2011-05-17T09:28:00\",\"2011-05-17T09:28:00\",\"2011-05-17T09:28:00\",\"2011-05-17T09:28:00\",\"2011-05-17T09:28:00\",\"2011-05-17T09:28:00\",\"2011-05-17T09:28:00\",\"2011-05-17T09:28:00\",\"2011-05-17T09:28:00\",\"2011-05-17T09:28:00\",\"2011-05-17T09:28:00\",\"2011-05-17T09:28:00\",\"2011-05-17T09:28:00\",\"2011-05-17T09:28:00\",\"2011-05-17T09:28:00\",\"2011-05-17T09:28:00\",\"2011-05-17T09:28:00\",\"2011-05-17T09:28:00\",\"2011-05-17T09:28:00\",\"2011-05-17T09:28:00\",\"2011-05-17T09:28:00\",\"2011-05-18T09:09:00\",\"2011-05-18T09:09:00\",\"2011-05-18T09:09:00\",\"2011-05-18T09:09:00\",\"2011-05-18T09:09:00\",\"2011-05-18T09:09:00\",\"2011-05-18T09:09:00\",\"2011-05-18T09:09:00\",\"2011-05-18T09:09:00\",\"2011-05-18T09:09:00\",\"2011-05-18T09:09:00\",\"2011-05-18T09:09:00\",\"2011-05-18T09:09:00\",\"2011-05-18T09:09:00\",\"2011-05-18T09:09:00\",\"2011-05-18T10:34:00\",\"2011-05-18T10:34:00\",\"2011-05-18T10:34:00\",\"2011-05-18T10:34:00\",\"2011-05-18T10:34:00\",\"2011-05-18T10:34:00\",\"2011-05-18T10:34:00\",\"2011-05-18T10:34:00\",\"2011-05-18T10:34:00\",\"2011-05-18T12:18:00\",\"2011-05-19T12:10:00\",\"2011-05-19T12:10:00\",\"2011-05-19T12:10:00\",\"2011-05-19T12:10:00\",\"2011-05-19T12:10:00\",\"2011-05-19T12:10:00\",\"2011-05-19T12:10:00\",\"2011-05-19T12:10:00\",\"2011-05-19T12:10:00\",\"2011-05-19T12:10:00\",\"2011-05-19T12:10:00\",\"2011-05-19T12:10:00\",\"2011-05-19T12:10:00\",\"2011-05-19T12:10:00\",\"2011-05-19T12:10:00\",\"2011-05-19T12:10:00\",\"2011-05-19T12:10:00\",\"2011-05-19T12:10:00\",\"2011-05-19T12:10:00\",\"2011-05-19T12:10:00\",\"2011-05-19T12:10:00\",\"2011-05-19T12:10:00\",\"2011-05-19T12:10:00\",\"2011-05-19T12:10:00\",\"2011-05-19T12:10:00\",\"2011-05-19T12:10:00\",\"2011-05-19T12:10:00\",\"2011-05-19T12:10:00\",\"2011-05-19T12:10:00\",\"2011-05-19T12:10:00\",\"2011-05-19T12:10:00\",\"2011-05-19T12:10:00\",\"2011-05-19T12:10:00\",\"2011-05-19T12:29:00\",\"2011-05-19T12:29:00\",\"2011-05-19T12:29:00\",\"2011-05-19T12:29:00\",\"2011-05-19T12:29:00\",\"2011-05-19T12:29:00\",\"2011-05-19T12:29:00\",\"2011-05-19T12:29:00\",\"2011-05-19T12:29:00\",\"2011-05-19T12:29:00\",\"2011-05-19T12:29:00\",\"2011-05-19T12:29:00\",\"2011-05-19T12:29:00\",\"2011-05-19T12:29:00\",\"2011-05-19T12:29:00\",\"2011-05-19T12:29:00\",\"2011-05-19T12:29:00\",\"2011-05-19T12:29:00\",\"2011-05-20T11:34:00\",\"2011-05-20T11:34:00\",\"2011-05-20T11:34:00\",\"2011-05-20T11:34:00\",\"2011-05-20T11:34:00\",\"2011-05-20T11:34:00\",\"2011-05-20T11:34:00\",\"2011-05-20T11:34:00\",\"2011-05-20T11:34:00\",\"2011-05-20T11:34:00\",\"2011-05-20T11:34:00\",\"2011-05-20T11:34:00\",\"2011-05-20T11:34:00\",\"2011-05-22T13:01:00\",\"2011-05-22T13:01:00\",\"2011-05-22T13:01:00\",\"2011-05-22T13:01:00\",\"2011-05-22T13:01:00\",\"2011-05-22T13:01:00\",\"2011-05-22T13:01:00\",\"2011-05-22T13:01:00\",\"2011-05-22T13:01:00\",\"2011-05-22T13:01:00\",\"2011-05-22T13:01:00\",\"2011-05-22T13:01:00\",\"2011-05-22T13:01:00\",\"2011-05-22T13:01:00\",\"2011-05-22T13:01:00\",\"2011-05-22T13:01:00\",\"2011-05-22T13:01:00\",\"2011-05-22T13:01:00\",\"2011-05-22T13:01:00\",\"2011-05-22T13:01:00\",\"2011-05-22T13:01:00\",\"2011-05-22T13:01:00\",\"2011-05-22T13:01:00\",\"2011-05-22T13:01:00\",\"2011-05-22T13:01:00\",\"2011-05-22T13:01:00\",\"2011-05-22T13:01:00\",\"2011-05-22T13:01:00\",\"2011-05-22T13:01:00\",\"2011-05-22T13:01:00\",\"2011-05-22T13:01:00\",\"2011-05-22T13:01:00\",\"2011-05-22T13:01:00\",\"2011-05-22T13:01:00\",\"2011-05-22T14:33:00\",\"2011-05-22T14:33:00\",\"2011-05-22T14:33:00\",\"2011-05-22T14:33:00\",\"2011-05-22T14:33:00\",\"2011-05-22T14:33:00\",\"2011-05-22T14:33:00\",\"2011-05-22T14:33:00\",\"2011-05-22T14:33:00\",\"2011-05-23T09:48:00\",\"2011-05-23T09:48:00\",\"2011-05-23T09:48:00\",\"2011-05-23T09:48:00\",\"2011-05-23T09:48:00\",\"2011-05-23T09:48:00\",\"2011-05-23T09:48:00\",\"2011-05-23T09:48:00\",\"2011-05-23T09:48:00\",\"2011-05-23T09:48:00\",\"2011-05-23T09:48:00\",\"2011-05-23T09:48:00\",\"2011-05-23T09:48:00\",\"2011-05-23T09:48:00\",\"2011-05-23T09:48:00\",\"2011-05-23T09:48:00\",\"2011-05-23T09:48:00\",\"2011-05-23T09:48:00\",\"2011-05-23T09:48:00\",\"2011-05-24T09:25:00\",\"2011-05-24T09:25:00\",\"2011-05-24T09:25:00\",\"2011-05-24T09:25:00\",\"2011-05-24T09:25:00\",\"2011-05-24T09:25:00\",\"2011-05-24T09:25:00\",\"2011-05-24T09:25:00\",\"2011-05-24T09:25:00\",\"2011-05-24T09:25:00\",\"2011-05-24T09:25:00\",\"2011-05-24T09:25:00\",\"2011-05-25T10:08:00\",\"2011-05-25T10:08:00\",\"2011-05-25T10:08:00\",\"2011-05-25T10:08:00\",\"2011-05-25T10:08:00\",\"2011-05-25T10:08:00\",\"2011-05-25T10:08:00\",\"2011-05-25T10:08:00\",\"2011-05-25T10:08:00\",\"2011-05-25T10:08:00\",\"2011-05-25T12:44:00\",\"2011-05-25T12:44:00\",\"2011-05-25T12:44:00\",\"2011-05-25T12:44:00\",\"2011-05-25T12:44:00\",\"2011-05-25T12:44:00\",\"2011-05-25T12:44:00\",\"2011-05-25T12:44:00\",\"2011-05-25T12:44:00\",\"2011-05-25T12:44:00\",\"2011-05-25T12:44:00\",\"2011-05-25T12:44:00\",\"2011-05-25T12:44:00\",\"2011-05-25T12:44:00\",\"2011-05-25T12:44:00\",\"2011-05-25T12:44:00\",\"2011-05-25T12:44:00\",\"2011-05-25T12:44:00\",\"2011-05-25T12:44:00\",\"2011-05-25T12:44:00\",\"2011-05-25T12:54:00\",\"2011-05-25T12:54:00\",\"2011-05-25T12:54:00\",\"2011-05-25T12:54:00\",\"2011-05-25T12:54:00\",\"2011-05-25T12:54:00\",\"2011-05-25T12:54:00\",\"2011-05-25T12:54:00\",\"2011-05-25T12:54:00\",\"2011-05-25T12:54:00\",\"2011-05-25T12:54:00\",\"2011-05-25T12:54:00\",\"2011-05-25T12:54:00\",\"2011-05-25T12:54:00\",\"2011-05-25T12:54:00\",\"2011-05-25T12:54:00\",\"2011-05-25T12:54:00\",\"2011-05-25T12:54:00\",\"2011-05-25T12:54:00\",\"2011-05-25T12:54:00\",\"2011-05-25T12:54:00\",\"2011-05-25T12:54:00\",\"2011-05-25T12:54:00\",\"2011-05-25T12:54:00\",\"2011-05-25T12:54:00\",\"2011-05-25T12:54:00\",\"2011-05-25T12:54:00\",\"2011-05-25T12:54:00\",\"2011-05-25T12:54:00\",\"2011-05-26T14:53:00\",\"2011-05-26T14:53:00\",\"2011-05-26T14:53:00\",\"2011-05-26T14:53:00\",\"2011-05-26T14:53:00\",\"2011-05-26T14:53:00\",\"2011-05-26T14:53:00\",\"2011-05-26T14:53:00\",\"2011-05-26T14:53:00\",\"2011-05-26T14:53:00\",\"2011-05-26T14:53:00\",\"2011-05-26T17:16:00\",\"2011-05-26T17:16:00\",\"2011-05-26T17:16:00\",\"2011-05-26T17:16:00\",\"2011-05-26T17:16:00\",\"2011-05-26T17:16:00\",\"2011-05-26T17:16:00\",\"2011-05-26T17:16:00\",\"2011-05-26T17:16:00\",\"2011-05-26T17:16:00\",\"2011-05-26T17:16:00\",\"2011-05-26T17:16:00\",\"2011-05-27T13:49:00\",\"2011-05-27T13:49:00\",\"2011-05-27T13:49:00\",\"2011-05-27T13:49:00\",\"2011-05-27T13:49:00\",\"2011-05-27T13:49:00\",\"2011-05-27T13:49:00\",\"2011-05-27T13:49:00\",\"2011-05-27T13:49:00\",\"2011-05-27T13:49:00\",\"2011-05-27T13:49:00\",\"2011-05-27T13:49:00\",\"2011-05-27T13:49:00\",\"2011-05-27T13:49:00\",\"2011-05-27T13:49:00\",\"2011-05-27T13:49:00\",\"2011-05-27T13:49:00\",\"2011-05-27T13:49:00\",\"2011-05-27T13:49:00\",\"2011-05-27T13:49:00\",\"2011-05-31T13:32:00\",\"2011-05-31T13:32:00\",\"2011-05-31T13:32:00\",\"2011-05-31T13:32:00\",\"2011-05-31T13:32:00\",\"2011-05-31T13:32:00\",\"2011-05-31T13:32:00\",\"2011-05-31T13:32:00\",\"2011-05-31T13:32:00\",\"2011-05-31T13:32:00\",\"2011-05-31T13:32:00\",\"2011-05-31T13:32:00\",\"2011-05-31T13:32:00\",\"2011-05-31T13:32:00\",\"2011-05-31T13:32:00\",\"2011-05-31T13:32:00\",\"2011-05-31T13:32:00\"],\"xaxis\":\"x\",\"y\":[19.8,12.5,13.2,15.6,7.800000000000001,19.8,15.3,5.04,15.6,17.4,17.7,38.25,4.56,10.08,17.0,11.9,17.7,5.04,19.5,15.0,10.2,20.4,15.9,15.3,17.7,15.0,19.5,19.8,6.8,10.2,15.0,19.8,17.7,17.7,17.4,47.7,10.2,19.8,53.55,15.0,17.88,15.0,17.85,17.7,13.2,13.2,15.3,17.7,15.0,5.04,15.0,20.1,15.0,31.8,19.8,5.04,15.3,15.0,10.2,15.3,53.55,17.7,13.2,17.7,19.8,19.8,17.85,38.25,15.0,25.5,19.8,13.2,8.95,14.95,17.4,10.08,17.4,17.4,13.2,13.2,8.95,13.2,19.8,10.08,8.4,10.2,16.5,19.8,8.95,15.95,12.6,6.959999999999999,19.8,8.5,17.7,29.95,12.6,17.85,26.85,17.7,14.75,19.8,10.2,29.7,7.800000000000001,17.85,15.3,15.0,29.7,20.4,8.5,10.2,19.9,7.800000000000001,47.7,19.5,30.0,19.8,60.0,17.0,26.4,45.0,39.59999999999999,45.0,45.0,39.59999999999999,39.59999999999999,27.36,35.7,10.2,53.1,31.8,7.800000000000001,15.6,26.4,51.0,10.2,15.9,17.7,19.8,13.5,30.6,29.7,25.2,20.1,14.85,10.08,26.85,9.899999999999999,32.84999999999999,31.9,12.6,7.800000000000001,17.85,10.2,7.800000000000001,17.7,10.2,15.0,14.85,5.88,15.0,30.0,30.0,17.0,39.59999999999999,45.90000000000001,19.5,5.88,19.8,19.5,14.85,11.7,15.9,39.59999999999999,12.75,39.59999999999999,15.0,14.85,19.8,23.4,30.0,6.3,14.75,19.8,30.0,30.0,23.25,19.8,30.0,30.6,30.6,10.2,14.85,13.2,8.5,30.0,15.0,15.0,23.4,46.8,39.59999999999999,30.0,15.3,30.0,15.0,39.59999999999999,15.0,30.0,46.8,46.8,50.4,835.1999999999999,10.2,15.9,25.2,5.04,17.7,12.75,39.59999999999999,15.0,19.8,19.8,12.6,22.95,16.5,8.5,16.5,16.5,8.5,8.5,16.5,20.4,16.5,8.5,15.0,10.95,15.0,17.4,14.85,17.0,12.75,23.4,131.4,30.0,87.6,25.5,40.8,15.0,15.0,17.7,15.3,29.9,10.08,25.2,13.2,17.7,10.2,16.5,10.08,17.7,15.0,19.8,14.85,5.04,25.2,17.7,19.8,17.0,8.5,17.7,46.8,17.7,19.8,10.2,23.4,15.0,15.0,15.3,15.0,10.08,15.9,15.0,25.2,8.5,15.0,15.9,14.85,19.8,19.8,17.7,17.7,15.3,17.7,13.2,30.6,19.5,13.2,17.0,4.56,34.0,31.2,15.0,15.0,19.8,19.5,19.8,10.2,12.6,19.8,15.0,10.5,15.3,15.6,16.5,6.8,15.6,8.5,15.0,35.40000000000001,4.56,15.0,17.7,23.4,15.3,15.3,23.4,19.5,15.6,61.2,15.0,31.8,23.4,15.0,10.2,8.5,23.4,15.3,17.4,15.9,22.5,15.3,17.85,10.2,47.7,19.5,44.25,17.4,6.3,15.0,14.85,19.5,17.7,19.8,15.0,13.92,17.7,16.5,12.6,19.8,7.800000000000001,12.6,17.7,15.0,19.5,10.2,19.5,19.5,20.4,22.5,19.8,22.5,17.0,15.0,19.5,12.6,15.6,10.2,23.4,10.2,5.04,19.8,13.2,17.7,61.2,17.7,175.2,35.40000000000001,10.2,23.4,30.6,10.5,5.04,10.2,25.2,12.5,12.5,10.5,87.6,30.6,14.5,35.40000000000001,23.4,10.5,6.959999999999999,15.3,31.8,17.85,10.2,6.8,70.80000000000001,13.5,25.2,20.4,20.4,17.0,17.7,17.0,19.8,15.0,53.1,53.1,8.5,5.04,34.0,17.0,35.40000000000001,39.59999999999999,15.0,39.59999999999999,23.4,8.5,30.6,10.2,59.7,30.0,15.0,30.0,15.9,19.8,19.8,17.7,19.8,25.2,23.4,19.8,12.6,30.0,15.9,15.9,17.7,15.0,15.0,15.0,30.0,30.0,30.0,15.3,12.6,12.6,17.85,17.7,17.7,7.56,23.4,16.5,17.7,35.40000000000001,5.04,8.5,17.85,16.5,15.6,17.4,19.8,19.8,7.800000000000001,30.0,19.8,5.04,10.2,10.2,15.0,15.3,15.3,5.04,10.2,10.2,39.8,35.40000000000001,30.0,10.2,34.8,35.40000000000001,17.0,19.5,19.5,40.5,15.3,16.5,23.4,19.8,34.0,7.800000000000001,17.7,183.6,19.8,10.2,25.2,17.4,19.35,59.7,15.3,17.7,20.4,17.85,13.5,26.4,10.2,13.2,15.3,7.800000000000001,9.899999999999999,76.19999999999999,17.7,23.6,19.8,15.0,19.9,14.85,17.7,23.6,15.3,15.0,17.7,8.4,7.56,10.2,15.0,12.6,20.4,15.0,7.800000000000001,30.0,40.32,12.6,10.2,53.1,46.8,20.4,25.2,15.0,15.0,29.9,15.0,8.5,19.9,14.85,19.9,19.9,8.5,8.5,8.5,17.0,15.0,23.8,11.9,15.9,15.0,19.5,44.75,44.75,44.75,67.5,30.6,10.08,46.8,50.40000000000001,23.4,60.0,14.85,30.0,14.85,102.0,45.0,30.0,5.04,35.40000000000001,59.40000000000001,139.2,49.5,45.0,46.8,78.0,60.0,35.40000000000001,79.19999999999999,79.19999999999999,60.0,50.88,25.2,16.5,30.6,25.2,25.2,14.85,83.4,67.5,67.5,23.4,67.5,25.2,475.2,475.2,232.0,70.2,25.2,50.88,25.2,17.7,75.60000000000001,30.0,39.59999999999999,16.5,10.2,5.04,15.0,17.7,23.4,15.3,12.5,11.9,19.5,15.0,6.8,31.8,19.5,9.899999999999999,14.75,16.5,17.85,15.3,16.5,52.2,12.75,23.4,17.85,19.8,39.59999999999999,17.0,15.3,19.8,89.25,39.59999999999999,30.6,15.0,53.55,16.5,5.04,15.3,19.8,89.25,19.8,38.25,15.3,17.85,17.85,17.7,15.0,31.8,16.5,19.8,15.6,13.92,10.2,30.0,10.2,5.04,5.04,25.5,17.0,19.5,29.7,35.7,17.7,10.2,17.7,9.899999999999999,13.2,19.5,19.8,10.2,23.4,15.0,15.3,15.0,35.7,15.0,10.2,29.7,20.4,15.0,15.0,17.88,16.5,17.4,15.3,30.0,17.7,30.0,16.5,16.5,23.4,30.0,10.2,10.2,20.4,14.85,19.8,19.8,15.6,17.7,12.6,25.5,15.6,15.3,13.2,10.2,9.0,22.5,7.800000000000001,30.0,30.0,15.0,12.6,15.3,30.6,10.2,16.5,9.899999999999999,9.899999999999999,29.5,15.0,15.0,10.08,10.0,10.08,10.2,7.800000000000001,10.2,15.6,13.2,15.6,17.7,20.4,10.0,19.8,23.4,12.6,29.7,7.800000000000001,10.0,10.5,15.9,19.5,10.2,9.95,14.75,10.2,23.4,15.0,10.2,10.2,10.5,9.899999999999999,17.85,19.5,10.2,13.52,13.2,38.25,15.0,19.8,6.959999999999999,35.40000000000001,12.8,39.59999999999999,30.24,10.08,6.959999999999999,70.2,6.959999999999999,39.59999999999999,6.959999999999999,10.2,63.6,17.7,19.8,23.4,17.7,19.8,17.4,19.8,10.2,19.8,15.0,10.08,17.7,25.0,10.2,20.4,15.6,31.2,10.2,25.2,5.04,19.8,19.8,39.59999999999999,19.8,10.2,10.2,15.6,17.0,20.4,15.3,17.4,10.08,20.4,12.6,5.04,10.2,7.800000000000001,17.4,20.4,10.08,7.800000000000001,10.2,5.04,20.4,23.4,30.0,13.0,50.40000000000001,10.2,39.59999999999999,15.0,39.59999999999999,15.0,15.3,10.2,16.6,16.5,16.6,15.0,12.6,14.75,14.75,8.5,15.3,8.5,19.5,16.5,21.9,8.5,8.5,7.800000000000001,20.0,6.959999999999999,30.0,6.959999999999999,10.2,10.0,6.959999999999999,10.2,31.8,15.9,15.6,19.5,17.7,10.2,23.4,81.6,29.7,10.2,15.6,17.7,5.04,10.2,20.4,6.959999999999999,19.5,10.2,10.2,6.959999999999999,6.959999999999999,6.959999999999999,15.9,35.7,15.0,15.3,19.5,12.6,19.8,19.8,40.8,25.5,10.08,7.800000000000001,19.5,20.4,10.2,19.8,12.5,6.959999999999999,15.0,19.8,15.0,6.3,14.85,68.0,12.6,10.2,10.2,15.9,12.6,12.6,12.5,5.04,15.0,12.6,51.0,15.3,5.04,12.6,23.4,5.04,17.7,12.6,12.5,15.0,29.7,10.2,10.2,15.0,15.3,17.7,10.2,41.7,17.4,51.0,12.75,10.5,18.75,19.8,12.75,25.5,20.4,17.7,19.8,19.8,19.8,19.8,45.0,10.0,23.4,10.08,10.2,30.6,34.0,30.0,5.04,10.2,10.2,10.08,30.6,15.0,30.0,20.16,30.0,12.6,30.0,20.0,44.55,13.2,45.0,25.2,16.5,16.5,45.9,13.2,10.08,13.2,75.60000000000001,16.5,47.7,46.8,15.3,15.3,8.5,19.8,23.4,25.2,20.4,19.8,10.2,30.6,10.08,15.6,25.2,16.5,47.7,35.40000000000001,19.8,63.6,15.3,46.8,8.5,15.3,10.08,15.3,15.3,12.6,17.4,15.0,12.6,15.3,15.9,24.9,13.52,24.9,8.5,34.0,8.5,49.5,8.5,49.5,39.59999999999999,13.2,20.4,25.2,12.6,15.0,15.3,15.0,19.9,17.4,39.59999999999999,17.0,10.5,20.4,17.4,17.7,15.6,17.7,20.75,10.0,23.4,6.8,29.85,16.25,6.8,10.0,20.75,14.85,20.75,15.6,17.7,10.0,17.7,17.7,25.5,26.85,15.6,15.3,19.8,30.0,19.8,20.75,15.6,19.5,15.0,13.52,6.8,15.3,15.6,23.4,13.52,17.7,13.52,27.0,20.0,19.8,20.0,13.2,17.4,5.04,21.3,10.2,19.8,29.7,35.40000000000001,10.2,10.08,15.6,10.2,35.40000000000001,7.800000000000001,9.899999999999999,51.0,7.800000000000001,19.9,35.40000000000001,19.8,10.2,9.899999999999999,17.7,15.0,17.4,5.04,20.4,20.4,15.0,14.85,15.9,15.0,15.3,15.0,19.5,19.8,15.0,17.7,14.85,15.0,14.85,58.5,15.0,39.59999999999999,20.4,15.0,15.6,23.4,53.1,39.59999999999999,13.2,20.4,30.6,39.59999999999999,50.84999999999999,39.59999999999999,89.69999999999999,6.8,30.6,35.7,89.69999999999999,23.4,30.0,12.6,10.2,17.7,12.6,10.2,15.0,17.7,30.6,17.7,10.2,19.8,5.04,25.5,17.85,39.59999999999999,15.0,30.6,15.0,18.0,15.3,15.9,15.0,10.2,15.0,71.4,15.0,16.5,16.5,11.7,16.5,16.5,17.7,15.0,59.40000000000001,17.7,16.5,17.7,10.2,15.0,10.2,10.2,13.0,19.8,10.2,6.8,8.5,8.5,17.7,39.8,16.5,10.2,39.59999999999999,19.8,17.7,17.7,30.6,5.04,17.7,10.2,7.800000000000001,10.2,75.60000000000001,15.3,30.0,10.2,32.84999999999999,12.5,13.52,27.04,23.4,10.2,17.7,15.0,10.0,10.5,12.75,14.85,16.95,17.34,13.2,15.0,13.2,45.9,20.16,20.4,20.4,30.0,23.4,10.08,15.6,10.2,30.24,30.24,3.3,3.9,0.42,3.9,1.95,7.5,2.5,0.42,9.9,1.65,1.65,4.949999999999999,8.850000000000001,17.7,1.65,2.98,14.85,1.95,14.85,3.3,1.65,1.95,5.85,5.0,9.9,3.3,3.3,1.65,3.25,1.95,3.3,0.85,3.3,3.9,0.42,2.95,2.95,3.3,11.8,22.5,0.84,0.42,0.42,2.95,23.8,15.0,15.3,15.9,16.5,5.04,11.7,16.6,16.6,15.0,19.8,15.0,15.3,16.5,15.9,14.85,16.5,15.0,15.3,17.7,16.5,35.40000000000001,19.8,12.6,9.9,12.6,5.04,15.0,14.85,15.0,13.2,12.6,15.6,13.2,30.0,13.2,29.7,17.4,15.6,13.52,24.9,6.8,10.2,10.5,17.0,20.4,13.2,20.4,7.800000000000001,75.60000000000001,13.0,13.6,15.0,51.0,10.5,13.2,15.0,10.2,10.5,15.6,25.5,10.2,13.52,5.04,10.2,106.0,15.6,75.60000000000001,13.2,15.6,24.9,17.4,13.2,105.6,30.0,17.4,12.6,30.0,30.0,46.8,105.6,17.7,17.85,19.8,16.95,19.8,33.9,16.5,23.4,19.8,19.8,16.5,19.8,17.7,17.7,23.4,19.8,19.8,23.4,15.9,23.4,19.5,8.5,17.7,5.04,12.5,15.3,17.9,16.6,7.800000000000001,13.92,10.2,16.6,15.6,7.800000000000001,17.85,13.2,10.2,20.4,10.2,16.5,13.2,17.4,13.2,17.7,19.8,14.95,25.5,15.0,21.9,16.5,17.0,15.3,10.08,25.5,16.5,13.2,8.5,15.0,10.08,6.959999999999999,19.8,19.8,16.5,15.3,10.08,13.2,19.8,15.0,15.0,13.2,8.5,6.959999999999999,19.8,10.2,15.3,15.0,17.7,10.2,17.4,15.3,13.2,13.2,19.5,23.4,15.3,23.4,17.4,19.8,19.8,15.3,17.7,19.8,10.2,15.0,6.959999999999999,17.0,15.0,23.4,8.5,15.0,10.08,17.4,17.0,19.8,6.959999999999999,15.0,17.34,23.4,10.2,6.959999999999999,23.4,5.04,17.0,15.0,17.7,13.2,15.3,232.0,50.40000000000001,50.40000000000001,25.2,35.40000000000001,35.40000000000001,30.0,50.40000000000001,31.2,60.0,23.4,78.0,65.69999999999999,45.0,33.0,45.0,16.5,16.5,23.4,61.2,67.5,29.7,175.2,67.5,59.40000000000001,81.36,30.0,52.2,34.0,91.8,93.60000000000001,67.5,79.19999999999999,89.69999999999999,117.0,89.69999999999999,117.0,69.12,67.5,69.12,8.5,69.6,20.4,30.0,358.0,46.8,30.0,61.44,234.0,75.0,358.0,139.2,20.4,275.0,2.08,61.2,140.4,61.2,139.2,1.95,91.8,59.8,139.2,1.95,1.95,34.8,20.4,139.2,75.0,70.2,201.6,69.12,15.3,22.5,14.85,10.2,10.2,17.7,19.8,10.5,17.7,75.0,102.0,75.0,15.0,9.899999999999999,15.3,16.5,14.75,17.85,10.2,16.5,15.3,16.5,30.0,15.0,15.3,15.3,19.8,31.8,13.2,33.0,17.7,5.04,23.4,30.0,60.0,16.5,24.96,14.75,19.9,10.5,11.7,23.4,12.6,5.04,12.6,5.04,12.5,11.7,16.5,10.5,12.6,16.95,12.6,20.0,20.0,12.6,16.95,12.6,10.08,20.8,5.04,30.0,23.4,19.8,19.8,30.0,7.800000000000001,17.7,23.4,23.4,9.899999999999999,12.75,23.4,45.0,39.59999999999999,16.5,33.0,16.5,15.0,17.85,16.5,16.5,15.9,20.8,10.2,33.0,15.0,20.8,10.2,15.0,16.5,15.9,39.59999999999999,24.96,17.85,6.8,17.7,16.5,19.92,10.2,5.04,35.40000000000001,49.92,13.92,6.8,13.5,17.4,60.0,23.4,8.5,31.8,19.8,5.04,15.0,10.08,5.04,19.5,17.85,16.5,29.5,20.8,88.5,33.0,16.5,19.5,23.4,17.0,15.0,35.40000000000001,17.0,33.0,16.5,33.0,33.0,17.0,23.4,15.0,33.0,2.95,2.95,1.95,2.55,7.95,4.25,7.95,0.85,1.45,1.45,2.95,0.85,3.25,3.95,5.95,2.1,2.95,0.85,3.95,5.95,3.75,1.45,1.25,19.8,30.6,15.3,16.5,33.0,19.5,14.75,15.0,16.5,23.4,35.7,40.8,23.4,20.4,39.0,39.0,63.6,30.6,23.4,39.0,19.8,2.55,2.1,0.42,2.1,2.55,8.4,0.65,9.9,35.40000000000001,1.25,26.55,2.95,10.2,2.5,1.95,2.5,11.8,3.3,0.85,1.7,1.25,9.95,0.42,6.76,2.95,1.25,3.3,5.04,10.2,25.5,13.2,70.80000000000001,30.0,31.2,10.2,25.0,8.5,60.0,19.8,15.3,30.6,24.96,19.92,20.4,8.5,33.2,33.2,19.8,33.2,8.5,60.0,17.0,40.8,33.2,17.0,16.5,15.6,15.0,20.4,102.0,30.6,17.4,20.4,25.5,20.4,16.5,15.0,49.92,49.92,35.40000000000001,30.0,63.0,17.0,37.8,22.5,24.9,50.88,61.2,50.40000000000001,204.0,10.08,20.16,102.0,16.5,16.5,39.5,10.5,23.4,16.5,10.5,23.4,23.4,19.8,19.8,16.6,13.2,20.8,12.5,16.5,6.3,13.2,5.04,20.4,25.0,15.0,16.6,30.0,8.5,5.04,19.8,15.3,10.2,18.0,35.40000000000001,18.0,10.08,20.8,23.4,30.0,19.8,10.2,19.8,15.3,5.04,15.3,16.5,27.04,15.0,5.04,5.04,5.04,33.0,12.75,17.4,15.0,10.2,5.04,5.04,16.5,15.0,30.0,5.04,13.2,13.2,23.4,50.0,8.5,15.0,15.0,15.3,16.5,13.2,16.6,15.0,8.5,19.5,20.8,20.8,21.0,17.0,15.3,17.7,15.3,16.5,41.6,16.5,30.6,6.8,6.8,20.8,17.0,7.800000000000001,30.0,30.0,15.12,40.32,20.16,10.2,34.8,20.4,16.6,10.08,15.0,17.4,7.800000000000001,10.08,23.4,15.3,20.4,23.4,10.2,15.0,17.7,10.2,19.8,23.4,30.0,15.6,10.08,10.2,10.08,19.8,10.2,19.8,10.2,15.6,10.08,15.3,5.8,37.5,15.0,15.0,6.76,9.9,6.300000000000001,1.69,30.0,33.9,9.9,34.8,86.39999999999999,31.25,8.850000000000001,15.0,15.0,37.5,9.9,13.5,2.1,29.7,41.5,33.0,15.0,25.0,2.08,6.24,5.8,15.3,15.3,29.9,8.4,15.0,15.0,15.0,5.9,15.9,86.39999999999999,86.39999999999999,9.3,17.4,17.7,15.3,20.4,10.2,25.0,6.300000000000001,26.32,61.2,20.8,6.300000000000001,15.0,29.7,12.6,19.8,8.4,29.7,2.34,9.9,35.8,8.4,24.9,30.6,31.9,29.7,33.0,8.5,19.9,5.9,69.36,34.8,20.8,2.34,25.0,33.0,23.4,59.40000000000001,89.69999999999999,25.2,30.0,59.4,69.6,33.0,85.0,54.0,202.8,29.7,102.0,31.2,214.8,23.4,30.6,61.2,5.04,65.69999999999999,20.16,33.0,15.6,17.0,12.6,14.85,15.6,99.5,16.5,61.2,5.04,5.04,15.6,15.0,15.0,16.5,19.5,19.8,19.8,19.8,19.8,15.9,7.800000000000001,17.4,59.40000000000001,35.7,15.3,24.96,11.7,17.7,20.8,13.52,20.8,15.3,20.8,17.7,15.9,15.9,15.9,10.2,16.35,15.0,15.0,15.6,25.5,19.9,8.5,8.5,15.0,50.0,15.9,10.2,16.5,10.5,6.959999999999999,30.6,17.7,35.40000000000001,6.959999999999999,15.0,9.959999999999999,39.0,11.4,13.2,10.2,17.0,15.0,10.2,15.6,30.0,10.2,10.2,15.0,23.4,12.48,17.7,64.67999999999999,24.96,30.0,89.69999999999999,5.04,23.4,5.04,89.69999999999999,30.0,19.5,89.69999999999999,20.4,5.04,10.2,19.8,19.8,12.48,39.8,19.8,16.5,5.04,16.5,19.8,13.0,17.0,22.5,15.3,19.8,5.04,5.04,5.04,16.5,14.85,40.56,17.7,12.75,5.04,54.08,10.2,19.8,16.5,20.8,19.8,16.5,16.5,16.5,19.8,19.8,29.7,5.04,15.6,16.5,16.5,19.92,16.5,17.4,16.5,17.4,2.28,10.08,24.96,16.5,16.5,11.5,13.5,16.5,15.0,50.0,16.5,24.96,15.0,19.8,35.40000000000001,19.9,14.75,24.9,19.8,37.5,34.0,43.8,30.6,13.2,30.6,59.40000000000001,30.6,60.0,30.0,76.32000000000001,16.5,16.6,16.6,16.6,19.8,40.0,14.85,15.0,10.2,13.5,13.5,16.5,11.4,19.8,19.8,19.8,14.85,20.0,9.899999999999999,20.4,18.72,20.0,20.0,19.9,16.5,9.36,19.9,15.6,30.0,5.88,9.959999999999999,20.28,9.959999999999999,16.6,12.6,12.5,16.6,17.0,16.6,20.8,20.8,15.3,17.7,16.5,16.6,33.0,20.8,12.6,20.8,14.75,15.3,105.6,33.0,82.5,15.9,127.5,16.95,49.5,105.6,49.5,15.9,16.95,255.0,82.5,13.52,16.5,13.52,10.0,51.0,16.5,11.7,12.6,13.52,6.8,31.8,19.8,12.6,11.7,16.5,17.7,8.5,14.75,59.7,12.6,17.7,29.7,51.0,16.5,6.8,12.6,19.8,16.5,16.5,12.6,10.0,6.8,10.0,17.4,5.04,15.3,11.7,16.5,25.5,16.5,42.96,16.5,19.5,13.52,30.0,19.92,23.4,15.0,15.0,19.92,13.2,12.5,39.59999999999999,15.3,15.6,8.5,10.2,10.2,6.8,102.0,6.8,8.5,29.5,37.44,16.5,33.0,39.59999999999999,15.3,15.3,39.59999999999999,35.40000000000001,39.59999999999999,15.3,40.8,17.4,34.0,5.04,19.8,23.4,51.0,10.08,19.9,19.9,30.6,16.5,16.5,20.8,19.8,10.2,17.0,17.7,14.85,20.8,20.8,16.5,14.75,23.4,17.7,42.96,20.8,15.9,19.8,23.4,20.8,15.3,33.0,17.7,20.8,42.96,5.88,16.6,19.8,9.959999999999999,9.959999999999999,15.3,19.8,15.9,16.5,30.0,30.0,30.0,15.6,15.9,11.7,11.7,20.8,5.88,15.0,6.3,15.0,15.9,16.5,15.0,14.75,16.5,16.5,23.4,16.5,29.7,16.5,16.95,12.7,16.5,16.5,30.0,15.6,51.84,46.8,70.80000000000001,20.4,39.59999999999999,17.0,10.08,19.8,30.0,10.08,25.2,16.5,16.5,16.6,25.2,16.6,12.5,9.9,12.48,10.95,30.6,25.2,24.96,17.7,17.7,25.2,16.5,17.7,16.5,12.6,29.7,15.0,15.3,16.5,20.8,20.8,19.8,16.5,16.5,128.88,10.2,13.0,16.6,15.0,19.5,20.8,9.959999999999999],\"yaxis\":\"y\",\"type\":\"scattergl\"}],                        {\"template\":{\"data\":{\"bar\":[{\"error_x\":{\"color\":\"#2a3f5f\"},\"error_y\":{\"color\":\"#2a3f5f\"},\"marker\":{\"line\":{\"color\":\"#E5ECF6\",\"width\":0.5},\"pattern\":{\"fillmode\":\"overlay\",\"size\":10,\"solidity\":0.2}},\"type\":\"bar\"}],\"barpolar\":[{\"marker\":{\"line\":{\"color\":\"#E5ECF6\",\"width\":0.5},\"pattern\":{\"fillmode\":\"overlay\",\"size\":10,\"solidity\":0.2}},\"type\":\"barpolar\"}],\"carpet\":[{\"aaxis\":{\"endlinecolor\":\"#2a3f5f\",\"gridcolor\":\"white\",\"linecolor\":\"white\",\"minorgridcolor\":\"white\",\"startlinecolor\":\"#2a3f5f\"},\"baxis\":{\"endlinecolor\":\"#2a3f5f\",\"gridcolor\":\"white\",\"linecolor\":\"white\",\"minorgridcolor\":\"white\",\"startlinecolor\":\"#2a3f5f\"},\"type\":\"carpet\"}],\"choropleth\":[{\"colorbar\":{\"outlinewidth\":0,\"ticks\":\"\"},\"type\":\"choropleth\"}],\"contour\":[{\"colorbar\":{\"outlinewidth\":0,\"ticks\":\"\"},\"colorscale\":[[0.0,\"#0d0887\"],[0.1111111111111111,\"#46039f\"],[0.2222222222222222,\"#7201a8\"],[0.3333333333333333,\"#9c179e\"],[0.4444444444444444,\"#bd3786\"],[0.5555555555555556,\"#d8576b\"],[0.6666666666666666,\"#ed7953\"],[0.7777777777777778,\"#fb9f3a\"],[0.8888888888888888,\"#fdca26\"],[1.0,\"#f0f921\"]],\"type\":\"contour\"}],\"contourcarpet\":[{\"colorbar\":{\"outlinewidth\":0,\"ticks\":\"\"},\"type\":\"contourcarpet\"}],\"heatmap\":[{\"colorbar\":{\"outlinewidth\":0,\"ticks\":\"\"},\"colorscale\":[[0.0,\"#0d0887\"],[0.1111111111111111,\"#46039f\"],[0.2222222222222222,\"#7201a8\"],[0.3333333333333333,\"#9c179e\"],[0.4444444444444444,\"#bd3786\"],[0.5555555555555556,\"#d8576b\"],[0.6666666666666666,\"#ed7953\"],[0.7777777777777778,\"#fb9f3a\"],[0.8888888888888888,\"#fdca26\"],[1.0,\"#f0f921\"]],\"type\":\"heatmap\"}],\"heatmapgl\":[{\"colorbar\":{\"outlinewidth\":0,\"ticks\":\"\"},\"colorscale\":[[0.0,\"#0d0887\"],[0.1111111111111111,\"#46039f\"],[0.2222222222222222,\"#7201a8\"],[0.3333333333333333,\"#9c179e\"],[0.4444444444444444,\"#bd3786\"],[0.5555555555555556,\"#d8576b\"],[0.6666666666666666,\"#ed7953\"],[0.7777777777777778,\"#fb9f3a\"],[0.8888888888888888,\"#fdca26\"],[1.0,\"#f0f921\"]],\"type\":\"heatmapgl\"}],\"histogram\":[{\"marker\":{\"pattern\":{\"fillmode\":\"overlay\",\"size\":10,\"solidity\":0.2}},\"type\":\"histogram\"}],\"histogram2d\":[{\"colorbar\":{\"outlinewidth\":0,\"ticks\":\"\"},\"colorscale\":[[0.0,\"#0d0887\"],[0.1111111111111111,\"#46039f\"],[0.2222222222222222,\"#7201a8\"],[0.3333333333333333,\"#9c179e\"],[0.4444444444444444,\"#bd3786\"],[0.5555555555555556,\"#d8576b\"],[0.6666666666666666,\"#ed7953\"],[0.7777777777777778,\"#fb9f3a\"],[0.8888888888888888,\"#fdca26\"],[1.0,\"#f0f921\"]],\"type\":\"histogram2d\"}],\"histogram2dcontour\":[{\"colorbar\":{\"outlinewidth\":0,\"ticks\":\"\"},\"colorscale\":[[0.0,\"#0d0887\"],[0.1111111111111111,\"#46039f\"],[0.2222222222222222,\"#7201a8\"],[0.3333333333333333,\"#9c179e\"],[0.4444444444444444,\"#bd3786\"],[0.5555555555555556,\"#d8576b\"],[0.6666666666666666,\"#ed7953\"],[0.7777777777777778,\"#fb9f3a\"],[0.8888888888888888,\"#fdca26\"],[1.0,\"#f0f921\"]],\"type\":\"histogram2dcontour\"}],\"mesh3d\":[{\"colorbar\":{\"outlinewidth\":0,\"ticks\":\"\"},\"type\":\"mesh3d\"}],\"parcoords\":[{\"line\":{\"colorbar\":{\"outlinewidth\":0,\"ticks\":\"\"}},\"type\":\"parcoords\"}],\"pie\":[{\"automargin\":true,\"type\":\"pie\"}],\"scatter\":[{\"marker\":{\"colorbar\":{\"outlinewidth\":0,\"ticks\":\"\"}},\"type\":\"scatter\"}],\"scatter3d\":[{\"line\":{\"colorbar\":{\"outlinewidth\":0,\"ticks\":\"\"}},\"marker\":{\"colorbar\":{\"outlinewidth\":0,\"ticks\":\"\"}},\"type\":\"scatter3d\"}],\"scattercarpet\":[{\"marker\":{\"colorbar\":{\"outlinewidth\":0,\"ticks\":\"\"}},\"type\":\"scattercarpet\"}],\"scattergeo\":[{\"marker\":{\"colorbar\":{\"outlinewidth\":0,\"ticks\":\"\"}},\"type\":\"scattergeo\"}],\"scattergl\":[{\"marker\":{\"colorbar\":{\"outlinewidth\":0,\"ticks\":\"\"}},\"type\":\"scattergl\"}],\"scattermapbox\":[{\"marker\":{\"colorbar\":{\"outlinewidth\":0,\"ticks\":\"\"}},\"type\":\"scattermapbox\"}],\"scatterpolar\":[{\"marker\":{\"colorbar\":{\"outlinewidth\":0,\"ticks\":\"\"}},\"type\":\"scatterpolar\"}],\"scatterpolargl\":[{\"marker\":{\"colorbar\":{\"outlinewidth\":0,\"ticks\":\"\"}},\"type\":\"scatterpolargl\"}],\"scatterternary\":[{\"marker\":{\"colorbar\":{\"outlinewidth\":0,\"ticks\":\"\"}},\"type\":\"scatterternary\"}],\"surface\":[{\"colorbar\":{\"outlinewidth\":0,\"ticks\":\"\"},\"colorscale\":[[0.0,\"#0d0887\"],[0.1111111111111111,\"#46039f\"],[0.2222222222222222,\"#7201a8\"],[0.3333333333333333,\"#9c179e\"],[0.4444444444444444,\"#bd3786\"],[0.5555555555555556,\"#d8576b\"],[0.6666666666666666,\"#ed7953\"],[0.7777777777777778,\"#fb9f3a\"],[0.8888888888888888,\"#fdca26\"],[1.0,\"#f0f921\"]],\"type\":\"surface\"}],\"table\":[{\"cells\":{\"fill\":{\"color\":\"#EBF0F8\"},\"line\":{\"color\":\"white\"}},\"header\":{\"fill\":{\"color\":\"#C8D4E3\"},\"line\":{\"color\":\"white\"}},\"type\":\"table\"}]},\"layout\":{\"annotationdefaults\":{\"arrowcolor\":\"#2a3f5f\",\"arrowhead\":0,\"arrowwidth\":1},\"autotypenumbers\":\"strict\",\"coloraxis\":{\"colorbar\":{\"outlinewidth\":0,\"ticks\":\"\"}},\"colorscale\":{\"diverging\":[[0,\"#8e0152\"],[0.1,\"#c51b7d\"],[0.2,\"#de77ae\"],[0.3,\"#f1b6da\"],[0.4,\"#fde0ef\"],[0.5,\"#f7f7f7\"],[0.6,\"#e6f5d0\"],[0.7,\"#b8e186\"],[0.8,\"#7fbc41\"],[0.9,\"#4d9221\"],[1,\"#276419\"]],\"sequential\":[[0.0,\"#0d0887\"],[0.1111111111111111,\"#46039f\"],[0.2222222222222222,\"#7201a8\"],[0.3333333333333333,\"#9c179e\"],[0.4444444444444444,\"#bd3786\"],[0.5555555555555556,\"#d8576b\"],[0.6666666666666666,\"#ed7953\"],[0.7777777777777778,\"#fb9f3a\"],[0.8888888888888888,\"#fdca26\"],[1.0,\"#f0f921\"]],\"sequentialminus\":[[0.0,\"#0d0887\"],[0.1111111111111111,\"#46039f\"],[0.2222222222222222,\"#7201a8\"],[0.3333333333333333,\"#9c179e\"],[0.4444444444444444,\"#bd3786\"],[0.5555555555555556,\"#d8576b\"],[0.6666666666666666,\"#ed7953\"],[0.7777777777777778,\"#fb9f3a\"],[0.8888888888888888,\"#fdca26\"],[1.0,\"#f0f921\"]]},\"colorway\":[\"#636efa\",\"#EF553B\",\"#00cc96\",\"#ab63fa\",\"#FFA15A\",\"#19d3f3\",\"#FF6692\",\"#B6E880\",\"#FF97FF\",\"#FECB52\"],\"font\":{\"color\":\"#2a3f5f\"},\"geo\":{\"bgcolor\":\"white\",\"lakecolor\":\"white\",\"landcolor\":\"#E5ECF6\",\"showlakes\":true,\"showland\":true,\"subunitcolor\":\"white\"},\"hoverlabel\":{\"align\":\"left\"},\"hovermode\":\"closest\",\"mapbox\":{\"style\":\"light\"},\"paper_bgcolor\":\"white\",\"plot_bgcolor\":\"#E5ECF6\",\"polar\":{\"angularaxis\":{\"gridcolor\":\"white\",\"linecolor\":\"white\",\"ticks\":\"\"},\"bgcolor\":\"#E5ECF6\",\"radialaxis\":{\"gridcolor\":\"white\",\"linecolor\":\"white\",\"ticks\":\"\"}},\"scene\":{\"xaxis\":{\"backgroundcolor\":\"#E5ECF6\",\"gridcolor\":\"white\",\"gridwidth\":2,\"linecolor\":\"white\",\"showbackground\":true,\"ticks\":\"\",\"zerolinecolor\":\"white\"},\"yaxis\":{\"backgroundcolor\":\"#E5ECF6\",\"gridcolor\":\"white\",\"gridwidth\":2,\"linecolor\":\"white\",\"showbackground\":true,\"ticks\":\"\",\"zerolinecolor\":\"white\"},\"zaxis\":{\"backgroundcolor\":\"#E5ECF6\",\"gridcolor\":\"white\",\"gridwidth\":2,\"linecolor\":\"white\",\"showbackground\":true,\"ticks\":\"\",\"zerolinecolor\":\"white\"}},\"shapedefaults\":{\"line\":{\"color\":\"#2a3f5f\"}},\"ternary\":{\"aaxis\":{\"gridcolor\":\"white\",\"linecolor\":\"white\",\"ticks\":\"\"},\"baxis\":{\"gridcolor\":\"white\",\"linecolor\":\"white\",\"ticks\":\"\"},\"bgcolor\":\"#E5ECF6\",\"caxis\":{\"gridcolor\":\"white\",\"linecolor\":\"white\",\"ticks\":\"\"}},\"title\":{\"x\":0.05},\"xaxis\":{\"automargin\":true,\"gridcolor\":\"white\",\"linecolor\":\"white\",\"ticks\":\"\",\"title\":{\"standoff\":15},\"zerolinecolor\":\"white\",\"zerolinewidth\":2},\"yaxis\":{\"automargin\":true,\"gridcolor\":\"white\",\"linecolor\":\"white\",\"ticks\":\"\",\"title\":{\"standoff\":15},\"zerolinecolor\":\"white\",\"zerolinewidth\":2}}},\"xaxis\":{\"anchor\":\"y\",\"domain\":[0.0,1.0],\"title\":{\"text\":\"InvoiceDate\"}},\"yaxis\":{\"anchor\":\"x\",\"domain\":[0.0,1.0],\"title\":{\"text\":\"Revenue\"}},\"legend\":{\"tracegroupgap\":0},\"margin\":{\"t\":60}},                        {\"responsive\": true}                    ).then(function(){\n",
       "                            \n",
       "var gd = document.getElementById('2064a357-6dc7-4480-ae12-766a1d51e2f5');\n",
       "var x = new MutationObserver(function (mutations, observer) {{\n",
       "        var display = window.getComputedStyle(gd).display;\n",
       "        if (!display || display === 'none') {{\n",
       "            console.log([gd, 'removed!']);\n",
       "            Plotly.purge(gd);\n",
       "            observer.disconnect();\n",
       "        }}\n",
       "}});\n",
       "\n",
       "// Listen for the removal of the full notebook cells\n",
       "var notebookContainer = gd.closest('#notebook-container');\n",
       "if (notebookContainer) {{\n",
       "    x.observe(notebookContainer, {childList: true});\n",
       "}}\n",
       "\n",
       "// Listen for the clearing of the current output cell\n",
       "var outputEl = gd.closest('.output');\n",
       "if (outputEl) {{\n",
       "    x.observe(outputEl, {childList: true});\n",
       "}}\n",
       "\n",
       "                        })                };                });            </script>        </div>"
      ]
     },
     "metadata": {},
     "output_type": "display_data"
    }
   ],
   "source": [
    "px.line (france_5m_2011, x=\"InvoiceDate\", y=\"Revenue\", labels={ 'x': \"date\", 'y': \"Revenue\" })"
   ]
  },
  {
   "cell_type": "markdown",
   "metadata": {
    "id": "ha1KZGctNAtC"
   },
   "source": [
    "#### 3. Create an interactive scatter plot showing the relationship between average quantity (x-axis) and average unit price (y-axis) for the product PARTY BUNTING with the plot points color-coded by country (categories)."
   ]
  },
  {
   "cell_type": "code",
   "execution_count": 24,
   "metadata": {
    "id": "3-entwHwNAtD"
   },
   "outputs": [
    {
     "data": {
      "text/html": [
       "<div>\n",
       "<style scoped>\n",
       "    .dataframe tbody tr th:only-of-type {\n",
       "        vertical-align: middle;\n",
       "    }\n",
       "\n",
       "    .dataframe tbody tr th {\n",
       "        vertical-align: top;\n",
       "    }\n",
       "\n",
       "    .dataframe thead th {\n",
       "        text-align: right;\n",
       "    }\n",
       "</style>\n",
       "<table border=\"1\" class=\"dataframe\">\n",
       "  <thead>\n",
       "    <tr style=\"text-align: right;\">\n",
       "      <th></th>\n",
       "      <th>Country</th>\n",
       "      <th>Quantity</th>\n",
       "      <th>UnitPrice</th>\n",
       "    </tr>\n",
       "  </thead>\n",
       "  <tbody>\n",
       "    <tr>\n",
       "      <th>0</th>\n",
       "      <td>Australia</td>\n",
       "      <td>33.125000</td>\n",
       "      <td>4.712500</td>\n",
       "    </tr>\n",
       "    <tr>\n",
       "      <th>1</th>\n",
       "      <td>Austria</td>\n",
       "      <td>8.000000</td>\n",
       "      <td>4.950000</td>\n",
       "    </tr>\n",
       "    <tr>\n",
       "      <th>2</th>\n",
       "      <td>Belgium</td>\n",
       "      <td>4.000000</td>\n",
       "      <td>4.950000</td>\n",
       "    </tr>\n",
       "    <tr>\n",
       "      <th>3</th>\n",
       "      <td>Channel Islands</td>\n",
       "      <td>13.333333</td>\n",
       "      <td>4.950000</td>\n",
       "    </tr>\n",
       "    <tr>\n",
       "      <th>4</th>\n",
       "      <td>Cyprus</td>\n",
       "      <td>2.333333</td>\n",
       "      <td>4.750000</td>\n",
       "    </tr>\n",
       "    <tr>\n",
       "      <th>5</th>\n",
       "      <td>Denmark</td>\n",
       "      <td>12.000000</td>\n",
       "      <td>4.950000</td>\n",
       "    </tr>\n",
       "    <tr>\n",
       "      <th>6</th>\n",
       "      <td>EIRE</td>\n",
       "      <td>21.210526</td>\n",
       "      <td>4.739474</td>\n",
       "    </tr>\n",
       "    <tr>\n",
       "      <th>7</th>\n",
       "      <td>Finland</td>\n",
       "      <td>6.000000</td>\n",
       "      <td>4.950000</td>\n",
       "    </tr>\n",
       "    <tr>\n",
       "      <th>8</th>\n",
       "      <td>France</td>\n",
       "      <td>5.727273</td>\n",
       "      <td>4.922727</td>\n",
       "    </tr>\n",
       "    <tr>\n",
       "      <th>9</th>\n",
       "      <td>Germany</td>\n",
       "      <td>6.800000</td>\n",
       "      <td>4.890000</td>\n",
       "    </tr>\n",
       "    <tr>\n",
       "      <th>10</th>\n",
       "      <td>Israel</td>\n",
       "      <td>1.000000</td>\n",
       "      <td>4.950000</td>\n",
       "    </tr>\n",
       "    <tr>\n",
       "      <th>11</th>\n",
       "      <td>Japan</td>\n",
       "      <td>56.666667</td>\n",
       "      <td>4.183333</td>\n",
       "    </tr>\n",
       "    <tr>\n",
       "      <th>12</th>\n",
       "      <td>Lebanon</td>\n",
       "      <td>15.000000</td>\n",
       "      <td>4.650000</td>\n",
       "    </tr>\n",
       "    <tr>\n",
       "      <th>13</th>\n",
       "      <td>Netherlands</td>\n",
       "      <td>50.000000</td>\n",
       "      <td>4.150000</td>\n",
       "    </tr>\n",
       "    <tr>\n",
       "      <th>14</th>\n",
       "      <td>Norway</td>\n",
       "      <td>6.000000</td>\n",
       "      <td>4.950000</td>\n",
       "    </tr>\n",
       "    <tr>\n",
       "      <th>15</th>\n",
       "      <td>Singapore</td>\n",
       "      <td>8.000000</td>\n",
       "      <td>4.950000</td>\n",
       "    </tr>\n",
       "    <tr>\n",
       "      <th>16</th>\n",
       "      <td>South Africa</td>\n",
       "      <td>4.000000</td>\n",
       "      <td>4.950000</td>\n",
       "    </tr>\n",
       "    <tr>\n",
       "      <th>17</th>\n",
       "      <td>Spain</td>\n",
       "      <td>4.750000</td>\n",
       "      <td>4.837500</td>\n",
       "    </tr>\n",
       "    <tr>\n",
       "      <th>18</th>\n",
       "      <td>Switzerland</td>\n",
       "      <td>17.200000</td>\n",
       "      <td>4.790000</td>\n",
       "    </tr>\n",
       "    <tr>\n",
       "      <th>19</th>\n",
       "      <td>United Kingdom</td>\n",
       "      <td>10.705432</td>\n",
       "      <td>4.880926</td>\n",
       "    </tr>\n",
       "  </tbody>\n",
       "</table>\n",
       "</div>"
      ],
      "text/plain": [
       "            Country   Quantity  UnitPrice\n",
       "0         Australia  33.125000   4.712500\n",
       "1           Austria   8.000000   4.950000\n",
       "2           Belgium   4.000000   4.950000\n",
       "3   Channel Islands  13.333333   4.950000\n",
       "4            Cyprus   2.333333   4.750000\n",
       "5           Denmark  12.000000   4.950000\n",
       "6              EIRE  21.210526   4.739474\n",
       "7           Finland   6.000000   4.950000\n",
       "8            France   5.727273   4.922727\n",
       "9           Germany   6.800000   4.890000\n",
       "10           Israel   1.000000   4.950000\n",
       "11            Japan  56.666667   4.183333\n",
       "12          Lebanon  15.000000   4.650000\n",
       "13      Netherlands  50.000000   4.150000\n",
       "14           Norway   6.000000   4.950000\n",
       "15        Singapore   8.000000   4.950000\n",
       "16     South Africa   4.000000   4.950000\n",
       "17            Spain   4.750000   4.837500\n",
       "18      Switzerland  17.200000   4.790000\n",
       "19   United Kingdom  10.705432   4.880926"
      ]
     },
     "execution_count": 24,
     "metadata": {},
     "output_type": "execute_result"
    }
   ],
   "source": [
    "# Transform the data\n",
    "party_bunting = data[data.Description == 'PARTY BUNTING']\n",
    "pb_country_qty_up = party_bunting.groupby('Country', as_index=False)['Quantity','UnitPrice'].mean()\n",
    "pb_country_qty_up "
   ]
  },
  {
   "cell_type": "code",
   "execution_count": 25,
   "metadata": {
    "id": "mukk7sHrNAtE",
    "outputId": "67c00f86-892b-4bf3-e6d1-2fee23f6585d"
   },
   "outputs": [
    {
     "data": {
      "application/vnd.plotly.v1+json": {
       "config": {
        "linkText": "Export to plot.ly",
        "plotlyServerURL": "https://plot.ly",
        "showLink": false
       },
       "data": [
        {
         "hovertemplate": "Country=Australia<br>Quantity=%{x}<br>UnitPrice=%{y}<extra></extra>",
         "legendgroup": "Australia",
         "marker": {
          "color": "#636efa",
          "symbol": "circle"
         },
         "mode": "markers",
         "name": "Australia",
         "orientation": "v",
         "showlegend": true,
         "type": "scatter",
         "x": [
          33.125
         ],
         "xaxis": "x",
         "y": [
          4.7125
         ],
         "yaxis": "y"
        },
        {
         "hovertemplate": "Country=Austria<br>Quantity=%{x}<br>UnitPrice=%{y}<extra></extra>",
         "legendgroup": "Austria",
         "marker": {
          "color": "#EF553B",
          "symbol": "circle"
         },
         "mode": "markers",
         "name": "Austria",
         "orientation": "v",
         "showlegend": true,
         "type": "scatter",
         "x": [
          8
         ],
         "xaxis": "x",
         "y": [
          4.95
         ],
         "yaxis": "y"
        },
        {
         "hovertemplate": "Country=Belgium<br>Quantity=%{x}<br>UnitPrice=%{y}<extra></extra>",
         "legendgroup": "Belgium",
         "marker": {
          "color": "#00cc96",
          "symbol": "circle"
         },
         "mode": "markers",
         "name": "Belgium",
         "orientation": "v",
         "showlegend": true,
         "type": "scatter",
         "x": [
          4
         ],
         "xaxis": "x",
         "y": [
          4.95
         ],
         "yaxis": "y"
        },
        {
         "hovertemplate": "Country=Channel Islands<br>Quantity=%{x}<br>UnitPrice=%{y}<extra></extra>",
         "legendgroup": "Channel Islands",
         "marker": {
          "color": "#ab63fa",
          "symbol": "circle"
         },
         "mode": "markers",
         "name": "Channel Islands",
         "orientation": "v",
         "showlegend": true,
         "type": "scatter",
         "x": [
          13.333333333333334
         ],
         "xaxis": "x",
         "y": [
          4.95
         ],
         "yaxis": "y"
        },
        {
         "hovertemplate": "Country=Cyprus<br>Quantity=%{x}<br>UnitPrice=%{y}<extra></extra>",
         "legendgroup": "Cyprus",
         "marker": {
          "color": "#FFA15A",
          "symbol": "circle"
         },
         "mode": "markers",
         "name": "Cyprus",
         "orientation": "v",
         "showlegend": true,
         "type": "scatter",
         "x": [
          2.3333333333333335
         ],
         "xaxis": "x",
         "y": [
          4.75
         ],
         "yaxis": "y"
        },
        {
         "hovertemplate": "Country=Denmark<br>Quantity=%{x}<br>UnitPrice=%{y}<extra></extra>",
         "legendgroup": "Denmark",
         "marker": {
          "color": "#19d3f3",
          "symbol": "circle"
         },
         "mode": "markers",
         "name": "Denmark",
         "orientation": "v",
         "showlegend": true,
         "type": "scatter",
         "x": [
          12
         ],
         "xaxis": "x",
         "y": [
          4.95
         ],
         "yaxis": "y"
        },
        {
         "hovertemplate": "Country=EIRE<br>Quantity=%{x}<br>UnitPrice=%{y}<extra></extra>",
         "legendgroup": "EIRE",
         "marker": {
          "color": "#FF6692",
          "symbol": "circle"
         },
         "mode": "markers",
         "name": "EIRE",
         "orientation": "v",
         "showlegend": true,
         "type": "scatter",
         "x": [
          21.210526315789473
         ],
         "xaxis": "x",
         "y": [
          4.739473684210527
         ],
         "yaxis": "y"
        },
        {
         "hovertemplate": "Country=Finland<br>Quantity=%{x}<br>UnitPrice=%{y}<extra></extra>",
         "legendgroup": "Finland",
         "marker": {
          "color": "#B6E880",
          "symbol": "circle"
         },
         "mode": "markers",
         "name": "Finland",
         "orientation": "v",
         "showlegend": true,
         "type": "scatter",
         "x": [
          6
         ],
         "xaxis": "x",
         "y": [
          4.95
         ],
         "yaxis": "y"
        },
        {
         "hovertemplate": "Country=France<br>Quantity=%{x}<br>UnitPrice=%{y}<extra></extra>",
         "legendgroup": "France",
         "marker": {
          "color": "#FF97FF",
          "symbol": "circle"
         },
         "mode": "markers",
         "name": "France",
         "orientation": "v",
         "showlegend": true,
         "type": "scatter",
         "x": [
          5.7272727272727275
         ],
         "xaxis": "x",
         "y": [
          4.922727272727273
         ],
         "yaxis": "y"
        },
        {
         "hovertemplate": "Country=Germany<br>Quantity=%{x}<br>UnitPrice=%{y}<extra></extra>",
         "legendgroup": "Germany",
         "marker": {
          "color": "#FECB52",
          "symbol": "circle"
         },
         "mode": "markers",
         "name": "Germany",
         "orientation": "v",
         "showlegend": true,
         "type": "scatter",
         "x": [
          6.8
         ],
         "xaxis": "x",
         "y": [
          4.890000000000001
         ],
         "yaxis": "y"
        },
        {
         "hovertemplate": "Country=Israel<br>Quantity=%{x}<br>UnitPrice=%{y}<extra></extra>",
         "legendgroup": "Israel",
         "marker": {
          "color": "#636efa",
          "symbol": "circle"
         },
         "mode": "markers",
         "name": "Israel",
         "orientation": "v",
         "showlegend": true,
         "type": "scatter",
         "x": [
          1
         ],
         "xaxis": "x",
         "y": [
          4.95
         ],
         "yaxis": "y"
        },
        {
         "hovertemplate": "Country=Japan<br>Quantity=%{x}<br>UnitPrice=%{y}<extra></extra>",
         "legendgroup": "Japan",
         "marker": {
          "color": "#EF553B",
          "symbol": "circle"
         },
         "mode": "markers",
         "name": "Japan",
         "orientation": "v",
         "showlegend": true,
         "type": "scatter",
         "x": [
          56.666666666666664
         ],
         "xaxis": "x",
         "y": [
          4.183333333333334
         ],
         "yaxis": "y"
        },
        {
         "hovertemplate": "Country=Lebanon<br>Quantity=%{x}<br>UnitPrice=%{y}<extra></extra>",
         "legendgroup": "Lebanon",
         "marker": {
          "color": "#00cc96",
          "symbol": "circle"
         },
         "mode": "markers",
         "name": "Lebanon",
         "orientation": "v",
         "showlegend": true,
         "type": "scatter",
         "x": [
          15
         ],
         "xaxis": "x",
         "y": [
          4.65
         ],
         "yaxis": "y"
        },
        {
         "hovertemplate": "Country=Netherlands<br>Quantity=%{x}<br>UnitPrice=%{y}<extra></extra>",
         "legendgroup": "Netherlands",
         "marker": {
          "color": "#ab63fa",
          "symbol": "circle"
         },
         "mode": "markers",
         "name": "Netherlands",
         "orientation": "v",
         "showlegend": true,
         "type": "scatter",
         "x": [
          50
         ],
         "xaxis": "x",
         "y": [
          4.15
         ],
         "yaxis": "y"
        },
        {
         "hovertemplate": "Country=Norway<br>Quantity=%{x}<br>UnitPrice=%{y}<extra></extra>",
         "legendgroup": "Norway",
         "marker": {
          "color": "#FFA15A",
          "symbol": "circle"
         },
         "mode": "markers",
         "name": "Norway",
         "orientation": "v",
         "showlegend": true,
         "type": "scatter",
         "x": [
          6
         ],
         "xaxis": "x",
         "y": [
          4.95
         ],
         "yaxis": "y"
        },
        {
         "hovertemplate": "Country=Singapore<br>Quantity=%{x}<br>UnitPrice=%{y}<extra></extra>",
         "legendgroup": "Singapore",
         "marker": {
          "color": "#19d3f3",
          "symbol": "circle"
         },
         "mode": "markers",
         "name": "Singapore",
         "orientation": "v",
         "showlegend": true,
         "type": "scatter",
         "x": [
          8
         ],
         "xaxis": "x",
         "y": [
          4.95
         ],
         "yaxis": "y"
        },
        {
         "hovertemplate": "Country=South Africa<br>Quantity=%{x}<br>UnitPrice=%{y}<extra></extra>",
         "legendgroup": "South Africa",
         "marker": {
          "color": "#FF6692",
          "symbol": "circle"
         },
         "mode": "markers",
         "name": "South Africa",
         "orientation": "v",
         "showlegend": true,
         "type": "scatter",
         "x": [
          4
         ],
         "xaxis": "x",
         "y": [
          4.95
         ],
         "yaxis": "y"
        },
        {
         "hovertemplate": "Country=Spain<br>Quantity=%{x}<br>UnitPrice=%{y}<extra></extra>",
         "legendgroup": "Spain",
         "marker": {
          "color": "#B6E880",
          "symbol": "circle"
         },
         "mode": "markers",
         "name": "Spain",
         "orientation": "v",
         "showlegend": true,
         "type": "scatter",
         "x": [
          4.75
         ],
         "xaxis": "x",
         "y": [
          4.8375
         ],
         "yaxis": "y"
        },
        {
         "hovertemplate": "Country=Switzerland<br>Quantity=%{x}<br>UnitPrice=%{y}<extra></extra>",
         "legendgroup": "Switzerland",
         "marker": {
          "color": "#FF97FF",
          "symbol": "circle"
         },
         "mode": "markers",
         "name": "Switzerland",
         "orientation": "v",
         "showlegend": true,
         "type": "scatter",
         "x": [
          17.2
         ],
         "xaxis": "x",
         "y": [
          4.790000000000001
         ],
         "yaxis": "y"
        },
        {
         "hovertemplate": "Country=United Kingdom<br>Quantity=%{x}<br>UnitPrice=%{y}<extra></extra>",
         "legendgroup": "United Kingdom",
         "marker": {
          "color": "#FECB52",
          "symbol": "circle"
         },
         "mode": "markers",
         "name": "United Kingdom",
         "orientation": "v",
         "showlegend": true,
         "type": "scatter",
         "x": [
          10.705432287681713
         ],
         "xaxis": "x",
         "y": [
          4.880925784238714
         ],
         "yaxis": "y"
        }
       ],
       "layout": {
        "legend": {
         "title": {
          "text": "Country"
         },
         "tracegroupgap": 0
        },
        "margin": {
         "t": 60
        },
        "template": {
         "data": {
          "bar": [
           {
            "error_x": {
             "color": "#2a3f5f"
            },
            "error_y": {
             "color": "#2a3f5f"
            },
            "marker": {
             "line": {
              "color": "#E5ECF6",
              "width": 0.5
             },
             "pattern": {
              "fillmode": "overlay",
              "size": 10,
              "solidity": 0.2
             }
            },
            "type": "bar"
           }
          ],
          "barpolar": [
           {
            "marker": {
             "line": {
              "color": "#E5ECF6",
              "width": 0.5
             },
             "pattern": {
              "fillmode": "overlay",
              "size": 10,
              "solidity": 0.2
             }
            },
            "type": "barpolar"
           }
          ],
          "carpet": [
           {
            "aaxis": {
             "endlinecolor": "#2a3f5f",
             "gridcolor": "white",
             "linecolor": "white",
             "minorgridcolor": "white",
             "startlinecolor": "#2a3f5f"
            },
            "baxis": {
             "endlinecolor": "#2a3f5f",
             "gridcolor": "white",
             "linecolor": "white",
             "minorgridcolor": "white",
             "startlinecolor": "#2a3f5f"
            },
            "type": "carpet"
           }
          ],
          "choropleth": [
           {
            "colorbar": {
             "outlinewidth": 0,
             "ticks": ""
            },
            "type": "choropleth"
           }
          ],
          "contour": [
           {
            "colorbar": {
             "outlinewidth": 0,
             "ticks": ""
            },
            "colorscale": [
             [
              0,
              "#0d0887"
             ],
             [
              0.1111111111111111,
              "#46039f"
             ],
             [
              0.2222222222222222,
              "#7201a8"
             ],
             [
              0.3333333333333333,
              "#9c179e"
             ],
             [
              0.4444444444444444,
              "#bd3786"
             ],
             [
              0.5555555555555556,
              "#d8576b"
             ],
             [
              0.6666666666666666,
              "#ed7953"
             ],
             [
              0.7777777777777778,
              "#fb9f3a"
             ],
             [
              0.8888888888888888,
              "#fdca26"
             ],
             [
              1,
              "#f0f921"
             ]
            ],
            "type": "contour"
           }
          ],
          "contourcarpet": [
           {
            "colorbar": {
             "outlinewidth": 0,
             "ticks": ""
            },
            "type": "contourcarpet"
           }
          ],
          "heatmap": [
           {
            "colorbar": {
             "outlinewidth": 0,
             "ticks": ""
            },
            "colorscale": [
             [
              0,
              "#0d0887"
             ],
             [
              0.1111111111111111,
              "#46039f"
             ],
             [
              0.2222222222222222,
              "#7201a8"
             ],
             [
              0.3333333333333333,
              "#9c179e"
             ],
             [
              0.4444444444444444,
              "#bd3786"
             ],
             [
              0.5555555555555556,
              "#d8576b"
             ],
             [
              0.6666666666666666,
              "#ed7953"
             ],
             [
              0.7777777777777778,
              "#fb9f3a"
             ],
             [
              0.8888888888888888,
              "#fdca26"
             ],
             [
              1,
              "#f0f921"
             ]
            ],
            "type": "heatmap"
           }
          ],
          "heatmapgl": [
           {
            "colorbar": {
             "outlinewidth": 0,
             "ticks": ""
            },
            "colorscale": [
             [
              0,
              "#0d0887"
             ],
             [
              0.1111111111111111,
              "#46039f"
             ],
             [
              0.2222222222222222,
              "#7201a8"
             ],
             [
              0.3333333333333333,
              "#9c179e"
             ],
             [
              0.4444444444444444,
              "#bd3786"
             ],
             [
              0.5555555555555556,
              "#d8576b"
             ],
             [
              0.6666666666666666,
              "#ed7953"
             ],
             [
              0.7777777777777778,
              "#fb9f3a"
             ],
             [
              0.8888888888888888,
              "#fdca26"
             ],
             [
              1,
              "#f0f921"
             ]
            ],
            "type": "heatmapgl"
           }
          ],
          "histogram": [
           {
            "marker": {
             "pattern": {
              "fillmode": "overlay",
              "size": 10,
              "solidity": 0.2
             }
            },
            "type": "histogram"
           }
          ],
          "histogram2d": [
           {
            "colorbar": {
             "outlinewidth": 0,
             "ticks": ""
            },
            "colorscale": [
             [
              0,
              "#0d0887"
             ],
             [
              0.1111111111111111,
              "#46039f"
             ],
             [
              0.2222222222222222,
              "#7201a8"
             ],
             [
              0.3333333333333333,
              "#9c179e"
             ],
             [
              0.4444444444444444,
              "#bd3786"
             ],
             [
              0.5555555555555556,
              "#d8576b"
             ],
             [
              0.6666666666666666,
              "#ed7953"
             ],
             [
              0.7777777777777778,
              "#fb9f3a"
             ],
             [
              0.8888888888888888,
              "#fdca26"
             ],
             [
              1,
              "#f0f921"
             ]
            ],
            "type": "histogram2d"
           }
          ],
          "histogram2dcontour": [
           {
            "colorbar": {
             "outlinewidth": 0,
             "ticks": ""
            },
            "colorscale": [
             [
              0,
              "#0d0887"
             ],
             [
              0.1111111111111111,
              "#46039f"
             ],
             [
              0.2222222222222222,
              "#7201a8"
             ],
             [
              0.3333333333333333,
              "#9c179e"
             ],
             [
              0.4444444444444444,
              "#bd3786"
             ],
             [
              0.5555555555555556,
              "#d8576b"
             ],
             [
              0.6666666666666666,
              "#ed7953"
             ],
             [
              0.7777777777777778,
              "#fb9f3a"
             ],
             [
              0.8888888888888888,
              "#fdca26"
             ],
             [
              1,
              "#f0f921"
             ]
            ],
            "type": "histogram2dcontour"
           }
          ],
          "mesh3d": [
           {
            "colorbar": {
             "outlinewidth": 0,
             "ticks": ""
            },
            "type": "mesh3d"
           }
          ],
          "parcoords": [
           {
            "line": {
             "colorbar": {
              "outlinewidth": 0,
              "ticks": ""
             }
            },
            "type": "parcoords"
           }
          ],
          "pie": [
           {
            "automargin": true,
            "type": "pie"
           }
          ],
          "scatter": [
           {
            "marker": {
             "colorbar": {
              "outlinewidth": 0,
              "ticks": ""
             }
            },
            "type": "scatter"
           }
          ],
          "scatter3d": [
           {
            "line": {
             "colorbar": {
              "outlinewidth": 0,
              "ticks": ""
             }
            },
            "marker": {
             "colorbar": {
              "outlinewidth": 0,
              "ticks": ""
             }
            },
            "type": "scatter3d"
           }
          ],
          "scattercarpet": [
           {
            "marker": {
             "colorbar": {
              "outlinewidth": 0,
              "ticks": ""
             }
            },
            "type": "scattercarpet"
           }
          ],
          "scattergeo": [
           {
            "marker": {
             "colorbar": {
              "outlinewidth": 0,
              "ticks": ""
             }
            },
            "type": "scattergeo"
           }
          ],
          "scattergl": [
           {
            "marker": {
             "colorbar": {
              "outlinewidth": 0,
              "ticks": ""
             }
            },
            "type": "scattergl"
           }
          ],
          "scattermapbox": [
           {
            "marker": {
             "colorbar": {
              "outlinewidth": 0,
              "ticks": ""
             }
            },
            "type": "scattermapbox"
           }
          ],
          "scatterpolar": [
           {
            "marker": {
             "colorbar": {
              "outlinewidth": 0,
              "ticks": ""
             }
            },
            "type": "scatterpolar"
           }
          ],
          "scatterpolargl": [
           {
            "marker": {
             "colorbar": {
              "outlinewidth": 0,
              "ticks": ""
             }
            },
            "type": "scatterpolargl"
           }
          ],
          "scatterternary": [
           {
            "marker": {
             "colorbar": {
              "outlinewidth": 0,
              "ticks": ""
             }
            },
            "type": "scatterternary"
           }
          ],
          "surface": [
           {
            "colorbar": {
             "outlinewidth": 0,
             "ticks": ""
            },
            "colorscale": [
             [
              0,
              "#0d0887"
             ],
             [
              0.1111111111111111,
              "#46039f"
             ],
             [
              0.2222222222222222,
              "#7201a8"
             ],
             [
              0.3333333333333333,
              "#9c179e"
             ],
             [
              0.4444444444444444,
              "#bd3786"
             ],
             [
              0.5555555555555556,
              "#d8576b"
             ],
             [
              0.6666666666666666,
              "#ed7953"
             ],
             [
              0.7777777777777778,
              "#fb9f3a"
             ],
             [
              0.8888888888888888,
              "#fdca26"
             ],
             [
              1,
              "#f0f921"
             ]
            ],
            "type": "surface"
           }
          ],
          "table": [
           {
            "cells": {
             "fill": {
              "color": "#EBF0F8"
             },
             "line": {
              "color": "white"
             }
            },
            "header": {
             "fill": {
              "color": "#C8D4E3"
             },
             "line": {
              "color": "white"
             }
            },
            "type": "table"
           }
          ]
         },
         "layout": {
          "annotationdefaults": {
           "arrowcolor": "#2a3f5f",
           "arrowhead": 0,
           "arrowwidth": 1
          },
          "autotypenumbers": "strict",
          "coloraxis": {
           "colorbar": {
            "outlinewidth": 0,
            "ticks": ""
           }
          },
          "colorscale": {
           "diverging": [
            [
             0,
             "#8e0152"
            ],
            [
             0.1,
             "#c51b7d"
            ],
            [
             0.2,
             "#de77ae"
            ],
            [
             0.3,
             "#f1b6da"
            ],
            [
             0.4,
             "#fde0ef"
            ],
            [
             0.5,
             "#f7f7f7"
            ],
            [
             0.6,
             "#e6f5d0"
            ],
            [
             0.7,
             "#b8e186"
            ],
            [
             0.8,
             "#7fbc41"
            ],
            [
             0.9,
             "#4d9221"
            ],
            [
             1,
             "#276419"
            ]
           ],
           "sequential": [
            [
             0,
             "#0d0887"
            ],
            [
             0.1111111111111111,
             "#46039f"
            ],
            [
             0.2222222222222222,
             "#7201a8"
            ],
            [
             0.3333333333333333,
             "#9c179e"
            ],
            [
             0.4444444444444444,
             "#bd3786"
            ],
            [
             0.5555555555555556,
             "#d8576b"
            ],
            [
             0.6666666666666666,
             "#ed7953"
            ],
            [
             0.7777777777777778,
             "#fb9f3a"
            ],
            [
             0.8888888888888888,
             "#fdca26"
            ],
            [
             1,
             "#f0f921"
            ]
           ],
           "sequentialminus": [
            [
             0,
             "#0d0887"
            ],
            [
             0.1111111111111111,
             "#46039f"
            ],
            [
             0.2222222222222222,
             "#7201a8"
            ],
            [
             0.3333333333333333,
             "#9c179e"
            ],
            [
             0.4444444444444444,
             "#bd3786"
            ],
            [
             0.5555555555555556,
             "#d8576b"
            ],
            [
             0.6666666666666666,
             "#ed7953"
            ],
            [
             0.7777777777777778,
             "#fb9f3a"
            ],
            [
             0.8888888888888888,
             "#fdca26"
            ],
            [
             1,
             "#f0f921"
            ]
           ]
          },
          "colorway": [
           "#636efa",
           "#EF553B",
           "#00cc96",
           "#ab63fa",
           "#FFA15A",
           "#19d3f3",
           "#FF6692",
           "#B6E880",
           "#FF97FF",
           "#FECB52"
          ],
          "font": {
           "color": "#2a3f5f"
          },
          "geo": {
           "bgcolor": "white",
           "lakecolor": "white",
           "landcolor": "#E5ECF6",
           "showlakes": true,
           "showland": true,
           "subunitcolor": "white"
          },
          "hoverlabel": {
           "align": "left"
          },
          "hovermode": "closest",
          "mapbox": {
           "style": "light"
          },
          "paper_bgcolor": "white",
          "plot_bgcolor": "#E5ECF6",
          "polar": {
           "angularaxis": {
            "gridcolor": "white",
            "linecolor": "white",
            "ticks": ""
           },
           "bgcolor": "#E5ECF6",
           "radialaxis": {
            "gridcolor": "white",
            "linecolor": "white",
            "ticks": ""
           }
          },
          "scene": {
           "xaxis": {
            "backgroundcolor": "#E5ECF6",
            "gridcolor": "white",
            "gridwidth": 2,
            "linecolor": "white",
            "showbackground": true,
            "ticks": "",
            "zerolinecolor": "white"
           },
           "yaxis": {
            "backgroundcolor": "#E5ECF6",
            "gridcolor": "white",
            "gridwidth": 2,
            "linecolor": "white",
            "showbackground": true,
            "ticks": "",
            "zerolinecolor": "white"
           },
           "zaxis": {
            "backgroundcolor": "#E5ECF6",
            "gridcolor": "white",
            "gridwidth": 2,
            "linecolor": "white",
            "showbackground": true,
            "ticks": "",
            "zerolinecolor": "white"
           }
          },
          "shapedefaults": {
           "line": {
            "color": "#2a3f5f"
           }
          },
          "ternary": {
           "aaxis": {
            "gridcolor": "white",
            "linecolor": "white",
            "ticks": ""
           },
           "baxis": {
            "gridcolor": "white",
            "linecolor": "white",
            "ticks": ""
           },
           "bgcolor": "#E5ECF6",
           "caxis": {
            "gridcolor": "white",
            "linecolor": "white",
            "ticks": ""
           }
          },
          "title": {
           "x": 0.05
          },
          "xaxis": {
           "automargin": true,
           "gridcolor": "white",
           "linecolor": "white",
           "ticks": "",
           "title": {
            "standoff": 15
           },
           "zerolinecolor": "white",
           "zerolinewidth": 2
          },
          "yaxis": {
           "automargin": true,
           "gridcolor": "white",
           "linecolor": "white",
           "ticks": "",
           "title": {
            "standoff": 15
           },
           "zerolinecolor": "white",
           "zerolinewidth": 2
          }
         }
        },
        "xaxis": {
         "anchor": "y",
         "domain": [
          0,
          1
         ],
         "title": {
          "text": "Quantity"
         }
        },
        "yaxis": {
         "anchor": "x",
         "domain": [
          0,
          1
         ],
         "title": {
          "text": "UnitPrice"
         }
        }
       }
      },
      "text/html": [
       "<div>                            <div id=\"1521f99c-1321-4229-9b96-5721dccdc5c8\" class=\"plotly-graph-div\" style=\"height:525px; width:100%;\"></div>            <script type=\"text/javascript\">                require([\"plotly\"], function(Plotly) {                    window.PLOTLYENV=window.PLOTLYENV || {};                                    if (document.getElementById(\"1521f99c-1321-4229-9b96-5721dccdc5c8\")) {                    Plotly.newPlot(                        \"1521f99c-1321-4229-9b96-5721dccdc5c8\",                        [{\"hovertemplate\":\"Country=Australia<br>Quantity=%{x}<br>UnitPrice=%{y}<extra></extra>\",\"legendgroup\":\"Australia\",\"marker\":{\"color\":\"#636efa\",\"symbol\":\"circle\"},\"mode\":\"markers\",\"name\":\"Australia\",\"orientation\":\"v\",\"showlegend\":true,\"x\":[33.125],\"xaxis\":\"x\",\"y\":[4.7125],\"yaxis\":\"y\",\"type\":\"scatter\"},{\"hovertemplate\":\"Country=Austria<br>Quantity=%{x}<br>UnitPrice=%{y}<extra></extra>\",\"legendgroup\":\"Austria\",\"marker\":{\"color\":\"#EF553B\",\"symbol\":\"circle\"},\"mode\":\"markers\",\"name\":\"Austria\",\"orientation\":\"v\",\"showlegend\":true,\"x\":[8.0],\"xaxis\":\"x\",\"y\":[4.95],\"yaxis\":\"y\",\"type\":\"scatter\"},{\"hovertemplate\":\"Country=Belgium<br>Quantity=%{x}<br>UnitPrice=%{y}<extra></extra>\",\"legendgroup\":\"Belgium\",\"marker\":{\"color\":\"#00cc96\",\"symbol\":\"circle\"},\"mode\":\"markers\",\"name\":\"Belgium\",\"orientation\":\"v\",\"showlegend\":true,\"x\":[4.0],\"xaxis\":\"x\",\"y\":[4.95],\"yaxis\":\"y\",\"type\":\"scatter\"},{\"hovertemplate\":\"Country=Channel Islands<br>Quantity=%{x}<br>UnitPrice=%{y}<extra></extra>\",\"legendgroup\":\"Channel Islands\",\"marker\":{\"color\":\"#ab63fa\",\"symbol\":\"circle\"},\"mode\":\"markers\",\"name\":\"Channel Islands\",\"orientation\":\"v\",\"showlegend\":true,\"x\":[13.333333333333334],\"xaxis\":\"x\",\"y\":[4.95],\"yaxis\":\"y\",\"type\":\"scatter\"},{\"hovertemplate\":\"Country=Cyprus<br>Quantity=%{x}<br>UnitPrice=%{y}<extra></extra>\",\"legendgroup\":\"Cyprus\",\"marker\":{\"color\":\"#FFA15A\",\"symbol\":\"circle\"},\"mode\":\"markers\",\"name\":\"Cyprus\",\"orientation\":\"v\",\"showlegend\":true,\"x\":[2.3333333333333335],\"xaxis\":\"x\",\"y\":[4.75],\"yaxis\":\"y\",\"type\":\"scatter\"},{\"hovertemplate\":\"Country=Denmark<br>Quantity=%{x}<br>UnitPrice=%{y}<extra></extra>\",\"legendgroup\":\"Denmark\",\"marker\":{\"color\":\"#19d3f3\",\"symbol\":\"circle\"},\"mode\":\"markers\",\"name\":\"Denmark\",\"orientation\":\"v\",\"showlegend\":true,\"x\":[12.0],\"xaxis\":\"x\",\"y\":[4.95],\"yaxis\":\"y\",\"type\":\"scatter\"},{\"hovertemplate\":\"Country=EIRE<br>Quantity=%{x}<br>UnitPrice=%{y}<extra></extra>\",\"legendgroup\":\"EIRE\",\"marker\":{\"color\":\"#FF6692\",\"symbol\":\"circle\"},\"mode\":\"markers\",\"name\":\"EIRE\",\"orientation\":\"v\",\"showlegend\":true,\"x\":[21.210526315789473],\"xaxis\":\"x\",\"y\":[4.739473684210527],\"yaxis\":\"y\",\"type\":\"scatter\"},{\"hovertemplate\":\"Country=Finland<br>Quantity=%{x}<br>UnitPrice=%{y}<extra></extra>\",\"legendgroup\":\"Finland\",\"marker\":{\"color\":\"#B6E880\",\"symbol\":\"circle\"},\"mode\":\"markers\",\"name\":\"Finland\",\"orientation\":\"v\",\"showlegend\":true,\"x\":[6.0],\"xaxis\":\"x\",\"y\":[4.95],\"yaxis\":\"y\",\"type\":\"scatter\"},{\"hovertemplate\":\"Country=France<br>Quantity=%{x}<br>UnitPrice=%{y}<extra></extra>\",\"legendgroup\":\"France\",\"marker\":{\"color\":\"#FF97FF\",\"symbol\":\"circle\"},\"mode\":\"markers\",\"name\":\"France\",\"orientation\":\"v\",\"showlegend\":true,\"x\":[5.7272727272727275],\"xaxis\":\"x\",\"y\":[4.922727272727273],\"yaxis\":\"y\",\"type\":\"scatter\"},{\"hovertemplate\":\"Country=Germany<br>Quantity=%{x}<br>UnitPrice=%{y}<extra></extra>\",\"legendgroup\":\"Germany\",\"marker\":{\"color\":\"#FECB52\",\"symbol\":\"circle\"},\"mode\":\"markers\",\"name\":\"Germany\",\"orientation\":\"v\",\"showlegend\":true,\"x\":[6.8],\"xaxis\":\"x\",\"y\":[4.890000000000001],\"yaxis\":\"y\",\"type\":\"scatter\"},{\"hovertemplate\":\"Country=Israel<br>Quantity=%{x}<br>UnitPrice=%{y}<extra></extra>\",\"legendgroup\":\"Israel\",\"marker\":{\"color\":\"#636efa\",\"symbol\":\"circle\"},\"mode\":\"markers\",\"name\":\"Israel\",\"orientation\":\"v\",\"showlegend\":true,\"x\":[1.0],\"xaxis\":\"x\",\"y\":[4.95],\"yaxis\":\"y\",\"type\":\"scatter\"},{\"hovertemplate\":\"Country=Japan<br>Quantity=%{x}<br>UnitPrice=%{y}<extra></extra>\",\"legendgroup\":\"Japan\",\"marker\":{\"color\":\"#EF553B\",\"symbol\":\"circle\"},\"mode\":\"markers\",\"name\":\"Japan\",\"orientation\":\"v\",\"showlegend\":true,\"x\":[56.666666666666664],\"xaxis\":\"x\",\"y\":[4.183333333333334],\"yaxis\":\"y\",\"type\":\"scatter\"},{\"hovertemplate\":\"Country=Lebanon<br>Quantity=%{x}<br>UnitPrice=%{y}<extra></extra>\",\"legendgroup\":\"Lebanon\",\"marker\":{\"color\":\"#00cc96\",\"symbol\":\"circle\"},\"mode\":\"markers\",\"name\":\"Lebanon\",\"orientation\":\"v\",\"showlegend\":true,\"x\":[15.0],\"xaxis\":\"x\",\"y\":[4.65],\"yaxis\":\"y\",\"type\":\"scatter\"},{\"hovertemplate\":\"Country=Netherlands<br>Quantity=%{x}<br>UnitPrice=%{y}<extra></extra>\",\"legendgroup\":\"Netherlands\",\"marker\":{\"color\":\"#ab63fa\",\"symbol\":\"circle\"},\"mode\":\"markers\",\"name\":\"Netherlands\",\"orientation\":\"v\",\"showlegend\":true,\"x\":[50.0],\"xaxis\":\"x\",\"y\":[4.15],\"yaxis\":\"y\",\"type\":\"scatter\"},{\"hovertemplate\":\"Country=Norway<br>Quantity=%{x}<br>UnitPrice=%{y}<extra></extra>\",\"legendgroup\":\"Norway\",\"marker\":{\"color\":\"#FFA15A\",\"symbol\":\"circle\"},\"mode\":\"markers\",\"name\":\"Norway\",\"orientation\":\"v\",\"showlegend\":true,\"x\":[6.0],\"xaxis\":\"x\",\"y\":[4.95],\"yaxis\":\"y\",\"type\":\"scatter\"},{\"hovertemplate\":\"Country=Singapore<br>Quantity=%{x}<br>UnitPrice=%{y}<extra></extra>\",\"legendgroup\":\"Singapore\",\"marker\":{\"color\":\"#19d3f3\",\"symbol\":\"circle\"},\"mode\":\"markers\",\"name\":\"Singapore\",\"orientation\":\"v\",\"showlegend\":true,\"x\":[8.0],\"xaxis\":\"x\",\"y\":[4.95],\"yaxis\":\"y\",\"type\":\"scatter\"},{\"hovertemplate\":\"Country=South Africa<br>Quantity=%{x}<br>UnitPrice=%{y}<extra></extra>\",\"legendgroup\":\"South Africa\",\"marker\":{\"color\":\"#FF6692\",\"symbol\":\"circle\"},\"mode\":\"markers\",\"name\":\"South Africa\",\"orientation\":\"v\",\"showlegend\":true,\"x\":[4.0],\"xaxis\":\"x\",\"y\":[4.95],\"yaxis\":\"y\",\"type\":\"scatter\"},{\"hovertemplate\":\"Country=Spain<br>Quantity=%{x}<br>UnitPrice=%{y}<extra></extra>\",\"legendgroup\":\"Spain\",\"marker\":{\"color\":\"#B6E880\",\"symbol\":\"circle\"},\"mode\":\"markers\",\"name\":\"Spain\",\"orientation\":\"v\",\"showlegend\":true,\"x\":[4.75],\"xaxis\":\"x\",\"y\":[4.8375],\"yaxis\":\"y\",\"type\":\"scatter\"},{\"hovertemplate\":\"Country=Switzerland<br>Quantity=%{x}<br>UnitPrice=%{y}<extra></extra>\",\"legendgroup\":\"Switzerland\",\"marker\":{\"color\":\"#FF97FF\",\"symbol\":\"circle\"},\"mode\":\"markers\",\"name\":\"Switzerland\",\"orientation\":\"v\",\"showlegend\":true,\"x\":[17.2],\"xaxis\":\"x\",\"y\":[4.790000000000001],\"yaxis\":\"y\",\"type\":\"scatter\"},{\"hovertemplate\":\"Country=United Kingdom<br>Quantity=%{x}<br>UnitPrice=%{y}<extra></extra>\",\"legendgroup\":\"United Kingdom\",\"marker\":{\"color\":\"#FECB52\",\"symbol\":\"circle\"},\"mode\":\"markers\",\"name\":\"United Kingdom\",\"orientation\":\"v\",\"showlegend\":true,\"x\":[10.705432287681713],\"xaxis\":\"x\",\"y\":[4.880925784238714],\"yaxis\":\"y\",\"type\":\"scatter\"}],                        {\"legend\":{\"title\":{\"text\":\"Country\"},\"tracegroupgap\":0},\"margin\":{\"t\":60},\"template\":{\"data\":{\"barpolar\":[{\"marker\":{\"line\":{\"color\":\"#E5ECF6\",\"width\":0.5},\"pattern\":{\"fillmode\":\"overlay\",\"size\":10,\"solidity\":0.2}},\"type\":\"barpolar\"}],\"bar\":[{\"error_x\":{\"color\":\"#2a3f5f\"},\"error_y\":{\"color\":\"#2a3f5f\"},\"marker\":{\"line\":{\"color\":\"#E5ECF6\",\"width\":0.5},\"pattern\":{\"fillmode\":\"overlay\",\"size\":10,\"solidity\":0.2}},\"type\":\"bar\"}],\"carpet\":[{\"aaxis\":{\"endlinecolor\":\"#2a3f5f\",\"gridcolor\":\"white\",\"linecolor\":\"white\",\"minorgridcolor\":\"white\",\"startlinecolor\":\"#2a3f5f\"},\"baxis\":{\"endlinecolor\":\"#2a3f5f\",\"gridcolor\":\"white\",\"linecolor\":\"white\",\"minorgridcolor\":\"white\",\"startlinecolor\":\"#2a3f5f\"},\"type\":\"carpet\"}],\"choropleth\":[{\"colorbar\":{\"outlinewidth\":0,\"ticks\":\"\"},\"type\":\"choropleth\"}],\"contourcarpet\":[{\"colorbar\":{\"outlinewidth\":0,\"ticks\":\"\"},\"type\":\"contourcarpet\"}],\"contour\":[{\"colorbar\":{\"outlinewidth\":0,\"ticks\":\"\"},\"colorscale\":[[0.0,\"#0d0887\"],[0.1111111111111111,\"#46039f\"],[0.2222222222222222,\"#7201a8\"],[0.3333333333333333,\"#9c179e\"],[0.4444444444444444,\"#bd3786\"],[0.5555555555555556,\"#d8576b\"],[0.6666666666666666,\"#ed7953\"],[0.7777777777777778,\"#fb9f3a\"],[0.8888888888888888,\"#fdca26\"],[1.0,\"#f0f921\"]],\"type\":\"contour\"}],\"heatmapgl\":[{\"colorbar\":{\"outlinewidth\":0,\"ticks\":\"\"},\"colorscale\":[[0.0,\"#0d0887\"],[0.1111111111111111,\"#46039f\"],[0.2222222222222222,\"#7201a8\"],[0.3333333333333333,\"#9c179e\"],[0.4444444444444444,\"#bd3786\"],[0.5555555555555556,\"#d8576b\"],[0.6666666666666666,\"#ed7953\"],[0.7777777777777778,\"#fb9f3a\"],[0.8888888888888888,\"#fdca26\"],[1.0,\"#f0f921\"]],\"type\":\"heatmapgl\"}],\"heatmap\":[{\"colorbar\":{\"outlinewidth\":0,\"ticks\":\"\"},\"colorscale\":[[0.0,\"#0d0887\"],[0.1111111111111111,\"#46039f\"],[0.2222222222222222,\"#7201a8\"],[0.3333333333333333,\"#9c179e\"],[0.4444444444444444,\"#bd3786\"],[0.5555555555555556,\"#d8576b\"],[0.6666666666666666,\"#ed7953\"],[0.7777777777777778,\"#fb9f3a\"],[0.8888888888888888,\"#fdca26\"],[1.0,\"#f0f921\"]],\"type\":\"heatmap\"}],\"histogram2dcontour\":[{\"colorbar\":{\"outlinewidth\":0,\"ticks\":\"\"},\"colorscale\":[[0.0,\"#0d0887\"],[0.1111111111111111,\"#46039f\"],[0.2222222222222222,\"#7201a8\"],[0.3333333333333333,\"#9c179e\"],[0.4444444444444444,\"#bd3786\"],[0.5555555555555556,\"#d8576b\"],[0.6666666666666666,\"#ed7953\"],[0.7777777777777778,\"#fb9f3a\"],[0.8888888888888888,\"#fdca26\"],[1.0,\"#f0f921\"]],\"type\":\"histogram2dcontour\"}],\"histogram2d\":[{\"colorbar\":{\"outlinewidth\":0,\"ticks\":\"\"},\"colorscale\":[[0.0,\"#0d0887\"],[0.1111111111111111,\"#46039f\"],[0.2222222222222222,\"#7201a8\"],[0.3333333333333333,\"#9c179e\"],[0.4444444444444444,\"#bd3786\"],[0.5555555555555556,\"#d8576b\"],[0.6666666666666666,\"#ed7953\"],[0.7777777777777778,\"#fb9f3a\"],[0.8888888888888888,\"#fdca26\"],[1.0,\"#f0f921\"]],\"type\":\"histogram2d\"}],\"histogram\":[{\"marker\":{\"pattern\":{\"fillmode\":\"overlay\",\"size\":10,\"solidity\":0.2}},\"type\":\"histogram\"}],\"mesh3d\":[{\"colorbar\":{\"outlinewidth\":0,\"ticks\":\"\"},\"type\":\"mesh3d\"}],\"parcoords\":[{\"line\":{\"colorbar\":{\"outlinewidth\":0,\"ticks\":\"\"}},\"type\":\"parcoords\"}],\"pie\":[{\"automargin\":true,\"type\":\"pie\"}],\"scatter3d\":[{\"line\":{\"colorbar\":{\"outlinewidth\":0,\"ticks\":\"\"}},\"marker\":{\"colorbar\":{\"outlinewidth\":0,\"ticks\":\"\"}},\"type\":\"scatter3d\"}],\"scattercarpet\":[{\"marker\":{\"colorbar\":{\"outlinewidth\":0,\"ticks\":\"\"}},\"type\":\"scattercarpet\"}],\"scattergeo\":[{\"marker\":{\"colorbar\":{\"outlinewidth\":0,\"ticks\":\"\"}},\"type\":\"scattergeo\"}],\"scattergl\":[{\"marker\":{\"colorbar\":{\"outlinewidth\":0,\"ticks\":\"\"}},\"type\":\"scattergl\"}],\"scattermapbox\":[{\"marker\":{\"colorbar\":{\"outlinewidth\":0,\"ticks\":\"\"}},\"type\":\"scattermapbox\"}],\"scatterpolargl\":[{\"marker\":{\"colorbar\":{\"outlinewidth\":0,\"ticks\":\"\"}},\"type\":\"scatterpolargl\"}],\"scatterpolar\":[{\"marker\":{\"colorbar\":{\"outlinewidth\":0,\"ticks\":\"\"}},\"type\":\"scatterpolar\"}],\"scatter\":[{\"marker\":{\"colorbar\":{\"outlinewidth\":0,\"ticks\":\"\"}},\"type\":\"scatter\"}],\"scatterternary\":[{\"marker\":{\"colorbar\":{\"outlinewidth\":0,\"ticks\":\"\"}},\"type\":\"scatterternary\"}],\"surface\":[{\"colorbar\":{\"outlinewidth\":0,\"ticks\":\"\"},\"colorscale\":[[0.0,\"#0d0887\"],[0.1111111111111111,\"#46039f\"],[0.2222222222222222,\"#7201a8\"],[0.3333333333333333,\"#9c179e\"],[0.4444444444444444,\"#bd3786\"],[0.5555555555555556,\"#d8576b\"],[0.6666666666666666,\"#ed7953\"],[0.7777777777777778,\"#fb9f3a\"],[0.8888888888888888,\"#fdca26\"],[1.0,\"#f0f921\"]],\"type\":\"surface\"}],\"table\":[{\"cells\":{\"fill\":{\"color\":\"#EBF0F8\"},\"line\":{\"color\":\"white\"}},\"header\":{\"fill\":{\"color\":\"#C8D4E3\"},\"line\":{\"color\":\"white\"}},\"type\":\"table\"}]},\"layout\":{\"annotationdefaults\":{\"arrowcolor\":\"#2a3f5f\",\"arrowhead\":0,\"arrowwidth\":1},\"autotypenumbers\":\"strict\",\"coloraxis\":{\"colorbar\":{\"outlinewidth\":0,\"ticks\":\"\"}},\"colorscale\":{\"diverging\":[[0,\"#8e0152\"],[0.1,\"#c51b7d\"],[0.2,\"#de77ae\"],[0.3,\"#f1b6da\"],[0.4,\"#fde0ef\"],[0.5,\"#f7f7f7\"],[0.6,\"#e6f5d0\"],[0.7,\"#b8e186\"],[0.8,\"#7fbc41\"],[0.9,\"#4d9221\"],[1,\"#276419\"]],\"sequential\":[[0.0,\"#0d0887\"],[0.1111111111111111,\"#46039f\"],[0.2222222222222222,\"#7201a8\"],[0.3333333333333333,\"#9c179e\"],[0.4444444444444444,\"#bd3786\"],[0.5555555555555556,\"#d8576b\"],[0.6666666666666666,\"#ed7953\"],[0.7777777777777778,\"#fb9f3a\"],[0.8888888888888888,\"#fdca26\"],[1.0,\"#f0f921\"]],\"sequentialminus\":[[0.0,\"#0d0887\"],[0.1111111111111111,\"#46039f\"],[0.2222222222222222,\"#7201a8\"],[0.3333333333333333,\"#9c179e\"],[0.4444444444444444,\"#bd3786\"],[0.5555555555555556,\"#d8576b\"],[0.6666666666666666,\"#ed7953\"],[0.7777777777777778,\"#fb9f3a\"],[0.8888888888888888,\"#fdca26\"],[1.0,\"#f0f921\"]]},\"colorway\":[\"#636efa\",\"#EF553B\",\"#00cc96\",\"#ab63fa\",\"#FFA15A\",\"#19d3f3\",\"#FF6692\",\"#B6E880\",\"#FF97FF\",\"#FECB52\"],\"font\":{\"color\":\"#2a3f5f\"},\"geo\":{\"bgcolor\":\"white\",\"lakecolor\":\"white\",\"landcolor\":\"#E5ECF6\",\"showlakes\":true,\"showland\":true,\"subunitcolor\":\"white\"},\"hoverlabel\":{\"align\":\"left\"},\"hovermode\":\"closest\",\"mapbox\":{\"style\":\"light\"},\"paper_bgcolor\":\"white\",\"plot_bgcolor\":\"#E5ECF6\",\"polar\":{\"angularaxis\":{\"gridcolor\":\"white\",\"linecolor\":\"white\",\"ticks\":\"\"},\"bgcolor\":\"#E5ECF6\",\"radialaxis\":{\"gridcolor\":\"white\",\"linecolor\":\"white\",\"ticks\":\"\"}},\"scene\":{\"xaxis\":{\"backgroundcolor\":\"#E5ECF6\",\"gridcolor\":\"white\",\"gridwidth\":2,\"linecolor\":\"white\",\"showbackground\":true,\"ticks\":\"\",\"zerolinecolor\":\"white\"},\"yaxis\":{\"backgroundcolor\":\"#E5ECF6\",\"gridcolor\":\"white\",\"gridwidth\":2,\"linecolor\":\"white\",\"showbackground\":true,\"ticks\":\"\",\"zerolinecolor\":\"white\"},\"zaxis\":{\"backgroundcolor\":\"#E5ECF6\",\"gridcolor\":\"white\",\"gridwidth\":2,\"linecolor\":\"white\",\"showbackground\":true,\"ticks\":\"\",\"zerolinecolor\":\"white\"}},\"shapedefaults\":{\"line\":{\"color\":\"#2a3f5f\"}},\"ternary\":{\"aaxis\":{\"gridcolor\":\"white\",\"linecolor\":\"white\",\"ticks\":\"\"},\"baxis\":{\"gridcolor\":\"white\",\"linecolor\":\"white\",\"ticks\":\"\"},\"bgcolor\":\"#E5ECF6\",\"caxis\":{\"gridcolor\":\"white\",\"linecolor\":\"white\",\"ticks\":\"\"}},\"title\":{\"x\":0.05},\"xaxis\":{\"automargin\":true,\"gridcolor\":\"white\",\"linecolor\":\"white\",\"ticks\":\"\",\"title\":{\"standoff\":15},\"zerolinecolor\":\"white\",\"zerolinewidth\":2},\"yaxis\":{\"automargin\":true,\"gridcolor\":\"white\",\"linecolor\":\"white\",\"ticks\":\"\",\"title\":{\"standoff\":15},\"zerolinecolor\":\"white\",\"zerolinewidth\":2}}},\"xaxis\":{\"anchor\":\"y\",\"domain\":[0.0,1.0],\"title\":{\"text\":\"Quantity\"}},\"yaxis\":{\"anchor\":\"x\",\"domain\":[0.0,1.0],\"title\":{\"text\":\"UnitPrice\"}}},                        {\"responsive\": true}                    ).then(function(){\n",
       "                            \n",
       "var gd = document.getElementById('1521f99c-1321-4229-9b96-5721dccdc5c8');\n",
       "var x = new MutationObserver(function (mutations, observer) {{\n",
       "        var display = window.getComputedStyle(gd).display;\n",
       "        if (!display || display === 'none') {{\n",
       "            console.log([gd, 'removed!']);\n",
       "            Plotly.purge(gd);\n",
       "            observer.disconnect();\n",
       "        }}\n",
       "}});\n",
       "\n",
       "// Listen for the removal of the full notebook cells\n",
       "var notebookContainer = gd.closest('#notebook-container');\n",
       "if (notebookContainer) {{\n",
       "    x.observe(notebookContainer, {childList: true});\n",
       "}}\n",
       "\n",
       "// Listen for the clearing of the current output cell\n",
       "var outputEl = gd.closest('.output');\n",
       "if (outputEl) {{\n",
       "    x.observe(outputEl, {childList: true});\n",
       "}}\n",
       "\n",
       "                        })                };                });            </script>        </div>"
      ]
     },
     "metadata": {},
     "output_type": "display_data"
    }
   ],
   "source": [
    "# Traces\n",
    "traces = px.scatter(pb_country_qty_up, x='Quantity',y='UnitPrice', color='Country')\n",
    "\n",
    "# Layout \n",
    "layout = go.Layout(width=700, height=600,\n",
    "                   xaxis=go.layout.XAxis(title=go.layout.xaxis.Title(text='Average Quantity')),\n",
    "                   yaxis=go.layout.YAxis(title=go.layout.yaxis.Title(text='Average Unit Price')),\n",
    "                   title=go.layout.Title(text='Average Quantity VS Average Unit Price'));\n",
    "# Plot\n",
    "py.iplot(go.Figure(data=traces, layout=layout));"
   ]
  },
  {
   "cell_type": "markdown",
   "metadata": {
    "id": "pwjBscbdNAtE"
   },
   "source": [
    "#### 4. Create a set of interactive histograms showing the distributions of quantity per invoice for the following countries: EIRE, Germany, France, and Netherlands."
   ]
  },
  {
   "cell_type": "code",
   "execution_count": 31,
   "metadata": {
    "id": "iWxIEp-_NAtF"
   },
   "outputs": [
    {
     "data": {
      "text/html": [
       "<div>\n",
       "<style scoped>\n",
       "    .dataframe tbody tr th:only-of-type {\n",
       "        vertical-align: middle;\n",
       "    }\n",
       "\n",
       "    .dataframe tbody tr th {\n",
       "        vertical-align: top;\n",
       "    }\n",
       "\n",
       "    .dataframe thead th {\n",
       "        text-align: right;\n",
       "    }\n",
       "</style>\n",
       "<table border=\"1\" class=\"dataframe\">\n",
       "  <thead>\n",
       "    <tr style=\"text-align: right;\">\n",
       "      <th></th>\n",
       "      <th>InvoiceNo</th>\n",
       "      <th>Country</th>\n",
       "      <th>Quantity</th>\n",
       "    </tr>\n",
       "  </thead>\n",
       "  <tbody>\n",
       "    <tr>\n",
       "      <th>0</th>\n",
       "      <td>536370</td>\n",
       "      <td>France</td>\n",
       "      <td>23.473684</td>\n",
       "    </tr>\n",
       "    <tr>\n",
       "      <th>1</th>\n",
       "      <td>536403</td>\n",
       "      <td>Netherlands</td>\n",
       "      <td>96.000000</td>\n",
       "    </tr>\n",
       "    <tr>\n",
       "      <th>2</th>\n",
       "      <td>536527</td>\n",
       "      <td>Germany</td>\n",
       "      <td>11.142857</td>\n",
       "    </tr>\n",
       "    <tr>\n",
       "      <th>3</th>\n",
       "      <td>536540</td>\n",
       "      <td>EIRE</td>\n",
       "      <td>12.105263</td>\n",
       "    </tr>\n",
       "    <tr>\n",
       "      <th>4</th>\n",
       "      <td>536541</td>\n",
       "      <td>EIRE</td>\n",
       "      <td>12.000000</td>\n",
       "    </tr>\n",
       "    <tr>\n",
       "      <th>...</th>\n",
       "      <td>...</td>\n",
       "      <td>...</td>\n",
       "      <td>...</td>\n",
       "    </tr>\n",
       "    <tr>\n",
       "      <th>1166</th>\n",
       "      <td>581494</td>\n",
       "      <td>Germany</td>\n",
       "      <td>10.941176</td>\n",
       "    </tr>\n",
       "    <tr>\n",
       "      <th>1167</th>\n",
       "      <td>581570</td>\n",
       "      <td>Germany</td>\n",
       "      <td>7.916667</td>\n",
       "    </tr>\n",
       "    <tr>\n",
       "      <th>1168</th>\n",
       "      <td>581574</td>\n",
       "      <td>Germany</td>\n",
       "      <td>7.166667</td>\n",
       "    </tr>\n",
       "    <tr>\n",
       "      <th>1169</th>\n",
       "      <td>581578</td>\n",
       "      <td>Germany</td>\n",
       "      <td>13.648649</td>\n",
       "    </tr>\n",
       "    <tr>\n",
       "      <th>1170</th>\n",
       "      <td>581587</td>\n",
       "      <td>France</td>\n",
       "      <td>7.000000</td>\n",
       "    </tr>\n",
       "  </tbody>\n",
       "</table>\n",
       "<p>1171 rows × 3 columns</p>\n",
       "</div>"
      ],
      "text/plain": [
       "      InvoiceNo      Country   Quantity\n",
       "0        536370       France  23.473684\n",
       "1        536403  Netherlands  96.000000\n",
       "2        536527      Germany  11.142857\n",
       "3        536540         EIRE  12.105263\n",
       "4        536541         EIRE  12.000000\n",
       "...         ...          ...        ...\n",
       "1166     581494      Germany  10.941176\n",
       "1167     581570      Germany   7.916667\n",
       "1168     581574      Germany   7.166667\n",
       "1169     581578      Germany  13.648649\n",
       "1170     581587       France   7.000000\n",
       "\n",
       "[1171 rows x 3 columns]"
      ]
     },
     "execution_count": 31,
     "metadata": {},
     "output_type": "execute_result"
    }
   ],
   "source": [
    "# Transform the data\n",
    "countries = data[((data['Country'] =='EIRE') |(data['Country'] =='Germany') | (data['Country'] =='France')| (data['Country']=='Netherlands'))]\n",
    "qty_invc =  countries.groupby(['InvoiceNo','Country'], as_index=False) ['Quantity'].mean()\n",
    "qty_invc"
   ]
  },
  {
   "cell_type": "code",
   "execution_count": 43,
   "metadata": {
    "id": "NgfadjIRNAtF",
    "outputId": "82ccf2a8-9932-4d02-90aa-1b6722a15a41"
   },
   "outputs": [
    {
     "data": {
      "application/vnd.plotly.v1+json": {
       "config": {
        "linkText": "Export to plot.ly",
        "plotlyServerURL": "https://plot.ly",
        "showLink": false
       },
       "data": [
        {
         "alignmentgroup": "True",
         "bingroup": "x",
         "hovertemplate": "Country=%{x}<br>count=%{y}<extra></extra>",
         "legendgroup": "",
         "marker": {
          "color": "#636efa",
          "pattern": {
           "shape": ""
          }
         },
         "name": "",
         "offsetgroup": "",
         "orientation": "v",
         "showlegend": false,
         "type": "histogram",
         "x": [
          "France",
          "Netherlands",
          "Germany",
          "EIRE",
          "EIRE",
          "EIRE",
          "Germany",
          "France",
          "Germany",
          "EIRE",
          "Germany",
          "France",
          "EIRE",
          "Germany",
          "France",
          "Germany",
          "Germany",
          "Germany",
          "Germany",
          "Germany",
          "EIRE",
          "EIRE",
          "EIRE",
          "France",
          "France",
          "Germany",
          "Germany",
          "France",
          "Germany",
          "Germany",
          "France",
          "France",
          "Germany",
          "France",
          "EIRE",
          "France",
          "Germany",
          "France",
          "EIRE",
          "Germany",
          "France",
          "France",
          "EIRE",
          "Germany",
          "Germany",
          "Germany",
          "Germany",
          "Germany",
          "Germany",
          "France",
          "Germany",
          "EIRE",
          "France",
          "Germany",
          "Germany",
          "EIRE",
          "Netherlands",
          "France",
          "France",
          "Germany",
          "EIRE",
          "France",
          "Netherlands",
          "France",
          "Germany",
          "Germany",
          "EIRE",
          "France",
          "France",
          "France",
          "France",
          "Germany",
          "Germany",
          "France",
          "Germany",
          "France",
          "Germany",
          "France",
          "EIRE",
          "Germany",
          "Germany",
          "France",
          "France",
          "Germany",
          "France",
          "France",
          "France",
          "France",
          "Germany",
          "France",
          "France",
          "Germany",
          "France",
          "France",
          "Germany",
          "Germany",
          "France",
          "Netherlands",
          "EIRE",
          "Germany",
          "Germany",
          "Germany",
          "France",
          "EIRE",
          "Germany",
          "Germany",
          "France",
          "Netherlands",
          "Netherlands",
          "France",
          "EIRE",
          "Netherlands",
          "France",
          "Germany",
          "Germany",
          "Germany",
          "EIRE",
          "France",
          "Germany",
          "Germany",
          "Germany",
          "Germany",
          "EIRE",
          "Germany",
          "EIRE",
          "Germany",
          "Germany",
          "Germany",
          "France",
          "France",
          "France",
          "Germany",
          "Germany",
          "France",
          "Germany",
          "Germany",
          "Netherlands",
          "France",
          "EIRE",
          "Germany",
          "Netherlands",
          "France",
          "France",
          "Germany",
          "France",
          "Germany",
          "Germany",
          "EIRE",
          "Germany",
          "EIRE",
          "France",
          "Netherlands",
          "France",
          "France",
          "Germany",
          "Germany",
          "Germany",
          "France",
          "Germany",
          "EIRE",
          "Germany",
          "Germany",
          "France",
          "EIRE",
          "EIRE",
          "France",
          "France",
          "EIRE",
          "Germany",
          "Germany",
          "Germany",
          "France",
          "EIRE",
          "France",
          "France",
          "Netherlands",
          "Netherlands",
          "Germany",
          "Germany",
          "France",
          "Netherlands",
          "EIRE",
          "Germany",
          "France",
          "France",
          "Germany",
          "Germany",
          "France",
          "France",
          "France",
          "France",
          "France",
          "France",
          "Germany",
          "France",
          "EIRE",
          "France",
          "France",
          "Germany",
          "Germany",
          "France",
          "EIRE",
          "EIRE",
          "Germany",
          "Germany",
          "Germany",
          "Germany",
          "Germany",
          "Germany",
          "Netherlands",
          "EIRE",
          "EIRE",
          "EIRE",
          "EIRE",
          "Germany",
          "France",
          "France",
          "Netherlands",
          "France",
          "EIRE",
          "EIRE",
          "EIRE",
          "EIRE",
          "EIRE",
          "EIRE",
          "France",
          "Germany",
          "France",
          "France",
          "Germany",
          "Germany",
          "EIRE",
          "EIRE",
          "Germany",
          "Germany",
          "Germany",
          "Germany",
          "Germany",
          "EIRE",
          "Germany",
          "Germany",
          "France",
          "France",
          "France",
          "France",
          "Netherlands",
          "Germany",
          "Germany",
          "France",
          "France",
          "France",
          "France",
          "EIRE",
          "Germany",
          "France",
          "EIRE",
          "Netherlands",
          "Germany",
          "Germany",
          "Netherlands",
          "France",
          "EIRE",
          "France",
          "Germany",
          "Germany",
          "Germany",
          "Netherlands",
          "Netherlands",
          "Netherlands",
          "Germany",
          "France",
          "France",
          "Germany",
          "EIRE",
          "Germany",
          "France",
          "France",
          "France",
          "Germany",
          "EIRE",
          "EIRE",
          "France",
          "Germany",
          "Germany",
          "EIRE",
          "Netherlands",
          "Netherlands",
          "EIRE",
          "Germany",
          "EIRE",
          "EIRE",
          "France",
          "Germany",
          "Germany",
          "Germany",
          "EIRE",
          "Germany",
          "EIRE",
          "Germany",
          "Germany",
          "Germany",
          "France",
          "Germany",
          "Germany",
          "Germany",
          "EIRE",
          "France",
          "France",
          "Germany",
          "EIRE",
          "Germany",
          "Germany",
          "France",
          "Germany",
          "France",
          "France",
          "Germany",
          "Germany",
          "France",
          "EIRE",
          "Germany",
          "Netherlands",
          "France",
          "Germany",
          "Germany",
          "France",
          "France",
          "France",
          "France",
          "France",
          "EIRE",
          "EIRE",
          "Germany",
          "Germany",
          "Germany",
          "Germany",
          "Germany",
          "France",
          "EIRE",
          "Germany",
          "EIRE",
          "Germany",
          "EIRE",
          "France",
          "France",
          "Germany",
          "France",
          "France",
          "Germany",
          "Germany",
          "France",
          "Germany",
          "Netherlands",
          "Netherlands",
          "France",
          "Germany",
          "Germany",
          "Germany",
          "Germany",
          "Netherlands",
          "Netherlands",
          "Netherlands",
          "France",
          "Germany",
          "Germany",
          "Germany",
          "France",
          "France",
          "France",
          "France",
          "EIRE",
          "EIRE",
          "France",
          "EIRE",
          "France",
          "EIRE",
          "EIRE",
          "France",
          "Germany",
          "France",
          "France",
          "France",
          "Netherlands",
          "EIRE",
          "Germany",
          "Germany",
          "Germany",
          "France",
          "Germany",
          "France",
          "Germany",
          "Germany",
          "EIRE",
          "EIRE",
          "EIRE",
          "France",
          "Netherlands",
          "France",
          "Germany",
          "Germany",
          "France",
          "France",
          "Germany",
          "EIRE",
          "Germany",
          "Germany",
          "Germany",
          "France",
          "Germany",
          "France",
          "Netherlands",
          "France",
          "France",
          "Germany",
          "Germany",
          "Germany",
          "Germany",
          "EIRE",
          "EIRE",
          "EIRE",
          "Germany",
          "France",
          "Netherlands",
          "France",
          "Germany",
          "France",
          "Germany",
          "Netherlands",
          "Germany",
          "France",
          "Netherlands",
          "Netherlands",
          "Germany",
          "Netherlands",
          "Germany",
          "Germany",
          "Netherlands",
          "Germany",
          "Germany",
          "France",
          "France",
          "Germany",
          "France",
          "Netherlands",
          "France",
          "EIRE",
          "Germany",
          "EIRE",
          "France",
          "France",
          "France",
          "France",
          "EIRE",
          "EIRE",
          "Germany",
          "Germany",
          "EIRE",
          "EIRE",
          "Netherlands",
          "France",
          "France",
          "France",
          "Germany",
          "France",
          "Germany",
          "France",
          "Germany",
          "EIRE",
          "Germany",
          "France",
          "France",
          "Germany",
          "France",
          "France",
          "France",
          "France",
          "EIRE",
          "EIRE",
          "EIRE",
          "Germany",
          "Germany",
          "France",
          "EIRE",
          "France",
          "Netherlands",
          "France",
          "EIRE",
          "Netherlands",
          "Germany",
          "France",
          "France",
          "Netherlands",
          "Germany",
          "EIRE",
          "France",
          "France",
          "France",
          "EIRE",
          "EIRE",
          "Germany",
          "EIRE",
          "EIRE",
          "Germany",
          "France",
          "EIRE",
          "EIRE",
          "Germany",
          "EIRE",
          "EIRE",
          "France",
          "Netherlands",
          "Netherlands",
          "Netherlands",
          "France",
          "EIRE",
          "EIRE",
          "Germany",
          "EIRE",
          "Germany",
          "Germany",
          "EIRE",
          "EIRE",
          "EIRE",
          "France",
          "France",
          "Germany",
          "France",
          "Germany",
          "EIRE",
          "France",
          "France",
          "Germany",
          "Germany",
          "Germany",
          "Germany",
          "France",
          "Germany",
          "France",
          "France",
          "France",
          "France",
          "France",
          "France",
          "Germany",
          "France",
          "Germany",
          "Germany",
          "France",
          "France",
          "Germany",
          "Germany",
          "EIRE",
          "Germany",
          "EIRE",
          "Germany",
          "Germany",
          "Germany",
          "France",
          "EIRE",
          "France",
          "France",
          "EIRE",
          "EIRE",
          "EIRE",
          "France",
          "EIRE",
          "Germany",
          "Germany",
          "Germany",
          "Germany",
          "Germany",
          "Germany",
          "Netherlands",
          "Germany",
          "Germany",
          "EIRE",
          "Germany",
          "EIRE",
          "EIRE",
          "Germany",
          "France",
          "Germany",
          "Germany",
          "Germany",
          "EIRE",
          "Germany",
          "France",
          "EIRE",
          "EIRE",
          "Germany",
          "EIRE",
          "EIRE",
          "France",
          "EIRE",
          "EIRE",
          "EIRE",
          "Germany",
          "Germany",
          "Germany",
          "France",
          "Germany",
          "Germany",
          "France",
          "France",
          "Germany",
          "EIRE",
          "Germany",
          "France",
          "France",
          "Germany",
          "Germany",
          "EIRE",
          "Germany",
          "Germany",
          "EIRE",
          "Germany",
          "Netherlands",
          "Netherlands",
          "France",
          "EIRE",
          "EIRE",
          "EIRE",
          "Netherlands",
          "EIRE",
          "Netherlands",
          "EIRE",
          "France",
          "France",
          "France",
          "Germany",
          "EIRE",
          "Germany",
          "France",
          "Germany",
          "Germany",
          "EIRE",
          "EIRE",
          "France",
          "EIRE",
          "France",
          "France",
          "Germany",
          "Germany",
          "EIRE",
          "France",
          "EIRE",
          "Germany",
          "France",
          "Germany",
          "Germany",
          "Germany",
          "Germany",
          "France",
          "Netherlands",
          "France",
          "Germany",
          "France",
          "Germany",
          "France",
          "Germany",
          "Germany",
          "Germany",
          "Germany",
          "Germany",
          "Germany",
          "France",
          "France",
          "Germany",
          "France",
          "France",
          "EIRE",
          "Germany",
          "Netherlands",
          "Netherlands",
          "EIRE",
          "Germany",
          "France",
          "Germany",
          "Germany",
          "France",
          "France",
          "France",
          "Germany",
          "EIRE",
          "EIRE",
          "France",
          "Germany",
          "EIRE",
          "France",
          "France",
          "EIRE",
          "Germany",
          "Germany",
          "Germany",
          "Germany",
          "Germany",
          "France",
          "EIRE",
          "EIRE",
          "France",
          "France",
          "EIRE",
          "EIRE",
          "Germany",
          "Germany",
          "Germany",
          "Germany",
          "EIRE",
          "France",
          "EIRE",
          "France",
          "EIRE",
          "France",
          "EIRE",
          "France",
          "France",
          "Netherlands",
          "Netherlands",
          "Germany",
          "Germany",
          "Germany",
          "France",
          "France",
          "France",
          "Netherlands",
          "Germany",
          "France",
          "Germany",
          "Germany",
          "France",
          "Netherlands",
          "Germany",
          "EIRE",
          "France",
          "Germany",
          "EIRE",
          "France",
          "EIRE",
          "France",
          "France",
          "Germany",
          "Germany",
          "Germany",
          "France",
          "Netherlands",
          "Netherlands",
          "Germany",
          "France",
          "France",
          "Germany",
          "France",
          "Germany",
          "EIRE",
          "Germany",
          "EIRE",
          "France",
          "EIRE",
          "Germany",
          "France",
          "Germany",
          "EIRE",
          "France",
          "France",
          "France",
          "Germany",
          "EIRE",
          "France",
          "France",
          "Netherlands",
          "EIRE",
          "EIRE",
          "Germany",
          "France",
          "Germany",
          "France",
          "Germany",
          "Germany",
          "Germany",
          "France",
          "EIRE",
          "Germany",
          "EIRE",
          "Germany",
          "France",
          "France",
          "EIRE",
          "EIRE",
          "Germany",
          "EIRE",
          "Germany",
          "France",
          "France",
          "EIRE",
          "EIRE",
          "Germany",
          "EIRE",
          "EIRE",
          "EIRE",
          "France",
          "France",
          "Germany",
          "France",
          "France",
          "Germany",
          "EIRE",
          "Germany",
          "EIRE",
          "France",
          "France",
          "France",
          "EIRE",
          "France",
          "France",
          "France",
          "Germany",
          "Germany",
          "France",
          "Germany",
          "Netherlands",
          "France",
          "France",
          "France",
          "Netherlands",
          "Netherlands",
          "Germany",
          "Germany",
          "EIRE",
          "Germany",
          "Germany",
          "Germany",
          "Germany",
          "Germany",
          "Germany",
          "France",
          "Germany",
          "Germany",
          "EIRE",
          "France",
          "France",
          "Germany",
          "Germany",
          "Germany",
          "Netherlands",
          "EIRE",
          "France",
          "EIRE",
          "France",
          "Germany",
          "EIRE",
          "Germany",
          "Germany",
          "EIRE",
          "EIRE",
          "France",
          "EIRE",
          "EIRE",
          "EIRE",
          "EIRE",
          "EIRE",
          "Germany",
          "France",
          "Germany",
          "Germany",
          "Germany",
          "France",
          "France",
          "EIRE",
          "France",
          "France",
          "France",
          "Germany",
          "Germany",
          "EIRE",
          "Germany",
          "Germany",
          "France",
          "Germany",
          "Germany",
          "Germany",
          "EIRE",
          "EIRE",
          "Germany",
          "EIRE",
          "EIRE",
          "EIRE",
          "EIRE",
          "EIRE",
          "Germany",
          "EIRE",
          "EIRE",
          "Germany",
          "Germany",
          "Netherlands",
          "Germany",
          "Germany",
          "Germany",
          "EIRE",
          "Germany",
          "France",
          "Germany",
          "France",
          "EIRE",
          "Netherlands",
          "Netherlands",
          "Netherlands",
          "Germany",
          "Germany",
          "Germany",
          "EIRE",
          "France",
          "Netherlands",
          "EIRE",
          "EIRE",
          "Germany",
          "Netherlands",
          "Netherlands",
          "Germany",
          "EIRE",
          "Germany",
          "Germany",
          "Germany",
          "Germany",
          "France",
          "France",
          "France",
          "Netherlands",
          "Netherlands",
          "Netherlands",
          "France",
          "Germany",
          "Germany",
          "France",
          "France",
          "Germany",
          "Germany",
          "France",
          "EIRE",
          "France",
          "Germany",
          "Germany",
          "France",
          "Germany",
          "France",
          "EIRE",
          "Germany",
          "EIRE",
          "France",
          "France",
          "France",
          "EIRE",
          "Netherlands",
          "Netherlands",
          "Netherlands",
          "France",
          "Germany",
          "France",
          "Germany",
          "France",
          "France",
          "Germany",
          "France",
          "France",
          "Germany",
          "Germany",
          "Germany",
          "EIRE",
          "EIRE",
          "Germany",
          "EIRE",
          "Germany",
          "EIRE",
          "France",
          "France",
          "France",
          "France",
          "Germany",
          "EIRE",
          "Germany",
          "Netherlands",
          "Netherlands",
          "France",
          "France",
          "France",
          "France",
          "France",
          "France",
          "France",
          "Netherlands",
          "Germany",
          "EIRE",
          "Germany",
          "Germany",
          "EIRE",
          "France",
          "Germany",
          "EIRE",
          "Germany",
          "France",
          "EIRE",
          "France",
          "France",
          "Germany",
          "Germany",
          "France",
          "EIRE",
          "EIRE",
          "France",
          "France",
          "EIRE",
          "France",
          "France",
          "Germany",
          "Germany",
          "EIRE",
          "France",
          "Germany",
          "France",
          "EIRE",
          "EIRE",
          "EIRE",
          "EIRE",
          "Germany",
          "Germany",
          "Germany",
          "EIRE",
          "Germany",
          "Netherlands",
          "France",
          "France",
          "Germany",
          "Germany",
          "Germany",
          "Germany",
          "Germany",
          "EIRE",
          "Germany",
          "Germany",
          "Germany",
          "France",
          "EIRE",
          "Germany",
          "Germany",
          "France",
          "France",
          "Germany",
          "Germany",
          "EIRE",
          "France",
          "Germany",
          "France",
          "Germany",
          "France",
          "Germany",
          "Germany",
          "Netherlands",
          "France",
          "EIRE",
          "Germany",
          "Netherlands",
          "EIRE",
          "France",
          "France",
          "EIRE",
          "EIRE",
          "Germany",
          "France",
          "Germany",
          "EIRE",
          "France",
          "Germany",
          "France",
          "Netherlands",
          "Germany",
          "EIRE",
          "Netherlands",
          "EIRE",
          "EIRE",
          "Netherlands",
          "Netherlands",
          "Netherlands",
          "Germany",
          "France",
          "France",
          "Germany",
          "Germany",
          "EIRE",
          "Germany",
          "France",
          "Germany",
          "Germany",
          "Germany",
          "France",
          "Germany",
          "Germany",
          "Germany",
          "France",
          "Germany",
          "France",
          "EIRE",
          "France",
          "EIRE",
          "EIRE",
          "Germany",
          "EIRE",
          "Germany",
          "France",
          "France",
          "France",
          "Germany",
          "France",
          "Germany",
          "Germany",
          "Germany",
          "France",
          "Netherlands",
          "France",
          "EIRE",
          "EIRE",
          "France",
          "France",
          "Germany",
          "EIRE",
          "Germany",
          "France",
          "France",
          "Germany",
          "EIRE",
          "Germany",
          "France",
          "France",
          "EIRE",
          "France",
          "Germany",
          "France",
          "France",
          "France",
          "Germany",
          "Germany",
          "EIRE",
          "Germany",
          "France",
          "France",
          "Germany",
          "EIRE",
          "EIRE",
          "Germany",
          "France",
          "France",
          "France",
          "France",
          "France",
          "Germany",
          "France",
          "EIRE",
          "EIRE",
          "EIRE",
          "France",
          "Netherlands",
          "Netherlands",
          "Germany",
          "Germany",
          "Germany",
          "Germany",
          "France",
          "Netherlands",
          "EIRE",
          "Germany",
          "Germany",
          "Germany",
          "Germany",
          "France"
         ],
         "xaxis": "x",
         "yaxis": "y"
        }
       ],
       "layout": {
        "barmode": "relative",
        "height": 600,
        "legend": {
         "tracegroupgap": 0
        },
        "margin": {
         "t": 60
        },
        "template": {
         "data": {
          "bar": [
           {
            "error_x": {
             "color": "#2a3f5f"
            },
            "error_y": {
             "color": "#2a3f5f"
            },
            "marker": {
             "line": {
              "color": "#E5ECF6",
              "width": 0.5
             },
             "pattern": {
              "fillmode": "overlay",
              "size": 10,
              "solidity": 0.2
             }
            },
            "type": "bar"
           }
          ],
          "barpolar": [
           {
            "marker": {
             "line": {
              "color": "#E5ECF6",
              "width": 0.5
             },
             "pattern": {
              "fillmode": "overlay",
              "size": 10,
              "solidity": 0.2
             }
            },
            "type": "barpolar"
           }
          ],
          "carpet": [
           {
            "aaxis": {
             "endlinecolor": "#2a3f5f",
             "gridcolor": "white",
             "linecolor": "white",
             "minorgridcolor": "white",
             "startlinecolor": "#2a3f5f"
            },
            "baxis": {
             "endlinecolor": "#2a3f5f",
             "gridcolor": "white",
             "linecolor": "white",
             "minorgridcolor": "white",
             "startlinecolor": "#2a3f5f"
            },
            "type": "carpet"
           }
          ],
          "choropleth": [
           {
            "colorbar": {
             "outlinewidth": 0,
             "ticks": ""
            },
            "type": "choropleth"
           }
          ],
          "contour": [
           {
            "colorbar": {
             "outlinewidth": 0,
             "ticks": ""
            },
            "colorscale": [
             [
              0,
              "#0d0887"
             ],
             [
              0.1111111111111111,
              "#46039f"
             ],
             [
              0.2222222222222222,
              "#7201a8"
             ],
             [
              0.3333333333333333,
              "#9c179e"
             ],
             [
              0.4444444444444444,
              "#bd3786"
             ],
             [
              0.5555555555555556,
              "#d8576b"
             ],
             [
              0.6666666666666666,
              "#ed7953"
             ],
             [
              0.7777777777777778,
              "#fb9f3a"
             ],
             [
              0.8888888888888888,
              "#fdca26"
             ],
             [
              1,
              "#f0f921"
             ]
            ],
            "type": "contour"
           }
          ],
          "contourcarpet": [
           {
            "colorbar": {
             "outlinewidth": 0,
             "ticks": ""
            },
            "type": "contourcarpet"
           }
          ],
          "heatmap": [
           {
            "colorbar": {
             "outlinewidth": 0,
             "ticks": ""
            },
            "colorscale": [
             [
              0,
              "#0d0887"
             ],
             [
              0.1111111111111111,
              "#46039f"
             ],
             [
              0.2222222222222222,
              "#7201a8"
             ],
             [
              0.3333333333333333,
              "#9c179e"
             ],
             [
              0.4444444444444444,
              "#bd3786"
             ],
             [
              0.5555555555555556,
              "#d8576b"
             ],
             [
              0.6666666666666666,
              "#ed7953"
             ],
             [
              0.7777777777777778,
              "#fb9f3a"
             ],
             [
              0.8888888888888888,
              "#fdca26"
             ],
             [
              1,
              "#f0f921"
             ]
            ],
            "type": "heatmap"
           }
          ],
          "heatmapgl": [
           {
            "colorbar": {
             "outlinewidth": 0,
             "ticks": ""
            },
            "colorscale": [
             [
              0,
              "#0d0887"
             ],
             [
              0.1111111111111111,
              "#46039f"
             ],
             [
              0.2222222222222222,
              "#7201a8"
             ],
             [
              0.3333333333333333,
              "#9c179e"
             ],
             [
              0.4444444444444444,
              "#bd3786"
             ],
             [
              0.5555555555555556,
              "#d8576b"
             ],
             [
              0.6666666666666666,
              "#ed7953"
             ],
             [
              0.7777777777777778,
              "#fb9f3a"
             ],
             [
              0.8888888888888888,
              "#fdca26"
             ],
             [
              1,
              "#f0f921"
             ]
            ],
            "type": "heatmapgl"
           }
          ],
          "histogram": [
           {
            "marker": {
             "pattern": {
              "fillmode": "overlay",
              "size": 10,
              "solidity": 0.2
             }
            },
            "type": "histogram"
           }
          ],
          "histogram2d": [
           {
            "colorbar": {
             "outlinewidth": 0,
             "ticks": ""
            },
            "colorscale": [
             [
              0,
              "#0d0887"
             ],
             [
              0.1111111111111111,
              "#46039f"
             ],
             [
              0.2222222222222222,
              "#7201a8"
             ],
             [
              0.3333333333333333,
              "#9c179e"
             ],
             [
              0.4444444444444444,
              "#bd3786"
             ],
             [
              0.5555555555555556,
              "#d8576b"
             ],
             [
              0.6666666666666666,
              "#ed7953"
             ],
             [
              0.7777777777777778,
              "#fb9f3a"
             ],
             [
              0.8888888888888888,
              "#fdca26"
             ],
             [
              1,
              "#f0f921"
             ]
            ],
            "type": "histogram2d"
           }
          ],
          "histogram2dcontour": [
           {
            "colorbar": {
             "outlinewidth": 0,
             "ticks": ""
            },
            "colorscale": [
             [
              0,
              "#0d0887"
             ],
             [
              0.1111111111111111,
              "#46039f"
             ],
             [
              0.2222222222222222,
              "#7201a8"
             ],
             [
              0.3333333333333333,
              "#9c179e"
             ],
             [
              0.4444444444444444,
              "#bd3786"
             ],
             [
              0.5555555555555556,
              "#d8576b"
             ],
             [
              0.6666666666666666,
              "#ed7953"
             ],
             [
              0.7777777777777778,
              "#fb9f3a"
             ],
             [
              0.8888888888888888,
              "#fdca26"
             ],
             [
              1,
              "#f0f921"
             ]
            ],
            "type": "histogram2dcontour"
           }
          ],
          "mesh3d": [
           {
            "colorbar": {
             "outlinewidth": 0,
             "ticks": ""
            },
            "type": "mesh3d"
           }
          ],
          "parcoords": [
           {
            "line": {
             "colorbar": {
              "outlinewidth": 0,
              "ticks": ""
             }
            },
            "type": "parcoords"
           }
          ],
          "pie": [
           {
            "automargin": true,
            "type": "pie"
           }
          ],
          "scatter": [
           {
            "marker": {
             "colorbar": {
              "outlinewidth": 0,
              "ticks": ""
             }
            },
            "type": "scatter"
           }
          ],
          "scatter3d": [
           {
            "line": {
             "colorbar": {
              "outlinewidth": 0,
              "ticks": ""
             }
            },
            "marker": {
             "colorbar": {
              "outlinewidth": 0,
              "ticks": ""
             }
            },
            "type": "scatter3d"
           }
          ],
          "scattercarpet": [
           {
            "marker": {
             "colorbar": {
              "outlinewidth": 0,
              "ticks": ""
             }
            },
            "type": "scattercarpet"
           }
          ],
          "scattergeo": [
           {
            "marker": {
             "colorbar": {
              "outlinewidth": 0,
              "ticks": ""
             }
            },
            "type": "scattergeo"
           }
          ],
          "scattergl": [
           {
            "marker": {
             "colorbar": {
              "outlinewidth": 0,
              "ticks": ""
             }
            },
            "type": "scattergl"
           }
          ],
          "scattermapbox": [
           {
            "marker": {
             "colorbar": {
              "outlinewidth": 0,
              "ticks": ""
             }
            },
            "type": "scattermapbox"
           }
          ],
          "scatterpolar": [
           {
            "marker": {
             "colorbar": {
              "outlinewidth": 0,
              "ticks": ""
             }
            },
            "type": "scatterpolar"
           }
          ],
          "scatterpolargl": [
           {
            "marker": {
             "colorbar": {
              "outlinewidth": 0,
              "ticks": ""
             }
            },
            "type": "scatterpolargl"
           }
          ],
          "scatterternary": [
           {
            "marker": {
             "colorbar": {
              "outlinewidth": 0,
              "ticks": ""
             }
            },
            "type": "scatterternary"
           }
          ],
          "surface": [
           {
            "colorbar": {
             "outlinewidth": 0,
             "ticks": ""
            },
            "colorscale": [
             [
              0,
              "#0d0887"
             ],
             [
              0.1111111111111111,
              "#46039f"
             ],
             [
              0.2222222222222222,
              "#7201a8"
             ],
             [
              0.3333333333333333,
              "#9c179e"
             ],
             [
              0.4444444444444444,
              "#bd3786"
             ],
             [
              0.5555555555555556,
              "#d8576b"
             ],
             [
              0.6666666666666666,
              "#ed7953"
             ],
             [
              0.7777777777777778,
              "#fb9f3a"
             ],
             [
              0.8888888888888888,
              "#fdca26"
             ],
             [
              1,
              "#f0f921"
             ]
            ],
            "type": "surface"
           }
          ],
          "table": [
           {
            "cells": {
             "fill": {
              "color": "#EBF0F8"
             },
             "line": {
              "color": "white"
             }
            },
            "header": {
             "fill": {
              "color": "#C8D4E3"
             },
             "line": {
              "color": "white"
             }
            },
            "type": "table"
           }
          ]
         },
         "layout": {
          "annotationdefaults": {
           "arrowcolor": "#2a3f5f",
           "arrowhead": 0,
           "arrowwidth": 1
          },
          "autotypenumbers": "strict",
          "coloraxis": {
           "colorbar": {
            "outlinewidth": 0,
            "ticks": ""
           }
          },
          "colorscale": {
           "diverging": [
            [
             0,
             "#8e0152"
            ],
            [
             0.1,
             "#c51b7d"
            ],
            [
             0.2,
             "#de77ae"
            ],
            [
             0.3,
             "#f1b6da"
            ],
            [
             0.4,
             "#fde0ef"
            ],
            [
             0.5,
             "#f7f7f7"
            ],
            [
             0.6,
             "#e6f5d0"
            ],
            [
             0.7,
             "#b8e186"
            ],
            [
             0.8,
             "#7fbc41"
            ],
            [
             0.9,
             "#4d9221"
            ],
            [
             1,
             "#276419"
            ]
           ],
           "sequential": [
            [
             0,
             "#0d0887"
            ],
            [
             0.1111111111111111,
             "#46039f"
            ],
            [
             0.2222222222222222,
             "#7201a8"
            ],
            [
             0.3333333333333333,
             "#9c179e"
            ],
            [
             0.4444444444444444,
             "#bd3786"
            ],
            [
             0.5555555555555556,
             "#d8576b"
            ],
            [
             0.6666666666666666,
             "#ed7953"
            ],
            [
             0.7777777777777778,
             "#fb9f3a"
            ],
            [
             0.8888888888888888,
             "#fdca26"
            ],
            [
             1,
             "#f0f921"
            ]
           ],
           "sequentialminus": [
            [
             0,
             "#0d0887"
            ],
            [
             0.1111111111111111,
             "#46039f"
            ],
            [
             0.2222222222222222,
             "#7201a8"
            ],
            [
             0.3333333333333333,
             "#9c179e"
            ],
            [
             0.4444444444444444,
             "#bd3786"
            ],
            [
             0.5555555555555556,
             "#d8576b"
            ],
            [
             0.6666666666666666,
             "#ed7953"
            ],
            [
             0.7777777777777778,
             "#fb9f3a"
            ],
            [
             0.8888888888888888,
             "#fdca26"
            ],
            [
             1,
             "#f0f921"
            ]
           ]
          },
          "colorway": [
           "#636efa",
           "#EF553B",
           "#00cc96",
           "#ab63fa",
           "#FFA15A",
           "#19d3f3",
           "#FF6692",
           "#B6E880",
           "#FF97FF",
           "#FECB52"
          ],
          "font": {
           "color": "#2a3f5f"
          },
          "geo": {
           "bgcolor": "white",
           "lakecolor": "white",
           "landcolor": "#E5ECF6",
           "showlakes": true,
           "showland": true,
           "subunitcolor": "white"
          },
          "hoverlabel": {
           "align": "left"
          },
          "hovermode": "closest",
          "mapbox": {
           "style": "light"
          },
          "paper_bgcolor": "white",
          "plot_bgcolor": "#E5ECF6",
          "polar": {
           "angularaxis": {
            "gridcolor": "white",
            "linecolor": "white",
            "ticks": ""
           },
           "bgcolor": "#E5ECF6",
           "radialaxis": {
            "gridcolor": "white",
            "linecolor": "white",
            "ticks": ""
           }
          },
          "scene": {
           "xaxis": {
            "backgroundcolor": "#E5ECF6",
            "gridcolor": "white",
            "gridwidth": 2,
            "linecolor": "white",
            "showbackground": true,
            "ticks": "",
            "zerolinecolor": "white"
           },
           "yaxis": {
            "backgroundcolor": "#E5ECF6",
            "gridcolor": "white",
            "gridwidth": 2,
            "linecolor": "white",
            "showbackground": true,
            "ticks": "",
            "zerolinecolor": "white"
           },
           "zaxis": {
            "backgroundcolor": "#E5ECF6",
            "gridcolor": "white",
            "gridwidth": 2,
            "linecolor": "white",
            "showbackground": true,
            "ticks": "",
            "zerolinecolor": "white"
           }
          },
          "shapedefaults": {
           "line": {
            "color": "#2a3f5f"
           }
          },
          "ternary": {
           "aaxis": {
            "gridcolor": "white",
            "linecolor": "white",
            "ticks": ""
           },
           "baxis": {
            "gridcolor": "white",
            "linecolor": "white",
            "ticks": ""
           },
           "bgcolor": "#E5ECF6",
           "caxis": {
            "gridcolor": "white",
            "linecolor": "white",
            "ticks": ""
           }
          },
          "title": {
           "x": 0.05
          },
          "xaxis": {
           "automargin": true,
           "gridcolor": "white",
           "linecolor": "white",
           "ticks": "",
           "title": {
            "standoff": 15
           },
           "zerolinecolor": "white",
           "zerolinewidth": 2
          },
          "yaxis": {
           "automargin": true,
           "gridcolor": "white",
           "linecolor": "white",
           "ticks": "",
           "title": {
            "standoff": 15
           },
           "zerolinecolor": "white",
           "zerolinewidth": 2
          }
         }
        },
        "title": {
         "text": "Histogram"
        },
        "width": 1000,
        "xaxis": {
         "anchor": "y",
         "domain": [
          0,
          1
         ],
         "title": {
          "text": "Country"
         }
        },
        "yaxis": {
         "anchor": "x",
         "domain": [
          0,
          1
         ],
         "title": {
          "text": "count"
         }
        }
       }
      },
      "text/html": [
       "<div>                            <div id=\"c0d2ea2b-f6d5-4a4c-b6c5-2d39c7a7c4f0\" class=\"plotly-graph-div\" style=\"height:600px; width:1000px;\"></div>            <script type=\"text/javascript\">                require([\"plotly\"], function(Plotly) {                    window.PLOTLYENV=window.PLOTLYENV || {};                                    if (document.getElementById(\"c0d2ea2b-f6d5-4a4c-b6c5-2d39c7a7c4f0\")) {                    Plotly.newPlot(                        \"c0d2ea2b-f6d5-4a4c-b6c5-2d39c7a7c4f0\",                        [{\"alignmentgroup\":\"True\",\"bingroup\":\"x\",\"hovertemplate\":\"Country=%{x}<br>count=%{y}<extra></extra>\",\"legendgroup\":\"\",\"marker\":{\"color\":\"#636efa\",\"pattern\":{\"shape\":\"\"}},\"name\":\"\",\"offsetgroup\":\"\",\"orientation\":\"v\",\"showlegend\":false,\"x\":[\"France\",\"Netherlands\",\"Germany\",\"EIRE\",\"EIRE\",\"EIRE\",\"Germany\",\"France\",\"Germany\",\"EIRE\",\"Germany\",\"France\",\"EIRE\",\"Germany\",\"France\",\"Germany\",\"Germany\",\"Germany\",\"Germany\",\"Germany\",\"EIRE\",\"EIRE\",\"EIRE\",\"France\",\"France\",\"Germany\",\"Germany\",\"France\",\"Germany\",\"Germany\",\"France\",\"France\",\"Germany\",\"France\",\"EIRE\",\"France\",\"Germany\",\"France\",\"EIRE\",\"Germany\",\"France\",\"France\",\"EIRE\",\"Germany\",\"Germany\",\"Germany\",\"Germany\",\"Germany\",\"Germany\",\"France\",\"Germany\",\"EIRE\",\"France\",\"Germany\",\"Germany\",\"EIRE\",\"Netherlands\",\"France\",\"France\",\"Germany\",\"EIRE\",\"France\",\"Netherlands\",\"France\",\"Germany\",\"Germany\",\"EIRE\",\"France\",\"France\",\"France\",\"France\",\"Germany\",\"Germany\",\"France\",\"Germany\",\"France\",\"Germany\",\"France\",\"EIRE\",\"Germany\",\"Germany\",\"France\",\"France\",\"Germany\",\"France\",\"France\",\"France\",\"France\",\"Germany\",\"France\",\"France\",\"Germany\",\"France\",\"France\",\"Germany\",\"Germany\",\"France\",\"Netherlands\",\"EIRE\",\"Germany\",\"Germany\",\"Germany\",\"France\",\"EIRE\",\"Germany\",\"Germany\",\"France\",\"Netherlands\",\"Netherlands\",\"France\",\"EIRE\",\"Netherlands\",\"France\",\"Germany\",\"Germany\",\"Germany\",\"EIRE\",\"France\",\"Germany\",\"Germany\",\"Germany\",\"Germany\",\"EIRE\",\"Germany\",\"EIRE\",\"Germany\",\"Germany\",\"Germany\",\"France\",\"France\",\"France\",\"Germany\",\"Germany\",\"France\",\"Germany\",\"Germany\",\"Netherlands\",\"France\",\"EIRE\",\"Germany\",\"Netherlands\",\"France\",\"France\",\"Germany\",\"France\",\"Germany\",\"Germany\",\"EIRE\",\"Germany\",\"EIRE\",\"France\",\"Netherlands\",\"France\",\"France\",\"Germany\",\"Germany\",\"Germany\",\"France\",\"Germany\",\"EIRE\",\"Germany\",\"Germany\",\"France\",\"EIRE\",\"EIRE\",\"France\",\"France\",\"EIRE\",\"Germany\",\"Germany\",\"Germany\",\"France\",\"EIRE\",\"France\",\"France\",\"Netherlands\",\"Netherlands\",\"Germany\",\"Germany\",\"France\",\"Netherlands\",\"EIRE\",\"Germany\",\"France\",\"France\",\"Germany\",\"Germany\",\"France\",\"France\",\"France\",\"France\",\"France\",\"France\",\"Germany\",\"France\",\"EIRE\",\"France\",\"France\",\"Germany\",\"Germany\",\"France\",\"EIRE\",\"EIRE\",\"Germany\",\"Germany\",\"Germany\",\"Germany\",\"Germany\",\"Germany\",\"Netherlands\",\"EIRE\",\"EIRE\",\"EIRE\",\"EIRE\",\"Germany\",\"France\",\"France\",\"Netherlands\",\"France\",\"EIRE\",\"EIRE\",\"EIRE\",\"EIRE\",\"EIRE\",\"EIRE\",\"France\",\"Germany\",\"France\",\"France\",\"Germany\",\"Germany\",\"EIRE\",\"EIRE\",\"Germany\",\"Germany\",\"Germany\",\"Germany\",\"Germany\",\"EIRE\",\"Germany\",\"Germany\",\"France\",\"France\",\"France\",\"France\",\"Netherlands\",\"Germany\",\"Germany\",\"France\",\"France\",\"France\",\"France\",\"EIRE\",\"Germany\",\"France\",\"EIRE\",\"Netherlands\",\"Germany\",\"Germany\",\"Netherlands\",\"France\",\"EIRE\",\"France\",\"Germany\",\"Germany\",\"Germany\",\"Netherlands\",\"Netherlands\",\"Netherlands\",\"Germany\",\"France\",\"France\",\"Germany\",\"EIRE\",\"Germany\",\"France\",\"France\",\"France\",\"Germany\",\"EIRE\",\"EIRE\",\"France\",\"Germany\",\"Germany\",\"EIRE\",\"Netherlands\",\"Netherlands\",\"EIRE\",\"Germany\",\"EIRE\",\"EIRE\",\"France\",\"Germany\",\"Germany\",\"Germany\",\"EIRE\",\"Germany\",\"EIRE\",\"Germany\",\"Germany\",\"Germany\",\"France\",\"Germany\",\"Germany\",\"Germany\",\"EIRE\",\"France\",\"France\",\"Germany\",\"EIRE\",\"Germany\",\"Germany\",\"France\",\"Germany\",\"France\",\"France\",\"Germany\",\"Germany\",\"France\",\"EIRE\",\"Germany\",\"Netherlands\",\"France\",\"Germany\",\"Germany\",\"France\",\"France\",\"France\",\"France\",\"France\",\"EIRE\",\"EIRE\",\"Germany\",\"Germany\",\"Germany\",\"Germany\",\"Germany\",\"France\",\"EIRE\",\"Germany\",\"EIRE\",\"Germany\",\"EIRE\",\"France\",\"France\",\"Germany\",\"France\",\"France\",\"Germany\",\"Germany\",\"France\",\"Germany\",\"Netherlands\",\"Netherlands\",\"France\",\"Germany\",\"Germany\",\"Germany\",\"Germany\",\"Netherlands\",\"Netherlands\",\"Netherlands\",\"France\",\"Germany\",\"Germany\",\"Germany\",\"France\",\"France\",\"France\",\"France\",\"EIRE\",\"EIRE\",\"France\",\"EIRE\",\"France\",\"EIRE\",\"EIRE\",\"France\",\"Germany\",\"France\",\"France\",\"France\",\"Netherlands\",\"EIRE\",\"Germany\",\"Germany\",\"Germany\",\"France\",\"Germany\",\"France\",\"Germany\",\"Germany\",\"EIRE\",\"EIRE\",\"EIRE\",\"France\",\"Netherlands\",\"France\",\"Germany\",\"Germany\",\"France\",\"France\",\"Germany\",\"EIRE\",\"Germany\",\"Germany\",\"Germany\",\"France\",\"Germany\",\"France\",\"Netherlands\",\"France\",\"France\",\"Germany\",\"Germany\",\"Germany\",\"Germany\",\"EIRE\",\"EIRE\",\"EIRE\",\"Germany\",\"France\",\"Netherlands\",\"France\",\"Germany\",\"France\",\"Germany\",\"Netherlands\",\"Germany\",\"France\",\"Netherlands\",\"Netherlands\",\"Germany\",\"Netherlands\",\"Germany\",\"Germany\",\"Netherlands\",\"Germany\",\"Germany\",\"France\",\"France\",\"Germany\",\"France\",\"Netherlands\",\"France\",\"EIRE\",\"Germany\",\"EIRE\",\"France\",\"France\",\"France\",\"France\",\"EIRE\",\"EIRE\",\"Germany\",\"Germany\",\"EIRE\",\"EIRE\",\"Netherlands\",\"France\",\"France\",\"France\",\"Germany\",\"France\",\"Germany\",\"France\",\"Germany\",\"EIRE\",\"Germany\",\"France\",\"France\",\"Germany\",\"France\",\"France\",\"France\",\"France\",\"EIRE\",\"EIRE\",\"EIRE\",\"Germany\",\"Germany\",\"France\",\"EIRE\",\"France\",\"Netherlands\",\"France\",\"EIRE\",\"Netherlands\",\"Germany\",\"France\",\"France\",\"Netherlands\",\"Germany\",\"EIRE\",\"France\",\"France\",\"France\",\"EIRE\",\"EIRE\",\"Germany\",\"EIRE\",\"EIRE\",\"Germany\",\"France\",\"EIRE\",\"EIRE\",\"Germany\",\"EIRE\",\"EIRE\",\"France\",\"Netherlands\",\"Netherlands\",\"Netherlands\",\"France\",\"EIRE\",\"EIRE\",\"Germany\",\"EIRE\",\"Germany\",\"Germany\",\"EIRE\",\"EIRE\",\"EIRE\",\"France\",\"France\",\"Germany\",\"France\",\"Germany\",\"EIRE\",\"France\",\"France\",\"Germany\",\"Germany\",\"Germany\",\"Germany\",\"France\",\"Germany\",\"France\",\"France\",\"France\",\"France\",\"France\",\"France\",\"Germany\",\"France\",\"Germany\",\"Germany\",\"France\",\"France\",\"Germany\",\"Germany\",\"EIRE\",\"Germany\",\"EIRE\",\"Germany\",\"Germany\",\"Germany\",\"France\",\"EIRE\",\"France\",\"France\",\"EIRE\",\"EIRE\",\"EIRE\",\"France\",\"EIRE\",\"Germany\",\"Germany\",\"Germany\",\"Germany\",\"Germany\",\"Germany\",\"Netherlands\",\"Germany\",\"Germany\",\"EIRE\",\"Germany\",\"EIRE\",\"EIRE\",\"Germany\",\"France\",\"Germany\",\"Germany\",\"Germany\",\"EIRE\",\"Germany\",\"France\",\"EIRE\",\"EIRE\",\"Germany\",\"EIRE\",\"EIRE\",\"France\",\"EIRE\",\"EIRE\",\"EIRE\",\"Germany\",\"Germany\",\"Germany\",\"France\",\"Germany\",\"Germany\",\"France\",\"France\",\"Germany\",\"EIRE\",\"Germany\",\"France\",\"France\",\"Germany\",\"Germany\",\"EIRE\",\"Germany\",\"Germany\",\"EIRE\",\"Germany\",\"Netherlands\",\"Netherlands\",\"France\",\"EIRE\",\"EIRE\",\"EIRE\",\"Netherlands\",\"EIRE\",\"Netherlands\",\"EIRE\",\"France\",\"France\",\"France\",\"Germany\",\"EIRE\",\"Germany\",\"France\",\"Germany\",\"Germany\",\"EIRE\",\"EIRE\",\"France\",\"EIRE\",\"France\",\"France\",\"Germany\",\"Germany\",\"EIRE\",\"France\",\"EIRE\",\"Germany\",\"France\",\"Germany\",\"Germany\",\"Germany\",\"Germany\",\"France\",\"Netherlands\",\"France\",\"Germany\",\"France\",\"Germany\",\"France\",\"Germany\",\"Germany\",\"Germany\",\"Germany\",\"Germany\",\"Germany\",\"France\",\"France\",\"Germany\",\"France\",\"France\",\"EIRE\",\"Germany\",\"Netherlands\",\"Netherlands\",\"EIRE\",\"Germany\",\"France\",\"Germany\",\"Germany\",\"France\",\"France\",\"France\",\"Germany\",\"EIRE\",\"EIRE\",\"France\",\"Germany\",\"EIRE\",\"France\",\"France\",\"EIRE\",\"Germany\",\"Germany\",\"Germany\",\"Germany\",\"Germany\",\"France\",\"EIRE\",\"EIRE\",\"France\",\"France\",\"EIRE\",\"EIRE\",\"Germany\",\"Germany\",\"Germany\",\"Germany\",\"EIRE\",\"France\",\"EIRE\",\"France\",\"EIRE\",\"France\",\"EIRE\",\"France\",\"France\",\"Netherlands\",\"Netherlands\",\"Germany\",\"Germany\",\"Germany\",\"France\",\"France\",\"France\",\"Netherlands\",\"Germany\",\"France\",\"Germany\",\"Germany\",\"France\",\"Netherlands\",\"Germany\",\"EIRE\",\"France\",\"Germany\",\"EIRE\",\"France\",\"EIRE\",\"France\",\"France\",\"Germany\",\"Germany\",\"Germany\",\"France\",\"Netherlands\",\"Netherlands\",\"Germany\",\"France\",\"France\",\"Germany\",\"France\",\"Germany\",\"EIRE\",\"Germany\",\"EIRE\",\"France\",\"EIRE\",\"Germany\",\"France\",\"Germany\",\"EIRE\",\"France\",\"France\",\"France\",\"Germany\",\"EIRE\",\"France\",\"France\",\"Netherlands\",\"EIRE\",\"EIRE\",\"Germany\",\"France\",\"Germany\",\"France\",\"Germany\",\"Germany\",\"Germany\",\"France\",\"EIRE\",\"Germany\",\"EIRE\",\"Germany\",\"France\",\"France\",\"EIRE\",\"EIRE\",\"Germany\",\"EIRE\",\"Germany\",\"France\",\"France\",\"EIRE\",\"EIRE\",\"Germany\",\"EIRE\",\"EIRE\",\"EIRE\",\"France\",\"France\",\"Germany\",\"France\",\"France\",\"Germany\",\"EIRE\",\"Germany\",\"EIRE\",\"France\",\"France\",\"France\",\"EIRE\",\"France\",\"France\",\"France\",\"Germany\",\"Germany\",\"France\",\"Germany\",\"Netherlands\",\"France\",\"France\",\"France\",\"Netherlands\",\"Netherlands\",\"Germany\",\"Germany\",\"EIRE\",\"Germany\",\"Germany\",\"Germany\",\"Germany\",\"Germany\",\"Germany\",\"France\",\"Germany\",\"Germany\",\"EIRE\",\"France\",\"France\",\"Germany\",\"Germany\",\"Germany\",\"Netherlands\",\"EIRE\",\"France\",\"EIRE\",\"France\",\"Germany\",\"EIRE\",\"Germany\",\"Germany\",\"EIRE\",\"EIRE\",\"France\",\"EIRE\",\"EIRE\",\"EIRE\",\"EIRE\",\"EIRE\",\"Germany\",\"France\",\"Germany\",\"Germany\",\"Germany\",\"France\",\"France\",\"EIRE\",\"France\",\"France\",\"France\",\"Germany\",\"Germany\",\"EIRE\",\"Germany\",\"Germany\",\"France\",\"Germany\",\"Germany\",\"Germany\",\"EIRE\",\"EIRE\",\"Germany\",\"EIRE\",\"EIRE\",\"EIRE\",\"EIRE\",\"EIRE\",\"Germany\",\"EIRE\",\"EIRE\",\"Germany\",\"Germany\",\"Netherlands\",\"Germany\",\"Germany\",\"Germany\",\"EIRE\",\"Germany\",\"France\",\"Germany\",\"France\",\"EIRE\",\"Netherlands\",\"Netherlands\",\"Netherlands\",\"Germany\",\"Germany\",\"Germany\",\"EIRE\",\"France\",\"Netherlands\",\"EIRE\",\"EIRE\",\"Germany\",\"Netherlands\",\"Netherlands\",\"Germany\",\"EIRE\",\"Germany\",\"Germany\",\"Germany\",\"Germany\",\"France\",\"France\",\"France\",\"Netherlands\",\"Netherlands\",\"Netherlands\",\"France\",\"Germany\",\"Germany\",\"France\",\"France\",\"Germany\",\"Germany\",\"France\",\"EIRE\",\"France\",\"Germany\",\"Germany\",\"France\",\"Germany\",\"France\",\"EIRE\",\"Germany\",\"EIRE\",\"France\",\"France\",\"France\",\"EIRE\",\"Netherlands\",\"Netherlands\",\"Netherlands\",\"France\",\"Germany\",\"France\",\"Germany\",\"France\",\"France\",\"Germany\",\"France\",\"France\",\"Germany\",\"Germany\",\"Germany\",\"EIRE\",\"EIRE\",\"Germany\",\"EIRE\",\"Germany\",\"EIRE\",\"France\",\"France\",\"France\",\"France\",\"Germany\",\"EIRE\",\"Germany\",\"Netherlands\",\"Netherlands\",\"France\",\"France\",\"France\",\"France\",\"France\",\"France\",\"France\",\"Netherlands\",\"Germany\",\"EIRE\",\"Germany\",\"Germany\",\"EIRE\",\"France\",\"Germany\",\"EIRE\",\"Germany\",\"France\",\"EIRE\",\"France\",\"France\",\"Germany\",\"Germany\",\"France\",\"EIRE\",\"EIRE\",\"France\",\"France\",\"EIRE\",\"France\",\"France\",\"Germany\",\"Germany\",\"EIRE\",\"France\",\"Germany\",\"France\",\"EIRE\",\"EIRE\",\"EIRE\",\"EIRE\",\"Germany\",\"Germany\",\"Germany\",\"EIRE\",\"Germany\",\"Netherlands\",\"France\",\"France\",\"Germany\",\"Germany\",\"Germany\",\"Germany\",\"Germany\",\"EIRE\",\"Germany\",\"Germany\",\"Germany\",\"France\",\"EIRE\",\"Germany\",\"Germany\",\"France\",\"France\",\"Germany\",\"Germany\",\"EIRE\",\"France\",\"Germany\",\"France\",\"Germany\",\"France\",\"Germany\",\"Germany\",\"Netherlands\",\"France\",\"EIRE\",\"Germany\",\"Netherlands\",\"EIRE\",\"France\",\"France\",\"EIRE\",\"EIRE\",\"Germany\",\"France\",\"Germany\",\"EIRE\",\"France\",\"Germany\",\"France\",\"Netherlands\",\"Germany\",\"EIRE\",\"Netherlands\",\"EIRE\",\"EIRE\",\"Netherlands\",\"Netherlands\",\"Netherlands\",\"Germany\",\"France\",\"France\",\"Germany\",\"Germany\",\"EIRE\",\"Germany\",\"France\",\"Germany\",\"Germany\",\"Germany\",\"France\",\"Germany\",\"Germany\",\"Germany\",\"France\",\"Germany\",\"France\",\"EIRE\",\"France\",\"EIRE\",\"EIRE\",\"Germany\",\"EIRE\",\"Germany\",\"France\",\"France\",\"France\",\"Germany\",\"France\",\"Germany\",\"Germany\",\"Germany\",\"France\",\"Netherlands\",\"France\",\"EIRE\",\"EIRE\",\"France\",\"France\",\"Germany\",\"EIRE\",\"Germany\",\"France\",\"France\",\"Germany\",\"EIRE\",\"Germany\",\"France\",\"France\",\"EIRE\",\"France\",\"Germany\",\"France\",\"France\",\"France\",\"Germany\",\"Germany\",\"EIRE\",\"Germany\",\"France\",\"France\",\"Germany\",\"EIRE\",\"EIRE\",\"Germany\",\"France\",\"France\",\"France\",\"France\",\"France\",\"Germany\",\"France\",\"EIRE\",\"EIRE\",\"EIRE\",\"France\",\"Netherlands\",\"Netherlands\",\"Germany\",\"Germany\",\"Germany\",\"Germany\",\"France\",\"Netherlands\",\"EIRE\",\"Germany\",\"Germany\",\"Germany\",\"Germany\",\"France\"],\"xaxis\":\"x\",\"yaxis\":\"y\",\"type\":\"histogram\"}],                        {\"barmode\":\"relative\",\"height\":600,\"legend\":{\"tracegroupgap\":0},\"margin\":{\"t\":60},\"template\":{\"data\":{\"barpolar\":[{\"marker\":{\"line\":{\"color\":\"#E5ECF6\",\"width\":0.5},\"pattern\":{\"fillmode\":\"overlay\",\"size\":10,\"solidity\":0.2}},\"type\":\"barpolar\"}],\"bar\":[{\"error_x\":{\"color\":\"#2a3f5f\"},\"error_y\":{\"color\":\"#2a3f5f\"},\"marker\":{\"line\":{\"color\":\"#E5ECF6\",\"width\":0.5},\"pattern\":{\"fillmode\":\"overlay\",\"size\":10,\"solidity\":0.2}},\"type\":\"bar\"}],\"carpet\":[{\"aaxis\":{\"endlinecolor\":\"#2a3f5f\",\"gridcolor\":\"white\",\"linecolor\":\"white\",\"minorgridcolor\":\"white\",\"startlinecolor\":\"#2a3f5f\"},\"baxis\":{\"endlinecolor\":\"#2a3f5f\",\"gridcolor\":\"white\",\"linecolor\":\"white\",\"minorgridcolor\":\"white\",\"startlinecolor\":\"#2a3f5f\"},\"type\":\"carpet\"}],\"choropleth\":[{\"colorbar\":{\"outlinewidth\":0,\"ticks\":\"\"},\"type\":\"choropleth\"}],\"contourcarpet\":[{\"colorbar\":{\"outlinewidth\":0,\"ticks\":\"\"},\"type\":\"contourcarpet\"}],\"contour\":[{\"colorbar\":{\"outlinewidth\":0,\"ticks\":\"\"},\"colorscale\":[[0.0,\"#0d0887\"],[0.1111111111111111,\"#46039f\"],[0.2222222222222222,\"#7201a8\"],[0.3333333333333333,\"#9c179e\"],[0.4444444444444444,\"#bd3786\"],[0.5555555555555556,\"#d8576b\"],[0.6666666666666666,\"#ed7953\"],[0.7777777777777778,\"#fb9f3a\"],[0.8888888888888888,\"#fdca26\"],[1.0,\"#f0f921\"]],\"type\":\"contour\"}],\"heatmapgl\":[{\"colorbar\":{\"outlinewidth\":0,\"ticks\":\"\"},\"colorscale\":[[0.0,\"#0d0887\"],[0.1111111111111111,\"#46039f\"],[0.2222222222222222,\"#7201a8\"],[0.3333333333333333,\"#9c179e\"],[0.4444444444444444,\"#bd3786\"],[0.5555555555555556,\"#d8576b\"],[0.6666666666666666,\"#ed7953\"],[0.7777777777777778,\"#fb9f3a\"],[0.8888888888888888,\"#fdca26\"],[1.0,\"#f0f921\"]],\"type\":\"heatmapgl\"}],\"heatmap\":[{\"colorbar\":{\"outlinewidth\":0,\"ticks\":\"\"},\"colorscale\":[[0.0,\"#0d0887\"],[0.1111111111111111,\"#46039f\"],[0.2222222222222222,\"#7201a8\"],[0.3333333333333333,\"#9c179e\"],[0.4444444444444444,\"#bd3786\"],[0.5555555555555556,\"#d8576b\"],[0.6666666666666666,\"#ed7953\"],[0.7777777777777778,\"#fb9f3a\"],[0.8888888888888888,\"#fdca26\"],[1.0,\"#f0f921\"]],\"type\":\"heatmap\"}],\"histogram2dcontour\":[{\"colorbar\":{\"outlinewidth\":0,\"ticks\":\"\"},\"colorscale\":[[0.0,\"#0d0887\"],[0.1111111111111111,\"#46039f\"],[0.2222222222222222,\"#7201a8\"],[0.3333333333333333,\"#9c179e\"],[0.4444444444444444,\"#bd3786\"],[0.5555555555555556,\"#d8576b\"],[0.6666666666666666,\"#ed7953\"],[0.7777777777777778,\"#fb9f3a\"],[0.8888888888888888,\"#fdca26\"],[1.0,\"#f0f921\"]],\"type\":\"histogram2dcontour\"}],\"histogram2d\":[{\"colorbar\":{\"outlinewidth\":0,\"ticks\":\"\"},\"colorscale\":[[0.0,\"#0d0887\"],[0.1111111111111111,\"#46039f\"],[0.2222222222222222,\"#7201a8\"],[0.3333333333333333,\"#9c179e\"],[0.4444444444444444,\"#bd3786\"],[0.5555555555555556,\"#d8576b\"],[0.6666666666666666,\"#ed7953\"],[0.7777777777777778,\"#fb9f3a\"],[0.8888888888888888,\"#fdca26\"],[1.0,\"#f0f921\"]],\"type\":\"histogram2d\"}],\"histogram\":[{\"marker\":{\"pattern\":{\"fillmode\":\"overlay\",\"size\":10,\"solidity\":0.2}},\"type\":\"histogram\"}],\"mesh3d\":[{\"colorbar\":{\"outlinewidth\":0,\"ticks\":\"\"},\"type\":\"mesh3d\"}],\"parcoords\":[{\"line\":{\"colorbar\":{\"outlinewidth\":0,\"ticks\":\"\"}},\"type\":\"parcoords\"}],\"pie\":[{\"automargin\":true,\"type\":\"pie\"}],\"scatter3d\":[{\"line\":{\"colorbar\":{\"outlinewidth\":0,\"ticks\":\"\"}},\"marker\":{\"colorbar\":{\"outlinewidth\":0,\"ticks\":\"\"}},\"type\":\"scatter3d\"}],\"scattercarpet\":[{\"marker\":{\"colorbar\":{\"outlinewidth\":0,\"ticks\":\"\"}},\"type\":\"scattercarpet\"}],\"scattergeo\":[{\"marker\":{\"colorbar\":{\"outlinewidth\":0,\"ticks\":\"\"}},\"type\":\"scattergeo\"}],\"scattergl\":[{\"marker\":{\"colorbar\":{\"outlinewidth\":0,\"ticks\":\"\"}},\"type\":\"scattergl\"}],\"scattermapbox\":[{\"marker\":{\"colorbar\":{\"outlinewidth\":0,\"ticks\":\"\"}},\"type\":\"scattermapbox\"}],\"scatterpolargl\":[{\"marker\":{\"colorbar\":{\"outlinewidth\":0,\"ticks\":\"\"}},\"type\":\"scatterpolargl\"}],\"scatterpolar\":[{\"marker\":{\"colorbar\":{\"outlinewidth\":0,\"ticks\":\"\"}},\"type\":\"scatterpolar\"}],\"scatter\":[{\"marker\":{\"colorbar\":{\"outlinewidth\":0,\"ticks\":\"\"}},\"type\":\"scatter\"}],\"scatterternary\":[{\"marker\":{\"colorbar\":{\"outlinewidth\":0,\"ticks\":\"\"}},\"type\":\"scatterternary\"}],\"surface\":[{\"colorbar\":{\"outlinewidth\":0,\"ticks\":\"\"},\"colorscale\":[[0.0,\"#0d0887\"],[0.1111111111111111,\"#46039f\"],[0.2222222222222222,\"#7201a8\"],[0.3333333333333333,\"#9c179e\"],[0.4444444444444444,\"#bd3786\"],[0.5555555555555556,\"#d8576b\"],[0.6666666666666666,\"#ed7953\"],[0.7777777777777778,\"#fb9f3a\"],[0.8888888888888888,\"#fdca26\"],[1.0,\"#f0f921\"]],\"type\":\"surface\"}],\"table\":[{\"cells\":{\"fill\":{\"color\":\"#EBF0F8\"},\"line\":{\"color\":\"white\"}},\"header\":{\"fill\":{\"color\":\"#C8D4E3\"},\"line\":{\"color\":\"white\"}},\"type\":\"table\"}]},\"layout\":{\"annotationdefaults\":{\"arrowcolor\":\"#2a3f5f\",\"arrowhead\":0,\"arrowwidth\":1},\"autotypenumbers\":\"strict\",\"coloraxis\":{\"colorbar\":{\"outlinewidth\":0,\"ticks\":\"\"}},\"colorscale\":{\"diverging\":[[0,\"#8e0152\"],[0.1,\"#c51b7d\"],[0.2,\"#de77ae\"],[0.3,\"#f1b6da\"],[0.4,\"#fde0ef\"],[0.5,\"#f7f7f7\"],[0.6,\"#e6f5d0\"],[0.7,\"#b8e186\"],[0.8,\"#7fbc41\"],[0.9,\"#4d9221\"],[1,\"#276419\"]],\"sequential\":[[0.0,\"#0d0887\"],[0.1111111111111111,\"#46039f\"],[0.2222222222222222,\"#7201a8\"],[0.3333333333333333,\"#9c179e\"],[0.4444444444444444,\"#bd3786\"],[0.5555555555555556,\"#d8576b\"],[0.6666666666666666,\"#ed7953\"],[0.7777777777777778,\"#fb9f3a\"],[0.8888888888888888,\"#fdca26\"],[1.0,\"#f0f921\"]],\"sequentialminus\":[[0.0,\"#0d0887\"],[0.1111111111111111,\"#46039f\"],[0.2222222222222222,\"#7201a8\"],[0.3333333333333333,\"#9c179e\"],[0.4444444444444444,\"#bd3786\"],[0.5555555555555556,\"#d8576b\"],[0.6666666666666666,\"#ed7953\"],[0.7777777777777778,\"#fb9f3a\"],[0.8888888888888888,\"#fdca26\"],[1.0,\"#f0f921\"]]},\"colorway\":[\"#636efa\",\"#EF553B\",\"#00cc96\",\"#ab63fa\",\"#FFA15A\",\"#19d3f3\",\"#FF6692\",\"#B6E880\",\"#FF97FF\",\"#FECB52\"],\"font\":{\"color\":\"#2a3f5f\"},\"geo\":{\"bgcolor\":\"white\",\"lakecolor\":\"white\",\"landcolor\":\"#E5ECF6\",\"showlakes\":true,\"showland\":true,\"subunitcolor\":\"white\"},\"hoverlabel\":{\"align\":\"left\"},\"hovermode\":\"closest\",\"mapbox\":{\"style\":\"light\"},\"paper_bgcolor\":\"white\",\"plot_bgcolor\":\"#E5ECF6\",\"polar\":{\"angularaxis\":{\"gridcolor\":\"white\",\"linecolor\":\"white\",\"ticks\":\"\"},\"bgcolor\":\"#E5ECF6\",\"radialaxis\":{\"gridcolor\":\"white\",\"linecolor\":\"white\",\"ticks\":\"\"}},\"scene\":{\"xaxis\":{\"backgroundcolor\":\"#E5ECF6\",\"gridcolor\":\"white\",\"gridwidth\":2,\"linecolor\":\"white\",\"showbackground\":true,\"ticks\":\"\",\"zerolinecolor\":\"white\"},\"yaxis\":{\"backgroundcolor\":\"#E5ECF6\",\"gridcolor\":\"white\",\"gridwidth\":2,\"linecolor\":\"white\",\"showbackground\":true,\"ticks\":\"\",\"zerolinecolor\":\"white\"},\"zaxis\":{\"backgroundcolor\":\"#E5ECF6\",\"gridcolor\":\"white\",\"gridwidth\":2,\"linecolor\":\"white\",\"showbackground\":true,\"ticks\":\"\",\"zerolinecolor\":\"white\"}},\"shapedefaults\":{\"line\":{\"color\":\"#2a3f5f\"}},\"ternary\":{\"aaxis\":{\"gridcolor\":\"white\",\"linecolor\":\"white\",\"ticks\":\"\"},\"baxis\":{\"gridcolor\":\"white\",\"linecolor\":\"white\",\"ticks\":\"\"},\"bgcolor\":\"#E5ECF6\",\"caxis\":{\"gridcolor\":\"white\",\"linecolor\":\"white\",\"ticks\":\"\"}},\"title\":{\"x\":0.05},\"xaxis\":{\"automargin\":true,\"gridcolor\":\"white\",\"linecolor\":\"white\",\"ticks\":\"\",\"title\":{\"standoff\":15},\"zerolinecolor\":\"white\",\"zerolinewidth\":2},\"yaxis\":{\"automargin\":true,\"gridcolor\":\"white\",\"linecolor\":\"white\",\"ticks\":\"\",\"title\":{\"standoff\":15},\"zerolinecolor\":\"white\",\"zerolinewidth\":2}}},\"title\":{\"text\":\"Histogram\"},\"width\":1000,\"xaxis\":{\"anchor\":\"y\",\"domain\":[0.0,1.0],\"title\":{\"text\":\"Country\"}},\"yaxis\":{\"anchor\":\"x\",\"domain\":[0.0,1.0],\"title\":{\"text\":\"count\"}}},                        {\"responsive\": true}                    ).then(function(){\n",
       "                            \n",
       "var gd = document.getElementById('c0d2ea2b-f6d5-4a4c-b6c5-2d39c7a7c4f0');\n",
       "var x = new MutationObserver(function (mutations, observer) {{\n",
       "        var display = window.getComputedStyle(gd).display;\n",
       "        if (!display || display === 'none') {{\n",
       "            console.log([gd, 'removed!']);\n",
       "            Plotly.purge(gd);\n",
       "            observer.disconnect();\n",
       "        }}\n",
       "}});\n",
       "\n",
       "// Listen for the removal of the full notebook cells\n",
       "var notebookContainer = gd.closest('#notebook-container');\n",
       "if (notebookContainer) {{\n",
       "    x.observe(notebookContainer, {childList: true});\n",
       "}}\n",
       "\n",
       "// Listen for the clearing of the current output cell\n",
       "var outputEl = gd.closest('.output');\n",
       "if (outputEl) {{\n",
       "    x.observe(outputEl, {childList: true});\n",
       "}}\n",
       "\n",
       "                        })                };                });            </script>        </div>"
      ]
     },
     "metadata": {},
     "output_type": "display_data"
    }
   ],
   "source": [
    "# Traces\n",
    "fig = px.histogram(qty_invc, x=\"Country\")\n",
    "\n",
    "\n",
    "# Layout\n",
    "fig['layout'].update(width=1000, height=600, title='Histogram');\n",
    "\n",
    "# Plot\n",
    "py.iplot(fig);"
   ]
  },
  {
   "cell_type": "markdown",
   "metadata": {
    "id": "OXbE5Hg6NAtF"
   },
   "source": [
    "#### 5. Create an interactive side-by-side bar chart showing the revenue by country listed below (bars) for each of the products listed below."
   ]
  },
  {
   "cell_type": "code",
   "execution_count": 40,
   "metadata": {
    "id": "VVGK5IofNAtG"
   },
   "outputs": [],
   "source": [
    "# Variables\n",
    "product_list = ['JUMBO BAG RED RETROSPOT', \n",
    "                'CREAM HANGING HEART T-LIGHT HOLDER',\n",
    "                'REGENCY CAKESTAND 3 TIER']\n",
    "\n",
    "country_list = ['EIRE', 'Germany', 'France', 'Netherlands']"
   ]
  },
  {
   "cell_type": "code",
   "execution_count": 42,
   "metadata": {
    "id": "mu4DdnxINAtG"
   },
   "outputs": [
    {
     "data": {
      "text/html": [
       "<div>\n",
       "<style scoped>\n",
       "    .dataframe tbody tr th:only-of-type {\n",
       "        vertical-align: middle;\n",
       "    }\n",
       "\n",
       "    .dataframe tbody tr th {\n",
       "        vertical-align: top;\n",
       "    }\n",
       "\n",
       "    .dataframe thead th {\n",
       "        text-align: right;\n",
       "    }\n",
       "</style>\n",
       "<table border=\"1\" class=\"dataframe\">\n",
       "  <thead>\n",
       "    <tr style=\"text-align: right;\">\n",
       "      <th>Description</th>\n",
       "      <th>CREAM HANGING HEART T-LIGHT HOLDER</th>\n",
       "      <th>JUMBO BAG RED RETROSPOT</th>\n",
       "      <th>REGENCY CAKESTAND 3 TIER</th>\n",
       "    </tr>\n",
       "    <tr>\n",
       "      <th>Country</th>\n",
       "      <th></th>\n",
       "      <th></th>\n",
       "      <th></th>\n",
       "    </tr>\n",
       "  </thead>\n",
       "  <tbody>\n",
       "    <tr>\n",
       "      <th>EIRE</th>\n",
       "      <td>2740.80</td>\n",
       "      <td>278.72</td>\n",
       "      <td>7388.55</td>\n",
       "    </tr>\n",
       "    <tr>\n",
       "      <th>France</th>\n",
       "      <td>131.75</td>\n",
       "      <td>903.37</td>\n",
       "      <td>2816.85</td>\n",
       "    </tr>\n",
       "    <tr>\n",
       "      <th>Germany</th>\n",
       "      <td>35.40</td>\n",
       "      <td>1072.76</td>\n",
       "      <td>9061.95</td>\n",
       "    </tr>\n",
       "    <tr>\n",
       "      <th>Netherlands</th>\n",
       "      <td>1167.00</td>\n",
       "      <td>3468.00</td>\n",
       "      <td>3166.35</td>\n",
       "    </tr>\n",
       "  </tbody>\n",
       "</table>\n",
       "</div>"
      ],
      "text/plain": [
       "Description  CREAM HANGING HEART T-LIGHT HOLDER  JUMBO BAG RED RETROSPOT  \\\n",
       "Country                                                                    \n",
       "EIRE                                    2740.80                   278.72   \n",
       "France                                   131.75                   903.37   \n",
       "Germany                                   35.40                  1072.76   \n",
       "Netherlands                             1167.00                  3468.00   \n",
       "\n",
       "Description  REGENCY CAKESTAND 3 TIER  \n",
       "Country                                \n",
       "EIRE                          7388.55  \n",
       "France                        2816.85  \n",
       "Germany                       9061.95  \n",
       "Netherlands                   3166.35  "
      ]
     },
     "execution_count": 42,
     "metadata": {},
     "output_type": "execute_result"
    }
   ],
   "source": [
    "# Transform the data\n",
    "rvn_country = data[data['Country'].isin(country_list) &\n",
    "                   data['Description'].isin(product_list)]\n",
    "rvn_country = rvn_country.pivot_table(index='Country', columns='Description', values='Revenue', aggfunc='sum');\n",
    "rvn_country"
   ]
  },
  {
   "cell_type": "code",
   "execution_count": 44,
   "metadata": {
    "id": "SuRiE0LdNAtG",
    "outputId": "3aabd795-6693-4f48-9abe-718db0dce2d5"
   },
   "outputs": [
    {
     "data": {
      "application/vnd.plotly.v1+json": {
       "config": {
        "linkText": "Export to plot.ly",
        "plotlyServerURL": "https://plot.ly",
        "showLink": false
       },
       "data": [
        {
         "name": "CREAM HANGING HEART T-LIGHT HOLDER",
         "type": "bar",
         "x": [
          "EIRE",
          "France",
          "Germany",
          "Netherlands"
         ],
         "y": [
          2740.8,
          131.75,
          35.40000000000001,
          1167
         ]
        },
        {
         "name": "JUMBO BAG RED RETROSPOT",
         "type": "bar",
         "x": [
          "EIRE",
          "France",
          "Germany",
          "Netherlands"
         ],
         "y": [
          278.72,
          903.37,
          1072.76,
          3468
         ]
        },
        {
         "name": "REGENCY CAKESTAND 3 TIER",
         "type": "bar",
         "x": [
          "EIRE",
          "France",
          "Germany",
          "Netherlands"
         ],
         "y": [
          7388.55,
          2816.85,
          9061.949999999999,
          3166.35
         ]
        }
       ],
       "layout": {
        "template": {
         "data": {
          "bar": [
           {
            "error_x": {
             "color": "#2a3f5f"
            },
            "error_y": {
             "color": "#2a3f5f"
            },
            "marker": {
             "line": {
              "color": "#E5ECF6",
              "width": 0.5
             },
             "pattern": {
              "fillmode": "overlay",
              "size": 10,
              "solidity": 0.2
             }
            },
            "type": "bar"
           }
          ],
          "barpolar": [
           {
            "marker": {
             "line": {
              "color": "#E5ECF6",
              "width": 0.5
             },
             "pattern": {
              "fillmode": "overlay",
              "size": 10,
              "solidity": 0.2
             }
            },
            "type": "barpolar"
           }
          ],
          "carpet": [
           {
            "aaxis": {
             "endlinecolor": "#2a3f5f",
             "gridcolor": "white",
             "linecolor": "white",
             "minorgridcolor": "white",
             "startlinecolor": "#2a3f5f"
            },
            "baxis": {
             "endlinecolor": "#2a3f5f",
             "gridcolor": "white",
             "linecolor": "white",
             "minorgridcolor": "white",
             "startlinecolor": "#2a3f5f"
            },
            "type": "carpet"
           }
          ],
          "choropleth": [
           {
            "colorbar": {
             "outlinewidth": 0,
             "ticks": ""
            },
            "type": "choropleth"
           }
          ],
          "contour": [
           {
            "colorbar": {
             "outlinewidth": 0,
             "ticks": ""
            },
            "colorscale": [
             [
              0,
              "#0d0887"
             ],
             [
              0.1111111111111111,
              "#46039f"
             ],
             [
              0.2222222222222222,
              "#7201a8"
             ],
             [
              0.3333333333333333,
              "#9c179e"
             ],
             [
              0.4444444444444444,
              "#bd3786"
             ],
             [
              0.5555555555555556,
              "#d8576b"
             ],
             [
              0.6666666666666666,
              "#ed7953"
             ],
             [
              0.7777777777777778,
              "#fb9f3a"
             ],
             [
              0.8888888888888888,
              "#fdca26"
             ],
             [
              1,
              "#f0f921"
             ]
            ],
            "type": "contour"
           }
          ],
          "contourcarpet": [
           {
            "colorbar": {
             "outlinewidth": 0,
             "ticks": ""
            },
            "type": "contourcarpet"
           }
          ],
          "heatmap": [
           {
            "colorbar": {
             "outlinewidth": 0,
             "ticks": ""
            },
            "colorscale": [
             [
              0,
              "#0d0887"
             ],
             [
              0.1111111111111111,
              "#46039f"
             ],
             [
              0.2222222222222222,
              "#7201a8"
             ],
             [
              0.3333333333333333,
              "#9c179e"
             ],
             [
              0.4444444444444444,
              "#bd3786"
             ],
             [
              0.5555555555555556,
              "#d8576b"
             ],
             [
              0.6666666666666666,
              "#ed7953"
             ],
             [
              0.7777777777777778,
              "#fb9f3a"
             ],
             [
              0.8888888888888888,
              "#fdca26"
             ],
             [
              1,
              "#f0f921"
             ]
            ],
            "type": "heatmap"
           }
          ],
          "heatmapgl": [
           {
            "colorbar": {
             "outlinewidth": 0,
             "ticks": ""
            },
            "colorscale": [
             [
              0,
              "#0d0887"
             ],
             [
              0.1111111111111111,
              "#46039f"
             ],
             [
              0.2222222222222222,
              "#7201a8"
             ],
             [
              0.3333333333333333,
              "#9c179e"
             ],
             [
              0.4444444444444444,
              "#bd3786"
             ],
             [
              0.5555555555555556,
              "#d8576b"
             ],
             [
              0.6666666666666666,
              "#ed7953"
             ],
             [
              0.7777777777777778,
              "#fb9f3a"
             ],
             [
              0.8888888888888888,
              "#fdca26"
             ],
             [
              1,
              "#f0f921"
             ]
            ],
            "type": "heatmapgl"
           }
          ],
          "histogram": [
           {
            "marker": {
             "pattern": {
              "fillmode": "overlay",
              "size": 10,
              "solidity": 0.2
             }
            },
            "type": "histogram"
           }
          ],
          "histogram2d": [
           {
            "colorbar": {
             "outlinewidth": 0,
             "ticks": ""
            },
            "colorscale": [
             [
              0,
              "#0d0887"
             ],
             [
              0.1111111111111111,
              "#46039f"
             ],
             [
              0.2222222222222222,
              "#7201a8"
             ],
             [
              0.3333333333333333,
              "#9c179e"
             ],
             [
              0.4444444444444444,
              "#bd3786"
             ],
             [
              0.5555555555555556,
              "#d8576b"
             ],
             [
              0.6666666666666666,
              "#ed7953"
             ],
             [
              0.7777777777777778,
              "#fb9f3a"
             ],
             [
              0.8888888888888888,
              "#fdca26"
             ],
             [
              1,
              "#f0f921"
             ]
            ],
            "type": "histogram2d"
           }
          ],
          "histogram2dcontour": [
           {
            "colorbar": {
             "outlinewidth": 0,
             "ticks": ""
            },
            "colorscale": [
             [
              0,
              "#0d0887"
             ],
             [
              0.1111111111111111,
              "#46039f"
             ],
             [
              0.2222222222222222,
              "#7201a8"
             ],
             [
              0.3333333333333333,
              "#9c179e"
             ],
             [
              0.4444444444444444,
              "#bd3786"
             ],
             [
              0.5555555555555556,
              "#d8576b"
             ],
             [
              0.6666666666666666,
              "#ed7953"
             ],
             [
              0.7777777777777778,
              "#fb9f3a"
             ],
             [
              0.8888888888888888,
              "#fdca26"
             ],
             [
              1,
              "#f0f921"
             ]
            ],
            "type": "histogram2dcontour"
           }
          ],
          "mesh3d": [
           {
            "colorbar": {
             "outlinewidth": 0,
             "ticks": ""
            },
            "type": "mesh3d"
           }
          ],
          "parcoords": [
           {
            "line": {
             "colorbar": {
              "outlinewidth": 0,
              "ticks": ""
             }
            },
            "type": "parcoords"
           }
          ],
          "pie": [
           {
            "automargin": true,
            "type": "pie"
           }
          ],
          "scatter": [
           {
            "marker": {
             "colorbar": {
              "outlinewidth": 0,
              "ticks": ""
             }
            },
            "type": "scatter"
           }
          ],
          "scatter3d": [
           {
            "line": {
             "colorbar": {
              "outlinewidth": 0,
              "ticks": ""
             }
            },
            "marker": {
             "colorbar": {
              "outlinewidth": 0,
              "ticks": ""
             }
            },
            "type": "scatter3d"
           }
          ],
          "scattercarpet": [
           {
            "marker": {
             "colorbar": {
              "outlinewidth": 0,
              "ticks": ""
             }
            },
            "type": "scattercarpet"
           }
          ],
          "scattergeo": [
           {
            "marker": {
             "colorbar": {
              "outlinewidth": 0,
              "ticks": ""
             }
            },
            "type": "scattergeo"
           }
          ],
          "scattergl": [
           {
            "marker": {
             "colorbar": {
              "outlinewidth": 0,
              "ticks": ""
             }
            },
            "type": "scattergl"
           }
          ],
          "scattermapbox": [
           {
            "marker": {
             "colorbar": {
              "outlinewidth": 0,
              "ticks": ""
             }
            },
            "type": "scattermapbox"
           }
          ],
          "scatterpolar": [
           {
            "marker": {
             "colorbar": {
              "outlinewidth": 0,
              "ticks": ""
             }
            },
            "type": "scatterpolar"
           }
          ],
          "scatterpolargl": [
           {
            "marker": {
             "colorbar": {
              "outlinewidth": 0,
              "ticks": ""
             }
            },
            "type": "scatterpolargl"
           }
          ],
          "scatterternary": [
           {
            "marker": {
             "colorbar": {
              "outlinewidth": 0,
              "ticks": ""
             }
            },
            "type": "scatterternary"
           }
          ],
          "surface": [
           {
            "colorbar": {
             "outlinewidth": 0,
             "ticks": ""
            },
            "colorscale": [
             [
              0,
              "#0d0887"
             ],
             [
              0.1111111111111111,
              "#46039f"
             ],
             [
              0.2222222222222222,
              "#7201a8"
             ],
             [
              0.3333333333333333,
              "#9c179e"
             ],
             [
              0.4444444444444444,
              "#bd3786"
             ],
             [
              0.5555555555555556,
              "#d8576b"
             ],
             [
              0.6666666666666666,
              "#ed7953"
             ],
             [
              0.7777777777777778,
              "#fb9f3a"
             ],
             [
              0.8888888888888888,
              "#fdca26"
             ],
             [
              1,
              "#f0f921"
             ]
            ],
            "type": "surface"
           }
          ],
          "table": [
           {
            "cells": {
             "fill": {
              "color": "#EBF0F8"
             },
             "line": {
              "color": "white"
             }
            },
            "header": {
             "fill": {
              "color": "#C8D4E3"
             },
             "line": {
              "color": "white"
             }
            },
            "type": "table"
           }
          ]
         },
         "layout": {
          "annotationdefaults": {
           "arrowcolor": "#2a3f5f",
           "arrowhead": 0,
           "arrowwidth": 1
          },
          "autotypenumbers": "strict",
          "coloraxis": {
           "colorbar": {
            "outlinewidth": 0,
            "ticks": ""
           }
          },
          "colorscale": {
           "diverging": [
            [
             0,
             "#8e0152"
            ],
            [
             0.1,
             "#c51b7d"
            ],
            [
             0.2,
             "#de77ae"
            ],
            [
             0.3,
             "#f1b6da"
            ],
            [
             0.4,
             "#fde0ef"
            ],
            [
             0.5,
             "#f7f7f7"
            ],
            [
             0.6,
             "#e6f5d0"
            ],
            [
             0.7,
             "#b8e186"
            ],
            [
             0.8,
             "#7fbc41"
            ],
            [
             0.9,
             "#4d9221"
            ],
            [
             1,
             "#276419"
            ]
           ],
           "sequential": [
            [
             0,
             "#0d0887"
            ],
            [
             0.1111111111111111,
             "#46039f"
            ],
            [
             0.2222222222222222,
             "#7201a8"
            ],
            [
             0.3333333333333333,
             "#9c179e"
            ],
            [
             0.4444444444444444,
             "#bd3786"
            ],
            [
             0.5555555555555556,
             "#d8576b"
            ],
            [
             0.6666666666666666,
             "#ed7953"
            ],
            [
             0.7777777777777778,
             "#fb9f3a"
            ],
            [
             0.8888888888888888,
             "#fdca26"
            ],
            [
             1,
             "#f0f921"
            ]
           ],
           "sequentialminus": [
            [
             0,
             "#0d0887"
            ],
            [
             0.1111111111111111,
             "#46039f"
            ],
            [
             0.2222222222222222,
             "#7201a8"
            ],
            [
             0.3333333333333333,
             "#9c179e"
            ],
            [
             0.4444444444444444,
             "#bd3786"
            ],
            [
             0.5555555555555556,
             "#d8576b"
            ],
            [
             0.6666666666666666,
             "#ed7953"
            ],
            [
             0.7777777777777778,
             "#fb9f3a"
            ],
            [
             0.8888888888888888,
             "#fdca26"
            ],
            [
             1,
             "#f0f921"
            ]
           ]
          },
          "colorway": [
           "#636efa",
           "#EF553B",
           "#00cc96",
           "#ab63fa",
           "#FFA15A",
           "#19d3f3",
           "#FF6692",
           "#B6E880",
           "#FF97FF",
           "#FECB52"
          ],
          "font": {
           "color": "#2a3f5f"
          },
          "geo": {
           "bgcolor": "white",
           "lakecolor": "white",
           "landcolor": "#E5ECF6",
           "showlakes": true,
           "showland": true,
           "subunitcolor": "white"
          },
          "hoverlabel": {
           "align": "left"
          },
          "hovermode": "closest",
          "mapbox": {
           "style": "light"
          },
          "paper_bgcolor": "white",
          "plot_bgcolor": "#E5ECF6",
          "polar": {
           "angularaxis": {
            "gridcolor": "white",
            "linecolor": "white",
            "ticks": ""
           },
           "bgcolor": "#E5ECF6",
           "radialaxis": {
            "gridcolor": "white",
            "linecolor": "white",
            "ticks": ""
           }
          },
          "scene": {
           "xaxis": {
            "backgroundcolor": "#E5ECF6",
            "gridcolor": "white",
            "gridwidth": 2,
            "linecolor": "white",
            "showbackground": true,
            "ticks": "",
            "zerolinecolor": "white"
           },
           "yaxis": {
            "backgroundcolor": "#E5ECF6",
            "gridcolor": "white",
            "gridwidth": 2,
            "linecolor": "white",
            "showbackground": true,
            "ticks": "",
            "zerolinecolor": "white"
           },
           "zaxis": {
            "backgroundcolor": "#E5ECF6",
            "gridcolor": "white",
            "gridwidth": 2,
            "linecolor": "white",
            "showbackground": true,
            "ticks": "",
            "zerolinecolor": "white"
           }
          },
          "shapedefaults": {
           "line": {
            "color": "#2a3f5f"
           }
          },
          "ternary": {
           "aaxis": {
            "gridcolor": "white",
            "linecolor": "white",
            "ticks": ""
           },
           "baxis": {
            "gridcolor": "white",
            "linecolor": "white",
            "ticks": ""
           },
           "bgcolor": "#E5ECF6",
           "caxis": {
            "gridcolor": "white",
            "linecolor": "white",
            "ticks": ""
           }
          },
          "title": {
           "x": 0.05
          },
          "xaxis": {
           "automargin": true,
           "gridcolor": "white",
           "linecolor": "white",
           "ticks": "",
           "title": {
            "standoff": 15
           },
           "zerolinecolor": "white",
           "zerolinewidth": 2
          },
          "yaxis": {
           "automargin": true,
           "gridcolor": "white",
           "linecolor": "white",
           "ticks": "",
           "title": {
            "standoff": 15
           },
           "zerolinecolor": "white",
           "zerolinewidth": 2
          }
         }
        },
        "title": {
         "text": "Total Revenue per country for given product"
        },
        "xaxis": {
         "title": {
          "text": "Country"
         }
        },
        "yaxis": {
         "title": {
          "text": "Total Revenue"
         }
        }
       }
      },
      "text/html": [
       "<div>                            <div id=\"d7f08e22-2054-4c62-87ca-fd44cb19ebd1\" class=\"plotly-graph-div\" style=\"height:525px; width:100%;\"></div>            <script type=\"text/javascript\">                require([\"plotly\"], function(Plotly) {                    window.PLOTLYENV=window.PLOTLYENV || {};                                    if (document.getElementById(\"d7f08e22-2054-4c62-87ca-fd44cb19ebd1\")) {                    Plotly.newPlot(                        \"d7f08e22-2054-4c62-87ca-fd44cb19ebd1\",                        [{\"name\":\"CREAM HANGING HEART T-LIGHT HOLDER\",\"x\":[\"EIRE\",\"France\",\"Germany\",\"Netherlands\"],\"y\":[2740.8,131.75,35.40000000000001,1167.0],\"type\":\"bar\"},{\"name\":\"JUMBO BAG RED RETROSPOT\",\"x\":[\"EIRE\",\"France\",\"Germany\",\"Netherlands\"],\"y\":[278.72,903.37,1072.76,3468.0],\"type\":\"bar\"},{\"name\":\"REGENCY CAKESTAND 3 TIER\",\"x\":[\"EIRE\",\"France\",\"Germany\",\"Netherlands\"],\"y\":[7388.55,2816.85,9061.949999999999,3166.35],\"type\":\"bar\"}],                        {\"template\":{\"data\":{\"barpolar\":[{\"marker\":{\"line\":{\"color\":\"#E5ECF6\",\"width\":0.5},\"pattern\":{\"fillmode\":\"overlay\",\"size\":10,\"solidity\":0.2}},\"type\":\"barpolar\"}],\"bar\":[{\"error_x\":{\"color\":\"#2a3f5f\"},\"error_y\":{\"color\":\"#2a3f5f\"},\"marker\":{\"line\":{\"color\":\"#E5ECF6\",\"width\":0.5},\"pattern\":{\"fillmode\":\"overlay\",\"size\":10,\"solidity\":0.2}},\"type\":\"bar\"}],\"carpet\":[{\"aaxis\":{\"endlinecolor\":\"#2a3f5f\",\"gridcolor\":\"white\",\"linecolor\":\"white\",\"minorgridcolor\":\"white\",\"startlinecolor\":\"#2a3f5f\"},\"baxis\":{\"endlinecolor\":\"#2a3f5f\",\"gridcolor\":\"white\",\"linecolor\":\"white\",\"minorgridcolor\":\"white\",\"startlinecolor\":\"#2a3f5f\"},\"type\":\"carpet\"}],\"choropleth\":[{\"colorbar\":{\"outlinewidth\":0,\"ticks\":\"\"},\"type\":\"choropleth\"}],\"contourcarpet\":[{\"colorbar\":{\"outlinewidth\":0,\"ticks\":\"\"},\"type\":\"contourcarpet\"}],\"contour\":[{\"colorbar\":{\"outlinewidth\":0,\"ticks\":\"\"},\"colorscale\":[[0.0,\"#0d0887\"],[0.1111111111111111,\"#46039f\"],[0.2222222222222222,\"#7201a8\"],[0.3333333333333333,\"#9c179e\"],[0.4444444444444444,\"#bd3786\"],[0.5555555555555556,\"#d8576b\"],[0.6666666666666666,\"#ed7953\"],[0.7777777777777778,\"#fb9f3a\"],[0.8888888888888888,\"#fdca26\"],[1.0,\"#f0f921\"]],\"type\":\"contour\"}],\"heatmapgl\":[{\"colorbar\":{\"outlinewidth\":0,\"ticks\":\"\"},\"colorscale\":[[0.0,\"#0d0887\"],[0.1111111111111111,\"#46039f\"],[0.2222222222222222,\"#7201a8\"],[0.3333333333333333,\"#9c179e\"],[0.4444444444444444,\"#bd3786\"],[0.5555555555555556,\"#d8576b\"],[0.6666666666666666,\"#ed7953\"],[0.7777777777777778,\"#fb9f3a\"],[0.8888888888888888,\"#fdca26\"],[1.0,\"#f0f921\"]],\"type\":\"heatmapgl\"}],\"heatmap\":[{\"colorbar\":{\"outlinewidth\":0,\"ticks\":\"\"},\"colorscale\":[[0.0,\"#0d0887\"],[0.1111111111111111,\"#46039f\"],[0.2222222222222222,\"#7201a8\"],[0.3333333333333333,\"#9c179e\"],[0.4444444444444444,\"#bd3786\"],[0.5555555555555556,\"#d8576b\"],[0.6666666666666666,\"#ed7953\"],[0.7777777777777778,\"#fb9f3a\"],[0.8888888888888888,\"#fdca26\"],[1.0,\"#f0f921\"]],\"type\":\"heatmap\"}],\"histogram2dcontour\":[{\"colorbar\":{\"outlinewidth\":0,\"ticks\":\"\"},\"colorscale\":[[0.0,\"#0d0887\"],[0.1111111111111111,\"#46039f\"],[0.2222222222222222,\"#7201a8\"],[0.3333333333333333,\"#9c179e\"],[0.4444444444444444,\"#bd3786\"],[0.5555555555555556,\"#d8576b\"],[0.6666666666666666,\"#ed7953\"],[0.7777777777777778,\"#fb9f3a\"],[0.8888888888888888,\"#fdca26\"],[1.0,\"#f0f921\"]],\"type\":\"histogram2dcontour\"}],\"histogram2d\":[{\"colorbar\":{\"outlinewidth\":0,\"ticks\":\"\"},\"colorscale\":[[0.0,\"#0d0887\"],[0.1111111111111111,\"#46039f\"],[0.2222222222222222,\"#7201a8\"],[0.3333333333333333,\"#9c179e\"],[0.4444444444444444,\"#bd3786\"],[0.5555555555555556,\"#d8576b\"],[0.6666666666666666,\"#ed7953\"],[0.7777777777777778,\"#fb9f3a\"],[0.8888888888888888,\"#fdca26\"],[1.0,\"#f0f921\"]],\"type\":\"histogram2d\"}],\"histogram\":[{\"marker\":{\"pattern\":{\"fillmode\":\"overlay\",\"size\":10,\"solidity\":0.2}},\"type\":\"histogram\"}],\"mesh3d\":[{\"colorbar\":{\"outlinewidth\":0,\"ticks\":\"\"},\"type\":\"mesh3d\"}],\"parcoords\":[{\"line\":{\"colorbar\":{\"outlinewidth\":0,\"ticks\":\"\"}},\"type\":\"parcoords\"}],\"pie\":[{\"automargin\":true,\"type\":\"pie\"}],\"scatter3d\":[{\"line\":{\"colorbar\":{\"outlinewidth\":0,\"ticks\":\"\"}},\"marker\":{\"colorbar\":{\"outlinewidth\":0,\"ticks\":\"\"}},\"type\":\"scatter3d\"}],\"scattercarpet\":[{\"marker\":{\"colorbar\":{\"outlinewidth\":0,\"ticks\":\"\"}},\"type\":\"scattercarpet\"}],\"scattergeo\":[{\"marker\":{\"colorbar\":{\"outlinewidth\":0,\"ticks\":\"\"}},\"type\":\"scattergeo\"}],\"scattergl\":[{\"marker\":{\"colorbar\":{\"outlinewidth\":0,\"ticks\":\"\"}},\"type\":\"scattergl\"}],\"scattermapbox\":[{\"marker\":{\"colorbar\":{\"outlinewidth\":0,\"ticks\":\"\"}},\"type\":\"scattermapbox\"}],\"scatterpolargl\":[{\"marker\":{\"colorbar\":{\"outlinewidth\":0,\"ticks\":\"\"}},\"type\":\"scatterpolargl\"}],\"scatterpolar\":[{\"marker\":{\"colorbar\":{\"outlinewidth\":0,\"ticks\":\"\"}},\"type\":\"scatterpolar\"}],\"scatter\":[{\"marker\":{\"colorbar\":{\"outlinewidth\":0,\"ticks\":\"\"}},\"type\":\"scatter\"}],\"scatterternary\":[{\"marker\":{\"colorbar\":{\"outlinewidth\":0,\"ticks\":\"\"}},\"type\":\"scatterternary\"}],\"surface\":[{\"colorbar\":{\"outlinewidth\":0,\"ticks\":\"\"},\"colorscale\":[[0.0,\"#0d0887\"],[0.1111111111111111,\"#46039f\"],[0.2222222222222222,\"#7201a8\"],[0.3333333333333333,\"#9c179e\"],[0.4444444444444444,\"#bd3786\"],[0.5555555555555556,\"#d8576b\"],[0.6666666666666666,\"#ed7953\"],[0.7777777777777778,\"#fb9f3a\"],[0.8888888888888888,\"#fdca26\"],[1.0,\"#f0f921\"]],\"type\":\"surface\"}],\"table\":[{\"cells\":{\"fill\":{\"color\":\"#EBF0F8\"},\"line\":{\"color\":\"white\"}},\"header\":{\"fill\":{\"color\":\"#C8D4E3\"},\"line\":{\"color\":\"white\"}},\"type\":\"table\"}]},\"layout\":{\"annotationdefaults\":{\"arrowcolor\":\"#2a3f5f\",\"arrowhead\":0,\"arrowwidth\":1},\"autotypenumbers\":\"strict\",\"coloraxis\":{\"colorbar\":{\"outlinewidth\":0,\"ticks\":\"\"}},\"colorscale\":{\"diverging\":[[0,\"#8e0152\"],[0.1,\"#c51b7d\"],[0.2,\"#de77ae\"],[0.3,\"#f1b6da\"],[0.4,\"#fde0ef\"],[0.5,\"#f7f7f7\"],[0.6,\"#e6f5d0\"],[0.7,\"#b8e186\"],[0.8,\"#7fbc41\"],[0.9,\"#4d9221\"],[1,\"#276419\"]],\"sequential\":[[0.0,\"#0d0887\"],[0.1111111111111111,\"#46039f\"],[0.2222222222222222,\"#7201a8\"],[0.3333333333333333,\"#9c179e\"],[0.4444444444444444,\"#bd3786\"],[0.5555555555555556,\"#d8576b\"],[0.6666666666666666,\"#ed7953\"],[0.7777777777777778,\"#fb9f3a\"],[0.8888888888888888,\"#fdca26\"],[1.0,\"#f0f921\"]],\"sequentialminus\":[[0.0,\"#0d0887\"],[0.1111111111111111,\"#46039f\"],[0.2222222222222222,\"#7201a8\"],[0.3333333333333333,\"#9c179e\"],[0.4444444444444444,\"#bd3786\"],[0.5555555555555556,\"#d8576b\"],[0.6666666666666666,\"#ed7953\"],[0.7777777777777778,\"#fb9f3a\"],[0.8888888888888888,\"#fdca26\"],[1.0,\"#f0f921\"]]},\"colorway\":[\"#636efa\",\"#EF553B\",\"#00cc96\",\"#ab63fa\",\"#FFA15A\",\"#19d3f3\",\"#FF6692\",\"#B6E880\",\"#FF97FF\",\"#FECB52\"],\"font\":{\"color\":\"#2a3f5f\"},\"geo\":{\"bgcolor\":\"white\",\"lakecolor\":\"white\",\"landcolor\":\"#E5ECF6\",\"showlakes\":true,\"showland\":true,\"subunitcolor\":\"white\"},\"hoverlabel\":{\"align\":\"left\"},\"hovermode\":\"closest\",\"mapbox\":{\"style\":\"light\"},\"paper_bgcolor\":\"white\",\"plot_bgcolor\":\"#E5ECF6\",\"polar\":{\"angularaxis\":{\"gridcolor\":\"white\",\"linecolor\":\"white\",\"ticks\":\"\"},\"bgcolor\":\"#E5ECF6\",\"radialaxis\":{\"gridcolor\":\"white\",\"linecolor\":\"white\",\"ticks\":\"\"}},\"scene\":{\"xaxis\":{\"backgroundcolor\":\"#E5ECF6\",\"gridcolor\":\"white\",\"gridwidth\":2,\"linecolor\":\"white\",\"showbackground\":true,\"ticks\":\"\",\"zerolinecolor\":\"white\"},\"yaxis\":{\"backgroundcolor\":\"#E5ECF6\",\"gridcolor\":\"white\",\"gridwidth\":2,\"linecolor\":\"white\",\"showbackground\":true,\"ticks\":\"\",\"zerolinecolor\":\"white\"},\"zaxis\":{\"backgroundcolor\":\"#E5ECF6\",\"gridcolor\":\"white\",\"gridwidth\":2,\"linecolor\":\"white\",\"showbackground\":true,\"ticks\":\"\",\"zerolinecolor\":\"white\"}},\"shapedefaults\":{\"line\":{\"color\":\"#2a3f5f\"}},\"ternary\":{\"aaxis\":{\"gridcolor\":\"white\",\"linecolor\":\"white\",\"ticks\":\"\"},\"baxis\":{\"gridcolor\":\"white\",\"linecolor\":\"white\",\"ticks\":\"\"},\"bgcolor\":\"#E5ECF6\",\"caxis\":{\"gridcolor\":\"white\",\"linecolor\":\"white\",\"ticks\":\"\"}},\"title\":{\"x\":0.05},\"xaxis\":{\"automargin\":true,\"gridcolor\":\"white\",\"linecolor\":\"white\",\"ticks\":\"\",\"title\":{\"standoff\":15},\"zerolinecolor\":\"white\",\"zerolinewidth\":2},\"yaxis\":{\"automargin\":true,\"gridcolor\":\"white\",\"linecolor\":\"white\",\"ticks\":\"\",\"title\":{\"standoff\":15},\"zerolinecolor\":\"white\",\"zerolinewidth\":2}}},\"title\":{\"text\":\"Total Revenue per country for given product\"},\"xaxis\":{\"title\":{\"text\":\"Country\"}},\"yaxis\":{\"title\":{\"text\":\"Total Revenue\"}}},                        {\"responsive\": true}                    ).then(function(){\n",
       "                            \n",
       "var gd = document.getElementById('d7f08e22-2054-4c62-87ca-fd44cb19ebd1');\n",
       "var x = new MutationObserver(function (mutations, observer) {{\n",
       "        var display = window.getComputedStyle(gd).display;\n",
       "        if (!display || display === 'none') {{\n",
       "            console.log([gd, 'removed!']);\n",
       "            Plotly.purge(gd);\n",
       "            observer.disconnect();\n",
       "        }}\n",
       "}});\n",
       "\n",
       "// Listen for the removal of the full notebook cells\n",
       "var notebookContainer = gd.closest('#notebook-container');\n",
       "if (notebookContainer) {{\n",
       "    x.observe(notebookContainer, {childList: true});\n",
       "}}\n",
       "\n",
       "// Listen for the clearing of the current output cell\n",
       "var outputEl = gd.closest('.output');\n",
       "if (outputEl) {{\n",
       "    x.observe(outputEl, {childList: true});\n",
       "}}\n",
       "\n",
       "                        })                };                });            </script>        </div>"
      ]
     },
     "metadata": {},
     "output_type": "display_data"
    }
   ],
   "source": [
    "# Traces\n",
    "traces = [\n",
    "\tgo.Bar(x=rvn_country.index, y=rvn_country['CREAM HANGING HEART T-LIGHT HOLDER'], name='CREAM HANGING HEART T-LIGHT HOLDER'),\n",
    "\tgo.Bar(x=rvn_country.index, y=rvn_country['JUMBO BAG RED RETROSPOT'], name='JUMBO BAG RED RETROSPOT'),\n",
    "\tgo.Bar(x=rvn_country.index, y=rvn_country['REGENCY CAKESTAND 3 TIER'], name='REGENCY CAKESTAND 3 TIER'),\n",
    "]\n",
    "# Layout\n",
    "layout = go.Layout(xaxis=go.layout.XAxis(title=go.layout.xaxis.Title(text='Country')),\n",
    "                   yaxis=go.layout.YAxis(title=go.layout.yaxis.Title(text='Total Revenue')),\n",
    "                   title=go.layout.Title(text='Total Revenue per country for given product'))\n",
    "\n",
    "# Plot\n",
    "py.iplot(go.Figure(data=traces, layout=layout));"
   ]
  },
  {
   "cell_type": "markdown",
   "metadata": {
    "id": "a59UtlFxNAtG"
   },
   "source": [
    "#### 6. Create an interactive line chart showing quantity sold by day for the United Kingdom. Add drop-down boxes for Year and Month that allow you to filter the date range that appears in the chart."
   ]
  },
  {
   "cell_type": "code",
   "execution_count": 55,
   "metadata": {
    "id": "t1v0acnwNAtH"
   },
   "outputs": [
    {
     "data": {
      "text/html": [
       "<div>\n",
       "<style scoped>\n",
       "    .dataframe tbody tr th:only-of-type {\n",
       "        vertical-align: middle;\n",
       "    }\n",
       "\n",
       "    .dataframe tbody tr th {\n",
       "        vertical-align: top;\n",
       "    }\n",
       "\n",
       "    .dataframe thead th {\n",
       "        text-align: right;\n",
       "    }\n",
       "</style>\n",
       "<table border=\"1\" class=\"dataframe\">\n",
       "  <thead>\n",
       "    <tr style=\"text-align: right;\">\n",
       "      <th></th>\n",
       "      <th>InvoiceNo</th>\n",
       "      <th>InvoiceDate</th>\n",
       "      <th>StockCode</th>\n",
       "      <th>Description</th>\n",
       "      <th>Quantity</th>\n",
       "      <th>UnitPrice</th>\n",
       "      <th>Revenue</th>\n",
       "      <th>CustomerID</th>\n",
       "      <th>Country</th>\n",
       "      <th>month</th>\n",
       "      <th>Year</th>\n",
       "      <th>Month</th>\n",
       "      <th>Day</th>\n",
       "    </tr>\n",
       "  </thead>\n",
       "  <tbody>\n",
       "    <tr>\n",
       "      <th>0</th>\n",
       "      <td>536365</td>\n",
       "      <td>2010-12-01 08:26:00</td>\n",
       "      <td>85123A</td>\n",
       "      <td>CREAM HANGING HEART T-LIGHT HOLDER</td>\n",
       "      <td>6</td>\n",
       "      <td>2.55</td>\n",
       "      <td>15.30</td>\n",
       "      <td>17850</td>\n",
       "      <td>United Kingdom</td>\n",
       "      <td>12</td>\n",
       "      <td>2010</td>\n",
       "      <td>12</td>\n",
       "      <td>1</td>\n",
       "    </tr>\n",
       "    <tr>\n",
       "      <th>1</th>\n",
       "      <td>536373</td>\n",
       "      <td>2010-12-01 09:02:00</td>\n",
       "      <td>85123A</td>\n",
       "      <td>CREAM HANGING HEART T-LIGHT HOLDER</td>\n",
       "      <td>6</td>\n",
       "      <td>2.55</td>\n",
       "      <td>15.30</td>\n",
       "      <td>17850</td>\n",
       "      <td>United Kingdom</td>\n",
       "      <td>12</td>\n",
       "      <td>2010</td>\n",
       "      <td>12</td>\n",
       "      <td>1</td>\n",
       "    </tr>\n",
       "    <tr>\n",
       "      <th>2</th>\n",
       "      <td>536375</td>\n",
       "      <td>2010-12-01 09:32:00</td>\n",
       "      <td>85123A</td>\n",
       "      <td>CREAM HANGING HEART T-LIGHT HOLDER</td>\n",
       "      <td>6</td>\n",
       "      <td>2.55</td>\n",
       "      <td>15.30</td>\n",
       "      <td>17850</td>\n",
       "      <td>United Kingdom</td>\n",
       "      <td>12</td>\n",
       "      <td>2010</td>\n",
       "      <td>12</td>\n",
       "      <td>1</td>\n",
       "    </tr>\n",
       "    <tr>\n",
       "      <th>3</th>\n",
       "      <td>536390</td>\n",
       "      <td>2010-12-01 10:19:00</td>\n",
       "      <td>85123A</td>\n",
       "      <td>CREAM HANGING HEART T-LIGHT HOLDER</td>\n",
       "      <td>64</td>\n",
       "      <td>2.55</td>\n",
       "      <td>163.20</td>\n",
       "      <td>17511</td>\n",
       "      <td>United Kingdom</td>\n",
       "      <td>12</td>\n",
       "      <td>2010</td>\n",
       "      <td>12</td>\n",
       "      <td>1</td>\n",
       "    </tr>\n",
       "    <tr>\n",
       "      <th>4</th>\n",
       "      <td>536394</td>\n",
       "      <td>2010-12-01 10:39:00</td>\n",
       "      <td>85123A</td>\n",
       "      <td>CREAM HANGING HEART T-LIGHT HOLDER</td>\n",
       "      <td>32</td>\n",
       "      <td>2.55</td>\n",
       "      <td>81.60</td>\n",
       "      <td>13408</td>\n",
       "      <td>United Kingdom</td>\n",
       "      <td>12</td>\n",
       "      <td>2010</td>\n",
       "      <td>12</td>\n",
       "      <td>1</td>\n",
       "    </tr>\n",
       "    <tr>\n",
       "      <th>...</th>\n",
       "      <td>...</td>\n",
       "      <td>...</td>\n",
       "      <td>...</td>\n",
       "      <td>...</td>\n",
       "      <td>...</td>\n",
       "      <td>...</td>\n",
       "      <td>...</td>\n",
       "      <td>...</td>\n",
       "      <td>...</td>\n",
       "      <td>...</td>\n",
       "      <td>...</td>\n",
       "      <td>...</td>\n",
       "      <td>...</td>\n",
       "    </tr>\n",
       "    <tr>\n",
       "      <th>396029</th>\n",
       "      <td>580691</td>\n",
       "      <td>2011-12-05 15:48:00</td>\n",
       "      <td>90214W</td>\n",
       "      <td>LETTER \"W\" BLING KEY RING</td>\n",
       "      <td>12</td>\n",
       "      <td>0.29</td>\n",
       "      <td>3.48</td>\n",
       "      <td>13790</td>\n",
       "      <td>United Kingdom</td>\n",
       "      <td>12</td>\n",
       "      <td>2011</td>\n",
       "      <td>12</td>\n",
       "      <td>5</td>\n",
       "    </tr>\n",
       "    <tr>\n",
       "      <th>396030</th>\n",
       "      <td>580691</td>\n",
       "      <td>2011-12-05 15:48:00</td>\n",
       "      <td>90214Z</td>\n",
       "      <td>LETTER \"Z\" BLING KEY RING</td>\n",
       "      <td>12</td>\n",
       "      <td>0.29</td>\n",
       "      <td>3.48</td>\n",
       "      <td>13790</td>\n",
       "      <td>United Kingdom</td>\n",
       "      <td>12</td>\n",
       "      <td>2011</td>\n",
       "      <td>12</td>\n",
       "      <td>5</td>\n",
       "    </tr>\n",
       "    <tr>\n",
       "      <th>396031</th>\n",
       "      <td>580865</td>\n",
       "      <td>2011-12-06 11:58:00</td>\n",
       "      <td>90089</td>\n",
       "      <td>PINK CRYSTAL SKULL PHONE CHARM</td>\n",
       "      <td>12</td>\n",
       "      <td>0.19</td>\n",
       "      <td>2.28</td>\n",
       "      <td>17914</td>\n",
       "      <td>United Kingdom</td>\n",
       "      <td>12</td>\n",
       "      <td>2011</td>\n",
       "      <td>12</td>\n",
       "      <td>6</td>\n",
       "    </tr>\n",
       "    <tr>\n",
       "      <th>396032</th>\n",
       "      <td>580865</td>\n",
       "      <td>2011-12-06 11:58:00</td>\n",
       "      <td>90089</td>\n",
       "      <td>PINK CRYSTAL SKULL PHONE CHARM</td>\n",
       "      <td>12</td>\n",
       "      <td>0.19</td>\n",
       "      <td>2.28</td>\n",
       "      <td>17914</td>\n",
       "      <td>United Kingdom</td>\n",
       "      <td>12</td>\n",
       "      <td>2011</td>\n",
       "      <td>12</td>\n",
       "      <td>6</td>\n",
       "    </tr>\n",
       "    <tr>\n",
       "      <th>396033</th>\n",
       "      <td>581425</td>\n",
       "      <td>2011-12-08 15:31:00</td>\n",
       "      <td>90089</td>\n",
       "      <td>PINK CRYSTAL SKULL PHONE CHARM</td>\n",
       "      <td>1</td>\n",
       "      <td>0.19</td>\n",
       "      <td>0.19</td>\n",
       "      <td>14796</td>\n",
       "      <td>United Kingdom</td>\n",
       "      <td>12</td>\n",
       "      <td>2011</td>\n",
       "      <td>12</td>\n",
       "      <td>8</td>\n",
       "    </tr>\n",
       "  </tbody>\n",
       "</table>\n",
       "<p>353983 rows × 13 columns</p>\n",
       "</div>"
      ],
      "text/plain": [
       "        InvoiceNo         InvoiceDate StockCode  \\\n",
       "0          536365 2010-12-01 08:26:00    85123A   \n",
       "1          536373 2010-12-01 09:02:00    85123A   \n",
       "2          536375 2010-12-01 09:32:00    85123A   \n",
       "3          536390 2010-12-01 10:19:00    85123A   \n",
       "4          536394 2010-12-01 10:39:00    85123A   \n",
       "...           ...                 ...       ...   \n",
       "396029     580691 2011-12-05 15:48:00    90214W   \n",
       "396030     580691 2011-12-05 15:48:00    90214Z   \n",
       "396031     580865 2011-12-06 11:58:00     90089   \n",
       "396032     580865 2011-12-06 11:58:00     90089   \n",
       "396033     581425 2011-12-08 15:31:00     90089   \n",
       "\n",
       "                               Description  Quantity  UnitPrice  Revenue  \\\n",
       "0       CREAM HANGING HEART T-LIGHT HOLDER         6       2.55    15.30   \n",
       "1       CREAM HANGING HEART T-LIGHT HOLDER         6       2.55    15.30   \n",
       "2       CREAM HANGING HEART T-LIGHT HOLDER         6       2.55    15.30   \n",
       "3       CREAM HANGING HEART T-LIGHT HOLDER        64       2.55   163.20   \n",
       "4       CREAM HANGING HEART T-LIGHT HOLDER        32       2.55    81.60   \n",
       "...                                    ...       ...        ...      ...   \n",
       "396029           LETTER \"W\" BLING KEY RING        12       0.29     3.48   \n",
       "396030           LETTER \"Z\" BLING KEY RING        12       0.29     3.48   \n",
       "396031      PINK CRYSTAL SKULL PHONE CHARM        12       0.19     2.28   \n",
       "396032      PINK CRYSTAL SKULL PHONE CHARM        12       0.19     2.28   \n",
       "396033      PINK CRYSTAL SKULL PHONE CHARM         1       0.19     0.19   \n",
       "\n",
       "        CustomerID         Country  month  Year  Month  Day  \n",
       "0            17850  United Kingdom     12  2010     12    1  \n",
       "1            17850  United Kingdom     12  2010     12    1  \n",
       "2            17850  United Kingdom     12  2010     12    1  \n",
       "3            17511  United Kingdom     12  2010     12    1  \n",
       "4            13408  United Kingdom     12  2010     12    1  \n",
       "...            ...             ...    ...   ...    ...  ...  \n",
       "396029       13790  United Kingdom     12  2011     12    5  \n",
       "396030       13790  United Kingdom     12  2011     12    5  \n",
       "396031       17914  United Kingdom     12  2011     12    6  \n",
       "396032       17914  United Kingdom     12  2011     12    6  \n",
       "396033       14796  United Kingdom     12  2011     12    8  \n",
       "\n",
       "[353983 rows x 13 columns]"
      ]
     },
     "execution_count": 55,
     "metadata": {},
     "output_type": "execute_result"
    }
   ],
   "source": [
    "# Transform the data\n",
    "data['Year'] = pd.DatetimeIndex(data['InvoiceDate']).year;\n",
    "data['Month'] = pd.DatetimeIndex(data['InvoiceDate']).month;\n",
    "data['Day'] = pd.DatetimeIndex(data['InvoiceDate']).day;\n",
    "uk = data[data['Country']=='United Kingdom'];\n",
    "uk"
   ]
  },
  {
   "cell_type": "code",
   "execution_count": 57,
   "metadata": {
    "id": "84QsN0n3NAtH"
   },
   "outputs": [],
   "source": [
    "# Variables\n",
    "years = uk['Year'].unique();\n",
    "months = uk['Month'].unique();\n",
    "months.sort();\n"
   ]
  },
  {
   "cell_type": "code",
   "execution_count": 58,
   "metadata": {},
   "outputs": [
    {
     "data": {
      "text/html": [
       "<div>\n",
       "<style scoped>\n",
       "    .dataframe tbody tr th:only-of-type {\n",
       "        vertical-align: middle;\n",
       "    }\n",
       "\n",
       "    .dataframe tbody tr th {\n",
       "        vertical-align: top;\n",
       "    }\n",
       "\n",
       "    .dataframe thead th {\n",
       "        text-align: right;\n",
       "    }\n",
       "</style>\n",
       "<table border=\"1\" class=\"dataframe\">\n",
       "  <thead>\n",
       "    <tr style=\"text-align: right;\">\n",
       "      <th></th>\n",
       "      <th>InvoiceDate</th>\n",
       "      <th>InvoiceNo</th>\n",
       "      <th>Quantity</th>\n",
       "      <th>UnitPrice</th>\n",
       "      <th>Revenue</th>\n",
       "      <th>CustomerID</th>\n",
       "      <th>month</th>\n",
       "      <th>Year</th>\n",
       "      <th>Month</th>\n",
       "      <th>Day</th>\n",
       "    </tr>\n",
       "  </thead>\n",
       "  <tbody>\n",
       "    <tr>\n",
       "      <th>0</th>\n",
       "      <td>2010-12-01 08:26:00</td>\n",
       "      <td>3754555</td>\n",
       "      <td>40</td>\n",
       "      <td>27.37</td>\n",
       "      <td>139.12</td>\n",
       "      <td>124950</td>\n",
       "      <td>84</td>\n",
       "      <td>14070</td>\n",
       "      <td>84</td>\n",
       "      <td>7</td>\n",
       "    </tr>\n",
       "    <tr>\n",
       "      <th>1</th>\n",
       "      <td>2010-12-01 08:28:00</td>\n",
       "      <td>1072732</td>\n",
       "      <td>12</td>\n",
       "      <td>3.70</td>\n",
       "      <td>22.20</td>\n",
       "      <td>35700</td>\n",
       "      <td>24</td>\n",
       "      <td>4020</td>\n",
       "      <td>24</td>\n",
       "      <td>2</td>\n",
       "    </tr>\n",
       "    <tr>\n",
       "      <th>2</th>\n",
       "      <td>2010-12-01 08:34:00</td>\n",
       "      <td>8581876</td>\n",
       "      <td>98</td>\n",
       "      <td>77.34</td>\n",
       "      <td>348.78</td>\n",
       "      <td>208752</td>\n",
       "      <td>192</td>\n",
       "      <td>32160</td>\n",
       "      <td>192</td>\n",
       "      <td>16</td>\n",
       "    </tr>\n",
       "    <tr>\n",
       "      <th>3</th>\n",
       "      <td>2010-12-01 08:35:00</td>\n",
       "      <td>536369</td>\n",
       "      <td>3</td>\n",
       "      <td>5.95</td>\n",
       "      <td>17.85</td>\n",
       "      <td>13047</td>\n",
       "      <td>12</td>\n",
       "      <td>2010</td>\n",
       "      <td>12</td>\n",
       "      <td>1</td>\n",
       "    </tr>\n",
       "    <tr>\n",
       "      <th>4</th>\n",
       "      <td>2010-12-01 09:00:00</td>\n",
       "      <td>536371</td>\n",
       "      <td>80</td>\n",
       "      <td>2.55</td>\n",
       "      <td>204.00</td>\n",
       "      <td>13748</td>\n",
       "      <td>12</td>\n",
       "      <td>2010</td>\n",
       "      <td>12</td>\n",
       "      <td>1</td>\n",
       "    </tr>\n",
       "    <tr>\n",
       "      <th>...</th>\n",
       "      <td>...</td>\n",
       "      <td>...</td>\n",
       "      <td>...</td>\n",
       "      <td>...</td>\n",
       "      <td>...</td>\n",
       "      <td>...</td>\n",
       "      <td>...</td>\n",
       "      <td>...</td>\n",
       "      <td>...</td>\n",
       "      <td>...</td>\n",
       "    </tr>\n",
       "    <tr>\n",
       "      <th>15548</th>\n",
       "      <td>2011-12-09 12:21:00</td>\n",
       "      <td>1163164</td>\n",
       "      <td>18</td>\n",
       "      <td>3.53</td>\n",
       "      <td>29.88</td>\n",
       "      <td>35162</td>\n",
       "      <td>24</td>\n",
       "      <td>4022</td>\n",
       "      <td>24</td>\n",
       "      <td>18</td>\n",
       "    </tr>\n",
       "    <tr>\n",
       "      <th>15549</th>\n",
       "      <td>2011-12-09 12:23:00</td>\n",
       "      <td>1163166</td>\n",
       "      <td>76</td>\n",
       "      <td>3.30</td>\n",
       "      <td>124.60</td>\n",
       "      <td>27554</td>\n",
       "      <td>24</td>\n",
       "      <td>4022</td>\n",
       "      <td>24</td>\n",
       "      <td>18</td>\n",
       "    </tr>\n",
       "    <tr>\n",
       "      <th>15550</th>\n",
       "      <td>2011-12-09 12:25:00</td>\n",
       "      <td>1163168</td>\n",
       "      <td>120</td>\n",
       "      <td>2.57</td>\n",
       "      <td>140.64</td>\n",
       "      <td>27554</td>\n",
       "      <td>24</td>\n",
       "      <td>4022</td>\n",
       "      <td>24</td>\n",
       "      <td>18</td>\n",
       "    </tr>\n",
       "    <tr>\n",
       "      <th>15551</th>\n",
       "      <td>2011-12-09 12:31:00</td>\n",
       "      <td>12213285</td>\n",
       "      <td>278</td>\n",
       "      <td>37.78</td>\n",
       "      <td>329.05</td>\n",
       "      <td>331884</td>\n",
       "      <td>252</td>\n",
       "      <td>42231</td>\n",
       "      <td>252</td>\n",
       "      <td>189</td>\n",
       "    </tr>\n",
       "    <tr>\n",
       "      <th>15552</th>\n",
       "      <td>2011-12-09 12:49:00</td>\n",
       "      <td>2326344</td>\n",
       "      <td>66</td>\n",
       "      <td>20.23</td>\n",
       "      <td>339.20</td>\n",
       "      <td>52452</td>\n",
       "      <td>48</td>\n",
       "      <td>8044</td>\n",
       "      <td>48</td>\n",
       "      <td>36</td>\n",
       "    </tr>\n",
       "  </tbody>\n",
       "</table>\n",
       "<p>15553 rows × 10 columns</p>\n",
       "</div>"
      ],
      "text/plain": [
       "              InvoiceDate  InvoiceNo  Quantity  UnitPrice  Revenue  \\\n",
       "0     2010-12-01 08:26:00    3754555        40      27.37   139.12   \n",
       "1     2010-12-01 08:28:00    1072732        12       3.70    22.20   \n",
       "2     2010-12-01 08:34:00    8581876        98      77.34   348.78   \n",
       "3     2010-12-01 08:35:00     536369         3       5.95    17.85   \n",
       "4     2010-12-01 09:00:00     536371        80       2.55   204.00   \n",
       "...                   ...        ...       ...        ...      ...   \n",
       "15548 2011-12-09 12:21:00    1163164        18       3.53    29.88   \n",
       "15549 2011-12-09 12:23:00    1163166        76       3.30   124.60   \n",
       "15550 2011-12-09 12:25:00    1163168       120       2.57   140.64   \n",
       "15551 2011-12-09 12:31:00   12213285       278      37.78   329.05   \n",
       "15552 2011-12-09 12:49:00    2326344        66      20.23   339.20   \n",
       "\n",
       "       CustomerID  month   Year  Month  Day  \n",
       "0          124950     84  14070     84    7  \n",
       "1           35700     24   4020     24    2  \n",
       "2          208752    192  32160    192   16  \n",
       "3           13047     12   2010     12    1  \n",
       "4           13748     12   2010     12    1  \n",
       "...           ...    ...    ...    ...  ...  \n",
       "15548       35162     24   4022     24   18  \n",
       "15549       27554     24   4022     24   18  \n",
       "15550       27554     24   4022     24   18  \n",
       "15551      331884    252  42231    252  189  \n",
       "15552       52452     48   8044     48   36  \n",
       "\n",
       "[15553 rows x 10 columns]"
      ]
     },
     "execution_count": 58,
     "metadata": {},
     "output_type": "execute_result"
    }
   ],
   "source": [
    "uk = uk.groupby(uk['InvoiceDate'], as_index=False).sum()\n",
    "uk"
   ]
  },
  {
   "cell_type": "code",
   "execution_count": 59,
   "metadata": {},
   "outputs": [
    {
     "data": {
      "text/html": [
       "<div>\n",
       "<style scoped>\n",
       "    .dataframe tbody tr th:only-of-type {\n",
       "        vertical-align: middle;\n",
       "    }\n",
       "\n",
       "    .dataframe tbody tr th {\n",
       "        vertical-align: top;\n",
       "    }\n",
       "\n",
       "    .dataframe thead th {\n",
       "        text-align: right;\n",
       "    }\n",
       "</style>\n",
       "<table border=\"1\" class=\"dataframe\">\n",
       "  <thead>\n",
       "    <tr style=\"text-align: right;\">\n",
       "      <th></th>\n",
       "      <th>InvoiceDate</th>\n",
       "      <th>InvoiceNo</th>\n",
       "      <th>Quantity</th>\n",
       "      <th>UnitPrice</th>\n",
       "      <th>Revenue</th>\n",
       "      <th>CustomerID</th>\n",
       "      <th>month</th>\n",
       "      <th>Year</th>\n",
       "      <th>Month</th>\n",
       "      <th>Day</th>\n",
       "    </tr>\n",
       "  </thead>\n",
       "  <tbody>\n",
       "    <tr>\n",
       "      <th>0</th>\n",
       "      <td>2010-12-01 08:26:00</td>\n",
       "      <td>3754555</td>\n",
       "      <td>40</td>\n",
       "      <td>27.37</td>\n",
       "      <td>139.12</td>\n",
       "      <td>124950</td>\n",
       "      <td>84</td>\n",
       "      <td>14070</td>\n",
       "      <td>84</td>\n",
       "      <td>7</td>\n",
       "    </tr>\n",
       "    <tr>\n",
       "      <th>1</th>\n",
       "      <td>2010-12-01 08:28:00</td>\n",
       "      <td>1072732</td>\n",
       "      <td>12</td>\n",
       "      <td>3.70</td>\n",
       "      <td>22.20</td>\n",
       "      <td>35700</td>\n",
       "      <td>24</td>\n",
       "      <td>4020</td>\n",
       "      <td>24</td>\n",
       "      <td>2</td>\n",
       "    </tr>\n",
       "    <tr>\n",
       "      <th>2</th>\n",
       "      <td>2010-12-01 08:34:00</td>\n",
       "      <td>8581876</td>\n",
       "      <td>98</td>\n",
       "      <td>77.34</td>\n",
       "      <td>348.78</td>\n",
       "      <td>208752</td>\n",
       "      <td>192</td>\n",
       "      <td>32160</td>\n",
       "      <td>192</td>\n",
       "      <td>16</td>\n",
       "    </tr>\n",
       "    <tr>\n",
       "      <th>3</th>\n",
       "      <td>2010-12-01 08:35:00</td>\n",
       "      <td>536369</td>\n",
       "      <td>3</td>\n",
       "      <td>5.95</td>\n",
       "      <td>17.85</td>\n",
       "      <td>13047</td>\n",
       "      <td>12</td>\n",
       "      <td>2010</td>\n",
       "      <td>12</td>\n",
       "      <td>1</td>\n",
       "    </tr>\n",
       "    <tr>\n",
       "      <th>4</th>\n",
       "      <td>2010-12-01 09:00:00</td>\n",
       "      <td>536371</td>\n",
       "      <td>80</td>\n",
       "      <td>2.55</td>\n",
       "      <td>204.00</td>\n",
       "      <td>13748</td>\n",
       "      <td>12</td>\n",
       "      <td>2010</td>\n",
       "      <td>12</td>\n",
       "      <td>1</td>\n",
       "    </tr>\n",
       "    <tr>\n",
       "      <th>...</th>\n",
       "      <td>...</td>\n",
       "      <td>...</td>\n",
       "      <td>...</td>\n",
       "      <td>...</td>\n",
       "      <td>...</td>\n",
       "      <td>...</td>\n",
       "      <td>...</td>\n",
       "      <td>...</td>\n",
       "      <td>...</td>\n",
       "      <td>...</td>\n",
       "    </tr>\n",
       "    <tr>\n",
       "      <th>15548</th>\n",
       "      <td>2011-12-09 12:21:00</td>\n",
       "      <td>1163164</td>\n",
       "      <td>18</td>\n",
       "      <td>3.53</td>\n",
       "      <td>29.88</td>\n",
       "      <td>35162</td>\n",
       "      <td>24</td>\n",
       "      <td>4022</td>\n",
       "      <td>24</td>\n",
       "      <td>18</td>\n",
       "    </tr>\n",
       "    <tr>\n",
       "      <th>15549</th>\n",
       "      <td>2011-12-09 12:23:00</td>\n",
       "      <td>1163166</td>\n",
       "      <td>76</td>\n",
       "      <td>3.30</td>\n",
       "      <td>124.60</td>\n",
       "      <td>27554</td>\n",
       "      <td>24</td>\n",
       "      <td>4022</td>\n",
       "      <td>24</td>\n",
       "      <td>18</td>\n",
       "    </tr>\n",
       "    <tr>\n",
       "      <th>15550</th>\n",
       "      <td>2011-12-09 12:25:00</td>\n",
       "      <td>1163168</td>\n",
       "      <td>120</td>\n",
       "      <td>2.57</td>\n",
       "      <td>140.64</td>\n",
       "      <td>27554</td>\n",
       "      <td>24</td>\n",
       "      <td>4022</td>\n",
       "      <td>24</td>\n",
       "      <td>18</td>\n",
       "    </tr>\n",
       "    <tr>\n",
       "      <th>15551</th>\n",
       "      <td>2011-12-09 12:31:00</td>\n",
       "      <td>12213285</td>\n",
       "      <td>278</td>\n",
       "      <td>37.78</td>\n",
       "      <td>329.05</td>\n",
       "      <td>331884</td>\n",
       "      <td>252</td>\n",
       "      <td>42231</td>\n",
       "      <td>252</td>\n",
       "      <td>189</td>\n",
       "    </tr>\n",
       "    <tr>\n",
       "      <th>15552</th>\n",
       "      <td>2011-12-09 12:49:00</td>\n",
       "      <td>2326344</td>\n",
       "      <td>66</td>\n",
       "      <td>20.23</td>\n",
       "      <td>339.20</td>\n",
       "      <td>52452</td>\n",
       "      <td>48</td>\n",
       "      <td>8044</td>\n",
       "      <td>48</td>\n",
       "      <td>36</td>\n",
       "    </tr>\n",
       "  </tbody>\n",
       "</table>\n",
       "<p>15553 rows × 10 columns</p>\n",
       "</div>"
      ],
      "text/plain": [
       "              InvoiceDate  InvoiceNo  Quantity  UnitPrice  Revenue  \\\n",
       "0     2010-12-01 08:26:00    3754555        40      27.37   139.12   \n",
       "1     2010-12-01 08:28:00    1072732        12       3.70    22.20   \n",
       "2     2010-12-01 08:34:00    8581876        98      77.34   348.78   \n",
       "3     2010-12-01 08:35:00     536369         3       5.95    17.85   \n",
       "4     2010-12-01 09:00:00     536371        80       2.55   204.00   \n",
       "...                   ...        ...       ...        ...      ...   \n",
       "15548 2011-12-09 12:21:00    1163164        18       3.53    29.88   \n",
       "15549 2011-12-09 12:23:00    1163166        76       3.30   124.60   \n",
       "15550 2011-12-09 12:25:00    1163168       120       2.57   140.64   \n",
       "15551 2011-12-09 12:31:00   12213285       278      37.78   329.05   \n",
       "15552 2011-12-09 12:49:00    2326344        66      20.23   339.20   \n",
       "\n",
       "       CustomerID  month   Year  Month  Day  \n",
       "0          124950     84  14070     84    7  \n",
       "1           35700     24   4020     24    2  \n",
       "2          208752    192  32160    192   16  \n",
       "3           13047     12   2010     12    1  \n",
       "4           13748     12   2010     12    1  \n",
       "...           ...    ...    ...    ...  ...  \n",
       "15548       35162     24   4022     24   18  \n",
       "15549       27554     24   4022     24   18  \n",
       "15550       27554     24   4022     24   18  \n",
       "15551      331884    252  42231    252  189  \n",
       "15552       52452     48   8044     48   36  \n",
       "\n",
       "[15553 rows x 10 columns]"
      ]
     },
     "execution_count": 59,
     "metadata": {},
     "output_type": "execute_result"
    }
   ],
   "source": [
    "uk"
   ]
  },
  {
   "cell_type": "code",
   "execution_count": 49,
   "metadata": {
    "colab": {
     "referenced_widgets": [
      "32df48c1d431443bb2f121f23202ae9b"
     ]
    },
    "id": "HKRGdmQ5NAtH",
    "outputId": "86c73a78-39ca-495c-f03d-1925da9c013a"
   },
   "outputs": [
    {
     "data": {
      "application/vnd.jupyter.widget-view+json": {
       "model_id": "d78aaf7373a6448d8b3e7c73be4985b4",
       "version_major": 2,
       "version_minor": 0
      },
      "text/plain": [
       "interactive(children=(Dropdown(description='year', index=1, options=(2010, 2011), value=2011), Dropdown(descri…"
      ]
     },
     "metadata": {},
     "output_type": "display_data"
    }
   ],
   "source": [
    "# Interactive menu\n",
    "@interact(year=years, \n",
    "          month=months)\n",
    "\n",
    "# Update function\n",
    "def linechart(year=2011, month=4):\n",
    "    # Transform the data\n",
    "    uk_data= uk[(uk['Year']== year) & (uk['Month']== month)]\n",
    "    # Traces\n",
    "    trace = go.Line(x=uk_data.Day, y=uk_data.Quantity)\n",
    "  \n",
    "    # Layout\n",
    "    layout = go.Layout(xaxis=go.layout.XAxis(title=go.layout.xaxis.Title(text='Day')),\n",
    "                   yaxis=go.layout.YAxis(title=go.layout.yaxis.Title(text='Total Quqntity')),\n",
    "                   title=go.layout.Title(text='Quantity for a given month and year'))\n",
    "   \n",
    "    # Plot\n",
    "    return py.iplot(go.Figure(data=trace, layout=layout));\n",
    " "
   ]
  },
  {
   "cell_type": "markdown",
   "metadata": {
    "id": "QfXfw8NCNAtH"
   },
   "source": [
    "#### 7. Create an interactive scatter plot that plots number of invoices (x-axis) vs. number of customers (y-axis) and the plot points represent individual products. Add two sliders that control the x and y axis ranges."
   ]
  },
  {
   "cell_type": "code",
   "execution_count": 60,
   "metadata": {
    "id": "0rt8_YlKNAtI"
   },
   "outputs": [],
   "source": [
    "# Transform the data\n",
    "agg_func = {'InvoiceNo':'nunique',\n",
    "            'Quantity':'sum',\n",
    "            'UnitPrice':'mean',\n",
    "            'Revenue':'sum',\n",
    "            'CustomerID':'nunique'}\n",
    "\n",
    "products = data.groupby(data.Description)['InvoiceNo','Quantity','UnitPrice','Revenue','CustomerID'].agg(agg_func)"
   ]
  },
  {
   "cell_type": "code",
   "execution_count": 61,
   "metadata": {
    "colab": {
     "referenced_widgets": [
      "66bba1a9a1d14afd896f17a6dd5c8e8b"
     ]
    },
    "id": "OZyt32ZQNAtI",
    "outputId": "e15c1047-c766-420a-e4b5-d0f368d21f62"
   },
   "outputs": [
    {
     "data": {
      "application/vnd.jupyter.widget-view+json": {
       "model_id": "8b87e2829d7d41ac9acb10c1b6e0f69b",
       "version_major": 2,
       "version_minor": 0
      },
      "text/plain": [
       "interactive(children=(IntSlider(value=1, description='invoices', max=1978, min=1, step=10), IntSlider(value=1,…"
      ]
     },
     "metadata": {},
     "output_type": "display_data"
    }
   ],
   "source": [
    "# Interactive menu\n",
    "@interact(\n",
    "    invoices=(products[\"InvoiceNo\"].min(), products[\"InvoiceNo\"].max(), 10),\n",
    "    customers=(products[\"CustomerID\"].min(), products[\"CustomerID\"].max(), 10),\n",
    ")\n",
    "\n",
    "# Update function\n",
    "def scatter(invoices=1, customers=1):\n",
    "    # Transform the data\n",
    "    products_data = products[\n",
    "        (products[\"InvoiceNo\"] < invoices) & (products[\"CustomerID\"] < customers)\n",
    "    ]\n",
    "    products_data.sort_values(\"InvoiceNo\")\n",
    "\n",
    "    # Traces\n",
    "    trace = go.Scatter(x=products_data.InvoiceNo, y=products_data.CustomerID, mode='markers')\n",
    "    # Layout\n",
    "    layout = go.Layout(\n",
    "        xaxis=go.layout.XAxis(title=go.layout.xaxis.Title(text=\"Number of invoices\")),\n",
    "        yaxis=go.layout.YAxis(title=go.layout.yaxis.Title(text=\"Number of customers\")),\n",
    "        title=go.layout.Title(text=\"Number of invoices vs customers\"),\n",
    "    )\n",
    "\n",
    "    # Plot\n",
    "    return py.iplot(go.Figure(data=trace, layout=layout))"
   ]
  },
  {
   "cell_type": "code",
   "execution_count": 62,
   "metadata": {},
   "outputs": [
    {
     "data": {
      "application/vnd.jupyter.widget-view+json": {
       "model_id": "17e4d7e9f97d4007a7b9f8ac6c0484f5",
       "version_major": 2,
       "version_minor": 0
      },
      "text/plain": [
       "interactive(children=(IntSlider(value=1, description='invoices', max=1978, min=1, step=10), IntSlider(value=1,…"
      ]
     },
     "metadata": {},
     "output_type": "display_data"
    }
   ],
   "source": [
    "# Interactive menu\n",
    "@interact(\n",
    "    invoices=(products[\"InvoiceNo\"].min(), products[\"InvoiceNo\"].max(), 10),\n",
    "    customers=(products[\"CustomerID\"].min(), products[\"CustomerID\"].max(), 10),\n",
    ")\n",
    "\n",
    "# Update function\n",
    "def scatter(invoices=1, customers=1):\n",
    "    # Transform the data\n",
    "    products_data = products[\n",
    "        (products[\"InvoiceNo\"] < invoices) & (products[\"CustomerID\"] < customers)\n",
    "    ]\n",
    "    products_data.sort_values(\"InvoiceNo\")\n",
    "\n",
    "    return px.scatter(products_data, x=\"InvoiceNo\", y=\"CustomerID\")"
   ]
  },
  {
   "cell_type": "markdown",
   "metadata": {
    "id": "C1Ylpbt2NAtI"
   },
   "source": [
    "#### 8. Create an interactive bar chart that shows revenue by product description. Add a text field widget that filters the results to show the product that contain the text entered in their description."
   ]
  },
  {
   "cell_type": "code",
   "execution_count": null,
   "metadata": {
    "colab": {
     "referenced_widgets": [
      "c698b7cf4d6b49b3a02f3ec7ca1cd285"
     ]
    },
    "id": "V6p7_KLjNAtI",
    "outputId": "ade748e2-d6fa-4138-94ec-a128d70e57d8"
   },
   "outputs": [
    {
     "data": {
      "application/vnd.jupyter.widget-view+json": {
       "model_id": "c698b7cf4d6b49b3a02f3ec7ca1cd285",
       "version_major": 2,
       "version_minor": 0
      },
      "text/plain": [
       "interactive(children=(Text(value='', description='product'), Output()), _dom_classes=('widget-interact',))"
      ]
     },
     "metadata": {},
     "output_type": "display_data"
    }
   ],
   "source": [
    "pro_data = data.groupby('Description', as_index=False)['Revenue'].agg('sum')\n",
    "\n",
    "# Interactive menu\n",
    "@interact(product='')\n",
    "\n",
    "# Update function\n",
    "def chart(product):\n",
    "    # Transform the data\n",
    "    if (len(product) > 0) :\n",
    "        data2 = data[data['Description'].str.contains(product, case=False, na=False)]\n",
    "    else:\n",
    "        data2 = data\n",
    "  \n",
    "    # Traces\n",
    "    trace= go.Bar(\n",
    "        x=data2.Description,\n",
    "        y=ro_data2.Revenue\n",
    "    )\n",
    "    # Layout\n",
    "    layout = go.Layout(xaxis=go.layout.XAxis(title=go.layout.xaxis.Title(text='Product')),\n",
    "                   yaxis=go.layout.YAxis(title=go.layout.yaxis.Title(text='Revenue')),\n",
    "                   title=go.layout.Title(text='Total revenue for each product'))\n",
    "   \n",
    "    # Plot\n",
    "    return py.iplot(go.Figure(data=trace, layout=layout));\n"
   ]
  }
 ],
 "metadata": {
  "colab": {
   "name": "main.ipynb",
   "provenance": []
  },
  "kernelspec": {
   "display_name": "Python 3 (ipykernel)",
   "language": "python",
   "name": "python3"
  },
  "language_info": {
   "codemirror_mode": {
    "name": "ipython",
    "version": 3
   },
   "file_extension": ".py",
   "mimetype": "text/x-python",
   "name": "python",
   "nbconvert_exporter": "python",
   "pygments_lexer": "ipython3",
   "version": "3.9.7"
  }
 },
 "nbformat": 4,
 "nbformat_minor": 1
}

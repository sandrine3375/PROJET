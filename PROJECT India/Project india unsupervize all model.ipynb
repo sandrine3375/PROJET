{
 "cells": [
  {
   "cell_type": "markdown",
   "metadata": {
    "id": "oOtDgsyngAF-"
   },
   "source": [
    "# Unsupervised Machine Learning "
   ]
  },
  {
   "cell_type": "code",
   "execution_count": 2,
   "metadata": {
    "id": "a487rylnDhLH"
   },
   "outputs": [],
   "source": [
    "import numpy as np \n",
    "import pandas as pd \n",
    "import matplotlib.pyplot as plt\n",
    "import matplotlib.colors\n",
    "import seaborn as sns"
   ]
  },
  {
   "cell_type": "code",
   "execution_count": 17,
   "metadata": {
    "id": "cVnGnr7H4LSO"
   },
   "outputs": [],
   "source": [
    "# set grey layout with white grid for all plots\n",
    "plt.rcParams['figure.figsize'] = (10, 5)\n",
    "plt.style.use('ggplot')\n",
    "ggplot_styles = {'axes.facecolor': '8d8d8d',} \n",
    "plt.rcParams.update(ggplot_styles)"
   ]
  },
  {
   "cell_type": "code",
   "execution_count": 18,
   "metadata": {
    "id": "ItGhAqwaDkQH"
   },
   "outputs": [
    {
     "data": {
      "text/html": [
       "<div>\n",
       "<style scoped>\n",
       "    .dataframe tbody tr th:only-of-type {\n",
       "        vertical-align: middle;\n",
       "    }\n",
       "\n",
       "    .dataframe tbody tr th {\n",
       "        vertical-align: top;\n",
       "    }\n",
       "\n",
       "    .dataframe thead th {\n",
       "        text-align: right;\n",
       "    }\n",
       "</style>\n",
       "<table border=\"1\" class=\"dataframe\">\n",
       "  <thead>\n",
       "    <tr style=\"text-align: right;\">\n",
       "      <th></th>\n",
       "      <th>Sector</th>\n",
       "      <th>State</th>\n",
       "      <th>State-District</th>\n",
       "      <th>Household size</th>\n",
       "      <th>Household type</th>\n",
       "      <th>Religion</th>\n",
       "      <th>Social group</th>\n",
       "      <th>Whether owns any non-agricultural enterprise</th>\n",
       "      <th>Whether acquired any major durable goods</th>\n",
       "      <th>Household usual monthly consumer expenditure(Rs.)</th>\n",
       "      <th>...</th>\n",
       "      <th>electrical and lighting accessories_365days</th>\n",
       "      <th>equipment for recreation_365days</th>\n",
       "      <th>furniture and fixtures_365days</th>\n",
       "      <th>jewellery and ornaments_365days</th>\n",
       "      <th>kitchen equipment_365days</th>\n",
       "      <th>miscellaneous durables_365days</th>\n",
       "      <th>other machines for household work_365days</th>\n",
       "      <th>productive equipment_365days</th>\n",
       "      <th>sports and medical equipment_365days</th>\n",
       "      <th>transport equipment_365days</th>\n",
       "    </tr>\n",
       "  </thead>\n",
       "  <tbody>\n",
       "    <tr>\n",
       "      <th>0</th>\n",
       "      <td>Rural</td>\n",
       "      <td>JAMMU &amp; KASHMIR</td>\n",
       "      <td>Punch</td>\n",
       "      <td>6</td>\n",
       "      <td>Rural : non-agriculture</td>\n",
       "      <td>Islam</td>\n",
       "      <td>others</td>\n",
       "      <td>no</td>\n",
       "      <td>no</td>\n",
       "      <td>9000.0</td>\n",
       "      <td>...</td>\n",
       "      <td>NaN</td>\n",
       "      <td>NaN</td>\n",
       "      <td>250.0</td>\n",
       "      <td>NaN</td>\n",
       "      <td>NaN</td>\n",
       "      <td>NaN</td>\n",
       "      <td>NaN</td>\n",
       "      <td>NaN</td>\n",
       "      <td>NaN</td>\n",
       "      <td>NaN</td>\n",
       "    </tr>\n",
       "    <tr>\n",
       "      <th>1</th>\n",
       "      <td>Rural</td>\n",
       "      <td>JAMMU &amp; KASHMIR</td>\n",
       "      <td>Punch</td>\n",
       "      <td>5</td>\n",
       "      <td>Rural : non-agriculture</td>\n",
       "      <td>Islam</td>\n",
       "      <td>others</td>\n",
       "      <td>no</td>\n",
       "      <td>no</td>\n",
       "      <td>10000.0</td>\n",
       "      <td>...</td>\n",
       "      <td>NaN</td>\n",
       "      <td>NaN</td>\n",
       "      <td>2000.0</td>\n",
       "      <td>NaN</td>\n",
       "      <td>NaN</td>\n",
       "      <td>NaN</td>\n",
       "      <td>NaN</td>\n",
       "      <td>NaN</td>\n",
       "      <td>NaN</td>\n",
       "      <td>NaN</td>\n",
       "    </tr>\n",
       "    <tr>\n",
       "      <th>2</th>\n",
       "      <td>Rural</td>\n",
       "      <td>JAMMU &amp; KASHMIR</td>\n",
       "      <td>Punch</td>\n",
       "      <td>6</td>\n",
       "      <td>Rural : non-agriculture</td>\n",
       "      <td>others</td>\n",
       "      <td>Scheduled Castes</td>\n",
       "      <td>no</td>\n",
       "      <td>yes</td>\n",
       "      <td>100000.0</td>\n",
       "      <td>...</td>\n",
       "      <td>NaN</td>\n",
       "      <td>NaN</td>\n",
       "      <td>300.0</td>\n",
       "      <td>NaN</td>\n",
       "      <td>NaN</td>\n",
       "      <td>200.0</td>\n",
       "      <td>NaN</td>\n",
       "      <td>NaN</td>\n",
       "      <td>NaN</td>\n",
       "      <td>NaN</td>\n",
       "    </tr>\n",
       "    <tr>\n",
       "      <th>3</th>\n",
       "      <td>Rural</td>\n",
       "      <td>JAMMU &amp; KASHMIR</td>\n",
       "      <td>Punch</td>\n",
       "      <td>8</td>\n",
       "      <td>Rural : Self employed in : agriculture</td>\n",
       "      <td>Islam</td>\n",
       "      <td>Scheduled Tribes</td>\n",
       "      <td>yes</td>\n",
       "      <td>no</td>\n",
       "      <td>4000.0</td>\n",
       "      <td>...</td>\n",
       "      <td>NaN</td>\n",
       "      <td>NaN</td>\n",
       "      <td>NaN</td>\n",
       "      <td>NaN</td>\n",
       "      <td>NaN</td>\n",
       "      <td>NaN</td>\n",
       "      <td>NaN</td>\n",
       "      <td>NaN</td>\n",
       "      <td>NaN</td>\n",
       "      <td>NaN</td>\n",
       "    </tr>\n",
       "    <tr>\n",
       "      <th>4</th>\n",
       "      <td>Rural</td>\n",
       "      <td>JAMMU &amp; KASHMIR</td>\n",
       "      <td>Punch</td>\n",
       "      <td>9</td>\n",
       "      <td>Rural : non-agriculture</td>\n",
       "      <td>Islam</td>\n",
       "      <td>Scheduled Tribes</td>\n",
       "      <td>no</td>\n",
       "      <td>no</td>\n",
       "      <td>7500.0</td>\n",
       "      <td>...</td>\n",
       "      <td>NaN</td>\n",
       "      <td>NaN</td>\n",
       "      <td>700.0</td>\n",
       "      <td>NaN</td>\n",
       "      <td>NaN</td>\n",
       "      <td>400.0</td>\n",
       "      <td>NaN</td>\n",
       "      <td>NaN</td>\n",
       "      <td>NaN</td>\n",
       "      <td>NaN</td>\n",
       "    </tr>\n",
       "  </tbody>\n",
       "</table>\n",
       "<p>5 rows × 45 columns</p>\n",
       "</div>"
      ],
      "text/plain": [
       "  Sector            State State-District  Household size  \\\n",
       "0  Rural  JAMMU & KASHMIR          Punch               6   \n",
       "1  Rural  JAMMU & KASHMIR          Punch               5   \n",
       "2  Rural  JAMMU & KASHMIR          Punch               6   \n",
       "3  Rural  JAMMU & KASHMIR          Punch               8   \n",
       "4  Rural  JAMMU & KASHMIR          Punch               9   \n",
       "\n",
       "                           Household type Religion      Social group  \\\n",
       "0                 Rural : non-agriculture    Islam            others   \n",
       "1                 Rural : non-agriculture    Islam            others   \n",
       "2                 Rural : non-agriculture   others  Scheduled Castes   \n",
       "3  Rural : Self employed in : agriculture    Islam  Scheduled Tribes   \n",
       "4                 Rural : non-agriculture    Islam  Scheduled Tribes   \n",
       "\n",
       "  Whether owns any non-agricultural enterprise  \\\n",
       "0                                           no   \n",
       "1                                           no   \n",
       "2                                           no   \n",
       "3                                          yes   \n",
       "4                                           no   \n",
       "\n",
       "  Whether acquired any major durable goods  \\\n",
       "0                                       no   \n",
       "1                                       no   \n",
       "2                                      yes   \n",
       "3                                       no   \n",
       "4                                       no   \n",
       "\n",
       "   Household usual monthly consumer expenditure(Rs.)  ...  \\\n",
       "0                                             9000.0  ...   \n",
       "1                                            10000.0  ...   \n",
       "2                                           100000.0  ...   \n",
       "3                                             4000.0  ...   \n",
       "4                                             7500.0  ...   \n",
       "\n",
       "   electrical and lighting accessories_365days  \\\n",
       "0                                          NaN   \n",
       "1                                          NaN   \n",
       "2                                          NaN   \n",
       "3                                          NaN   \n",
       "4                                          NaN   \n",
       "\n",
       "   equipment for recreation_365days  furniture and fixtures_365days  \\\n",
       "0                               NaN                           250.0   \n",
       "1                               NaN                          2000.0   \n",
       "2                               NaN                           300.0   \n",
       "3                               NaN                             NaN   \n",
       "4                               NaN                           700.0   \n",
       "\n",
       "   jewellery and ornaments_365days  kitchen equipment_365days  \\\n",
       "0                              NaN                        NaN   \n",
       "1                              NaN                        NaN   \n",
       "2                              NaN                        NaN   \n",
       "3                              NaN                        NaN   \n",
       "4                              NaN                        NaN   \n",
       "\n",
       "   miscellaneous durables_365days  other machines for household work_365days  \\\n",
       "0                             NaN                                        NaN   \n",
       "1                             NaN                                        NaN   \n",
       "2                           200.0                                        NaN   \n",
       "3                             NaN                                        NaN   \n",
       "4                           400.0                                        NaN   \n",
       "\n",
       "   productive equipment_365days  sports and medical equipment_365days  \\\n",
       "0                           NaN                                   NaN   \n",
       "1                           NaN                                   NaN   \n",
       "2                           NaN                                   NaN   \n",
       "3                           NaN                                   NaN   \n",
       "4                           NaN                                   NaN   \n",
       "\n",
       "   transport equipment_365days  \n",
       "0                          NaN  \n",
       "1                          NaN  \n",
       "2                          NaN  \n",
       "3                          NaN  \n",
       "4                          NaN  \n",
       "\n",
       "[5 rows x 45 columns]"
      ]
     },
     "execution_count": 18,
     "metadata": {},
     "output_type": "execute_result"
    }
   ],
   "source": [
    "data = pd.read_csv(r\"C:\\Users\\Lenovo\\Documents\\INDE DATA\\firstfulldatasetINDIA.csv\")\n",
    "#We make a copy of the file and work on it\n",
    "data = data.copy()\n",
    "data.head()"
   ]
  },
  {
   "cell_type": "code",
   "execution_count": 19,
   "metadata": {
    "id": "6mhqUbTGaofD"
   },
   "outputs": [],
   "source": [
    "#data = data.sample(frac=.1, axis=0, random_state=0)"
   ]
  },
  {
   "cell_type": "code",
   "execution_count": 20,
   "metadata": {
    "colab": {
     "base_uri": "https://localhost:8080/",
     "height": 337
    },
    "id": "fHXZ21RngV11",
    "outputId": "65d8718e-b5ca-47bf-cf66-e39f41274f6d"
   },
   "outputs": [
    {
     "data": {
      "image/png": "[encoded data removed]",
      "text/plain": [
       "<Figure size 720x360 with 1 Axes>"
      ]
     },
     "metadata": {},
     "output_type": "display_data"
    }
   ],
   "source": [
    "sns.scatterplot(data=data, x='Household size', y='TV 8 radio services_30', color='black')\n",
    "plt.show()"
   ]
  },
  {
   "cell_type": "markdown",
   "metadata": {
    "id": "meaueqrmhDXe"
   },
   "source": [
    "There are clustering tendencies in the dataset, let's build clustering models to identify these clusters."
   ]
  },
  {
   "cell_type": "markdown",
   "metadata": {
    "id": "MY3EFBY2gLjl"
   },
   "source": [
    "## Modeling"
   ]
  },
  {
   "cell_type": "markdown",
   "metadata": {
    "id": "HVGJuth5hYQR"
   },
   "source": [
    "Assign modeling variables to X"
   ]
  },
  {
   "cell_type": "code",
   "execution_count": 21,
   "metadata": {
    "id": "dKxTpjHVLKom"
   },
   "outputs": [],
   "source": [
    "X=data[['Household size','TV 8 radio services_30']]\n",
    "X = X.fillna(0)"
   ]
  },
  {
   "cell_type": "code",
   "execution_count": 22,
   "metadata": {},
   "outputs": [
    {
     "data": {
      "text/plain": [
       "array([      nan, 2.000e+02, 2.300e+02, 2.200e+02, 2.500e+02, 1.250e+02,\n",
       "       2.170e+02, 1.500e+02, 1.300e+02, 3.200e+02, 2.800e+02, 3.500e+02,\n",
       "       3.000e+02, 5.000e+02, 2.100e+02, 6.000e+02, 7.000e+02, 2.700e+02,\n",
       "       2.350e+02, 1.800e+02, 2.600e+02, 1.000e+02, 3.350e+02, 1.350e+02,\n",
       "       2.400e+02, 1.200e+02, 1.700e+02, 8.000e+02, 1.600e+02, 2.040e+02,\n",
       "       2.220e+02, 3.900e+02, 6.500e+02, 2.450e+02, 3.550e+02, 4.000e+02,\n",
       "       4.500e+02, 8.500e+02, 3.600e+02, 2.550e+02, 2.490e+02, 9.000e+02,\n",
       "       1.800e+03, 6.490e+02, 4.400e+02, 2.750e+02, 7.800e+02, 2.250e+02,\n",
       "       5.810e+02, 3.300e+02, 3.250e+02, 3.100e+02, 3.400e+02, 3.650e+02,\n",
       "       2.850e+02, 4.100e+02, 5.100e+02, 8.350e+02, 3.050e+02, 3.700e+02,\n",
       "       1.020e+03, 1.830e+02, 3.800e+02, 1.100e+02, 9.000e+01, 5.000e+01,\n",
       "       0.000e+00, 1.400e+02, 8.500e+01, 1.670e+02, 1.150e+02, 1.250e+03,\n",
       "       4.300e+02, 8.000e+01, 3.750e+02, 1.750e+02, 5.520e+02, 1.500e+03,\n",
       "       1.650e+02, 5.150e+02, 7.000e+01, 2.410e+02, 2.100e+03, 1.990e+02,\n",
       "       6.000e+01, 8.300e+01, 1.900e+02, 2.650e+02, 7.500e+01, 1.640e+02,\n",
       "       1.000e+00, 4.600e+02, 6.600e+01, 1.000e+03, 2.150e+02, 1.330e+02,\n",
       "       1.550e+02, 2.260e+02, 2.050e+02, 2.270e+02, 2.230e+02, 2.000e+01,\n",
       "       3.600e+01, 1.000e+01, 5.200e+01, 2.500e+01, 3.000e+01, 3.150e+02,\n",
       "       4.000e+01, 4.500e+01, 3.200e+01, 5.600e+01, 2.200e+01, 1.270e+02,\n",
       "       1.800e+01, 5.200e+02, 9.500e+02, 5.400e+02, 2.900e+02, 3.510e+02,\n",
       "       3.010e+02, 5.500e+02, 6.800e+02, 4.800e+02, 4.200e+02, 3.820e+02,\n",
       "       1.600e+03, 3.850e+02, 3.310e+02, 4.820e+02, 4.010e+02, 5.700e+02,\n",
       "       2.130e+02, 2.120e+02, 4.250e+02, 1.960e+02, 2.680e+02, 3.580e+02,\n",
       "       5.250e+02, 1.850e+02, 5.500e+01, 1.450e+02, 1.030e+03, 3.000e+03,\n",
       "       3.300e+01, 1.200e+01, 3.500e+01, 5.800e+01, 1.490e+02, 9.200e+01,\n",
       "       1.220e+02, 2.310e+02, 3.190e+02, 1.860e+02, 2.250e+03, 1.120e+02,\n",
       "       1.950e+02, 1.700e+01, 6.500e+01, 7.500e+02, 1.790e+02, 5.400e+01,\n",
       "       1.050e+02, 2.750e+03, 1.780e+02, 2.950e+02, 1.660e+02, 2.920e+02,\n",
       "       2.020e+02, 1.100e+01, 3.450e+02, 6.670e+02, 6.900e+01, 4.200e+01,\n",
       "       2.990e+02, 1.580e+02, 4.400e+01, 1.720e+02, 1.170e+02, 2.080e+02,\n",
       "       8.200e+01, 1.600e+01, 1.630e+02, 8.700e+01, 1.570e+02, 9.500e+01,\n",
       "       1.820e+02, 4.150e+02, 1.920e+02, 2.660e+03, 1.590e+02, 7.650e+02,\n",
       "       3.950e+02, 1.680e+02, 2.630e+02, 2.930e+02, 6.650e+02, 3.340e+02,\n",
       "       1.430e+02, 1.770e+02, 1.340e+02, 5.300e+02, 6.600e+02, 2.360e+03,\n",
       "       7.150e+02, 1.200e+03, 6.400e+02, 6.800e+01, 2.560e+02, 6.300e+02,\n",
       "       4.700e+02, 1.260e+03, 1.320e+03, 9.800e+02, 5.600e+02, 3.490e+02,\n",
       "       4.900e+02, 9.600e+02, 4.450e+02, 1.575e+03, 9.200e+02, 5.800e+02,\n",
       "       5.510e+02, 4.170e+02, 3.390e+02, 1.110e+02, 2.330e+02, 2.890e+02,\n",
       "       2.210e+02, 6.900e+02, 6.700e+02, 1.300e+03, 1.100e+03, 1.350e+03,\n",
       "       2.200e+03, 4.650e+02, 2.140e+02, 4.260e+02, 2.320e+02, 4.750e+02,\n",
       "       4.550e+02, 3.260e+02, 5.240e+02, 4.620e+02, 7.320e+02, 1.050e+03,\n",
       "       7.300e+01, 2.380e+02, 4.240e+02, 3.590e+02, 2.590e+02, 2.420e+02,\n",
       "       7.200e+02, 6.700e+01, 2.240e+02, 1.880e+02, 2.360e+02, 2.620e+02,\n",
       "       2.460e+02, 2.160e+02, 6.850e+02, 1.500e+01, 1.510e+02, 6.200e+02,\n",
       "       2.710e+02, 1.501e+03, 8.150e+02, 7.250e+02, 3.020e+02, 3.100e+01,\n",
       "       6.250e+02, 2.670e+02, 4.330e+02, 1.080e+02, 9.900e+01, 1.730e+02,\n",
       "       4.850e+02, 5.080e+02, 5.350e+02, 4.560e+02, 5.830e+02, 9.300e+02,\n",
       "       1.840e+02, 3.170e+02, 4.130e+02, 3.330e+02, 2.660e+02, 3.520e+02,\n",
       "       8.600e+01, 8.400e+01, 1.720e+03, 2.060e+02, 2.880e+02, 2.900e+01,\n",
       "       1.870e+02, 1.620e+02, 8.100e+02, 5.000e+00, 4.160e+02, 1.290e+02,\n",
       "       1.530e+02, 3.160e+03])"
      ]
     },
     "execution_count": 22,
     "metadata": {},
     "output_type": "execute_result"
    }
   ],
   "source": [
    "data['TV 8 radio services_30'].unique()"
   ]
  },
  {
   "cell_type": "code",
   "execution_count": null,
   "metadata": {},
   "outputs": [],
   "source": []
  },
  {
   "cell_type": "markdown",
   "metadata": {
    "id": "bYSH0_tmQahi"
   },
   "source": [
    "### Clustering with KMeans"
   ]
  },
  {
   "cell_type": "code",
   "execution_count": 23,
   "metadata": {
    "id": "KC3RUC7cLxdc"
   },
   "outputs": [],
   "source": [
    "#Creation of loop to find the right cluster\n",
    "from sklearn.cluster import KMeans\n",
    "\n",
    "dict_model={}\n",
    "for i in range (2,11):\n",
    "    kmeans = KMeans(n_clusters=i)\n",
    "    kmeans.fit(X)\n",
    "    key=\"kmeans\"+str(i)\n",
    "    dict_model[key] = kmeans.labels_"
   ]
  },
  {
   "cell_type": "code",
   "execution_count": 24,
   "metadata": {
    "colab": {
     "base_uri": "https://localhost:8080/"
    },
    "id": "4c1tP_hgSiMq",
    "outputId": "384562ef-7017-4b16-a6c0-b264476234bf"
   },
   "outputs": [
    {
     "data": {
      "text/plain": [
       "{'kmeans2': array([1, 1, 0, ..., 0, 0, 0]),\n",
       " 'kmeans3': array([1, 1, 0, ..., 0, 0, 0]),\n",
       " 'kmeans4': array([1, 1, 0, ..., 0, 0, 0]),\n",
       " 'kmeans5': array([0, 0, 3, ..., 3, 3, 3]),\n",
       " 'kmeans6': array([1, 1, 0, ..., 0, 2, 0]),\n",
       " 'kmeans7': array([0, 0, 5, ..., 5, 1, 5]),\n",
       " 'kmeans8': array([1, 1, 5, ..., 5, 0, 5]),\n",
       " 'kmeans9': array([1, 1, 0, ..., 0, 7, 7]),\n",
       " 'kmeans10': array([0, 0, 1, ..., 1, 2, 8])}"
      ]
     },
     "execution_count": 24,
     "metadata": {},
     "output_type": "execute_result"
    }
   ],
   "source": [
    "dict_model"
   ]
  },
  {
   "cell_type": "code",
   "execution_count": null,
   "metadata": {
    "colab": {
     "base_uri": "https://localhost:8080/",
     "height": 394
    },
    "id": "sYMB3THHMDvl",
    "outputId": "d1c1f883-d9bf-46e5-9690-ad5c2e3b83cd"
   },
   "outputs": [],
   "source": [
    "from yellowbrick.cluster import KElbowVisualizer\n",
    "\n",
    "kmeans = KMeans()\n",
    "\n",
    "visualizer = KElbowVisualizer(estimator = kmeans, k = (2,11), metric='silhouette')\n",
    "visualizer.fit(X)\n",
    "visualizer.poof()"
   ]
  },
  {
   "cell_type": "code",
   "execution_count": 73,
   "metadata": {
    "colab": {
     "base_uri": "https://localhost:8080/",
     "height": 337
    },
    "id": "nzNCfovnLKeB",
    "outputId": "048a37e0-f004-43fe-cadb-43d3a4311c62"
   },
   "outputs": [
    {
     "data": {
      "text/plain": [
       "array([[  4.72515723, 153.69842767],\n",
       "       [  4.8398289 ,   1.72005703],\n",
       "       [  5.02611684, 297.45910653]])"
      ]
     },
     "execution_count": 73,
     "metadata": {},
     "output_type": "execute_result"
    }
   ],
   "source": [
    "# fitting KMeans with 2 clusters\n",
    "from sklearn.cluster import KMeans\n",
    "\n",
    "kmeans = KMeans(n_clusters=3)\n",
    "kmeans.fit(X)\n",
    "y_kmeans = kmeans.predict(X) #y-pred=kmeans.labels_\n",
    "\n",
    "data['kmeans_cluster'] = kmeans.labels_\n",
    "k_centers = kmeans.cluster_centers_\n",
    "\n",
    "k_centers\n",
    "\n"
   ]
  },
  {
   "cell_type": "code",
   "execution_count": null,
   "metadata": {
    "colab": {
     "base_uri": "https://localhost:8080/",
     "height": 337
    },
    "id": "nzNCfovnLKeB",
    "outputId": "048a37e0-f004-43fe-cadb-43d3a4311c62"
   },
   "outputs": [],
   "source": [
    "\n",
    "# plot clusters on dataset plot \n",
    "#  dans le scatter plot des observations, les deux dimensions x et y- hue: les 3 clusters, la palette donc 3 couleur\n",
    "# dans le scatter des centroids: les centroids est un arrays, 1er colonne, les X, 2e colonne les Y\n",
    "\n",
    "fig, ax = plt.subplots()\n",
    "sns.scatterplot(data=data, x='Household size', y='TV 8 radio services_30', hue=y_kmeans, palette=['yellow', 'blue', 'red'], ax=ax)\n",
    "#sns.scatterplot(x=k_centers[:, 0], y=k_centers[:, 1], palette='blue', size=200, ax=ax)\n",
    "plt.scatter(k_centers[:, 0], k_centers[:, 1], c='black', s=20, alpha=0.5)\n",
    "plt.show()"
   ]
  },
  {
   "cell_type": "code",
   "execution_count": null,
   "metadata": {
    "colab": {
     "base_uri": "https://localhost:8080/",
     "height": 337
    },
    "id": "nzNCfovnLKeB",
    "outputId": "048a37e0-f004-43fe-cadb-43d3a4311c62"
   },
   "outputs": [],
   "source": [
    "\n",
    "# plot clusters on dataset plot \n",
    "#  dans le scatter plot des observations, les deux dimensions x et y- hue: les 3 clusters, la palette donc 3 couleur\n",
    "# dans le scatter des centroids: les centroids est un arrays, 1er colonne, les X, 2e colonne les Y\n",
    "\n",
    "fig, ax = plt.subplots()\n",
    "plt.scatter(data=data, x='Household size', y='TV 8 radio services_30',c = y_kmeans)\n",
    "#sns.scatterplot(x=k_centers[:, 0], y=k_centers[:, 1], palette='blue', size=200, ax=ax)\n",
    "plt.scatter(k_centers[:, 0], k_centers[:, 1], c='red', s=20, alpha=0.5)\n",
    "plt.show()\n"
   ]
  },
  {
   "cell_type": "markdown",
   "metadata": {
    "id": "xaDEtt4Cfu_O"
   },
   "source": [
    "### Clustering with DBScan"
   ]
  },
  {
   "cell_type": "code",
   "execution_count": null,
   "metadata": {
    "id": "tpKILsMPD_Nf"
   },
   "outputs": [],
   "source": [
    "from sklearn.cluster import DBSCAN\n"
   ]
  },
  {
   "cell_type": "code",
   "execution_count": null,
   "metadata": {
    "id": "Fxs-PIZLRPTw"
   },
   "outputs": [],
   "source": [
    "\n",
    "k=0\n",
    "for eps in range (1,5):\n",
    "    for min_samples in range (2,5):\n",
    "        k=k+1\n",
    "        db = DBSCAN(eps=eps/100, min_samples=min_samples)\n",
    "        print(\"db\"+str(k))\n",
    "        print(db)\n",
    "        db.fit(X)\n",
    "        key3=\"db\"+str(k)\n",
    "        dict_model[key3] = db.labels_\n",
    "        cl=len(np.unique(db.labels_))\n",
    "        print(\"number of clusters: \", cl )\n",
    "    \n",
    "\n",
    "\n",
    "dict_model"
   ]
  },
  {
   "cell_type": "code",
   "execution_count": null,
   "metadata": {},
   "outputs": [],
   "source": []
  },
  {
   "cell_type": "code",
   "execution_count": null,
   "metadata": {},
   "outputs": [],
   "source": [
    "sns.scatterplot(data=data, x='Household size', y='TV 8 radio services_30', hue=y_dbs, palette=['yellow', 'blue'], ax=ax)\n",
    "#sns.scatterplot(x=k_centers[:, 0], y=k_centers[:, 1], palette='blue', size=200, ax=ax)\n",
    "\n",
    "\n",
    "\n",
    "eps_d=[]\n",
    "for eps in range (1,20):\n",
    "    for min_samples in range (2,20):\n",
    "        db = DBSCAN(eps=eps/100, min_samples=min_samples).fit(iris_pd)\n",
    "        cl=len(np.unique(db.labels_))\n",
    "        eps_d.append([eps/100,min_samples, cl])\n",
    "    \n",
    "        \n",
    "eps_d\n",
    "    \n",
    "df_db=pd.DataFrame(eps_d, columns=[\"e\",\"ms\",\"cl\"])\n",
    "df_db[\"cl\"].value_counts()"
   ]
  },
  {
   "cell_type": "code",
   "execution_count": null,
   "metadata": {},
   "outputs": [],
   "source": [
    "# fitting to splot\n",
    "\n",
    "\n",
    "dbs= DBSCAN(eps=0.01, min_samples=2)\n",
    "dbs.fit(X)\n",
    "y_dbs = dbs.labels_ #y-pred=kmeans.labels_\n",
    "#cl=y_dbs.nunique() #nombre de labels\n",
    "\n",
    "data['dbs_cluster'] = dbs.labels_\n",
    "\n",
    "fig, ax = plt.subplots()\n",
    "\n",
    "plt.scatter(data=data, x='Household size', y='TV 8 radio services_30',c = y_dbs, cmap='viridis')\n",
    "\n",
    "plt.show()\n",
    "\n"
   ]
  },
  {
   "cell_type": "code",
   "execution_count": null,
   "metadata": {},
   "outputs": [],
   "source": [
    "data['dbs_cluster'] = dbs.labels_\n",
    "clusters = data['dbs_cluster'].reset_index()\n",
    "clusters"
   ]
  },
  {
   "cell_type": "markdown",
   "metadata": {
    "id": "Pt_M6wbUf0IR"
   },
   "source": [
    "###  Clustering WITH GAUSSIAN MIXTURE MODEL"
   ]
  },
  {
   "cell_type": "code",
   "execution_count": null,
   "metadata": {},
   "outputs": [],
   "source": []
  },
  {
   "cell_type": "code",
   "execution_count": null,
   "metadata": {
    "colab": {
     "base_uri": "https://localhost:8080/"
    },
    "id": "iWV5eUxBOaf3",
    "outputId": "037d0236-79fb-46fc-e735-d4f34eda1811"
   },
   "outputs": [],
   "source": [
    "# find the optimal numbers of clusters with GAUSSIAN\n",
    "from sklearn.mixture import GaussianMixture\n",
    "\n",
    "\n",
    "for i in range (2,11):\n",
    "    gmm = GaussianMixture(n_components=i)\n",
    "    gmm.fit(X)\n",
    "    key=\"gmm\"+str(i)\n",
    "    dict_model[key] = gmm.predict(X)\n",
    "\n",
    "dict_model\n"
   ]
  },
  {
   "cell_type": "code",
   "execution_count": null,
   "metadata": {
    "colab": {
     "base_uri": "https://localhost:8080/",
     "height": 337
    },
    "id": "xaZQ9oZnZJAd",
    "outputId": "ac6b050b-7fde-468a-b87e-1fa729ce64b5"
   },
   "outputs": [],
   "source": [
    "# Fitting Gaussian with 2 clusters\n",
    "from sklearn.mixture import GaussianMixture\n",
    "\n",
    "gmm = GaussianMixture(n_components=4)\n",
    "gmm.fit(X)\n",
    "y_gmm = gmm.predict(X)\n",
    "\n",
    "data['gmm_cluster'] = gmm.predict(X)\n",
    "\n",
    "# plot clusters on dataset plot\n",
    "fig, ax = plt.subplots()\n",
    "sns.scatterplot(data=X, x='Household size', y='TV 8 radio services_30', hue=y_gmm, cmap=\"plasma\", ax=ax)\n",
    "plt.show()"
   ]
  },
  {
   "cell_type": "markdown",
   "metadata": {
    "id": "qbVR_XK3YPrB"
   },
   "source": [
    "## Clustering with AgglomerativeClustering"
   ]
  },
  {
   "cell_type": "code",
   "execution_count": null,
   "metadata": {
    "id": "3VkVgOM6Et1L"
   },
   "outputs": [],
   "source": [
    "# find the optimal numbers of clusters for AC\n",
    "from sklearn.cluster import AgglomerativeClustering\n",
    "\n",
    "for i in range (2,7):\n",
    "    agc = AgglomerativeClustering(n_clusters=i)\n",
    "    agc.fit(X)\n",
    "    key1=\"agc\"+str(i)\n",
    "    dict_model[key1] = agc.labels_\n",
    "\n"
   ]
  },
  {
   "cell_type": "code",
   "execution_count": null,
   "metadata": {},
   "outputs": [],
   "source": [
    "from yellowbrick.cluster import KElbowVisualizer\n",
    "\n",
    "agc = AgglomerativeClustering()\n",
    "\n",
    "visualizer = KElbowVisualizer(estimator = agc, k = (2,6), metric='silhouette')\n",
    "visualizer.fit(X)\n",
    "visualizer.poof()"
   ]
  },
  {
   "cell_type": "code",
   "execution_count": null,
   "metadata": {
    "id": "-nG6Rb6dEKPq"
   },
   "outputs": [],
   "source": [
    "cluster = AgglomerativeClustering(n_clusters=4, affinity='euclidean', linkage='ward')  \n",
    "cluster.fit_predict(X)"
   ]
  },
  {
   "cell_type": "code",
   "execution_count": null,
   "metadata": {
    "id": "XtCb7XAmLKP8"
   },
   "outputs": [],
   "source": [
    "#AGGLOMEATIVECLUSTERING\n",
    "from sklearn.cluster import AgglomerativeClustering\n",
    "\n",
    "agc = AgglomerativeClustering(n_clusters=3, affinity='euclidean', linkage='ward')  #3: so only 3 label\n",
    "agc.fit_predict(X)\n",
    "y_agglomerative=agc.labels_\n",
    "\n",
    "\n",
    "plt.figure(figsize=(10, 7))  \n",
    "plt.scatter(data=data, x='Household size', y='TV 8 radio services_30', c=y_agglomerative,  cmap='viridis') \n",
    "plt.xlabel(\"X1X1\")\n",
    "plt.ylabel(\"X2X2\")"
   ]
  },
  {
   "cell_type": "markdown",
   "metadata": {
    "id": "rYklMkF-f5lp"
   },
   "source": [
    "## Model Comparison"
   ]
  },
  {
   "cell_type": "code",
   "execution_count": null,
   "metadata": {
    "id": "33Pz0k2jMDg8"
   },
   "outputs": [],
   "source": [
    "def unsupervised_metrics(X, y_pred):\n",
    "    \"\"\"\n",
    "    Function to evaluate models based on different metrics:\n",
    "    Homogeneity, Completeness, V-measure, adjusted_rand, AMI, \n",
    "    Silhouette Coefficient, Variance Ratio Criterion, Fowlkes Mallows\n",
    "    \n",
    "    \"\"\"\n",
    "    from sklearn import metrics\n",
    "    from sklearn.metrics import silhouette_score, calinski_harabasz_score\n",
    "\n",
    "    score_ss = metrics.silhouette_score(X, y_pred)\n",
    "    score_vrc = metrics.calinski_harabasz_score(X, y_pred)\n",
    "    \n",
    "    print(\"Silhouette Coefficient: %0.3f\" % score_ss)\n",
    "    print('Variance Ratio Criterion: %0.3f' % score_vrc)\n"
   ]
  },
  {
   "cell_type": "code",
   "execution_count": null,
   "metadata": {
    "colab": {
     "base_uri": "https://localhost:8080/"
    },
    "id": "KZD4MhB-YvsD",
    "outputId": "26ae55a9-e34b-487f-d375-e2b327ea0ba1"
   },
   "outputs": [],
   "source": [
    "for key in dict_model:\n",
    "    print('\\n', key)\n",
    "    unsupervised_metrics(X=X, y_pred=dict_model[key])\n",
    "    "
   ]
  },
  {
   "cell_type": "markdown",
   "metadata": {
    "id": "MakPUQhIbSK5"
   },
   "source": [
    "## Cluster analysis"
   ]
  },
  {
   "cell_type": "code",
   "execution_count": null,
   "metadata": {
    "colab": {
     "base_uri": "https://localhost:8080/"
    },
    "id": "M009uvsmd4bV",
    "outputId": "80dea316-5c6c-4e63-aef3-fbac72312319"
   },
   "outputs": [],
   "source": [
    "# check cluster distribution\n",
    "data['kmeans_cluster'].value_counts()"
   ]
  },
  {
   "cell_type": "code",
   "execution_count": null,
   "metadata": {
    "id": "bKF0v2lReDoA"
   },
   "outputs": [],
   "source": [
    "# assign cluster variables\n",
    "cluster0 = data[data['kmeans_cluster']==0]\n",
    "cluster1 = data[data['kmeans_cluster']==1]"
   ]
  },
  {
   "cell_type": "code",
   "execution_count": null,
   "metadata": {
    "colab": {
     "base_uri": "https://localhost:8080/",
     "height": 337
    },
    "id": "bfHEEGHIe4d1",
    "outputId": "4fe0eec8-c650-43cf-8736-17ac1794230e"
   },
   "outputs": [],
   "source": [
    "# Plot pickup peaks for cluster1\n",
    "sns.heatmap(pd.crosstab(cluster0.religion, cluster0.state, normalize='columns'), cmap='coolwarm')\n",
    "plt.show()"
   ]
  },
  {
   "cell_type": "code",
   "execution_count": null,
   "metadata": {
    "colab": {
     "base_uri": "https://localhost:8080/",
     "height": 337
    },
    "id": "yB6NpnWKbRad",
    "outputId": "c0d61158-ed5c-4b24-c8ea-8aa906a8c79d"
   },
   "outputs": [],
   "source": [
    "# Plot pickup peaks for cluster1\n",
    "sns.heatmap(pd.crosstab(cluster1.Hour, cluster1.Weekday, normalize='columns'), cmap='coolwarm')\n",
    "plt.show()"
   ]
  },
  {
   "cell_type": "code",
   "execution_count": null,
   "metadata": {},
   "outputs": [],
   "source": []
  }
 ],
 "metadata": {
  "colab": {
   "collapsed_sections": [],
   "name": "Project_jun.ipynb",
   "provenance": []
  },
  "kernelspec": {
   "display_name": "Python 3 (ipykernel)",
   "language": "python",
   "name": "python3"
  },
  "language_info": {
   "codemirror_mode": {
    "name": "ipython",
    "version": 3
   },
   "file_extension": ".py",
   "mimetype": "text/x-python",
   "name": "python",
   "nbconvert_exporter": "python",
   "pygments_lexer": "ipython3",
   "version": "3.9.7"
  }
 },
 "nbformat": 4,
 "nbformat_minor": 1
}

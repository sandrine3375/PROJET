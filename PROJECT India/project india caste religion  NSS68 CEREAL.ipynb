{
 "cells": [
  {
   "cell_type": "code",
   "execution_count": 2,
   "id": "78b9dc2b",
   "metadata": {},
   "outputs": [],
   "source": [
    "import pandas as pd\n",
    "#Because dataset is big (29 columns) we need to show every columns using pd\n",
    "pd.set_option('max_columns', None)\n",
    "import seaborn as sns\n",
    "import numpy as np\n",
    "import matplotlib.pyplot as plt\n",
    "import matplotlib.colors\n",
    "\n",
    "# set grey layout with white grid for all plots\n",
    "plt.rcParams['figure.figsize'] = (10, 5)\n",
    "plt.style.use('ggplot')\n",
    "ggplot_styles = {'axes.facecolor': '8d8d8d',} \n",
    "plt.rcParams.update(ggplot_styles)"
   ]
  },
  {
   "cell_type": "markdown",
   "id": "44e08242",
   "metadata": {},
   "source": [
    "# DATASET ON HOUSEHOLD"
   ]
  },
  {
   "cell_type": "code",
   "execution_count": 3,
   "id": "159c1330",
   "metadata": {},
   "outputs": [
    {
     "name": "stderr",
     "output_type": "stream",
     "text": [
      "C:\\Users\\Lenovo\\anaconda3\\lib\\site-packages\\IPython\\core\\interactiveshell.py:3444: DtypeWarning: Columns (31) have mixed types.Specify dtype option on import or set low_memory=False.\n",
      "  exec(code_obj, self.user_global_ns, self.user_ns)\n"
     ]
    },
    {
     "data": {
      "text/html": [
       "<div>\n",
       "<style scoped>\n",
       "    .dataframe tbody tr th:only-of-type {\n",
       "        vertical-align: middle;\n",
       "    }\n",
       "\n",
       "    .dataframe tbody tr th {\n",
       "        vertical-align: top;\n",
       "    }\n",
       "\n",
       "    .dataframe thead th {\n",
       "        text-align: right;\n",
       "    }\n",
       "</style>\n",
       "<table border=\"1\" class=\"dataframe\">\n",
       "  <thead>\n",
       "    <tr style=\"text-align: right;\">\n",
       "      <th></th>\n",
       "      <th>Round_Centre_code</th>\n",
       "      <th>FSU_Serial_no</th>\n",
       "      <th>Round</th>\n",
       "      <th>Sch_no</th>\n",
       "      <th>Sample</th>\n",
       "      <th>Sector</th>\n",
       "      <th>State_region</th>\n",
       "      <th>District</th>\n",
       "      <th>Stratum</th>\n",
       "      <th>Sub_Stratum_No</th>\n",
       "      <th>Schedule_type</th>\n",
       "      <th>Sub_Round</th>\n",
       "      <th>Sub_Sample</th>\n",
       "      <th>FOD_Sub_Region</th>\n",
       "      <th>Hamlet_Group_Sub_Stratum_No</th>\n",
       "      <th>Second_Stage_Stratum_No</th>\n",
       "      <th>Sample_hhld_no</th>\n",
       "      <th>Level</th>\n",
       "      <th>Filler</th>\n",
       "      <th>HH_Size</th>\n",
       "      <th>NIC_2008</th>\n",
       "      <th>NCO_2004</th>\n",
       "      <th>HH_Type</th>\n",
       "      <th>Religion</th>\n",
       "      <th>Social_Group</th>\n",
       "      <th>whether_Land_owned</th>\n",
       "      <th>Type_of_land_owned</th>\n",
       "      <th>Land_owned</th>\n",
       "      <th>Land_Leased_in</th>\n",
       "      <th>otherwise_Land_possessed</th>\n",
       "      <th>Land_Leased_out</th>\n",
       "      <th>Land_total_possessed</th>\n",
       "      <th>During_july10_june11_cultivated</th>\n",
       "      <th>During_july10_june11_irrigated</th>\n",
       "      <th>Special_Characters_for_Ok_Stamp</th>\n",
       "      <th>Blank</th>\n",
       "      <th>NSS</th>\n",
       "      <th>NSC</th>\n",
       "      <th>MLT</th>\n",
       "      <th>HHID</th>\n",
       "      <th>State_code</th>\n",
       "      <th>District_code</th>\n",
       "      <th>HH_Type_code</th>\n",
       "      <th>Combined_multiplier</th>\n",
       "      <th>Subsample_multiplier</th>\n",
       "    </tr>\n",
       "  </thead>\n",
       "  <tbody>\n",
       "    <tr>\n",
       "      <th>0</th>\n",
       "      <td>2</td>\n",
       "      <td>71558</td>\n",
       "      <td>68</td>\n",
       "      <td>10</td>\n",
       "      <td>central</td>\n",
       "      <td>rural</td>\n",
       "      <td>171</td>\n",
       "      <td>1</td>\n",
       "      <td>1</td>\n",
       "      <td>1</td>\n",
       "      <td>1</td>\n",
       "      <td>sub-round 1  : July - September 2011</td>\n",
       "      <td>1</td>\n",
       "      <td>1711.0</td>\n",
       "      <td>1</td>\n",
       "      <td>2</td>\n",
       "      <td>1</td>\n",
       "      <td>2</td>\n",
       "      <td>0</td>\n",
       "      <td>5</td>\n",
       "      <td>Tea/coffee shops</td>\n",
       "      <td>Directors and Chief Executives</td>\n",
       "      <td>2.0</td>\n",
       "      <td>Christianity</td>\n",
       "      <td>Scheduled Tribes</td>\n",
       "      <td>Yes</td>\n",
       "      <td>Homestead and other land</td>\n",
       "      <td>136</td>\n",
       "      <td></td>\n",
       "      <td></td>\n",
       "      <td></td>\n",
       "      <td>136</td>\n",
       "      <td>62</td>\n",
       "      <td></td>\n",
       "      <td>NaN</td>\n",
       "      <td>NaN</td>\n",
       "      <td>2</td>\n",
       "      <td>4</td>\n",
       "      <td>64816</td>\n",
       "      <td>715581201</td>\n",
       "      <td>MEGHALAYA</td>\n",
       "      <td>West Garo Hills</td>\n",
       "      <td>Non-agriculture</td>\n",
       "      <td>324,08</td>\n",
       "      <td>648,16</td>\n",
       "    </tr>\n",
       "    <tr>\n",
       "      <th>1</th>\n",
       "      <td>2</td>\n",
       "      <td>71558</td>\n",
       "      <td>68</td>\n",
       "      <td>10</td>\n",
       "      <td>central</td>\n",
       "      <td>rural</td>\n",
       "      <td>171</td>\n",
       "      <td>1</td>\n",
       "      <td>1</td>\n",
       "      <td>1</td>\n",
       "      <td>1</td>\n",
       "      <td>sub-round 1  : July - September 2011</td>\n",
       "      <td>1</td>\n",
       "      <td>1711.0</td>\n",
       "      <td>1</td>\n",
       "      <td>2</td>\n",
       "      <td>2</td>\n",
       "      <td>2</td>\n",
       "      <td>0</td>\n",
       "      <td>2</td>\n",
       "      <td>Manufacture of country liquor</td>\n",
       "      <td>Directors and Chief Executives</td>\n",
       "      <td>2.0</td>\n",
       "      <td>Christianity</td>\n",
       "      <td>Scheduled Tribes</td>\n",
       "      <td>Yes</td>\n",
       "      <td>Homestead and other land</td>\n",
       "      <td>66</td>\n",
       "      <td></td>\n",
       "      <td></td>\n",
       "      <td></td>\n",
       "      <td>66</td>\n",
       "      <td>45</td>\n",
       "      <td></td>\n",
       "      <td>NaN</td>\n",
       "      <td>NaN</td>\n",
       "      <td>2</td>\n",
       "      <td>4</td>\n",
       "      <td>64816</td>\n",
       "      <td>715581202</td>\n",
       "      <td>MEGHALAYA</td>\n",
       "      <td>West Garo Hills</td>\n",
       "      <td>Non-agriculture</td>\n",
       "      <td>324,08</td>\n",
       "      <td>648,16</td>\n",
       "    </tr>\n",
       "  </tbody>\n",
       "</table>\n",
       "</div>"
      ],
      "text/plain": [
       "   Round_Centre_code  FSU_Serial_no  Round  Sch_no   Sample Sector  \\\n",
       "0                  2          71558     68      10  central  rural   \n",
       "1                  2          71558     68      10  central  rural   \n",
       "\n",
       "   State_region  District  Stratum  Sub_Stratum_No  Schedule_type  \\\n",
       "0           171         1        1               1              1   \n",
       "1           171         1        1               1              1   \n",
       "\n",
       "                              Sub_Round  Sub_Sample  FOD_Sub_Region  \\\n",
       "0  sub-round 1  : July - September 2011           1          1711.0   \n",
       "1  sub-round 1  : July - September 2011           1          1711.0   \n",
       "\n",
       "   Hamlet_Group_Sub_Stratum_No  Second_Stage_Stratum_No  Sample_hhld_no  \\\n",
       "0                            1                        2               1   \n",
       "1                            1                        2               2   \n",
       "\n",
       "   Level  Filler  HH_Size                       NIC_2008  \\\n",
       "0      2       0        5               Tea/coffee shops   \n",
       "1      2       0        2  Manufacture of country liquor   \n",
       "\n",
       "                          NCO_2004  HH_Type      Religion      Social_Group  \\\n",
       "0   Directors and Chief Executives      2.0  Christianity  Scheduled Tribes   \n",
       "1   Directors and Chief Executives      2.0  Christianity  Scheduled Tribes   \n",
       "\n",
       "  whether_Land_owned        Type_of_land_owned Land_owned Land_Leased_in  \\\n",
       "0                Yes  Homestead and other land        136                  \n",
       "1                Yes  Homestead and other land         66                  \n",
       "\n",
       "  otherwise_Land_possessed Land_Leased_out Land_total_possessed  \\\n",
       "0                                                           136   \n",
       "1                                                            66   \n",
       "\n",
       "  During_july10_june11_cultivated During_july10_june11_irrigated  \\\n",
       "0                              62                                  \n",
       "1                              45                                  \n",
       "\n",
       "   Special_Characters_for_Ok_Stamp  Blank  NSS  NSC    MLT       HHID  \\\n",
       "0                              NaN    NaN    2    4  64816  715581201   \n",
       "1                              NaN    NaN    2    4  64816  715581202   \n",
       "\n",
       "  State_code    District_code     HH_Type_code Combined_multiplier  \\\n",
       "0  MEGHALAYA  West Garo Hills  Non-agriculture              324,08   \n",
       "1  MEGHALAYA  West Garo Hills  Non-agriculture              324,08   \n",
       "\n",
       "  Subsample_multiplier  \n",
       "0               648,16  \n",
       "1               648,16  "
      ]
     },
     "execution_count": 3,
     "metadata": {},
     "output_type": "execute_result"
    }
   ],
   "source": [
    "\n",
    "file_url = r\"C:\\Users\\Lenovo\\Documents\\INDE DATA\\HOUSEHOLDCEREALNSS682.csv\"\n",
    "\n",
    "data= pd.read_csv(file_url, on_bad_lines='skip', sep=\";\")\n",
    "#We make a copy of the file and work on it\n",
    "data = data.copy()\n",
    "data.head(2)"
   ]
  },
  {
   "cell_type": "code",
   "execution_count": 4,
   "id": "840b8d7a",
   "metadata": {},
   "outputs": [
    {
     "data": {
      "text/plain": [
       "(101662, 45)"
      ]
     },
     "execution_count": 4,
     "metadata": {},
     "output_type": "execute_result"
    }
   ],
   "source": [
    "data.shape"
   ]
  },
  {
   "cell_type": "code",
   "execution_count": 5,
   "id": "93a935c4",
   "metadata": {},
   "outputs": [
    {
     "data": {
      "text/plain": [
       "Index(['Round_Centre_code', 'FSU_Serial_no', 'Round', 'Sch_no', 'Sample',\n",
       "       'Sector', 'State_region', 'District', 'Stratum', 'Sub_Stratum_No',\n",
       "       'Schedule_type', 'Sub_Round', 'Sub_Sample', 'FOD_Sub_Region',\n",
       "       'Hamlet_Group_Sub_Stratum_No', 'Second_Stage_Stratum_No',\n",
       "       'Sample_hhld_no', 'Level', 'Filler', 'HH_Size', 'NIC_2008', 'NCO_2004',\n",
       "       'HH_Type', 'Religion', 'Social_Group', 'whether_Land_owned',\n",
       "       'Type_of_land_owned', 'Land_owned', 'Land_Leased_in',\n",
       "       'otherwise_Land_possessed', 'Land_Leased_out', 'Land_total_possessed',\n",
       "       'During_july10_june11_cultivated', 'During_july10_june11_irrigated',\n",
       "       'Special_Characters_for_Ok_Stamp', 'Blank', 'NSS', 'NSC', 'MLT', 'HHID',\n",
       "       'State_code', 'District_code', 'HH_Type_code', 'Combined_multiplier',\n",
       "       'Subsample_multiplier'],\n",
       "      dtype='object')"
      ]
     },
     "execution_count": 5,
     "metadata": {},
     "output_type": "execute_result"
    }
   ],
   "source": [
    "data.columns"
   ]
  },
  {
   "cell_type": "code",
   "execution_count": 11,
   "id": "4daa4ccc",
   "metadata": {},
   "outputs": [
    {
     "data": {
      "text/html": [
       "<div>\n",
       "<style scoped>\n",
       "    .dataframe tbody tr th:only-of-type {\n",
       "        vertical-align: middle;\n",
       "    }\n",
       "\n",
       "    .dataframe tbody tr th {\n",
       "        vertical-align: top;\n",
       "    }\n",
       "\n",
       "    .dataframe thead th {\n",
       "        text-align: right;\n",
       "    }\n",
       "</style>\n",
       "<table border=\"1\" class=\"dataframe\">\n",
       "  <thead>\n",
       "    <tr style=\"text-align: right;\">\n",
       "      <th></th>\n",
       "      <th>HHID</th>\n",
       "      <th>Sector</th>\n",
       "      <th>HH_Size</th>\n",
       "      <th>Religion</th>\n",
       "      <th>Social_Group</th>\n",
       "      <th>whether_Land_owned</th>\n",
       "      <th>State_code</th>\n",
       "      <th>HH_Type_code</th>\n",
       "    </tr>\n",
       "  </thead>\n",
       "  <tbody>\n",
       "    <tr>\n",
       "      <th>0</th>\n",
       "      <td>715581201</td>\n",
       "      <td>rural</td>\n",
       "      <td>5</td>\n",
       "      <td>Christianity</td>\n",
       "      <td>Scheduled Tribes</td>\n",
       "      <td>Yes</td>\n",
       "      <td>MEGHALAYA</td>\n",
       "      <td>Non-agriculture</td>\n",
       "    </tr>\n",
       "    <tr>\n",
       "      <th>1</th>\n",
       "      <td>715581202</td>\n",
       "      <td>rural</td>\n",
       "      <td>2</td>\n",
       "      <td>Christianity</td>\n",
       "      <td>Scheduled Tribes</td>\n",
       "      <td>Yes</td>\n",
       "      <td>MEGHALAYA</td>\n",
       "      <td>Non-agriculture</td>\n",
       "    </tr>\n",
       "    <tr>\n",
       "      <th>2</th>\n",
       "      <td>715581203</td>\n",
       "      <td>rural</td>\n",
       "      <td>2</td>\n",
       "      <td>Christianity</td>\n",
       "      <td>Scheduled Tribes</td>\n",
       "      <td>Yes</td>\n",
       "      <td>MEGHALAYA</td>\n",
       "      <td>Non-agriculture</td>\n",
       "    </tr>\n",
       "    <tr>\n",
       "      <th>3</th>\n",
       "      <td>715581204</td>\n",
       "      <td>rural</td>\n",
       "      <td>1</td>\n",
       "      <td>Islam</td>\n",
       "      <td>Scheduled Tribes</td>\n",
       "      <td>Yes</td>\n",
       "      <td>MEGHALAYA</td>\n",
       "      <td>Non-agriculture</td>\n",
       "    </tr>\n",
       "    <tr>\n",
       "      <th>4</th>\n",
       "      <td>715581301</td>\n",
       "      <td>rural</td>\n",
       "      <td>6</td>\n",
       "      <td>Christianity</td>\n",
       "      <td>Scheduled Tribes</td>\n",
       "      <td>Yes</td>\n",
       "      <td>MEGHALAYA</td>\n",
       "      <td>Casual labour in : Agriculture</td>\n",
       "    </tr>\n",
       "  </tbody>\n",
       "</table>\n",
       "</div>"
      ],
      "text/plain": [
       "        HHID Sector  HH_Size      Religion      Social_Group  \\\n",
       "0  715581201  rural        5  Christianity  Scheduled Tribes   \n",
       "1  715581202  rural        2  Christianity  Scheduled Tribes   \n",
       "2  715581203  rural        2  Christianity  Scheduled Tribes   \n",
       "3  715581204  rural        1         Islam  Scheduled Tribes   \n",
       "4  715581301  rural        6  Christianity  Scheduled Tribes   \n",
       "\n",
       "  whether_Land_owned State_code                    HH_Type_code  \n",
       "0                Yes  MEGHALAYA                 Non-agriculture  \n",
       "1                Yes  MEGHALAYA                 Non-agriculture  \n",
       "2                Yes  MEGHALAYA                 Non-agriculture  \n",
       "3                Yes  MEGHALAYA                 Non-agriculture  \n",
       "4                Yes  MEGHALAYA  Casual labour in : Agriculture  "
      ]
     },
     "execution_count": 11,
     "metadata": {},
     "output_type": "execute_result"
    }
   ],
   "source": [
    "data=data[['HHID', 'Sector', 'HH_Size', \n",
    "        'Religion', 'Social_Group', 'whether_Land_owned', \n",
    "       'State_code', 'HH_Type_code']]\n",
    "data.head()"
   ]
  },
  {
   "cell_type": "code",
   "execution_count": 180,
   "id": "2d7414e8",
   "metadata": {},
   "outputs": [
    {
     "data": {
      "text/plain": [
       "(101662, 8)"
      ]
     },
     "execution_count": 180,
     "metadata": {},
     "output_type": "execute_result"
    }
   ],
   "source": [
    "data.shape"
   ]
  },
  {
   "cell_type": "code",
   "execution_count": 181,
   "id": "1458314f",
   "metadata": {},
   "outputs": [
    {
     "data": {
      "text/plain": [
       "HHID                   0\n",
       "Sector                 0\n",
       "HH_Size                0\n",
       "Religion               3\n",
       "Social_Group          14\n",
       "whether_Land_owned    10\n",
       "State_code             0\n",
       "HH_Type_code           0\n",
       "dtype: int64"
      ]
     },
     "execution_count": 181,
     "metadata": {},
     "output_type": "execute_result"
    }
   ],
   "source": [
    "data.isna().sum()"
   ]
  },
  {
   "cell_type": "code",
   "execution_count": 182,
   "id": "a3326312",
   "metadata": {},
   "outputs": [],
   "source": [
    "data = data.dropna()"
   ]
  },
  {
   "cell_type": "code",
   "execution_count": 183,
   "id": "5a59b53d",
   "metadata": {},
   "outputs": [
    {
     "data": {
      "text/plain": [
       "False"
      ]
     },
     "execution_count": 183,
     "metadata": {},
     "output_type": "execute_result"
    }
   ],
   "source": [
    "data.duplicated().any()"
   ]
  },
  {
   "cell_type": "code",
   "execution_count": 185,
   "id": "29842e00",
   "metadata": {},
   "outputs": [
    {
     "data": {
      "text/html": [
       "<div>\n",
       "<style scoped>\n",
       "    .dataframe tbody tr th:only-of-type {\n",
       "        vertical-align: middle;\n",
       "    }\n",
       "\n",
       "    .dataframe tbody tr th {\n",
       "        vertical-align: top;\n",
       "    }\n",
       "\n",
       "    .dataframe thead th {\n",
       "        text-align: right;\n",
       "    }\n",
       "</style>\n",
       "<table border=\"1\" class=\"dataframe\">\n",
       "  <thead>\n",
       "    <tr style=\"text-align: right;\">\n",
       "      <th></th>\n",
       "      <th>HHID</th>\n",
       "      <th>HH_Size</th>\n",
       "    </tr>\n",
       "  </thead>\n",
       "  <tbody>\n",
       "    <tr>\n",
       "      <th>count</th>\n",
       "      <td>1.016360e+05</td>\n",
       "      <td>101636.000000</td>\n",
       "    </tr>\n",
       "    <tr>\n",
       "      <th>mean</th>\n",
       "      <td>6.265099e+08</td>\n",
       "      <td>4.573694</td>\n",
       "    </tr>\n",
       "    <tr>\n",
       "      <th>std</th>\n",
       "      <td>1.480073e+08</td>\n",
       "      <td>2.247387</td>\n",
       "    </tr>\n",
       "    <tr>\n",
       "      <th>min</th>\n",
       "      <td>4.100011e+08</td>\n",
       "      <td>1.000000</td>\n",
       "    </tr>\n",
       "    <tr>\n",
       "      <th>25%</th>\n",
       "      <td>4.652713e+08</td>\n",
       "      <td>3.000000</td>\n",
       "    </tr>\n",
       "    <tr>\n",
       "      <th>50%</th>\n",
       "      <td>7.179322e+08</td>\n",
       "      <td>4.000000</td>\n",
       "    </tr>\n",
       "    <tr>\n",
       "      <th>75%</th>\n",
       "      <td>7.537422e+08</td>\n",
       "      <td>6.000000</td>\n",
       "    </tr>\n",
       "    <tr>\n",
       "      <th>max</th>\n",
       "      <td>7.999823e+08</td>\n",
       "      <td>39.000000</td>\n",
       "    </tr>\n",
       "  </tbody>\n",
       "</table>\n",
       "</div>"
      ],
      "text/plain": [
       "               HHID        HH_Size\n",
       "count  1.016360e+05  101636.000000\n",
       "mean   6.265099e+08       4.573694\n",
       "std    1.480073e+08       2.247387\n",
       "min    4.100011e+08       1.000000\n",
       "25%    4.652713e+08       3.000000\n",
       "50%    7.179322e+08       4.000000\n",
       "75%    7.537422e+08       6.000000\n",
       "max    7.999823e+08      39.000000"
      ]
     },
     "execution_count": 185,
     "metadata": {},
     "output_type": "execute_result"
    }
   ],
   "source": [
    "data.describe()"
   ]
  },
  {
   "cell_type": "code",
   "execution_count": 184,
   "id": "41fcbbab",
   "metadata": {},
   "outputs": [
    {
     "data": {
      "text/plain": [
       "<Figure size 720x432 with 0 Axes>"
      ]
     },
     "metadata": {},
     "output_type": "display_data"
    },
    {
     "data": {
      "image/png": "[encoded data removed]",
      "text/plain": [
       "<Figure size 720x432 with 1 Axes>"
      ]
     },
     "metadata": {},
     "output_type": "display_data"
    },
    {
     "data": {
      "image/png": "[encoded data removed]",
      "text/plain": [
       "<Figure size 720x432 with 1 Axes>"
      ]
     },
     "metadata": {},
     "output_type": "display_data"
    }
   ],
   "source": [
    "#Check Outliers\n",
    "num_df = data.select_dtypes(exclude=['object'])\n",
    "# Plot the variables (loop for plot variables) for num values\n",
    "plt.figure(figsize=(10, 6))\n",
    "for col in num_df:\n",
    "    plt.figure(figsize=(10, 6))\n",
    "    data.boxplot(column=[col])\n",
    "    plt.title(col)\n",
    "    plt.savefig(col+r'.png',bbox_inches='tight')"
   ]
  },
  {
   "cell_type": "code",
   "execution_count": 187,
   "id": "cfc37612",
   "metadata": {},
   "outputs": [
    {
     "data": {
      "text/plain": [
       "(26, 8)"
      ]
     },
     "execution_count": 187,
     "metadata": {},
     "output_type": "execute_result"
    }
   ],
   "source": [
    "#We can see there are some outliers in Household size so we check these rows to knows how many is there\n",
    "data[(data['HH_Size'] >20)].shape\n",
    "\n",
    "\n"
   ]
  },
  {
   "cell_type": "code",
   "execution_count": 189,
   "id": "f757f4c9",
   "metadata": {},
   "outputs": [],
   "source": [
    "#there is only 26 family on 83600: so we decide to drop them  ( but after concat other dataset)\n",
    "data = data.drop(data[data['HH_Size'] >20].index)\n",
    "\n"
   ]
  },
  {
   "cell_type": "code",
   "execution_count": 190,
   "id": "3bc5dfa0",
   "metadata": {},
   "outputs": [
    {
     "data": {
      "text/plain": [
       "(101610, 8)"
      ]
     },
     "execution_count": 190,
     "metadata": {},
     "output_type": "execute_result"
    }
   ],
   "source": [
    "data.shape"
   ]
  },
  {
   "cell_type": "code",
   "execution_count": 191,
   "id": "c71f35e5",
   "metadata": {},
   "outputs": [],
   "source": [
    "##Exporting File\n",
    "file_url = r'C:\\Users\\Lenovo\\Documents\\INDE DATA\\HOUSEHOLDNSS68CLEAN.csv'\n",
    "data.to_csv(file_url,index = False)"
   ]
  },
  {
   "cell_type": "markdown",
   "id": "9969c3e4",
   "metadata": {},
   "source": [
    "## descriptive analytic on household"
   ]
  },
  {
   "cell_type": "code",
   "execution_count": 207,
   "id": "2042f1bb",
   "metadata": {},
   "outputs": [
    {
     "data": {
      "text/plain": [
       "Other Backward Classes    39899\n",
       "Others                    32399\n",
       "Scheduled Castes          15691\n",
       "Scheduled Tribes          13621\n",
       "Name: Social_Group, dtype: int64"
      ]
     },
     "execution_count": 207,
     "metadata": {},
     "output_type": "execute_result"
    }
   ],
   "source": [
    "data ['Social_Group'].value_counts()"
   ]
  },
  {
   "cell_type": "code",
   "execution_count": 211,
   "id": "95b86ee8",
   "metadata": {},
   "outputs": [
    {
     "data": {
      "text/plain": [
       "<AxesSubplot:>"
      ]
     },
     "execution_count": 211,
     "metadata": {},
     "output_type": "execute_result"
    },
    {
     "data": {
      "image/png": "[encoded data removed]",
      "text/plain": [
       "<Figure size 720x360 with 1 Axes>"
      ]
     },
     "metadata": {},
     "output_type": "display_data"
    }
   ],
   "source": [
    "\n",
    "data ['Religion'].hist()\n"
   ]
  },
  {
   "cell_type": "code",
   "execution_count": 210,
   "id": "324f29e8",
   "metadata": {},
   "outputs": [
    {
     "data": {
      "image/png": "[encoded data removed]",
      "text/plain": [
       "<Figure size 720x360 with 1 Axes>"
      ]
     },
     "metadata": {},
     "output_type": "display_data"
    }
   ],
   "source": [
    "sns.countplot(x='Social_Group', data=data, color='black')\n",
    "plt.show()"
   ]
  },
  {
   "cell_type": "code",
   "execution_count": 248,
   "id": "23eb60cb",
   "metadata": {},
   "outputs": [
    {
     "data": {
      "image/png": "[encoded data removed]",
      "text/plain": [
       "<Figure size 1490.4x1099.44 with 1 Axes>"
      ]
     },
     "metadata": {},
     "output_type": "display_data"
    }
   ],
   "source": [
    "data ['Sector'].hist()\n",
    "plt.show()"
   ]
  },
  {
   "cell_type": "code",
   "execution_count": 214,
   "id": "e5ca30f8",
   "metadata": {},
   "outputs": [
    {
     "data": {
      "text/html": [
       "<div>\n",
       "<style scoped>\n",
       "    .dataframe tbody tr th:only-of-type {\n",
       "        vertical-align: middle;\n",
       "    }\n",
       "\n",
       "    .dataframe tbody tr th {\n",
       "        vertical-align: top;\n",
       "    }\n",
       "\n",
       "    .dataframe thead th {\n",
       "        text-align: right;\n",
       "    }\n",
       "</style>\n",
       "<table border=\"1\" class=\"dataframe\">\n",
       "  <thead>\n",
       "    <tr style=\"text-align: right;\">\n",
       "      <th></th>\n",
       "      <th>HHID</th>\n",
       "      <th>HH_Size</th>\n",
       "    </tr>\n",
       "    <tr>\n",
       "      <th>Religion</th>\n",
       "      <th></th>\n",
       "      <th></th>\n",
       "    </tr>\n",
       "  </thead>\n",
       "  <tbody>\n",
       "    <tr>\n",
       "      <th>Buddhism</th>\n",
       "      <td>6.454728e+08</td>\n",
       "      <td>4.360146</td>\n",
       "    </tr>\n",
       "    <tr>\n",
       "      <th>Christianity</th>\n",
       "      <td>6.148756e+08</td>\n",
       "      <td>4.710567</td>\n",
       "    </tr>\n",
       "    <tr>\n",
       "      <th>Hinduism</th>\n",
       "      <td>6.279411e+08</td>\n",
       "      <td>4.435115</td>\n",
       "    </tr>\n",
       "    <tr>\n",
       "      <th>Islam</th>\n",
       "      <td>6.150414e+08</td>\n",
       "      <td>5.234649</td>\n",
       "    </tr>\n",
       "    <tr>\n",
       "      <th>Jainism</th>\n",
       "      <td>5.045909e+08</td>\n",
       "      <td>4.478261</td>\n",
       "    </tr>\n",
       "    <tr>\n",
       "      <th>Others</th>\n",
       "      <td>6.461468e+08</td>\n",
       "      <td>4.869748</td>\n",
       "    </tr>\n",
       "    <tr>\n",
       "      <th>Sikhism</th>\n",
       "      <td>6.866876e+08</td>\n",
       "      <td>4.833333</td>\n",
       "    </tr>\n",
       "    <tr>\n",
       "      <th>Zoroastrianism</th>\n",
       "      <td>5.477278e+08</td>\n",
       "      <td>4.333333</td>\n",
       "    </tr>\n",
       "  </tbody>\n",
       "</table>\n",
       "</div>"
      ],
      "text/plain": [
       "                        HHID   HH_Size\n",
       "Religion                              \n",
       "Buddhism        6.454728e+08  4.360146\n",
       "Christianity    6.148756e+08  4.710567\n",
       "Hinduism        6.279411e+08  4.435115\n",
       "Islam           6.150414e+08  5.234649\n",
       "Jainism         5.045909e+08  4.478261\n",
       "Others          6.461468e+08  4.869748\n",
       "Sikhism         6.866876e+08  4.833333\n",
       "Zoroastrianism  5.477278e+08  4.333333"
      ]
     },
     "execution_count": 214,
     "metadata": {},
     "output_type": "execute_result"
    }
   ],
   "source": [
    "data_group = data.groupby(['Religion']).mean()\n",
    "data_group \n"
   ]
  },
  {
   "cell_type": "code",
   "execution_count": 215,
   "id": "eab6f0c1",
   "metadata": {},
   "outputs": [
    {
     "data": {
      "text/html": [
       "<div>\n",
       "<style scoped>\n",
       "    .dataframe tbody tr th:only-of-type {\n",
       "        vertical-align: middle;\n",
       "    }\n",
       "\n",
       "    .dataframe tbody tr th {\n",
       "        vertical-align: top;\n",
       "    }\n",
       "\n",
       "    .dataframe thead th {\n",
       "        text-align: right;\n",
       "    }\n",
       "</style>\n",
       "<table border=\"1\" class=\"dataframe\">\n",
       "  <thead>\n",
       "    <tr style=\"text-align: right;\">\n",
       "      <th></th>\n",
       "      <th>HHID</th>\n",
       "      <th>HH_Size</th>\n",
       "    </tr>\n",
       "    <tr>\n",
       "      <th>Social_Group</th>\n",
       "      <th></th>\n",
       "      <th></th>\n",
       "    </tr>\n",
       "  </thead>\n",
       "  <tbody>\n",
       "    <tr>\n",
       "      <th>Other Backward Classes</th>\n",
       "      <td>6.269403e+08</td>\n",
       "      <td>4.602772</td>\n",
       "    </tr>\n",
       "    <tr>\n",
       "      <th>Others</th>\n",
       "      <td>6.005104e+08</td>\n",
       "      <td>4.457885</td>\n",
       "    </tr>\n",
       "    <tr>\n",
       "      <th>Scheduled Castes</th>\n",
       "      <td>6.483669e+08</td>\n",
       "      <td>4.535148</td>\n",
       "    </tr>\n",
       "    <tr>\n",
       "      <th>Scheduled Tribes</th>\n",
       "      <td>6.618194e+08</td>\n",
       "      <td>4.772337</td>\n",
       "    </tr>\n",
       "  </tbody>\n",
       "</table>\n",
       "</div>"
      ],
      "text/plain": [
       "                                HHID   HH_Size\n",
       "Social_Group                                  \n",
       "Other Backward Classes  6.269403e+08  4.602772\n",
       "Others                  6.005104e+08  4.457885\n",
       "Scheduled Castes        6.483669e+08  4.535148\n",
       "Scheduled Tribes        6.618194e+08  4.772337"
      ]
     },
     "execution_count": 215,
     "metadata": {},
     "output_type": "execute_result"
    }
   ],
   "source": [
    "data_group = data.groupby(['Social_Group']).mean()\n",
    "data_group \n",
    "\n"
   ]
  },
  {
   "cell_type": "code",
   "execution_count": 219,
   "id": "9409c3ef",
   "metadata": {},
   "outputs": [
    {
     "data": {
      "text/html": [
       "<div>\n",
       "<style scoped>\n",
       "    .dataframe tbody tr th:only-of-type {\n",
       "        vertical-align: middle;\n",
       "    }\n",
       "\n",
       "    .dataframe tbody tr th {\n",
       "        vertical-align: top;\n",
       "    }\n",
       "\n",
       "    .dataframe thead th {\n",
       "        text-align: right;\n",
       "    }\n",
       "</style>\n",
       "<table border=\"1\" class=\"dataframe\">\n",
       "  <thead>\n",
       "    <tr style=\"text-align: right;\">\n",
       "      <th></th>\n",
       "      <th></th>\n",
       "      <th>HHID</th>\n",
       "      <th>HH_Size</th>\n",
       "    </tr>\n",
       "    <tr>\n",
       "      <th>Religion</th>\n",
       "      <th>Social_Group</th>\n",
       "      <th></th>\n",
       "      <th></th>\n",
       "    </tr>\n",
       "  </thead>\n",
       "  <tbody>\n",
       "    <tr>\n",
       "      <th rowspan=\"4\" valign=\"top\">Buddhism</th>\n",
       "      <th>Other Backward Classes</th>\n",
       "      <td>7.043219e+08</td>\n",
       "      <td>4.705882</td>\n",
       "    </tr>\n",
       "    <tr>\n",
       "      <th>Others</th>\n",
       "      <td>6.929916e+08</td>\n",
       "      <td>4.722222</td>\n",
       "    </tr>\n",
       "    <tr>\n",
       "      <th>Scheduled Castes</th>\n",
       "      <td>5.648183e+08</td>\n",
       "      <td>4.443590</td>\n",
       "    </tr>\n",
       "    <tr>\n",
       "      <th>Scheduled Tribes</th>\n",
       "      <td>6.890063e+08</td>\n",
       "      <td>4.242475</td>\n",
       "    </tr>\n",
       "    <tr>\n",
       "      <th rowspan=\"4\" valign=\"top\">Christianity</th>\n",
       "      <th>Other Backward Classes</th>\n",
       "      <td>5.792670e+08</td>\n",
       "      <td>3.718009</td>\n",
       "    </tr>\n",
       "    <tr>\n",
       "      <th>Others</th>\n",
       "      <td>5.974059e+08</td>\n",
       "      <td>3.652941</td>\n",
       "    </tr>\n",
       "    <tr>\n",
       "      <th>Scheduled Castes</th>\n",
       "      <td>6.053287e+08</td>\n",
       "      <td>3.815000</td>\n",
       "    </tr>\n",
       "    <tr>\n",
       "      <th>Scheduled Tribes</th>\n",
       "      <td>6.248220e+08</td>\n",
       "      <td>5.129271</td>\n",
       "    </tr>\n",
       "    <tr>\n",
       "      <th rowspan=\"4\" valign=\"top\">Hinduism</th>\n",
       "      <th>Other Backward Classes</th>\n",
       "      <td>6.310152e+08</td>\n",
       "      <td>4.499024</td>\n",
       "    </tr>\n",
       "    <tr>\n",
       "      <th>Others</th>\n",
       "      <td>5.937837e+08</td>\n",
       "      <td>4.274020</td>\n",
       "    </tr>\n",
       "    <tr>\n",
       "      <th>Scheduled Castes</th>\n",
       "      <td>6.483370e+08</td>\n",
       "      <td>4.521520</td>\n",
       "    </tr>\n",
       "    <tr>\n",
       "      <th>Scheduled Tribes</th>\n",
       "      <td>6.873789e+08</td>\n",
       "      <td>4.495692</td>\n",
       "    </tr>\n",
       "    <tr>\n",
       "      <th rowspan=\"4\" valign=\"top\">Islam</th>\n",
       "      <th>Other Backward Classes</th>\n",
       "      <td>6.097627e+08</td>\n",
       "      <td>5.299534</td>\n",
       "    </tr>\n",
       "    <tr>\n",
       "      <th>Others</th>\n",
       "      <td>6.164117e+08</td>\n",
       "      <td>5.161590</td>\n",
       "    </tr>\n",
       "    <tr>\n",
       "      <th>Scheduled Castes</th>\n",
       "      <td>6.015897e+08</td>\n",
       "      <td>5.564286</td>\n",
       "    </tr>\n",
       "    <tr>\n",
       "      <th>Scheduled Tribes</th>\n",
       "      <td>6.597954e+08</td>\n",
       "      <td>5.358238</td>\n",
       "    </tr>\n",
       "    <tr>\n",
       "      <th rowspan=\"4\" valign=\"top\">Jainism</th>\n",
       "      <th>Other Backward Classes</th>\n",
       "      <td>5.329476e+08</td>\n",
       "      <td>3.814815</td>\n",
       "    </tr>\n",
       "    <tr>\n",
       "      <th>Others</th>\n",
       "      <td>4.938203e+08</td>\n",
       "      <td>4.552817</td>\n",
       "    </tr>\n",
       "    <tr>\n",
       "      <th>Scheduled Castes</th>\n",
       "      <td>7.788844e+08</td>\n",
       "      <td>4.142857</td>\n",
       "    </tr>\n",
       "    <tr>\n",
       "      <th>Scheduled Tribes</th>\n",
       "      <td>5.978839e+08</td>\n",
       "      <td>4.250000</td>\n",
       "    </tr>\n",
       "    <tr>\n",
       "      <th rowspan=\"4\" valign=\"top\">Others</th>\n",
       "      <th>Other Backward Classes</th>\n",
       "      <td>6.043699e+08</td>\n",
       "      <td>4.842105</td>\n",
       "    </tr>\n",
       "    <tr>\n",
       "      <th>Others</th>\n",
       "      <td>5.814037e+08</td>\n",
       "      <td>4.683333</td>\n",
       "    </tr>\n",
       "    <tr>\n",
       "      <th>Scheduled Castes</th>\n",
       "      <td>5.979682e+08</td>\n",
       "      <td>4.535714</td>\n",
       "    </tr>\n",
       "    <tr>\n",
       "      <th>Scheduled Tribes</th>\n",
       "      <td>6.594750e+08</td>\n",
       "      <td>4.901333</td>\n",
       "    </tr>\n",
       "    <tr>\n",
       "      <th rowspan=\"4\" valign=\"top\">Sikhism</th>\n",
       "      <th>Other Backward Classes</th>\n",
       "      <td>6.555410e+08</td>\n",
       "      <td>4.918567</td>\n",
       "    </tr>\n",
       "    <tr>\n",
       "      <th>Others</th>\n",
       "      <td>6.727485e+08</td>\n",
       "      <td>4.771639</td>\n",
       "    </tr>\n",
       "    <tr>\n",
       "      <th>Scheduled Castes</th>\n",
       "      <td>7.275204e+08</td>\n",
       "      <td>4.913540</td>\n",
       "    </tr>\n",
       "    <tr>\n",
       "      <th>Scheduled Tribes</th>\n",
       "      <td>6.536224e+08</td>\n",
       "      <td>4.000000</td>\n",
       "    </tr>\n",
       "    <tr>\n",
       "      <th rowspan=\"2\" valign=\"top\">Zoroastrianism</th>\n",
       "      <th>Others</th>\n",
       "      <td>4.246311e+08</td>\n",
       "      <td>3.500000</td>\n",
       "    </tr>\n",
       "    <tr>\n",
       "      <th>Scheduled Castes</th>\n",
       "      <td>7.939212e+08</td>\n",
       "      <td>6.000000</td>\n",
       "    </tr>\n",
       "  </tbody>\n",
       "</table>\n",
       "</div>"
      ],
      "text/plain": [
       "                                               HHID   HH_Size\n",
       "Religion       Social_Group                                  \n",
       "Buddhism       Other Backward Classes  7.043219e+08  4.705882\n",
       "               Others                  6.929916e+08  4.722222\n",
       "               Scheduled Castes        5.648183e+08  4.443590\n",
       "               Scheduled Tribes        6.890063e+08  4.242475\n",
       "Christianity   Other Backward Classes  5.792670e+08  3.718009\n",
       "               Others                  5.974059e+08  3.652941\n",
       "               Scheduled Castes        6.053287e+08  3.815000\n",
       "               Scheduled Tribes        6.248220e+08  5.129271\n",
       "Hinduism       Other Backward Classes  6.310152e+08  4.499024\n",
       "               Others                  5.937837e+08  4.274020\n",
       "               Scheduled Castes        6.483370e+08  4.521520\n",
       "               Scheduled Tribes        6.873789e+08  4.495692\n",
       "Islam          Other Backward Classes  6.097627e+08  5.299534\n",
       "               Others                  6.164117e+08  5.161590\n",
       "               Scheduled Castes        6.015897e+08  5.564286\n",
       "               Scheduled Tribes        6.597954e+08  5.358238\n",
       "Jainism        Other Backward Classes  5.329476e+08  3.814815\n",
       "               Others                  4.938203e+08  4.552817\n",
       "               Scheduled Castes        7.788844e+08  4.142857\n",
       "               Scheduled Tribes        5.978839e+08  4.250000\n",
       "Others         Other Backward Classes  6.043699e+08  4.842105\n",
       "               Others                  5.814037e+08  4.683333\n",
       "               Scheduled Castes        5.979682e+08  4.535714\n",
       "               Scheduled Tribes        6.594750e+08  4.901333\n",
       "Sikhism        Other Backward Classes  6.555410e+08  4.918567\n",
       "               Others                  6.727485e+08  4.771639\n",
       "               Scheduled Castes        7.275204e+08  4.913540\n",
       "               Scheduled Tribes        6.536224e+08  4.000000\n",
       "Zoroastrianism Others                  4.246311e+08  3.500000\n",
       "               Scheduled Castes        7.939212e+08  6.000000"
      ]
     },
     "execution_count": 219,
     "metadata": {},
     "output_type": "execute_result"
    }
   ],
   "source": [
    "\n",
    "data_group = data.groupby(['Religion','Social_Group']).mean()\n",
    "data_group"
   ]
  },
  {
   "cell_type": "code",
   "execution_count": 257,
   "id": "d34c6529",
   "metadata": {},
   "outputs": [
    {
     "data": {
      "text/plain": [
       "<AxesSubplot:xlabel='Religion', ylabel='State_code'>"
      ]
     },
     "execution_count": 257,
     "metadata": {},
     "output_type": "execute_result"
    },
    {
     "data": {
      "image/png": "[encoded data removed]",
      "text/plain": [
       "<Figure size 720x1440 with 1 Axes>"
      ]
     },
     "metadata": {},
     "output_type": "display_data"
    }
   ],
   "source": [
    "\n",
    "from matplotlib import pyplot as plt\n",
    "import seaborn as sns\n",
    "\n",
    "fig_dims = (10, 20)\n",
    "fig, ax = plt.subplots(figsize=fig_dims)\n",
    "sns.stripplot(data=data, x='Religion', y='State_code', ax=ax)\n",
    "\n"
   ]
  },
  {
   "cell_type": "code",
   "execution_count": 258,
   "id": "bdcc436f",
   "metadata": {},
   "outputs": [
    {
     "data": {
      "text/plain": [
       "<AxesSubplot:xlabel='Social_Group', ylabel='State_code'>"
      ]
     },
     "execution_count": 258,
     "metadata": {},
     "output_type": "execute_result"
    },
    {
     "data": {
      "image/png": "[encoded data removed]",
      "text/plain": [
       "<Figure size 720x1440 with 1 Axes>"
      ]
     },
     "metadata": {},
     "output_type": "display_data"
    }
   ],
   "source": [
    "\n",
    "from matplotlib import pyplot as plt\n",
    "import seaborn as sns\n",
    "\n",
    "fig_dims = (10, 20)\n",
    "fig, ax = plt.subplots(figsize=fig_dims)\n",
    "sns.stripplot(data=data, x='Social_Group', y='State_code', ax=ax)\n",
    "\n"
   ]
  },
  {
   "cell_type": "code",
   "execution_count": 241,
   "id": "da98d9cf",
   "metadata": {},
   "outputs": [
    {
     "data": {
      "text/plain": [
       "<AxesSubplot:>"
      ]
     },
     "execution_count": 241,
     "metadata": {},
     "output_type": "execute_result"
    },
    {
     "data": {
      "image/png": "[encoded data removed]",
      "text/plain": [
       "<Figure size 1440x720 with 1 Axes>"
      ]
     },
     "metadata": {},
     "output_type": "display_data"
    }
   ],
   "source": [
    "data['State_code'].value_counts().head(10).plot(kind='barh', figsize=(20,10))\n"
   ]
  },
  {
   "cell_type": "code",
   "execution_count": 232,
   "id": "c6df1469",
   "metadata": {},
   "outputs": [
    {
     "ename": "NameError",
     "evalue": "name 'figure' is not defined",
     "output_type": "error",
     "traceback": [
      "\u001b[1;31m---------------------------------------------------------------------------\u001b[0m",
      "\u001b[1;31mNameError\u001b[0m                                 Traceback (most recent call last)",
      "\u001b[1;32m~\\AppData\\Local\\Temp/ipykernel_7100/3604982695.py\u001b[0m in \u001b[0;36m<module>\u001b[1;34m\u001b[0m\n\u001b[1;32m----> 1\u001b[1;33m \u001b[0mfigure\u001b[0m\u001b[1;33m(\u001b[0m\u001b[0mfigsize\u001b[0m\u001b[1;33m=\u001b[0m\u001b[1;33m(\u001b[0m\u001b[1;36m10\u001b[0m\u001b[1;33m,\u001b[0m\u001b[1;36m10\u001b[0m\u001b[1;33m)\u001b[0m\u001b[1;33m)\u001b[0m\u001b[1;33m\u001b[0m\u001b[1;33m\u001b[0m\u001b[0m\n\u001b[0m\u001b[0;32m      2\u001b[0m \u001b[1;33m\u001b[0m\u001b[0m\n\u001b[0;32m      3\u001b[0m \u001b[0msns\u001b[0m\u001b[1;33m.\u001b[0m\u001b[0mcatplot\u001b[0m\u001b[1;33m(\u001b[0m\u001b[0mdata\u001b[0m\u001b[1;33m=\u001b[0m\u001b[0mdata\u001b[0m\u001b[1;33m,\u001b[0m \u001b[0mx\u001b[0m\u001b[1;33m=\u001b[0m\u001b[1;34m'Religion'\u001b[0m\u001b[1;33m,\u001b[0m \u001b[0my\u001b[0m\u001b[1;33m=\u001b[0m\u001b[1;34m'State_code'\u001b[0m \u001b[1;33m)\u001b[0m\u001b[1;33m\u001b[0m\u001b[1;33m\u001b[0m\u001b[0m\n",
      "\u001b[1;31mNameError\u001b[0m: name 'figure' is not defined"
     ]
    }
   ],
   "source": [
    "\n",
    "fig, ax = plt.subplots()\n",
    "\n",
    "\n",
    "plt.scatter(data=data, x='Social_Group', y='State_code', cmap='viridis')\n",
    "\n",
    "\n",
    "sns.barplot( x='Religion', y='State_code', ax=ax, data=data)\n",
    "\n",
    "\n",
    "sns.catplot(data=data, x='Religion', y='State_code' )"
   ]
  },
  {
   "cell_type": "markdown",
   "id": "ad10e351",
   "metadata": {},
   "source": [
    "# DATASET ON ALIMENTATION"
   ]
  },
  {
   "cell_type": "code",
   "execution_count": 33,
   "id": "9afd311e",
   "metadata": {},
   "outputs": [
    {
     "data": {
      "text/html": [
       "<div>\n",
       "<style scoped>\n",
       "    .dataframe tbody tr th:only-of-type {\n",
       "        vertical-align: middle;\n",
       "    }\n",
       "\n",
       "    .dataframe tbody tr th {\n",
       "        vertical-align: top;\n",
       "    }\n",
       "\n",
       "    .dataframe thead th {\n",
       "        text-align: right;\n",
       "    }\n",
       "</style>\n",
       "<table border=\"1\" class=\"dataframe\">\n",
       "  <thead>\n",
       "    <tr style=\"text-align: right;\">\n",
       "      <th></th>\n",
       "      <th>Round_Centre_code</th>\n",
       "      <th>FSU_Serial_no</th>\n",
       "      <th>Round</th>\n",
       "      <th>Sch_no</th>\n",
       "      <th>Sample</th>\n",
       "      <th>Sector</th>\n",
       "      <th>State_Region</th>\n",
       "      <th>District</th>\n",
       "      <th>Stratum</th>\n",
       "      <th>Sub_Stratum_No</th>\n",
       "      <th>Schedule_type</th>\n",
       "      <th>Sub_Round</th>\n",
       "      <th>Sub_Sample</th>\n",
       "      <th>FOD_Sub_Region</th>\n",
       "      <th>Hamlet_Group_Sub_Stratum_No</th>\n",
       "      <th>Second_Stage_Stratum_No</th>\n",
       "      <th>Sample_Hhld_No</th>\n",
       "      <th>Level</th>\n",
       "      <th>Filler</th>\n",
       "      <th>Item_Code</th>\n",
       "      <th>Home_Produce_Quantity</th>\n",
       "      <th>Home_Produce_Value</th>\n",
       "      <th>Total_Consumption_Quantity</th>\n",
       "      <th>Total_Consumption_Value</th>\n",
       "      <th>Source_Code</th>\n",
       "      <th>Special_Characters_for_Ok_Stamp</th>\n",
       "      <th>Blank</th>\n",
       "      <th>NSS</th>\n",
       "      <th>NSC</th>\n",
       "      <th>MLT</th>\n",
       "      <th>HHID</th>\n",
       "      <th>State_Code</th>\n",
       "      <th>District_code</th>\n",
       "      <th>Combined_multiplier</th>\n",
       "      <th>Subsample_multiplier</th>\n",
       "    </tr>\n",
       "  </thead>\n",
       "  <tbody>\n",
       "    <tr>\n",
       "      <th>0</th>\n",
       "      <td>9</td>\n",
       "      <td>71558</td>\n",
       "      <td>68</td>\n",
       "      <td>10</td>\n",
       "      <td>central</td>\n",
       "      <td>rural</td>\n",
       "      <td>171</td>\n",
       "      <td>1</td>\n",
       "      <td>1</td>\n",
       "      <td>1</td>\n",
       "      <td>1</td>\n",
       "      <td>sub-round 1  : July - September 2011</td>\n",
       "      <td>1</td>\n",
       "      <td>1711.0</td>\n",
       "      <td>1</td>\n",
       "      <td>2</td>\n",
       "      <td>1</td>\n",
       "      <td>5</td>\n",
       "      <td>0</td>\n",
       "      <td>Rice-PDS(Kg)</td>\n",
       "      <td></td>\n",
       "      <td></td>\n",
       "      <td>30000</td>\n",
       "      <td>420</td>\n",
       "      <td>only purchase</td>\n",
       "      <td>NaN</td>\n",
       "      <td>NaN</td>\n",
       "      <td>2</td>\n",
       "      <td>4</td>\n",
       "      <td>64816</td>\n",
       "      <td>715581201</td>\n",
       "      <td>MEGHALAYA</td>\n",
       "      <td>West Garo Hills</td>\n",
       "      <td>324,08</td>\n",
       "      <td>648,16</td>\n",
       "    </tr>\n",
       "    <tr>\n",
       "      <th>1</th>\n",
       "      <td>10</td>\n",
       "      <td>71558</td>\n",
       "      <td>68</td>\n",
       "      <td>10</td>\n",
       "      <td>central</td>\n",
       "      <td>rural</td>\n",
       "      <td>171</td>\n",
       "      <td>1</td>\n",
       "      <td>1</td>\n",
       "      <td>1</td>\n",
       "      <td>1</td>\n",
       "      <td>sub-round 1  : July - September 2011</td>\n",
       "      <td>1</td>\n",
       "      <td>1711.0</td>\n",
       "      <td>1</td>\n",
       "      <td>2</td>\n",
       "      <td>1</td>\n",
       "      <td>5</td>\n",
       "      <td>0</td>\n",
       "      <td>Rice-other sources(Kg)</td>\n",
       "      <td></td>\n",
       "      <td></td>\n",
       "      <td>15000</td>\n",
       "      <td>255</td>\n",
       "      <td>only purchase</td>\n",
       "      <td>NaN</td>\n",
       "      <td>NaN</td>\n",
       "      <td>2</td>\n",
       "      <td>4</td>\n",
       "      <td>64816</td>\n",
       "      <td>715581201</td>\n",
       "      <td>MEGHALAYA</td>\n",
       "      <td>West Garo Hills</td>\n",
       "      <td>324,08</td>\n",
       "      <td>648,16</td>\n",
       "    </tr>\n",
       "    <tr>\n",
       "      <th>2</th>\n",
       "      <td>11</td>\n",
       "      <td>71558</td>\n",
       "      <td>68</td>\n",
       "      <td>10</td>\n",
       "      <td>central</td>\n",
       "      <td>rural</td>\n",
       "      <td>171</td>\n",
       "      <td>1</td>\n",
       "      <td>1</td>\n",
       "      <td>1</td>\n",
       "      <td>1</td>\n",
       "      <td>sub-round 1  : July - September 2011</td>\n",
       "      <td>1</td>\n",
       "      <td>1711.0</td>\n",
       "      <td>1</td>\n",
       "      <td>2</td>\n",
       "      <td>1</td>\n",
       "      <td>5</td>\n",
       "      <td>0</td>\n",
       "      <td>Muri(Kg)</td>\n",
       "      <td></td>\n",
       "      <td></td>\n",
       "      <td>300</td>\n",
       "      <td>15</td>\n",
       "      <td>only purchase</td>\n",
       "      <td>NaN</td>\n",
       "      <td>NaN</td>\n",
       "      <td>2</td>\n",
       "      <td>4</td>\n",
       "      <td>64816</td>\n",
       "      <td>715581201</td>\n",
       "      <td>MEGHALAYA</td>\n",
       "      <td>West Garo Hills</td>\n",
       "      <td>324,08</td>\n",
       "      <td>648,16</td>\n",
       "    </tr>\n",
       "  </tbody>\n",
       "</table>\n",
       "</div>"
      ],
      "text/plain": [
       "   Round_Centre_code  FSU_Serial_no  Round  Sch_no   Sample Sector  \\\n",
       "0                  9          71558     68      10  central  rural   \n",
       "1                 10          71558     68      10  central  rural   \n",
       "2                 11          71558     68      10  central  rural   \n",
       "\n",
       "   State_Region  District  Stratum  Sub_Stratum_No  Schedule_type  \\\n",
       "0           171         1        1               1              1   \n",
       "1           171         1        1               1              1   \n",
       "2           171         1        1               1              1   \n",
       "\n",
       "                              Sub_Round  Sub_Sample  FOD_Sub_Region  \\\n",
       "0  sub-round 1  : July - September 2011           1          1711.0   \n",
       "1  sub-round 1  : July - September 2011           1          1711.0   \n",
       "2  sub-round 1  : July - September 2011           1          1711.0   \n",
       "\n",
       "   Hamlet_Group_Sub_Stratum_No  Second_Stage_Stratum_No  Sample_Hhld_No  \\\n",
       "0                            1                        2               1   \n",
       "1                            1                        2               1   \n",
       "2                            1                        2               1   \n",
       "\n",
       "   Level  Filler               Item_Code Home_Produce_Quantity  \\\n",
       "0      5       0            Rice-PDS(Kg)                         \n",
       "1      5       0  Rice-other sources(Kg)                         \n",
       "2      5       0                Muri(Kg)                         \n",
       "\n",
       "  Home_Produce_Value Total_Consumption_Quantity  Total_Consumption_Value  \\\n",
       "0                                         30000                      420   \n",
       "1                                         15000                      255   \n",
       "2                                           300                       15   \n",
       "\n",
       "     Source_Code  Special_Characters_for_Ok_Stamp  Blank  NSS  NSC    MLT  \\\n",
       "0  only purchase                              NaN    NaN    2    4  64816   \n",
       "1  only purchase                              NaN    NaN    2    4  64816   \n",
       "2  only purchase                              NaN    NaN    2    4  64816   \n",
       "\n",
       "        HHID State_Code    District_code Combined_multiplier  \\\n",
       "0  715581201  MEGHALAYA  West Garo Hills              324,08   \n",
       "1  715581201  MEGHALAYA  West Garo Hills              324,08   \n",
       "2  715581201  MEGHALAYA  West Garo Hills              324,08   \n",
       "\n",
       "  Subsample_multiplier  \n",
       "0               648,16  \n",
       "1               648,16  \n",
       "2               648,16  "
      ]
     },
     "execution_count": 33,
     "metadata": {},
     "output_type": "execute_result"
    }
   ],
   "source": [
    "\n",
    "file_url = r\"C:\\Users\\Lenovo\\Documents\\INDE DATA\\CEREALNSS68.csv\"\n",
    "\n",
    "cereal= pd.read_csv(file_url, on_bad_lines='skip', sep=\";\")\n",
    "#We make a copy of the file and work on it\n",
    "cereal = cereal.copy()\n",
    "cereal.head(3)"
   ]
  },
  {
   "cell_type": "code",
   "execution_count": 21,
   "id": "d6e54cf4",
   "metadata": {},
   "outputs": [
    {
     "data": {
      "text/plain": [
       "(5763152, 35)"
      ]
     },
     "execution_count": 21,
     "metadata": {},
     "output_type": "execute_result"
    }
   ],
   "source": [
    "cereal.shape"
   ]
  },
  {
   "cell_type": "code",
   "execution_count": 34,
   "id": "b00f3e3e",
   "metadata": {},
   "outputs": [
    {
     "data": {
      "text/plain": [
       "Index(['Round_Centre_code', 'FSU_Serial_no', 'Round', 'Sch_no', 'Sample',\n",
       "       'Sector', 'State_Region', 'District', 'Stratum', 'Sub_Stratum_No',\n",
       "       'Schedule_type', 'Sub_Round', 'Sub_Sample', 'FOD_Sub_Region',\n",
       "       'Hamlet_Group_Sub_Stratum_No', 'Second_Stage_Stratum_No',\n",
       "       'Sample_Hhld_No', 'Level', 'Filler', 'Item_Code',\n",
       "       'Home_Produce_Quantity', 'Home_Produce_Value',\n",
       "       'Total_Consumption_Quantity', 'Total_Consumption_Value', 'Source_Code',\n",
       "       'Special_Characters_for_Ok_Stamp', 'Blank', 'NSS', 'NSC', 'MLT', 'HHID',\n",
       "       'State_Code', 'District_code', 'Combined_multiplier',\n",
       "       'Subsample_multiplier'],\n",
       "      dtype='object')"
      ]
     },
     "execution_count": 34,
     "metadata": {},
     "output_type": "execute_result"
    }
   ],
   "source": [
    "cereal.columns"
   ]
  },
  {
   "cell_type": "code",
   "execution_count": 35,
   "id": "7ab2f81e",
   "metadata": {},
   "outputs": [],
   "source": [
    "cereal=cereal[['HHID', 'Item_Code',\n",
    "       'Total_Consumption_Quantity', 'Total_Consumption_Value', 'Source_Code'\n",
    "        ]]"
   ]
  },
  {
   "cell_type": "code",
   "execution_count": 36,
   "id": "11be1bb9",
   "metadata": {},
   "outputs": [
    {
     "data": {
      "text/html": [
       "<div>\n",
       "<style scoped>\n",
       "    .dataframe tbody tr th:only-of-type {\n",
       "        vertical-align: middle;\n",
       "    }\n",
       "\n",
       "    .dataframe tbody tr th {\n",
       "        vertical-align: top;\n",
       "    }\n",
       "\n",
       "    .dataframe thead th {\n",
       "        text-align: right;\n",
       "    }\n",
       "</style>\n",
       "<table border=\"1\" class=\"dataframe\">\n",
       "  <thead>\n",
       "    <tr style=\"text-align: right;\">\n",
       "      <th></th>\n",
       "      <th>HHID</th>\n",
       "      <th>Item_Code</th>\n",
       "      <th>Total_Consumption_Quantity</th>\n",
       "      <th>Total_Consumption_Value</th>\n",
       "      <th>Source_Code</th>\n",
       "    </tr>\n",
       "  </thead>\n",
       "  <tbody>\n",
       "    <tr>\n",
       "      <th>0</th>\n",
       "      <td>715581201</td>\n",
       "      <td>Rice-PDS(Kg)</td>\n",
       "      <td>30000</td>\n",
       "      <td>420</td>\n",
       "      <td>only purchase</td>\n",
       "    </tr>\n",
       "    <tr>\n",
       "      <th>1</th>\n",
       "      <td>715581201</td>\n",
       "      <td>Rice-other sources(Kg)</td>\n",
       "      <td>15000</td>\n",
       "      <td>255</td>\n",
       "      <td>only purchase</td>\n",
       "    </tr>\n",
       "    <tr>\n",
       "      <th>2</th>\n",
       "      <td>715581201</td>\n",
       "      <td>Muri(Kg)</td>\n",
       "      <td>300</td>\n",
       "      <td>15</td>\n",
       "      <td>only purchase</td>\n",
       "    </tr>\n",
       "    <tr>\n",
       "      <th>3</th>\n",
       "      <td>715581201</td>\n",
       "      <td>bread(bakery)(Kg)</td>\n",
       "      <td>1200</td>\n",
       "      <td>60</td>\n",
       "      <td>only purchase</td>\n",
       "    </tr>\n",
       "    <tr>\n",
       "      <th>4</th>\n",
       "      <td>715581201</td>\n",
       "      <td>Cereal(s.t)</td>\n",
       "      <td>46500</td>\n",
       "      <td>750</td>\n",
       "      <td>NaN</td>\n",
       "    </tr>\n",
       "    <tr>\n",
       "      <th>...</th>\n",
       "      <td>...</td>\n",
       "      <td>...</td>\n",
       "      <td>...</td>\n",
       "      <td>...</td>\n",
       "      <td>...</td>\n",
       "    </tr>\n",
       "    <tr>\n",
       "      <th>5763147</th>\n",
       "      <td>454191204</td>\n",
       "      <td>electricity (std. unit)</td>\n",
       "      <td>275</td>\n",
       "      <td>200</td>\n",
       "      <td>NaN</td>\n",
       "    </tr>\n",
       "    <tr>\n",
       "      <th>5763148</th>\n",
       "      <td>454191204</td>\n",
       "      <td>matches (box)</td>\n",
       "      <td>4</td>\n",
       "      <td>4</td>\n",
       "      <td>only purchase</td>\n",
       "    </tr>\n",
       "    <tr>\n",
       "      <th>5763149</th>\n",
       "      <td>454191204</td>\n",
       "      <td>LPG[excl. conveyance]</td>\n",
       "      <td>9466</td>\n",
       "      <td>255</td>\n",
       "      <td>only purchase</td>\n",
       "    </tr>\n",
       "    <tr>\n",
       "      <th>5763150</th>\n",
       "      <td>454191204</td>\n",
       "      <td>Candle (no.)</td>\n",
       "      <td>4</td>\n",
       "      <td>20</td>\n",
       "      <td>only purchase</td>\n",
       "    </tr>\n",
       "    <tr>\n",
       "      <th>5763151</th>\n",
       "      <td>454191204</td>\n",
       "      <td>fuel and light : s.t. (330-345)</td>\n",
       "      <td></td>\n",
       "      <td>479</td>\n",
       "      <td>NaN</td>\n",
       "    </tr>\n",
       "  </tbody>\n",
       "</table>\n",
       "<p>5763152 rows × 5 columns</p>\n",
       "</div>"
      ],
      "text/plain": [
       "              HHID                        Item_Code  \\\n",
       "0        715581201                     Rice-PDS(Kg)   \n",
       "1        715581201           Rice-other sources(Kg)   \n",
       "2        715581201                         Muri(Kg)   \n",
       "3        715581201                bread(bakery)(Kg)   \n",
       "4        715581201                      Cereal(s.t)   \n",
       "...            ...                              ...   \n",
       "5763147  454191204          electricity (std. unit)   \n",
       "5763148  454191204                    matches (box)   \n",
       "5763149  454191204            LPG[excl. conveyance]   \n",
       "5763150  454191204                     Candle (no.)   \n",
       "5763151  454191204  fuel and light : s.t. (330-345)   \n",
       "\n",
       "        Total_Consumption_Quantity  Total_Consumption_Value    Source_Code  \n",
       "0                            30000                      420  only purchase  \n",
       "1                            15000                      255  only purchase  \n",
       "2                              300                       15  only purchase  \n",
       "3                             1200                       60  only purchase  \n",
       "4                            46500                      750            NaN  \n",
       "...                            ...                      ...            ...  \n",
       "5763147                        275                      200            NaN  \n",
       "5763148                          4                        4  only purchase  \n",
       "5763149                       9466                      255  only purchase  \n",
       "5763150                          4                       20  only purchase  \n",
       "5763151                                                 479            NaN  \n",
       "\n",
       "[5763152 rows x 5 columns]"
      ]
     },
     "execution_count": 36,
     "metadata": {},
     "output_type": "execute_result"
    }
   ],
   "source": [
    "cereal"
   ]
  },
  {
   "cell_type": "code",
   "execution_count": 25,
   "id": "1db63734",
   "metadata": {},
   "outputs": [
    {
     "data": {
      "text/plain": [
       "array(['Rice-PDS(Kg)', 'Rice-other sources(Kg)', 'Muri(Kg)',\n",
       "       'bread(bakery)(Kg)', 'Cereal(s.t)',\n",
       "       'Cereal Substitute : tapioca etc.', 'masur(Kg)',\n",
       "       'other pulse products(Kg)', 'Pulses and Pulse Products(s.t)',\n",
       "       'milk : liquid(litre)', 'Milk & Milk Products : s.t (160-167)',\n",
       "       'salt', 'sugar - PDS', 'sugar - other sources',\n",
       "       'salt & sugar : s.t(170-175)', 'mustard oil(Kg)',\n",
       "       'edible oil  : others', 'edible oil  : s.t.(180-185)', 'eggs(no)',\n",
       "       'fish, prawn(Kg)', 'beef / buffalo meat(Kg)', 'pork(Kg)',\n",
       "       'chicken(Kg)', 'Egg,Fish & meat : s.t (190-196)', 'potato(Kg)',\n",
       "       'onion(Kg)', 'brinjal(Kg)', 'palak/other leafy vegetables(Kg)',\n",
       "       'green chillies(Kg)', 'gourd, pumpkin(Kg)', 'beans, barbati(Kg)',\n",
       "       'other vegetables(Kg)', 'vegetables  : s.t (Kg) (200-217)',\n",
       "       'banana (no.)', 'coconut(no.)', 'guava(Kg)', 'pears/nashpati(Kg)',\n",
       "       'fruits(fresh) : s.t.(220-238)', 'other nuts(Kg)',\n",
       "       'fruits (dry) : s.t. (240-247)', 'ginger (gm)', 'garlic (gm)',\n",
       "       'turmeric (gm)', 'dry chillies  (gm)', 'other spices (gm)',\n",
       "       'spices : s.t  (250-261)', 'tea : cups(no)', 'tea : leaf (gm)',\n",
       "       'other beverages : cocoa, chocolate etc.',\n",
       "       'beverages : s.t (270-277)',\n",
       "       'cooked meals received as assistance (no.)',\n",
       "       'cooked snacks purchased [samosa, puri, paratha, burger, chow',\n",
       "       'other served processed food',\n",
       "       'served pocessed food : sub-total (280-284)',\n",
       "       'biscuits, chocolates etc.',\n",
       "       'papad, bhujia, namkeen,mixture, chanachur', 'chips(gm)',\n",
       "       'other packaged processed food',\n",
       "       'packaged processed food : s.t.(290-296)', 'pan : leaf (no)',\n",
       "       'ingredients for pan (gm)', 'pan : s.t.(300-302)', 'bidi(no.)',\n",
       "       'cigarettes (no)', 'tobacco  : s.t. (310-317)',\n",
       "       'country liquor (litre)', 'intoxicants : s.t.(320-325)',\n",
       "       'firewood & Chips(Kg)', 'kerosene-PDS (ltr) ',\n",
       "       'kerosene-other sources(litre)', 'matches (box)',\n",
       "       'fuel and light : s.t. (330-345)', 'milk : cond./powder(Kg)',\n",
       "       'tomato(Kg)', \"lady's  finger(Kg)\", 'other fresh fruits(Kg)',\n",
       "       'beer (litre)', 'Candle (no.)', 'Wheat/atta - other sources',\n",
       "       'ice cream (no.)', 'others ( birds, crab, oyster, tortoise etc',\n",
       "       'lemon(no.)', 'pineapple (no.)',\n",
       "       'prepared sweets, cake, pastry (kg)', 'leaf tobacco(gm)',\n",
       "       'zarda,kimam,surti(gm)', 'papaya(Kg)', 'maize & products(Kg)',\n",
       "       'Other rice products(Kg)', 'moong(Kg)', 'urd(Kg)',\n",
       "       'refined oil [sunflower,soyabean,saffola, etc]',\n",
       "       'pan : finished (no)', 'electricity (std. unit)',\n",
       "       'LPG[excl. conveyance]', 'gram : split  Kg', 'dhania(gm)',\n",
       "       'curry powder (gm)', 'fruit juice and shake (litre)',\n",
       "       'baby food(Kg)', 'carrot(Kg)', 'cabbage(Kg)', 'black pepper (gm)',\n",
       "       'cooked meals purchased (no.)', 'small millet & products(Kg)',\n",
       "       'other cereals(Kg)', 'other dry fruits (Kg)', 'jackfruit(kgs)',\n",
       "       'foreign/ refined liquor or wine (litre)',\n",
       "       'other wheat products(Kg)', 'other milk products(Kg)',\n",
       "       'gram : whole Kg', 'goat meat /mutton(Kg)', 'Chira(Kg)',\n",
       "       'Maida(Kg)', 'parwal/patal,kundru(Kg)', 'apple(Kg)',\n",
       "       'coconut:copra(kg)', 'geera(gm)', 'other tobacco products (gm)',\n",
       "       'besan(Kg)', 'vanaspati,margarine(Kg)', 'sauce,jam,jelly(gm)',\n",
       "       'suji, rawa(Kg)', 'arhar (tur)(Kg)', 'butter(Kg)',\n",
       "       'cold beverage : bottled/canned (litre)', 'green coconut(no.)',\n",
       "       'sewai, noodles(Kg)', 'pickles (gm)', 'peas(Kg)', 'cashewnut(Kg)',\n",
       "       'cooked meals received free in workplace(no.)',\n",
       "       'gram products(kg)', 'ghee(Kg)', 'gur', 'groundnut(Kg)',\n",
       "       'cheroot (no.)', 'singara(Kg)', 'cauliflower(Kg)', 'berries(Kg)',\n",
       "       'charcoal(Kg)', 'mango(kg)', 'hooka tobacco(gm)', 'radish(Kg)',\n",
       "       'honey', 'kharbooza(Kg)', 'grapes(Kg)', 'mineral water(litre)',\n",
       "       'Wheat/atta - P.D.S (Kg)', 'petrol (litre)[excl. conveyance]',\n",
       "       'leechi(Kg)', 'orange , mausambi  (no.)', 'curd(Kg)',\n",
       "       'other pulses(Kg)', 'oilseeds (gm)', 'coffee : powder (gm)',\n",
       "       'raisin, (kishmish, monacca etc)(Kg)', 'tamarind (gm)', 'coal(Kg)',\n",
       "       'groundnut - oil (Kg)', 'snuff (gm)', 'khesari(Kg)',\n",
       "       'coffee : cups(no)', 'toddy (litre)', 'dung cake(Kg)',\n",
       "       'other fuel', 'watermelon(kg)', 'dates(Kg)', 'coconut oil(Kg)',\n",
       "       'gobar gas(Kg)', 'Coke (Kg)', 'walnut(Kg)', 'candy,misri',\n",
       "       'bajra & products(Kg)', 'jowar & products(Kg)',\n",
       "       'barley & products(Kg)', 'diesel (litre) [excl. conveyance]',\n",
       "       'other intoxicants', 'Khoi, lava(Kg)', 'ganja (gm)',\n",
       "       'ragi & products(Kg)'], dtype=object)"
      ]
     },
     "execution_count": 25,
     "metadata": {},
     "output_type": "execute_result"
    }
   ],
   "source": [
    "cereal['Item_Code'].unique()"
   ]
  },
  {
   "cell_type": "code",
   "execution_count": 116,
   "id": "05e89530",
   "metadata": {},
   "outputs": [],
   "source": [
    "#create a filter to have less item, I choose to keem, the sub total s.t\n",
    "#except for egg, fish, meat, because there is cultural/political issue with non vegetarien food.\n",
    "#will keep the s.t. of this one because it indicates non-vegetariens\n",
    "#ecept for intoicants: a will rename this categoie alcool and delete ganga ( concern only 122 household)\n",
    "#I will keep only ganja (gm), toddy (litre), country liquor (litre), beer (litre), foreign/ refined liquor or wine (litre)\n",
    "#and delete other intoxicants and the total intoxicants : s.t.(320-325)\n",
    "\n",
    "\n",
    "#i delete fuel and light because it is not alimentation\n",
    "\n",
    "#So first I will add s.t. to the following item, to use them in my filter s.t\n",
    "food=cereal\n",
    "\n",
    "\n"
   ]
  },
  {
   "cell_type": "code",
   "execution_count": 129,
   "id": "1fb0cc59",
   "metadata": {},
   "outputs": [
    {
     "data": {
      "text/html": [
       "<div>\n",
       "<style scoped>\n",
       "    .dataframe tbody tr th:only-of-type {\n",
       "        vertical-align: middle;\n",
       "    }\n",
       "\n",
       "    .dataframe tbody tr th {\n",
       "        vertical-align: top;\n",
       "    }\n",
       "\n",
       "    .dataframe thead th {\n",
       "        text-align: right;\n",
       "    }\n",
       "</style>\n",
       "<table border=\"1\" class=\"dataframe\">\n",
       "  <thead>\n",
       "    <tr style=\"text-align: right;\">\n",
       "      <th></th>\n",
       "      <th>HHID</th>\n",
       "      <th>Item_Code</th>\n",
       "      <th>Total_Consumption_Quantity</th>\n",
       "      <th>Total_Consumption_Value</th>\n",
       "      <th>Source_Code</th>\n",
       "    </tr>\n",
       "  </thead>\n",
       "  <tbody>\n",
       "    <tr>\n",
       "      <th>0</th>\n",
       "      <td>715581201</td>\n",
       "      <td>Rice-PDS(Kg)</td>\n",
       "      <td>30000</td>\n",
       "      <td>420</td>\n",
       "      <td>only purchase</td>\n",
       "    </tr>\n",
       "    <tr>\n",
       "      <th>1</th>\n",
       "      <td>715581201</td>\n",
       "      <td>Rice-other sources(Kg)</td>\n",
       "      <td>15000</td>\n",
       "      <td>255</td>\n",
       "      <td>only purchase</td>\n",
       "    </tr>\n",
       "    <tr>\n",
       "      <th>2</th>\n",
       "      <td>715581201</td>\n",
       "      <td>Muri(Kg)</td>\n",
       "      <td>300</td>\n",
       "      <td>15</td>\n",
       "      <td>only purchase</td>\n",
       "    </tr>\n",
       "    <tr>\n",
       "      <th>3</th>\n",
       "      <td>715581201</td>\n",
       "      <td>bread(bakery)(Kg)</td>\n",
       "      <td>1200</td>\n",
       "      <td>60</td>\n",
       "      <td>only purchase</td>\n",
       "    </tr>\n",
       "    <tr>\n",
       "      <th>4</th>\n",
       "      <td>715581201</td>\n",
       "      <td>Cereal(s.t)</td>\n",
       "      <td>46500</td>\n",
       "      <td>750</td>\n",
       "      <td>NaN</td>\n",
       "    </tr>\n",
       "    <tr>\n",
       "      <th>...</th>\n",
       "      <td>...</td>\n",
       "      <td>...</td>\n",
       "      <td>...</td>\n",
       "      <td>...</td>\n",
       "      <td>...</td>\n",
       "    </tr>\n",
       "    <tr>\n",
       "      <th>5763147</th>\n",
       "      <td>454191204</td>\n",
       "      <td>electricity (std. unit)</td>\n",
       "      <td>275</td>\n",
       "      <td>200</td>\n",
       "      <td>NaN</td>\n",
       "    </tr>\n",
       "    <tr>\n",
       "      <th>5763148</th>\n",
       "      <td>454191204</td>\n",
       "      <td>matches (box)</td>\n",
       "      <td>4</td>\n",
       "      <td>4</td>\n",
       "      <td>only purchase</td>\n",
       "    </tr>\n",
       "    <tr>\n",
       "      <th>5763149</th>\n",
       "      <td>454191204</td>\n",
       "      <td>LPG[excl. conveyance]</td>\n",
       "      <td>9466</td>\n",
       "      <td>255</td>\n",
       "      <td>only purchase</td>\n",
       "    </tr>\n",
       "    <tr>\n",
       "      <th>5763150</th>\n",
       "      <td>454191204</td>\n",
       "      <td>Candle (no.)</td>\n",
       "      <td>4</td>\n",
       "      <td>20</td>\n",
       "      <td>only purchase</td>\n",
       "    </tr>\n",
       "    <tr>\n",
       "      <th>5763151</th>\n",
       "      <td>454191204</td>\n",
       "      <td>fuel and light : s.t. (330-345)</td>\n",
       "      <td></td>\n",
       "      <td>479</td>\n",
       "      <td>NaN</td>\n",
       "    </tr>\n",
       "  </tbody>\n",
       "</table>\n",
       "<p>5763152 rows × 5 columns</p>\n",
       "</div>"
      ],
      "text/plain": [
       "              HHID                        Item_Code  \\\n",
       "0        715581201                     Rice-PDS(Kg)   \n",
       "1        715581201           Rice-other sources(Kg)   \n",
       "2        715581201                         Muri(Kg)   \n",
       "3        715581201                bread(bakery)(Kg)   \n",
       "4        715581201                      Cereal(s.t)   \n",
       "...            ...                              ...   \n",
       "5763147  454191204          electricity (std. unit)   \n",
       "5763148  454191204                    matches (box)   \n",
       "5763149  454191204            LPG[excl. conveyance]   \n",
       "5763150  454191204                     Candle (no.)   \n",
       "5763151  454191204  fuel and light : s.t. (330-345)   \n",
       "\n",
       "        Total_Consumption_Quantity  Total_Consumption_Value    Source_Code  \n",
       "0                            30000                      420  only purchase  \n",
       "1                            15000                      255  only purchase  \n",
       "2                              300                       15  only purchase  \n",
       "3                             1200                       60  only purchase  \n",
       "4                            46500                      750            NaN  \n",
       "...                            ...                      ...            ...  \n",
       "5763147                        275                      200            NaN  \n",
       "5763148                          4                        4  only purchase  \n",
       "5763149                       9466                      255  only purchase  \n",
       "5763150                          4                       20  only purchase  \n",
       "5763151                                                 479            NaN  \n",
       "\n",
       "[5763152 rows x 5 columns]"
      ]
     },
     "execution_count": 129,
     "metadata": {},
     "output_type": "execute_result"
    }
   ],
   "source": [
    "food"
   ]
  },
  {
   "cell_type": "code",
   "execution_count": 130,
   "id": "5952a58f",
   "metadata": {},
   "outputs": [
    {
     "data": {
      "text/plain": [
       "array(['Rice-PDS(Kg)', 'Rice-other sources(Kg)', 'Muri(Kg)',\n",
       "       'bread(bakery)(Kg)', 'Cereal(s.t)',\n",
       "       'Cereal Substitute : tapioca etc.', 'masur(Kg)',\n",
       "       'other pulse products(Kg)', 'Pulses and Pulse Products(s.t)',\n",
       "       'milk : liquid(litre)', 'Milk & Milk Products : s.t (160-167)',\n",
       "       'salt', 'sugar - PDS', 'sugar - other sources',\n",
       "       'salt & sugar : s.t(170-175)', 'mustard oil(Kg)',\n",
       "       'edible oil  : others', 'edible oil  : s.t.(180-185)',\n",
       "       'eggs(no) s.t', 'fish, prawn(Kg) s.t',\n",
       "       'beef / buffalo meat(Kg) s.t', 'pork(Kg) s.t', 'chicken(Kg) s.t',\n",
       "       'Egg,Fish & meat : s.t (190-196)', 'potato(Kg)', 'onion(Kg)',\n",
       "       'brinjal(Kg)', 'palak/other leafy vegetables(Kg)',\n",
       "       'green chillies(Kg)', 'gourd, pumpkin(Kg)', 'beans, barbati(Kg)',\n",
       "       'other vegetables(Kg)', 'vegetables  : s.t (Kg) (200-217)',\n",
       "       'banana (no.)', 'coconut(no.)', 'guava(Kg)', 'pears/nashpati(Kg)',\n",
       "       'fruits(fresh) : s.t.(220-238)', 'other nuts(Kg)',\n",
       "       'fruits (dry) : s.t. (240-247)', 'ginger (gm)', 'garlic (gm)',\n",
       "       'turmeric (gm)', 'dry chillies  (gm)', 'other spices (gm)',\n",
       "       'spices : s.t  (250-261)', 'tea : cups(no)', 'tea : leaf (gm)',\n",
       "       'other beverages : cocoa, chocolate etc.',\n",
       "       'beverages : s.t (270-277)',\n",
       "       'cooked meals received as assistance (no.)',\n",
       "       'cooked snacks purchased [samosa, puri, paratha, burger, chow',\n",
       "       'other served processed food',\n",
       "       'served pocessed food : sub-total (280-284)',\n",
       "       'biscuits, chocolates etc.',\n",
       "       'papad, bhujia, namkeen,mixture, chanachur', 'chips(gm)',\n",
       "       'other packaged processed food',\n",
       "       'packaged processed food : s.t.(290-296)', 'pan : leaf (no)',\n",
       "       'ingredients for pan (gm)', 'pan : s.t.(300-302)', 'bidi(no.)',\n",
       "       'cigarettes (no)', 'tobacco  : s.t. (310-317)',\n",
       "       'country liquor (l.) s.t', 'intoxicants : s.t.(320-325)',\n",
       "       'firewood & Chips(Kg)', 'kerosene-PDS (ltr) ',\n",
       "       'kerosene-other sources(litre)', 'matches (box)',\n",
       "       'fuel and light : s.t. (330-345)', 'milk : cond./powder(Kg)',\n",
       "       'tomato(Kg)', \"lady's  finger(Kg)\", 'other fresh fruits(Kg)',\n",
       "       'beer (l.) s.t', 'Candle (no.)', 'Wheat/atta - other sources',\n",
       "       'ice cream (no.)', 'others ( birds, crab, oyster, tortoise etc',\n",
       "       'lemon(no.)', 'pineapple (no.)',\n",
       "       'prepared sweets, cake, pastry (kg)', 'leaf tobacco(gm)',\n",
       "       'zarda,kimam,surti(gm)', 'papaya(Kg)', 'maize & products(Kg)',\n",
       "       'Other rice products(Kg)', 'moong(Kg)', 'urd(Kg)',\n",
       "       'refined oil [sunflower,soyabean,saffola, etc]',\n",
       "       'pan : finished (no)', 'electricity (std. unit)',\n",
       "       'LPG[excl. conveyance]', 'gram : split  Kg', 'dhania(gm)',\n",
       "       'curry powder (gm)', 'fruit juice and shake (litre)',\n",
       "       'baby food(Kg)', 'carrot(Kg)', 'cabbage(Kg)', 'black pepper (gm)',\n",
       "       'cooked meals purchased (no.)', 'small millet & products(Kg)',\n",
       "       'other cereals(Kg)', 'other dry fruits (Kg)', 'jackfruit(kgs)',\n",
       "       'foreign/ refined liquor or wine (l.) s.t',\n",
       "       'other wheat products(Kg)', 'other milk products(Kg)',\n",
       "       'gram : whole Kg', 'goat meat /mutton(Kg) s.t', 'Chira(Kg)',\n",
       "       'Maida(Kg)', 'parwal/patal,kundru(Kg)', 'apple(Kg)',\n",
       "       'coconut:copra(kg)', 'geera(gm)', 'other tobacco products (gm)',\n",
       "       'besan(Kg)', 'vanaspati,margarine(Kg)', 'sauce,jam,jelly(gm)',\n",
       "       'suji, rawa(Kg)', 'arhar (tur)(Kg)', 'butter(Kg)',\n",
       "       'cold beverage : bottled/canned (litre)', 'green coconut(no.)',\n",
       "       'sewai, noodles(Kg)', 'pickles (gm)', 'peas(Kg)', 'cashewnut(Kg)',\n",
       "       'cooked meals received free in workplace(no.)',\n",
       "       'gram products(kg)', 'ghee(Kg)', 'gur', 'groundnut(Kg)',\n",
       "       'cheroot (no.)', 'singara(Kg)', 'cauliflower(Kg)', 'berries(Kg)',\n",
       "       'charcoal(Kg)', 'mango(kg)', 'hooka tobacco(gm)', 'radish(Kg)',\n",
       "       'honey', 'kharbooza(Kg)', 'grapes(Kg)', 'mineral water(litre)',\n",
       "       'Wheat/atta - P.D.S (Kg)', 'petrol (litre)[excl. conveyance]',\n",
       "       'leechi(Kg)', 'orange , mausambi  (no.)', 'curd(Kg)',\n",
       "       'other pulses(Kg)', 'oilseeds (gm)', 'coffee : powder (gm)',\n",
       "       'raisin, (kishmish, monacca etc)(Kg)', 'tamarind (gm)', 'coal(Kg)',\n",
       "       'groundnut - oil (Kg)', 'snuff (gm)', 'khesari(Kg)',\n",
       "       'coffee : cups(no)', 'toddy (l.) s.t', 'dung cake(Kg)',\n",
       "       'other fuel', 'watermelon(kg)', 'dates(Kg)', 'coconut oil(Kg)',\n",
       "       'gobar gas(Kg)', 'Coke (Kg)', 'walnut(Kg)', 'candy,misri',\n",
       "       'bajra & products(Kg)', 'jowar & products(Kg)',\n",
       "       'barley & products(Kg)', 'diesel (litre) [excl. conveyance]',\n",
       "       'other intoxicants', 'Khoi, lava(Kg)', 'ganja (gm) s.t',\n",
       "       'ragi & products(Kg)'], dtype=object)"
      ]
     },
     "execution_count": 130,
     "metadata": {},
     "output_type": "execute_result"
    }
   ],
   "source": [
    "food['Item_Code'].unique()"
   ]
  },
  {
   "cell_type": "code",
   "execution_count": 156,
   "id": "e1381777",
   "metadata": {},
   "outputs": [],
   "source": [
    "food['Item_Code'].replace({'ganja (gm)': 'ganja (gm) s.t',\n",
    "'toddy (litre)': 'toddy (l.) s.t', 'country liquor (litre)': 'country liquor (l.) s.t', \n",
    "'beer (litre)':'beer (l.) s.t' , 'foreign/ refined liquor or wine (litre)': 'foreign/ refined liquor or wine (l.) s.t', \n",
    "                          \n",
    "                           \n",
    "'eggs(no)': 'eggs(no) s.t',\n",
    "'fish, prawn(Kg)': 'fish, prawn(Kg) s.t',\n",
    "'goat meat /mutton(Kg)': 'goat meat /mutton(Kg) s.t',\n",
    "'beef / buffalo meat(Kg)': 'beef / buffalo meat(Kg) s.t',\n",
    "'pork(Kg)': 'pork(Kg) s.t',\n",
    "'chicken(Kg)': 'chicken(Kg) s.t'}, inplace=True)\n"
   ]
  },
  {
   "cell_type": "code",
   "execution_count": 157,
   "id": "e4205133",
   "metadata": {},
   "outputs": [
    {
     "data": {
      "text/plain": [
       "array(['Rice-PDS(Kg)', 'Rice-other sources(Kg)', 'Muri(Kg)',\n",
       "       'bread(bakery)(Kg)', 'Cereal(s.t)',\n",
       "       'Cereal Substitute : tapioca etc.', 'masur(Kg)',\n",
       "       'other pulse products(Kg)', 'Pulses and Pulse Products(s.t)',\n",
       "       'milk : liquid(litre)', 'Milk & Milk Products : s.t (160-167)',\n",
       "       'salt', 'sugar - PDS', 'sugar - other sources',\n",
       "       'salt & sugar : s.t(170-175)', 'mustard oil(Kg)',\n",
       "       'edible oil  : others', 'edible oil  : s.t.(180-185)',\n",
       "       'eggs(no) s.t', 'fish, prawn(Kg) s.t',\n",
       "       'beef / buffalo meat(Kg) s.t', 'pork(Kg) s.t', 'chicken(Kg) s.t',\n",
       "       'Egg,Fish & meat : s.t (190-196)', 'potato(Kg)', 'onion(Kg)',\n",
       "       'brinjal(Kg)', 'palak/other leafy vegetables(Kg)',\n",
       "       'green chillies(Kg)', 'gourd, pumpkin(Kg)', 'beans, barbati(Kg)',\n",
       "       'other vegetables(Kg)', 'vegetables  : s.t (Kg) (200-217)',\n",
       "       'banana (no.)', 'coconut(no.)', 'guava(Kg)', 'pears/nashpati(Kg)',\n",
       "       'fruits(fresh) : s.t.(220-238)', 'other nuts(Kg)',\n",
       "       'fruits (dry) : s.t. (240-247)', 'ginger (gm)', 'garlic (gm)',\n",
       "       'turmeric (gm)', 'dry chillies  (gm)', 'other spices (gm)',\n",
       "       'spices : s.t  (250-261)', 'tea : cups(no)', 'tea : leaf (gm)',\n",
       "       'other beverages : cocoa, chocolate etc.',\n",
       "       'beverages : s.t (270-277)',\n",
       "       'cooked meals received as assistance (no.)',\n",
       "       'cooked snacks purchased [samosa, puri, paratha, burger, chow',\n",
       "       'other served processed food',\n",
       "       'served pocessed food : sub-total (280-284)',\n",
       "       'biscuits, chocolates etc.',\n",
       "       'papad, bhujia, namkeen,mixture, chanachur', 'chips(gm)',\n",
       "       'other packaged processed food',\n",
       "       'packaged processed food : s.t.(290-296)', 'pan : leaf (no)',\n",
       "       'ingredients for pan (gm)', 'pan : s.t.(300-302)', 'bidi(no.)',\n",
       "       'cigarettes (no)', 'tobacco  : s.t. (310-317)',\n",
       "       'country liquor (l.) s.t', 'intoxicants : s.t.(320-325)',\n",
       "       'firewood & Chips(Kg)', 'kerosene-PDS (ltr) ',\n",
       "       'kerosene-other sources(litre)', 'matches (box)',\n",
       "       'fuel and light : s.t. (330-345)', 'milk : cond./powder(Kg)',\n",
       "       'tomato(Kg)', \"lady's  finger(Kg)\", 'other fresh fruits(Kg)',\n",
       "       'beer (l.) s.t', 'Candle (no.)', 'Wheat/atta - other sources',\n",
       "       'ice cream (no.)', 'others ( birds, crab, oyster, tortoise etc',\n",
       "       'lemon(no.)', 'pineapple (no.)',\n",
       "       'prepared sweets, cake, pastry (kg)', 'leaf tobacco(gm)',\n",
       "       'zarda,kimam,surti(gm)', 'papaya(Kg)', 'maize & products(Kg)',\n",
       "       'Other rice products(Kg)', 'moong(Kg)', 'urd(Kg)',\n",
       "       'refined oil [sunflower,soyabean,saffola, etc]',\n",
       "       'pan : finished (no)', 'electricity (std. unit)',\n",
       "       'LPG[excl. conveyance]', 'gram : split  Kg', 'dhania(gm)',\n",
       "       'curry powder (gm)', 'fruit juice and shake (litre)',\n",
       "       'baby food(Kg)', 'carrot(Kg)', 'cabbage(Kg)', 'black pepper (gm)',\n",
       "       'cooked meals purchased (no.)', 'small millet & products(Kg)',\n",
       "       'other cereals(Kg)', 'other dry fruits (Kg)', 'jackfruit(kgs)',\n",
       "       'foreign/ refined liquor or wine (l.) s.t',\n",
       "       'other wheat products(Kg)', 'other milk products(Kg)',\n",
       "       'gram : whole Kg', 'goat meat /mutton(Kg) s.t', 'Chira(Kg)',\n",
       "       'Maida(Kg)', 'parwal/patal,kundru(Kg)', 'apple(Kg)',\n",
       "       'coconut:copra(kg)', 'geera(gm)', 'other tobacco products (gm)',\n",
       "       'besan(Kg)', 'vanaspati,margarine(Kg)', 'sauce,jam,jelly(gm)',\n",
       "       'suji, rawa(Kg)', 'arhar (tur)(Kg)', 'butter(Kg)',\n",
       "       'cold beverage : bottled/canned (litre)', 'green coconut(no.)',\n",
       "       'sewai, noodles(Kg)', 'pickles (gm)', 'peas(Kg)', 'cashewnut(Kg)',\n",
       "       'cooked meals received free in workplace(no.)',\n",
       "       'gram products(kg)', 'ghee(Kg)', 'gur', 'groundnut(Kg)',\n",
       "       'cheroot (no.)', 'singara(Kg)', 'cauliflower(Kg)', 'berries(Kg)',\n",
       "       'charcoal(Kg)', 'mango(kg)', 'hooka tobacco(gm)', 'radish(Kg)',\n",
       "       'honey', 'kharbooza(Kg)', 'grapes(Kg)', 'mineral water(litre)',\n",
       "       'Wheat/atta - P.D.S (Kg)', 'petrol (litre)[excl. conveyance]',\n",
       "       'leechi(Kg)', 'orange , mausambi  (no.)', 'curd(Kg)',\n",
       "       'other pulses(Kg)', 'oilseeds (gm)', 'coffee : powder (gm)',\n",
       "       'raisin, (kishmish, monacca etc)(Kg)', 'tamarind (gm)', 'coal(Kg)',\n",
       "       'groundnut - oil (Kg)', 'snuff (gm)', 'khesari(Kg)',\n",
       "       'coffee : cups(no)', 'toddy (l.) s.t', 'dung cake(Kg)',\n",
       "       'other fuel', 'watermelon(kg)', 'dates(Kg)', 'coconut oil(Kg)',\n",
       "       'gobar gas(Kg)', 'Coke (Kg)', 'walnut(Kg)', 'candy,misri',\n",
       "       'bajra & products(Kg)', 'jowar & products(Kg)',\n",
       "       'barley & products(Kg)', 'diesel (litre) [excl. conveyance]',\n",
       "       'other intoxicants', 'Khoi, lava(Kg)', 'ganja (gm) s.t',\n",
       "       'ragi & products(Kg)'], dtype=object)"
      ]
     },
     "execution_count": 157,
     "metadata": {},
     "output_type": "execute_result"
    }
   ],
   "source": [
    "food['Item_Code'].unique()"
   ]
  },
  {
   "cell_type": "code",
   "execution_count": 158,
   "id": "17804c7b",
   "metadata": {},
   "outputs": [
    {
     "data": {
      "text/plain": [
       "0          False\n",
       "1          False\n",
       "2          False\n",
       "3          False\n",
       "4           True\n",
       "           ...  \n",
       "5763147    False\n",
       "5763148    False\n",
       "5763149    False\n",
       "5763150    False\n",
       "5763151     True\n",
       "Name: Item_Code, Length: 5763152, dtype: bool"
      ]
     },
     "execution_count": 158,
     "metadata": {},
     "output_type": "execute_result"
    }
   ],
   "source": [
    "filter = food['Item_Code'].str.contains('s.t')\n",
    "filter"
   ]
  },
  {
   "cell_type": "code",
   "execution_count": 159,
   "id": "7a04e072",
   "metadata": {},
   "outputs": [
    {
     "data": {
      "text/plain": [
       "fuel and light : s.t. (330-345)             101515\n",
       "Cereal(s.t)                                  99895\n",
       "salt & sugar : s.t(170-175)                  99875\n",
       "vegetables  : s.t (Kg) (200-217)             99698\n",
       "spices : s.t  (250-261)                      99452\n",
       "edible oil  : s.t.(180-185)                  99261\n",
       "beverages : s.t (270-277)                    98703\n",
       "Pulses and Pulse Products(s.t)               98537\n",
       "packaged processed food : s.t.(290-296)      90199\n",
       "Milk & Milk Products : s.t (160-167)         88291\n",
       "fruits(fresh) : s.t.(220-238)                85998\n",
       "Egg,Fish & meat : s.t (190-196)              68590\n",
       "tobacco  : s.t. (310-317)                    50661\n",
       "eggs(no) s.t                                 44304\n",
       "chicken(Kg) s.t                              41002\n",
       "fruits (dry) : s.t. (240-247)                39322\n",
       "fish, prawn(Kg) s.t                          37620\n",
       "pan : s.t.(300-302)                          28411\n",
       "intoxicants : s.t.(320-325)                  17636\n",
       "goat meat /mutton(Kg) s.t                    16499\n",
       "beef / buffalo meat(Kg) s.t                   9711\n",
       "country liquor (l.) s.t                       8094\n",
       "foreign/ refined liquor or wine (l.) s.t      5828\n",
       "pork(Kg) s.t                                  5566\n",
       "beer (l.) s.t                                 2193\n",
       "toddy (l.) s.t                                1498\n",
       "ganja (gm) s.t                                 122\n",
       "Name: Item_Code, dtype: int64"
      ]
     },
     "execution_count": 159,
     "metadata": {},
     "output_type": "execute_result"
    }
   ],
   "source": [
    "foodfilter = food[filter]\n",
    "foodfilter['Item_Code'].value_counts()"
   ]
  },
  {
   "cell_type": "code",
   "execution_count": 160,
   "id": "d566b2a3",
   "metadata": {},
   "outputs": [],
   "source": [
    "#drop fuel and light\n",
    "foodfilter = foodfilter.drop(foodfilter[foodfilter['Item_Code'] == 'fuel and light : s.t. (330-345)'].index)\n",
    "foodfilter = foodfilter.drop(foodfilter[foodfilter['Item_Code'] == 'intoxicants : s.t.(320-325)'].index)"
   ]
  },
  {
   "cell_type": "code",
   "execution_count": 161,
   "id": "1d866ac1",
   "metadata": {},
   "outputs": [],
   "source": [
    "#rename columns\n",
    "foodfilter['Item_Code'].replace({\"beverages : s.t (270-277)\": \"coffee, tea, juice\", \"Egg,Fish & meat : s.t (190-196)\": \"food non-veg\"}, inplace=True)\n"
   ]
  },
  {
   "cell_type": "code",
   "execution_count": 162,
   "id": "037eca79",
   "metadata": {},
   "outputs": [
    {
     "data": {
      "text/plain": [
       "Cereal(s.t)                                 99895\n",
       "salt & sugar : s.t(170-175)                 99875\n",
       "vegetables  : s.t (Kg) (200-217)            99698\n",
       "spices : s.t  (250-261)                     99452\n",
       "edible oil  : s.t.(180-185)                 99261\n",
       "coffee, tea, juice                          98703\n",
       "Pulses and Pulse Products(s.t)              98537\n",
       "packaged processed food : s.t.(290-296)     90199\n",
       "Milk & Milk Products : s.t (160-167)        88291\n",
       "fruits(fresh) : s.t.(220-238)               85998\n",
       "food non-veg                                68590\n",
       "tobacco  : s.t. (310-317)                   50661\n",
       "eggs(no) s.t                                44304\n",
       "chicken(Kg) s.t                             41002\n",
       "fruits (dry) : s.t. (240-247)               39322\n",
       "fish, prawn(Kg) s.t                         37620\n",
       "pan : s.t.(300-302)                         28411\n",
       "goat meat /mutton(Kg) s.t                   16499\n",
       "beef / buffalo meat(Kg) s.t                  9711\n",
       "country liquor (l.) s.t                      8094\n",
       "foreign/ refined liquor or wine (l.) s.t     5828\n",
       "pork(Kg) s.t                                 5566\n",
       "beer (l.) s.t                                2193\n",
       "toddy (l.) s.t                               1498\n",
       "ganja (gm) s.t                                122\n",
       "Name: Item_Code, dtype: int64"
      ]
     },
     "execution_count": 162,
     "metadata": {},
     "output_type": "execute_result"
    }
   ],
   "source": [
    "foodfilter['Item_Code'].value_counts()"
   ]
  },
  {
   "cell_type": "code",
   "execution_count": 163,
   "id": "a04c501c",
   "metadata": {},
   "outputs": [],
   "source": [
    "#RENAME VALUE IN COLUM\n",
    "foodfilter['Item_Code']=foodfilter['Item_Code'].replace(to_replace=r's.t[^|]*$', value='', regex=True).str.strip('():')\n",
    "\n"
   ]
  },
  {
   "cell_type": "code",
   "execution_count": 164,
   "id": "709d452d",
   "metadata": {},
   "outputs": [
    {
     "data": {
      "text/plain": [
       "array(['Cereal', 'Pulses and Pulse Products', 'Milk & Milk Products : ',\n",
       "       'salt & sugar : ', 'edible oil  : ', 'eggs(no) ',\n",
       "       'fish, prawn(Kg) ', 'beef / buffalo meat(Kg) ', 'pork(Kg) ',\n",
       "       'chicken(Kg) ', 'food non-veg', 'vegetables  : ',\n",
       "       'fruits(fresh) : ', 'fruits (dry) : ', 'spices : ',\n",
       "       'coffee, tea, juice', 'packaged processed food : ', 'pan : ',\n",
       "       'tobacco  : ', 'country liquor (l.) ', 'beer (l.) ',\n",
       "       'foreign/ refined liquor or wine (l.) ', 'goat meat /mutton(Kg) ',\n",
       "       'toddy (l.) ', 'ganja (gm) '], dtype=object)"
      ]
     },
     "execution_count": 164,
     "metadata": {},
     "output_type": "execute_result"
    }
   ],
   "source": [
    "foodfilter['Item_Code'].unique()"
   ]
  },
  {
   "cell_type": "code",
   "execution_count": 165,
   "id": "3b99291b",
   "metadata": {},
   "outputs": [],
   "source": [
    "#delete : #strip delete the element at the end\n",
    "foodfilter['Item_Code']=foodfilter['Item_Code'].replace(to_replace=r's.t[^|]*$', value='', regex=True).str.strip(': ')"
   ]
  },
  {
   "cell_type": "code",
   "execution_count": 166,
   "id": "7fc5b512",
   "metadata": {},
   "outputs": [
    {
     "data": {
      "text/plain": [
       "array(['Cereal', 'Pulses and Pulse Products', 'Milk & Milk Products',\n",
       "       'salt & sugar', 'edible oil', 'eggs(no)', 'fish, prawn(Kg)',\n",
       "       'beef / buffalo meat(Kg)', 'pork(Kg)', 'chicken(Kg)',\n",
       "       'food non-veg', 'vegetables', 'fruits(fresh)', 'fruits (dry)',\n",
       "       'spices', 'coffee, tea, juice', 'packaged processed food', 'pan',\n",
       "       'tobacco', 'country liquor (l.)', 'beer (l.)',\n",
       "       'foreign/ refined liquor or wine (l.)', 'goat meat /mutton(Kg)',\n",
       "       'toddy (l.)', 'ganja (gm)'], dtype=object)"
      ]
     },
     "execution_count": 166,
     "metadata": {},
     "output_type": "execute_result"
    }
   ],
   "source": [
    "foodfilter['Item_Code'].unique()"
   ]
  },
  {
   "cell_type": "code",
   "execution_count": 168,
   "id": "06ead592",
   "metadata": {},
   "outputs": [
    {
     "data": {
      "text/plain": [
       "False"
      ]
     },
     "execution_count": 168,
     "metadata": {},
     "output_type": "execute_result"
    }
   ],
   "source": [
    "## Check for duplicates\n",
    "foodfilter.duplicated().any()"
   ]
  },
  {
   "cell_type": "code",
   "execution_count": 169,
   "id": "51298fe4",
   "metadata": {},
   "outputs": [
    {
     "data": {
      "text/plain": [
       "(1319330, 5)"
      ]
     },
     "execution_count": 169,
     "metadata": {},
     "output_type": "execute_result"
    }
   ],
   "source": [
    "foodfilter.shape"
   ]
  },
  {
   "cell_type": "code",
   "execution_count": 170,
   "id": "e22cb2c0",
   "metadata": {},
   "outputs": [
    {
     "data": {
      "text/plain": [
       "HHID                           int64\n",
       "Item_Code                     object\n",
       "Total_Consumption_Quantity    object\n",
       "Total_Consumption_Value        int64\n",
       "Source_Code                   object\n",
       "dtype: object"
      ]
     },
     "execution_count": 170,
     "metadata": {},
     "output_type": "execute_result"
    }
   ],
   "source": [
    "foodfilter.dtypes"
   ]
  },
  {
   "cell_type": "code",
   "execution_count": 171,
   "id": "1087dbcb",
   "metadata": {},
   "outputs": [],
   "source": [
    "foodfilter['Total_Consumption_Quantity'] = pd.to_numeric(foodfilter[\"Total_Consumption_Quantity\"], errors='coerce')"
   ]
  },
  {
   "cell_type": "code",
   "execution_count": 172,
   "id": "0732a24e",
   "metadata": {},
   "outputs": [
    {
     "data": {
      "text/html": [
       "<div>\n",
       "<style scoped>\n",
       "    .dataframe tbody tr th:only-of-type {\n",
       "        vertical-align: middle;\n",
       "    }\n",
       "\n",
       "    .dataframe tbody tr th {\n",
       "        vertical-align: top;\n",
       "    }\n",
       "\n",
       "    .dataframe thead th {\n",
       "        text-align: right;\n",
       "    }\n",
       "</style>\n",
       "<table border=\"1\" class=\"dataframe\">\n",
       "  <thead>\n",
       "    <tr style=\"text-align: right;\">\n",
       "      <th></th>\n",
       "      <th>HHID</th>\n",
       "      <th>Item_Code</th>\n",
       "      <th>Total_Consumption_Quantity</th>\n",
       "      <th>Total_Consumption_Value</th>\n",
       "      <th>Source_Code</th>\n",
       "    </tr>\n",
       "  </thead>\n",
       "  <tbody>\n",
       "    <tr>\n",
       "      <th>4</th>\n",
       "      <td>715581201</td>\n",
       "      <td>Cereal</td>\n",
       "      <td>46500.0</td>\n",
       "      <td>750</td>\n",
       "      <td>NaN</td>\n",
       "    </tr>\n",
       "    <tr>\n",
       "      <th>8</th>\n",
       "      <td>715581201</td>\n",
       "      <td>Pulses and Pulse Products</td>\n",
       "      <td>2500.0</td>\n",
       "      <td>120</td>\n",
       "      <td>NaN</td>\n",
       "    </tr>\n",
       "    <tr>\n",
       "      <th>10</th>\n",
       "      <td>715581201</td>\n",
       "      <td>Milk &amp; Milk Products</td>\n",
       "      <td>NaN</td>\n",
       "      <td>300</td>\n",
       "      <td>NaN</td>\n",
       "    </tr>\n",
       "    <tr>\n",
       "      <th>14</th>\n",
       "      <td>715581201</td>\n",
       "      <td>salt &amp; sugar</td>\n",
       "      <td>5500.0</td>\n",
       "      <td>142</td>\n",
       "      <td>NaN</td>\n",
       "    </tr>\n",
       "    <tr>\n",
       "      <th>17</th>\n",
       "      <td>715581201</td>\n",
       "      <td>edible oil</td>\n",
       "      <td>1000.0</td>\n",
       "      <td>90</td>\n",
       "      <td>NaN</td>\n",
       "    </tr>\n",
       "  </tbody>\n",
       "</table>\n",
       "</div>"
      ],
      "text/plain": [
       "         HHID                  Item_Code  Total_Consumption_Quantity  \\\n",
       "4   715581201                     Cereal                     46500.0   \n",
       "8   715581201  Pulses and Pulse Products                      2500.0   \n",
       "10  715581201       Milk & Milk Products                         NaN   \n",
       "14  715581201               salt & sugar                      5500.0   \n",
       "17  715581201                 edible oil                      1000.0   \n",
       "\n",
       "    Total_Consumption_Value Source_Code  \n",
       "4                       750         NaN  \n",
       "8                       120         NaN  \n",
       "10                      300         NaN  \n",
       "14                      142         NaN  \n",
       "17                       90         NaN  "
      ]
     },
     "execution_count": 172,
     "metadata": {},
     "output_type": "execute_result"
    }
   ],
   "source": [
    "foodfilter.head()"
   ]
  },
  {
   "cell_type": "code",
   "execution_count": 176,
   "id": "25e21b18",
   "metadata": {},
   "outputs": [
    {
     "data": {
      "text/plain": [
       "array([nan, 'only home-grown stock', 'only purchase',\n",
       "       'only free collection', 'others',\n",
       "       'both purchase and home-grown stock', 'only gifts/charities',\n",
       "       'only exchange of goods and services'], dtype=object)"
      ]
     },
     "execution_count": 176,
     "metadata": {},
     "output_type": "execute_result"
    }
   ],
   "source": [
    "foodfilter['Source_Code'].unique()"
   ]
  },
  {
   "cell_type": "code",
   "execution_count": 178,
   "id": "ea6ced86",
   "metadata": {},
   "outputs": [
    {
     "data": {
      "text/plain": [
       "only purchase                          162609\n",
       "only home-grown stock                    6419\n",
       "only free collection                     1247\n",
       "both purchase and home-grown stock        826\n",
       "others                                    604\n",
       "only gifts/charities                      393\n",
       "only exchange of goods and services        55\n",
       "Name: Source_Code, dtype: int64"
      ]
     },
     "execution_count": 178,
     "metadata": {},
     "output_type": "execute_result"
    }
   ],
   "source": [
    "foodfilter['Source_Code'].value_counts()"
   ]
  },
  {
   "cell_type": "code",
   "execution_count": 196,
   "id": "7517ba7b",
   "metadata": {},
   "outputs": [
    {
     "data": {
      "text/html": [
       "<div>\n",
       "<style scoped>\n",
       "    .dataframe tbody tr th:only-of-type {\n",
       "        vertical-align: middle;\n",
       "    }\n",
       "\n",
       "    .dataframe tbody tr th {\n",
       "        vertical-align: top;\n",
       "    }\n",
       "\n",
       "    .dataframe thead th {\n",
       "        text-align: right;\n",
       "    }\n",
       "</style>\n",
       "<table border=\"1\" class=\"dataframe\">\n",
       "  <thead>\n",
       "    <tr style=\"text-align: right;\">\n",
       "      <th></th>\n",
       "      <th>HHID</th>\n",
       "      <th>Total_Consumption_Quantity</th>\n",
       "      <th>Total_Consumption_Value</th>\n",
       "    </tr>\n",
       "  </thead>\n",
       "  <tbody>\n",
       "    <tr>\n",
       "      <th>count</th>\n",
       "      <td>1258976.0</td>\n",
       "      <td>648430.0</td>\n",
       "      <td>1258976.0</td>\n",
       "    </tr>\n",
       "    <tr>\n",
       "      <th>mean</th>\n",
       "      <td>625720693.0</td>\n",
       "      <td>4199.0</td>\n",
       "      <td>254.0</td>\n",
       "    </tr>\n",
       "    <tr>\n",
       "      <th>std</th>\n",
       "      <td>147255415.0</td>\n",
       "      <td>6886.0</td>\n",
       "      <td>349.0</td>\n",
       "    </tr>\n",
       "    <tr>\n",
       "      <th>min</th>\n",
       "      <td>410001101.0</td>\n",
       "      <td>1.0</td>\n",
       "      <td>1.0</td>\n",
       "    </tr>\n",
       "    <tr>\n",
       "      <th>25%</th>\n",
       "      <td>464391102.0</td>\n",
       "      <td>1000.0</td>\n",
       "      <td>79.0</td>\n",
       "    </tr>\n",
       "    <tr>\n",
       "      <th>50%</th>\n",
       "      <td>716801201.0</td>\n",
       "      <td>2000.0</td>\n",
       "      <td>160.0</td>\n",
       "    </tr>\n",
       "    <tr>\n",
       "      <th>75%</th>\n",
       "      <td>751311301.0</td>\n",
       "      <td>4000.0</td>\n",
       "      <td>300.0</td>\n",
       "    </tr>\n",
       "    <tr>\n",
       "      <th>max</th>\n",
       "      <td>799982301.0</td>\n",
       "      <td>40000.0</td>\n",
       "      <td>21055.0</td>\n",
       "    </tr>\n",
       "  </tbody>\n",
       "</table>\n",
       "</div>"
      ],
      "text/plain": [
       "              HHID  Total_Consumption_Quantity  Total_Consumption_Value\n",
       "count    1258976.0                    648430.0                1258976.0\n",
       "mean   625720693.0                      4199.0                    254.0\n",
       "std    147255415.0                      6886.0                    349.0\n",
       "min    410001101.0                         1.0                      1.0\n",
       "25%    464391102.0                      1000.0                     79.0\n",
       "50%    716801201.0                      2000.0                    160.0\n",
       "75%    751311301.0                      4000.0                    300.0\n",
       "max    799982301.0                     40000.0                  21055.0"
      ]
     },
     "execution_count": 196,
     "metadata": {},
     "output_type": "execute_result"
    }
   ],
   "source": [
    "foodfilter.describe().round()"
   ]
  },
  {
   "cell_type": "code",
   "execution_count": 205,
   "id": "431adc41",
   "metadata": {},
   "outputs": [
    {
     "data": {
      "text/plain": [
       "<Figure size 720x432 with 0 Axes>"
      ]
     },
     "metadata": {},
     "output_type": "display_data"
    },
    {
     "data": {
      "image/png": "[encoded data removed]",
      "text/plain": [
       "<Figure size 720x432 with 1 Axes>"
      ]
     },
     "metadata": {},
     "output_type": "display_data"
    },
    {
     "data": {
      "image/png": "[encoded data removed]",
      "text/plain": [
       "<Figure size 720x432 with 1 Axes>"
      ]
     },
     "metadata": {},
     "output_type": "display_data"
    },
    {
     "data": {
      "image/png": "[encoded data removed]",
      "text/plain": [
       "<Figure size 720x432 with 1 Axes>"
      ]
     },
     "metadata": {},
     "output_type": "display_data"
    }
   ],
   "source": [
    "#Check Outliers\n",
    "num_df = foodfilter.select_dtypes(exclude=['object'])\n",
    "# Plot the variables (loop for plot variables) for num values\n",
    "plt.figure(figsize=(10, 6))\n",
    "for col in num_df:\n",
    "    plt.figure(figsize=(10, 6))\n",
    "    foodfilter.boxplot(column=[col])\n",
    "    plt.title(col)\n",
    "    plt.savefig(col+r'.png',bbox_inches='tight')"
   ]
  },
  {
   "cell_type": "code",
   "execution_count": 204,
   "id": "0bfa6876",
   "metadata": {},
   "outputs": [],
   "source": [
    "foodfilter = foodfilter.drop(foodfilter[foodfilter['Total_Consumption_Value'] >14000].index)\n",
    "foodfilter = foodfilter.drop(foodfilter[foodfilter['Total_Consumption_Quantity'] >40000].index)"
   ]
  },
  {
   "cell_type": "code",
   "execution_count": 206,
   "id": "490c5f4b",
   "metadata": {},
   "outputs": [
    {
     "data": {
      "text/plain": [
       "(1258961, 5)"
      ]
     },
     "execution_count": 206,
     "metadata": {},
     "output_type": "execute_result"
    }
   ],
   "source": [
    "foodfilter.shape"
   ]
  },
  {
   "cell_type": "code",
   "execution_count": null,
   "id": "16c9fce0",
   "metadata": {},
   "outputs": [],
   "source": [
    "##Exporting File\n",
    "file_url2 = r'C:\\Users\\Lenovo\\Documents\\INDE DATA\\FOODNSS68CLEAN.csv'\n",
    "data.to_csv(file_url2,index = False)"
   ]
  },
  {
   "cell_type": "markdown",
   "id": "5651157e",
   "metadata": {},
   "source": [
    "# work on Household type\n",
    "12\tRural : non-agriculture\t18631\t 22.3%\n",
    "13\tRural : Regular wage/salary earning\t3633\t 4.3%\n",
    "14\tRural : Casual labour in : agriculture\t4949\t 5.9%\n",
    "15\tRural : non-agriculture\t4267\t 5.1%\n",
    "19\tRural : others\t1671\t 2.0%\n",
    "21\tUrban : Self - employed\t20925\t 25.0%\n",
    "22\tUrban : regular wage/salary earning\t9394\t 11.2%\n",
    "23\tUrban : Casual labour\t3151\t 3.8%\n",
    "29\tUrban : Others"
   ]
  },
  {
   "cell_type": "code",
   "execution_count": 203,
   "id": "c7972508",
   "metadata": {},
   "outputs": [
    {
     "data": {
      "text/plain": [
       "array(['Rural : non-agriculture',\n",
       "       'Rural : Self employed in : agriculture', 'Rural : others',\n",
       "       'Rural : Regular wage/salary earning',\n",
       "       'Rural : Casual labour in : agriculture',\n",
       "       'Urban : Self - employed', 'Urban : regular wage/salary earning',\n",
       "       'Urban : Others', 'Urban : Casual labour'], dtype=object)"
      ]
     },
     "execution_count": 203,
     "metadata": {},
     "output_type": "execute_result"
    }
   ],
   "source": [
    "data['Household type'].unique()"
   ]
  },
  {
   "cell_type": "code",
   "execution_count": 204,
   "id": "446b9a04",
   "metadata": {},
   "outputs": [],
   "source": [
    "data['Household type'] = data['Household type'].replace(['Rural : non-agriculture'],'Self_non-agriculture')\n",
    "data['Household type'] = data['Household type'].replace(['Rural : Self employed in : agriculture'],'Self_agriculture')\n",
    "data['Household type'] = data['Household type'].replace(['Rural : others'],'others')\n",
    "data['Household type'] = data['Household type'].replace(['Rural : Regular wage/salary earning'],'Salary')\n",
    "data['Household type'] = data['Household type'].replace(['Rural : Casual labour in : agriculture'],'Casual')\n",
    "data['Household type'] = data['Household type'].replace(['Urban : Self - employed'],'Self_non-agriculture')\n",
    "data['Household type'] = data['Household type'].replace(['Urban : regular wage/salary earning'],'Salary')\n",
    "data['Household type'] = data['Household type'].replace(['Urban : Casual labour'],'Casual')\n",
    "data['Household type'] = data['Household type'].replace(['Urban : Others'],'others')"
   ]
  },
  {
   "cell_type": "code",
   "execution_count": 205,
   "id": "16d873e6",
   "metadata": {},
   "outputs": [],
   "source": [
    "#duplicate with columns: Whether owns any non-agricultural enterprise, then drop\n",
    "data.drop(columns=['Whether owns any non-agricultural enterprise'], inplace=True)"
   ]
  },
  {
   "cell_type": "code",
   "execution_count": 206,
   "id": "4f975581",
   "metadata": {},
   "outputs": [
    {
     "data": {
      "text/plain": [
       "Primary key - unique identifier for a household      0\n",
       "Sector                                               0\n",
       "State                                                0\n",
       "Household size                                       0\n",
       "Household type                                       0\n",
       "Religion                                             0\n",
       "Cast&class                                           0\n",
       "Whether acquired any major durable goods             0\n",
       "Household usual monthly consumer expenditure(Rs.)    8\n",
       "dtype: int64"
      ]
     },
     "execution_count": 206,
     "metadata": {},
     "output_type": "execute_result"
    }
   ],
   "source": [
    "## Missing data check\n",
    "data.isna().sum()"
   ]
  },
  {
   "cell_type": "code",
   "execution_count": 207,
   "id": "c18433a8",
   "metadata": {},
   "outputs": [],
   "source": [
    "data = data.dropna()"
   ]
  },
  {
   "cell_type": "code",
   "execution_count": 208,
   "id": "5924be08",
   "metadata": {},
   "outputs": [
    {
     "data": {
      "text/html": [
       "<div>\n",
       "<style scoped>\n",
       "    .dataframe tbody tr th:only-of-type {\n",
       "        vertical-align: middle;\n",
       "    }\n",
       "\n",
       "    .dataframe tbody tr th {\n",
       "        vertical-align: top;\n",
       "    }\n",
       "\n",
       "    .dataframe thead th {\n",
       "        text-align: right;\n",
       "    }\n",
       "</style>\n",
       "<table border=\"1\" class=\"dataframe\">\n",
       "  <thead>\n",
       "    <tr style=\"text-align: right;\">\n",
       "      <th></th>\n",
       "      <th>Primary key - unique identifier for a household</th>\n",
       "      <th>Sector</th>\n",
       "      <th>State</th>\n",
       "      <th>Household size</th>\n",
       "      <th>Household type</th>\n",
       "      <th>Religion</th>\n",
       "      <th>Cast&amp;class</th>\n",
       "      <th>Whether acquired any major durable goods</th>\n",
       "      <th>Household usual monthly consumer expenditure(Rs.)</th>\n",
       "    </tr>\n",
       "  </thead>\n",
       "  <tbody>\n",
       "    <tr>\n",
       "      <th>0</th>\n",
       "      <td>744471301</td>\n",
       "      <td>Rural</td>\n",
       "      <td>JAMMU &amp; KASHMIR</td>\n",
       "      <td>6</td>\n",
       "      <td>Self_non-agriculture</td>\n",
       "      <td>Islam</td>\n",
       "      <td>others</td>\n",
       "      <td>no</td>\n",
       "      <td>9000.0</td>\n",
       "    </tr>\n",
       "    <tr>\n",
       "      <th>1</th>\n",
       "      <td>744471302</td>\n",
       "      <td>Rural</td>\n",
       "      <td>JAMMU &amp; KASHMIR</td>\n",
       "      <td>5</td>\n",
       "      <td>Self_non-agriculture</td>\n",
       "      <td>Islam</td>\n",
       "      <td>others</td>\n",
       "      <td>no</td>\n",
       "      <td>10000.0</td>\n",
       "    </tr>\n",
       "    <tr>\n",
       "      <th>2</th>\n",
       "      <td>744471303</td>\n",
       "      <td>Rural</td>\n",
       "      <td>JAMMU &amp; KASHMIR</td>\n",
       "      <td>6</td>\n",
       "      <td>Self_non-agriculture</td>\n",
       "      <td>others</td>\n",
       "      <td>Scheduled Castes</td>\n",
       "      <td>yes</td>\n",
       "      <td>100000.0</td>\n",
       "    </tr>\n",
       "    <tr>\n",
       "      <th>3</th>\n",
       "      <td>744472301</td>\n",
       "      <td>Rural</td>\n",
       "      <td>JAMMU &amp; KASHMIR</td>\n",
       "      <td>8</td>\n",
       "      <td>Self_agriculture</td>\n",
       "      <td>Islam</td>\n",
       "      <td>Scheduled Tribes</td>\n",
       "      <td>no</td>\n",
       "      <td>4000.0</td>\n",
       "    </tr>\n",
       "    <tr>\n",
       "      <th>4</th>\n",
       "      <td>744472302</td>\n",
       "      <td>Rural</td>\n",
       "      <td>JAMMU &amp; KASHMIR</td>\n",
       "      <td>9</td>\n",
       "      <td>Self_non-agriculture</td>\n",
       "      <td>Islam</td>\n",
       "      <td>Scheduled Tribes</td>\n",
       "      <td>no</td>\n",
       "      <td>7500.0</td>\n",
       "    </tr>\n",
       "    <tr>\n",
       "      <th>...</th>\n",
       "      <td>...</td>\n",
       "      <td>...</td>\n",
       "      <td>...</td>\n",
       "      <td>...</td>\n",
       "      <td>...</td>\n",
       "      <td>...</td>\n",
       "      <td>...</td>\n",
       "      <td>...</td>\n",
       "      <td>...</td>\n",
       "    </tr>\n",
       "    <tr>\n",
       "      <th>83595</th>\n",
       "      <td>924591102</td>\n",
       "      <td>Urban</td>\n",
       "      <td>A &amp; N ISLANDS</td>\n",
       "      <td>5</td>\n",
       "      <td>Self_non-agriculture</td>\n",
       "      <td>Hinduism</td>\n",
       "      <td>others</td>\n",
       "      <td>yes</td>\n",
       "      <td>25000.0</td>\n",
       "    </tr>\n",
       "    <tr>\n",
       "      <th>83596</th>\n",
       "      <td>924591201</td>\n",
       "      <td>Urban</td>\n",
       "      <td>A &amp; N ISLANDS</td>\n",
       "      <td>4</td>\n",
       "      <td>Self_non-agriculture</td>\n",
       "      <td>Christianity</td>\n",
       "      <td>others</td>\n",
       "      <td>yes</td>\n",
       "      <td>10000.0</td>\n",
       "    </tr>\n",
       "    <tr>\n",
       "      <th>83597</th>\n",
       "      <td>924591202</td>\n",
       "      <td>Urban</td>\n",
       "      <td>A &amp; N ISLANDS</td>\n",
       "      <td>4</td>\n",
       "      <td>Self_non-agriculture</td>\n",
       "      <td>Hinduism</td>\n",
       "      <td>others</td>\n",
       "      <td>yes</td>\n",
       "      <td>8000.0</td>\n",
       "    </tr>\n",
       "    <tr>\n",
       "      <th>83598</th>\n",
       "      <td>924591301</td>\n",
       "      <td>Urban</td>\n",
       "      <td>A &amp; N ISLANDS</td>\n",
       "      <td>5</td>\n",
       "      <td>Self_non-agriculture</td>\n",
       "      <td>Christianity</td>\n",
       "      <td>others</td>\n",
       "      <td>no</td>\n",
       "      <td>20000.0</td>\n",
       "    </tr>\n",
       "    <tr>\n",
       "      <th>83599</th>\n",
       "      <td>924591302</td>\n",
       "      <td>Urban</td>\n",
       "      <td>A &amp; N ISLANDS</td>\n",
       "      <td>5</td>\n",
       "      <td>Salary</td>\n",
       "      <td>Hinduism</td>\n",
       "      <td>others</td>\n",
       "      <td>yes</td>\n",
       "      <td>30000.0</td>\n",
       "    </tr>\n",
       "  </tbody>\n",
       "</table>\n",
       "<p>83592 rows × 9 columns</p>\n",
       "</div>"
      ],
      "text/plain": [
       "       Primary key - unique identifier for a household Sector  \\\n",
       "0                                            744471301  Rural   \n",
       "1                                            744471302  Rural   \n",
       "2                                            744471303  Rural   \n",
       "3                                            744472301  Rural   \n",
       "4                                            744472302  Rural   \n",
       "...                                                ...    ...   \n",
       "83595                                        924591102  Urban   \n",
       "83596                                        924591201  Urban   \n",
       "83597                                        924591202  Urban   \n",
       "83598                                        924591301  Urban   \n",
       "83599                                        924591302  Urban   \n",
       "\n",
       "                 State  Household size        Household type      Religion  \\\n",
       "0      JAMMU & KASHMIR               6  Self_non-agriculture         Islam   \n",
       "1      JAMMU & KASHMIR               5  Self_non-agriculture         Islam   \n",
       "2      JAMMU & KASHMIR               6  Self_non-agriculture        others   \n",
       "3      JAMMU & KASHMIR               8      Self_agriculture         Islam   \n",
       "4      JAMMU & KASHMIR               9  Self_non-agriculture         Islam   \n",
       "...                ...             ...                   ...           ...   \n",
       "83595    A & N ISLANDS               5  Self_non-agriculture      Hinduism   \n",
       "83596    A & N ISLANDS               4  Self_non-agriculture  Christianity   \n",
       "83597    A & N ISLANDS               4  Self_non-agriculture      Hinduism   \n",
       "83598    A & N ISLANDS               5  Self_non-agriculture  Christianity   \n",
       "83599    A & N ISLANDS               5                Salary      Hinduism   \n",
       "\n",
       "             Cast&class Whether acquired any major durable goods  \\\n",
       "0                others                                       no   \n",
       "1                others                                       no   \n",
       "2      Scheduled Castes                                      yes   \n",
       "3      Scheduled Tribes                                       no   \n",
       "4      Scheduled Tribes                                       no   \n",
       "...                 ...                                      ...   \n",
       "83595            others                                      yes   \n",
       "83596            others                                      yes   \n",
       "83597            others                                      yes   \n",
       "83598            others                                       no   \n",
       "83599            others                                      yes   \n",
       "\n",
       "       Household usual monthly consumer expenditure(Rs.)  \n",
       "0                                                 9000.0  \n",
       "1                                                10000.0  \n",
       "2                                               100000.0  \n",
       "3                                                 4000.0  \n",
       "4                                                 7500.0  \n",
       "...                                                  ...  \n",
       "83595                                            25000.0  \n",
       "83596                                            10000.0  \n",
       "83597                                             8000.0  \n",
       "83598                                            20000.0  \n",
       "83599                                            30000.0  \n",
       "\n",
       "[83592 rows x 9 columns]"
      ]
     },
     "execution_count": 208,
     "metadata": {},
     "output_type": "execute_result"
    }
   ],
   "source": [
    "data"
   ]
  },
  {
   "cell_type": "code",
   "execution_count": 209,
   "id": "04c068c2",
   "metadata": {},
   "outputs": [
    {
     "data": {
      "text/html": [
       "<div>\n",
       "<style scoped>\n",
       "    .dataframe tbody tr th:only-of-type {\n",
       "        vertical-align: middle;\n",
       "    }\n",
       "\n",
       "    .dataframe tbody tr th {\n",
       "        vertical-align: top;\n",
       "    }\n",
       "\n",
       "    .dataframe thead th {\n",
       "        text-align: right;\n",
       "    }\n",
       "</style>\n",
       "<table border=\"1\" class=\"dataframe\">\n",
       "  <thead>\n",
       "    <tr style=\"text-align: right;\">\n",
       "      <th></th>\n",
       "      <th>Primary key - unique identifier for a household</th>\n",
       "      <th>Household size</th>\n",
       "      <th>Household usual monthly consumer expenditure(Rs.)</th>\n",
       "    </tr>\n",
       "  </thead>\n",
       "  <tbody>\n",
       "    <tr>\n",
       "      <th>count</th>\n",
       "      <td>8.359200e+04</td>\n",
       "      <td>83592.000000</td>\n",
       "      <td>8.359200e+04</td>\n",
       "    </tr>\n",
       "    <tr>\n",
       "      <th>mean</th>\n",
       "      <td>8.397048e+08</td>\n",
       "      <td>4.673844</td>\n",
       "      <td>9.913243e+03</td>\n",
       "    </tr>\n",
       "    <tr>\n",
       "      <th>std</th>\n",
       "      <td>1.072083e+08</td>\n",
       "      <td>2.229233</td>\n",
       "      <td>1.238500e+04</td>\n",
       "    </tr>\n",
       "    <tr>\n",
       "      <th>min</th>\n",
       "      <td>7.000011e+08</td>\n",
       "      <td>1.000000</td>\n",
       "      <td>1.000000e+00</td>\n",
       "    </tr>\n",
       "    <tr>\n",
       "      <th>25%</th>\n",
       "      <td>7.396013e+08</td>\n",
       "      <td>3.000000</td>\n",
       "      <td>5.000000e+03</td>\n",
       "    </tr>\n",
       "    <tr>\n",
       "      <th>50%</th>\n",
       "      <td>7.895813e+08</td>\n",
       "      <td>4.000000</td>\n",
       "      <td>8.000000e+03</td>\n",
       "    </tr>\n",
       "    <tr>\n",
       "      <th>75%</th>\n",
       "      <td>9.484115e+08</td>\n",
       "      <td>6.000000</td>\n",
       "      <td>1.200000e+04</td>\n",
       "    </tr>\n",
       "    <tr>\n",
       "      <th>max</th>\n",
       "      <td>9.999513e+08</td>\n",
       "      <td>40.000000</td>\n",
       "      <td>1.300000e+06</td>\n",
       "    </tr>\n",
       "  </tbody>\n",
       "</table>\n",
       "</div>"
      ],
      "text/plain": [
       "       Primary key - unique identifier for a household  Household size  \\\n",
       "count                                     8.359200e+04    83592.000000   \n",
       "mean                                      8.397048e+08        4.673844   \n",
       "std                                       1.072083e+08        2.229233   \n",
       "min                                       7.000011e+08        1.000000   \n",
       "25%                                       7.396013e+08        3.000000   \n",
       "50%                                       7.895813e+08        4.000000   \n",
       "75%                                       9.484115e+08        6.000000   \n",
       "max                                       9.999513e+08       40.000000   \n",
       "\n",
       "       Household usual monthly consumer expenditure(Rs.)  \n",
       "count                                       8.359200e+04  \n",
       "mean                                        9.913243e+03  \n",
       "std                                         1.238500e+04  \n",
       "min                                         1.000000e+00  \n",
       "25%                                         5.000000e+03  \n",
       "50%                                         8.000000e+03  \n",
       "75%                                         1.200000e+04  \n",
       "max                                         1.300000e+06  "
      ]
     },
     "execution_count": 209,
     "metadata": {},
     "output_type": "execute_result"
    }
   ],
   "source": [
    "## Data inconsistency check\n",
    "data.describe()"
   ]
  },
  {
   "cell_type": "code",
   "execution_count": 210,
   "id": "d977917c",
   "metadata": {},
   "outputs": [
    {
     "data": {
      "text/plain": [
       "<Figure size 720x432 with 0 Axes>"
      ]
     },
     "metadata": {},
     "output_type": "display_data"
    },
    {
     "data": {
      "image/png": "[encoded data removed]",
      "text/plain": [
       "<Figure size 720x432 with 1 Axes>"
      ]
     },
     "metadata": {},
     "output_type": "display_data"
    },
    {
     "data": {
      "image/png": "[encoded data removed]",
      "text/plain": [
       "<Figure size 720x432 with 1 Axes>"
      ]
     },
     "metadata": {},
     "output_type": "display_data"
    },
    {
     "data": {
      "image/png": "[encoded data removed]",
      "text/plain": [
       "<Figure size 720x432 with 1 Axes>"
      ]
     },
     "metadata": {},
     "output_type": "display_data"
    }
   ],
   "source": [
    "#Check Outliers\n",
    "num_df = data.select_dtypes(exclude=['object'])\n",
    "# Plot the variables (loop for plot variables) for num values\n",
    "plt.figure(figsize=(10, 6))\n",
    "for col in num_df:\n",
    "    plt.figure(figsize=(10, 6))\n",
    "    data.boxplot(column=[col])\n",
    "    plt.title(col)\n",
    "    plt.savefig(col+r'.png',bbox_inches='tight')"
   ]
  },
  {
   "cell_type": "code",
   "execution_count": 211,
   "id": "06c065b9",
   "metadata": {},
   "outputs": [
    {
     "data": {
      "text/plain": [
       "(41, 9)"
      ]
     },
     "execution_count": 211,
     "metadata": {},
     "output_type": "execute_result"
    }
   ],
   "source": [
    "#We can see there are some outliers in Household size so we check these rows to knows how many is there\n",
    "data[(data['Household size'] >20)].shape"
   ]
  },
  {
   "cell_type": "code",
   "execution_count": 212,
   "id": "fc9c4373",
   "metadata": {},
   "outputs": [],
   "source": [
    "#We can see there are some outliers in Household size so we check these rows to knows how many is there\n",
    "data[(data['Household size'] >20)].shape\n",
    "\n",
    "#there is only 41 family on 83600: so we decide to drop them  ( but after concat other dataset)\n",
    "data = data.drop(data[data['Household size'] >20].index)\n"
   ]
  },
  {
   "cell_type": "code",
   "execution_count": 213,
   "id": "8f895077",
   "metadata": {},
   "outputs": [],
   "source": [
    "#We drop outliers and keep under 400 000 roupies (around 5000 euros)\n",
    "data = data.drop(data[data['Household usual monthly consumer expenditure(Rs.)'] >400000].index) \n"
   ]
  },
  {
   "cell_type": "code",
   "execution_count": 214,
   "id": "7968029b",
   "metadata": {},
   "outputs": [
    {
     "data": {
      "text/plain": [
       "(83541, 9)"
      ]
     },
     "execution_count": 214,
     "metadata": {},
     "output_type": "execute_result"
    }
   ],
   "source": [
    "data.shape\n"
   ]
  },
  {
   "cell_type": "code",
   "execution_count": 215,
   "id": "56d922e9",
   "metadata": {},
   "outputs": [
    {
     "data": {
      "text/html": [
       "<div>\n",
       "<style scoped>\n",
       "    .dataframe tbody tr th:only-of-type {\n",
       "        vertical-align: middle;\n",
       "    }\n",
       "\n",
       "    .dataframe tbody tr th {\n",
       "        vertical-align: top;\n",
       "    }\n",
       "\n",
       "    .dataframe thead th {\n",
       "        text-align: right;\n",
       "    }\n",
       "</style>\n",
       "<table border=\"1\" class=\"dataframe\">\n",
       "  <thead>\n",
       "    <tr style=\"text-align: right;\">\n",
       "      <th></th>\n",
       "      <th>Primary key - unique identifier for a household</th>\n",
       "      <th>Sector</th>\n",
       "      <th>State</th>\n",
       "      <th>Household size</th>\n",
       "      <th>Household type</th>\n",
       "      <th>Religion</th>\n",
       "      <th>Cast&amp;class</th>\n",
       "      <th>Whether acquired any major durable goods</th>\n",
       "      <th>Household usual monthly consumer expenditure(Rs.)</th>\n",
       "    </tr>\n",
       "  </thead>\n",
       "  <tbody>\n",
       "    <tr>\n",
       "      <th>0</th>\n",
       "      <td>744471301</td>\n",
       "      <td>Rural</td>\n",
       "      <td>JAMMU &amp; KASHMIR</td>\n",
       "      <td>6</td>\n",
       "      <td>Self_non-agriculture</td>\n",
       "      <td>Islam</td>\n",
       "      <td>others</td>\n",
       "      <td>no</td>\n",
       "      <td>9000.0</td>\n",
       "    </tr>\n",
       "    <tr>\n",
       "      <th>1</th>\n",
       "      <td>744471302</td>\n",
       "      <td>Rural</td>\n",
       "      <td>JAMMU &amp; KASHMIR</td>\n",
       "      <td>5</td>\n",
       "      <td>Self_non-agriculture</td>\n",
       "      <td>Islam</td>\n",
       "      <td>others</td>\n",
       "      <td>no</td>\n",
       "      <td>10000.0</td>\n",
       "    </tr>\n",
       "    <tr>\n",
       "      <th>2</th>\n",
       "      <td>744471303</td>\n",
       "      <td>Rural</td>\n",
       "      <td>JAMMU &amp; KASHMIR</td>\n",
       "      <td>6</td>\n",
       "      <td>Self_non-agriculture</td>\n",
       "      <td>others</td>\n",
       "      <td>Scheduled Castes</td>\n",
       "      <td>yes</td>\n",
       "      <td>100000.0</td>\n",
       "    </tr>\n",
       "    <tr>\n",
       "      <th>3</th>\n",
       "      <td>744472301</td>\n",
       "      <td>Rural</td>\n",
       "      <td>JAMMU &amp; KASHMIR</td>\n",
       "      <td>8</td>\n",
       "      <td>Self_agriculture</td>\n",
       "      <td>Islam</td>\n",
       "      <td>Scheduled Tribes</td>\n",
       "      <td>no</td>\n",
       "      <td>4000.0</td>\n",
       "    </tr>\n",
       "    <tr>\n",
       "      <th>4</th>\n",
       "      <td>744472302</td>\n",
       "      <td>Rural</td>\n",
       "      <td>JAMMU &amp; KASHMIR</td>\n",
       "      <td>9</td>\n",
       "      <td>Self_non-agriculture</td>\n",
       "      <td>Islam</td>\n",
       "      <td>Scheduled Tribes</td>\n",
       "      <td>no</td>\n",
       "      <td>7500.0</td>\n",
       "    </tr>\n",
       "    <tr>\n",
       "      <th>...</th>\n",
       "      <td>...</td>\n",
       "      <td>...</td>\n",
       "      <td>...</td>\n",
       "      <td>...</td>\n",
       "      <td>...</td>\n",
       "      <td>...</td>\n",
       "      <td>...</td>\n",
       "      <td>...</td>\n",
       "      <td>...</td>\n",
       "    </tr>\n",
       "    <tr>\n",
       "      <th>83595</th>\n",
       "      <td>924591102</td>\n",
       "      <td>Urban</td>\n",
       "      <td>A &amp; N ISLANDS</td>\n",
       "      <td>5</td>\n",
       "      <td>Self_non-agriculture</td>\n",
       "      <td>Hinduism</td>\n",
       "      <td>others</td>\n",
       "      <td>yes</td>\n",
       "      <td>25000.0</td>\n",
       "    </tr>\n",
       "    <tr>\n",
       "      <th>83596</th>\n",
       "      <td>924591201</td>\n",
       "      <td>Urban</td>\n",
       "      <td>A &amp; N ISLANDS</td>\n",
       "      <td>4</td>\n",
       "      <td>Self_non-agriculture</td>\n",
       "      <td>Christianity</td>\n",
       "      <td>others</td>\n",
       "      <td>yes</td>\n",
       "      <td>10000.0</td>\n",
       "    </tr>\n",
       "    <tr>\n",
       "      <th>83597</th>\n",
       "      <td>924591202</td>\n",
       "      <td>Urban</td>\n",
       "      <td>A &amp; N ISLANDS</td>\n",
       "      <td>4</td>\n",
       "      <td>Self_non-agriculture</td>\n",
       "      <td>Hinduism</td>\n",
       "      <td>others</td>\n",
       "      <td>yes</td>\n",
       "      <td>8000.0</td>\n",
       "    </tr>\n",
       "    <tr>\n",
       "      <th>83598</th>\n",
       "      <td>924591301</td>\n",
       "      <td>Urban</td>\n",
       "      <td>A &amp; N ISLANDS</td>\n",
       "      <td>5</td>\n",
       "      <td>Self_non-agriculture</td>\n",
       "      <td>Christianity</td>\n",
       "      <td>others</td>\n",
       "      <td>no</td>\n",
       "      <td>20000.0</td>\n",
       "    </tr>\n",
       "    <tr>\n",
       "      <th>83599</th>\n",
       "      <td>924591302</td>\n",
       "      <td>Urban</td>\n",
       "      <td>A &amp; N ISLANDS</td>\n",
       "      <td>5</td>\n",
       "      <td>Salary</td>\n",
       "      <td>Hinduism</td>\n",
       "      <td>others</td>\n",
       "      <td>yes</td>\n",
       "      <td>30000.0</td>\n",
       "    </tr>\n",
       "  </tbody>\n",
       "</table>\n",
       "<p>83541 rows × 9 columns</p>\n",
       "</div>"
      ],
      "text/plain": [
       "       Primary key - unique identifier for a household Sector  \\\n",
       "0                                            744471301  Rural   \n",
       "1                                            744471302  Rural   \n",
       "2                                            744471303  Rural   \n",
       "3                                            744472301  Rural   \n",
       "4                                            744472302  Rural   \n",
       "...                                                ...    ...   \n",
       "83595                                        924591102  Urban   \n",
       "83596                                        924591201  Urban   \n",
       "83597                                        924591202  Urban   \n",
       "83598                                        924591301  Urban   \n",
       "83599                                        924591302  Urban   \n",
       "\n",
       "                 State  Household size        Household type      Religion  \\\n",
       "0      JAMMU & KASHMIR               6  Self_non-agriculture         Islam   \n",
       "1      JAMMU & KASHMIR               5  Self_non-agriculture         Islam   \n",
       "2      JAMMU & KASHMIR               6  Self_non-agriculture        others   \n",
       "3      JAMMU & KASHMIR               8      Self_agriculture         Islam   \n",
       "4      JAMMU & KASHMIR               9  Self_non-agriculture         Islam   \n",
       "...                ...             ...                   ...           ...   \n",
       "83595    A & N ISLANDS               5  Self_non-agriculture      Hinduism   \n",
       "83596    A & N ISLANDS               4  Self_non-agriculture  Christianity   \n",
       "83597    A & N ISLANDS               4  Self_non-agriculture      Hinduism   \n",
       "83598    A & N ISLANDS               5  Self_non-agriculture  Christianity   \n",
       "83599    A & N ISLANDS               5                Salary      Hinduism   \n",
       "\n",
       "             Cast&class Whether acquired any major durable goods  \\\n",
       "0                others                                       no   \n",
       "1                others                                       no   \n",
       "2      Scheduled Castes                                      yes   \n",
       "3      Scheduled Tribes                                       no   \n",
       "4      Scheduled Tribes                                       no   \n",
       "...                 ...                                      ...   \n",
       "83595            others                                      yes   \n",
       "83596            others                                      yes   \n",
       "83597            others                                      yes   \n",
       "83598            others                                       no   \n",
       "83599            others                                      yes   \n",
       "\n",
       "       Household usual monthly consumer expenditure(Rs.)  \n",
       "0                                                 9000.0  \n",
       "1                                                10000.0  \n",
       "2                                               100000.0  \n",
       "3                                                 4000.0  \n",
       "4                                                 7500.0  \n",
       "...                                                  ...  \n",
       "83595                                            25000.0  \n",
       "83596                                            10000.0  \n",
       "83597                                             8000.0  \n",
       "83598                                            20000.0  \n",
       "83599                                            30000.0  \n",
       "\n",
       "[83541 rows x 9 columns]"
      ]
     },
     "execution_count": 215,
     "metadata": {},
     "output_type": "execute_result"
    }
   ],
   "source": [
    "data"
   ]
  },
  {
   "cell_type": "code",
   "execution_count": 216,
   "id": "9c81425a",
   "metadata": {},
   "outputs": [],
   "source": [
    "##Exporting File before encoding\n",
    "file_url2 = r'C:\\Users\\Lenovo\\Documents\\INDE DATA\\INDIACASTERELIGION.csv'\n",
    "data.to_csv(file_url2,index = False)"
   ]
  },
  {
   "cell_type": "code",
   "execution_count": 217,
   "id": "ca450c36",
   "metadata": {},
   "outputs": [
    {
     "ename": "ProgrammingError",
     "evalue": "(mysql.connector.errors.ProgrammingError) 1054 (42S22): Unknown column 'Cast&class' in 'field list'\n[SQL: INSERT INTO region_caste (`index`, `Primary key - unique identifier for a household`, `Sector`, `State`, `Household size`, `Household type`, `Religion`, `Cast&class`, `Whether acquired any major durable goods`, `Household usual monthly consumer expenditure(Rs.)`) VALUES (%(index)s, %(Primary key - unique identifier for a household)s, %(Sector)s, %(State)s, %(Household size)s, %(Household type)s, %(Religion)s, %(Cast&class)s, %(Whether acquired any major durable goods)s, %(Household usual monthly consumer expenditureARs.Z)s)]\n[parameters: ({'index': 0, 'Primary key - unique identifier for a household': 744471301, 'Sector': 'Rural', 'State': 'JAMMU & KASHMIR', 'Household size': 6, 'Household type': 'Self_non-agriculture', 'Religion': 'Islam', 'Cast&class': 'others', 'Whether acquired any major durable goods': 'no', 'Household usual monthly consumer expenditureARs.Z': 9000.0}, {'index': 1, 'Primary key - unique identifier for a household': 744471302, 'Sector': 'Rural', 'State': 'JAMMU & KASHMIR', 'Household size': 5, 'Household type': 'Self_non-agriculture', 'Religion': 'Islam', 'Cast&class': 'others', 'Whether acquired any major durable goods': 'no', 'Household usual monthly consumer expenditureARs.Z': 10000.0}, {'index': 2, 'Primary key - unique identifier for a household': 744471303, 'Sector': 'Rural', 'State': 'JAMMU & KASHMIR', 'Household size': 6, 'Household type': 'Self_non-agriculture', 'Religion': 'others', 'Cast&class': 'Scheduled Castes', 'Whether acquired any major durable goods': 'yes', 'Household usual monthly consumer expenditureARs.Z': 100000.0}, {'index': 3, 'Primary key - unique identifier for a household': 744472301, 'Sector': 'Rural', 'State': 'JAMMU & KASHMIR', 'Household size': 8, 'Household type': 'Self_agriculture', 'Religion': 'Islam', 'Cast&class': 'Scheduled Tribes', 'Whether acquired any major durable goods': 'no', 'Household usual monthly consumer expenditureARs.Z': 4000.0}, {'index': 4, 'Primary key - unique identifier for a household': 744472302, 'Sector': 'Rural', 'State': 'JAMMU & KASHMIR', 'Household size': 9, 'Household type': 'Self_non-agriculture', 'Religion': 'Islam', 'Cast&class': 'Scheduled Tribes', 'Whether acquired any major durable goods': 'no', 'Household usual monthly consumer expenditureARs.Z': 7500.0}, {'index': 5, 'Primary key - unique identifier for a household': 744472303, 'Sector': 'Rural', 'State': 'JAMMU & KASHMIR', 'Household size': 2, 'Household type': 'others', 'Religion': 'Islam', 'Cast&class': 'Scheduled Tribes', 'Whether acquired any major durable goods': 'no', 'Household usual monthly consumer expenditureARs.Z': 2500.0}, {'index': 6, 'Primary key - unique identifier for a household': 744491301, 'Sector': 'Rural', 'State': 'JAMMU & KASHMIR', 'Household size': 6, 'Household type': 'Self_agriculture', 'Religion': 'Islam', 'Cast&class': 'others', 'Whether acquired any major durable goods': 'no', 'Household usual monthly consumer expenditureARs.Z': 12000.0}, {'index': 7, 'Primary key - unique identifier for a household': 744491302, 'Sector': 'Rural', 'State': 'JAMMU & KASHMIR', 'Household size': 6, 'Household type': 'Self_agriculture', 'Religion': 'Islam', 'Cast&class': 'Scheduled Tribes', 'Whether acquired any major durable goods': 'no', 'Household usual monthly consumer expenditureARs.Z': 8000.0}  ... displaying 10 of 220 total bound parameter sets ...  {'index': 218, 'Primary key - unique identifier for a household': 744822101, 'Sector': 'Rural', 'State': 'JAMMU & KASHMIR', 'Household size': 6, 'Household type': 'Self_non-agriculture', 'Religion': ' Hinduism', 'Cast&class': 'Scheduled Castes', 'Whether acquired any major durable goods': 'yes', 'Household usual monthly consumer expenditureARs.Z': 12000.0}, {'index': 219, 'Primary key - unique identifier for a household': 744822301, 'Sector': 'Rural', 'State': 'JAMMU & KASHMIR', 'Household size': 4, 'Household type': 'Self_non-agriculture', 'Religion': ' Hinduism', 'Cast&class': 'others', 'Whether acquired any major durable goods': 'no', 'Household usual monthly consumer expenditureARs.Z': 8000.0})]\n(Background on this error at: https://sqlalche.me/e/14/f405)",
     "output_type": "error",
     "traceback": [
      "\u001b[1;31m---------------------------------------------------------------------------\u001b[0m",
      "\u001b[1;31mProgrammingError\u001b[0m                          Traceback (most recent call last)",
      "\u001b[1;32m~\\anaconda3\\lib\\site-packages\\sqlalchemy\\engine\\base.py\u001b[0m in \u001b[0;36m_execute_context\u001b[1;34m(self, dialect, constructor, statement, parameters, execution_options, *args, **kw)\u001b[0m\n\u001b[0;32m   1750\u001b[0m                 \u001b[1;32mif\u001b[0m \u001b[1;32mnot\u001b[0m \u001b[0mevt_handled\u001b[0m\u001b[1;33m:\u001b[0m\u001b[1;33m\u001b[0m\u001b[1;33m\u001b[0m\u001b[0m\n\u001b[1;32m-> 1751\u001b[1;33m                     self.dialect.do_executemany(\n\u001b[0m\u001b[0;32m   1752\u001b[0m                         \u001b[0mcursor\u001b[0m\u001b[1;33m,\u001b[0m \u001b[0mstatement\u001b[0m\u001b[1;33m,\u001b[0m \u001b[0mparameters\u001b[0m\u001b[1;33m,\u001b[0m \u001b[0mcontext\u001b[0m\u001b[1;33m\u001b[0m\u001b[1;33m\u001b[0m\u001b[0m\n",
      "\u001b[1;32m~\\anaconda3\\lib\\site-packages\\sqlalchemy\\engine\\default.py\u001b[0m in \u001b[0;36mdo_executemany\u001b[1;34m(self, cursor, statement, parameters, context)\u001b[0m\n\u001b[0;32m    713\u001b[0m     \u001b[1;32mdef\u001b[0m \u001b[0mdo_executemany\u001b[0m\u001b[1;33m(\u001b[0m\u001b[0mself\u001b[0m\u001b[1;33m,\u001b[0m \u001b[0mcursor\u001b[0m\u001b[1;33m,\u001b[0m \u001b[0mstatement\u001b[0m\u001b[1;33m,\u001b[0m \u001b[0mparameters\u001b[0m\u001b[1;33m,\u001b[0m \u001b[0mcontext\u001b[0m\u001b[1;33m=\u001b[0m\u001b[1;32mNone\u001b[0m\u001b[1;33m)\u001b[0m\u001b[1;33m:\u001b[0m\u001b[1;33m\u001b[0m\u001b[1;33m\u001b[0m\u001b[0m\n\u001b[1;32m--> 714\u001b[1;33m         \u001b[0mcursor\u001b[0m\u001b[1;33m.\u001b[0m\u001b[0mexecutemany\u001b[0m\u001b[1;33m(\u001b[0m\u001b[0mstatement\u001b[0m\u001b[1;33m,\u001b[0m \u001b[0mparameters\u001b[0m\u001b[1;33m)\u001b[0m\u001b[1;33m\u001b[0m\u001b[1;33m\u001b[0m\u001b[0m\n\u001b[0m\u001b[0;32m    715\u001b[0m \u001b[1;33m\u001b[0m\u001b[0m\n",
      "\u001b[1;32m~\\anaconda3\\lib\\site-packages\\mysql\\connector\\cursor.py\u001b[0m in \u001b[0;36mexecutemany\u001b[1;34m(self, operation, seq_params)\u001b[0m\n\u001b[0;32m    653\u001b[0m             \u001b[1;32mif\u001b[0m \u001b[0mstmt\u001b[0m \u001b[1;32mis\u001b[0m \u001b[1;32mnot\u001b[0m \u001b[1;32mNone\u001b[0m\u001b[1;33m:\u001b[0m\u001b[1;33m\u001b[0m\u001b[1;33m\u001b[0m\u001b[0m\n\u001b[1;32m--> 654\u001b[1;33m                 \u001b[1;32mreturn\u001b[0m \u001b[0mself\u001b[0m\u001b[1;33m.\u001b[0m\u001b[0mexecute\u001b[0m\u001b[1;33m(\u001b[0m\u001b[0mstmt\u001b[0m\u001b[1;33m)\u001b[0m\u001b[1;33m\u001b[0m\u001b[1;33m\u001b[0m\u001b[0m\n\u001b[0m\u001b[0;32m    655\u001b[0m \u001b[1;33m\u001b[0m\u001b[0m\n",
      "\u001b[1;32m~\\anaconda3\\lib\\site-packages\\mysql\\connector\\cursor.py\u001b[0m in \u001b[0;36mexecute\u001b[1;34m(self, operation, params, multi)\u001b[0m\n\u001b[0;32m    550\u001b[0m             \u001b[1;32mtry\u001b[0m\u001b[1;33m:\u001b[0m\u001b[1;33m\u001b[0m\u001b[1;33m\u001b[0m\u001b[0m\n\u001b[1;32m--> 551\u001b[1;33m                 \u001b[0mself\u001b[0m\u001b[1;33m.\u001b[0m\u001b[0m_handle_result\u001b[0m\u001b[1;33m(\u001b[0m\u001b[0mself\u001b[0m\u001b[1;33m.\u001b[0m\u001b[0m_connection\u001b[0m\u001b[1;33m.\u001b[0m\u001b[0mcmd_query\u001b[0m\u001b[1;33m(\u001b[0m\u001b[0mstmt\u001b[0m\u001b[1;33m)\u001b[0m\u001b[1;33m)\u001b[0m\u001b[1;33m\u001b[0m\u001b[1;33m\u001b[0m\u001b[0m\n\u001b[0m\u001b[0;32m    552\u001b[0m             \u001b[1;32mexcept\u001b[0m \u001b[0merrors\u001b[0m\u001b[1;33m.\u001b[0m\u001b[0mInterfaceError\u001b[0m\u001b[1;33m:\u001b[0m\u001b[1;33m\u001b[0m\u001b[1;33m\u001b[0m\u001b[0m\n",
      "\u001b[1;32m~\\anaconda3\\lib\\site-packages\\mysql\\connector\\connection.py\u001b[0m in \u001b[0;36mcmd_query\u001b[1;34m(self, query, raw, buffered, raw_as_string)\u001b[0m\n\u001b[0;32m    489\u001b[0m             \u001b[0mquery\u001b[0m \u001b[1;33m=\u001b[0m \u001b[0mquery\u001b[0m\u001b[1;33m.\u001b[0m\u001b[0mencode\u001b[0m\u001b[1;33m(\u001b[0m\u001b[1;34m'utf-8'\u001b[0m\u001b[1;33m)\u001b[0m\u001b[1;33m\u001b[0m\u001b[1;33m\u001b[0m\u001b[0m\n\u001b[1;32m--> 490\u001b[1;33m         \u001b[0mresult\u001b[0m \u001b[1;33m=\u001b[0m \u001b[0mself\u001b[0m\u001b[1;33m.\u001b[0m\u001b[0m_handle_result\u001b[0m\u001b[1;33m(\u001b[0m\u001b[0mself\u001b[0m\u001b[1;33m.\u001b[0m\u001b[0m_send_cmd\u001b[0m\u001b[1;33m(\u001b[0m\u001b[0mServerCmd\u001b[0m\u001b[1;33m.\u001b[0m\u001b[0mQUERY\u001b[0m\u001b[1;33m,\u001b[0m \u001b[0mquery\u001b[0m\u001b[1;33m)\u001b[0m\u001b[1;33m)\u001b[0m\u001b[1;33m\u001b[0m\u001b[1;33m\u001b[0m\u001b[0m\n\u001b[0m\u001b[0;32m    491\u001b[0m \u001b[1;33m\u001b[0m\u001b[0m\n",
      "\u001b[1;32m~\\anaconda3\\lib\\site-packages\\mysql\\connector\\connection.py\u001b[0m in \u001b[0;36m_handle_result\u001b[1;34m(self, packet)\u001b[0m\n\u001b[0;32m    394\u001b[0m         \u001b[1;32melif\u001b[0m \u001b[0mpacket\u001b[0m\u001b[1;33m[\u001b[0m\u001b[1;36m4\u001b[0m\u001b[1;33m]\u001b[0m \u001b[1;33m==\u001b[0m \u001b[1;36m255\u001b[0m\u001b[1;33m:\u001b[0m\u001b[1;33m\u001b[0m\u001b[1;33m\u001b[0m\u001b[0m\n\u001b[1;32m--> 395\u001b[1;33m             \u001b[1;32mraise\u001b[0m \u001b[0merrors\u001b[0m\u001b[1;33m.\u001b[0m\u001b[0mget_exception\u001b[0m\u001b[1;33m(\u001b[0m\u001b[0mpacket\u001b[0m\u001b[1;33m)\u001b[0m\u001b[1;33m\u001b[0m\u001b[1;33m\u001b[0m\u001b[0m\n\u001b[0m\u001b[0;32m    396\u001b[0m \u001b[1;33m\u001b[0m\u001b[0m\n",
      "\u001b[1;31mProgrammingError\u001b[0m: 1054 (42S22): Unknown column 'Cast&class' in 'field list'",
      "\nThe above exception was the direct cause of the following exception:\n",
      "\u001b[1;31mProgrammingError\u001b[0m                          Traceback (most recent call last)",
      "\u001b[1;32m~\\AppData\\Local\\Temp/ipykernel_14628/3869085529.py\u001b[0m in \u001b[0;36m<module>\u001b[1;34m\u001b[0m\n\u001b[0;32m     12\u001b[0m                                                       database_ip, database_name), pool_recycle=1, pool_timeout=57600).connect()\n\u001b[0;32m     13\u001b[0m \u001b[1;33m\u001b[0m\u001b[0m\n\u001b[1;32m---> 14\u001b[1;33m \u001b[0mdata\u001b[0m\u001b[1;33m.\u001b[0m\u001b[0mto_sql\u001b[0m\u001b[1;33m(\u001b[0m\u001b[0mcon\u001b[0m\u001b[1;33m=\u001b[0m\u001b[0mdatabase_connection\u001b[0m\u001b[1;33m,\u001b[0m \u001b[0mname\u001b[0m\u001b[1;33m=\u001b[0m\u001b[1;34m'region_caste'\u001b[0m\u001b[1;33m,\u001b[0m \u001b[0mif_exists\u001b[0m\u001b[1;33m=\u001b[0m\u001b[1;34m'append'\u001b[0m\u001b[1;33m,\u001b[0m\u001b[0mchunksize\u001b[0m\u001b[1;33m=\u001b[0m\u001b[1;36m220\u001b[0m\u001b[1;33m)\u001b[0m\u001b[1;33m\u001b[0m\u001b[1;33m\u001b[0m\u001b[0m\n\u001b[0m\u001b[0;32m     15\u001b[0m \u001b[0mdatabase_connection\u001b[0m\u001b[1;33m.\u001b[0m\u001b[0mclose\u001b[0m\u001b[1;33m(\u001b[0m\u001b[1;33m)\u001b[0m\u001b[1;33m\u001b[0m\u001b[1;33m\u001b[0m\u001b[0m\n",
      "\u001b[1;32m~\\anaconda3\\lib\\site-packages\\pandas\\core\\generic.py\u001b[0m in \u001b[0;36mto_sql\u001b[1;34m(self, name, con, schema, if_exists, index, index_label, chunksize, dtype, method)\u001b[0m\n\u001b[0;32m   2870\u001b[0m         \u001b[1;32mfrom\u001b[0m \u001b[0mpandas\u001b[0m\u001b[1;33m.\u001b[0m\u001b[0mio\u001b[0m \u001b[1;32mimport\u001b[0m \u001b[0msql\u001b[0m\u001b[1;33m\u001b[0m\u001b[1;33m\u001b[0m\u001b[0m\n\u001b[0;32m   2871\u001b[0m \u001b[1;33m\u001b[0m\u001b[0m\n\u001b[1;32m-> 2872\u001b[1;33m         sql.to_sql(\n\u001b[0m\u001b[0;32m   2873\u001b[0m             \u001b[0mself\u001b[0m\u001b[1;33m,\u001b[0m\u001b[1;33m\u001b[0m\u001b[1;33m\u001b[0m\u001b[0m\n\u001b[0;32m   2874\u001b[0m             \u001b[0mname\u001b[0m\u001b[1;33m,\u001b[0m\u001b[1;33m\u001b[0m\u001b[1;33m\u001b[0m\u001b[0m\n",
      "\u001b[1;32m~\\anaconda3\\lib\\site-packages\\pandas\\io\\sql.py\u001b[0m in \u001b[0;36mto_sql\u001b[1;34m(frame, name, con, schema, if_exists, index, index_label, chunksize, dtype, method, engine, **engine_kwargs)\u001b[0m\n\u001b[0;32m    715\u001b[0m         )\n\u001b[0;32m    716\u001b[0m \u001b[1;33m\u001b[0m\u001b[0m\n\u001b[1;32m--> 717\u001b[1;33m     pandas_sql.to_sql(\n\u001b[0m\u001b[0;32m    718\u001b[0m         \u001b[0mframe\u001b[0m\u001b[1;33m,\u001b[0m\u001b[1;33m\u001b[0m\u001b[1;33m\u001b[0m\u001b[0m\n\u001b[0;32m    719\u001b[0m         \u001b[0mname\u001b[0m\u001b[1;33m,\u001b[0m\u001b[1;33m\u001b[0m\u001b[1;33m\u001b[0m\u001b[0m\n",
      "\u001b[1;32m~\\anaconda3\\lib\\site-packages\\pandas\\io\\sql.py\u001b[0m in \u001b[0;36mto_sql\u001b[1;34m(self, frame, name, if_exists, index, index_label, schema, chunksize, dtype, method, engine, **engine_kwargs)\u001b[0m\n\u001b[0;32m   1759\u001b[0m         )\n\u001b[0;32m   1760\u001b[0m \u001b[1;33m\u001b[0m\u001b[0m\n\u001b[1;32m-> 1761\u001b[1;33m         sql_engine.insert_records(\n\u001b[0m\u001b[0;32m   1762\u001b[0m             \u001b[0mtable\u001b[0m\u001b[1;33m=\u001b[0m\u001b[0mtable\u001b[0m\u001b[1;33m,\u001b[0m\u001b[1;33m\u001b[0m\u001b[1;33m\u001b[0m\u001b[0m\n\u001b[0;32m   1763\u001b[0m             \u001b[0mcon\u001b[0m\u001b[1;33m=\u001b[0m\u001b[0mself\u001b[0m\u001b[1;33m.\u001b[0m\u001b[0mconnectable\u001b[0m\u001b[1;33m,\u001b[0m\u001b[1;33m\u001b[0m\u001b[1;33m\u001b[0m\u001b[0m\n",
      "\u001b[1;32m~\\anaconda3\\lib\\site-packages\\pandas\\io\\sql.py\u001b[0m in \u001b[0;36minsert_records\u001b[1;34m(self, table, con, frame, name, index, schema, chunksize, method, **engine_kwargs)\u001b[0m\n\u001b[0;32m   1348\u001b[0m                 \u001b[1;32mraise\u001b[0m \u001b[0mValueError\u001b[0m\u001b[1;33m(\u001b[0m\u001b[1;34m\"inf cannot be used with MySQL\"\u001b[0m\u001b[1;33m)\u001b[0m \u001b[1;32mfrom\u001b[0m \u001b[0merr\u001b[0m\u001b[1;33m\u001b[0m\u001b[1;33m\u001b[0m\u001b[0m\n\u001b[0;32m   1349\u001b[0m             \u001b[1;32melse\u001b[0m\u001b[1;33m:\u001b[0m\u001b[1;33m\u001b[0m\u001b[1;33m\u001b[0m\u001b[0m\n\u001b[1;32m-> 1350\u001b[1;33m                 \u001b[1;32mraise\u001b[0m \u001b[0merr\u001b[0m\u001b[1;33m\u001b[0m\u001b[1;33m\u001b[0m\u001b[0m\n\u001b[0m\u001b[0;32m   1351\u001b[0m \u001b[1;33m\u001b[0m\u001b[0m\n\u001b[0;32m   1352\u001b[0m \u001b[1;33m\u001b[0m\u001b[0m\n",
      "\u001b[1;32m~\\anaconda3\\lib\\site-packages\\pandas\\io\\sql.py\u001b[0m in \u001b[0;36minsert_records\u001b[1;34m(self, table, con, frame, name, index, schema, chunksize, method, **engine_kwargs)\u001b[0m\n\u001b[0;32m   1338\u001b[0m \u001b[1;33m\u001b[0m\u001b[0m\n\u001b[0;32m   1339\u001b[0m         \u001b[1;32mtry\u001b[0m\u001b[1;33m:\u001b[0m\u001b[1;33m\u001b[0m\u001b[1;33m\u001b[0m\u001b[0m\n\u001b[1;32m-> 1340\u001b[1;33m             \u001b[0mtable\u001b[0m\u001b[1;33m.\u001b[0m\u001b[0minsert\u001b[0m\u001b[1;33m(\u001b[0m\u001b[0mchunksize\u001b[0m\u001b[1;33m=\u001b[0m\u001b[0mchunksize\u001b[0m\u001b[1;33m,\u001b[0m \u001b[0mmethod\u001b[0m\u001b[1;33m=\u001b[0m\u001b[0mmethod\u001b[0m\u001b[1;33m)\u001b[0m\u001b[1;33m\u001b[0m\u001b[1;33m\u001b[0m\u001b[0m\n\u001b[0m\u001b[0;32m   1341\u001b[0m         \u001b[1;32mexcept\u001b[0m \u001b[0mexc\u001b[0m\u001b[1;33m.\u001b[0m\u001b[0mSQLAlchemyError\u001b[0m \u001b[1;32mas\u001b[0m \u001b[0merr\u001b[0m\u001b[1;33m:\u001b[0m\u001b[1;33m\u001b[0m\u001b[1;33m\u001b[0m\u001b[0m\n\u001b[0;32m   1342\u001b[0m             \u001b[1;31m# GH34431\u001b[0m\u001b[1;33m\u001b[0m\u001b[1;33m\u001b[0m\u001b[0m\n",
      "\u001b[1;32m~\\anaconda3\\lib\\site-packages\\pandas\\io\\sql.py\u001b[0m in \u001b[0;36minsert\u001b[1;34m(self, chunksize, method)\u001b[0m\n\u001b[0;32m    965\u001b[0m \u001b[1;33m\u001b[0m\u001b[0m\n\u001b[0;32m    966\u001b[0m                 \u001b[0mchunk_iter\u001b[0m \u001b[1;33m=\u001b[0m \u001b[0mzip\u001b[0m\u001b[1;33m(\u001b[0m\u001b[1;33m*\u001b[0m\u001b[1;33m[\u001b[0m\u001b[0marr\u001b[0m\u001b[1;33m[\u001b[0m\u001b[0mstart_i\u001b[0m\u001b[1;33m:\u001b[0m\u001b[0mend_i\u001b[0m\u001b[1;33m]\u001b[0m \u001b[1;32mfor\u001b[0m \u001b[0marr\u001b[0m \u001b[1;32min\u001b[0m \u001b[0mdata_list\u001b[0m\u001b[1;33m]\u001b[0m\u001b[1;33m)\u001b[0m\u001b[1;33m\u001b[0m\u001b[1;33m\u001b[0m\u001b[0m\n\u001b[1;32m--> 967\u001b[1;33m                 \u001b[0mexec_insert\u001b[0m\u001b[1;33m(\u001b[0m\u001b[0mconn\u001b[0m\u001b[1;33m,\u001b[0m \u001b[0mkeys\u001b[0m\u001b[1;33m,\u001b[0m \u001b[0mchunk_iter\u001b[0m\u001b[1;33m)\u001b[0m\u001b[1;33m\u001b[0m\u001b[1;33m\u001b[0m\u001b[0m\n\u001b[0m\u001b[0;32m    968\u001b[0m \u001b[1;33m\u001b[0m\u001b[0m\n\u001b[0;32m    969\u001b[0m     def _query_iterator(\n",
      "\u001b[1;32m~\\anaconda3\\lib\\site-packages\\pandas\\io\\sql.py\u001b[0m in \u001b[0;36m_execute_insert\u001b[1;34m(self, conn, keys, data_iter)\u001b[0m\n\u001b[0;32m    880\u001b[0m         \"\"\"\n\u001b[0;32m    881\u001b[0m         \u001b[0mdata\u001b[0m \u001b[1;33m=\u001b[0m \u001b[1;33m[\u001b[0m\u001b[0mdict\u001b[0m\u001b[1;33m(\u001b[0m\u001b[0mzip\u001b[0m\u001b[1;33m(\u001b[0m\u001b[0mkeys\u001b[0m\u001b[1;33m,\u001b[0m \u001b[0mrow\u001b[0m\u001b[1;33m)\u001b[0m\u001b[1;33m)\u001b[0m \u001b[1;32mfor\u001b[0m \u001b[0mrow\u001b[0m \u001b[1;32min\u001b[0m \u001b[0mdata_iter\u001b[0m\u001b[1;33m]\u001b[0m\u001b[1;33m\u001b[0m\u001b[1;33m\u001b[0m\u001b[0m\n\u001b[1;32m--> 882\u001b[1;33m         \u001b[0mconn\u001b[0m\u001b[1;33m.\u001b[0m\u001b[0mexecute\u001b[0m\u001b[1;33m(\u001b[0m\u001b[0mself\u001b[0m\u001b[1;33m.\u001b[0m\u001b[0mtable\u001b[0m\u001b[1;33m.\u001b[0m\u001b[0minsert\u001b[0m\u001b[1;33m(\u001b[0m\u001b[1;33m)\u001b[0m\u001b[1;33m,\u001b[0m \u001b[0mdata\u001b[0m\u001b[1;33m)\u001b[0m\u001b[1;33m\u001b[0m\u001b[1;33m\u001b[0m\u001b[0m\n\u001b[0m\u001b[0;32m    883\u001b[0m \u001b[1;33m\u001b[0m\u001b[0m\n\u001b[0;32m    884\u001b[0m     \u001b[1;32mdef\u001b[0m \u001b[0m_execute_insert_multi\u001b[0m\u001b[1;33m(\u001b[0m\u001b[0mself\u001b[0m\u001b[1;33m,\u001b[0m \u001b[0mconn\u001b[0m\u001b[1;33m,\u001b[0m \u001b[0mkeys\u001b[0m\u001b[1;33m:\u001b[0m \u001b[0mlist\u001b[0m\u001b[1;33m[\u001b[0m\u001b[0mstr\u001b[0m\u001b[1;33m]\u001b[0m\u001b[1;33m,\u001b[0m \u001b[0mdata_iter\u001b[0m\u001b[1;33m)\u001b[0m\u001b[1;33m:\u001b[0m\u001b[1;33m\u001b[0m\u001b[1;33m\u001b[0m\u001b[0m\n",
      "\u001b[1;32m~\\anaconda3\\lib\\site-packages\\sqlalchemy\\engine\\base.py\u001b[0m in \u001b[0;36mexecute\u001b[1;34m(self, statement, *multiparams, **params)\u001b[0m\n\u001b[0;32m   1261\u001b[0m             )\n\u001b[0;32m   1262\u001b[0m         \u001b[1;32melse\u001b[0m\u001b[1;33m:\u001b[0m\u001b[1;33m\u001b[0m\u001b[1;33m\u001b[0m\u001b[0m\n\u001b[1;32m-> 1263\u001b[1;33m             \u001b[1;32mreturn\u001b[0m \u001b[0mmeth\u001b[0m\u001b[1;33m(\u001b[0m\u001b[0mself\u001b[0m\u001b[1;33m,\u001b[0m \u001b[0mmultiparams\u001b[0m\u001b[1;33m,\u001b[0m \u001b[0mparams\u001b[0m\u001b[1;33m,\u001b[0m \u001b[0m_EMPTY_EXECUTION_OPTS\u001b[0m\u001b[1;33m)\u001b[0m\u001b[1;33m\u001b[0m\u001b[1;33m\u001b[0m\u001b[0m\n\u001b[0m\u001b[0;32m   1264\u001b[0m \u001b[1;33m\u001b[0m\u001b[0m\n\u001b[0;32m   1265\u001b[0m     \u001b[1;32mdef\u001b[0m \u001b[0m_execute_function\u001b[0m\u001b[1;33m(\u001b[0m\u001b[0mself\u001b[0m\u001b[1;33m,\u001b[0m \u001b[0mfunc\u001b[0m\u001b[1;33m,\u001b[0m \u001b[0mmultiparams\u001b[0m\u001b[1;33m,\u001b[0m \u001b[0mparams\u001b[0m\u001b[1;33m,\u001b[0m \u001b[0mexecution_options\u001b[0m\u001b[1;33m)\u001b[0m\u001b[1;33m:\u001b[0m\u001b[1;33m\u001b[0m\u001b[1;33m\u001b[0m\u001b[0m\n",
      "\u001b[1;32m~\\anaconda3\\lib\\site-packages\\sqlalchemy\\sql\\elements.py\u001b[0m in \u001b[0;36m_execute_on_connection\u001b[1;34m(self, connection, multiparams, params, execution_options, _force)\u001b[0m\n\u001b[0;32m    321\u001b[0m     ):\n\u001b[0;32m    322\u001b[0m         \u001b[1;32mif\u001b[0m \u001b[0m_force\u001b[0m \u001b[1;32mor\u001b[0m \u001b[0mself\u001b[0m\u001b[1;33m.\u001b[0m\u001b[0msupports_execution\u001b[0m\u001b[1;33m:\u001b[0m\u001b[1;33m\u001b[0m\u001b[1;33m\u001b[0m\u001b[0m\n\u001b[1;32m--> 323\u001b[1;33m             return connection._execute_clauseelement(\n\u001b[0m\u001b[0;32m    324\u001b[0m                 \u001b[0mself\u001b[0m\u001b[1;33m,\u001b[0m \u001b[0mmultiparams\u001b[0m\u001b[1;33m,\u001b[0m \u001b[0mparams\u001b[0m\u001b[1;33m,\u001b[0m \u001b[0mexecution_options\u001b[0m\u001b[1;33m\u001b[0m\u001b[1;33m\u001b[0m\u001b[0m\n\u001b[0;32m    325\u001b[0m             )\n",
      "\u001b[1;32m~\\anaconda3\\lib\\site-packages\\sqlalchemy\\engine\\base.py\u001b[0m in \u001b[0;36m_execute_clauseelement\u001b[1;34m(self, elem, multiparams, params, execution_options)\u001b[0m\n\u001b[0;32m   1450\u001b[0m             \u001b[0mlinting\u001b[0m\u001b[1;33m=\u001b[0m\u001b[0mself\u001b[0m\u001b[1;33m.\u001b[0m\u001b[0mdialect\u001b[0m\u001b[1;33m.\u001b[0m\u001b[0mcompiler_linting\u001b[0m \u001b[1;33m|\u001b[0m \u001b[0mcompiler\u001b[0m\u001b[1;33m.\u001b[0m\u001b[0mWARN_LINTING\u001b[0m\u001b[1;33m,\u001b[0m\u001b[1;33m\u001b[0m\u001b[1;33m\u001b[0m\u001b[0m\n\u001b[0;32m   1451\u001b[0m         )\n\u001b[1;32m-> 1452\u001b[1;33m         ret = self._execute_context(\n\u001b[0m\u001b[0;32m   1453\u001b[0m             \u001b[0mdialect\u001b[0m\u001b[1;33m,\u001b[0m\u001b[1;33m\u001b[0m\u001b[1;33m\u001b[0m\u001b[0m\n\u001b[0;32m   1454\u001b[0m             \u001b[0mdialect\u001b[0m\u001b[1;33m.\u001b[0m\u001b[0mexecution_ctx_cls\u001b[0m\u001b[1;33m.\u001b[0m\u001b[0m_init_compiled\u001b[0m\u001b[1;33m,\u001b[0m\u001b[1;33m\u001b[0m\u001b[1;33m\u001b[0m\u001b[0m\n",
      "\u001b[1;32m~\\anaconda3\\lib\\site-packages\\sqlalchemy\\engine\\base.py\u001b[0m in \u001b[0;36m_execute_context\u001b[1;34m(self, dialect, constructor, statement, parameters, execution_options, *args, **kw)\u001b[0m\n\u001b[0;32m   1812\u001b[0m \u001b[1;33m\u001b[0m\u001b[0m\n\u001b[0;32m   1813\u001b[0m         \u001b[1;32mexcept\u001b[0m \u001b[0mBaseException\u001b[0m \u001b[1;32mas\u001b[0m \u001b[0me\u001b[0m\u001b[1;33m:\u001b[0m\u001b[1;33m\u001b[0m\u001b[1;33m\u001b[0m\u001b[0m\n\u001b[1;32m-> 1814\u001b[1;33m             self._handle_dbapi_exception(\n\u001b[0m\u001b[0;32m   1815\u001b[0m                 \u001b[0me\u001b[0m\u001b[1;33m,\u001b[0m \u001b[0mstatement\u001b[0m\u001b[1;33m,\u001b[0m \u001b[0mparameters\u001b[0m\u001b[1;33m,\u001b[0m \u001b[0mcursor\u001b[0m\u001b[1;33m,\u001b[0m \u001b[0mcontext\u001b[0m\u001b[1;33m\u001b[0m\u001b[1;33m\u001b[0m\u001b[0m\n\u001b[0;32m   1816\u001b[0m             )\n",
      "\u001b[1;32m~\\anaconda3\\lib\\site-packages\\sqlalchemy\\engine\\base.py\u001b[0m in \u001b[0;36m_handle_dbapi_exception\u001b[1;34m(self, e, statement, parameters, cursor, context)\u001b[0m\n\u001b[0;32m   1993\u001b[0m                 \u001b[0mutil\u001b[0m\u001b[1;33m.\u001b[0m\u001b[0mraise_\u001b[0m\u001b[1;33m(\u001b[0m\u001b[0mnewraise\u001b[0m\u001b[1;33m,\u001b[0m \u001b[0mwith_traceback\u001b[0m\u001b[1;33m=\u001b[0m\u001b[0mexc_info\u001b[0m\u001b[1;33m[\u001b[0m\u001b[1;36m2\u001b[0m\u001b[1;33m]\u001b[0m\u001b[1;33m,\u001b[0m \u001b[0mfrom_\u001b[0m\u001b[1;33m=\u001b[0m\u001b[0me\u001b[0m\u001b[1;33m)\u001b[0m\u001b[1;33m\u001b[0m\u001b[1;33m\u001b[0m\u001b[0m\n\u001b[0;32m   1994\u001b[0m             \u001b[1;32melif\u001b[0m \u001b[0mshould_wrap\u001b[0m\u001b[1;33m:\u001b[0m\u001b[1;33m\u001b[0m\u001b[1;33m\u001b[0m\u001b[0m\n\u001b[1;32m-> 1995\u001b[1;33m                 util.raise_(\n\u001b[0m\u001b[0;32m   1996\u001b[0m                     \u001b[0msqlalchemy_exception\u001b[0m\u001b[1;33m,\u001b[0m \u001b[0mwith_traceback\u001b[0m\u001b[1;33m=\u001b[0m\u001b[0mexc_info\u001b[0m\u001b[1;33m[\u001b[0m\u001b[1;36m2\u001b[0m\u001b[1;33m]\u001b[0m\u001b[1;33m,\u001b[0m \u001b[0mfrom_\u001b[0m\u001b[1;33m=\u001b[0m\u001b[0me\u001b[0m\u001b[1;33m\u001b[0m\u001b[1;33m\u001b[0m\u001b[0m\n\u001b[0;32m   1997\u001b[0m                 )\n",
      "\u001b[1;32m~\\anaconda3\\lib\\site-packages\\sqlalchemy\\util\\compat.py\u001b[0m in \u001b[0;36mraise_\u001b[1;34m(***failed resolving arguments***)\u001b[0m\n\u001b[0;32m    205\u001b[0m \u001b[1;33m\u001b[0m\u001b[0m\n\u001b[0;32m    206\u001b[0m         \u001b[1;32mtry\u001b[0m\u001b[1;33m:\u001b[0m\u001b[1;33m\u001b[0m\u001b[1;33m\u001b[0m\u001b[0m\n\u001b[1;32m--> 207\u001b[1;33m             \u001b[1;32mraise\u001b[0m \u001b[0mexception\u001b[0m\u001b[1;33m\u001b[0m\u001b[1;33m\u001b[0m\u001b[0m\n\u001b[0m\u001b[0;32m    208\u001b[0m         \u001b[1;32mfinally\u001b[0m\u001b[1;33m:\u001b[0m\u001b[1;33m\u001b[0m\u001b[1;33m\u001b[0m\u001b[0m\n\u001b[0;32m    209\u001b[0m             \u001b[1;31m# credit to\u001b[0m\u001b[1;33m\u001b[0m\u001b[1;33m\u001b[0m\u001b[0m\n",
      "\u001b[1;32m~\\anaconda3\\lib\\site-packages\\sqlalchemy\\engine\\base.py\u001b[0m in \u001b[0;36m_execute_context\u001b[1;34m(self, dialect, constructor, statement, parameters, execution_options, *args, **kw)\u001b[0m\n\u001b[0;32m   1749\u001b[0m                             \u001b[1;32mbreak\u001b[0m\u001b[1;33m\u001b[0m\u001b[1;33m\u001b[0m\u001b[0m\n\u001b[0;32m   1750\u001b[0m                 \u001b[1;32mif\u001b[0m \u001b[1;32mnot\u001b[0m \u001b[0mevt_handled\u001b[0m\u001b[1;33m:\u001b[0m\u001b[1;33m\u001b[0m\u001b[1;33m\u001b[0m\u001b[0m\n\u001b[1;32m-> 1751\u001b[1;33m                     self.dialect.do_executemany(\n\u001b[0m\u001b[0;32m   1752\u001b[0m                         \u001b[0mcursor\u001b[0m\u001b[1;33m,\u001b[0m \u001b[0mstatement\u001b[0m\u001b[1;33m,\u001b[0m \u001b[0mparameters\u001b[0m\u001b[1;33m,\u001b[0m \u001b[0mcontext\u001b[0m\u001b[1;33m\u001b[0m\u001b[1;33m\u001b[0m\u001b[0m\n\u001b[0;32m   1753\u001b[0m                     )\n",
      "\u001b[1;32m~\\anaconda3\\lib\\site-packages\\sqlalchemy\\engine\\default.py\u001b[0m in \u001b[0;36mdo_executemany\u001b[1;34m(self, cursor, statement, parameters, context)\u001b[0m\n\u001b[0;32m    712\u001b[0m \u001b[1;33m\u001b[0m\u001b[0m\n\u001b[0;32m    713\u001b[0m     \u001b[1;32mdef\u001b[0m \u001b[0mdo_executemany\u001b[0m\u001b[1;33m(\u001b[0m\u001b[0mself\u001b[0m\u001b[1;33m,\u001b[0m \u001b[0mcursor\u001b[0m\u001b[1;33m,\u001b[0m \u001b[0mstatement\u001b[0m\u001b[1;33m,\u001b[0m \u001b[0mparameters\u001b[0m\u001b[1;33m,\u001b[0m \u001b[0mcontext\u001b[0m\u001b[1;33m=\u001b[0m\u001b[1;32mNone\u001b[0m\u001b[1;33m)\u001b[0m\u001b[1;33m:\u001b[0m\u001b[1;33m\u001b[0m\u001b[1;33m\u001b[0m\u001b[0m\n\u001b[1;32m--> 714\u001b[1;33m         \u001b[0mcursor\u001b[0m\u001b[1;33m.\u001b[0m\u001b[0mexecutemany\u001b[0m\u001b[1;33m(\u001b[0m\u001b[0mstatement\u001b[0m\u001b[1;33m,\u001b[0m \u001b[0mparameters\u001b[0m\u001b[1;33m)\u001b[0m\u001b[1;33m\u001b[0m\u001b[1;33m\u001b[0m\u001b[0m\n\u001b[0m\u001b[0;32m    715\u001b[0m \u001b[1;33m\u001b[0m\u001b[0m\n\u001b[0;32m    716\u001b[0m     \u001b[1;32mdef\u001b[0m \u001b[0mdo_execute\u001b[0m\u001b[1;33m(\u001b[0m\u001b[0mself\u001b[0m\u001b[1;33m,\u001b[0m \u001b[0mcursor\u001b[0m\u001b[1;33m,\u001b[0m \u001b[0mstatement\u001b[0m\u001b[1;33m,\u001b[0m \u001b[0mparameters\u001b[0m\u001b[1;33m,\u001b[0m \u001b[0mcontext\u001b[0m\u001b[1;33m=\u001b[0m\u001b[1;32mNone\u001b[0m\u001b[1;33m)\u001b[0m\u001b[1;33m:\u001b[0m\u001b[1;33m\u001b[0m\u001b[1;33m\u001b[0m\u001b[0m\n",
      "\u001b[1;32m~\\anaconda3\\lib\\site-packages\\mysql\\connector\\cursor.py\u001b[0m in \u001b[0;36mexecutemany\u001b[1;34m(self, operation, seq_params)\u001b[0m\n\u001b[0;32m    652\u001b[0m             \u001b[0mstmt\u001b[0m \u001b[1;33m=\u001b[0m \u001b[0mself\u001b[0m\u001b[1;33m.\u001b[0m\u001b[0m_batch_insert\u001b[0m\u001b[1;33m(\u001b[0m\u001b[0moperation\u001b[0m\u001b[1;33m,\u001b[0m \u001b[0mseq_params\u001b[0m\u001b[1;33m)\u001b[0m\u001b[1;33m\u001b[0m\u001b[1;33m\u001b[0m\u001b[0m\n\u001b[0;32m    653\u001b[0m             \u001b[1;32mif\u001b[0m \u001b[0mstmt\u001b[0m \u001b[1;32mis\u001b[0m \u001b[1;32mnot\u001b[0m \u001b[1;32mNone\u001b[0m\u001b[1;33m:\u001b[0m\u001b[1;33m\u001b[0m\u001b[1;33m\u001b[0m\u001b[0m\n\u001b[1;32m--> 654\u001b[1;33m                 \u001b[1;32mreturn\u001b[0m \u001b[0mself\u001b[0m\u001b[1;33m.\u001b[0m\u001b[0mexecute\u001b[0m\u001b[1;33m(\u001b[0m\u001b[0mstmt\u001b[0m\u001b[1;33m)\u001b[0m\u001b[1;33m\u001b[0m\u001b[1;33m\u001b[0m\u001b[0m\n\u001b[0m\u001b[0;32m    655\u001b[0m \u001b[1;33m\u001b[0m\u001b[0m\n\u001b[0;32m    656\u001b[0m         \u001b[0mrowcnt\u001b[0m \u001b[1;33m=\u001b[0m \u001b[1;36m0\u001b[0m\u001b[1;33m\u001b[0m\u001b[1;33m\u001b[0m\u001b[0m\n",
      "\u001b[1;32m~\\anaconda3\\lib\\site-packages\\mysql\\connector\\cursor.py\u001b[0m in \u001b[0;36mexecute\u001b[1;34m(self, operation, params, multi)\u001b[0m\n\u001b[0;32m    549\u001b[0m         \u001b[1;32melse\u001b[0m\u001b[1;33m:\u001b[0m\u001b[1;33m\u001b[0m\u001b[1;33m\u001b[0m\u001b[0m\n\u001b[0;32m    550\u001b[0m             \u001b[1;32mtry\u001b[0m\u001b[1;33m:\u001b[0m\u001b[1;33m\u001b[0m\u001b[1;33m\u001b[0m\u001b[0m\n\u001b[1;32m--> 551\u001b[1;33m                 \u001b[0mself\u001b[0m\u001b[1;33m.\u001b[0m\u001b[0m_handle_result\u001b[0m\u001b[1;33m(\u001b[0m\u001b[0mself\u001b[0m\u001b[1;33m.\u001b[0m\u001b[0m_connection\u001b[0m\u001b[1;33m.\u001b[0m\u001b[0mcmd_query\u001b[0m\u001b[1;33m(\u001b[0m\u001b[0mstmt\u001b[0m\u001b[1;33m)\u001b[0m\u001b[1;33m)\u001b[0m\u001b[1;33m\u001b[0m\u001b[1;33m\u001b[0m\u001b[0m\n\u001b[0m\u001b[0;32m    552\u001b[0m             \u001b[1;32mexcept\u001b[0m \u001b[0merrors\u001b[0m\u001b[1;33m.\u001b[0m\u001b[0mInterfaceError\u001b[0m\u001b[1;33m:\u001b[0m\u001b[1;33m\u001b[0m\u001b[1;33m\u001b[0m\u001b[0m\n\u001b[0;32m    553\u001b[0m                 \u001b[1;32mif\u001b[0m \u001b[0mself\u001b[0m\u001b[1;33m.\u001b[0m\u001b[0m_connection\u001b[0m\u001b[1;33m.\u001b[0m\u001b[0m_have_next_result\u001b[0m\u001b[1;33m:\u001b[0m  \u001b[1;31m# pylint: disable=W0212\u001b[0m\u001b[1;33m\u001b[0m\u001b[1;33m\u001b[0m\u001b[0m\n",
      "\u001b[1;32m~\\anaconda3\\lib\\site-packages\\mysql\\connector\\connection.py\u001b[0m in \u001b[0;36mcmd_query\u001b[1;34m(self, query, raw, buffered, raw_as_string)\u001b[0m\n\u001b[0;32m    488\u001b[0m         \u001b[1;32mif\u001b[0m \u001b[1;32mnot\u001b[0m \u001b[0misinstance\u001b[0m\u001b[1;33m(\u001b[0m\u001b[0mquery\u001b[0m\u001b[1;33m,\u001b[0m \u001b[0mbytes\u001b[0m\u001b[1;33m)\u001b[0m\u001b[1;33m:\u001b[0m\u001b[1;33m\u001b[0m\u001b[1;33m\u001b[0m\u001b[0m\n\u001b[0;32m    489\u001b[0m             \u001b[0mquery\u001b[0m \u001b[1;33m=\u001b[0m \u001b[0mquery\u001b[0m\u001b[1;33m.\u001b[0m\u001b[0mencode\u001b[0m\u001b[1;33m(\u001b[0m\u001b[1;34m'utf-8'\u001b[0m\u001b[1;33m)\u001b[0m\u001b[1;33m\u001b[0m\u001b[1;33m\u001b[0m\u001b[0m\n\u001b[1;32m--> 490\u001b[1;33m         \u001b[0mresult\u001b[0m \u001b[1;33m=\u001b[0m \u001b[0mself\u001b[0m\u001b[1;33m.\u001b[0m\u001b[0m_handle_result\u001b[0m\u001b[1;33m(\u001b[0m\u001b[0mself\u001b[0m\u001b[1;33m.\u001b[0m\u001b[0m_send_cmd\u001b[0m\u001b[1;33m(\u001b[0m\u001b[0mServerCmd\u001b[0m\u001b[1;33m.\u001b[0m\u001b[0mQUERY\u001b[0m\u001b[1;33m,\u001b[0m \u001b[0mquery\u001b[0m\u001b[1;33m)\u001b[0m\u001b[1;33m)\u001b[0m\u001b[1;33m\u001b[0m\u001b[1;33m\u001b[0m\u001b[0m\n\u001b[0m\u001b[0;32m    491\u001b[0m \u001b[1;33m\u001b[0m\u001b[0m\n\u001b[0;32m    492\u001b[0m         \u001b[1;32mif\u001b[0m \u001b[0mself\u001b[0m\u001b[1;33m.\u001b[0m\u001b[0m_have_next_result\u001b[0m\u001b[1;33m:\u001b[0m\u001b[1;33m\u001b[0m\u001b[1;33m\u001b[0m\u001b[0m\n",
      "\u001b[1;32m~\\anaconda3\\lib\\site-packages\\mysql\\connector\\connection.py\u001b[0m in \u001b[0;36m_handle_result\u001b[1;34m(self, packet)\u001b[0m\n\u001b[0;32m    393\u001b[0m             \u001b[1;32mreturn\u001b[0m \u001b[0mself\u001b[0m\u001b[1;33m.\u001b[0m\u001b[0m_handle_eof\u001b[0m\u001b[1;33m(\u001b[0m\u001b[0mpacket\u001b[0m\u001b[1;33m)\u001b[0m\u001b[1;33m\u001b[0m\u001b[1;33m\u001b[0m\u001b[0m\n\u001b[0;32m    394\u001b[0m         \u001b[1;32melif\u001b[0m \u001b[0mpacket\u001b[0m\u001b[1;33m[\u001b[0m\u001b[1;36m4\u001b[0m\u001b[1;33m]\u001b[0m \u001b[1;33m==\u001b[0m \u001b[1;36m255\u001b[0m\u001b[1;33m:\u001b[0m\u001b[1;33m\u001b[0m\u001b[1;33m\u001b[0m\u001b[0m\n\u001b[1;32m--> 395\u001b[1;33m             \u001b[1;32mraise\u001b[0m \u001b[0merrors\u001b[0m\u001b[1;33m.\u001b[0m\u001b[0mget_exception\u001b[0m\u001b[1;33m(\u001b[0m\u001b[0mpacket\u001b[0m\u001b[1;33m)\u001b[0m\u001b[1;33m\u001b[0m\u001b[1;33m\u001b[0m\u001b[0m\n\u001b[0m\u001b[0;32m    396\u001b[0m \u001b[1;33m\u001b[0m\u001b[0m\n\u001b[0;32m    397\u001b[0m         \u001b[1;31m# We have a text result set\u001b[0m\u001b[1;33m\u001b[0m\u001b[1;33m\u001b[0m\u001b[0m\n",
      "\u001b[1;31mProgrammingError\u001b[0m: (mysql.connector.errors.ProgrammingError) 1054 (42S22): Unknown column 'Cast&class' in 'field list'\n[SQL: INSERT INTO region_caste (`index`, `Primary key - unique identifier for a household`, `Sector`, `State`, `Household size`, `Household type`, `Religion`, `Cast&class`, `Whether acquired any major durable goods`, `Household usual monthly consumer expenditure(Rs.)`) VALUES (%(index)s, %(Primary key - unique identifier for a household)s, %(Sector)s, %(State)s, %(Household size)s, %(Household type)s, %(Religion)s, %(Cast&class)s, %(Whether acquired any major durable goods)s, %(Household usual monthly consumer expenditureARs.Z)s)]\n[parameters: ({'index': 0, 'Primary key - unique identifier for a household': 744471301, 'Sector': 'Rural', 'State': 'JAMMU & KASHMIR', 'Household size': 6, 'Household type': 'Self_non-agriculture', 'Religion': 'Islam', 'Cast&class': 'others', 'Whether acquired any major durable goods': 'no', 'Household usual monthly consumer expenditureARs.Z': 9000.0}, {'index': 1, 'Primary key - unique identifier for a household': 744471302, 'Sector': 'Rural', 'State': 'JAMMU & KASHMIR', 'Household size': 5, 'Household type': 'Self_non-agriculture', 'Religion': 'Islam', 'Cast&class': 'others', 'Whether acquired any major durable goods': 'no', 'Household usual monthly consumer expenditureARs.Z': 10000.0}, {'index': 2, 'Primary key - unique identifier for a household': 744471303, 'Sector': 'Rural', 'State': 'JAMMU & KASHMIR', 'Household size': 6, 'Household type': 'Self_non-agriculture', 'Religion': 'others', 'Cast&class': 'Scheduled Castes', 'Whether acquired any major durable goods': 'yes', 'Household usual monthly consumer expenditureARs.Z': 100000.0}, {'index': 3, 'Primary key - unique identifier for a household': 744472301, 'Sector': 'Rural', 'State': 'JAMMU & KASHMIR', 'Household size': 8, 'Household type': 'Self_agriculture', 'Religion': 'Islam', 'Cast&class': 'Scheduled Tribes', 'Whether acquired any major durable goods': 'no', 'Household usual monthly consumer expenditureARs.Z': 4000.0}, {'index': 4, 'Primary key - unique identifier for a household': 744472302, 'Sector': 'Rural', 'State': 'JAMMU & KASHMIR', 'Household size': 9, 'Household type': 'Self_non-agriculture', 'Religion': 'Islam', 'Cast&class': 'Scheduled Tribes', 'Whether acquired any major durable goods': 'no', 'Household usual monthly consumer expenditureARs.Z': 7500.0}, {'index': 5, 'Primary key - unique identifier for a household': 744472303, 'Sector': 'Rural', 'State': 'JAMMU & KASHMIR', 'Household size': 2, 'Household type': 'others', 'Religion': 'Islam', 'Cast&class': 'Scheduled Tribes', 'Whether acquired any major durable goods': 'no', 'Household usual monthly consumer expenditureARs.Z': 2500.0}, {'index': 6, 'Primary key - unique identifier for a household': 744491301, 'Sector': 'Rural', 'State': 'JAMMU & KASHMIR', 'Household size': 6, 'Household type': 'Self_agriculture', 'Religion': 'Islam', 'Cast&class': 'others', 'Whether acquired any major durable goods': 'no', 'Household usual monthly consumer expenditureARs.Z': 12000.0}, {'index': 7, 'Primary key - unique identifier for a household': 744491302, 'Sector': 'Rural', 'State': 'JAMMU & KASHMIR', 'Household size': 6, 'Household type': 'Self_agriculture', 'Religion': 'Islam', 'Cast&class': 'Scheduled Tribes', 'Whether acquired any major durable goods': 'no', 'Household usual monthly consumer expenditureARs.Z': 8000.0}  ... displaying 10 of 220 total bound parameter sets ...  {'index': 218, 'Primary key - unique identifier for a household': 744822101, 'Sector': 'Rural', 'State': 'JAMMU & KASHMIR', 'Household size': 6, 'Household type': 'Self_non-agriculture', 'Religion': ' Hinduism', 'Cast&class': 'Scheduled Castes', 'Whether acquired any major durable goods': 'yes', 'Household usual monthly consumer expenditureARs.Z': 12000.0}, {'index': 219, 'Primary key - unique identifier for a household': 744822301, 'Sector': 'Rural', 'State': 'JAMMU & KASHMIR', 'Household size': 4, 'Household type': 'Self_non-agriculture', 'Religion': ' Hinduism', 'Cast&class': 'others', 'Whether acquired any major durable goods': 'no', 'Household usual monthly consumer expenditureARs.Z': 8000.0})]\n(Background on this error at: https://sqlalche.me/e/14/f405)"
     ]
    }
   ],
   "source": [
    "import pandas as pd # creat before the name of database on mysql (projectindia, then execute)\n",
    "import mysql.connector \n",
    "import sqlalchemy\n",
    "\n",
    "database_username = 'root'\n",
    "database_password = '123rout&'\n",
    "database_ip       = '127.0.0.1'\n",
    "database_name     = 'projectINDIA'\n",
    "\n",
    "database_connection = sqlalchemy.create_engine('mysql+mysqlconnector://{0}:{1}@{2}/{3}'.\n",
    "                                               format(database_username, database_password, \n",
    "                                                      database_ip, database_name), pool_recycle=1, pool_timeout=57600).connect()\n",
    "\n",
    "data.to_sql(con=database_connection, name='region_caste', if_exists='append',chunksize=220)\n",
    "database_connection.close()"
   ]
  },
  {
   "cell_type": "code",
   "execution_count": 224,
   "id": "089c783e",
   "metadata": {},
   "outputs": [
    {
     "data": {
      "text/plain": [
       "Other  Backward Classes    33418\n",
       "others                     26402\n",
       "Scheduled Castes           12300\n",
       "Scheduled Tribes           11421\n",
       "Name: Cast&class, dtype: int64"
      ]
     },
     "execution_count": 224,
     "metadata": {},
     "output_type": "execute_result"
    }
   ],
   "source": [
    "data ['Cast&class'].value_counts()"
   ]
  },
  {
   "cell_type": "code",
   "execution_count": 225,
   "id": "a899e7a1",
   "metadata": {},
   "outputs": [
    {
     "data": {
      "text/plain": [
       "<AxesSubplot:>"
      ]
     },
     "execution_count": 225,
     "metadata": {},
     "output_type": "execute_result"
    },
    {
     "data": {
      "image/png": "[encoded data removed]",
      "text/plain": [
       "<Figure size 432x288 with 1 Axes>"
      ]
     },
     "metadata": {},
     "output_type": "display_data"
    }
   ],
   "source": [
    "data ['Cast&class'].value_counts()\n",
    "\n",
    "data ['Religion'].hist()"
   ]
  },
  {
   "cell_type": "code",
   "execution_count": 232,
   "id": "9b6c467b",
   "metadata": {},
   "outputs": [
    {
     "data": {
      "image/png": "[encoded data removed]",
      "text/plain": [
       "<Figure size 432x288 with 1 Axes>"
      ]
     },
     "metadata": {},
     "output_type": "display_data"
    }
   ],
   "source": []
  },
  {
   "cell_type": "code",
   "execution_count": 226,
   "id": "510450ee",
   "metadata": {},
   "outputs": [
    {
     "data": {
      "text/plain": [
       "<AxesSubplot:>"
      ]
     },
     "execution_count": 226,
     "metadata": {},
     "output_type": "execute_result"
    },
    {
     "data": {
      "image/png": "[encoded data removed]",
      "text/plain": [
       "<Figure size 432x288 with 1 Axes>"
      ]
     },
     "metadata": {},
     "output_type": "display_data"
    }
   ],
   "source": [
    "data ['Cast&class'].value_counts()\n",
    "\n",
    "data ['Religion'].hist()\n",
    "\n",
    "sns.countplot(x='Cast&class', data=data, color='black')\n",
    "plt.show()\n",
    "\n",
    "data ['Sector'].hist()"
   ]
  },
  {
   "cell_type": "code",
   "execution_count": null,
   "id": "74485105",
   "metadata": {},
   "outputs": [],
   "source": []
  },
  {
   "cell_type": "code",
   "execution_count": 227,
   "id": "bee1b4a3",
   "metadata": {},
   "outputs": [
    {
     "data": {
      "text/html": [
       "<div>\n",
       "<style scoped>\n",
       "    .dataframe tbody tr th:only-of-type {\n",
       "        vertical-align: middle;\n",
       "    }\n",
       "\n",
       "    .dataframe tbody tr th {\n",
       "        vertical-align: top;\n",
       "    }\n",
       "\n",
       "    .dataframe thead th {\n",
       "        text-align: right;\n",
       "    }\n",
       "</style>\n",
       "<table border=\"1\" class=\"dataframe\">\n",
       "  <thead>\n",
       "    <tr style=\"text-align: right;\">\n",
       "      <th></th>\n",
       "      <th>Primary key - unique identifier for a household</th>\n",
       "      <th>Household size</th>\n",
       "      <th>Household usual monthly consumer expenditure(Rs.)</th>\n",
       "    </tr>\n",
       "    <tr>\n",
       "      <th>Religion</th>\n",
       "      <th></th>\n",
       "      <th></th>\n",
       "      <th></th>\n",
       "    </tr>\n",
       "  </thead>\n",
       "  <tbody>\n",
       "    <tr>\n",
       "      <th>Hinduism</th>\n",
       "      <td>8.372827e+08</td>\n",
       "      <td>4.560610</td>\n",
       "      <td>9665.672076</td>\n",
       "    </tr>\n",
       "    <tr>\n",
       "      <th>Sikhism</th>\n",
       "      <td>8.278962e+08</td>\n",
       "      <td>4.881782</td>\n",
       "      <td>14147.581953</td>\n",
       "    </tr>\n",
       "    <tr>\n",
       "      <th>Buddhism</th>\n",
       "      <td>8.228285e+08</td>\n",
       "      <td>4.513636</td>\n",
       "      <td>8821.369318</td>\n",
       "    </tr>\n",
       "    <tr>\n",
       "      <th>Christianity</th>\n",
       "      <td>8.455780e+08</td>\n",
       "      <td>4.648266</td>\n",
       "      <td>10637.049717</td>\n",
       "    </tr>\n",
       "    <tr>\n",
       "      <th>Islam</th>\n",
       "      <td>8.508517e+08</td>\n",
       "      <td>5.218705</td>\n",
       "      <td>9424.208091</td>\n",
       "    </tr>\n",
       "    <tr>\n",
       "      <th>Jainism</th>\n",
       "      <td>9.208409e+08</td>\n",
       "      <td>4.849727</td>\n",
       "      <td>18576.040984</td>\n",
       "    </tr>\n",
       "    <tr>\n",
       "      <th>Zoroastrianism</th>\n",
       "      <td>8.851664e+08</td>\n",
       "      <td>3.550000</td>\n",
       "      <td>16254.250000</td>\n",
       "    </tr>\n",
       "    <tr>\n",
       "      <th>others</th>\n",
       "      <td>8.404869e+08</td>\n",
       "      <td>4.962779</td>\n",
       "      <td>8711.905707</td>\n",
       "    </tr>\n",
       "  </tbody>\n",
       "</table>\n",
       "</div>"
      ],
      "text/plain": [
       "                Primary key - unique identifier for a household  \\\n",
       "Religion                                                          \n",
       " Hinduism                                          8.372827e+08   \n",
       " Sikhism                                           8.278962e+08   \n",
       "Buddhism                                           8.228285e+08   \n",
       "Christianity                                       8.455780e+08   \n",
       "Islam                                              8.508517e+08   \n",
       "Jainism                                            9.208409e+08   \n",
       "Zoroastrianism                                     8.851664e+08   \n",
       "others                                             8.404869e+08   \n",
       "\n",
       "                Household size  \\\n",
       "Religion                         \n",
       " Hinduism             4.560610   \n",
       " Sikhism              4.881782   \n",
       "Buddhism              4.513636   \n",
       "Christianity          4.648266   \n",
       "Islam                 5.218705   \n",
       "Jainism               4.849727   \n",
       "Zoroastrianism        3.550000   \n",
       "others                4.962779   \n",
       "\n",
       "                Household usual monthly consumer expenditure(Rs.)  \n",
       "Religion                                                           \n",
       " Hinduism                                             9665.672076  \n",
       " Sikhism                                             14147.581953  \n",
       "Buddhism                                              8821.369318  \n",
       "Christianity                                         10637.049717  \n",
       "Islam                                                 9424.208091  \n",
       "Jainism                                              18576.040984  \n",
       "Zoroastrianism                                       16254.250000  \n",
       "others                                                8711.905707  "
      ]
     },
     "execution_count": 227,
     "metadata": {},
     "output_type": "execute_result"
    }
   ],
   "source": []
  },
  {
   "cell_type": "code",
   "execution_count": 228,
   "id": "a85a9982",
   "metadata": {},
   "outputs": [
    {
     "data": {
      "text/html": [
       "<div>\n",
       "<style scoped>\n",
       "    .dataframe tbody tr th:only-of-type {\n",
       "        vertical-align: middle;\n",
       "    }\n",
       "\n",
       "    .dataframe tbody tr th {\n",
       "        vertical-align: top;\n",
       "    }\n",
       "\n",
       "    .dataframe thead th {\n",
       "        text-align: right;\n",
       "    }\n",
       "</style>\n",
       "<table border=\"1\" class=\"dataframe\">\n",
       "  <thead>\n",
       "    <tr style=\"text-align: right;\">\n",
       "      <th></th>\n",
       "      <th>Primary key - unique identifier for a household</th>\n",
       "      <th>Household size</th>\n",
       "      <th>Household usual monthly consumer expenditure(Rs.)</th>\n",
       "    </tr>\n",
       "    <tr>\n",
       "      <th>Cast&amp;class</th>\n",
       "      <th></th>\n",
       "      <th></th>\n",
       "      <th></th>\n",
       "    </tr>\n",
       "  </thead>\n",
       "  <tbody>\n",
       "    <tr>\n",
       "      <th>Other  Backward Classes</th>\n",
       "      <td>8.322020e+08</td>\n",
       "      <td>4.735083</td>\n",
       "      <td>9136.468909</td>\n",
       "    </tr>\n",
       "    <tr>\n",
       "      <th>Scheduled Castes</th>\n",
       "      <td>8.195314e+08</td>\n",
       "      <td>4.646016</td>\n",
       "      <td>7799.928537</td>\n",
       "    </tr>\n",
       "    <tr>\n",
       "      <th>Scheduled Tribes</th>\n",
       "      <td>8.177473e+08</td>\n",
       "      <td>4.773838</td>\n",
       "      <td>8457.462044</td>\n",
       "    </tr>\n",
       "    <tr>\n",
       "      <th>others</th>\n",
       "      <td>8.680636e+08</td>\n",
       "      <td>4.536550</td>\n",
       "      <td>12202.976820</td>\n",
       "    </tr>\n",
       "  </tbody>\n",
       "</table>\n",
       "</div>"
      ],
      "text/plain": [
       "                         Primary key - unique identifier for a household  \\\n",
       "Cast&class                                                                 \n",
       "Other  Backward Classes                                     8.322020e+08   \n",
       "Scheduled Castes                                            8.195314e+08   \n",
       "Scheduled Tribes                                            8.177473e+08   \n",
       "others                                                      8.680636e+08   \n",
       "\n",
       "                         Household size  \\\n",
       "Cast&class                                \n",
       "Other  Backward Classes        4.735083   \n",
       "Scheduled Castes               4.646016   \n",
       "Scheduled Tribes               4.773838   \n",
       "others                         4.536550   \n",
       "\n",
       "                         Household usual monthly consumer expenditure(Rs.)  \n",
       "Cast&class                                                                  \n",
       "Other  Backward Classes                                        9136.468909  \n",
       "Scheduled Castes                                               7799.928537  \n",
       "Scheduled Tribes                                               8457.462044  \n",
       "others                                                        12202.976820  "
      ]
     },
     "execution_count": 228,
     "metadata": {},
     "output_type": "execute_result"
    }
   ],
   "source": []
  },
  {
   "cell_type": "code",
   "execution_count": 229,
   "id": "6a085220",
   "metadata": {},
   "outputs": [
    {
     "data": {
      "image/png": "[encoded data removed]",
      "text/plain": [
       "<Figure size 432x288 with 1 Axes>"
      ]
     },
     "metadata": {},
     "output_type": "display_data"
    }
   ],
   "source": [
    "data ['Cast&class'].value_counts()\n",
    "\n",
    "data ['Religion'].hist()\n",
    "\n",
    "sns.countplot(x='Cast&class', data=data, color='black')\n",
    "plt.show()\n",
    "\n",
    "data ['Sector'].hist()\n",
    "\n",
    "data_group = data.groupby(['Religion']).mean()\n",
    "data_group \n",
    "\n",
    "data_group = data.groupby(['Cast&class']).mean()\n",
    "data_group \n",
    "\n",
    "\n",
    "fig, ax = plt.subplots()\n",
    "\n",
    "plt.scatter(data=data, x='Household size', y='Household usual monthly consumer expenditure(Rs.)', cmap='viridis')\n",
    "\n",
    "plt.show()"
   ]
  },
  {
   "cell_type": "code",
   "execution_count": 230,
   "id": "1ed68ad6",
   "metadata": {},
   "outputs": [
    {
     "data": {
      "image/png": "[encoded data removed]",
      "text/plain": [
       "<Figure size 432x288 with 1 Axes>"
      ]
     },
     "metadata": {},
     "output_type": "display_data"
    }
   ],
   "source": []
  },
  {
   "cell_type": "code",
   "execution_count": 231,
   "id": "15b9f406",
   "metadata": {},
   "outputs": [
    {
     "data": {
      "text/html": [
       "<div>\n",
       "<style scoped>\n",
       "    .dataframe tbody tr th:only-of-type {\n",
       "        vertical-align: middle;\n",
       "    }\n",
       "\n",
       "    .dataframe tbody tr th {\n",
       "        vertical-align: top;\n",
       "    }\n",
       "\n",
       "    .dataframe thead th {\n",
       "        text-align: right;\n",
       "    }\n",
       "</style>\n",
       "<table border=\"1\" class=\"dataframe\">\n",
       "  <thead>\n",
       "    <tr style=\"text-align: right;\">\n",
       "      <th></th>\n",
       "      <th></th>\n",
       "      <th>Primary key - unique identifier for a household</th>\n",
       "      <th>Household size</th>\n",
       "      <th>Household usual monthly consumer expenditure(Rs.)</th>\n",
       "    </tr>\n",
       "    <tr>\n",
       "      <th>Religion</th>\n",
       "      <th>Cast&amp;class</th>\n",
       "      <th></th>\n",
       "      <th></th>\n",
       "      <th></th>\n",
       "    </tr>\n",
       "  </thead>\n",
       "  <tbody>\n",
       "    <tr>\n",
       "      <th rowspan=\"4\" valign=\"top\">Hinduism</th>\n",
       "      <th>Other  Backward Classes</th>\n",
       "      <td>8.273076e+08</td>\n",
       "      <td>4.614950</td>\n",
       "      <td>8954.102095</td>\n",
       "    </tr>\n",
       "    <tr>\n",
       "      <th>Scheduled Castes</th>\n",
       "      <td>8.204435e+08</td>\n",
       "      <td>4.633713</td>\n",
       "      <td>7633.494402</td>\n",
       "    </tr>\n",
       "    <tr>\n",
       "      <th>Scheduled Tribes</th>\n",
       "      <td>7.885579e+08</td>\n",
       "      <td>4.601611</td>\n",
       "      <td>7020.915182</td>\n",
       "    </tr>\n",
       "    <tr>\n",
       "      <th>others</th>\n",
       "      <td>8.757628e+08</td>\n",
       "      <td>4.429895</td>\n",
       "      <td>12637.245862</td>\n",
       "    </tr>\n",
       "    <tr>\n",
       "      <th rowspan=\"4\" valign=\"top\">Sikhism</th>\n",
       "      <th>Other  Backward Classes</th>\n",
       "      <td>8.217615e+08</td>\n",
       "      <td>5.146789</td>\n",
       "      <td>13138.226300</td>\n",
       "    </tr>\n",
       "    <tr>\n",
       "      <th>Scheduled Castes</th>\n",
       "      <td>7.950382e+08</td>\n",
       "      <td>4.931857</td>\n",
       "      <td>10533.764906</td>\n",
       "    </tr>\n",
       "    <tr>\n",
       "      <th>Scheduled Tribes</th>\n",
       "      <td>8.555626e+08</td>\n",
       "      <td>4.333333</td>\n",
       "      <td>12633.333333</td>\n",
       "    </tr>\n",
       "    <tr>\n",
       "      <th>others</th>\n",
       "      <td>8.532877e+08</td>\n",
       "      <td>4.752137</td>\n",
       "      <td>17173.987790</td>\n",
       "    </tr>\n",
       "    <tr>\n",
       "      <th rowspan=\"4\" valign=\"top\">Buddhism</th>\n",
       "      <th>Other  Backward Classes</th>\n",
       "      <td>8.228910e+08</td>\n",
       "      <td>4.551020</td>\n",
       "      <td>9453.061224</td>\n",
       "    </tr>\n",
       "    <tr>\n",
       "      <th>Scheduled Castes</th>\n",
       "      <td>8.269849e+08</td>\n",
       "      <td>4.485915</td>\n",
       "      <td>8322.359155</td>\n",
       "    </tr>\n",
       "    <tr>\n",
       "      <th>Scheduled Tribes</th>\n",
       "      <td>8.209604e+08</td>\n",
       "      <td>4.501066</td>\n",
       "      <td>9266.684435</td>\n",
       "    </tr>\n",
       "    <tr>\n",
       "      <th>others</th>\n",
       "      <td>8.188885e+08</td>\n",
       "      <td>4.666667</td>\n",
       "      <td>7563.846154</td>\n",
       "    </tr>\n",
       "    <tr>\n",
       "      <th rowspan=\"4\" valign=\"top\">Christianity</th>\n",
       "      <th>Other  Backward Classes</th>\n",
       "      <td>8.372085e+08</td>\n",
       "      <td>3.946875</td>\n",
       "      <td>10670.864063</td>\n",
       "    </tr>\n",
       "    <tr>\n",
       "      <th>Scheduled Castes</th>\n",
       "      <td>8.110941e+08</td>\n",
       "      <td>4.452229</td>\n",
       "      <td>7424.789809</td>\n",
       "    </tr>\n",
       "    <tr>\n",
       "      <th>Scheduled Tribes</th>\n",
       "      <td>8.554577e+08</td>\n",
       "      <td>4.924771</td>\n",
       "      <td>10139.923039</td>\n",
       "    </tr>\n",
       "    <tr>\n",
       "      <th>others</th>\n",
       "      <td>8.097627e+08</td>\n",
       "      <td>3.864865</td>\n",
       "      <td>13697.949631</td>\n",
       "    </tr>\n",
       "    <tr>\n",
       "      <th rowspan=\"4\" valign=\"top\">Islam</th>\n",
       "      <th>Other  Backward Classes</th>\n",
       "      <td>8.553674e+08</td>\n",
       "      <td>5.403868</td>\n",
       "      <td>9590.731313</td>\n",
       "    </tr>\n",
       "    <tr>\n",
       "      <th>Scheduled Castes</th>\n",
       "      <td>8.426015e+08</td>\n",
       "      <td>4.970238</td>\n",
       "      <td>7998.244048</td>\n",
       "    </tr>\n",
       "    <tr>\n",
       "      <th>Scheduled Tribes</th>\n",
       "      <td>8.324429e+08</td>\n",
       "      <td>5.797101</td>\n",
       "      <td>11227.826087</td>\n",
       "    </tr>\n",
       "    <tr>\n",
       "      <th>others</th>\n",
       "      <td>8.476278e+08</td>\n",
       "      <td>4.993961</td>\n",
       "      <td>9175.182544</td>\n",
       "    </tr>\n",
       "    <tr>\n",
       "      <th rowspan=\"4\" valign=\"top\">Jainism</th>\n",
       "      <th>Other  Backward Classes</th>\n",
       "      <td>8.768882e+08</td>\n",
       "      <td>5.263158</td>\n",
       "      <td>13760.526316</td>\n",
       "    </tr>\n",
       "    <tr>\n",
       "      <th>Scheduled Castes</th>\n",
       "      <td>7.492918e+08</td>\n",
       "      <td>4.500000</td>\n",
       "      <td>7400.000000</td>\n",
       "    </tr>\n",
       "    <tr>\n",
       "      <th>Scheduled Tribes</th>\n",
       "      <td>8.339543e+08</td>\n",
       "      <td>4.833333</td>\n",
       "      <td>13941.555556</td>\n",
       "    </tr>\n",
       "    <tr>\n",
       "      <th>others</th>\n",
       "      <td>9.324553e+08</td>\n",
       "      <td>4.801948</td>\n",
       "      <td>19513.581169</td>\n",
       "    </tr>\n",
       "    <tr>\n",
       "      <th rowspan=\"3\" valign=\"top\">Zoroastrianism</th>\n",
       "      <th>Other  Backward Classes</th>\n",
       "      <td>9.783913e+08</td>\n",
       "      <td>1.000000</td>\n",
       "      <td>2500.000000</td>\n",
       "    </tr>\n",
       "    <tr>\n",
       "      <th>Scheduled Tribes</th>\n",
       "      <td>9.059804e+08</td>\n",
       "      <td>3.666667</td>\n",
       "      <td>21640.416667</td>\n",
       "    </tr>\n",
       "    <tr>\n",
       "      <th>others</th>\n",
       "      <td>8.361672e+08</td>\n",
       "      <td>3.714286</td>\n",
       "      <td>8985.714286</td>\n",
       "    </tr>\n",
       "    <tr>\n",
       "      <th rowspan=\"4\" valign=\"top\">others</th>\n",
       "      <th>Other  Backward Classes</th>\n",
       "      <td>9.187890e+08</td>\n",
       "      <td>4.724638</td>\n",
       "      <td>8997.101449</td>\n",
       "    </tr>\n",
       "    <tr>\n",
       "      <th>Scheduled Castes</th>\n",
       "      <td>8.097945e+08</td>\n",
       "      <td>4.269231</td>\n",
       "      <td>12287.307692</td>\n",
       "    </tr>\n",
       "    <tr>\n",
       "      <th>Scheduled Tribes</th>\n",
       "      <td>8.314615e+08</td>\n",
       "      <td>5.052786</td>\n",
       "      <td>8336.475073</td>\n",
       "    </tr>\n",
       "    <tr>\n",
       "      <th>others</th>\n",
       "      <td>8.939523e+08</td>\n",
       "      <td>4.034483</td>\n",
       "      <td>13656.896552</td>\n",
       "    </tr>\n",
       "  </tbody>\n",
       "</table>\n",
       "</div>"
      ],
      "text/plain": [
       "                                        Primary key - unique identifier for a household  \\\n",
       "Religion       Cast&class                                                                 \n",
       " Hinduism      Other  Backward Classes                                     8.273076e+08   \n",
       "               Scheduled Castes                                            8.204435e+08   \n",
       "               Scheduled Tribes                                            7.885579e+08   \n",
       "               others                                                      8.757628e+08   \n",
       " Sikhism       Other  Backward Classes                                     8.217615e+08   \n",
       "               Scheduled Castes                                            7.950382e+08   \n",
       "               Scheduled Tribes                                            8.555626e+08   \n",
       "               others                                                      8.532877e+08   \n",
       "Buddhism       Other  Backward Classes                                     8.228910e+08   \n",
       "               Scheduled Castes                                            8.269849e+08   \n",
       "               Scheduled Tribes                                            8.209604e+08   \n",
       "               others                                                      8.188885e+08   \n",
       "Christianity   Other  Backward Classes                                     8.372085e+08   \n",
       "               Scheduled Castes                                            8.110941e+08   \n",
       "               Scheduled Tribes                                            8.554577e+08   \n",
       "               others                                                      8.097627e+08   \n",
       "Islam          Other  Backward Classes                                     8.553674e+08   \n",
       "               Scheduled Castes                                            8.426015e+08   \n",
       "               Scheduled Tribes                                            8.324429e+08   \n",
       "               others                                                      8.476278e+08   \n",
       "Jainism        Other  Backward Classes                                     8.768882e+08   \n",
       "               Scheduled Castes                                            7.492918e+08   \n",
       "               Scheduled Tribes                                            8.339543e+08   \n",
       "               others                                                      9.324553e+08   \n",
       "Zoroastrianism Other  Backward Classes                                     9.783913e+08   \n",
       "               Scheduled Tribes                                            9.059804e+08   \n",
       "               others                                                      8.361672e+08   \n",
       "others         Other  Backward Classes                                     9.187890e+08   \n",
       "               Scheduled Castes                                            8.097945e+08   \n",
       "               Scheduled Tribes                                            8.314615e+08   \n",
       "               others                                                      8.939523e+08   \n",
       "\n",
       "                                        Household size  \\\n",
       "Religion       Cast&class                                \n",
       " Hinduism      Other  Backward Classes        4.614950   \n",
       "               Scheduled Castes               4.633713   \n",
       "               Scheduled Tribes               4.601611   \n",
       "               others                         4.429895   \n",
       " Sikhism       Other  Backward Classes        5.146789   \n",
       "               Scheduled Castes               4.931857   \n",
       "               Scheduled Tribes               4.333333   \n",
       "               others                         4.752137   \n",
       "Buddhism       Other  Backward Classes        4.551020   \n",
       "               Scheduled Castes               4.485915   \n",
       "               Scheduled Tribes               4.501066   \n",
       "               others                         4.666667   \n",
       "Christianity   Other  Backward Classes        3.946875   \n",
       "               Scheduled Castes               4.452229   \n",
       "               Scheduled Tribes               4.924771   \n",
       "               others                         3.864865   \n",
       "Islam          Other  Backward Classes        5.403868   \n",
       "               Scheduled Castes               4.970238   \n",
       "               Scheduled Tribes               5.797101   \n",
       "               others                         4.993961   \n",
       "Jainism        Other  Backward Classes        5.263158   \n",
       "               Scheduled Castes               4.500000   \n",
       "               Scheduled Tribes               4.833333   \n",
       "               others                         4.801948   \n",
       "Zoroastrianism Other  Backward Classes        1.000000   \n",
       "               Scheduled Tribes               3.666667   \n",
       "               others                         3.714286   \n",
       "others         Other  Backward Classes        4.724638   \n",
       "               Scheduled Castes               4.269231   \n",
       "               Scheduled Tribes               5.052786   \n",
       "               others                         4.034483   \n",
       "\n",
       "                                        Household usual monthly consumer expenditure(Rs.)  \n",
       "Religion       Cast&class                                                                  \n",
       " Hinduism      Other  Backward Classes                                        8954.102095  \n",
       "               Scheduled Castes                                               7633.494402  \n",
       "               Scheduled Tribes                                               7020.915182  \n",
       "               others                                                        12637.245862  \n",
       " Sikhism       Other  Backward Classes                                       13138.226300  \n",
       "               Scheduled Castes                                              10533.764906  \n",
       "               Scheduled Tribes                                              12633.333333  \n",
       "               others                                                        17173.987790  \n",
       "Buddhism       Other  Backward Classes                                        9453.061224  \n",
       "               Scheduled Castes                                               8322.359155  \n",
       "               Scheduled Tribes                                               9266.684435  \n",
       "               others                                                         7563.846154  \n",
       "Christianity   Other  Backward Classes                                       10670.864063  \n",
       "               Scheduled Castes                                               7424.789809  \n",
       "               Scheduled Tribes                                              10139.923039  \n",
       "               others                                                        13697.949631  \n",
       "Islam          Other  Backward Classes                                        9590.731313  \n",
       "               Scheduled Castes                                               7998.244048  \n",
       "               Scheduled Tribes                                              11227.826087  \n",
       "               others                                                         9175.182544  \n",
       "Jainism        Other  Backward Classes                                       13760.526316  \n",
       "               Scheduled Castes                                               7400.000000  \n",
       "               Scheduled Tribes                                              13941.555556  \n",
       "               others                                                        19513.581169  \n",
       "Zoroastrianism Other  Backward Classes                                        2500.000000  \n",
       "               Scheduled Tribes                                              21640.416667  \n",
       "               others                                                         8985.714286  \n",
       "others         Other  Backward Classes                                        8997.101449  \n",
       "               Scheduled Castes                                              12287.307692  \n",
       "               Scheduled Tribes                                               8336.475073  \n",
       "               others                                                        13656.896552  "
      ]
     },
     "execution_count": 231,
     "metadata": {},
     "output_type": "execute_result"
    }
   ],
   "source": [
    "data_group = data.groupby(['Religion','Cast&class']).mean()\n",
    "data_group "
   ]
  },
  {
   "cell_type": "code",
   "execution_count": null,
   "id": "4ead57a4",
   "metadata": {},
   "outputs": [],
   "source": []
  },
  {
   "cell_type": "code",
   "execution_count": null,
   "id": "2a4b3a3f",
   "metadata": {},
   "outputs": [],
   "source": []
  },
  {
   "cell_type": "code",
   "execution_count": null,
   "id": "42847d52",
   "metadata": {},
   "outputs": [],
   "source": []
  }
 ],
 "metadata": {
  "kernelspec": {
   "display_name": "Python 3 (ipykernel)",
   "language": "python",
   "name": "python3"
  },
  "language_info": {
   "codemirror_mode": {
    "name": "ipython",
    "version": 3
   },
   "file_extension": ".py",
   "mimetype": "text/x-python",
   "name": "python",
   "nbconvert_exporter": "python",
   "pygments_lexer": "ipython3",
   "version": "3.9.7"
  }
 },
 "nbformat": 4,
 "nbformat_minor": 5
}

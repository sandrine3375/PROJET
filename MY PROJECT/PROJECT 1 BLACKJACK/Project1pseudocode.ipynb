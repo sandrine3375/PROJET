{
 "cells": [
  {
   "cell_type": "markdown",
   "id": "bb196560",
   "metadata": {},
   "source": [
    "Pseudo-code\n",
    "\n",
    "- Distribution au hasard de deux cartes au joueur et une carte au dealer\n",
    "- les deux jeux s'affichent\n",
    "- faire la somme des cartes du joueur\n",
    "    - si le joueur a un as: \n",
    "        -si la deuxieme carte est un 10:\n",
    "            -si as = 11 et le joueur gagne\n",
    "        -si la deuxieme carte est inferieur à 10:\n",
    "            -donner le choix au joueur de continuer ou arreter\n",
    "   - sinon, calculer la somme   \n",
    "        - donner le choix au joueur de continuer ou arreter\n",
    "- nouvelle distribution de cartes\n",
    "- afficher le nouveau jeu avec la carte supplementaire \n",
    "- faire la somme avec la carte supplementaire\n",
    "    -si somme superieur à 21, joueur perd\n",
    "    -sinon, donner le choix au joueur de continuer ou arreter\n",
    "- si joueur continue, repeter les etapes au dessus\n",
    "- sinon au tour du dealer continuer \n",
    "    - si score egal 21, dealer gagne\n",
    "    - si score supérieur à 21, dealer perd\n",
    "    - sinon comparer score et plus grand gagne\n",
    "\n",
    "\n",
    "    \n"
   ]
  },
  {
   "cell_type": "markdown",
   "id": "b22c601c",
   "metadata": {},
   "source": []
  }
 ],
 "metadata": {
  "kernelspec": {
   "display_name": "Python 3 (ipykernel)",
   "language": "python",
   "name": "python3"
  },
  "language_info": {
   "codemirror_mode": {
    "name": "ipython",
    "version": 3
   },
   "file_extension": ".py",
   "mimetype": "text/x-python",
   "name": "python",
   "nbconvert_exporter": "python",
   "pygments_lexer": "ipython3",
   "version": "3.9.7"
  }
 },
 "nbformat": 4,
 "nbformat_minor": 5
}

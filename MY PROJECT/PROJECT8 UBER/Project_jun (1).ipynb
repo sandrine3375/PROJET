{
  "nbformat": 4,
  "nbformat_minor": 0,
  "metadata": {
    "colab": {
      "name": "Project_jun.ipynb",
      "provenance": [],
      "collapsed_sections": []
    },
    "kernelspec": {
      "name": "python3",
      "display_name": "Python 3"
    },
    "language_info": {
      "name": "python"
    }
  },
  "cells": [
    {
      "cell_type": "markdown",
      "source": [
        "# Unsupervised Machine Learning with Uber"
      ],
      "metadata": {
        "id": "oOtDgsyngAF-"
      }
    },
    {
      "cell_type": "code",
      "execution_count": 2,
      "metadata": {
        "id": "a487rylnDhLH"
      },
      "outputs": [],
      "source": [
        "import numpy as np \n",
        "import pandas as pd \n",
        "import matplotlib.pyplot as plt\n",
        "import matplotlib.colors\n",
        "import seaborn as sns"
      ]
    },
    {
      "cell_type": "code",
      "source": [
        "url = 'https://github.com/fivethirtyeight/uber-tlc-foil-response/blob/master/uber-trip-data/uber-raw-data-jun14.csv?raw=true'\n",
        "date_cols = ['Date/Time']\n",
        "\n",
        "data = pd.read_csv(url, parse_dates=date_cols)"
      ],
      "metadata": {
        "id": "ItGhAqwaDkQH"
      },
      "execution_count": 3,
      "outputs": []
    },
    {
      "cell_type": "markdown",
      "source": [
        "Check dataset"
      ],
      "metadata": {
        "id": "0cXqJcPXcVRD"
      }
    },
    {
      "cell_type": "code",
      "source": [
        "data.head(10)"
      ],
      "metadata": {
        "colab": {
          "base_uri": "https://localhost:8080/",
          "height": 363
        },
        "id": "Sy7PSMQgDw50",
        "outputId": "bddc5684-3f8f-45eb-94f4-351f052d5549"
      },
      "execution_count": 4,
      "outputs": [
        {
          "output_type": "execute_result",
          "data": {
            "text/html": [
              "\n",
              "  <div id=\"df-78a4e970-590a-421f-8d50-5ff8d6fb159e\">\n",
              "    <div class=\"colab-df-container\">\n",
              "      <div>\n",
              "<style scoped>\n",
              "    .dataframe tbody tr th:only-of-type {\n",
              "        vertical-align: middle;\n",
              "    }\n",
              "\n",
              "    .dataframe tbody tr th {\n",
              "        vertical-align: top;\n",
              "    }\n",
              "\n",
              "    .dataframe thead th {\n",
              "        text-align: right;\n",
              "    }\n",
              "</style>\n",
              "<table border=\"1\" class=\"dataframe\">\n",
              "  <thead>\n",
              "    <tr style=\"text-align: right;\">\n",
              "      <th></th>\n",
              "      <th>Date/Time</th>\n",
              "      <th>Lat</th>\n",
              "      <th>Lon</th>\n",
              "      <th>Base</th>\n",
              "    </tr>\n",
              "  </thead>\n",
              "  <tbody>\n",
              "    <tr>\n",
              "      <th>0</th>\n",
              "      <td>2014-06-01 00:00:00</td>\n",
              "      <td>40.7293</td>\n",
              "      <td>-73.9920</td>\n",
              "      <td>B02512</td>\n",
              "    </tr>\n",
              "    <tr>\n",
              "      <th>1</th>\n",
              "      <td>2014-06-01 00:01:00</td>\n",
              "      <td>40.7131</td>\n",
              "      <td>-74.0097</td>\n",
              "      <td>B02512</td>\n",
              "    </tr>\n",
              "    <tr>\n",
              "      <th>2</th>\n",
              "      <td>2014-06-01 00:04:00</td>\n",
              "      <td>40.3461</td>\n",
              "      <td>-74.6610</td>\n",
              "      <td>B02512</td>\n",
              "    </tr>\n",
              "    <tr>\n",
              "      <th>3</th>\n",
              "      <td>2014-06-01 00:04:00</td>\n",
              "      <td>40.7555</td>\n",
              "      <td>-73.9833</td>\n",
              "      <td>B02512</td>\n",
              "    </tr>\n",
              "    <tr>\n",
              "      <th>4</th>\n",
              "      <td>2014-06-01 00:07:00</td>\n",
              "      <td>40.6880</td>\n",
              "      <td>-74.1831</td>\n",
              "      <td>B02512</td>\n",
              "    </tr>\n",
              "    <tr>\n",
              "      <th>5</th>\n",
              "      <td>2014-06-01 00:08:00</td>\n",
              "      <td>40.7152</td>\n",
              "      <td>-73.9917</td>\n",
              "      <td>B02512</td>\n",
              "    </tr>\n",
              "    <tr>\n",
              "      <th>6</th>\n",
              "      <td>2014-06-01 00:08:00</td>\n",
              "      <td>40.7282</td>\n",
              "      <td>-73.9910</td>\n",
              "      <td>B02512</td>\n",
              "    </tr>\n",
              "    <tr>\n",
              "      <th>7</th>\n",
              "      <td>2014-06-01 00:08:00</td>\n",
              "      <td>40.3042</td>\n",
              "      <td>-73.9794</td>\n",
              "      <td>B02512</td>\n",
              "    </tr>\n",
              "    <tr>\n",
              "      <th>8</th>\n",
              "      <td>2014-06-01 00:09:00</td>\n",
              "      <td>40.7270</td>\n",
              "      <td>-73.9915</td>\n",
              "      <td>B02512</td>\n",
              "    </tr>\n",
              "    <tr>\n",
              "      <th>9</th>\n",
              "      <td>2014-06-01 00:10:00</td>\n",
              "      <td>40.7221</td>\n",
              "      <td>-73.9965</td>\n",
              "      <td>B02512</td>\n",
              "    </tr>\n",
              "  </tbody>\n",
              "</table>\n",
              "</div>\n",
              "      <button class=\"colab-df-convert\" onclick=\"convertToInteractive('df-78a4e970-590a-421f-8d50-5ff8d6fb159e')\"\n",
              "              title=\"Convert this dataframe to an interactive table.\"\n",
              "              style=\"display:none;\">\n",
              "        \n",
              "  <svg xmlns=\"http://www.w3.org/2000/svg\" height=\"24px\"viewBox=\"0 0 24 24\"\n",
              "       width=\"24px\">\n",
              "    <path d=\"M0 0h24v24H0V0z\" fill=\"none\"/>\n",
              "    <path d=\"M18.56 5.44l.94 2.06.94-2.06 2.06-.94-2.06-.94-.94-2.06-.94 2.06-2.06.94zm-11 1L8.5 8.5l.94-2.06 2.06-.94-2.06-.94L8.5 2.5l-.94 2.06-2.06.94zm10 10l.94 2.06.94-2.06 2.06-.94-2.06-.94-.94-2.06-.94 2.06-2.06.94z\"/><path d=\"M17.41 7.96l-1.37-1.37c-.4-.4-.92-.59-1.43-.59-.52 0-1.04.2-1.43.59L10.3 9.45l-7.72 7.72c-.78.78-.78 2.05 0 2.83L4 21.41c.39.39.9.59 1.41.59.51 0 1.02-.2 1.41-.59l7.78-7.78 2.81-2.81c.8-.78.8-2.07 0-2.86zM5.41 20L4 18.59l7.72-7.72 1.47 1.35L5.41 20z\"/>\n",
              "  </svg>\n",
              "      </button>\n",
              "      \n",
              "  <style>\n",
              "    .colab-df-container {\n",
              "      display:flex;\n",
              "      flex-wrap:wrap;\n",
              "      gap: 12px;\n",
              "    }\n",
              "\n",
              "    .colab-df-convert {\n",
              "      background-color: #E8F0FE;\n",
              "      border: none;\n",
              "      border-radius: 50%;\n",
              "      cursor: pointer;\n",
              "      display: none;\n",
              "      fill: #1967D2;\n",
              "      height: 32px;\n",
              "      padding: 0 0 0 0;\n",
              "      width: 32px;\n",
              "    }\n",
              "\n",
              "    .colab-df-convert:hover {\n",
              "      background-color: #E2EBFA;\n",
              "      box-shadow: 0px 1px 2px rgba(60, 64, 67, 0.3), 0px 1px 3px 1px rgba(60, 64, 67, 0.15);\n",
              "      fill: #174EA6;\n",
              "    }\n",
              "\n",
              "    [theme=dark] .colab-df-convert {\n",
              "      background-color: #3B4455;\n",
              "      fill: #D2E3FC;\n",
              "    }\n",
              "\n",
              "    [theme=dark] .colab-df-convert:hover {\n",
              "      background-color: #434B5C;\n",
              "      box-shadow: 0px 1px 3px 1px rgba(0, 0, 0, 0.15);\n",
              "      filter: drop-shadow(0px 1px 2px rgba(0, 0, 0, 0.3));\n",
              "      fill: #FFFFFF;\n",
              "    }\n",
              "  </style>\n",
              "\n",
              "      <script>\n",
              "        const buttonEl =\n",
              "          document.querySelector('#df-78a4e970-590a-421f-8d50-5ff8d6fb159e button.colab-df-convert');\n",
              "        buttonEl.style.display =\n",
              "          google.colab.kernel.accessAllowed ? 'block' : 'none';\n",
              "\n",
              "        async function convertToInteractive(key) {\n",
              "          const element = document.querySelector('#df-78a4e970-590a-421f-8d50-5ff8d6fb159e');\n",
              "          const dataTable =\n",
              "            await google.colab.kernel.invokeFunction('convertToInteractive',\n",
              "                                                     [key], {});\n",
              "          if (!dataTable) return;\n",
              "\n",
              "          const docLinkHtml = 'Like what you see? Visit the ' +\n",
              "            '<a target=\"_blank\" href=https://colab.research.google.com/notebooks/data_table.ipynb>data table notebook</a>'\n",
              "            + ' to learn more about interactive tables.';\n",
              "          element.innerHTML = '';\n",
              "          dataTable['output_type'] = 'display_data';\n",
              "          await google.colab.output.renderOutput(dataTable, element);\n",
              "          const docLink = document.createElement('div');\n",
              "          docLink.innerHTML = docLinkHtml;\n",
              "          element.appendChild(docLink);\n",
              "        }\n",
              "      </script>\n",
              "    </div>\n",
              "  </div>\n",
              "  "
            ],
            "text/plain": [
              "            Date/Time      Lat      Lon    Base\n",
              "0 2014-06-01 00:00:00  40.7293 -73.9920  B02512\n",
              "1 2014-06-01 00:01:00  40.7131 -74.0097  B02512\n",
              "2 2014-06-01 00:04:00  40.3461 -74.6610  B02512\n",
              "3 2014-06-01 00:04:00  40.7555 -73.9833  B02512\n",
              "4 2014-06-01 00:07:00  40.6880 -74.1831  B02512\n",
              "5 2014-06-01 00:08:00  40.7152 -73.9917  B02512\n",
              "6 2014-06-01 00:08:00  40.7282 -73.9910  B02512\n",
              "7 2014-06-01 00:08:00  40.3042 -73.9794  B02512\n",
              "8 2014-06-01 00:09:00  40.7270 -73.9915  B02512\n",
              "9 2014-06-01 00:10:00  40.7221 -73.9965  B02512"
            ]
          },
          "metadata": {},
          "execution_count": 4
        }
      ]
    },
    {
      "cell_type": "markdown",
      "source": [
        "Sample dataset to 10% to make modeling easier"
      ],
      "metadata": {
        "id": "eOw2n_h4apMK"
      }
    },
    {
      "cell_type": "code",
      "source": [
        "data = data.sample(frac=.1, axis=0, random_state=0)"
      ],
      "metadata": {
        "id": "6mhqUbTGaofD"
      },
      "execution_count": 5,
      "outputs": []
    },
    {
      "cell_type": "code",
      "source": [
        "data.info()"
      ],
      "metadata": {
        "id": "YyJ8ae_CK_v3",
        "colab": {
          "base_uri": "https://localhost:8080/"
        },
        "outputId": "8e41370f-7920-43e0-cbab-6efdaa6fb895"
      },
      "execution_count": null,
      "outputs": [
        {
          "output_type": "stream",
          "name": "stdout",
          "text": [
            "<class 'pandas.core.frame.DataFrame'>\n",
            "Int64Index: 66384 entries, 348280 to 4012\n",
            "Data columns (total 4 columns):\n",
            " #   Column     Non-Null Count  Dtype         \n",
            "---  ------     --------------  -----         \n",
            " 0   Date/Time  66384 non-null  datetime64[ns]\n",
            " 1   Lat        66384 non-null  float64       \n",
            " 2   Lon        66384 non-null  float64       \n",
            " 3   Base       66384 non-null  object        \n",
            "dtypes: datetime64[ns](1), float64(2), object(1)\n",
            "memory usage: 2.5+ MB\n"
          ]
        }
      ]
    },
    {
      "cell_type": "markdown",
      "source": [
        "## Data cleaning & EDA"
      ],
      "metadata": {
        "id": "u_MVW50OQhHi"
      }
    },
    {
      "cell_type": "code",
      "source": [
        "data.isna().sum()"
      ],
      "metadata": {
        "colab": {
          "base_uri": "https://localhost:8080/"
        },
        "id": "kZYPaTqFELYJ",
        "outputId": "e6a76f1e-8816-4a1e-aeb4-1050c5c96c9b"
      },
      "execution_count": null,
      "outputs": [
        {
          "output_type": "execute_result",
          "data": {
            "text/plain": [
              "Date/Time    0\n",
              "Lat          0\n",
              "Lon          0\n",
              "Base         0\n",
              "dtype: int64"
            ]
          },
          "metadata": {},
          "execution_count": 8
        }
      ]
    },
    {
      "cell_type": "code",
      "source": [
        "num_data = data.select_dtypes(exclude=['object'])\n",
        "num_data"
      ],
      "metadata": {
        "colab": {
          "base_uri": "https://localhost:8080/",
          "height": 423
        },
        "id": "Dd6Sc2UeFyee",
        "outputId": "6c27a640-bc67-4ee2-92d0-66a089b4775c"
      },
      "execution_count": null,
      "outputs": [
        {
          "output_type": "execute_result",
          "data": {
            "text/html": [
              "\n",
              "  <div id=\"df-f13765ec-e6af-4e34-9b0d-cdfd6c54c42f\">\n",
              "    <div class=\"colab-df-container\">\n",
              "      <div>\n",
              "<style scoped>\n",
              "    .dataframe tbody tr th:only-of-type {\n",
              "        vertical-align: middle;\n",
              "    }\n",
              "\n",
              "    .dataframe tbody tr th {\n",
              "        vertical-align: top;\n",
              "    }\n",
              "\n",
              "    .dataframe thead th {\n",
              "        text-align: right;\n",
              "    }\n",
              "</style>\n",
              "<table border=\"1\" class=\"dataframe\">\n",
              "  <thead>\n",
              "    <tr style=\"text-align: right;\">\n",
              "      <th></th>\n",
              "      <th>Date/Time</th>\n",
              "      <th>Lat</th>\n",
              "      <th>Lon</th>\n",
              "    </tr>\n",
              "  </thead>\n",
              "  <tbody>\n",
              "    <tr>\n",
              "      <th>348280</th>\n",
              "      <td>2014-06-13 19:00:00</td>\n",
              "      <td>40.6936</td>\n",
              "      <td>-73.9560</td>\n",
              "    </tr>\n",
              "    <tr>\n",
              "      <th>156470</th>\n",
              "      <td>2014-06-15 13:56:00</td>\n",
              "      <td>40.7355</td>\n",
              "      <td>-74.0037</td>\n",
              "    </tr>\n",
              "    <tr>\n",
              "      <th>532688</th>\n",
              "      <td>2014-06-11 20:39:00</td>\n",
              "      <td>40.7070</td>\n",
              "      <td>-74.0137</td>\n",
              "    </tr>\n",
              "    <tr>\n",
              "      <th>90217</th>\n",
              "      <td>2014-06-07 21:44:00</td>\n",
              "      <td>40.7051</td>\n",
              "      <td>-74.0100</td>\n",
              "    </tr>\n",
              "    <tr>\n",
              "      <th>103242</th>\n",
              "      <td>2014-06-09 16:14:00</td>\n",
              "      <td>40.7601</td>\n",
              "      <td>-73.9717</td>\n",
              "    </tr>\n",
              "    <tr>\n",
              "      <th>...</th>\n",
              "      <td>...</td>\n",
              "      <td>...</td>\n",
              "      <td>...</td>\n",
              "    </tr>\n",
              "    <tr>\n",
              "      <th>258226</th>\n",
              "      <td>2014-06-28 12:57:00</td>\n",
              "      <td>40.7230</td>\n",
              "      <td>-74.0032</td>\n",
              "    </tr>\n",
              "    <tr>\n",
              "      <th>470420</th>\n",
              "      <td>2014-06-02 23:03:00</td>\n",
              "      <td>40.7510</td>\n",
              "      <td>-73.9869</td>\n",
              "    </tr>\n",
              "    <tr>\n",
              "      <th>575523</th>\n",
              "      <td>2014-06-18 10:31:00</td>\n",
              "      <td>40.7602</td>\n",
              "      <td>-73.9788</td>\n",
              "    </tr>\n",
              "    <tr>\n",
              "      <th>161597</th>\n",
              "      <td>2014-06-16 11:52:00</td>\n",
              "      <td>40.6984</td>\n",
              "      <td>-73.9086</td>\n",
              "    </tr>\n",
              "    <tr>\n",
              "      <th>4012</th>\n",
              "      <td>2014-06-04 20:22:00</td>\n",
              "      <td>40.7578</td>\n",
              "      <td>-73.9666</td>\n",
              "    </tr>\n",
              "  </tbody>\n",
              "</table>\n",
              "<p>66384 rows × 3 columns</p>\n",
              "</div>\n",
              "      <button class=\"colab-df-convert\" onclick=\"convertToInteractive('df-f13765ec-e6af-4e34-9b0d-cdfd6c54c42f')\"\n",
              "              title=\"Convert this dataframe to an interactive table.\"\n",
              "              style=\"display:none;\">\n",
              "        \n",
              "  <svg xmlns=\"http://www.w3.org/2000/svg\" height=\"24px\"viewBox=\"0 0 24 24\"\n",
              "       width=\"24px\">\n",
              "    <path d=\"M0 0h24v24H0V0z\" fill=\"none\"/>\n",
              "    <path d=\"M18.56 5.44l.94 2.06.94-2.06 2.06-.94-2.06-.94-.94-2.06-.94 2.06-2.06.94zm-11 1L8.5 8.5l.94-2.06 2.06-.94-2.06-.94L8.5 2.5l-.94 2.06-2.06.94zm10 10l.94 2.06.94-2.06 2.06-.94-2.06-.94-.94-2.06-.94 2.06-2.06.94z\"/><path d=\"M17.41 7.96l-1.37-1.37c-.4-.4-.92-.59-1.43-.59-.52 0-1.04.2-1.43.59L10.3 9.45l-7.72 7.72c-.78.78-.78 2.05 0 2.83L4 21.41c.39.39.9.59 1.41.59.51 0 1.02-.2 1.41-.59l7.78-7.78 2.81-2.81c.8-.78.8-2.07 0-2.86zM5.41 20L4 18.59l7.72-7.72 1.47 1.35L5.41 20z\"/>\n",
              "  </svg>\n",
              "      </button>\n",
              "      \n",
              "  <style>\n",
              "    .colab-df-container {\n",
              "      display:flex;\n",
              "      flex-wrap:wrap;\n",
              "      gap: 12px;\n",
              "    }\n",
              "\n",
              "    .colab-df-convert {\n",
              "      background-color: #E8F0FE;\n",
              "      border: none;\n",
              "      border-radius: 50%;\n",
              "      cursor: pointer;\n",
              "      display: none;\n",
              "      fill: #1967D2;\n",
              "      height: 32px;\n",
              "      padding: 0 0 0 0;\n",
              "      width: 32px;\n",
              "    }\n",
              "\n",
              "    .colab-df-convert:hover {\n",
              "      background-color: #E2EBFA;\n",
              "      box-shadow: 0px 1px 2px rgba(60, 64, 67, 0.3), 0px 1px 3px 1px rgba(60, 64, 67, 0.15);\n",
              "      fill: #174EA6;\n",
              "    }\n",
              "\n",
              "    [theme=dark] .colab-df-convert {\n",
              "      background-color: #3B4455;\n",
              "      fill: #D2E3FC;\n",
              "    }\n",
              "\n",
              "    [theme=dark] .colab-df-convert:hover {\n",
              "      background-color: #434B5C;\n",
              "      box-shadow: 0px 1px 3px 1px rgba(0, 0, 0, 0.15);\n",
              "      filter: drop-shadow(0px 1px 2px rgba(0, 0, 0, 0.3));\n",
              "      fill: #FFFFFF;\n",
              "    }\n",
              "  </style>\n",
              "\n",
              "      <script>\n",
              "        const buttonEl =\n",
              "          document.querySelector('#df-f13765ec-e6af-4e34-9b0d-cdfd6c54c42f button.colab-df-convert');\n",
              "        buttonEl.style.display =\n",
              "          google.colab.kernel.accessAllowed ? 'block' : 'none';\n",
              "\n",
              "        async function convertToInteractive(key) {\n",
              "          const element = document.querySelector('#df-f13765ec-e6af-4e34-9b0d-cdfd6c54c42f');\n",
              "          const dataTable =\n",
              "            await google.colab.kernel.invokeFunction('convertToInteractive',\n",
              "                                                     [key], {});\n",
              "          if (!dataTable) return;\n",
              "\n",
              "          const docLinkHtml = 'Like what you see? Visit the ' +\n",
              "            '<a target=\"_blank\" href=https://colab.research.google.com/notebooks/data_table.ipynb>data table notebook</a>'\n",
              "            + ' to learn more about interactive tables.';\n",
              "          element.innerHTML = '';\n",
              "          dataTable['output_type'] = 'display_data';\n",
              "          await google.colab.output.renderOutput(dataTable, element);\n",
              "          const docLink = document.createElement('div');\n",
              "          docLink.innerHTML = docLinkHtml;\n",
              "          element.appendChild(docLink);\n",
              "        }\n",
              "      </script>\n",
              "    </div>\n",
              "  </div>\n",
              "  "
            ],
            "text/plain": [
              "                 Date/Time      Lat      Lon\n",
              "348280 2014-06-13 19:00:00  40.6936 -73.9560\n",
              "156470 2014-06-15 13:56:00  40.7355 -74.0037\n",
              "532688 2014-06-11 20:39:00  40.7070 -74.0137\n",
              "90217  2014-06-07 21:44:00  40.7051 -74.0100\n",
              "103242 2014-06-09 16:14:00  40.7601 -73.9717\n",
              "...                    ...      ...      ...\n",
              "258226 2014-06-28 12:57:00  40.7230 -74.0032\n",
              "470420 2014-06-02 23:03:00  40.7510 -73.9869\n",
              "575523 2014-06-18 10:31:00  40.7602 -73.9788\n",
              "161597 2014-06-16 11:52:00  40.6984 -73.9086\n",
              "4012   2014-06-04 20:22:00  40.7578 -73.9666\n",
              "\n",
              "[66384 rows x 3 columns]"
            ]
          },
          "metadata": {},
          "execution_count": 9
        }
      ]
    },
    {
      "cell_type": "markdown",
      "source": [
        "Check data distribution in both columns"
      ],
      "metadata": {
        "id": "CYD8eXtGesXx"
      }
    },
    {
      "cell_type": "code",
      "source": [
        "fig, ax = plt.subplots(1, 1)\n",
        "ax.set_facecolor('grey')\n",
        "sns.boxplot(data=num_data, ax=ax)\n",
        "plt.show()"
      ],
      "metadata": {
        "colab": {
          "base_uri": "https://localhost:8080/",
          "height": 265
        },
        "id": "TPHT22K9E7kK",
        "outputId": "c189d3af-eef4-442e-c014-ddd14b7f054b"
      },
      "execution_count": null,
      "outputs": [
        {
          "output_type": "display_data",
          "data": {
            "image/png": "[encoded data removed]",
            "text/plain": [
              "<Figure size 432x288 with 1 Axes>"
            ]
          },
          "metadata": {
            "needs_background": "light"
          }
        }
      ]
    },
    {
      "cell_type": "code",
      "source": [
        "num_data.columns"
      ],
      "metadata": {
        "colab": {
          "base_uri": "https://localhost:8080/"
        },
        "id": "GBTp9YMncqJj",
        "outputId": "469eedd9-e394-4e00-b7db-ee6756e2c451"
      },
      "execution_count": null,
      "outputs": [
        {
          "output_type": "execute_result",
          "data": {
            "text/plain": [
              "Index(['Date/Time', 'Lat', 'Lon'], dtype='object')"
            ]
          },
          "metadata": {},
          "execution_count": 11
        }
      ]
    },
    {
      "cell_type": "code",
      "source": [
        "sns.boxplot(data=data['Lat'])"
      ],
      "metadata": {
        "id": "2m6e3E5OFUqo"
      },
      "execution_count": null,
      "outputs": []
    },
    {
      "cell_type": "code",
      "source": [
        "sns.boxplot(data=data['Lon'])"
      ],
      "metadata": {
        "id": "L85S6tv0Gcu6"
      },
      "execution_count": null,
      "outputs": []
    },
    {
      "cell_type": "markdown",
      "source": [
        "Scatter plot of clean data "
      ],
      "metadata": {
        "id": "GPT9Drq2gXex"
      }
    },
    {
      "cell_type": "code",
      "source": [
        "fig, ax = plt.subplots(1, 1)\n",
        "ax.set_facecolor('grey')\n",
        "data.plot.scatter(x='Lat', y='Lon', ax=ax, c='black')\n",
        "plt.show()"
      ],
      "metadata": {
        "colab": {
          "base_uri": "https://localhost:8080/",
          "height": 279
        },
        "id": "fHXZ21RngV11",
        "outputId": "f163e2c0-8ee0-4e4f-c0bb-91092acfeb80"
      },
      "execution_count": null,
      "outputs": [
        {
          "output_type": "display_data",
          "data": {
            "image/png": "[encoded data removed]",
            "text/plain": [
              "<Figure size 432x288 with 1 Axes>"
            ]
          },
          "metadata": {
            "needs_background": "light"
          }
        }
      ]
    },
    {
      "cell_type": "markdown",
      "source": [
        "There are clustering tendencies in the dataset, let's build clustering models to identify these clusters."
      ],
      "metadata": {
        "id": "meaueqrmhDXe"
      }
    },
    {
      "cell_type": "markdown",
      "source": [
        "## Modeling"
      ],
      "metadata": {
        "id": "MY3EFBY2gLjl"
      }
    },
    {
      "cell_type": "markdown",
      "source": [
        "Assign modeling variables to X"
      ],
      "metadata": {
        "id": "HVGJuth5hYQR"
      }
    },
    {
      "cell_type": "code",
      "source": [
        "X=data[['Lat','Lon']]"
      ],
      "metadata": {
        "id": "dKxTpjHVLKom"
      },
      "execution_count": 6,
      "outputs": []
    },
    {
      "cell_type": "markdown",
      "source": [
        "### Clustering with KMeans"
      ],
      "metadata": {
        "id": "bYSH0_tmQahi"
      }
    },
    {
      "cell_type": "code",
      "source": [
        "#Creation of loop to find the right cluster\n",
        "from sklearn.cluster import KMeans\n",
        "\n",
        "dict_kmeans={}\n",
        "for i in range (2,11):\n",
        "    kmeans = KMeans(n_clusters=i)\n",
        "    kmeans.fit(X)\n",
        "    key=\"kmeans\"+str(i)\n",
        "    dict_kmeans[key] = kmeans.labels_"
      ],
      "metadata": {
        "id": "KC3RUC7cLxdc"
      },
      "execution_count": null,
      "outputs": []
    },
    {
      "cell_type": "code",
      "source": [
        "dict_kmeans"
      ],
      "metadata": {
        "colab": {
          "base_uri": "https://localhost:8080/"
        },
        "id": "4c1tP_hgSiMq",
        "outputId": "384562ef-7017-4b16-a6c0-b264476234bf"
      },
      "execution_count": null,
      "outputs": [
        {
          "output_type": "execute_result",
          "data": {
            "text/plain": [
              "{'kmeans10': array([5, 0, 0, ..., 4, 5, 4], dtype=int32),\n",
              " 'kmeans2': array([0, 0, 0, ..., 0, 0, 0], dtype=int32),\n",
              " 'kmeans3': array([1, 1, 1, ..., 0, 0, 0], dtype=int32),\n",
              " 'kmeans4': array([0, 0, 0, ..., 1, 0, 1], dtype=int32),\n",
              " 'kmeans5': array([1, 1, 1, ..., 0, 1, 0], dtype=int32),\n",
              " 'kmeans6': array([5, 2, 2, ..., 0, 5, 0], dtype=int32),\n",
              " 'kmeans7': array([6, 2, 2, ..., 0, 6, 0], dtype=int32),\n",
              " 'kmeans8': array([2, 0, 0, ..., 4, 2, 4], dtype=int32),\n",
              " 'kmeans9': array([8, 1, 1, ..., 3, 8, 3], dtype=int32)}"
            ]
          },
          "metadata": {},
          "execution_count": 16
        }
      ]
    },
    {
      "cell_type": "code",
      "source": [
        "from yellowbrick.cluster import KElbowVisualizer\n",
        "\n",
        "kmeans = KMeans()\n",
        "\n",
        "visualizer = KElbowVisualizer(estimator = kmeans, k = (2,11), metric='silhouette')\n",
        "visualizer.fit(X)\n",
        "visualizer.poof()"
      ],
      "metadata": {
        "id": "sYMB3THHMDvl",
        "colab": {
          "base_uri": "https://localhost:8080/",
          "height": 394
        },
        "outputId": "d1c1f883-d9bf-46e5-9690-ad5c2e3b83cd"
      },
      "execution_count": null,
      "outputs": [
        {
          "output_type": "display_data",
          "data": {
            "image/png": "[encoded data removed]",
            "text/plain": [
              "<Figure size 576x396 with 2 Axes>"
            ]
          },
          "metadata": {}
        },
        {
          "output_type": "execute_result",
          "data": {
            "text/plain": [
              "<matplotlib.axes._subplots.AxesSubplot at 0x7fb09e9977d0>"
            ]
          },
          "metadata": {},
          "execution_count": 48
        }
      ]
    },
    {
      "cell_type": "markdown",
      "source": [
        "Elbow indicates an optimal number of clusters of 2 with a silhouette score of 0.721."
      ],
      "metadata": {
        "id": "hpxbTFRZmRMM"
      }
    },
    {
      "cell_type": "code",
      "source": [
        "# Fitting KMeans with 2 clusters\n",
        "from sklearn.cluster import KMeans\n",
        "\n",
        "kmeans = KMeans(n_clusters=2)\n",
        "kmeans.fit(X)\n",
        "y_kmeans = kmeans.predict(X) #y-pred\n",
        "\n",
        "data['kmeans_cluster'] = kmeans.labels_\n",
        "centers = kmeans.cluster_centers_\n",
        "\n",
        "fig, ax = plt.subplots(1, 1)\n",
        "ax.set_facecolor('grey')\n",
        "plt.scatter(x='Lat', y='Lon', data=data, c=y_kmeans)\n",
        "plt.scatter(centers[:, 0], centers[:, 1], c='blue', s=200, alpha=0.5)\n",
        "plt.show()"
      ],
      "metadata": {
        "id": "nzNCfovnLKeB",
        "colab": {
          "base_uri": "https://localhost:8080/",
          "height": 265
        },
        "outputId": "be047534-d09d-422b-d882-b46e7a90d363"
      },
      "execution_count": null,
      "outputs": [
        {
          "output_type": "display_data",
          "data": {
            "image/png": "[encoded data removed]",
            "text/plain": [
              "<Figure size 432x288 with 1 Axes>"
            ]
          },
          "metadata": {
            "needs_background": "light"
          }
        }
      ]
    },
    {
      "cell_type": "markdown",
      "source": [
        "### Clustering with DBScan"
      ],
      "metadata": {
        "id": "xaDEtt4Cfu_O"
      }
    },
    {
      "cell_type": "code",
      "source": [
        "# \n"
      ],
      "metadata": {
        "id": "tpKILsMPD_Nf"
      },
      "execution_count": null,
      "outputs": []
    },
    {
      "cell_type": "code",
      "source": [
        "eps=[0.02, 0.15, 0.18, 0.1]\n",
        "min_samples=[2, 4, 4, 2]\n",
        "k=0\n",
        "for i,j in zip(eps, min_samples):\n",
        "    k=k+1\n",
        "    print(i)\n",
        "    print(j)\n",
        "    dbs = DBSCAN(eps=i, min_samples=j)\n",
        "    dbs.fit(X)\n",
        "    key2=\"db\"+str(k)\n",
        "    dict_kmeans[key2] = dbs.labels_"
      ],
      "metadata": {
        "id": "Fxs-PIZLRPTw"
      },
      "execution_count": null,
      "outputs": []
    },
    {
      "cell_type": "markdown",
      "source": [
        "### Clustering WITH SpectralClustering"
      ],
      "metadata": {
        "id": "6TtpkCT_d7JI"
      }
    },
    {
      "cell_type": "code",
      "source": [
        "# find the optimal numbers of clusters with SpectralClustering\n",
        "from sklearn.cluster import SpectralClustering\n",
        "\n",
        "dict_sc={}\n",
        "for i in range (2,11):\n",
        "    SC = SpectralClustering(n_clusters=2, assign_labels='discretize',random_state=0)\n",
        "    SC.fit(X)\n",
        "    key=\"SC\"+str(i)\n",
        "    dict_sc[key] = SC.labels_\n",
        "\n",
        "dict_sc"
      ],
      "metadata": {
        "id": "Tg0rLmcYdHMj"
      },
      "execution_count": null,
      "outputs": []
    },
    {
      "cell_type": "markdown",
      "source": [
        "###  Clustering WITH GAUSSIAN MIXTURE MODEL"
      ],
      "metadata": {
        "id": "Pt_M6wbUf0IR"
      }
    },
    {
      "cell_type": "code",
      "source": [
        "X"
      ],
      "metadata": {
        "colab": {
          "base_uri": "https://localhost:8080/",
          "height": 424
        },
        "id": "5AWdZO3sFU4y",
        "outputId": "0eceba7d-5057-4cb1-d654-ecaed77b7aa0"
      },
      "execution_count": 12,
      "outputs": [
        {
          "output_type": "execute_result",
          "data": {
            "text/html": [
              "\n",
              "  <div id=\"df-24da6ee4-508e-4830-b868-3ed8f4a35ee9\">\n",
              "    <div class=\"colab-df-container\">\n",
              "      <div>\n",
              "<style scoped>\n",
              "    .dataframe tbody tr th:only-of-type {\n",
              "        vertical-align: middle;\n",
              "    }\n",
              "\n",
              "    .dataframe tbody tr th {\n",
              "        vertical-align: top;\n",
              "    }\n",
              "\n",
              "    .dataframe thead th {\n",
              "        text-align: right;\n",
              "    }\n",
              "</style>\n",
              "<table border=\"1\" class=\"dataframe\">\n",
              "  <thead>\n",
              "    <tr style=\"text-align: right;\">\n",
              "      <th></th>\n",
              "      <th>Lat</th>\n",
              "      <th>Lon</th>\n",
              "    </tr>\n",
              "  </thead>\n",
              "  <tbody>\n",
              "    <tr>\n",
              "      <th>348280</th>\n",
              "      <td>40.6936</td>\n",
              "      <td>-73.9560</td>\n",
              "    </tr>\n",
              "    <tr>\n",
              "      <th>156470</th>\n",
              "      <td>40.7355</td>\n",
              "      <td>-74.0037</td>\n",
              "    </tr>\n",
              "    <tr>\n",
              "      <th>532688</th>\n",
              "      <td>40.7070</td>\n",
              "      <td>-74.0137</td>\n",
              "    </tr>\n",
              "    <tr>\n",
              "      <th>90217</th>\n",
              "      <td>40.7051</td>\n",
              "      <td>-74.0100</td>\n",
              "    </tr>\n",
              "    <tr>\n",
              "      <th>103242</th>\n",
              "      <td>40.7601</td>\n",
              "      <td>-73.9717</td>\n",
              "    </tr>\n",
              "    <tr>\n",
              "      <th>...</th>\n",
              "      <td>...</td>\n",
              "      <td>...</td>\n",
              "    </tr>\n",
              "    <tr>\n",
              "      <th>258226</th>\n",
              "      <td>40.7230</td>\n",
              "      <td>-74.0032</td>\n",
              "    </tr>\n",
              "    <tr>\n",
              "      <th>470420</th>\n",
              "      <td>40.7510</td>\n",
              "      <td>-73.9869</td>\n",
              "    </tr>\n",
              "    <tr>\n",
              "      <th>575523</th>\n",
              "      <td>40.7602</td>\n",
              "      <td>-73.9788</td>\n",
              "    </tr>\n",
              "    <tr>\n",
              "      <th>161597</th>\n",
              "      <td>40.6984</td>\n",
              "      <td>-73.9086</td>\n",
              "    </tr>\n",
              "    <tr>\n",
              "      <th>4012</th>\n",
              "      <td>40.7578</td>\n",
              "      <td>-73.9666</td>\n",
              "    </tr>\n",
              "  </tbody>\n",
              "</table>\n",
              "<p>66384 rows × 2 columns</p>\n",
              "</div>\n",
              "      <button class=\"colab-df-convert\" onclick=\"convertToInteractive('df-24da6ee4-508e-4830-b868-3ed8f4a35ee9')\"\n",
              "              title=\"Convert this dataframe to an interactive table.\"\n",
              "              style=\"display:none;\">\n",
              "        \n",
              "  <svg xmlns=\"http://www.w3.org/2000/svg\" height=\"24px\"viewBox=\"0 0 24 24\"\n",
              "       width=\"24px\">\n",
              "    <path d=\"M0 0h24v24H0V0z\" fill=\"none\"/>\n",
              "    <path d=\"M18.56 5.44l.94 2.06.94-2.06 2.06-.94-2.06-.94-.94-2.06-.94 2.06-2.06.94zm-11 1L8.5 8.5l.94-2.06 2.06-.94-2.06-.94L8.5 2.5l-.94 2.06-2.06.94zm10 10l.94 2.06.94-2.06 2.06-.94-2.06-.94-.94-2.06-.94 2.06-2.06.94z\"/><path d=\"M17.41 7.96l-1.37-1.37c-.4-.4-.92-.59-1.43-.59-.52 0-1.04.2-1.43.59L10.3 9.45l-7.72 7.72c-.78.78-.78 2.05 0 2.83L4 21.41c.39.39.9.59 1.41.59.51 0 1.02-.2 1.41-.59l7.78-7.78 2.81-2.81c.8-.78.8-2.07 0-2.86zM5.41 20L4 18.59l7.72-7.72 1.47 1.35L5.41 20z\"/>\n",
              "  </svg>\n",
              "      </button>\n",
              "      \n",
              "  <style>\n",
              "    .colab-df-container {\n",
              "      display:flex;\n",
              "      flex-wrap:wrap;\n",
              "      gap: 12px;\n",
              "    }\n",
              "\n",
              "    .colab-df-convert {\n",
              "      background-color: #E8F0FE;\n",
              "      border: none;\n",
              "      border-radius: 50%;\n",
              "      cursor: pointer;\n",
              "      display: none;\n",
              "      fill: #1967D2;\n",
              "      height: 32px;\n",
              "      padding: 0 0 0 0;\n",
              "      width: 32px;\n",
              "    }\n",
              "\n",
              "    .colab-df-convert:hover {\n",
              "      background-color: #E2EBFA;\n",
              "      box-shadow: 0px 1px 2px rgba(60, 64, 67, 0.3), 0px 1px 3px 1px rgba(60, 64, 67, 0.15);\n",
              "      fill: #174EA6;\n",
              "    }\n",
              "\n",
              "    [theme=dark] .colab-df-convert {\n",
              "      background-color: #3B4455;\n",
              "      fill: #D2E3FC;\n",
              "    }\n",
              "\n",
              "    [theme=dark] .colab-df-convert:hover {\n",
              "      background-color: #434B5C;\n",
              "      box-shadow: 0px 1px 3px 1px rgba(0, 0, 0, 0.15);\n",
              "      filter: drop-shadow(0px 1px 2px rgba(0, 0, 0, 0.3));\n",
              "      fill: #FFFFFF;\n",
              "    }\n",
              "  </style>\n",
              "\n",
              "      <script>\n",
              "        const buttonEl =\n",
              "          document.querySelector('#df-24da6ee4-508e-4830-b868-3ed8f4a35ee9 button.colab-df-convert');\n",
              "        buttonEl.style.display =\n",
              "          google.colab.kernel.accessAllowed ? 'block' : 'none';\n",
              "\n",
              "        async function convertToInteractive(key) {\n",
              "          const element = document.querySelector('#df-24da6ee4-508e-4830-b868-3ed8f4a35ee9');\n",
              "          const dataTable =\n",
              "            await google.colab.kernel.invokeFunction('convertToInteractive',\n",
              "                                                     [key], {});\n",
              "          if (!dataTable) return;\n",
              "\n",
              "          const docLinkHtml = 'Like what you see? Visit the ' +\n",
              "            '<a target=\"_blank\" href=https://colab.research.google.com/notebooks/data_table.ipynb>data table notebook</a>'\n",
              "            + ' to learn more about interactive tables.';\n",
              "          element.innerHTML = '';\n",
              "          dataTable['output_type'] = 'display_data';\n",
              "          await google.colab.output.renderOutput(dataTable, element);\n",
              "          const docLink = document.createElement('div');\n",
              "          docLink.innerHTML = docLinkHtml;\n",
              "          element.appendChild(docLink);\n",
              "        }\n",
              "      </script>\n",
              "    </div>\n",
              "  </div>\n",
              "  "
            ],
            "text/plain": [
              "            Lat      Lon\n",
              "348280  40.6936 -73.9560\n",
              "156470  40.7355 -74.0037\n",
              "532688  40.7070 -74.0137\n",
              "90217   40.7051 -74.0100\n",
              "103242  40.7601 -73.9717\n",
              "...         ...      ...\n",
              "258226  40.7230 -74.0032\n",
              "470420  40.7510 -73.9869\n",
              "575523  40.7602 -73.9788\n",
              "161597  40.6984 -73.9086\n",
              "4012    40.7578 -73.9666\n",
              "\n",
              "[66384 rows x 2 columns]"
            ]
          },
          "metadata": {},
          "execution_count": 12
        }
      ]
    },
    {
      "cell_type": "code",
      "source": [
        "# find the optimal numbers of clusters with GAUSSIAN\n",
        "from sklearn.mixture import GaussianMixture\n",
        "\n",
        "\n",
        "dict_gmm={}\n",
        "for i in range (2,11):\n",
        "    gmm = GaussianMixture(n_components=i)\n",
        "    gmm.fit(X)\n",
        "    key=\"gmm\"+str(i)\n",
        "    dict_gmm[key] = gmm.predict(X)\n",
        "\n",
        "dict_gmm\n"
      ],
      "metadata": {
        "colab": {
          "base_uri": "https://localhost:8080/"
        },
        "id": "iWV5eUxBOaf3",
        "outputId": "037d0236-79fb-46fc-e735-d4f34eda1811"
      },
      "execution_count": 15,
      "outputs": [
        {
          "output_type": "execute_result",
          "data": {
            "text/plain": [
              "{'gmm10': array([8, 3, 3, ..., 0, 4, 0]),\n",
              " 'gmm2': array([1, 0, 0, ..., 0, 1, 0]),\n",
              " 'gmm3': array([1, 0, 0, ..., 0, 1, 0]),\n",
              " 'gmm4': array([2, 0, 0, ..., 0, 3, 1]),\n",
              " 'gmm5': array([4, 0, 3, ..., 0, 4, 0]),\n",
              " 'gmm6': array([0, 4, 4, ..., 1, 0, 1]),\n",
              " 'gmm7': array([5, 2, 2, ..., 0, 4, 0]),\n",
              " 'gmm8': array([2, 3, 3, ..., 0, 2, 0]),\n",
              " 'gmm9': array([8, 0, 0, ..., 2, 5, 2])}"
            ]
          },
          "metadata": {},
          "execution_count": 15
        }
      ]
    },
    {
      "cell_type": "code",
      "source": [
        "# Fitting Gaussian with 2 clusters\n",
        "from sklearn.mixture import GaussianMixture\n",
        "\n",
        "gmm = GaussianMixture(n_components=2)\n",
        "gmm.fit(X)\n",
        "y_gmm = gmm.predict(X)\n",
        "\n",
        "data['gmm_cluster'] = gmm.predict(X)\n",
        "\n",
        "fig, ax = plt.subplots(1, 1)\n",
        "ax.set_facecolor('grey')\n",
        "plt.scatter(x='Lat', y='Lon', data=data, c=y_gmm)"
      ],
      "metadata": {
        "colab": {
          "base_uri": "https://localhost:8080/",
          "height": 364
        },
        "id": "xaZQ9oZnZJAd",
        "outputId": "61c88a7d-0577-433a-9373-ebb6e37c08ca"
      },
      "execution_count": 25,
      "outputs": [
        {
          "output_type": "execute_result",
          "data": {
            "text/plain": [
              "<matplotlib.collections.PathCollection at 0x7f52ecdabe50>"
            ]
          },
          "metadata": {},
          "execution_count": 25
        },
        {
          "output_type": "display_data",
          "data": {
            "image/png": "[encoded data removed]",
            "text/plain": [
              "<Figure size 576x396 with 1 Axes>"
            ]
          },
          "metadata": {}
        }
      ]
    },
    {
      "cell_type": "markdown",
      "source": [
        "## Clustering with AgglomerativeClustering"
      ],
      "metadata": {
        "id": "qbVR_XK3YPrB"
      }
    },
    {
      "cell_type": "code",
      "source": [
        "# find the optimal numbers of clusters for AC\n",
        "from sklearn.cluster import AgglomerativeClustering\n",
        "\n",
        "agc_dict={}\n",
        "for i in range (2,4):\n",
        "    agc = AgglomerativeClustering(n_clusters=i)\n",
        "    agc.fit(X)\n",
        "    key1=\"agc\"+str(i)\n",
        "    agc_dict[key1] = agc.labels_\n",
        "\n",
        "agc_dict"
      ],
      "metadata": {
        "id": "3VkVgOM6Et1L"
      },
      "execution_count": null,
      "outputs": []
    },
    {
      "cell_type": "code",
      "source": [
        "\n",
        "cluster = AgglomerativeClustering(n_clusters=2, affinity='euclidean', linkage='ward')  \n",
        "cluster.fit_predict(data_scaled)"
      ],
      "metadata": {
        "id": "-nG6Rb6dEKPq"
      },
      "execution_count": null,
      "outputs": []
    },
    {
      "cell_type": "code",
      "source": [
        "#AGGLOMEATIVECLUSTERING\n",
        "from sklearn.cluster import AgglomerativeClustering\n",
        "\n",
        "agc = AgglomerativeClustering(n_clusters=3, affinity='euclidean', linkage='ward')  #3: so only 3 label\n",
        "agc.fit_predict(data_scaled)\n",
        "y_agglomerative=agc.labels_\n",
        "\n",
        "\n",
        "plt.figure(figsize=(10, 7))  \n",
        "plt.scatter(data['X1'], data['X2'], c=y_agglomerative,  cmap='viridis') \n",
        "plt.xlabel(\"X1X1\")\n",
        "plt.ylabel(\"X2X2\")"
      ],
      "metadata": {
        "id": "XtCb7XAmLKP8"
      },
      "execution_count": null,
      "outputs": []
    },
    {
      "cell_type": "markdown",
      "source": [
        "## Model Comparison"
      ],
      "metadata": {
        "id": "rYklMkF-f5lp"
      }
    },
    {
      "cell_type": "code",
      "source": [
        "def unsupervised_metrics(X, y_pred):\n",
        "    \"\"\"\n",
        "    Function to evaluate models based on different metrics:\n",
        "    Homogeneity, Completeness, V-measure, adjusted_rand, AMI, \n",
        "    Silhouette Coefficient, Variance Ratio Criterion, Fowlkes Mallows\n",
        "    \n",
        "    \"\"\"\n",
        "    from sklearn import metrics\n",
        "    from sklearn.metrics import silhouette_score, calinski_harabasz_score\n",
        "\n",
        "    score_ss = metrics.silhouette_score(X, y_pred)\n",
        "    score_vrc = metrics.calinski_harabasz_score(X, y_pred)\n",
        "    \n",
        "    print(\"Silhouette Coefficient: %0.3f\" % score_ss)\n",
        "    print('Variance Ratio Criterion: %0.3f' % score_vrc)\n"
      ],
      "metadata": {
        "id": "33Pz0k2jMDg8"
      },
      "execution_count": 19,
      "outputs": []
    },
    {
      "cell_type": "code",
      "source": [
        "for key in dict_gmm:\n",
        "    print('\\n', key)\n",
        "    unsupervised_metrics(X=X, y_pred=dict_gmm[key])"
      ],
      "metadata": {
        "id": "KZD4MhB-YvsD",
        "colab": {
          "base_uri": "https://localhost:8080/"
        },
        "outputId": "26ae55a9-e34b-487f-d375-e2b327ea0ba1"
      },
      "execution_count": 22,
      "outputs": [
        {
          "output_type": "stream",
          "name": "stdout",
          "text": [
            "\n",
            " gmm2\n",
            "Silhouette Coefficient: 0.523\n",
            "Variance Ratio Criterion: 11963.945\n",
            "\n",
            " gmm3\n",
            "Silhouette Coefficient: 0.513\n",
            "Variance Ratio Criterion: 13868.857\n",
            "\n",
            " gmm4\n",
            "Silhouette Coefficient: 0.306\n",
            "Variance Ratio Criterion: 8350.740\n",
            "\n",
            " gmm5\n",
            "Silhouette Coefficient: 0.312\n",
            "Variance Ratio Criterion: 9933.340\n",
            "\n",
            " gmm6\n",
            "Silhouette Coefficient: 0.426\n",
            "Variance Ratio Criterion: 11314.289\n",
            "\n",
            " gmm7\n",
            "Silhouette Coefficient: 0.432\n",
            "Variance Ratio Criterion: 9992.610\n",
            "\n",
            " gmm8\n",
            "Silhouette Coefficient: 0.299\n",
            "Variance Ratio Criterion: 11996.665\n",
            "\n",
            " gmm9\n",
            "Silhouette Coefficient: 0.360\n",
            "Variance Ratio Criterion: 7575.404\n",
            "\n",
            " gmm10\n",
            "Silhouette Coefficient: 0.443\n",
            "Variance Ratio Criterion: 22682.709\n"
          ]
        }
      ]
    },
    {
      "cell_type": "markdown",
      "source": [
        "## Vizualise data on a map"
      ],
      "metadata": {
        "id": "frQHMo3P1Rqn"
      }
    },
    {
      "cell_type": "code",
      "source": [
        "import folium\n",
        "\n",
        "uber_map = folium.Map(prefer_canvas=True)\n",
        "\n",
        "def plotDot(point):\n",
        "    '''input: series that contains a numeric named latitude and a numeric named longitude\n",
        "    this function creates a CircleMarker and adds it to uber_map'''\n",
        "    folium.CircleMarker(location=[point.Lat, point.Lon],\n",
        "                        radius=2,\n",
        "                        weight=5).add_to(uber_map)\n",
        "\n",
        "#use df.apply(,axis=1) to \"iterate\" through every row in your dataframe\n",
        "X.apply(plotDot, axis = 1)\n",
        "\n",
        "\n",
        "#Set the zoom to the maximum possible\n",
        "uber_map.fit_bounds(uber_map.get_bounds())\n",
        "\n",
        "#Save the map to an HTML file\n",
        "uber_map.save('uber_map.html')\n",
        "\n",
        "uber_map\n",
        "\n"
      ],
      "metadata": {
        "id": "wNX4_XMz1RAr"
      },
      "execution_count": null,
      "outputs": []
    },
    {
      "cell_type": "code",
      "source": [
        "uber_map"
      ],
      "metadata": {
        "id": "P4Kx282U6SQB"
      },
      "execution_count": null,
      "outputs": []
    },
    {
      "cell_type": "code",
      "source": [
        "folium.Map(tiles='Stamen Toner', zoom_start=13)"
      ],
      "metadata": {
        "id": "YNu1R2pI1Zrp",
        "colab": {
          "base_uri": "https://localhost:8080/",
          "height": 731
        },
        "outputId": "52aae7cb-8ca1-451c-f45d-850d7c232aba"
      },
      "execution_count": null,
      "outputs": [
        {
          "output_type": "execute_result",
          "data": {
            "text/html": [
              "<div style=\"width:100%;\"><div style=\"position:relative;width:100%;height:0;padding-bottom:60%;\"><span style=\"color:#565656\">Make this Notebook Trusted to load map: File -> Trust Notebook</span><iframe src=\"about:blank\" style=\"position:absolute;width:100%;height:100%;left:0;top:0;border:none !important;\" data-html=%3C%21DOCTYPE%20html%3E%0A%3Chead%3E%20%20%20%20%0A%20%20%20%20%3Cmeta%20http-equiv%3D%22content-type%22%20content%3D%22text/html%3B%20charset%3DUTF-8%22%20/%3E%0A%20%20%20%20%3Cscript%3EL_PREFER_CANVAS%3Dfalse%3B%20L_NO_TOUCH%3Dfalse%3B%20L_DISABLE_3D%3Dfalse%3B%3C/script%3E%0A%20%20%20%20%3Cscript%20src%3D%22https%3A//cdn.jsdelivr.net/npm/leaflet%401.4.0/dist/leaflet.js%22%3E%3C/script%3E%0A%20%20%20%20%3Cscript%20src%3D%22https%3A//code.jquery.com/jquery-1.12.4.min.js%22%3E%3C/script%3E%0A%20%20%20%20%3Cscript%20src%3D%22https%3A//maxcdn.bootstrapcdn.com/bootstrap/3.2.0/js/bootstrap.min.js%22%3E%3C/script%3E%0A%20%20%20%20%3Cscript%20src%3D%22https%3A//cdnjs.cloudflare.com/ajax/libs/Leaflet.awesome-markers/2.0.2/leaflet.awesome-markers.js%22%3E%3C/script%3E%0A%20%20%20%20%3Clink%20rel%3D%22stylesheet%22%20href%3D%22https%3A//cdn.jsdelivr.net/npm/leaflet%401.4.0/dist/leaflet.css%22/%3E%0A%20%20%20%20%3Clink%20rel%3D%22stylesheet%22%20href%3D%22https%3A//maxcdn.bootstrapcdn.com/bootstrap/3.2.0/css/bootstrap.min.css%22/%3E%0A%20%20%20%20%3Clink%20rel%3D%22stylesheet%22%20href%3D%22https%3A//maxcdn.bootstrapcdn.com/bootstrap/3.2.0/css/bootstrap-theme.min.css%22/%3E%0A%20%20%20%20%3Clink%20rel%3D%22stylesheet%22%20href%3D%22https%3A//maxcdn.bootstrapcdn.com/font-awesome/4.6.3/css/font-awesome.min.css%22/%3E%0A%20%20%20%20%3Clink%20rel%3D%22stylesheet%22%20href%3D%22https%3A//cdnjs.cloudflare.com/ajax/libs/Leaflet.awesome-markers/2.0.2/leaflet.awesome-markers.css%22/%3E%0A%20%20%20%20%3Clink%20rel%3D%22stylesheet%22%20href%3D%22https%3A//rawcdn.githack.com/python-visualization/folium/master/folium/templates/leaflet.awesome.rotate.css%22/%3E%0A%20%20%20%20%3Cstyle%3Ehtml%2C%20body%20%7Bwidth%3A%20100%25%3Bheight%3A%20100%25%3Bmargin%3A%200%3Bpadding%3A%200%3B%7D%3C/style%3E%0A%20%20%20%20%3Cstyle%3E%23map%20%7Bposition%3Aabsolute%3Btop%3A0%3Bbottom%3A0%3Bright%3A0%3Bleft%3A0%3B%7D%3C/style%3E%0A%20%20%20%20%0A%20%20%20%20%3Cmeta%20name%3D%22viewport%22%20content%3D%22width%3Ddevice-width%2C%0A%20%20%20%20%20%20%20%20initial-scale%3D1.0%2C%20maximum-scale%3D1.0%2C%20user-scalable%3Dno%22%20/%3E%0A%20%20%20%20%3Cstyle%3E%23map_66753f81dfe9428ca8f53779d83204da%20%7B%0A%20%20%20%20%20%20%20%20position%3A%20relative%3B%0A%20%20%20%20%20%20%20%20width%3A%20100.0%25%3B%0A%20%20%20%20%20%20%20%20height%3A%20100.0%25%3B%0A%20%20%20%20%20%20%20%20left%3A%200.0%25%3B%0A%20%20%20%20%20%20%20%20top%3A%200.0%25%3B%0A%20%20%20%20%20%20%20%20%7D%0A%20%20%20%20%3C/style%3E%0A%3C/head%3E%0A%3Cbody%3E%20%20%20%20%0A%20%20%20%20%0A%20%20%20%20%3Cdiv%20class%3D%22folium-map%22%20id%3D%22map_66753f81dfe9428ca8f53779d83204da%22%20%3E%3C/div%3E%0A%3C/body%3E%0A%3Cscript%3E%20%20%20%20%0A%20%20%20%20%0A%20%20%20%20%0A%20%20%20%20%20%20%20%20var%20bounds%20%3D%20null%3B%0A%20%20%20%20%0A%0A%20%20%20%20var%20map_66753f81dfe9428ca8f53779d83204da%20%3D%20L.map%28%0A%20%20%20%20%20%20%20%20%27map_66753f81dfe9428ca8f53779d83204da%27%2C%20%7B%0A%20%20%20%20%20%20%20%20center%3A%20%5B0%2C%200%5D%2C%0A%20%20%20%20%20%20%20%20zoom%3A%201%2C%0A%20%20%20%20%20%20%20%20maxBounds%3A%20bounds%2C%0A%20%20%20%20%20%20%20%20layers%3A%20%5B%5D%2C%0A%20%20%20%20%20%20%20%20worldCopyJump%3A%20false%2C%0A%20%20%20%20%20%20%20%20crs%3A%20L.CRS.EPSG3857%2C%0A%20%20%20%20%20%20%20%20zoomControl%3A%20true%2C%0A%20%20%20%20%20%20%20%20%7D%29%3B%0A%0A%0A%20%20%20%20%0A%20%20%20%20var%20tile_layer_a6cd8e40dc3f4e9797af00a0550f9e5b%20%3D%20L.tileLayer%28%0A%20%20%20%20%20%20%20%20%27https%3A//stamen-tiles-%7Bs%7D.a.ssl.fastly.net/toner/%7Bz%7D/%7Bx%7D/%7By%7D.png%27%2C%0A%20%20%20%20%20%20%20%20%7B%0A%20%20%20%20%20%20%20%20%22attribution%22%3A%20null%2C%0A%20%20%20%20%20%20%20%20%22detectRetina%22%3A%20false%2C%0A%20%20%20%20%20%20%20%20%22maxNativeZoom%22%3A%2018%2C%0A%20%20%20%20%20%20%20%20%22maxZoom%22%3A%2018%2C%0A%20%20%20%20%20%20%20%20%22minZoom%22%3A%200%2C%0A%20%20%20%20%20%20%20%20%22noWrap%22%3A%20false%2C%0A%20%20%20%20%20%20%20%20%22opacity%22%3A%201%2C%0A%20%20%20%20%20%20%20%20%22subdomains%22%3A%20%22abc%22%2C%0A%20%20%20%20%20%20%20%20%22tms%22%3A%20false%0A%7D%29.addTo%28map_66753f81dfe9428ca8f53779d83204da%29%3B%0A%3C/script%3E onload=\"this.contentDocument.open();this.contentDocument.write(    decodeURIComponent(this.getAttribute('data-html')));this.contentDocument.close();\" allowfullscreen webkitallowfullscreen mozallowfullscreen></iframe></div></div>"
            ],
            "text/plain": [
              "<folium.folium.Map at 0x7fb08be70850>"
            ]
          },
          "metadata": {},
          "execution_count": 47
        }
      ]
    },
    {
      "cell_type": "code",
      "source": [
        ""
      ],
      "metadata": {
        "id": "h2aW9lTQ7SH8"
      },
      "execution_count": null,
      "outputs": []
    }
  ]
}
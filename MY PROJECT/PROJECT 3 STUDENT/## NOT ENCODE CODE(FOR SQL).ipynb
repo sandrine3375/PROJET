{
 "cells": [
  {
   "cell_type": "code",
   "execution_count": 3,
   "id": "7ab3104f",
   "metadata": {},
   "outputs": [],
   "source": [
    "## NOT ENCODE CODE(FOR SQL)"
   ]
  },
  {
   "cell_type": "code",
   "execution_count": null,
   "id": "73533c31",
   "metadata": {},
   "outputs": [],
   "source": [
    "## import useful libraries\n",
    "import pandas as pd\n",
    "import numpy as np\n",
    "from sklearn.preprocessing import LabelEncoder\n",
    "\n",
    "## import the excel file with pandas\n",
    "df=pd.read_excel(r'C:/Users/paul/Downloads/2 -Entrepreneurial competency in university students.xlsx')\n",
    "\n",
    "## checking missing datas\n",
    "df.isnull().sum()\n",
    "\n",
    "## droping column 'ReasonsForLack' because no useful data to operate (commentary) and many missing values()\n",
    "df = df.drop('ReasonsForLack', 1)\n",
    "\n",
    "## droping rows we identify with many missing values \n",
    "df.drop(df.index[200:206], axis=0, inplace=True)\n",
    "\n",
    "## replacing empty rows with mode of each columns ()\n",
    "age_mode = df.mode()['Age'][0]\n",
    "df['Age'].fillna(age_mode, inplace=True)\n",
    "perseverance_mode = df.mode()['Perseverance'][0]\n",
    "df['Perseverance'].fillna(perseverance_mode, inplace=True)\n",
    "compet_mode = df.mode()['Competitiveness'][0]\n",
    "df['Competitiveness'].fillna(compet_mode, inplace=True)\n",
    "desire_mode = df.mode()['DesireToTakeInitiative'][0]\n",
    "df['DesireToTakeInitiative'].fillna(desire_mode, inplace=True)\n",
    "reliance_mode = df.mode()['SelfReliance'][0]\n",
    "df['SelfReliance'].fillna(reliance_mode, inplace=True)\n",
    "need_mode = df.mode()['StrongNeedToAchieve'][0]\n",
    "df['StrongNeedToAchieve'].fillna(need_mode, inplace=True)\n",
    "confidence_mode = df.mode()['SelfConfidence'][0]\n",
    "df['SelfConfidence'].fillna(confidence_mode, inplace=True)\n",
    "health_mode = df.mode()['GoodPhysicalHealth'][0]\n",
    "df['GoodPhysicalHealth'].fillna(health_mode, inplace=True)\n",
    "mental_mode = df.mode()['MentalDisorder'][0]\n",
    "df['MentalDisorder'].fillna(mental_mode, inplace=True)\n",
    "\n",
    "## deleete all spaces in title columns\n",
    "df.columns = df.columns.str.replace(' ', '')\n",
    "\n",
    "## column: KeyTraits: error in value - \n",
    "## get unique value, to check the value\n",
    "df['KeyTraits'].unique()\n",
    "## replace error-value in Keytraits\n",
    "df[\"KeyTraits\"].replace(\"Rrresilience\", \"Resilience\", inplace=True )\n",
    "df[\"KeyTraits\"].replace(\"passion\", \"Passion\", inplace=True )\n",
    "\n",
    "## Uniformize data\n",
    "df['Gender'] = df['Gender'].str.capitalize()\n",
    "df['City'] = df['City'].str.capitalize()\n",
    "\n",
    "df"
   ]
  },
  {
   "cell_type": "code",
   "execution_count": null,
   "id": "0f38f9a9",
   "metadata": {},
   "outputs": [],
   "source": [
    "## PLOTS AND REPRESENTATIONS"
   ]
  },
  {
   "cell_type": "code",
   "execution_count": null,
   "id": "72b22f0f",
   "metadata": {},
   "outputs": [],
   "source": [
    "import seaborn as sns\n",
    "import matplotlib.pyplot as plt"
   ]
  },
  {
   "cell_type": "code",
   "execution_count": null,
   "id": "785e5150",
   "metadata": {},
   "outputs": [],
   "source": [
    "sns.countplot(df.Gender);\n",
    "sns.despine(left=True,bottom=True);"
   ]
  },
  {
   "cell_type": "code",
   "execution_count": null,
   "id": "729dc7c6",
   "metadata": {},
   "outputs": [],
   "source": [
    "sns.countplot(df.City);\n",
    "sns.despine(left=True,bottom=True);"
   ]
  },
  {
   "cell_type": "code",
   "execution_count": null,
   "id": "0e0297b3",
   "metadata": {},
   "outputs": [],
   "source": [
    "sns.countplot(df.EducationSector);\n",
    "sns.despine(left=True,bottom=True);\n",
    "plt.xticks(rotation=90);"
   ]
  },
  {
   "cell_type": "code",
   "execution_count": null,
   "id": "76eec834",
   "metadata": {},
   "outputs": [],
   "source": [
    "plt.subplots(figsize=(20,10))\n",
    "sns.heatmap(df.corr(),annot=True)"
   ]
  },
  {
   "cell_type": "code",
   "execution_count": null,
   "id": "4fe7bf90",
   "metadata": {},
   "outputs": [],
   "source": [
    "import mysql.connector\n",
    "import sqlalchemy\n",
    "\n",
    "#Create database:\n",
    "dataBase = mysql.connector.connect(\n",
    "  host =\"\",\n",
    "  user =\"\",\n",
    "  passwd =\"\"\n",
    ")\n",
    "# preparing a cursor object\n",
    "cursorObject = dataBase.cursor()\n",
    "# creating database\n",
    "cursorObject.execute(\"CREATE DATABASE Project3\")\n",
    "\n",
    "#Connect pandas to MySql\n",
    "database_username = ''\n",
    "database_password = ''\n",
    "database_ip       = ''\n",
    "database_name     = ''\n",
    "database_connection = sqlalchemy.create_engine('mysql+mysqlconnector://{0}:{1}@{2}/{3}'.\n",
    "                                               format(database_username, database_password,\n",
    "                                                      database_ip, database_name), pool_recycle=1, pool_timeout=57600).connect()\n",
    "\n",
    "#import datafrom dataframe to Mysql Table\n",
    "df.to_sql(con=database_connection, name='Education', if_exists='append',chunksize=100)\n",
    "df.to_sql(con=database_connection, name = 'Student', if_exists='append', chunksize=100)\n",
    "df.to_sql(con=database_connection, name='Skills',if_exists='append', chunksize=100)"
   ]
  }
 ],
 "metadata": {
  "kernelspec": {
   "display_name": "Python 3",
   "language": "python",
   "name": "python3"
  },
  "language_info": {
   "codemirror_mode": {
    "name": "ipython",
    "version": 3
   },
   "file_extension": ".py",
   "mimetype": "text/x-python",
   "name": "python",
   "nbconvert_exporter": "python",
   "pygments_lexer": "ipython3",
   "version": "3.8.8"
  }
 },
 "nbformat": 4,
 "nbformat_minor": 5
}

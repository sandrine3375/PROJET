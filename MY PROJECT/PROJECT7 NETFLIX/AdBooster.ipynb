{
 "cells": [
  {
   "cell_type": "markdown",
   "id": "a4929c2b",
   "metadata": {},
   "source": [
    "# FEATURE SELECTION\n",
    "from sklearn.feature_selection import RFE\n",
    "from sklearn.ensemble import RandomForestClassifier\n",
    "from sklearn.feature_selection import SelectFromModel\n",
    "\n",
    "x= file.drop(['ranking'],axis=1)\n",
    "y= file['ranking']\n",
    "\n",
    "\n",
    "\n",
    "x.loc[:, m.support_].columns\n",
    "\n",
    "METHOD 2:\n",
    "SFM = SelectFromModel(estimator=RandomForestClassifier())\n",
    "s=SFM.fit(x, y)\n",
    "feature_idx = s.get_support()\n",
    "feature_name = x.columns[feature_idx]\n",
    "feature_name \n",
    "\n",
    "METHOD 3:\n",
    "from sklearn.feature_selection import RFECV\n",
    "\n",
    "rfecv = RFECV(\n",
    "    estimator=RandomForestClassifier(),\n",
    "    min_features_to_select=2,\n",
    "    step=5,\n",
    "    n_jobs=-1, #uses all available processors\n",
    "    scoring=\"r2\",\n",
    "    cv=5,)\n",
    "m= rfecv.fit(x, y)\n",
    "\n",
    "X.columns[rfecv.support_]\n",
    "\n",
    "TRAIN_TEST_SPLIT:\n",
    "from sklearn.model_selection import train_test_split\n",
    "y = netflix['ranking']\n",
    "x = netflix[features] # features found thanks to feature selector\n",
    "\n",
    "X_train, X_test, y_train, y_test = train_test_split(\n",
    "    x, y, test_size=0.2, random_state=5)\n",
    "\n",
    "\n",
    "\n",
    "\n",
    "HYPERPARAMETER TUNING\n",
    "METHOD 1 GRID SEARCH :\n",
    "from sklearn.model_selection import GridSearchCV, RandomizedSearchCV\n",
    "grid_search = GridSearchCV(AdaBoostClassifier(random_state=0), #take a model like RFC responsible for searching\n",
    "                           {\n",
    "                              'n_estimators':np.arange(5,400,5)\n",
    "                            \n",
    "                            },cv=5, scoring=\"accuracy\",verbose=1,n_jobs=-1 #my goal is Accuracy , we want verbosity for more details\n",
    "                           ) #cv = crossvalidation, how many folds you want\n",
    "grid_search.fit(X_train,y_train)\n",
    "\n",
    "grid_search.best_params_\n",
    "grid_search.best_score_\n",
    "\n",
    "METHOD 1 RANDOM SEARCH:\n",
    "rand_search = RandomizedSearchCV(RandomForestClassifier(random_state=0),\n",
    "                           {\n",
    "                              'n_estimators':np.arange(5,400,5)\n",
    "                            \n",
    "                            },cv=5, scoring=\"accuracy\",verbose=1,n_jobs=-1\n",
    "                           )\n",
    "rand_search.fit(X_train,y_train)\n",
    "\n",
    "\n",
    "rand_search.best_params_\n",
    "rand_search.best_score_\n",
    "\n",
    "\n",
    "CHOICE OF MODEL : \n",
    "\n",
    "\n",
    "\n",
    "\n"
   ]
  },
  {
   "cell_type": "code",
   "execution_count": null,
   "id": "b4f1fc6f",
   "metadata": {},
   "outputs": [],
   "source": []
  },
  {
   "cell_type": "code",
   "execution_count": null,
   "id": "eddb0eec",
   "metadata": {},
   "outputs": [],
   "source": []
  },
  {
   "cell_type": "code",
   "execution_count": 3,
   "id": "b37058ae",
   "metadata": {},
   "outputs": [
    {
     "ename": "NameError",
     "evalue": "name 'X' is not defined",
     "output_type": "error",
     "traceback": [
      "\u001b[1;31m---------------------------------------------------------------------------\u001b[0m",
      "\u001b[1;31mNameError\u001b[0m                                 Traceback (most recent call last)",
      "\u001b[1;32m~\\AppData\\Local\\Temp/ipykernel_99996/1205489267.py\u001b[0m in \u001b[0;36m<module>\u001b[1;34m\u001b[0m\n\u001b[0;32m      5\u001b[0m \u001b[1;31m#n_estimator found thanks to hyperparameter tuning\u001b[0m\u001b[1;33m\u001b[0m\u001b[1;33m\u001b[0m\u001b[0m\n\u001b[0;32m      6\u001b[0m \u001b[1;33m\u001b[0m\u001b[0m\n\u001b[1;32m----> 7\u001b[1;33m \u001b[0mclf\u001b[0m\u001b[1;33m.\u001b[0m\u001b[0mfit\u001b[0m\u001b[1;33m(\u001b[0m\u001b[0mX\u001b[0m\u001b[1;33m,\u001b[0m\u001b[0my\u001b[0m\u001b[1;33m)\u001b[0m\u001b[1;33m\u001b[0m\u001b[1;33m\u001b[0m\u001b[0m\n\u001b[0m",
      "\u001b[1;31mNameError\u001b[0m: name 'X' is not defined"
     ]
    }
   ],
   "source": [
    "from sklearn.ensemble import AdaBoostClassifier\n",
    "\n",
    "clf= AdaBoostClassifier(n_estimators=100, random_state=0)\n",
    "\n",
    "#n_estimator found thanks to hyperparameter tuning\n",
    "\n",
    "clf.fit(X,y)\n"
   ]
  },
  {
   "cell_type": "code",
   "execution_count": null,
   "id": "a7ed6fda",
   "metadata": {},
   "outputs": [],
   "source": [
    "\n",
    "clf.predict(x_train)\n",
    "\n",
    "clf.score(X,y)"
   ]
  },
  {
   "cell_type": "code",
   "execution_count": null,
   "id": "29b301b6",
   "metadata": {},
   "outputs": [],
   "source": [
    "\n",
    "clf.predict(x_train)\n",
    "\n",
    "clf.score(X,y)"
   ]
  }
 ],
 "metadata": {
  "kernelspec": {
   "display_name": "Python 3",
   "language": "python",
   "name": "python3"
  },
  "language_info": {
   "codemirror_mode": {
    "name": "ipython",
    "version": 3
   },
   "file_extension": ".py",
   "mimetype": "text/x-python",
   "name": "python",
   "nbconvert_exporter": "python",
   "pygments_lexer": "ipython3",
   "version": "3.8.8"
  }
 },
 "nbformat": 4,
 "nbformat_minor": 5
}

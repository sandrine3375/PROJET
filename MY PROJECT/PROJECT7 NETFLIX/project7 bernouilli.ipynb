{
 "cells": [
  {
   "cell_type": "code",
   "execution_count": 19,
   "id": "c500f711",
   "metadata": {},
   "outputs": [],
   "source": [
    "import pandas as pd\n",
    "import numpy as np\n",
    "import seaborn as sns\n",
    "import matplotlib.pyplot as plt\n",
    "from sklearn.model_selection import train_test_split\n",
    "from pandas.plotting import parallel_coordinates\n",
    "from sklearn.tree import DecisionTreeClassifier, plot_tree\n",
    "from sklearn import metrics\n",
    "from sklearn.naive_bayes import GaussianNB\n",
    "from sklearn.discriminant_analysis import LinearDiscriminantAnalysis, QuadraticDiscriminantAnalysis\n",
    "from sklearn.neighbors import KNeighborsClassifier\n",
    "from sklearn.svm import SVC\n",
    "from sklearn.linear_model import LogisticRegression\n",
    "import numpy as np\n",
    "import matplotlib.pyplot as plt\n",
    "\n",
    "from sklearn.naive_bayes import BernoulliNB"
   ]
  },
  {
   "cell_type": "code",
   "execution_count": 20,
   "id": "299b4857",
   "metadata": {},
   "outputs": [],
   "source": [
    "file_url = r'C:\\Users\\Michel\\git2\\Ironhack-DAFT-Project7-ML-Netflix\\imdb_processed_clean_encoded.csv'"
   ]
  },
  {
   "cell_type": "code",
   "execution_count": 21,
   "id": "66295003",
   "metadata": {},
   "outputs": [],
   "source": [
    "df = pd.read_csv(file_url)"
   ]
  },
  {
   "cell_type": "code",
   "execution_count": 22,
   "id": "de490687",
   "metadata": {},
   "outputs": [],
   "source": [
    "target='rating'"
   ]
  },
  {
   "cell_type": "code",
   "execution_count": 23,
   "id": "1f6c5d1a",
   "metadata": {},
   "outputs": [],
   "source": [
    "x=df.drop(columns=target)\n",
    "#x=df_enc.drop(index=[712],columns='survived')\n",
    "#x_check=titanic_enc.tail(1).drop(columns='survived')\n",
    "y=round(df[target]).astype(int)"
   ]
  },
  {
   "cell_type": "code",
   "execution_count": 24,
   "id": "dd5ba257",
   "metadata": {},
   "outputs": [],
   "source": [
    "x_train, x_test, y_train, y_test = train_test_split(x, y, test_size=0.2, random_state=5)"
   ]
  },
  {
   "cell_type": "code",
   "execution_count": 25,
   "id": "05fe95af",
   "metadata": {},
   "outputs": [],
   "source": [
    "#BernoulliNB is designed for binary/boolean features (discrete data)\n",
    "\n",
    "#probabilité d'une variable aléatoire discrète qui prend la valeur 1 avec la probabilité p \n",
    "# et la valeur  0 avec la probabilité 1 – p (q)."
   ]
  },
  {
   "cell_type": "code",
   "execution_count": 26,
   "id": "8a8a557b",
   "metadata": {},
   "outputs": [],
   "source": [
    "from sklearn.naive_bayes import BernoulliNB\n",
    "clf = BernoulliNB()\n",
    "clf.fit(x_train, y_train)\n",
    "y_pred = clf.predict(x_test)\n"
   ]
  },
  {
   "cell_type": "code",
   "execution_count": 27,
   "id": "4b1a37ff",
   "metadata": {},
   "outputs": [
    {
     "name": "stdout",
     "output_type": "stream",
     "text": [
      "The accuracy of the BernoulliNB is: 31.90830235439901 %\n"
     ]
    }
   ],
   "source": [
    "### Print accuracy\n",
    "acc_clf = clf.score(x_test, y_test)\n",
    "print('The accuracy of the BernoulliNB is:', acc_clf * 100, '%')\n",
    "\n"
   ]
  },
  {
   "cell_type": "code",
   "execution_count": 28,
   "id": "2b5ae59b",
   "metadata": {},
   "outputs": [
    {
     "name": "stdout",
     "output_type": "stream",
     "text": [
      "0.3190830235439901\n"
     ]
    }
   ],
   "source": [
    "#other method for accury, with accuracy_score + PRINT\n",
    "from sklearn.metrics import accuracy_score\n",
    "clf.fit(x_train, y_train)\n",
    "y_pred= clf.predict(x_test)\n",
    "acc_score = accuracy_score(y_test, y_pred)\n",
    "print(acc_score)"
   ]
  },
  {
   "cell_type": "code",
   "execution_count": 29,
   "id": "d7e2353d",
   "metadata": {},
   "outputs": [],
   "source": [
    "\n",
    "# to see if it is overfit or underfit \n",
    "acc_clf = clf.score(x_train, y_train)\n",
    "acc_clf = clf.score(x_test, y_test)\n"
   ]
  },
  {
   "cell_type": "code",
   "execution_count": 18,
   "id": "59e18650",
   "metadata": {},
   "outputs": [
    {
     "name": "stdout",
     "output_type": "stream",
     "text": [
      "[[  0   0   0   0   3   7   0   0]\n",
      " [  0   0   0   0   5  19   0   0]\n",
      " [  0   0   0   0  29  57   0   0]\n",
      " [  0   0   0   0  27 106   2   0]\n",
      " [  0   0   0   0  58 316   8   0]\n",
      " [  0   0   0   0  72 413  19   0]\n",
      " [  0   0   0   0  32 348  44   0]\n",
      " [  0   0   0   0   2  45   2   0]]\n"
     ]
    }
   ],
   "source": [
    "#print confusion matrix +PRINT\n",
    "from sklearn.metrics import confusion_matrix\n",
    "clf.fit(x_train, y_train)\n",
    "y_pred= clf.predict(x_test)\n",
    "conf_mat = confusion_matrix(y_test, y_pred) # we can add labels = ['cat1', 'cat2', 'cat3', 'cat4', 'cat5']\n",
    "\n",
    "\n",
    "print(conf_mat)"
   ]
  },
  {
   "cell_type": "code",
   "execution_count": null,
   "id": "eb6678c6",
   "metadata": {},
   "outputs": [],
   "source": []
  }
 ],
 "metadata": {
  "kernelspec": {
   "display_name": "Python 3",
   "language": "python",
   "name": "python3"
  },
  "language_info": {
   "codemirror_mode": {
    "name": "ipython",
    "version": 3
   },
   "file_extension": ".py",
   "mimetype": "text/x-python",
   "name": "python",
   "nbconvert_exporter": "python",
   "pygments_lexer": "ipython3",
   "version": "3.8.8"
  }
 },
 "nbformat": 4,
 "nbformat_minor": 5
}

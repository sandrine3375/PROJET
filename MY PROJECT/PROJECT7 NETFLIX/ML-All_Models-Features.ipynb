{
 "cells": [
  {
   "cell_type": "code",
   "execution_count": 1,
   "id": "2544a6ff",
   "metadata": {},
   "outputs": [],
   "source": [
    "#Import your libraries\n",
    "import pandas as pd\n",
    "import numpy as np\n",
    "import seaborn as sns\n",
    "import matplotlib.pyplot as plt\n",
    "from sklearn.model_selection import train_test_split\n",
    "from pandas.plotting import parallel_coordinates\n",
    "from sklearn.tree import DecisionTreeClassifier, plot_tree\n",
    "from sklearn import metrics\n",
    "from sklearn.naive_bayes import GaussianNB\n",
    "from sklearn.discriminant_analysis import LinearDiscriminantAnalysis, QuadraticDiscriminantAnalysis\n",
    "from sklearn.neighbors import KNeighborsClassifier\n",
    "from sklearn.svm import SVC\n",
    "from sklearn.linear_model import LogisticRegression"
   ]
  },
  {
   "cell_type": "code",
   "execution_count": 2,
   "id": "6e825fa4",
   "metadata": {},
   "outputs": [],
   "source": [
    "file_url = r'C:\\Users\\Michel\\git2\\Ironhack-DAFT-Project7-ML-Netflix\\imdb_processed_clean_encoded.csv'\n"
   ]
  },
  {
   "cell_type": "code",
   "execution_count": 3,
   "id": "70db66cb",
   "metadata": {},
   "outputs": [],
   "source": [
    "df = pd.read_csv(file_url)"
   ]
  },
  {
   "cell_type": "code",
   "execution_count": 4,
   "id": "6562bc03",
   "metadata": {},
   "outputs": [
    {
     "data": {
      "text/html": [
       "<div>\n",
       "<style scoped>\n",
       "    .dataframe tbody tr th:only-of-type {\n",
       "        vertical-align: middle;\n",
       "    }\n",
       "\n",
       "    .dataframe tbody tr th {\n",
       "        vertical-align: top;\n",
       "    }\n",
       "\n",
       "    .dataframe thead th {\n",
       "        text-align: right;\n",
       "    }\n",
       "</style>\n",
       "<table border=\"1\" class=\"dataframe\">\n",
       "  <thead>\n",
       "    <tr style=\"text-align: right;\">\n",
       "      <th></th>\n",
       "      <th>year</th>\n",
       "      <th>kind</th>\n",
       "      <th>rating</th>\n",
       "      <th>vote</th>\n",
       "      <th>runtime</th>\n",
       "      <th>genre1</th>\n",
       "      <th>genre2</th>\n",
       "      <th>country1</th>\n",
       "      <th>country2</th>\n",
       "      <th>language1</th>\n",
       "      <th>language2</th>\n",
       "      <th>cast1</th>\n",
       "      <th>cast2</th>\n",
       "      <th>director1</th>\n",
       "      <th>director2</th>\n",
       "      <th>composer1</th>\n",
       "      <th>composer2</th>\n",
       "      <th>writer1</th>\n",
       "      <th>writer2</th>\n",
       "    </tr>\n",
       "  </thead>\n",
       "  <tbody>\n",
       "    <tr>\n",
       "      <th>0</th>\n",
       "      <td>2003</td>\n",
       "      <td>2</td>\n",
       "      <td>7.7</td>\n",
       "      <td>474.0</td>\n",
       "      <td>50.000000</td>\n",
       "      <td>6</td>\n",
       "      <td>2</td>\n",
       "      <td>62</td>\n",
       "      <td>71</td>\n",
       "      <td>16</td>\n",
       "      <td>110</td>\n",
       "      <td>817</td>\n",
       "      <td>4941</td>\n",
       "      <td>3923</td>\n",
       "      <td>611</td>\n",
       "      <td>2512</td>\n",
       "      <td>762</td>\n",
       "      <td>3299</td>\n",
       "      <td>2469</td>\n",
       "    </tr>\n",
       "    <tr>\n",
       "      <th>1</th>\n",
       "      <td>1994</td>\n",
       "      <td>7</td>\n",
       "      <td>8.1</td>\n",
       "      <td>18.0</td>\n",
       "      <td>83.000000</td>\n",
       "      <td>8</td>\n",
       "      <td>27</td>\n",
       "      <td>62</td>\n",
       "      <td>71</td>\n",
       "      <td>16</td>\n",
       "      <td>110</td>\n",
       "      <td>3598</td>\n",
       "      <td>381</td>\n",
       "      <td>3659</td>\n",
       "      <td>611</td>\n",
       "      <td>2512</td>\n",
       "      <td>762</td>\n",
       "      <td>4765</td>\n",
       "      <td>3786</td>\n",
       "    </tr>\n",
       "    <tr>\n",
       "      <th>2</th>\n",
       "      <td>1992</td>\n",
       "      <td>1</td>\n",
       "      <td>5.5</td>\n",
       "      <td>93.0</td>\n",
       "      <td>96.828211</td>\n",
       "      <td>0</td>\n",
       "      <td>20</td>\n",
       "      <td>37</td>\n",
       "      <td>71</td>\n",
       "      <td>33</td>\n",
       "      <td>110</td>\n",
       "      <td>2472</td>\n",
       "      <td>1621</td>\n",
       "      <td>4067</td>\n",
       "      <td>611</td>\n",
       "      <td>354</td>\n",
       "      <td>762</td>\n",
       "      <td>2582</td>\n",
       "      <td>1672</td>\n",
       "    </tr>\n",
       "    <tr>\n",
       "      <th>3</th>\n",
       "      <td>2004</td>\n",
       "      <td>1</td>\n",
       "      <td>5.3</td>\n",
       "      <td>13432.0</td>\n",
       "      <td>60.000000</td>\n",
       "      <td>6</td>\n",
       "      <td>4</td>\n",
       "      <td>62</td>\n",
       "      <td>71</td>\n",
       "      <td>16</td>\n",
       "      <td>37</td>\n",
       "      <td>3014</td>\n",
       "      <td>1499</td>\n",
       "      <td>4012</td>\n",
       "      <td>39</td>\n",
       "      <td>410</td>\n",
       "      <td>762</td>\n",
       "      <td>4877</td>\n",
       "      <td>288</td>\n",
       "    </tr>\n",
       "    <tr>\n",
       "      <th>4</th>\n",
       "      <td>1991</td>\n",
       "      <td>1</td>\n",
       "      <td>4.5</td>\n",
       "      <td>2177.0</td>\n",
       "      <td>96.000000</td>\n",
       "      <td>4</td>\n",
       "      <td>13</td>\n",
       "      <td>62</td>\n",
       "      <td>71</td>\n",
       "      <td>16</td>\n",
       "      <td>110</td>\n",
       "      <td>589</td>\n",
       "      <td>3310</td>\n",
       "      <td>1100</td>\n",
       "      <td>611</td>\n",
       "      <td>265</td>\n",
       "      <td>762</td>\n",
       "      <td>2868</td>\n",
       "      <td>405</td>\n",
       "    </tr>\n",
       "  </tbody>\n",
       "</table>\n",
       "</div>"
      ],
      "text/plain": [
       "   year  kind  rating     vote    runtime  genre1  genre2  country1  country2  \\\n",
       "0  2003     2     7.7    474.0  50.000000       6       2        62        71   \n",
       "1  1994     7     8.1     18.0  83.000000       8      27        62        71   \n",
       "2  1992     1     5.5     93.0  96.828211       0      20        37        71   \n",
       "3  2004     1     5.3  13432.0  60.000000       6       4        62        71   \n",
       "4  1991     1     4.5   2177.0  96.000000       4      13        62        71   \n",
       "\n",
       "   language1  language2  cast1  cast2  director1  director2  composer1  \\\n",
       "0         16        110    817   4941       3923        611       2512   \n",
       "1         16        110   3598    381       3659        611       2512   \n",
       "2         33        110   2472   1621       4067        611        354   \n",
       "3         16         37   3014   1499       4012         39        410   \n",
       "4         16        110    589   3310       1100        611        265   \n",
       "\n",
       "   composer2  writer1  writer2  \n",
       "0        762     3299     2469  \n",
       "1        762     4765     3786  \n",
       "2        762     2582     1672  \n",
       "3        762     4877      288  \n",
       "4        762     2868      405  "
      ]
     },
     "execution_count": 4,
     "metadata": {},
     "output_type": "execute_result"
    }
   ],
   "source": [
    "df.head()"
   ]
  },
  {
   "cell_type": "code",
   "execution_count": 5,
   "id": "ac160ab1",
   "metadata": {},
   "outputs": [
    {
     "data": {
      "text/html": [
       "<div>\n",
       "<style scoped>\n",
       "    .dataframe tbody tr th:only-of-type {\n",
       "        vertical-align: middle;\n",
       "    }\n",
       "\n",
       "    .dataframe tbody tr th {\n",
       "        vertical-align: top;\n",
       "    }\n",
       "\n",
       "    .dataframe thead th {\n",
       "        text-align: right;\n",
       "    }\n",
       "</style>\n",
       "<table border=\"1\" class=\"dataframe\">\n",
       "  <thead>\n",
       "    <tr style=\"text-align: right;\">\n",
       "      <th></th>\n",
       "      <th>year</th>\n",
       "      <th>kind</th>\n",
       "      <th>rating</th>\n",
       "      <th>vote</th>\n",
       "      <th>runtime</th>\n",
       "      <th>genre1</th>\n",
       "      <th>genre2</th>\n",
       "      <th>country1</th>\n",
       "      <th>country2</th>\n",
       "      <th>language1</th>\n",
       "      <th>language2</th>\n",
       "      <th>cast1</th>\n",
       "      <th>cast2</th>\n",
       "      <th>director1</th>\n",
       "      <th>director2</th>\n",
       "      <th>composer1</th>\n",
       "      <th>composer2</th>\n",
       "      <th>writer1</th>\n",
       "      <th>writer2</th>\n",
       "    </tr>\n",
       "  </thead>\n",
       "  <tbody>\n",
       "  </tbody>\n",
       "</table>\n",
       "</div>"
      ],
      "text/plain": [
       "Empty DataFrame\n",
       "Columns: [year, kind, rating, vote, runtime, genre1, genre2, country1, country2, language1, language2, cast1, cast2, director1, director2, composer1, composer2, writer1, writer2]\n",
       "Index: []"
      ]
     },
     "execution_count": 5,
     "metadata": {},
     "output_type": "execute_result"
    }
   ],
   "source": [
    "df[df['rating']>9.5]"
   ]
  },
  {
   "cell_type": "code",
   "execution_count": 6,
   "id": "3d6160f5",
   "metadata": {},
   "outputs": [
    {
     "data": {
      "text/plain": [
       "year           int64\n",
       "kind           int64\n",
       "rating       float64\n",
       "vote         float64\n",
       "runtime      float64\n",
       "genre1         int64\n",
       "genre2         int64\n",
       "country1       int64\n",
       "country2       int64\n",
       "language1      int64\n",
       "language2      int64\n",
       "cast1          int64\n",
       "cast2          int64\n",
       "director1      int64\n",
       "director2      int64\n",
       "composer1      int64\n",
       "composer2      int64\n",
       "writer1        int64\n",
       "writer2        int64\n",
       "dtype: object"
      ]
     },
     "execution_count": 6,
     "metadata": {},
     "output_type": "execute_result"
    }
   ],
   "source": [
    "df.dtypes"
   ]
  },
  {
   "cell_type": "code",
   "execution_count": 7,
   "id": "f6fa6dc9",
   "metadata": {},
   "outputs": [],
   "source": [
    "target='rating'"
   ]
  },
  {
   "cell_type": "code",
   "execution_count": 8,
   "id": "5488c324",
   "metadata": {},
   "outputs": [],
   "source": [
    "x=df.drop(columns=target)\n",
    "#x=df_enc.drop(index=[712],columns='survived')\n",
    "#x_check=titanic_enc.tail(1).drop(columns='survived')\n",
    "y=round(df[target]).astype(int)"
   ]
  },
  {
   "cell_type": "code",
   "execution_count": 9,
   "id": "e45efcb1",
   "metadata": {},
   "outputs": [
    {
     "data": {
      "text/plain": [
       "0       8\n",
       "1       8\n",
       "2       6\n",
       "3       5\n",
       "4       4\n",
       "       ..\n",
       "8063    4\n",
       "8064    6\n",
       "8065    5\n",
       "8066    6\n",
       "8067    8\n",
       "Name: rating, Length: 8068, dtype: int32"
      ]
     },
     "execution_count": 9,
     "metadata": {},
     "output_type": "execute_result"
    }
   ],
   "source": [
    "y"
   ]
  },
  {
   "cell_type": "code",
   "execution_count": 126,
   "id": "0afe2f8a",
   "metadata": {},
   "outputs": [
    {
     "data": {
      "text/plain": [
       "(array([  45.,  132.,  395.,    0.,  703., 1910.,    0., 2530., 2081.,\n",
       "         272.]),\n",
       " array([2. , 2.7, 3.4, 4.1, 4.8, 5.5, 6.2, 6.9, 7.6, 8.3, 9. ]),\n",
       " <BarContainer object of 10 artists>)"
      ]
     },
     "execution_count": 126,
     "metadata": {},
     "output_type": "execute_result"
    },
    {
     "data": {
      "image/png": "[encoded data removed]",
      "text/plain": [
       "<Figure size 432x288 with 1 Axes>"
      ]
     },
     "metadata": {
      "needs_background": "light"
     },
     "output_type": "display_data"
    }
   ],
   "source": [
    "plt.hist(y)"
   ]
  },
  {
   "cell_type": "code",
   "execution_count": 10,
   "id": "e7cbe097",
   "metadata": {},
   "outputs": [],
   "source": [
    "from sklearn.feature_selection import RFE\n",
    "from sklearn.ensemble import RandomForestClassifier"
   ]
  },
  {
   "cell_type": "code",
   "execution_count": 11,
   "id": "397963f9",
   "metadata": {},
   "outputs": [
    {
     "data": {
      "text/plain": [
       "0    8\n",
       "1    8\n",
       "2    6\n",
       "3    5\n",
       "4    4\n",
       "Name: rating, dtype: int32"
      ]
     },
     "execution_count": 11,
     "metadata": {},
     "output_type": "execute_result"
    }
   ],
   "source": [
    "y.head()"
   ]
  },
  {
   "cell_type": "code",
   "execution_count": 13,
   "id": "3fffbcfb",
   "metadata": {},
   "outputs": [
    {
     "name": "stdout",
     "output_type": "stream",
     "text": [
      "Fitting estimator with 18 features.\n",
      "Fitting estimator with 17 features.\n",
      "Fitting estimator with 16 features.\n",
      "Fitting estimator with 15 features.\n",
      "Fitting estimator with 14 features.\n",
      "Fitting estimator with 13 features.\n",
      "Fitting estimator with 12 features.\n",
      "Fitting estimator with 11 features.\n",
      "Fitting estimator with 10 features.\n",
      "Fitting estimator with 9 features.\n",
      "Fitting estimator with 8 features.\n",
      "Fitting estimator with 7 features.\n",
      "Fitting estimator with 6 features.\n"
     ]
    }
   ],
   "source": [
    "#METHOD 1:\n",
    "rfe_selector = RFE(estimator=RandomForestClassifier(),n_features_to_select = 5 , step = 1, verbose=1)\n",
    "m=rfe_selector.fit(x, y)"
   ]
  },
  {
   "cell_type": "code",
   "execution_count": 14,
   "id": "bdf831c0",
   "metadata": {},
   "outputs": [
    {
     "name": "stdout",
     "output_type": "stream",
     "text": [
      "Num Features: 5\n",
      "Selected Features: [False False  True False False False False False False False  True  True\n",
      "  True False False False  True False]\n",
      "Feature Ranking: [ 3  9  1  2  6  7  8 11 10 12  1  1  1 14  4 13  1  5]\n"
     ]
    }
   ],
   "source": [
    "x.columns[m.get_support()]\n",
    "print(\"Num Features: %s\" % (m.n_features_))\n",
    "print(\"Selected Features: %s\" % (m.support_))\n",
    "print(\"Feature Ranking: %s\" % (m.ranking_))"
   ]
  },
  {
   "cell_type": "code",
   "execution_count": 146,
   "id": "b75b0c55",
   "metadata": {},
   "outputs": [
    {
     "data": {
      "text/plain": [
       "Index(['vote', 'cast1', 'cast2', 'director1', 'writer1'], dtype='object')"
      ]
     },
     "execution_count": 146,
     "metadata": {},
     "output_type": "execute_result"
    }
   ],
   "source": [
    "x.loc[:, m.support_].columns"
   ]
  },
  {
   "cell_type": "code",
   "execution_count": 12,
   "id": "8eed1027",
   "metadata": {},
   "outputs": [],
   "source": [
    "#METHOD 2:\n",
    "from sklearn.feature_selection import SelectFromModel\n",
    "SFM = SelectFromModel(estimator=RandomForestClassifier())\n",
    "s=SFM.fit(x, y)"
   ]
  },
  {
   "cell_type": "code",
   "execution_count": 13,
   "id": "9d6a4f81",
   "metadata": {},
   "outputs": [
    {
     "data": {
      "text/plain": [
       "9"
      ]
     },
     "execution_count": 13,
     "metadata": {},
     "output_type": "execute_result"
    }
   ],
   "source": [
    "n_features = s.transform(x).shape[1]\n",
    "n_features"
   ]
  },
  {
   "cell_type": "code",
   "execution_count": 14,
   "id": "3b83907e",
   "metadata": {},
   "outputs": [
    {
     "data": {
      "text/plain": [
       "Index(['year', 'vote', 'runtime', 'genre1', 'cast1', 'cast2', 'director1',\n",
       "       'composer1', 'writer1'],\n",
       "      dtype='object')"
      ]
     },
     "execution_count": 14,
     "metadata": {},
     "output_type": "execute_result"
    }
   ],
   "source": [
    "feature_idx = s.get_support()\n",
    "feature_name = x.columns[feature_idx]\n",
    "feature_name "
   ]
  },
  {
   "cell_type": "code",
   "execution_count": 150,
   "id": "378bb48b",
   "metadata": {},
   "outputs": [],
   "source": [
    "#METHOD 3:\n",
    "from sklearn.feature_selection import RFECV"
   ]
  },
  {
   "cell_type": "code",
   "execution_count": 151,
   "id": "d57fc9e1",
   "metadata": {},
   "outputs": [
    {
     "data": {
      "text/plain": [
       "7    2530\n",
       "8    2081\n",
       "6    1910\n",
       "5     703\n",
       "4     395\n",
       "9     272\n",
       "3     132\n",
       "2      45\n",
       "Name: rating, dtype: int64"
      ]
     },
     "execution_count": 151,
     "metadata": {},
     "output_type": "execute_result"
    }
   ],
   "source": [
    "y.value_counts()"
   ]
  },
  {
   "cell_type": "code",
   "execution_count": 155,
   "id": "8e8b2d6d",
   "metadata": {},
   "outputs": [],
   "source": [
    "rfecv = RFECV(\n",
    "    estimator=RandomForestClassifier(),\n",
    "    min_features_to_select=2,\n",
    "    step=5,\n",
    "    n_jobs=-1, #multiprocessing: -1: use all available processor\n",
    "    scoring=\"r2\",\n",
    "    cv=5,\n",
    "    verbose=1\n",
    ")"
   ]
  },
  {
   "cell_type": "code",
   "execution_count": 156,
   "id": "65642858",
   "metadata": {},
   "outputs": [
    {
     "data": {
      "text/plain": [
       "count    8068.000000\n",
       "mean        6.674145\n",
       "std         1.309174\n",
       "min         2.000000\n",
       "25%         6.000000\n",
       "50%         7.000000\n",
       "75%         8.000000\n",
       "max         9.000000\n",
       "Name: rating, dtype: float64"
      ]
     },
     "execution_count": 156,
     "metadata": {},
     "output_type": "execute_result"
    }
   ],
   "source": [
    "y.describe()"
   ]
  },
  {
   "cell_type": "code",
   "execution_count": 157,
   "id": "eecf91c4",
   "metadata": {},
   "outputs": [],
   "source": [
    "m= rfecv.fit(x, y)"
   ]
  },
  {
   "cell_type": "code",
   "execution_count": 158,
   "id": "90716c53",
   "metadata": {},
   "outputs": [
    {
     "data": {
      "text/plain": [
       "18"
      ]
     },
     "execution_count": 158,
     "metadata": {},
     "output_type": "execute_result"
    }
   ],
   "source": [
    "len(x.columns[rfecv.support_])"
   ]
  },
  {
   "cell_type": "code",
   "execution_count": 159,
   "id": "69d653df",
   "metadata": {},
   "outputs": [
    {
     "data": {
      "text/plain": [
       "Index(['year', 'kind', 'vote', 'runtime', 'genre1', 'genre2', 'country1',\n",
       "       'country2', 'language1', 'language2', 'cast1', 'cast2', 'director1',\n",
       "       'director2', 'composer1', 'composer2', 'writer1', 'writer2'],\n",
       "      dtype='object')"
      ]
     },
     "execution_count": 159,
     "metadata": {},
     "output_type": "execute_result"
    }
   ],
   "source": [
    "x.columns[rfecv.support_]"
   ]
  },
  {
   "cell_type": "code",
   "execution_count": null,
   "id": "bc9a63cf",
   "metadata": {},
   "outputs": [],
   "source": [
    "#We decide to work with 9 features suggested by SelectFromModel(estimator=RandomForestClassifier())"
   ]
  },
  {
   "cell_type": "code",
   "execution_count": 15,
   "id": "5d8cc59c",
   "metadata": {},
   "outputs": [
    {
     "data": {
      "text/plain": [
       "Index(['year', 'vote', 'runtime', 'genre1', 'cast1', 'cast2', 'director1',\n",
       "       'composer1', 'writer1'],\n",
       "      dtype='object')"
      ]
     },
     "execution_count": 15,
     "metadata": {},
     "output_type": "execute_result"
    }
   ],
   "source": [
    "feature_name "
   ]
  },
  {
   "cell_type": "code",
   "execution_count": 37,
   "id": "02625d7a",
   "metadata": {},
   "outputs": [],
   "source": [
    "x_featured={}\n",
    "for col in feature_name:\n",
    "    x_featured[col]=x[col]"
   ]
  },
  {
   "cell_type": "code",
   "execution_count": 79,
   "id": "44a119e9",
   "metadata": {},
   "outputs": [
    {
     "data": {
      "text/html": [
       "<div>\n",
       "<style scoped>\n",
       "    .dataframe tbody tr th:only-of-type {\n",
       "        vertical-align: middle;\n",
       "    }\n",
       "\n",
       "    .dataframe tbody tr th {\n",
       "        vertical-align: top;\n",
       "    }\n",
       "\n",
       "    .dataframe thead th {\n",
       "        text-align: right;\n",
       "    }\n",
       "</style>\n",
       "<table border=\"1\" class=\"dataframe\">\n",
       "  <thead>\n",
       "    <tr style=\"text-align: right;\">\n",
       "      <th></th>\n",
       "      <th>year</th>\n",
       "      <th>vote</th>\n",
       "      <th>runtime</th>\n",
       "      <th>genre1</th>\n",
       "      <th>cast1</th>\n",
       "      <th>cast2</th>\n",
       "      <th>director1</th>\n",
       "      <th>composer1</th>\n",
       "      <th>writer1</th>\n",
       "    </tr>\n",
       "  </thead>\n",
       "  <tbody>\n",
       "    <tr>\n",
       "      <th>0</th>\n",
       "      <td>2003</td>\n",
       "      <td>474.0</td>\n",
       "      <td>50.000000</td>\n",
       "      <td>6</td>\n",
       "      <td>817</td>\n",
       "      <td>4941</td>\n",
       "      <td>3923</td>\n",
       "      <td>2512</td>\n",
       "      <td>3299</td>\n",
       "    </tr>\n",
       "    <tr>\n",
       "      <th>1</th>\n",
       "      <td>1994</td>\n",
       "      <td>18.0</td>\n",
       "      <td>83.000000</td>\n",
       "      <td>8</td>\n",
       "      <td>3598</td>\n",
       "      <td>381</td>\n",
       "      <td>3659</td>\n",
       "      <td>2512</td>\n",
       "      <td>4765</td>\n",
       "    </tr>\n",
       "    <tr>\n",
       "      <th>2</th>\n",
       "      <td>1992</td>\n",
       "      <td>93.0</td>\n",
       "      <td>96.828211</td>\n",
       "      <td>0</td>\n",
       "      <td>2472</td>\n",
       "      <td>1621</td>\n",
       "      <td>4067</td>\n",
       "      <td>354</td>\n",
       "      <td>2582</td>\n",
       "    </tr>\n",
       "    <tr>\n",
       "      <th>3</th>\n",
       "      <td>2004</td>\n",
       "      <td>13432.0</td>\n",
       "      <td>60.000000</td>\n",
       "      <td>6</td>\n",
       "      <td>3014</td>\n",
       "      <td>1499</td>\n",
       "      <td>4012</td>\n",
       "      <td>410</td>\n",
       "      <td>4877</td>\n",
       "    </tr>\n",
       "    <tr>\n",
       "      <th>4</th>\n",
       "      <td>1991</td>\n",
       "      <td>2177.0</td>\n",
       "      <td>96.000000</td>\n",
       "      <td>4</td>\n",
       "      <td>589</td>\n",
       "      <td>3310</td>\n",
       "      <td>1100</td>\n",
       "      <td>265</td>\n",
       "      <td>2868</td>\n",
       "    </tr>\n",
       "    <tr>\n",
       "      <th>...</th>\n",
       "      <td>...</td>\n",
       "      <td>...</td>\n",
       "      <td>...</td>\n",
       "      <td>...</td>\n",
       "      <td>...</td>\n",
       "      <td>...</td>\n",
       "      <td>...</td>\n",
       "      <td>...</td>\n",
       "      <td>...</td>\n",
       "    </tr>\n",
       "    <tr>\n",
       "      <th>8063</th>\n",
       "      <td>1969</td>\n",
       "      <td>4384.0</td>\n",
       "      <td>96.828211</td>\n",
       "      <td>1</td>\n",
       "      <td>4627</td>\n",
       "      <td>2083</td>\n",
       "      <td>1541</td>\n",
       "      <td>1438</td>\n",
       "      <td>4309</td>\n",
       "    </tr>\n",
       "    <tr>\n",
       "      <th>8064</th>\n",
       "      <td>2005</td>\n",
       "      <td>44.0</td>\n",
       "      <td>96.083333</td>\n",
       "      <td>6</td>\n",
       "      <td>3794</td>\n",
       "      <td>1754</td>\n",
       "      <td>31</td>\n",
       "      <td>1641</td>\n",
       "      <td>31</td>\n",
       "    </tr>\n",
       "    <tr>\n",
       "      <th>8065</th>\n",
       "      <td>2001</td>\n",
       "      <td>2376.0</td>\n",
       "      <td>96.359350</td>\n",
       "      <td>19</td>\n",
       "      <td>1086</td>\n",
       "      <td>5126</td>\n",
       "      <td>2551</td>\n",
       "      <td>2086</td>\n",
       "      <td>2397</td>\n",
       "    </tr>\n",
       "    <tr>\n",
       "      <th>8066</th>\n",
       "      <td>2003</td>\n",
       "      <td>6501.0</td>\n",
       "      <td>96.828211</td>\n",
       "      <td>7</td>\n",
       "      <td>3391</td>\n",
       "      <td>3452</td>\n",
       "      <td>3261</td>\n",
       "      <td>2517</td>\n",
       "      <td>3441</td>\n",
       "    </tr>\n",
       "    <tr>\n",
       "      <th>8067</th>\n",
       "      <td>1987</td>\n",
       "      <td>386850.0</td>\n",
       "      <td>96.828211</td>\n",
       "      <td>0</td>\n",
       "      <td>320</td>\n",
       "      <td>741</td>\n",
       "      <td>1907</td>\n",
       "      <td>50</td>\n",
       "      <td>2177</td>\n",
       "    </tr>\n",
       "  </tbody>\n",
       "</table>\n",
       "<p>8068 rows × 9 columns</p>\n",
       "</div>"
      ],
      "text/plain": [
       "      year      vote    runtime  genre1  cast1  cast2  director1  composer1  \\\n",
       "0     2003     474.0  50.000000       6    817   4941       3923       2512   \n",
       "1     1994      18.0  83.000000       8   3598    381       3659       2512   \n",
       "2     1992      93.0  96.828211       0   2472   1621       4067        354   \n",
       "3     2004   13432.0  60.000000       6   3014   1499       4012        410   \n",
       "4     1991    2177.0  96.000000       4    589   3310       1100        265   \n",
       "...    ...       ...        ...     ...    ...    ...        ...        ...   \n",
       "8063  1969    4384.0  96.828211       1   4627   2083       1541       1438   \n",
       "8064  2005      44.0  96.083333       6   3794   1754         31       1641   \n",
       "8065  2001    2376.0  96.359350      19   1086   5126       2551       2086   \n",
       "8066  2003    6501.0  96.828211       7   3391   3452       3261       2517   \n",
       "8067  1987  386850.0  96.828211       0    320    741       1907         50   \n",
       "\n",
       "      writer1  \n",
       "0        3299  \n",
       "1        4765  \n",
       "2        2582  \n",
       "3        4877  \n",
       "4        2868  \n",
       "...       ...  \n",
       "8063     4309  \n",
       "8064       31  \n",
       "8065     2397  \n",
       "8066     3441  \n",
       "8067     2177  \n",
       "\n",
       "[8068 rows x 9 columns]"
      ]
     },
     "execution_count": 79,
     "metadata": {},
     "output_type": "execute_result"
    }
   ],
   "source": [
    "x_featured=pd.DataFrame(x_featured)\n",
    "x_featured\n",
    "x=x_featured\n",
    "x"
   ]
  },
  {
   "cell_type": "code",
   "execution_count": 84,
   "id": "c98c111c",
   "metadata": {},
   "outputs": [],
   "source": [
    "#TRAIN_TEST_SPLIT:\n",
    "from sklearn.model_selection import train_test_split"
   ]
  },
  {
   "cell_type": "code",
   "execution_count": 114,
   "id": "9096b54f",
   "metadata": {},
   "outputs": [],
   "source": [
    "x_train, x_test, y_train, y_test = train_test_split(x, y, test_size=0.2, random_state=5)"
   ]
  },
  {
   "cell_type": "code",
   "execution_count": 105,
   "id": "303afbac",
   "metadata": {},
   "outputs": [],
   "source": [
    "#Standardization of data\n",
    "sc = StandardScaler()\n",
    "x_train = sc.fit_transform(x_train)\n",
    "x_test = sc.transform(x_test)"
   ]
  },
  {
   "cell_type": "code",
   "execution_count": 107,
   "id": "8d005932",
   "metadata": {},
   "outputs": [
    {
     "data": {
      "text/html": [
       "<div>\n",
       "<style scoped>\n",
       "    .dataframe tbody tr th:only-of-type {\n",
       "        vertical-align: middle;\n",
       "    }\n",
       "\n",
       "    .dataframe tbody tr th {\n",
       "        vertical-align: top;\n",
       "    }\n",
       "\n",
       "    .dataframe thead th {\n",
       "        text-align: right;\n",
       "    }\n",
       "</style>\n",
       "<table border=\"1\" class=\"dataframe\">\n",
       "  <thead>\n",
       "    <tr style=\"text-align: right;\">\n",
       "      <th></th>\n",
       "      <th>0</th>\n",
       "      <th>1</th>\n",
       "      <th>2</th>\n",
       "      <th>3</th>\n",
       "      <th>4</th>\n",
       "      <th>5</th>\n",
       "      <th>6</th>\n",
       "      <th>7</th>\n",
       "      <th>8</th>\n",
       "    </tr>\n",
       "  </thead>\n",
       "  <tbody>\n",
       "    <tr>\n",
       "      <th>0</th>\n",
       "      <td>0.148397</td>\n",
       "      <td>0.865693</td>\n",
       "      <td>0.596209</td>\n",
       "      <td>0.345860</td>\n",
       "      <td>-0.419469</td>\n",
       "      <td>-0.343434</td>\n",
       "      <td>-0.094003</td>\n",
       "      <td>1.141528</td>\n",
       "      <td>-0.047072</td>\n",
       "    </tr>\n",
       "    <tr>\n",
       "      <th>1</th>\n",
       "      <td>-1.954172</td>\n",
       "      <td>-0.148090</td>\n",
       "      <td>-0.142681</td>\n",
       "      <td>-0.311501</td>\n",
       "      <td>-0.852950</td>\n",
       "      <td>-0.405036</td>\n",
       "      <td>0.402213</td>\n",
       "      <td>-1.100642</td>\n",
       "      <td>-1.412422</td>\n",
       "    </tr>\n",
       "    <tr>\n",
       "      <th>2</th>\n",
       "      <td>-1.072450</td>\n",
       "      <td>-0.151366</td>\n",
       "      <td>-0.019663</td>\n",
       "      <td>-0.530622</td>\n",
       "      <td>-0.980691</td>\n",
       "      <td>1.031000</td>\n",
       "      <td>-0.733449</td>\n",
       "      <td>0.996291</td>\n",
       "      <td>0.764446</td>\n",
       "    </tr>\n",
       "    <tr>\n",
       "      <th>3</th>\n",
       "      <td>-3.242843</td>\n",
       "      <td>0.285105</td>\n",
       "      <td>0.545251</td>\n",
       "      <td>0.345860</td>\n",
       "      <td>-0.627484</td>\n",
       "      <td>-1.093125</td>\n",
       "      <td>0.430389</td>\n",
       "      <td>-1.337102</td>\n",
       "      <td>1.279176</td>\n",
       "    </tr>\n",
       "    <tr>\n",
       "      <th>4</th>\n",
       "      <td>0.690995</td>\n",
       "      <td>-0.176822</td>\n",
       "      <td>-0.346513</td>\n",
       "      <td>0.126739</td>\n",
       "      <td>1.635551</td>\n",
       "      <td>1.137933</td>\n",
       "      <td>-1.581086</td>\n",
       "      <td>0.996291</td>\n",
       "      <td>0.229203</td>\n",
       "    </tr>\n",
       "    <tr>\n",
       "      <th>...</th>\n",
       "      <td>...</td>\n",
       "      <td>...</td>\n",
       "      <td>...</td>\n",
       "      <td>...</td>\n",
       "      <td>...</td>\n",
       "      <td>...</td>\n",
       "      <td>...</td>\n",
       "      <td>...</td>\n",
       "      <td>...</td>\n",
       "    </tr>\n",
       "    <tr>\n",
       "      <th>6449</th>\n",
       "      <td>0.419696</td>\n",
       "      <td>-0.199638</td>\n",
       "      <td>-0.575824</td>\n",
       "      <td>-0.092381</td>\n",
       "      <td>1.146926</td>\n",
       "      <td>0.073836</td>\n",
       "      <td>1.278810</td>\n",
       "      <td>-0.615718</td>\n",
       "      <td>0.500991</td>\n",
       "    </tr>\n",
       "    <tr>\n",
       "      <th>6450</th>\n",
       "      <td>0.284047</td>\n",
       "      <td>-0.204009</td>\n",
       "      <td>-0.015286</td>\n",
       "      <td>0.126739</td>\n",
       "      <td>1.559465</td>\n",
       "      <td>1.616224</td>\n",
       "      <td>1.240458</td>\n",
       "      <td>0.996291</td>\n",
       "      <td>1.270843</td>\n",
       "    </tr>\n",
       "    <tr>\n",
       "      <th>6451</th>\n",
       "      <td>0.351871</td>\n",
       "      <td>-0.189441</td>\n",
       "      <td>-0.193639</td>\n",
       "      <td>-0.968863</td>\n",
       "      <td>0.816754</td>\n",
       "      <td>0.621285</td>\n",
       "      <td>0.758330</td>\n",
       "      <td>-0.238823</td>\n",
       "      <td>0.770215</td>\n",
       "    </tr>\n",
       "    <tr>\n",
       "      <th>6452</th>\n",
       "      <td>-1.072450</td>\n",
       "      <td>-0.176964</td>\n",
       "      <td>-0.168160</td>\n",
       "      <td>0.345860</td>\n",
       "      <td>-0.822236</td>\n",
       "      <td>-1.341860</td>\n",
       "      <td>1.393080</td>\n",
       "      <td>0.996291</td>\n",
       "      <td>1.436224</td>\n",
       "    </tr>\n",
       "    <tr>\n",
       "      <th>6453</th>\n",
       "      <td>0.012747</td>\n",
       "      <td>-0.195739</td>\n",
       "      <td>-0.626782</td>\n",
       "      <td>-0.749742</td>\n",
       "      <td>-1.082604</td>\n",
       "      <td>-0.467220</td>\n",
       "      <td>0.266810</td>\n",
       "      <td>-0.898990</td>\n",
       "      <td>1.272766</td>\n",
       "    </tr>\n",
       "  </tbody>\n",
       "</table>\n",
       "<p>6454 rows × 9 columns</p>\n",
       "</div>"
      ],
      "text/plain": [
       "             0         1         2         3         4         5         6  \\\n",
       "0     0.148397  0.865693  0.596209  0.345860 -0.419469 -0.343434 -0.094003   \n",
       "1    -1.954172 -0.148090 -0.142681 -0.311501 -0.852950 -0.405036  0.402213   \n",
       "2    -1.072450 -0.151366 -0.019663 -0.530622 -0.980691  1.031000 -0.733449   \n",
       "3    -3.242843  0.285105  0.545251  0.345860 -0.627484 -1.093125  0.430389   \n",
       "4     0.690995 -0.176822 -0.346513  0.126739  1.635551  1.137933 -1.581086   \n",
       "...        ...       ...       ...       ...       ...       ...       ...   \n",
       "6449  0.419696 -0.199638 -0.575824 -0.092381  1.146926  0.073836  1.278810   \n",
       "6450  0.284047 -0.204009 -0.015286  0.126739  1.559465  1.616224  1.240458   \n",
       "6451  0.351871 -0.189441 -0.193639 -0.968863  0.816754  0.621285  0.758330   \n",
       "6452 -1.072450 -0.176964 -0.168160  0.345860 -0.822236 -1.341860  1.393080   \n",
       "6453  0.012747 -0.195739 -0.626782 -0.749742 -1.082604 -0.467220  0.266810   \n",
       "\n",
       "             7         8  \n",
       "0     1.141528 -0.047072  \n",
       "1    -1.100642 -1.412422  \n",
       "2     0.996291  0.764446  \n",
       "3    -1.337102  1.279176  \n",
       "4     0.996291  0.229203  \n",
       "...        ...       ...  \n",
       "6449 -0.615718  0.500991  \n",
       "6450  0.996291  1.270843  \n",
       "6451 -0.238823  0.770215  \n",
       "6452  0.996291  1.436224  \n",
       "6453 -0.898990  1.272766  \n",
       "\n",
       "[6454 rows x 9 columns]"
      ]
     },
     "execution_count": 107,
     "metadata": {},
     "output_type": "execute_result"
    }
   ],
   "source": [
    "check=pd.DataFrame(x_train)\n",
    "check"
   ]
  },
  {
   "cell_type": "code",
   "execution_count": 119,
   "id": "2ccb20bb",
   "metadata": {},
   "outputs": [
    {
     "data": {
      "text/html": [
       "<div>\n",
       "<style scoped>\n",
       "    .dataframe tbody tr th:only-of-type {\n",
       "        vertical-align: middle;\n",
       "    }\n",
       "\n",
       "    .dataframe tbody tr th {\n",
       "        vertical-align: top;\n",
       "    }\n",
       "\n",
       "    .dataframe thead th {\n",
       "        text-align: right;\n",
       "    }\n",
       "</style>\n",
       "<table border=\"1\" class=\"dataframe\">\n",
       "  <thead>\n",
       "    <tr style=\"text-align: right;\">\n",
       "      <th></th>\n",
       "      <th>year</th>\n",
       "      <th>vote</th>\n",
       "      <th>runtime</th>\n",
       "      <th>genre1</th>\n",
       "      <th>cast1</th>\n",
       "      <th>cast2</th>\n",
       "      <th>director1</th>\n",
       "      <th>composer1</th>\n",
       "      <th>writer1</th>\n",
       "    </tr>\n",
       "  </thead>\n",
       "  <tbody>\n",
       "    <tr>\n",
       "      <th>1500</th>\n",
       "      <td>1994</td>\n",
       "      <td>97756.0</td>\n",
       "      <td>121.000000</td>\n",
       "      <td>7</td>\n",
       "      <td>1868</td>\n",
       "      <td>2399</td>\n",
       "      <td>2218</td>\n",
       "      <td>2633</td>\n",
       "      <td>2709</td>\n",
       "    </tr>\n",
       "    <tr>\n",
       "      <th>2610</th>\n",
       "      <td>1963</td>\n",
       "      <td>5204.0</td>\n",
       "      <td>92.000000</td>\n",
       "      <td>4</td>\n",
       "      <td>1247</td>\n",
       "      <td>2293</td>\n",
       "      <td>2852</td>\n",
       "      <td>765</td>\n",
       "      <td>579</td>\n",
       "    </tr>\n",
       "    <tr>\n",
       "      <th>7089</th>\n",
       "      <td>1976</td>\n",
       "      <td>4905.0</td>\n",
       "      <td>96.828211</td>\n",
       "      <td>3</td>\n",
       "      <td>1064</td>\n",
       "      <td>4764</td>\n",
       "      <td>1401</td>\n",
       "      <td>2512</td>\n",
       "      <td>3975</td>\n",
       "    </tr>\n",
       "    <tr>\n",
       "      <th>6634</th>\n",
       "      <td>1944</td>\n",
       "      <td>44752.0</td>\n",
       "      <td>119.000000</td>\n",
       "      <td>7</td>\n",
       "      <td>1570</td>\n",
       "      <td>1109</td>\n",
       "      <td>2888</td>\n",
       "      <td>568</td>\n",
       "      <td>4778</td>\n",
       "    </tr>\n",
       "    <tr>\n",
       "      <th>254</th>\n",
       "      <td>2002</td>\n",
       "      <td>2581.0</td>\n",
       "      <td>84.000000</td>\n",
       "      <td>6</td>\n",
       "      <td>4812</td>\n",
       "      <td>4948</td>\n",
       "      <td>318</td>\n",
       "      <td>2512</td>\n",
       "      <td>3140</td>\n",
       "    </tr>\n",
       "  </tbody>\n",
       "</table>\n",
       "</div>"
      ],
      "text/plain": [
       "      year     vote     runtime  genre1  cast1  cast2  director1  composer1  \\\n",
       "1500  1994  97756.0  121.000000       7   1868   2399       2218       2633   \n",
       "2610  1963   5204.0   92.000000       4   1247   2293       2852        765   \n",
       "7089  1976   4905.0   96.828211       3   1064   4764       1401       2512   \n",
       "6634  1944  44752.0  119.000000       7   1570   1109       2888        568   \n",
       "254   2002   2581.0   84.000000       6   4812   4948        318       2512   \n",
       "\n",
       "      writer1  \n",
       "1500     2709  \n",
       "2610      579  \n",
       "7089     3975  \n",
       "6634     4778  \n",
       "254      3140  "
      ]
     },
     "execution_count": 119,
     "metadata": {},
     "output_type": "execute_result"
    }
   ],
   "source": [
    "x_train.head()"
   ]
  },
  {
   "cell_type": "code",
   "execution_count": 124,
   "id": "18ac697d",
   "metadata": {},
   "outputs": [
    {
     "data": {
      "text/plain": [
       "(array([6.37e+03, 4.70e+01, 1.80e+01, 5.00e+00, 7.00e+00, 1.00e+00,\n",
       "        2.00e+00, 2.00e+00, 0.00e+00, 2.00e+00]),\n",
       " array([-0.20503855,  2.49184444,  5.18872742,  7.88561041, 10.58249339,\n",
       "        13.27937638, 15.97625937, 18.67314235, 21.37002534, 24.06690832,\n",
       "        26.76379131]),\n",
       " <BarContainer object of 10 artists>)"
      ]
     },
     "execution_count": 124,
     "metadata": {},
     "output_type": "execute_result"
    },
    {
     "data": {
      "image/png": "[encoded data removed]",
      "text/plain": [
       "<Figure size 432x288 with 1 Axes>"
      ]
     },
     "metadata": {
      "needs_background": "light"
     },
     "output_type": "display_data"
    }
   ],
   "source": [
    "plt.hist(check[1])"
   ]
  },
  {
   "cell_type": "code",
   "execution_count": 125,
   "id": "426f06ae",
   "metadata": {},
   "outputs": [
    {
     "data": {
      "text/plain": [
       "(array([6.37e+03, 4.70e+01, 1.80e+01, 5.00e+00, 7.00e+00, 1.00e+00,\n",
       "        2.00e+00, 2.00e+00, 0.00e+00, 2.00e+00]),\n",
       " array([5.0000000e+00, 2.4621320e+05, 4.9242140e+05, 7.3862960e+05,\n",
       "        9.8483780e+05, 1.2310460e+06, 1.4772542e+06, 1.7234624e+06,\n",
       "        1.9696706e+06, 2.2158788e+06, 2.4620870e+06]),\n",
       " <BarContainer object of 10 artists>)"
      ]
     },
     "execution_count": 125,
     "metadata": {},
     "output_type": "execute_result"
    },
    {
     "data": {
      "image/png": "[encoded data removed]",
      "text/plain": [
       "<Figure size 432x288 with 1 Axes>"
      ]
     },
     "metadata": {
      "needs_background": "light"
     },
     "output_type": "display_data"
    }
   ],
   "source": [
    "plt.hist(x_train['vote'])"
   ]
  },
  {
   "cell_type": "code",
   "execution_count": 86,
   "id": "968a015c",
   "metadata": {},
   "outputs": [],
   "source": [
    "#Standardization of data\n",
    "from sklearn.preprocessing import RobustScaler\n",
    "rs = RobustScaler()\n",
    "x_train = rs.fit_transform(x_train)\n",
    "x_test = rs.transform(x_test)"
   ]
  },
  {
   "cell_type": "code",
   "execution_count": null,
   "id": "06b3a09c",
   "metadata": {},
   "outputs": [],
   "source": []
  },
  {
   "cell_type": "code",
   "execution_count": 87,
   "id": "b2bda2ff",
   "metadata": {},
   "outputs": [],
   "source": [
    "#Standardization of data\n",
    "from sklearn.preprocessing import RobustScaler\n",
    "rs = RobustScaler()\n",
    "x_train = rs.fit_transform(x_train)\n",
    "x_test = rs.transform(x_test)"
   ]
  },
  {
   "cell_type": "code",
   "execution_count": 88,
   "id": "3c407f96",
   "metadata": {},
   "outputs": [],
   "source": [
    "from sklearn.metrics import classification_report\n",
    "from sklearn.metrics import confusion_matrix\n",
    "def generate_results(model, predictions, name):\n",
    "    cl_rep = classification_report(y_test, predictions)\n",
    "    print(\"\\nThe classification report for \" + name + \" is:\", cl_rep, sep = \"\\n\")\n",
    "    cm_model = confusion_matrix(y_test, predictions)\n",
    "    plt.figure(figsize = (8, 6))\n",
    "    sns.heatmap(cm_model, annot = True, cmap = 'Blues', annot_kws = {'size': 15}, square = True)\n",
    "    plt.title('Confusion Matrix for ' + name, size = 15)\n",
    "    plt.xticks(size = 15)\n",
    "    plt.yticks(size = 15)\n",
    "    plt.show() "
   ]
  },
  {
   "cell_type": "code",
   "execution_count": 89,
   "id": "c0c46d5b",
   "metadata": {},
   "outputs": [
    {
     "data": {
      "text/plain": [
       "0       8\n",
       "1       8\n",
       "2       6\n",
       "3       5\n",
       "4       4\n",
       "       ..\n",
       "8063    4\n",
       "8064    6\n",
       "8065    5\n",
       "8066    6\n",
       "8067    8\n",
       "Name: rating, Length: 8068, dtype: int32"
      ]
     },
     "execution_count": 89,
     "metadata": {},
     "output_type": "execute_result"
    }
   ],
   "source": [
    "y"
   ]
  },
  {
   "cell_type": "code",
   "execution_count": 44,
   "id": "f2916564",
   "metadata": {},
   "outputs": [
    {
     "data": {
      "text/plain": [
       "(array([  45.,  132.,  395.,    0.,  703., 1910.,    0., 2530., 2081.,\n",
       "         272.]),\n",
       " array([2. , 2.7, 3.4, 4.1, 4.8, 5.5, 6.2, 6.9, 7.6, 8.3, 9. ]),\n",
       " <BarContainer object of 10 artists>)"
      ]
     },
     "execution_count": 44,
     "metadata": {},
     "output_type": "execute_result"
    },
    {
     "data": {
      "image/png": "[encoded data removed]",
      "text/plain": [
       "<Figure size 432x288 with 1 Axes>"
      ]
     },
     "metadata": {
      "needs_background": "light"
     },
     "output_type": "display_data"
    }
   ],
   "source": [
    "plt.hist(y)"
   ]
  },
  {
   "cell_type": "code",
   "execution_count": 45,
   "id": "5ad9a84d",
   "metadata": {},
   "outputs": [],
   "source": [
    "#HYPERPARAMETER TUNING\n",
    "#METHOD 1 GRID SEARCH :"
   ]
  },
  {
   "cell_type": "code",
   "execution_count": 46,
   "id": "522f07dd",
   "metadata": {},
   "outputs": [],
   "source": [
    "from sklearn.svm import NuSVC"
   ]
  },
  {
   "cell_type": "code",
   "execution_count": 47,
   "id": "831056a8",
   "metadata": {},
   "outputs": [
    {
     "data": {
      "text/plain": [
       "array([0.2, 0.3, 0.4, 0.5, 0.6, 0.7, 0.8, 0.9])"
      ]
     },
     "execution_count": 47,
     "metadata": {},
     "output_type": "execute_result"
    }
   ],
   "source": [
    "np.arange(0.2,1,0.1)"
   ]
  },
  {
   "cell_type": "code",
   "execution_count": 48,
   "id": "1f3da7c1",
   "metadata": {},
   "outputs": [
    {
     "data": {
      "text/plain": [
       "Pipeline(steps=[('standardscaler', StandardScaler()),\n",
       "                ('nusvc', NuSVC(nu=0.008))])"
      ]
     },
     "execution_count": 48,
     "metadata": {},
     "output_type": "execute_result"
    }
   ],
   "source": [
    "from sklearn.pipeline import make_pipeline\n",
    "from sklearn.preprocessing import StandardScaler\n",
    "from sklearn.svm import NuSVC\n",
    "clf = make_pipeline(StandardScaler(), NuSVC(nu=0.008))\n",
    "clf.fit(x_train,y_train)"
   ]
  },
  {
   "cell_type": "code",
   "execution_count": 49,
   "id": "18fb60f1",
   "metadata": {},
   "outputs": [
    {
     "data": {
      "text/plain": [
       "array([6, 7, 7, ..., 6, 7, 6])"
      ]
     },
     "execution_count": 49,
     "metadata": {},
     "output_type": "execute_result"
    }
   ],
   "source": [
    "clf.predict(x_train)"
   ]
  },
  {
   "cell_type": "code",
   "execution_count": 50,
   "id": "bc9fbce9",
   "metadata": {},
   "outputs": [
    {
     "data": {
      "text/plain": [
       "0.2707558859975217"
      ]
     },
     "execution_count": 50,
     "metadata": {},
     "output_type": "execute_result"
    }
   ],
   "source": [
    "clf.score(x_test,y_test)"
   ]
  },
  {
   "cell_type": "code",
   "execution_count": 51,
   "id": "ee48f789",
   "metadata": {},
   "outputs": [
    {
     "data": {
      "text/plain": [
       "Pipeline(steps=[('standardscaler', StandardScaler()),\n",
       "                ('nusvc', NuSVC(nu=0.005))])"
      ]
     },
     "execution_count": 51,
     "metadata": {},
     "output_type": "execute_result"
    }
   ],
   "source": [
    "from sklearn.pipeline import make_pipeline\n",
    "from sklearn.preprocessing import StandardScaler\n",
    "from sklearn.svm import NuSVC\n",
    "clf = make_pipeline(StandardScaler(), NuSVC(nu=0.005))\n",
    "clf.fit(x_train,y_train)"
   ]
  },
  {
   "cell_type": "code",
   "execution_count": 52,
   "id": "509d3dd6",
   "metadata": {},
   "outputs": [
    {
     "name": "stdout",
     "output_type": "stream",
     "text": [
      "Fitting 5 folds for each of 9 candidates, totalling 45 fits\n"
     ]
    },
    {
     "data": {
      "text/plain": [
       "GridSearchCV(cv=5, error_score='raise', estimator=NuSVC(), n_jobs=-1,\n",
       "             param_grid={'nu': array([0.001, 0.002, 0.003, 0.004, 0.005, 0.006, 0.007, 0.008, 0.009])},\n",
       "             scoring='accuracy', verbose=1)"
      ]
     },
     "execution_count": 52,
     "metadata": {},
     "output_type": "execute_result"
    }
   ],
   "source": [
    "from sklearn.model_selection import GridSearchCV, RandomizedSearchCV\n",
    "grid_search = GridSearchCV(NuSVC(), #take a model like RFC responsible for searching\n",
    "                           {\n",
    "                              'nu':np.arange(0.001,0.01,0.001)\n",
    "                            \n",
    "                            },error_score=\"raise\", cv=5, scoring=\"accuracy\",verbose=1,n_jobs=-1 #my goal is Accuracy , we want verbosity for more details\n",
    "                           ) #cv = crossvalidation, how many folds you want\n",
    "grid_search.fit(x_train,y_train)"
   ]
  },
  {
   "cell_type": "code",
   "execution_count": 53,
   "id": "2aeff781",
   "metadata": {},
   "outputs": [
    {
     "data": {
      "text/plain": [
       "{'nu': 0.008}"
      ]
     },
     "execution_count": 53,
     "metadata": {},
     "output_type": "execute_result"
    }
   ],
   "source": [
    "grid_search.best_params_"
   ]
  },
  {
   "cell_type": "code",
   "execution_count": 54,
   "id": "37d3e5e5",
   "metadata": {},
   "outputs": [
    {
     "data": {
      "text/plain": [
       "0.1468855943652838"
      ]
     },
     "execution_count": 54,
     "metadata": {},
     "output_type": "execute_result"
    }
   ],
   "source": [
    "grid_search.best_score_"
   ]
  },
  {
   "cell_type": "code",
   "execution_count": 55,
   "id": "23af7b0a",
   "metadata": {},
   "outputs": [
    {
     "name": "stderr",
     "output_type": "stream",
     "text": [
      "C:\\Users\\Michel\\anaconda3\\lib\\site-packages\\sklearn\\model_selection\\_search.py:285: UserWarning: The total space of parameters 9 is smaller than n_iter=10. Running 9 iterations. For exhaustive searches, use GridSearchCV.\n",
      "  warnings.warn(\n"
     ]
    },
    {
     "name": "stdout",
     "output_type": "stream",
     "text": [
      "Fitting 5 folds for each of 9 candidates, totalling 45 fits\n"
     ]
    },
    {
     "data": {
      "text/plain": [
       "RandomizedSearchCV(cv=5, error_score='raise', estimator=NuSVC(), n_jobs=-1,\n",
       "                   param_distributions={'nu': array([0.001, 0.002, 0.003, 0.004, 0.005, 0.006, 0.007, 0.008, 0.009])},\n",
       "                   scoring='accuracy', verbose=1)"
      ]
     },
     "execution_count": 55,
     "metadata": {},
     "output_type": "execute_result"
    }
   ],
   "source": [
    "rand_search = RandomizedSearchCV(NuSVC(),\n",
    "                           {\n",
    "                              'nu':np.arange(0.001,0.01,0.001)\n",
    "                            \n",
    "                            },error_score=\"raise\",cv=5, scoring=\"accuracy\",verbose=1,n_jobs=-1\n",
    "                           )\n",
    "rand_search.fit(x_train,y_train)\n"
   ]
  },
  {
   "cell_type": "code",
   "execution_count": 56,
   "id": "95adcf29",
   "metadata": {},
   "outputs": [
    {
     "data": {
      "text/plain": [
       "{'nu': 0.008}"
      ]
     },
     "execution_count": 56,
     "metadata": {},
     "output_type": "execute_result"
    }
   ],
   "source": [
    "rand_search.best_params_"
   ]
  },
  {
   "cell_type": "code",
   "execution_count": 57,
   "id": "9868b7d6",
   "metadata": {},
   "outputs": [
    {
     "data": {
      "text/plain": [
       "0.1468855943652838"
      ]
     },
     "execution_count": 57,
     "metadata": {},
     "output_type": "execute_result"
    }
   ],
   "source": [
    "rand_search.best_score_"
   ]
  },
  {
   "cell_type": "code",
   "execution_count": 58,
   "id": "62d68d35",
   "metadata": {},
   "outputs": [],
   "source": [
    "from sklearn.metrics import classification_report\n",
    "from sklearn.metrics import confusion_matrix\n",
    "def generate_results(model, predictions, name):\n",
    "    cl_rep = classification_report(y_test, predictions)\n",
    "    print(\"\\nThe classification report for \" + name + \" is:\", cl_rep, sep = \"\\n\")\n",
    "    cm_model = confusion_matrix(y_test, predictions)\n",
    "    plt.figure(figsize = (8, 6))\n",
    "    sns.heatmap(cm_model, annot = True, cmap = 'Blues', annot_kws = {'size': 15}, square = True)\n",
    "    plt.title('Confusion Matrix for ' + name, size = 15)\n",
    "    plt.xticks(size = 15)\n",
    "    plt.yticks(size = 15)\n",
    "    plt.show() "
   ]
  },
  {
   "cell_type": "code",
   "execution_count": 59,
   "id": "402abeab",
   "metadata": {},
   "outputs": [],
   "source": [
    "#CHOICE OF MODEL : "
   ]
  },
  {
   "cell_type": "code",
   "execution_count": 60,
   "id": "f9babd8d",
   "metadata": {},
   "outputs": [
    {
     "data": {
      "text/plain": [
       "NuSVC(nu=0.005)"
      ]
     },
     "execution_count": 60,
     "metadata": {},
     "output_type": "execute_result"
    }
   ],
   "source": [
    "nusvc = NuSVC(nu=0.005)\n",
    "nusvc.fit(x_train,y_train)"
   ]
  },
  {
   "cell_type": "code",
   "execution_count": 61,
   "id": "6ae2e473",
   "metadata": {},
   "outputs": [
    {
     "data": {
      "text/plain": [
       "array([6, 8, 2, ..., 8, 8, 6])"
      ]
     },
     "execution_count": 61,
     "metadata": {},
     "output_type": "execute_result"
    }
   ],
   "source": [
    "y_pred=nusvc.predict(x_test)\n",
    "y_pred"
   ]
  },
  {
   "cell_type": "code",
   "execution_count": 62,
   "id": "f33b6d38",
   "metadata": {},
   "outputs": [
    {
     "data": {
      "text/plain": [
       "0.15861214374225527"
      ]
     },
     "execution_count": 62,
     "metadata": {},
     "output_type": "execute_result"
    }
   ],
   "source": [
    "acc_nusvc=nusvc.score(x_test,y_test)\n",
    "acc_nusvc"
   ]
  },
  {
   "cell_type": "code",
   "execution_count": 63,
   "id": "912cadc1",
   "metadata": {},
   "outputs": [
    {
     "name": "stdout",
     "output_type": "stream",
     "text": [
      "The accuracy of the NuSVC is: 15.861214374225527 %\n",
      "\n",
      "The classification report for NUSVC is:\n",
      "              precision    recall  f1-score   support\n",
      "\n",
      "           2       0.01      0.40      0.02        10\n",
      "           3       0.00      0.00      0.00        24\n",
      "           4       0.02      0.02      0.02        86\n",
      "           5       0.00      0.00      0.00       135\n",
      "           6       0.25      0.45      0.32       382\n",
      "           7       0.40      0.00      0.01       504\n",
      "           8       0.22      0.18      0.20       424\n",
      "           9       0.00      0.00      0.00        49\n",
      "\n",
      "    accuracy                           0.16      1614\n",
      "   macro avg       0.11      0.13      0.07      1614\n",
      "weighted avg       0.24      0.16      0.13      1614\n",
      "\n"
     ]
    },
    {
     "name": "stderr",
     "output_type": "stream",
     "text": [
      "C:\\Users\\Michel\\anaconda3\\lib\\site-packages\\sklearn\\metrics\\_classification.py:1245: UndefinedMetricWarning: Precision and F-score are ill-defined and being set to 0.0 in labels with no predicted samples. Use `zero_division` parameter to control this behavior.\n",
      "  _warn_prf(average, modifier, msg_start, len(result))\n",
      "C:\\Users\\Michel\\anaconda3\\lib\\site-packages\\sklearn\\metrics\\_classification.py:1245: UndefinedMetricWarning: Precision and F-score are ill-defined and being set to 0.0 in labels with no predicted samples. Use `zero_division` parameter to control this behavior.\n",
      "  _warn_prf(average, modifier, msg_start, len(result))\n",
      "C:\\Users\\Michel\\anaconda3\\lib\\site-packages\\sklearn\\metrics\\_classification.py:1245: UndefinedMetricWarning: Precision and F-score are ill-defined and being set to 0.0 in labels with no predicted samples. Use `zero_division` parameter to control this behavior.\n",
      "  _warn_prf(average, modifier, msg_start, len(result))\n"
     ]
    },
    {
     "data": {
      "image/png": "[encoded data removed]",
      "text/plain": [
       "<Figure size 576x432 with 2 Axes>"
      ]
     },
     "metadata": {
      "needs_background": "light"
     },
     "output_type": "display_data"
    }
   ],
   "source": [
    "print('The accuracy of the NuSVC is:', acc_nusvc * 100, '%')\n",
    "generate_results(acc_nusvc, y_pred, 'NUSVC')"
   ]
  },
  {
   "cell_type": "code",
   "execution_count": 101,
   "id": "f6236072",
   "metadata": {},
   "outputs": [
    {
     "data": {
      "text/plain": [
       "AdaBoostClassifier(n_estimators=100, random_state=0)"
      ]
     },
     "execution_count": 101,
     "metadata": {},
     "output_type": "execute_result"
    }
   ],
   "source": [
    "from sklearn.ensemble import AdaBoostClassifier\n",
    "\n",
    "clf= AdaBoostClassifier(n_estimators=100, random_state=0)\n",
    "\n",
    "#n_estimator found thanks to hyperparameter tuning\n",
    "\n",
    "clf.fit(x,y)"
   ]
  },
  {
   "cell_type": "code",
   "execution_count": 102,
   "id": "c85ea0a3",
   "metadata": {},
   "outputs": [
    {
     "data": {
      "text/plain": [
       "0.26270136307311026"
      ]
     },
     "execution_count": 102,
     "metadata": {},
     "output_type": "execute_result"
    }
   ],
   "source": [
    "clf.score(x_test,y_test)"
   ]
  },
  {
   "cell_type": "code",
   "execution_count": 66,
   "id": "4fa0a2f4",
   "metadata": {},
   "outputs": [],
   "source": [
    "y_pred=clf.predict(x_test)"
   ]
  },
  {
   "cell_type": "code",
   "execution_count": 67,
   "id": "da09bd56",
   "metadata": {},
   "outputs": [
    {
     "name": "stdout",
     "output_type": "stream",
     "text": [
      "The accuracy of the AdaBoostClassifier is: 35.19206939281288 %\n",
      "\n",
      "The classification report for AdaBoostClassifier is:\n",
      "              precision    recall  f1-score   support\n",
      "\n",
      "           2       0.00      0.00      0.00        10\n",
      "           3       0.33      0.04      0.07        24\n",
      "           4       0.36      0.14      0.20        86\n",
      "           5       0.21      0.04      0.07       135\n",
      "           6       0.31      0.37      0.34       382\n",
      "           7       0.37      0.46      0.41       504\n",
      "           8       0.50      0.38      0.43       424\n",
      "           9       0.14      0.39      0.21        49\n",
      "\n",
      "    accuracy                           0.35      1614\n",
      "   macro avg       0.28      0.23      0.22      1614\n",
      "weighted avg       0.37      0.35      0.34      1614\n",
      "\n"
     ]
    },
    {
     "data": {
      "image/png": "[encoded data removed]",
      "text/plain": [
       "<Figure size 576x432 with 2 Axes>"
      ]
     },
     "metadata": {
      "needs_background": "light"
     },
     "output_type": "display_data"
    }
   ],
   "source": [
    "print('The accuracy of the AdaBoostClassifier is:', clf.score(x_test,y_test) * 100, '%')\n",
    "generate_results(clf.score(x_test,y_test), y_pred, 'AdaBoostClassifier')"
   ]
  },
  {
   "cell_type": "code",
   "execution_count": null,
   "id": "cf7c2fa9",
   "metadata": {},
   "outputs": [],
   "source": []
  }
 ],
 "metadata": {
  "kernelspec": {
   "display_name": "Python 3",
   "language": "python",
   "name": "python3"
  },
  "language_info": {
   "codemirror_mode": {
    "name": "ipython",
    "version": 3
   },
   "file_extension": ".py",
   "mimetype": "text/x-python",
   "name": "python",
   "nbconvert_exporter": "python",
   "pygments_lexer": "ipython3",
   "version": "3.8.8"
  }
 },
 "nbformat": 4,
 "nbformat_minor": 5
}

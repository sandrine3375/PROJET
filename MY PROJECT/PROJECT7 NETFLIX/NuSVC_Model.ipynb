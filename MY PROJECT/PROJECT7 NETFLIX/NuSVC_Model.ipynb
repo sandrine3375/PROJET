{
 "cells": [
  {
   "cell_type": "code",
   "execution_count": 133,
   "id": "2544a6ff",
   "metadata": {},
   "outputs": [],
   "source": [
    "#Import your libraries\n",
    "import pandas as pd\n",
    "import numpy as np\n",
    "import seaborn as sns\n",
    "import matplotlib.pyplot as plt\n",
    "from sklearn.model_selection import train_test_split\n",
    "from pandas.plotting import parallel_coordinates\n",
    "from sklearn.tree import DecisionTreeClassifier, plot_tree\n",
    "from sklearn import metrics\n",
    "from sklearn.naive_bayes import GaussianNB\n",
    "from sklearn.discriminant_analysis import LinearDiscriminantAnalysis, QuadraticDiscriminantAnalysis\n",
    "from sklearn.neighbors import KNeighborsClassifier\n",
    "from sklearn.svm import SVC\n",
    "from sklearn.linear_model import LogisticRegression"
   ]
  },
  {
   "cell_type": "code",
   "execution_count": 134,
   "id": "6e825fa4",
   "metadata": {},
   "outputs": [],
   "source": [
    "file_url = r'C:\\Users\\Michel\\git2\\Ironhack-DAFT-Project7-ML-Netflix\\imdb_processed_clean_encoded.csv'\n"
   ]
  },
  {
   "cell_type": "code",
   "execution_count": 135,
   "id": "70db66cb",
   "metadata": {},
   "outputs": [],
   "source": [
    "df = pd.read_csv(file_url)"
   ]
  },
  {
   "cell_type": "code",
   "execution_count": 136,
   "id": "6562bc03",
   "metadata": {},
   "outputs": [
    {
     "data": {
      "text/html": [
       "<div>\n",
       "<style scoped>\n",
       "    .dataframe tbody tr th:only-of-type {\n",
       "        vertical-align: middle;\n",
       "    }\n",
       "\n",
       "    .dataframe tbody tr th {\n",
       "        vertical-align: top;\n",
       "    }\n",
       "\n",
       "    .dataframe thead th {\n",
       "        text-align: right;\n",
       "    }\n",
       "</style>\n",
       "<table border=\"1\" class=\"dataframe\">\n",
       "  <thead>\n",
       "    <tr style=\"text-align: right;\">\n",
       "      <th></th>\n",
       "      <th>year</th>\n",
       "      <th>kind</th>\n",
       "      <th>rating</th>\n",
       "      <th>vote</th>\n",
       "      <th>runtime</th>\n",
       "      <th>genre1</th>\n",
       "      <th>genre2</th>\n",
       "      <th>country1</th>\n",
       "      <th>country2</th>\n",
       "      <th>language1</th>\n",
       "      <th>language2</th>\n",
       "      <th>cast1</th>\n",
       "      <th>cast2</th>\n",
       "      <th>director1</th>\n",
       "      <th>director2</th>\n",
       "      <th>composer1</th>\n",
       "      <th>composer2</th>\n",
       "      <th>writer1</th>\n",
       "      <th>writer2</th>\n",
       "    </tr>\n",
       "  </thead>\n",
       "  <tbody>\n",
       "    <tr>\n",
       "      <th>0</th>\n",
       "      <td>2003</td>\n",
       "      <td>2</td>\n",
       "      <td>7.7</td>\n",
       "      <td>474.0</td>\n",
       "      <td>50.000000</td>\n",
       "      <td>6</td>\n",
       "      <td>2</td>\n",
       "      <td>62</td>\n",
       "      <td>71</td>\n",
       "      <td>16</td>\n",
       "      <td>110</td>\n",
       "      <td>817</td>\n",
       "      <td>4941</td>\n",
       "      <td>3923</td>\n",
       "      <td>611</td>\n",
       "      <td>2512</td>\n",
       "      <td>762</td>\n",
       "      <td>3299</td>\n",
       "      <td>2469</td>\n",
       "    </tr>\n",
       "    <tr>\n",
       "      <th>1</th>\n",
       "      <td>1994</td>\n",
       "      <td>7</td>\n",
       "      <td>8.1</td>\n",
       "      <td>18.0</td>\n",
       "      <td>83.000000</td>\n",
       "      <td>8</td>\n",
       "      <td>27</td>\n",
       "      <td>62</td>\n",
       "      <td>71</td>\n",
       "      <td>16</td>\n",
       "      <td>110</td>\n",
       "      <td>3598</td>\n",
       "      <td>381</td>\n",
       "      <td>3659</td>\n",
       "      <td>611</td>\n",
       "      <td>2512</td>\n",
       "      <td>762</td>\n",
       "      <td>4765</td>\n",
       "      <td>3786</td>\n",
       "    </tr>\n",
       "    <tr>\n",
       "      <th>2</th>\n",
       "      <td>1992</td>\n",
       "      <td>1</td>\n",
       "      <td>5.5</td>\n",
       "      <td>93.0</td>\n",
       "      <td>96.828211</td>\n",
       "      <td>0</td>\n",
       "      <td>20</td>\n",
       "      <td>37</td>\n",
       "      <td>71</td>\n",
       "      <td>33</td>\n",
       "      <td>110</td>\n",
       "      <td>2472</td>\n",
       "      <td>1621</td>\n",
       "      <td>4067</td>\n",
       "      <td>611</td>\n",
       "      <td>354</td>\n",
       "      <td>762</td>\n",
       "      <td>2582</td>\n",
       "      <td>1672</td>\n",
       "    </tr>\n",
       "    <tr>\n",
       "      <th>3</th>\n",
       "      <td>2004</td>\n",
       "      <td>1</td>\n",
       "      <td>5.3</td>\n",
       "      <td>13432.0</td>\n",
       "      <td>60.000000</td>\n",
       "      <td>6</td>\n",
       "      <td>4</td>\n",
       "      <td>62</td>\n",
       "      <td>71</td>\n",
       "      <td>16</td>\n",
       "      <td>37</td>\n",
       "      <td>3014</td>\n",
       "      <td>1499</td>\n",
       "      <td>4012</td>\n",
       "      <td>39</td>\n",
       "      <td>410</td>\n",
       "      <td>762</td>\n",
       "      <td>4877</td>\n",
       "      <td>288</td>\n",
       "    </tr>\n",
       "    <tr>\n",
       "      <th>4</th>\n",
       "      <td>1991</td>\n",
       "      <td>1</td>\n",
       "      <td>4.5</td>\n",
       "      <td>2177.0</td>\n",
       "      <td>96.000000</td>\n",
       "      <td>4</td>\n",
       "      <td>13</td>\n",
       "      <td>62</td>\n",
       "      <td>71</td>\n",
       "      <td>16</td>\n",
       "      <td>110</td>\n",
       "      <td>589</td>\n",
       "      <td>3310</td>\n",
       "      <td>1100</td>\n",
       "      <td>611</td>\n",
       "      <td>265</td>\n",
       "      <td>762</td>\n",
       "      <td>2868</td>\n",
       "      <td>405</td>\n",
       "    </tr>\n",
       "  </tbody>\n",
       "</table>\n",
       "</div>"
      ],
      "text/plain": [
       "   year  kind  rating     vote    runtime  genre1  genre2  country1  country2  \\\n",
       "0  2003     2     7.7    474.0  50.000000       6       2        62        71   \n",
       "1  1994     7     8.1     18.0  83.000000       8      27        62        71   \n",
       "2  1992     1     5.5     93.0  96.828211       0      20        37        71   \n",
       "3  2004     1     5.3  13432.0  60.000000       6       4        62        71   \n",
       "4  1991     1     4.5   2177.0  96.000000       4      13        62        71   \n",
       "\n",
       "   language1  language2  cast1  cast2  director1  director2  composer1  \\\n",
       "0         16        110    817   4941       3923        611       2512   \n",
       "1         16        110   3598    381       3659        611       2512   \n",
       "2         33        110   2472   1621       4067        611        354   \n",
       "3         16         37   3014   1499       4012         39        410   \n",
       "4         16        110    589   3310       1100        611        265   \n",
       "\n",
       "   composer2  writer1  writer2  \n",
       "0        762     3299     2469  \n",
       "1        762     4765     3786  \n",
       "2        762     2582     1672  \n",
       "3        762     4877      288  \n",
       "4        762     2868      405  "
      ]
     },
     "execution_count": 136,
     "metadata": {},
     "output_type": "execute_result"
    }
   ],
   "source": [
    "df.head()"
   ]
  },
  {
   "cell_type": "code",
   "execution_count": 137,
   "id": "ac160ab1",
   "metadata": {},
   "outputs": [
    {
     "data": {
      "text/html": [
       "<div>\n",
       "<style scoped>\n",
       "    .dataframe tbody tr th:only-of-type {\n",
       "        vertical-align: middle;\n",
       "    }\n",
       "\n",
       "    .dataframe tbody tr th {\n",
       "        vertical-align: top;\n",
       "    }\n",
       "\n",
       "    .dataframe thead th {\n",
       "        text-align: right;\n",
       "    }\n",
       "</style>\n",
       "<table border=\"1\" class=\"dataframe\">\n",
       "  <thead>\n",
       "    <tr style=\"text-align: right;\">\n",
       "      <th></th>\n",
       "      <th>year</th>\n",
       "      <th>kind</th>\n",
       "      <th>rating</th>\n",
       "      <th>vote</th>\n",
       "      <th>runtime</th>\n",
       "      <th>genre1</th>\n",
       "      <th>genre2</th>\n",
       "      <th>country1</th>\n",
       "      <th>country2</th>\n",
       "      <th>language1</th>\n",
       "      <th>language2</th>\n",
       "      <th>cast1</th>\n",
       "      <th>cast2</th>\n",
       "      <th>director1</th>\n",
       "      <th>director2</th>\n",
       "      <th>composer1</th>\n",
       "      <th>composer2</th>\n",
       "      <th>writer1</th>\n",
       "      <th>writer2</th>\n",
       "    </tr>\n",
       "  </thead>\n",
       "  <tbody>\n",
       "  </tbody>\n",
       "</table>\n",
       "</div>"
      ],
      "text/plain": [
       "Empty DataFrame\n",
       "Columns: [year, kind, rating, vote, runtime, genre1, genre2, country1, country2, language1, language2, cast1, cast2, director1, director2, composer1, composer2, writer1, writer2]\n",
       "Index: []"
      ]
     },
     "execution_count": 137,
     "metadata": {},
     "output_type": "execute_result"
    }
   ],
   "source": [
    "df[df['rating']>9.5]"
   ]
  },
  {
   "cell_type": "code",
   "execution_count": 138,
   "id": "3d6160f5",
   "metadata": {},
   "outputs": [
    {
     "data": {
      "text/plain": [
       "year           int64\n",
       "kind           int64\n",
       "rating       float64\n",
       "vote         float64\n",
       "runtime      float64\n",
       "genre1         int64\n",
       "genre2         int64\n",
       "country1       int64\n",
       "country2       int64\n",
       "language1      int64\n",
       "language2      int64\n",
       "cast1          int64\n",
       "cast2          int64\n",
       "director1      int64\n",
       "director2      int64\n",
       "composer1      int64\n",
       "composer2      int64\n",
       "writer1        int64\n",
       "writer2        int64\n",
       "dtype: object"
      ]
     },
     "execution_count": 138,
     "metadata": {},
     "output_type": "execute_result"
    }
   ],
   "source": [
    "df.dtypes"
   ]
  },
  {
   "cell_type": "code",
   "execution_count": 139,
   "id": "f6fa6dc9",
   "metadata": {},
   "outputs": [],
   "source": [
    "target='rating'"
   ]
  },
  {
   "cell_type": "code",
   "execution_count": 140,
   "id": "5488c324",
   "metadata": {},
   "outputs": [],
   "source": [
    "x=df.drop(columns=target)\n",
    "#x=df_enc.drop(index=[712],columns='survived')\n",
    "#x_check=titanic_enc.tail(1).drop(columns='survived')\n",
    "y=round(df[target]).astype(int)"
   ]
  },
  {
   "cell_type": "code",
   "execution_count": 141,
   "id": "e45efcb1",
   "metadata": {},
   "outputs": [
    {
     "data": {
      "text/plain": [
       "0       8\n",
       "1       8\n",
       "2       6\n",
       "3       5\n",
       "4       4\n",
       "       ..\n",
       "8063    4\n",
       "8064    6\n",
       "8065    5\n",
       "8066    6\n",
       "8067    8\n",
       "Name: rating, Length: 8068, dtype: int32"
      ]
     },
     "execution_count": 141,
     "metadata": {},
     "output_type": "execute_result"
    }
   ],
   "source": [
    "y"
   ]
  },
  {
   "cell_type": "code",
   "execution_count": 142,
   "id": "e7cbe097",
   "metadata": {},
   "outputs": [],
   "source": [
    "from sklearn.feature_selection import RFE\n",
    "from sklearn.ensemble import RandomForestClassifier"
   ]
  },
  {
   "cell_type": "code",
   "execution_count": 143,
   "id": "397963f9",
   "metadata": {},
   "outputs": [
    {
     "data": {
      "text/plain": [
       "0    8\n",
       "1    8\n",
       "2    6\n",
       "3    5\n",
       "4    4\n",
       "Name: rating, dtype: int32"
      ]
     },
     "execution_count": 143,
     "metadata": {},
     "output_type": "execute_result"
    }
   ],
   "source": [
    "y.head()"
   ]
  },
  {
   "cell_type": "code",
   "execution_count": 144,
   "id": "3fffbcfb",
   "metadata": {},
   "outputs": [
    {
     "name": "stdout",
     "output_type": "stream",
     "text": [
      "Fitting estimator with 18 features.\n",
      "Fitting estimator with 17 features.\n",
      "Fitting estimator with 16 features.\n",
      "Fitting estimator with 15 features.\n",
      "Fitting estimator with 14 features.\n",
      "Fitting estimator with 13 features.\n",
      "Fitting estimator with 12 features.\n",
      "Fitting estimator with 11 features.\n",
      "Fitting estimator with 10 features.\n",
      "Fitting estimator with 9 features.\n",
      "Fitting estimator with 8 features.\n",
      "Fitting estimator with 7 features.\n",
      "Fitting estimator with 6 features.\n"
     ]
    }
   ],
   "source": [
    "#METHOD 1:\n",
    "rfe_selector = RFE(estimator=RandomForestClassifier(),n_features_to_select = 5 , step = 1, verbose=1)\n",
    "m=rfe_selector.fit(x, y)"
   ]
  },
  {
   "cell_type": "code",
   "execution_count": 145,
   "id": "bdf831c0",
   "metadata": {},
   "outputs": [
    {
     "name": "stdout",
     "output_type": "stream",
     "text": [
      "Num Features: 5\n",
      "Selected Features: [False False  True False False False False False False False  True  True\n",
      "  True False False False  True False]\n",
      "Feature Ranking: [ 3  9  1  2  6  7  8 11 10 12  1  1  1 14  4 13  1  5]\n"
     ]
    }
   ],
   "source": [
    "x.columns[m.get_support()]\n",
    "print(\"Num Features: %s\" % (m.n_features_))\n",
    "print(\"Selected Features: %s\" % (m.support_))\n",
    "print(\"Feature Ranking: %s\" % (m.ranking_))"
   ]
  },
  {
   "cell_type": "code",
   "execution_count": 146,
   "id": "b75b0c55",
   "metadata": {},
   "outputs": [
    {
     "data": {
      "text/plain": [
       "Index(['vote', 'cast1', 'cast2', 'director1', 'writer1'], dtype='object')"
      ]
     },
     "execution_count": 146,
     "metadata": {},
     "output_type": "execute_result"
    }
   ],
   "source": [
    "x.loc[:, m.support_].columns"
   ]
  },
  {
   "cell_type": "code",
   "execution_count": 147,
   "id": "8eed1027",
   "metadata": {},
   "outputs": [],
   "source": [
    "#METHOD 2:\n",
    "from sklearn.feature_selection import SelectFromModel\n",
    "SFM = SelectFromModel(estimator=RandomForestClassifier())\n",
    "s=SFM.fit(x, y)"
   ]
  },
  {
   "cell_type": "code",
   "execution_count": 148,
   "id": "9d6a4f81",
   "metadata": {},
   "outputs": [
    {
     "data": {
      "text/plain": [
       "9"
      ]
     },
     "execution_count": 148,
     "metadata": {},
     "output_type": "execute_result"
    }
   ],
   "source": [
    "n_features = s.transform(x).shape[1]\n",
    "n_features"
   ]
  },
  {
   "cell_type": "code",
   "execution_count": 149,
   "id": "3b83907e",
   "metadata": {},
   "outputs": [
    {
     "data": {
      "text/plain": [
       "Index(['year', 'vote', 'runtime', 'genre1', 'cast1', 'cast2', 'director1',\n",
       "       'composer1', 'writer1'],\n",
       "      dtype='object')"
      ]
     },
     "execution_count": 149,
     "metadata": {},
     "output_type": "execute_result"
    }
   ],
   "source": [
    "feature_idx = s.get_support()\n",
    "feature_name = x.columns[feature_idx]\n",
    "feature_name "
   ]
  },
  {
   "cell_type": "code",
   "execution_count": 150,
   "id": "378bb48b",
   "metadata": {},
   "outputs": [],
   "source": [
    "#METHOD 3:\n",
    "from sklearn.feature_selection import RFECV"
   ]
  },
  {
   "cell_type": "code",
   "execution_count": 151,
   "id": "d57fc9e1",
   "metadata": {},
   "outputs": [
    {
     "data": {
      "text/plain": [
       "7    2530\n",
       "8    2081\n",
       "6    1910\n",
       "5     703\n",
       "4     395\n",
       "9     272\n",
       "3     132\n",
       "2      45\n",
       "Name: rating, dtype: int64"
      ]
     },
     "execution_count": 151,
     "metadata": {},
     "output_type": "execute_result"
    }
   ],
   "source": [
    "y.value_counts()"
   ]
  },
  {
   "cell_type": "code",
   "execution_count": 155,
   "id": "8e8b2d6d",
   "metadata": {},
   "outputs": [],
   "source": [
    "rfecv = RFECV(\n",
    "    estimator=RandomForestClassifier(),\n",
    "    min_features_to_select=2,\n",
    "    step=5,\n",
    "    n_jobs=-1, #multiprocessing: -1: use all available processor\n",
    "    scoring=\"r2\",\n",
    "    cv=5,\n",
    "    verbose=1\n",
    ")"
   ]
  },
  {
   "cell_type": "code",
   "execution_count": 156,
   "id": "65642858",
   "metadata": {},
   "outputs": [
    {
     "data": {
      "text/plain": [
       "count    8068.000000\n",
       "mean        6.674145\n",
       "std         1.309174\n",
       "min         2.000000\n",
       "25%         6.000000\n",
       "50%         7.000000\n",
       "75%         8.000000\n",
       "max         9.000000\n",
       "Name: rating, dtype: float64"
      ]
     },
     "execution_count": 156,
     "metadata": {},
     "output_type": "execute_result"
    }
   ],
   "source": [
    "y.describe()"
   ]
  },
  {
   "cell_type": "code",
   "execution_count": 157,
   "id": "eecf91c4",
   "metadata": {},
   "outputs": [],
   "source": [
    "m= rfecv.fit(x, y)"
   ]
  },
  {
   "cell_type": "code",
   "execution_count": 158,
   "id": "90716c53",
   "metadata": {},
   "outputs": [
    {
     "data": {
      "text/plain": [
       "18"
      ]
     },
     "execution_count": 158,
     "metadata": {},
     "output_type": "execute_result"
    }
   ],
   "source": [
    "len(x.columns[rfecv.support_])"
   ]
  },
  {
   "cell_type": "code",
   "execution_count": 159,
   "id": "69d653df",
   "metadata": {},
   "outputs": [
    {
     "data": {
      "text/plain": [
       "Index(['year', 'kind', 'vote', 'runtime', 'genre1', 'genre2', 'country1',\n",
       "       'country2', 'language1', 'language2', 'cast1', 'cast2', 'director1',\n",
       "       'director2', 'composer1', 'composer2', 'writer1', 'writer2'],\n",
       "      dtype='object')"
      ]
     },
     "execution_count": 159,
     "metadata": {},
     "output_type": "execute_result"
    }
   ],
   "source": [
    "x.columns[rfecv.support_]"
   ]
  },
  {
   "cell_type": "code",
   "execution_count": 160,
   "id": "c98c111c",
   "metadata": {},
   "outputs": [],
   "source": [
    "#TRAIN_TEST_SPLIT:\n",
    "from sklearn.model_selection import train_test_split"
   ]
  },
  {
   "cell_type": "code",
   "execution_count": 161,
   "id": "76b4956e",
   "metadata": {},
   "outputs": [],
   "source": [
    "x_train, x_test, y_train, y_test = train_test_split(x, y, test_size=0.2, random_state=5)"
   ]
  },
  {
   "cell_type": "code",
   "execution_count": 162,
   "id": "3c407f96",
   "metadata": {},
   "outputs": [],
   "source": [
    "from sklearn.metrics import classification_report\n",
    "from sklearn.metrics import confusion_matrix\n",
    "def generate_results(model, predictions, name):\n",
    "    cl_rep = classification_report(y_test, predictions)\n",
    "    print(\"\\nThe classification report for \" + name + \" is:\", cl_rep, sep = \"\\n\")\n",
    "    cm_model = confusion_matrix(y_test, predictions)\n",
    "    plt.figure(figsize = (8, 6))\n",
    "    sns.heatmap(cm_model, annot = True, cmap = 'Blues', annot_kws = {'size': 15}, square = True)\n",
    "    plt.title('Confusion Matrix for ' + name, size = 15)\n",
    "    plt.xticks(size = 15)\n",
    "    plt.yticks(size = 15)\n",
    "    plt.show() "
   ]
  },
  {
   "cell_type": "code",
   "execution_count": 163,
   "id": "c0c46d5b",
   "metadata": {},
   "outputs": [
    {
     "data": {
      "text/plain": [
       "0       8\n",
       "1       8\n",
       "2       6\n",
       "3       5\n",
       "4       4\n",
       "       ..\n",
       "8063    4\n",
       "8064    6\n",
       "8065    5\n",
       "8066    6\n",
       "8067    8\n",
       "Name: rating, Length: 8068, dtype: int32"
      ]
     },
     "execution_count": 163,
     "metadata": {},
     "output_type": "execute_result"
    }
   ],
   "source": [
    "y"
   ]
  },
  {
   "cell_type": "code",
   "execution_count": 164,
   "id": "f2916564",
   "metadata": {},
   "outputs": [
    {
     "data": {
      "text/plain": [
       "(array([  45.,  132.,  395.,    0.,  703., 1910.,    0., 2530., 2081.,\n",
       "         272.]),\n",
       " array([2. , 2.7, 3.4, 4.1, 4.8, 5.5, 6.2, 6.9, 7.6, 8.3, 9. ]),\n",
       " <BarContainer object of 10 artists>)"
      ]
     },
     "execution_count": 164,
     "metadata": {},
     "output_type": "execute_result"
    },
    {
     "data": {
      "image/png": "[encoded data removed]",
      "text/plain": [
       "<Figure size 432x288 with 1 Axes>"
      ]
     },
     "metadata": {
      "needs_background": "light"
     },
     "output_type": "display_data"
    }
   ],
   "source": [
    "plt.hist(y)"
   ]
  },
  {
   "cell_type": "code",
   "execution_count": 165,
   "id": "5ad9a84d",
   "metadata": {},
   "outputs": [],
   "source": [
    "#HYPERPARAMETER TUNING\n",
    "#METHOD 1 GRID SEARCH :"
   ]
  },
  {
   "cell_type": "code",
   "execution_count": 166,
   "id": "522f07dd",
   "metadata": {},
   "outputs": [],
   "source": [
    "from sklearn.svm import NuSVC"
   ]
  },
  {
   "cell_type": "code",
   "execution_count": 167,
   "id": "831056a8",
   "metadata": {},
   "outputs": [
    {
     "data": {
      "text/plain": [
       "array([0.2, 0.3, 0.4, 0.5, 0.6, 0.7, 0.8, 0.9])"
      ]
     },
     "execution_count": 167,
     "metadata": {},
     "output_type": "execute_result"
    }
   ],
   "source": [
    "np.arange(0.2,1,0.1)"
   ]
  },
  {
   "cell_type": "code",
   "execution_count": 204,
   "id": "1f3da7c1",
   "metadata": {},
   "outputs": [
    {
     "data": {
      "text/plain": [
       "Pipeline(steps=[('standardscaler', StandardScaler()),\n",
       "                ('nusvc', NuSVC(nu=0.008))])"
      ]
     },
     "execution_count": 204,
     "metadata": {},
     "output_type": "execute_result"
    }
   ],
   "source": [
    "from sklearn.pipeline import make_pipeline\n",
    "from sklearn.preprocessing import StandardScaler\n",
    "from sklearn.svm import NuSVC\n",
    "clf = make_pipeline(StandardScaler(), NuSVC(nu=0.008))\n",
    "clf.fit(x_train,y_train)"
   ]
  },
  {
   "cell_type": "code",
   "execution_count": 205,
   "id": "18fb60f1",
   "metadata": {},
   "outputs": [
    {
     "data": {
      "text/plain": [
       "array([8, 7, 7, ..., 6, 7, 4])"
      ]
     },
     "execution_count": 205,
     "metadata": {},
     "output_type": "execute_result"
    }
   ],
   "source": [
    "clf.predict(x_train)"
   ]
  },
  {
   "cell_type": "code",
   "execution_count": 206,
   "id": "bc9fbce9",
   "metadata": {},
   "outputs": [
    {
     "data": {
      "text/plain": [
       "0.7398363906792266"
      ]
     },
     "execution_count": 206,
     "metadata": {},
     "output_type": "execute_result"
    }
   ],
   "source": [
    "clf.score(x,y)"
   ]
  },
  {
   "cell_type": "code",
   "execution_count": 199,
   "id": "ee48f789",
   "metadata": {},
   "outputs": [
    {
     "data": {
      "text/plain": [
       "Pipeline(steps=[('standardscaler', StandardScaler()),\n",
       "                ('nusvc', NuSVC(nu=0.005))])"
      ]
     },
     "execution_count": 199,
     "metadata": {},
     "output_type": "execute_result"
    }
   ],
   "source": [
    "from sklearn.pipeline import make_pipeline\n",
    "from sklearn.preprocessing import StandardScaler\n",
    "from sklearn.svm import NuSVC\n",
    "clf = make_pipeline(StandardScaler(), NuSVC(nu=0.005))\n",
    "clf.fit(x_train,y_train)"
   ]
  },
  {
   "cell_type": "code",
   "execution_count": 200,
   "id": "509d3dd6",
   "metadata": {},
   "outputs": [
    {
     "name": "stdout",
     "output_type": "stream",
     "text": [
      "Fitting 5 folds for each of 9 candidates, totalling 45 fits\n"
     ]
    },
    {
     "data": {
      "text/plain": [
       "GridSearchCV(cv=5, error_score='raise', estimator=NuSVC(), n_jobs=-1,\n",
       "             param_grid={'nu': array([0.001, 0.002, 0.003, 0.004, 0.005, 0.006, 0.007, 0.008, 0.009])},\n",
       "             scoring='accuracy', verbose=1)"
      ]
     },
     "execution_count": 200,
     "metadata": {},
     "output_type": "execute_result"
    }
   ],
   "source": [
    "from sklearn.model_selection import GridSearchCV, RandomizedSearchCV\n",
    "grid_search = GridSearchCV(NuSVC(), #take a model like RFC responsible for searching\n",
    "                           {\n",
    "                              'nu':np.arange(0.001,0.01,0.001)\n",
    "                            \n",
    "                            },error_score=\"raise\", cv=5, scoring=\"accuracy\",verbose=1,n_jobs=-1 #my goal is Accuracy , we want verbosity for more details\n",
    "                           ) #cv = crossvalidation, how many folds you want\n",
    "grid_search.fit(x_train,y_train)"
   ]
  },
  {
   "cell_type": "code",
   "execution_count": 201,
   "id": "2aeff781",
   "metadata": {},
   "outputs": [
    {
     "data": {
      "text/plain": [
       "{'nu': 0.008}"
      ]
     },
     "execution_count": 201,
     "metadata": {},
     "output_type": "execute_result"
    }
   ],
   "source": [
    "grid_search.best_params_"
   ]
  },
  {
   "cell_type": "code",
   "execution_count": 203,
   "id": "37d3e5e5",
   "metadata": {},
   "outputs": [
    {
     "data": {
      "text/plain": [
       "0.13975585298338528"
      ]
     },
     "execution_count": 203,
     "metadata": {},
     "output_type": "execute_result"
    }
   ],
   "source": [
    "grid_search.best_score_"
   ]
  },
  {
   "cell_type": "code",
   "execution_count": 207,
   "id": "23af7b0a",
   "metadata": {},
   "outputs": [
    {
     "name": "stderr",
     "output_type": "stream",
     "text": [
      "C:\\Users\\Michel\\anaconda3\\lib\\site-packages\\sklearn\\model_selection\\_search.py:285: UserWarning: The total space of parameters 9 is smaller than n_iter=10. Running 9 iterations. For exhaustive searches, use GridSearchCV.\n",
      "  warnings.warn(\n"
     ]
    },
    {
     "name": "stdout",
     "output_type": "stream",
     "text": [
      "Fitting 5 folds for each of 9 candidates, totalling 45 fits\n"
     ]
    },
    {
     "data": {
      "text/plain": [
       "RandomizedSearchCV(cv=5, error_score='raise', estimator=NuSVC(), n_jobs=-1,\n",
       "                   param_distributions={'nu': array([0.001, 0.002, 0.003, 0.004, 0.005, 0.006, 0.007, 0.008, 0.009])},\n",
       "                   scoring='accuracy', verbose=1)"
      ]
     },
     "execution_count": 207,
     "metadata": {},
     "output_type": "execute_result"
    }
   ],
   "source": [
    "rand_search = RandomizedSearchCV(NuSVC(),\n",
    "                           {\n",
    "                              'nu':np.arange(0.001,0.01,0.001)\n",
    "                            \n",
    "                            },error_score=\"raise\",cv=5, scoring=\"accuracy\",verbose=1,n_jobs=-1\n",
    "                           )\n",
    "rand_search.fit(x_train,y_train)\n"
   ]
  },
  {
   "cell_type": "code",
   "execution_count": 208,
   "id": "95adcf29",
   "metadata": {},
   "outputs": [
    {
     "data": {
      "text/plain": [
       "{'nu': 0.008}"
      ]
     },
     "execution_count": 208,
     "metadata": {},
     "output_type": "execute_result"
    }
   ],
   "source": [
    "rand_search.best_params_"
   ]
  },
  {
   "cell_type": "code",
   "execution_count": 209,
   "id": "9868b7d6",
   "metadata": {},
   "outputs": [
    {
     "data": {
      "text/plain": [
       "0.13975585298338528"
      ]
     },
     "execution_count": 209,
     "metadata": {},
     "output_type": "execute_result"
    }
   ],
   "source": [
    "rand_search.best_score_"
   ]
  },
  {
   "cell_type": "code",
   "execution_count": 218,
   "id": "62d68d35",
   "metadata": {},
   "outputs": [],
   "source": [
    "from sklearn.metrics import classification_report\n",
    "from sklearn.metrics import confusion_matrix\n",
    "def generate_results(model, predictions, name):\n",
    "    cl_rep = classification_report(y_test, predictions)\n",
    "    print(\"\\nThe classification report for \" + name + \" is:\", cl_rep, sep = \"\\n\")\n",
    "    cm_model = confusion_matrix(y_test, predictions)\n",
    "    plt.figure(figsize = (8, 6))\n",
    "    sns.heatmap(cm_model, annot = True, cmap = 'Blues', annot_kws = {'size': 15}, square = True)\n",
    "    plt.title('Confusion Matrix for ' + name, size = 15)\n",
    "    plt.xticks(size = 15)\n",
    "    plt.yticks(size = 15)\n",
    "    plt.show() "
   ]
  },
  {
   "cell_type": "code",
   "execution_count": null,
   "id": "402abeab",
   "metadata": {},
   "outputs": [],
   "source": [
    "#CHOICE OF MODEL : "
   ]
  },
  {
   "cell_type": "code",
   "execution_count": 210,
   "id": "f9babd8d",
   "metadata": {},
   "outputs": [
    {
     "data": {
      "text/plain": [
       "NuSVC(nu=0.005)"
      ]
     },
     "execution_count": 210,
     "metadata": {},
     "output_type": "execute_result"
    }
   ],
   "source": [
    "nusvc = NuSVC(nu=0.005)\n",
    "nusvc.fit(x_train,y_train)"
   ]
  },
  {
   "cell_type": "code",
   "execution_count": 215,
   "id": "6ae2e473",
   "metadata": {},
   "outputs": [
    {
     "data": {
      "text/plain": [
       "array([9, 9, 7, ..., 7, 8, 7])"
      ]
     },
     "execution_count": 215,
     "metadata": {},
     "output_type": "execute_result"
    }
   ],
   "source": [
    "y_pred=nusvc.predict(x_test)\n",
    "y_pred"
   ]
  },
  {
   "cell_type": "code",
   "execution_count": 217,
   "id": "f33b6d38",
   "metadata": {},
   "outputs": [
    {
     "data": {
      "text/plain": [
       "0.22428748451053285"
      ]
     },
     "execution_count": 217,
     "metadata": {},
     "output_type": "execute_result"
    }
   ],
   "source": [
    "acc_nusvc=nusvc.score(x_test,y_test)\n",
    "acc_nusvc"
   ]
  },
  {
   "cell_type": "code",
   "execution_count": 219,
   "id": "912cadc1",
   "metadata": {},
   "outputs": [
    {
     "name": "stdout",
     "output_type": "stream",
     "text": [
      "The accuracy of the NuSVC is: 22.428748451053284 %\n",
      "\n",
      "The classification report for NUSVC is:\n",
      "              precision    recall  f1-score   support\n",
      "\n",
      "           2       0.00      0.00      0.00        10\n",
      "           3       0.01      0.04      0.02        24\n",
      "           4       0.05      0.03      0.04        86\n",
      "           5       0.07      0.07      0.07       135\n",
      "           6       0.25      0.08      0.12       382\n",
      "           7       0.30      0.52      0.38       504\n",
      "           8       0.29      0.13      0.18       424\n",
      "           9       0.01      0.02      0.01        49\n",
      "\n",
      "    accuracy                           0.22      1614\n",
      "   macro avg       0.12      0.11      0.10      1614\n",
      "weighted avg       0.24      0.22      0.20      1614\n",
      "\n"
     ]
    },
    {
     "data": {
      "image/png": "[encoded data removed]",
      "text/plain": [
       "<Figure size 576x432 with 2 Axes>"
      ]
     },
     "metadata": {
      "needs_background": "light"
     },
     "output_type": "display_data"
    }
   ],
   "source": [
    "print('The accuracy of the NuSVC is:', acc_nusvc * 100, '%')\n",
    "generate_results(acc_nusvc, y_pred, 'NUSVC')"
   ]
  },
  {
   "cell_type": "code",
   "execution_count": null,
   "id": "f6236072",
   "metadata": {},
   "outputs": [],
   "source": []
  }
 ],
 "metadata": {
  "kernelspec": {
   "display_name": "Python 3",
   "language": "python",
   "name": "python3"
  },
  "language_info": {
   "codemirror_mode": {
    "name": "ipython",
    "version": 3
   },
   "file_extension": ".py",
   "mimetype": "text/x-python",
   "name": "python",
   "nbconvert_exporter": "python",
   "pygments_lexer": "ipython3",
   "version": "3.8.8"
  }
 },
 "nbformat": 4,
 "nbformat_minor": 5
}
